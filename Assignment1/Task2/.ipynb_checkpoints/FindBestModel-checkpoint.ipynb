{
 "cells": [
  {
   "cell_type": "code",
   "execution_count": 15,
   "id": "c6448aea",
   "metadata": {},
   "outputs": [],
   "source": [
    "import numpy as np\n",
    "import pandas as pd\n",
    "import matplotlib.pyplot as plt\n",
    "\n",
    "from sklearn.ensemble import RandomForestClassifier, AdaBoostClassifier, GradientBoostingClassifier\n",
    "from xgboost import XGBClassifier\n",
    "from sklearn.neighbors import KNeighborsClassifier\n",
    "from sklearn.tree import DecisionTreeClassifier\n",
    "from sklearn.svm import SVC, LinearSVC\n",
    "from sklearn.linear_model import LogisticRegression, Perceptron, SGDClassifier\n",
    "from sklearn.preprocessing import StandardScaler\n",
    "from sklearn.metrics import accuracy_score, classification_report, confusion_matrix, ConfusionMatrixDisplay\n",
    "from sklearn.model_selection import train_test_split, cross_validate\n",
    "from sklearn.naive_bayes import GaussianNB\n"
   ]
  },
  {
   "cell_type": "code",
   "execution_count": 16,
   "id": "db997a42",
   "metadata": {},
   "outputs": [],
   "source": [
    "df_train = pd.read_csv('train.csv')"
   ]
  },
  {
   "cell_type": "code",
   "execution_count": 17,
   "id": "70ff69d3",
   "metadata": {},
   "outputs": [
    {
     "name": "stderr",
     "output_type": "stream",
     "text": [
      "D:\\Anaconda\\lib\\site-packages\\pandas\\core\\indexing.py:1637: SettingWithCopyWarning: \n",
      "A value is trying to be set on a copy of a slice from a DataFrame\n",
      "\n",
      "See the caveats in the documentation: https://pandas.pydata.org/pandas-docs/stable/user_guide/indexing.html#returning-a-view-versus-a-copy\n",
      "  self._setitem_single_block(indexer, value, name)\n"
     ]
    }
   ],
   "source": [
    "df_train = df_train.fillna({\"Embarked\": \"S\"})\n",
    "#df_test = df_test.fillna({\"Fare\": 7.89580})\n",
    "df_train['Age'] = df_train.groupby(['Sex', 'Pclass'])['Age'].apply(lambda x: x.fillna(x.median()))\n",
    "df_train['AgeBand'] = pd.qcut(df_train['Age'], 10, labels = [1, 2, 3, 4, 5, 6, 7, 8, 9, 10])\n",
    "df_train['Sex'] = df_train['Sex'].map({\"male\": 0, \"female\": 1})\n",
    "df_train['Ticket_Frequency'] = df_train.groupby('Ticket')['Ticket'].transform('count')\n",
    "df_train['FareBand'] = pd.qcut(df_train['Fare'], 10, labels = [1, 2, 3, 4, 5, 6, 7, 8, 9, 10])\n",
    "\n",
    "df_train['Title'] = df_train['Name'].str.split(', ', expand=True)[1].str.split('.', expand=True)[0]\n",
    "df_train['Is_Married'] = 0\n",
    "df_train['Is_Married'].loc[df_train['Title'] == 'Mrs'] = 1\n",
    "df_train['Title'] = df_train['Title'].replace(['Miss', 'Mrs','Ms', 'Mlle', 'Lady', 'Mme', 'the Countess', 'Dona'], 'Miss/Mrs/Ms')\n",
    "df_train['Title'] = df_train['Title'].replace(['Dr', 'Col', 'Major', 'Jonkheer', 'Capt', 'Sir', 'Don', 'Rev'], 'Dr/Military/Noble/Clergy')\n",
    "df_train['Title'] = df_train['Title'].map({\"Mr\": 0, \"Miss/Mrs/Ms\": 1, \"Master\": 2, \"Dr/Military/Noble/Clergy\": 3})\n",
    "df_train['Title'].fillna(0, inplace=True)\n",
    "\n",
    "df_train['FamilySize'] = df_train['SibSp'] + df_train['Parch'] + 1\n",
    "df_train['IsAlone'] = 0\n",
    "df_train.loc[df_train['FamilySize'] == 1, 'IsAlone'] = 1\n",
    "\n",
    "df_train['Cabin'].fillna('U', inplace=True)\n",
    "df_train['Cabin'] = df_train['Cabin'].apply(lambda x: x[0])\n",
    "replacement = {\n",
    "    'T': 0,\n",
    "    'U': 1,\n",
    "    'A': 2,\n",
    "    'G': 3,\n",
    "    'C': 4,\n",
    "    'F': 5,\n",
    "    'B': 6,\n",
    "    'E': 7,\n",
    "    'D': 8\n",
    "}\n",
    "\n",
    "df_train['Cabin'] = df_train['Cabin'].apply(lambda x: replacement.get(x))\n",
    "df_train['Cabin'] = StandardScaler().fit_transform(df_train['Cabin'].values.reshape(-1, 1))\n",
    "\n",
    "df_train['Embarked'] = df_train['Embarked'].map({\"S\": 0, \"Q\": 1, \"C\": 2})\n"
   ]
  },
  {
   "cell_type": "code",
   "execution_count": 18,
   "id": "4ef6201a",
   "metadata": {},
   "outputs": [],
   "source": [
    "df_train['IsWomanOrBoy'] = ((df_train.Title == 'Master') | (df_train.Sex == 'female'))\n",
    "df_train['LastName'] = df_train.Name.str.split(',').str[0]\n",
    "family = df_train.groupby(df_train.LastName).Survived\n",
    "df_train['WomanOrBoyCount'] = family.transform(lambda s: s[df_train.IsWomanOrBoy].fillna(0).count())\n",
    "df_train['WomanOrBoyCount'] = df_train.mask(df_train.IsWomanOrBoy, df_train.WomanOrBoyCount - 1, axis=0)\n",
    "df_train['FamilySurvivedCount'] = family.transform(lambda s: s[df_train.IsWomanOrBoy].fillna(0).sum())\n",
    "df_train['FamilySurvivedCount'] = df_train.mask(df_train.IsWomanOrBoy, df_train.FamilySurvivedCount - df_train.Survived.fillna(0), axis=0)\n",
    "df_train['WomanOrBoySurvived'] = df_train.FamilySurvivedCount / df_train.WomanOrBoyCount.replace(0, np.nan)\n",
    "df_train['Alone'] = (df_train.WomanOrBoyCount == 0)\n",
    "\n",
    "\n"
   ]
  },
  {
   "cell_type": "markdown",
   "id": "653c2d34",
   "metadata": {},
   "source": [
    "proper_test = pd.read_csv('TITANICTEST.csv')\n",
    "proper_test['Cabin'].fillna('U', inplace=True)\n",
    "proper_test['Cabin'] = proper_test['Cabin'].apply(lambda x: x[0])\n",
    "proper_test = proper_test.fillna({\"Fare\": 7.89580})\n",
    "proper_test['Age'] = proper_test.groupby(['Sex', 'Pclass'])['Age'].apply(lambda x: x.fillna(x.median()))\n",
    "proper_test['AgeBand'] = pd.qcut(proper_test['Age'], 10, labels = [1, 2, 3, 4, 5, 6, 7, 8, 9, 10])\n",
    "proper_test['Sex'] = proper_test['Sex'].map({\"male\": 0, \"female\": 1})\n",
    "proper_test['FareBand'] = pd.qcut(proper_test['Fare'], 4, labels = [1, 2, 3, 4])\n",
    "proper_test['FamilySize'] = proper_test['SibSp'] + proper_test['Parch'] + 1\n",
    "proper_test['Ticket_Frequency'] = proper_test.groupby('Ticket')['Ticket'].transform('count')\n",
    "proper_test['IsAlone'] = 0\n",
    "proper_test = proper_test.fillna({\"Embarked\": \"S\"})\n",
    "proper_test['Cabin'] = proper_test['Cabin'].apply(lambda x: replacement.get(x))\n",
    "proper_test['Cabin'] = StandardScaler().fit_transform(proper_test['Cabin'].values.reshape(-1, 1))\n",
    "proper_test['Pclass'] = proper_test['Pclass']\n",
    "proper_test.loc[proper_test['FamilySize'] == 1, 'IsAlone'] = 1\n",
    "proper_test['Title'] = proper_test['Name'].str.split(', ', expand=True)[1].str.split('.', expand=True)[0]\n",
    "proper_test['Is_Married'] = 0\n",
    "proper_test['Is_Married'].loc[proper_test['Title'] == 'Mrs'] = 1\n",
    "proper_test['Title'] = proper_test['Title'].replace(['Miss', 'Mrs','Ms', 'Mlle', 'Lady', 'Mme', 'the Countess', 'Dona'], 'Miss/Mrs/Ms')\n",
    "proper_test['Title'] = proper_test['Title'].map({\"Mr\": 0, \"Miss/Mrs/Ms\": 1, \"Master\": 2, \"Dr/Military/Noble/Clergy\": 3})\n",
    "proper_test['Title'].fillna(0, inplace=True)\n",
    "proper_test['Embarked'] = proper_test['Embarked'].map({\"S\": 0, \"Q\": 1, \"C\": 2})"
   ]
  },
  {
   "cell_type": "markdown",
   "id": "fcffa438",
   "metadata": {},
   "source": [
    "proper_test['IsWomanOrBoy'] = ((proper_test.Title == 'Master') | (proper_test.Sex == 'female'))\n",
    "proper_test['LastName'] = proper_test.Name.str.split(',').str[0]\n",
    "family = proper_test.groupby(proper_test.LastName).Survived\n",
    "proper_test['WomanOrBoyCount'] = family.transform(lambda s: s[proper_test.IsWomanOrBoy].fillna(0).count())\n",
    "proper_test['WomanOrBoyCount'] = proper_test.mask(proper_test.IsWomanOrBoy, proper_test.WomanOrBoyCount - 1, axis=0)\n",
    "proper_test['FamilySurvivedCount'] = family.transform(lambda s: s[proper_test.IsWomanOrBoy].fillna(0).sum())\n",
    "proper_test['FamilySurvivedCount'] = proper_test.mask(df_train.IsWomanOrBoy, proper_test.FamilySurvivedCount - df_train.Survived.fillna(0), axis=0)\n",
    "proper_test['WomanOrBoySurvived'] = proper_test.FamilySurvivedCount / proper_test.WomanOrBoyCount.replace(0, np.nan)\n",
    "proper_test['Alone'] = (proper_test.WomanOrBoyCount == 0)"
   ]
  },
  {
   "cell_type": "markdown",
   "id": "9dcd8af7",
   "metadata": {},
   "source": [
    "import itertools\n",
    "\n",
    "\n",
    "\n",
    "max_acc = 0\n",
    "#features = [\"Pclass\", \"Sex\",\"Embarked\",\"Ticket_Frequency\",\"Age\", \"Fare\", \"FamilySize\", \"Title\", \"Is_Married\",\"IsAlone\", \"Cabin\"]\n",
    "\n",
    "\n",
    "features = [ 'Pclass', 'Sex', 'Cabin', 'AgeBand',\n",
    "       'Ticket_Frequency', 'FareBand', 'FamilySize',\n",
    "       'IsAlone', 'IsWomanOrBoy',\n",
    "       'FamilySurvivedCount', 'WomanOrBoySurvived', 'Alone']\n",
    "#features = [\"Pclass\",\"AgeBand\", \"Sex\",\"Ticket_Frequency\", \"FareBand\", \"FamilySize\", \"Title\", \"Is_Married\",\"IsAlone\", \"Cabin\"]\n",
    "for L in range(3, len(features)+1):\n",
    "    for subset in itertools.combinations(features, L):\n",
    "        feat = list(subset)\n",
    "        X = df_train[feat]\n",
    "        y =  df_train.Survived\n",
    "        X_test = proper_test[feat]\n",
    "        model = RandomForestClassifier()\n",
    "        #model = RandomForestClassifier(criterion='gini',n_estimators=1100,max_depth=5,min_samples_split=4,min_samples_leaf=5,max_features='auto',oob_score=True,random_state=42,n_jobs=-1,verbose=0)\n",
    "        #model = GradientBoostingClassifier(n_estimators=100, max_depth=5, random_state=1)\n",
    "        #model = XGBClassifier(n_estimators=100, max_depth=5, random_state=1, verbosity = 0)\n",
    "        model.fit(X, y)\n",
    "        X = proper_test[feat]\n",
    "        pred = model.predict(X)\n",
    "\n",
    "        y = proper_test.Survived\n",
    "        if accuracy_score(y, pred) > max_acc:\n",
    "            max_acc = accuracy_score(y, pred)\n",
    "            print(feat,accuracy_score(y, pred))"
   ]
  },
  {
   "cell_type": "code",
   "execution_count": 21,
   "id": "5086e5ea",
   "metadata": {},
   "outputs": [
    {
     "name": "stdout",
     "output_type": "stream",
     "text": [
      "0.8022388059701493\n"
     ]
    }
   ],
   "source": [
    "features = ['Pclass', 'IsWomanOrBoy', 'WomanOrBoySurvived', 'Alone', 'AgeBand', 'Sex', 'FareBand', 'FamilySize', 'Is_Married']\n",
    "\n",
    "X = df_train[features]\n",
    "y =  df_train.Survived\n",
    "x_train, x_val, y_train, y_val = train_test_split(X, y, test_size = 0.3, random_state = 0)\n",
    "\n",
    "\n",
    "model = RandomForestClassifier()\n",
    "model.fit(x_train, y_train)\n",
    "\n",
    "\n",
    "pred = model.predict(x_val)\n",
    "print(accuracy_score(y_val, pred))"
   ]
  },
  {
   "cell_type": "code",
   "execution_count": 22,
   "id": "b80a804a",
   "metadata": {},
   "outputs": [],
   "source": [
    "from sklearn.metrics import classification_report, confusion_matrix, ConfusionMatrixDisplay\n",
    "from sklearn.model_selection import train_test_split, cross_validate"
   ]
  },
  {
   "cell_type": "code",
   "execution_count": 23,
   "id": "a97df267",
   "metadata": {},
   "outputs": [
    {
     "name": "stdout",
     "output_type": "stream",
     "text": [
      "              precision    recall  f1-score   support\n",
      "\n",
      "           0       0.82      0.87      0.85       168\n",
      "           1       0.76      0.69      0.72       100\n",
      "\n",
      "    accuracy                           0.80       268\n",
      "   macro avg       0.79      0.78      0.78       268\n",
      "weighted avg       0.80      0.80      0.80       268\n",
      "\n"
     ]
    },
    {
     "data": {
      "image/png": "[encoded data removed]",
      "text/plain": [
       "<Figure size 432x288 with 2 Axes>"
      ]
     },
     "metadata": {
      "needs_background": "light"
     },
     "output_type": "display_data"
    }
   ],
   "source": [
    "print(classification_report(y_val, pred))\n",
    "\n",
    "cm = confusion_matrix(y_val, pred, labels=model.classes_)\n",
    "disp = ConfusionMatrixDisplay(confusion_matrix=cm, display_labels=model.classes_)\n",
    "disp.plot()\n",
    "plt.show()"
   ]
  },
  {
   "cell_type": "code",
   "execution_count": 24,
   "id": "a4b1916e",
   "metadata": {},
   "outputs": [
    {
     "name": "stdout",
     "output_type": "stream",
     "text": [
      "0.8208955223880597\n"
     ]
    },
    {
     "name": "stderr",
     "output_type": "stream",
     "text": [
      "D:\\Anaconda\\lib\\site-packages\\sklearn\\utils\\validation.py:63: FutureWarning: Arrays of bytes/strings is being converted to decimal numbers if dtype='numeric'. This behavior is deprecated in 0.24 and will be removed in 1.1 (renaming of 0.26). Please convert your data to numeric values explicitly instead.\n",
      "  return f(*args, **kwargs)\n"
     ]
    }
   ],
   "source": [
    "features = ['Pclass', 'IsWomanOrBoy', 'WomanOrBoySurvived', 'Alone', 'AgeBand', 'Sex', 'FareBand', 'FamilySize', 'Is_Married']\n",
    "from sklearn.linear_model import LogisticRegression\n",
    "X = df_train[features]\n",
    "y =  df_train.Survived\n",
    "x_train, x_val, y_train, y_val = train_test_split(X, y, test_size = 0.3, random_state = 0)\n",
    "\n",
    "\n",
    "model = LogisticRegression()\n",
    "model.fit(x_train, y_train)\n",
    "\n",
    "\n",
    "pred = model.predict(x_val)\n",
    "print(accuracy_score(y_val, pred))"
   ]
  },
  {
   "cell_type": "code",
   "execution_count": 25,
   "id": "f52420aa",
   "metadata": {},
   "outputs": [
    {
     "name": "stdout",
     "output_type": "stream",
     "text": [
      "              precision    recall  f1-score   support\n",
      "\n",
      "           0       0.84      0.88      0.86       168\n",
      "           1       0.78      0.73      0.75       100\n",
      "\n",
      "    accuracy                           0.82       268\n",
      "   macro avg       0.81      0.80      0.81       268\n",
      "weighted avg       0.82      0.82      0.82       268\n",
      "\n"
     ]
    },
    {
     "data": {
      "image/png": "[encoded data removed]",
      "text/plain": [
       "<Figure size 432x288 with 2 Axes>"
      ]
     },
     "metadata": {
      "needs_background": "light"
     },
     "output_type": "display_data"
    }
   ],
   "source": [
    "print(classification_report(y_val, pred))\n",
    "\n",
    "cm = confusion_matrix(y_val, pred, labels=model.classes_)\n",
    "disp = ConfusionMatrixDisplay(confusion_matrix=cm, display_labels=model.classes_)\n",
    "disp.plot()\n",
    "plt.show()"
   ]
  }
 ],
 "metadata": {
  "kernelspec": {
   "display_name": "Python 3",
   "language": "python",
   "name": "python3"
  },
  "language_info": {
   "codemirror_mode": {
    "name": "ipython",
    "version": 3
   },
   "file_extension": ".py",
   "mimetype": "text/x-python",
   "name": "python",
   "nbconvert_exporter": "python",
   "pygments_lexer": "ipython3",
   "version": "3.8.8"
  }
 },
 "nbformat": 4,
 "nbformat_minor": 5
}
