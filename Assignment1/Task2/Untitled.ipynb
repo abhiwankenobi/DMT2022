{
 "cells": [
  {
   "cell_type": "code",
   "execution_count": 31,
   "id": "f29448a6",
   "metadata": {},
   "outputs": [],
   "source": [
    "import pandas as pd\n",
    "import matplotlib.pyplot as plt\n",
    "import numpy as np"
   ]
  },
  {
   "cell_type": "code",
   "execution_count": 32,
   "id": "32caebc4",
   "metadata": {},
   "outputs": [],
   "source": [
    "df = pd.read_csv(\"damn.csv\")"
   ]
  },
  {
   "cell_type": "code",
   "execution_count": 33,
   "id": "81d9fe7d",
   "metadata": {},
   "outputs": [
    {
     "data": {
      "text/html": [
       "<div>\n",
       "<style scoped>\n",
       "    .dataframe tbody tr th:only-of-type {\n",
       "        vertical-align: middle;\n",
       "    }\n",
       "\n",
       "    .dataframe tbody tr th {\n",
       "        vertical-align: top;\n",
       "    }\n",
       "\n",
       "    .dataframe thead th {\n",
       "        text-align: right;\n",
       "    }\n",
       "</style>\n",
       "<table border=\"1\" class=\"dataframe\">\n",
       "  <thead>\n",
       "    <tr style=\"text-align: right;\">\n",
       "      <th></th>\n",
       "      <th>Time you went to be Yesterday</th>\n",
       "    </tr>\n",
       "  </thead>\n",
       "  <tbody>\n",
       "    <tr>\n",
       "      <th>0</th>\n",
       "      <td>23:00</td>\n",
       "    </tr>\n",
       "    <tr>\n",
       "      <th>1</th>\n",
       "      <td>14:00</td>\n",
       "    </tr>\n",
       "    <tr>\n",
       "      <th>2</th>\n",
       "      <td>7:20</td>\n",
       "    </tr>\n",
       "    <tr>\n",
       "      <th>3</th>\n",
       "      <td>21:30</td>\n",
       "    </tr>\n",
       "    <tr>\n",
       "      <th>4</th>\n",
       "      <td>0:35</td>\n",
       "    </tr>\n",
       "    <tr>\n",
       "      <th>...</th>\n",
       "      <td>...</td>\n",
       "    </tr>\n",
       "    <tr>\n",
       "      <th>261</th>\n",
       "      <td>2:30</td>\n",
       "    </tr>\n",
       "    <tr>\n",
       "      <th>262</th>\n",
       "      <td>5:00</td>\n",
       "    </tr>\n",
       "    <tr>\n",
       "      <th>263</th>\n",
       "      <td>21:00</td>\n",
       "    </tr>\n",
       "    <tr>\n",
       "      <th>264</th>\n",
       "      <td>0:00</td>\n",
       "    </tr>\n",
       "    <tr>\n",
       "      <th>265</th>\n",
       "      <td>4:00</td>\n",
       "    </tr>\n",
       "  </tbody>\n",
       "</table>\n",
       "<p>266 rows × 1 columns</p>\n",
       "</div>"
      ],
      "text/plain": [
       "    Time you went to be Yesterday\n",
       "0                           23:00\n",
       "1                           14:00\n",
       "2                            7:20\n",
       "3                           21:30\n",
       "4                            0:35\n",
       "..                            ...\n",
       "261                          2:30\n",
       "262                          5:00\n",
       "263                         21:00\n",
       "264                          0:00\n",
       "265                          4:00\n",
       "\n",
       "[266 rows x 1 columns]"
      ]
     },
     "execution_count": 33,
     "metadata": {},
     "output_type": "execute_result"
    }
   ],
   "source": [
    "df"
   ]
  },
  {
   "cell_type": "code",
   "execution_count": 34,
   "id": "504c0a43",
   "metadata": {},
   "outputs": [
    {
     "data": {
      "image/png": "[encoded data removed]",
      "text/plain": [
       "<Figure size 432x288 with 1 Axes>"
      ]
     },
     "metadata": {
      "needs_background": "light"
     },
     "output_type": "display_data"
    }
   ],
   "source": [
    "df['date'] = pd.to_datetime(df['Time you went to be Yesterday'])\n",
    "# group time every 2h\n",
    "df = df.groupby(df.date.dt.floor('1H')).count()\n",
    "\n",
    "# plot data\n",
    "fig, ax1 = plt.subplots()\n",
    "ax1.set_xticks(np.arange(0, 24, 1))\n",
    "#ax1.set_xticklabels(['8-10', '10-12', '12-14', '14-16'])\n",
    "plt.plot(df.index.hour, df.date, '*')\n",
    "plt.show()"
   ]
  },
  {
   "cell_type": "code",
   "execution_count": 35,
   "id": "f870a29d",
   "metadata": {},
   "outputs": [
    {
     "data": {
      "text/plain": [
       "DatetimeIndex(['2022-04-19 00:00:00', '2022-04-19 01:00:00',\n",
       "               '2022-04-19 02:00:00', '2022-04-19 03:00:00',\n",
       "               '2022-04-19 04:00:00', '2022-04-19 05:00:00',\n",
       "               '2022-04-19 06:00:00', '2022-04-19 07:00:00',\n",
       "               '2022-04-19 09:00:00', '2022-04-19 11:00:00',\n",
       "               '2022-04-19 12:00:00', '2022-04-19 13:00:00',\n",
       "               '2022-04-19 14:00:00', '2022-04-19 15:00:00',\n",
       "               '2022-04-19 17:00:00', '2022-04-19 19:00:00',\n",
       "               '2022-04-19 20:00:00', '2022-04-19 21:00:00',\n",
       "               '2022-04-19 22:00:00', '2022-04-19 23:00:00'],\n",
       "              dtype='datetime64[ns]', name='date', freq=None)"
      ]
     },
     "execution_count": 35,
     "metadata": {},
     "output_type": "execute_result"
    }
   ],
   "source": [
    "df.index"
   ]
  },
  {
   "cell_type": "code",
   "execution_count": null,
   "id": "bcd91478",
   "metadata": {},
   "outputs": [],
   "source": []
  }
 ],
 "metadata": {
  "kernelspec": {
   "display_name": "Python 3",
   "language": "python",
   "name": "python3"
  },
  "language_info": {
   "codemirror_mode": {
    "name": "ipython",
    "version": 3
   },
   "file_extension": ".py",
   "mimetype": "text/x-python",
   "name": "python",
   "nbconvert_exporter": "python",
   "pygments_lexer": "ipython3",
   "version": "3.8.8"
  }
 },
 "nbformat": 4,
 "nbformat_minor": 5
}
