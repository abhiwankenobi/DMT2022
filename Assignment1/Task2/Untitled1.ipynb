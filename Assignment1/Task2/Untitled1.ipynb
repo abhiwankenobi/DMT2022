{
 "cells": [
  {
   "cell_type": "code",
   "execution_count": 1,
   "id": "745d3f16",
   "metadata": {},
   "outputs": [],
   "source": [
    "import pandas as pd\n",
    "import matplotlib.pyplot as plt\n",
    "import numpy as np\n",
    "import spacy"
   ]
  },
  {
   "cell_type": "code",
   "execution_count": 4,
   "id": "d90bb307",
   "metadata": {},
   "outputs": [],
   "source": [
    "word = pd.read_excel(\"ODI-2022.xlsx\")"
   ]
  },
  {
   "cell_type": "code",
   "execution_count": 11,
   "id": "ce06ef18",
   "metadata": {},
   "outputs": [
    {
     "data": {
      "text/plain": [
       "Index(['Tijdstempel', 'What programme are you in?',\n",
       "       'Have you taken a course on machine learning?',\n",
       "       'Have you taken a course on information retrieval?',\n",
       "       'Have you taken a course on statistics?',\n",
       "       'Have you taken a course on databases?', 'What is your gender?',\n",
       "       'Chocolate makes you.....', 'When is your birthday (date)?',\n",
       "       'Number of neighbors sitting around you?', 'Did you stand up?',\n",
       "       'What is your stress level (0-100)?',\n",
       "       'You can get 100 euros if you win a local DM competition, or we don’t hold any competitions and I give everyone some money (not the same amount!). How much do you think you would deserve then? ',\n",
       "       'Give a random number', 'Time you went to be Yesterday',\n",
       "       'What makes a good day for you (1)?',\n",
       "       'What makes a good day for you (2)?'],\n",
       "      dtype='object')"
      ]
     },
     "execution_count": 11,
     "metadata": {},
     "output_type": "execute_result"
    }
   ],
   "source": [
    "word.columns"
   ]
  },
  {
   "cell_type": "code",
   "execution_count": 14,
   "id": "7fdae61e",
   "metadata": {},
   "outputs": [
    {
     "data": {
      "text/plain": [
       "0            coffee\n",
       "1              7777\n",
       "2                 0\n",
       "3         good food\n",
       "4          Sunshine\n",
       "           ...     \n",
       "299             Yes\n",
       "300               9\n",
       "301       Good food\n",
       "302    nice weather\n",
       "303               -\n",
       "Name: What makes a good day for you (1)?, Length: 304, dtype: object"
      ]
     },
     "execution_count": 14,
     "metadata": {},
     "output_type": "execute_result"
    }
   ],
   "source": [
    "word['What makes a good day for you (1)?']"
   ]
  },
  {
   "cell_type": "code",
   "execution_count": null,
   "id": "8f20abcd",
   "metadata": {},
   "outputs": [],
   "source": []
  }
 ],
 "metadata": {
  "kernelspec": {
   "display_name": "Python 3",
   "language": "python",
   "name": "python3"
  },
  "language_info": {
   "codemirror_mode": {
    "name": "ipython",
    "version": 3
   },
   "file_extension": ".py",
   "mimetype": "text/x-python",
   "name": "python",
   "nbconvert_exporter": "python",
   "pygments_lexer": "ipython3",
   "version": "3.8.8"
  }
 },
 "nbformat": 4,
 "nbformat_minor": 5
}
