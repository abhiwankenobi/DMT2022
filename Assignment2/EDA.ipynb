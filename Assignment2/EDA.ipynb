{
 "cells": [
  {
   "cell_type": "code",
   "execution_count": 80,
   "id": "f3316a67",
   "metadata": {},
   "outputs": [],
   "source": [
    "import pandas as pd\n",
    "import matplotlib.pyplot as plt\n",
    "import numpy as np\n",
    "import time\n",
    "import seaborn as sns\n",
    "from collections import Counter\n",
    "from dateutil.relativedelta import relativedelta"
   ]
  },
  {
   "cell_type": "code",
   "execution_count": 81,
   "id": "5246a67a",
   "metadata": {},
   "outputs": [],
   "source": [
    "pd.set_option('max_columns', None)"
   ]
  },
  {
   "cell_type": "code",
   "execution_count": 82,
   "id": "6c6acd51",
   "metadata": {},
   "outputs": [
    {
     "name": "stdout",
     "output_type": "stream",
     "text": [
      "Train set loaded in  55.01755714416504  seconds.\n"
     ]
    }
   ],
   "source": [
    "start = time.time()\n",
    "df_train = pd.read_csv(\"raw_data/train_data.csv\", parse_dates=[1])\n",
    "df_test = pd.read_csv(\"raw_data/test_set_VU_DM.csv\")\n",
    "end = time.time()\n",
    "print(\"Train set loaded in \", end - start, \" seconds.\")"
   ]
  },
  {
   "cell_type": "code",
   "execution_count": 83,
   "id": "82f4b397",
   "metadata": {},
   "outputs": [
    {
     "data": {
      "text/plain": [
       "srch_id                              0\n",
       "date_time                            0\n",
       "site_id                              0\n",
       "visitor_location_country_id          0\n",
       "visitor_hist_starrating        4706481\n",
       "visitor_hist_adr_usd           4705359\n",
       "prop_country_id                      0\n",
       "prop_id                              0\n",
       "prop_starrating                      0\n",
       "prop_review_score                 7364\n",
       "prop_brand_bool                      0\n",
       "prop_location_score1                 0\n",
       "prop_location_score2           1090348\n",
       "prop_log_historical_price            0\n",
       "position                             0\n",
       "price_usd                            0\n",
       "promotion_flag                       0\n",
       "srch_destination_id                  0\n",
       "srch_length_of_stay                  0\n",
       "srch_booking_window                  0\n",
       "srch_adults_count                    0\n",
       "srch_children_count                  0\n",
       "srch_room_count                      0\n",
       "srch_saturday_night_bool             0\n",
       "srch_query_affinity_score      4640941\n",
       "orig_destination_distance      1607782\n",
       "random_bool                          0\n",
       "comp1_rate                     4838417\n",
       "comp1_inv                      4828788\n",
       "comp1_rate_percent_diff        4863908\n",
       "comp2_rate                     2933675\n",
       "comp2_inv                      2828078\n",
       "comp2_rate_percent_diff        4402109\n",
       "comp3_rate                     3424059\n",
       "comp3_inv                      3307357\n",
       "comp3_rate_percent_diff        4485550\n",
       "comp4_rate                     4650969\n",
       "comp4_inv                      4614684\n",
       "comp4_rate_percent_diff        4827261\n",
       "comp5_rate                     2735974\n",
       "comp5_inv                      2598327\n",
       "comp5_rate_percent_diff        4117248\n",
       "comp6_rate                     4718190\n",
       "comp6_inv                      4697371\n",
       "comp6_rate_percent_diff        4862173\n",
       "comp7_rate                     4642999\n",
       "comp7_inv                      4601925\n",
       "comp7_rate_percent_diff        4819832\n",
       "comp8_rate                     3041693\n",
       "comp8_inv                      2970844\n",
       "comp8_rate_percent_diff        4343617\n",
       "click_bool                           0\n",
       "gross_bookings_usd             4819957\n",
       "booking_bool                         0\n",
       "dtype: int64"
      ]
     },
     "execution_count": 83,
     "metadata": {},
     "output_type": "execute_result"
    }
   ],
   "source": [
    "df_train.isnull().sum()"
   ]
  },
  {
   "cell_type": "code",
   "execution_count": 84,
   "id": "dbe8892c",
   "metadata": {},
   "outputs": [
    {
     "data": {
      "text/html": [
       "<div>\n",
       "<style scoped>\n",
       "    .dataframe tbody tr th:only-of-type {\n",
       "        vertical-align: middle;\n",
       "    }\n",
       "\n",
       "    .dataframe tbody tr th {\n",
       "        vertical-align: top;\n",
       "    }\n",
       "\n",
       "    .dataframe thead th {\n",
       "        text-align: right;\n",
       "    }\n",
       "</style>\n",
       "<table border=\"1\" class=\"dataframe\">\n",
       "  <thead>\n",
       "    <tr style=\"text-align: right;\">\n",
       "      <th></th>\n",
       "      <th>srch_id</th>\n",
       "      <th>date_time</th>\n",
       "      <th>site_id</th>\n",
       "      <th>visitor_location_country_id</th>\n",
       "      <th>visitor_hist_starrating</th>\n",
       "      <th>visitor_hist_adr_usd</th>\n",
       "      <th>prop_country_id</th>\n",
       "      <th>prop_id</th>\n",
       "      <th>prop_starrating</th>\n",
       "      <th>prop_review_score</th>\n",
       "      <th>prop_brand_bool</th>\n",
       "      <th>prop_location_score1</th>\n",
       "      <th>prop_location_score2</th>\n",
       "      <th>prop_log_historical_price</th>\n",
       "      <th>position</th>\n",
       "      <th>price_usd</th>\n",
       "      <th>promotion_flag</th>\n",
       "      <th>srch_destination_id</th>\n",
       "      <th>srch_length_of_stay</th>\n",
       "      <th>srch_booking_window</th>\n",
       "      <th>srch_adults_count</th>\n",
       "      <th>srch_children_count</th>\n",
       "      <th>srch_room_count</th>\n",
       "      <th>srch_saturday_night_bool</th>\n",
       "      <th>srch_query_affinity_score</th>\n",
       "      <th>orig_destination_distance</th>\n",
       "      <th>random_bool</th>\n",
       "      <th>comp1_rate</th>\n",
       "      <th>comp1_inv</th>\n",
       "      <th>comp1_rate_percent_diff</th>\n",
       "      <th>comp2_rate</th>\n",
       "      <th>comp2_inv</th>\n",
       "      <th>comp2_rate_percent_diff</th>\n",
       "      <th>comp3_rate</th>\n",
       "      <th>comp3_inv</th>\n",
       "      <th>comp3_rate_percent_diff</th>\n",
       "      <th>comp4_rate</th>\n",
       "      <th>comp4_inv</th>\n",
       "      <th>comp4_rate_percent_diff</th>\n",
       "      <th>comp5_rate</th>\n",
       "      <th>comp5_inv</th>\n",
       "      <th>comp5_rate_percent_diff</th>\n",
       "      <th>comp6_rate</th>\n",
       "      <th>comp6_inv</th>\n",
       "      <th>comp6_rate_percent_diff</th>\n",
       "      <th>comp7_rate</th>\n",
       "      <th>comp7_inv</th>\n",
       "      <th>comp7_rate_percent_diff</th>\n",
       "      <th>comp8_rate</th>\n",
       "      <th>comp8_inv</th>\n",
       "      <th>comp8_rate_percent_diff</th>\n",
       "      <th>click_bool</th>\n",
       "      <th>gross_bookings_usd</th>\n",
       "      <th>booking_bool</th>\n",
       "    </tr>\n",
       "  </thead>\n",
       "  <tbody>\n",
       "    <tr>\n",
       "      <th>0</th>\n",
       "      <td>1</td>\n",
       "      <td>2013-04-04 08:32:15</td>\n",
       "      <td>12</td>\n",
       "      <td>187</td>\n",
       "      <td>NaN</td>\n",
       "      <td>NaN</td>\n",
       "      <td>219</td>\n",
       "      <td>893</td>\n",
       "      <td>3</td>\n",
       "      <td>3.5</td>\n",
       "      <td>1</td>\n",
       "      <td>2.83</td>\n",
       "      <td>0.0438</td>\n",
       "      <td>4.95</td>\n",
       "      <td>27</td>\n",
       "      <td>104.77</td>\n",
       "      <td>0</td>\n",
       "      <td>23246</td>\n",
       "      <td>1</td>\n",
       "      <td>0</td>\n",
       "      <td>4</td>\n",
       "      <td>0</td>\n",
       "      <td>1</td>\n",
       "      <td>1</td>\n",
       "      <td>NaN</td>\n",
       "      <td>NaN</td>\n",
       "      <td>1</td>\n",
       "      <td>NaN</td>\n",
       "      <td>NaN</td>\n",
       "      <td>NaN</td>\n",
       "      <td>0.0</td>\n",
       "      <td>0.0</td>\n",
       "      <td>NaN</td>\n",
       "      <td>0.0</td>\n",
       "      <td>0.0</td>\n",
       "      <td>NaN</td>\n",
       "      <td>NaN</td>\n",
       "      <td>NaN</td>\n",
       "      <td>NaN</td>\n",
       "      <td>0.0</td>\n",
       "      <td>0.0</td>\n",
       "      <td>NaN</td>\n",
       "      <td>NaN</td>\n",
       "      <td>NaN</td>\n",
       "      <td>NaN</td>\n",
       "      <td>NaN</td>\n",
       "      <td>NaN</td>\n",
       "      <td>NaN</td>\n",
       "      <td>0.0</td>\n",
       "      <td>0.0</td>\n",
       "      <td>NaN</td>\n",
       "      <td>0</td>\n",
       "      <td>NaN</td>\n",
       "      <td>0</td>\n",
       "    </tr>\n",
       "    <tr>\n",
       "      <th>1</th>\n",
       "      <td>1</td>\n",
       "      <td>2013-04-04 08:32:15</td>\n",
       "      <td>12</td>\n",
       "      <td>187</td>\n",
       "      <td>NaN</td>\n",
       "      <td>NaN</td>\n",
       "      <td>219</td>\n",
       "      <td>10404</td>\n",
       "      <td>4</td>\n",
       "      <td>4.0</td>\n",
       "      <td>1</td>\n",
       "      <td>2.20</td>\n",
       "      <td>0.0149</td>\n",
       "      <td>5.03</td>\n",
       "      <td>26</td>\n",
       "      <td>170.74</td>\n",
       "      <td>0</td>\n",
       "      <td>23246</td>\n",
       "      <td>1</td>\n",
       "      <td>0</td>\n",
       "      <td>4</td>\n",
       "      <td>0</td>\n",
       "      <td>1</td>\n",
       "      <td>1</td>\n",
       "      <td>NaN</td>\n",
       "      <td>NaN</td>\n",
       "      <td>1</td>\n",
       "      <td>NaN</td>\n",
       "      <td>NaN</td>\n",
       "      <td>NaN</td>\n",
       "      <td>NaN</td>\n",
       "      <td>NaN</td>\n",
       "      <td>NaN</td>\n",
       "      <td>0.0</td>\n",
       "      <td>0.0</td>\n",
       "      <td>NaN</td>\n",
       "      <td>NaN</td>\n",
       "      <td>NaN</td>\n",
       "      <td>NaN</td>\n",
       "      <td>0.0</td>\n",
       "      <td>1.0</td>\n",
       "      <td>NaN</td>\n",
       "      <td>NaN</td>\n",
       "      <td>NaN</td>\n",
       "      <td>NaN</td>\n",
       "      <td>NaN</td>\n",
       "      <td>NaN</td>\n",
       "      <td>NaN</td>\n",
       "      <td>0.0</td>\n",
       "      <td>0.0</td>\n",
       "      <td>NaN</td>\n",
       "      <td>0</td>\n",
       "      <td>NaN</td>\n",
       "      <td>0</td>\n",
       "    </tr>\n",
       "    <tr>\n",
       "      <th>2</th>\n",
       "      <td>1</td>\n",
       "      <td>2013-04-04 08:32:15</td>\n",
       "      <td>12</td>\n",
       "      <td>187</td>\n",
       "      <td>NaN</td>\n",
       "      <td>NaN</td>\n",
       "      <td>219</td>\n",
       "      <td>21315</td>\n",
       "      <td>3</td>\n",
       "      <td>4.5</td>\n",
       "      <td>1</td>\n",
       "      <td>2.20</td>\n",
       "      <td>0.0245</td>\n",
       "      <td>4.92</td>\n",
       "      <td>21</td>\n",
       "      <td>179.80</td>\n",
       "      <td>0</td>\n",
       "      <td>23246</td>\n",
       "      <td>1</td>\n",
       "      <td>0</td>\n",
       "      <td>4</td>\n",
       "      <td>0</td>\n",
       "      <td>1</td>\n",
       "      <td>1</td>\n",
       "      <td>NaN</td>\n",
       "      <td>NaN</td>\n",
       "      <td>1</td>\n",
       "      <td>NaN</td>\n",
       "      <td>NaN</td>\n",
       "      <td>NaN</td>\n",
       "      <td>0.0</td>\n",
       "      <td>0.0</td>\n",
       "      <td>NaN</td>\n",
       "      <td>0.0</td>\n",
       "      <td>0.0</td>\n",
       "      <td>NaN</td>\n",
       "      <td>NaN</td>\n",
       "      <td>NaN</td>\n",
       "      <td>NaN</td>\n",
       "      <td>0.0</td>\n",
       "      <td>0.0</td>\n",
       "      <td>NaN</td>\n",
       "      <td>NaN</td>\n",
       "      <td>NaN</td>\n",
       "      <td>NaN</td>\n",
       "      <td>NaN</td>\n",
       "      <td>NaN</td>\n",
       "      <td>NaN</td>\n",
       "      <td>0.0</td>\n",
       "      <td>0.0</td>\n",
       "      <td>NaN</td>\n",
       "      <td>0</td>\n",
       "      <td>NaN</td>\n",
       "      <td>0</td>\n",
       "    </tr>\n",
       "  </tbody>\n",
       "</table>\n",
       "</div>"
      ],
      "text/plain": [
       "   srch_id           date_time  site_id  visitor_location_country_id  \\\n",
       "0        1 2013-04-04 08:32:15       12                          187   \n",
       "1        1 2013-04-04 08:32:15       12                          187   \n",
       "2        1 2013-04-04 08:32:15       12                          187   \n",
       "\n",
       "   visitor_hist_starrating  visitor_hist_adr_usd  prop_country_id  prop_id  \\\n",
       "0                      NaN                   NaN              219      893   \n",
       "1                      NaN                   NaN              219    10404   \n",
       "2                      NaN                   NaN              219    21315   \n",
       "\n",
       "   prop_starrating  prop_review_score  prop_brand_bool  prop_location_score1  \\\n",
       "0                3                3.5                1                  2.83   \n",
       "1                4                4.0                1                  2.20   \n",
       "2                3                4.5                1                  2.20   \n",
       "\n",
       "   prop_location_score2  prop_log_historical_price  position  price_usd  \\\n",
       "0                0.0438                       4.95        27     104.77   \n",
       "1                0.0149                       5.03        26     170.74   \n",
       "2                0.0245                       4.92        21     179.80   \n",
       "\n",
       "   promotion_flag  srch_destination_id  srch_length_of_stay  \\\n",
       "0               0                23246                    1   \n",
       "1               0                23246                    1   \n",
       "2               0                23246                    1   \n",
       "\n",
       "   srch_booking_window  srch_adults_count  srch_children_count  \\\n",
       "0                    0                  4                    0   \n",
       "1                    0                  4                    0   \n",
       "2                    0                  4                    0   \n",
       "\n",
       "   srch_room_count  srch_saturday_night_bool  srch_query_affinity_score  \\\n",
       "0                1                         1                        NaN   \n",
       "1                1                         1                        NaN   \n",
       "2                1                         1                        NaN   \n",
       "\n",
       "   orig_destination_distance  random_bool  comp1_rate  comp1_inv  \\\n",
       "0                        NaN            1         NaN        NaN   \n",
       "1                        NaN            1         NaN        NaN   \n",
       "2                        NaN            1         NaN        NaN   \n",
       "\n",
       "   comp1_rate_percent_diff  comp2_rate  comp2_inv  comp2_rate_percent_diff  \\\n",
       "0                      NaN         0.0        0.0                      NaN   \n",
       "1                      NaN         NaN        NaN                      NaN   \n",
       "2                      NaN         0.0        0.0                      NaN   \n",
       "\n",
       "   comp3_rate  comp3_inv  comp3_rate_percent_diff  comp4_rate  comp4_inv  \\\n",
       "0         0.0        0.0                      NaN         NaN        NaN   \n",
       "1         0.0        0.0                      NaN         NaN        NaN   \n",
       "2         0.0        0.0                      NaN         NaN        NaN   \n",
       "\n",
       "   comp4_rate_percent_diff  comp5_rate  comp5_inv  comp5_rate_percent_diff  \\\n",
       "0                      NaN         0.0        0.0                      NaN   \n",
       "1                      NaN         0.0        1.0                      NaN   \n",
       "2                      NaN         0.0        0.0                      NaN   \n",
       "\n",
       "   comp6_rate  comp6_inv  comp6_rate_percent_diff  comp7_rate  comp7_inv  \\\n",
       "0         NaN        NaN                      NaN         NaN        NaN   \n",
       "1         NaN        NaN                      NaN         NaN        NaN   \n",
       "2         NaN        NaN                      NaN         NaN        NaN   \n",
       "\n",
       "   comp7_rate_percent_diff  comp8_rate  comp8_inv  comp8_rate_percent_diff  \\\n",
       "0                      NaN         0.0        0.0                      NaN   \n",
       "1                      NaN         0.0        0.0                      NaN   \n",
       "2                      NaN         0.0        0.0                      NaN   \n",
       "\n",
       "   click_bool  gross_bookings_usd  booking_bool  \n",
       "0           0                 NaN             0  \n",
       "1           0                 NaN             0  \n",
       "2           0                 NaN             0  "
      ]
     },
     "execution_count": 84,
     "metadata": {},
     "output_type": "execute_result"
    }
   ],
   "source": [
    "df_train.head(3)"
   ]
  },
  {
   "cell_type": "markdown",
   "id": "a91a8b6f",
   "metadata": {},
   "source": [
    "## Dataset Statistics"
   ]
  },
  {
   "cell_type": "code",
   "execution_count": 85,
   "id": "175c228f",
   "metadata": {},
   "outputs": [
    {
     "data": {
      "text/plain": [
       "(4958347, 54)"
      ]
     },
     "execution_count": 85,
     "metadata": {},
     "output_type": "execute_result"
    }
   ],
   "source": [
    "df_train.shape"
   ]
  },
  {
   "cell_type": "code",
   "execution_count": 86,
   "id": "728cfde4",
   "metadata": {},
   "outputs": [
    {
     "data": {
      "text/plain": [
       "129113"
      ]
     },
     "execution_count": 86,
     "metadata": {},
     "output_type": "execute_result"
    }
   ],
   "source": [
    "#Number of properties\n",
    "len(set(df_train.prop_id))"
   ]
  },
  {
   "cell_type": "code",
   "execution_count": 87,
   "id": "9b5ccc20",
   "metadata": {},
   "outputs": [
    {
     "data": {
      "text/plain": [
       "199795"
      ]
     },
     "execution_count": 87,
     "metadata": {},
     "output_type": "execute_result"
    }
   ],
   "source": [
    "#Number of searches\n",
    "len(set(df_train.srch_id))"
   ]
  },
  {
   "cell_type": "code",
   "execution_count": 88,
   "id": "db01d88f",
   "metadata": {},
   "outputs": [
    {
     "data": {
      "text/plain": [
       "18127"
      ]
     },
     "execution_count": 88,
     "metadata": {},
     "output_type": "execute_result"
    }
   ],
   "source": [
    "#Number of search Destinations\n",
    "len(set(df_train.srch_destination_id))"
   ]
  },
  {
   "cell_type": "code",
   "execution_count": 89,
   "id": "fde49075",
   "metadata": {},
   "outputs": [
    {
     "data": {
      "text/plain": [
       "34"
      ]
     },
     "execution_count": 89,
     "metadata": {},
     "output_type": "execute_result"
    }
   ],
   "source": [
    "#Number of search Destinations\n",
    "len(set(df_train.site_id))"
   ]
  },
  {
   "cell_type": "code",
   "execution_count": 90,
   "id": "92e43824",
   "metadata": {},
   "outputs": [
    {
     "data": {
      "text/plain": [
       "172"
      ]
     },
     "execution_count": 90,
     "metadata": {},
     "output_type": "execute_result"
    }
   ],
   "source": [
    "#visitor_location_country_id\n",
    "len(set(df_train.prop_country_id))"
   ]
  },
  {
   "cell_type": "code",
   "execution_count": 91,
   "id": "d3c8934c",
   "metadata": {},
   "outputs": [
    {
     "data": {
      "text/plain": [
       "210"
      ]
     },
     "execution_count": 91,
     "metadata": {},
     "output_type": "execute_result"
    }
   ],
   "source": [
    "#visitor_location_country_id\n",
    "len(set(df_train.visitor_location_country_id))"
   ]
  },
  {
   "cell_type": "code",
   "execution_count": 92,
   "id": "abc26dcd",
   "metadata": {},
   "outputs": [
    {
     "data": {
      "text/plain": [
       "count    4.958347e+06\n",
       "mean     2.542096e+02\n",
       "std      1.600124e+04\n",
       "min      0.000000e+00\n",
       "25%      8.500000e+01\n",
       "50%      1.220000e+02\n",
       "75%      1.849600e+02\n",
       "max      1.972633e+07\n",
       "Name: price_usd, dtype: float64"
      ]
     },
     "execution_count": 92,
     "metadata": {},
     "output_type": "execute_result"
    }
   ],
   "source": [
    "df_train.price_usd.describe()"
   ]
  },
  {
   "cell_type": "code",
   "execution_count": 93,
   "id": "d4d2ed59",
   "metadata": {},
   "outputs": [
    {
     "name": "stderr",
     "output_type": "stream",
     "text": [
      "<ipython-input-93-1ddeef1cf241>:1: FutureWarning: Treating datetime data as categorical rather than numeric in `.describe` is deprecated and will be removed in a future version of pandas. Specify `datetime_is_numeric=True` to silence this warning and adopt the future behavior now.\n",
      "  df_train.date_time.describe()\n"
     ]
    },
    {
     "data": {
      "text/plain": [
       "count                 4958347\n",
       "unique                 198615\n",
       "top       2012-11-02 14:04:51\n",
       "freq                       95\n",
       "first     2012-11-01 00:08:29\n",
       "last      2013-06-30 23:58:24\n",
       "Name: date_time, dtype: object"
      ]
     },
     "execution_count": 93,
     "metadata": {},
     "output_type": "execute_result"
    }
   ],
   "source": [
    "df_train.date_time.describe()"
   ]
  },
  {
   "cell_type": "code",
   "execution_count": 94,
   "id": "ad7e3020",
   "metadata": {},
   "outputs": [],
   "source": [
    "pos_clicked = df_train['position'].where(df_train['click_bool']==1)\n",
    "pos_booked = df_train['position'].where(df_train['booking_bool']==1)"
   ]
  },
  {
   "cell_type": "code",
   "execution_count": 95,
   "id": "153021b3",
   "metadata": {},
   "outputs": [
    {
     "data": {
      "text/plain": [
       "0          NaN\n",
       "1          NaN\n",
       "2          NaN\n",
       "3          NaN\n",
       "4          NaN\n",
       "          ... \n",
       "4958342    NaN\n",
       "4958343    NaN\n",
       "4958344    NaN\n",
       "4958345    1.0\n",
       "4958346    NaN\n",
       "Name: position, Length: 4958347, dtype: float64"
      ]
     },
     "execution_count": 95,
     "metadata": {},
     "output_type": "execute_result"
    }
   ],
   "source": [
    "pos_clicked"
   ]
  },
  {
   "cell_type": "code",
   "execution_count": 96,
   "id": "9d178eb7",
   "metadata": {},
   "outputs": [
    {
     "name": "stderr",
     "output_type": "stream",
     "text": [
      "<ipython-input-96-3c1dc8ca58a7>:12: UserWarning: FixedFormatter should only be used together with FixedLocator\n",
      "  ax.set_yticklabels(['{:.1%}'.format(i) for i in np.linspace(0, 0.2, 9)])\n"
     ]
    },
    {
     "data": {
      "image/png": "[encoded data removed]",
      "text/plain": [
       "<Figure size 1080x360 with 1 Axes>"
      ]
     },
     "metadata": {
      "needs_background": "light"
     },
     "output_type": "display_data"
    }
   ],
   "source": [
    "pos_clicked = pos_clicked.value_counts(normalize=True)\n",
    "pos_clicked.index = pos_clicked.index.map(int)\n",
    "pos_booked = pos_booked.value_counts(normalize=True)\n",
    "pos_booked.index = pos_booked.index.map(int)\n",
    "\n",
    "fig, ax = plt.subplots(figsize=[15,5])\n",
    "#x = np.arange(1, 41)\n",
    "x = np.arange(1, 41)\n",
    "ax.bar(x-0.2, pos_clicked[x], width=0.4, label='Clicked')\n",
    "ax.bar(x+0.2, pos_booked[x], width=0.4, label='Booked')\n",
    "ax.set_xticks(x)\n",
    "ax.set_yticklabels(['{:.1%}'.format(i) for i in np.linspace(0, 0.2, 9)])\n",
    "\n",
    "plt.legend()\n",
    "plt.show()"
   ]
  },
  {
   "cell_type": "code",
   "execution_count": 97,
   "id": "1f7c22b9",
   "metadata": {},
   "outputs": [
    {
     "name": "stderr",
     "output_type": "stream",
     "text": [
      "<ipython-input-97-408f68202d97>:10: UserWarning: FixedFormatter should only be used together with FixedLocator\n",
      "  ax1.set_yticklabels(['{:.1%}'.format(i) for i in np.linspace(0, 0.2, 9)])\n"
     ]
    },
    {
     "data": {
      "image/png": "[encoded data removed]",
      "text/plain": [
       "<Figure size 720x720 with 1 Axes>"
      ]
     },
     "metadata": {
      "needs_background": "light"
     },
     "output_type": "display_data"
    }
   ],
   "source": [
    "x = np.arange(1, 41)\n",
    "fig, ax1 = plt.subplots(figsize=(10, 10))\n",
    "#sns.set_theme(style=\"whitegrid\")\n",
    "\n",
    "sns.barplot(x=x, y=pos_booked, ax=ax1, label='Booked')\n",
    "sns.barplot(x=x, y=pos_clicked, ax=ax1,edgecolor=\".2\", label='Clicked')\n",
    "#ax.bar(x-0.2, pos_clicked[x], width=0.4, label='Clicked')\n",
    "#ax.bar(x+0.2, pos_booked[x], width=0.4, label='Booked')\n",
    "#ax1.set_xticks(x)\n",
    "ax1.set_yticklabels(['{:.1%}'.format(i) for i in np.linspace(0, 0.2, 9)])\n",
    "plt.legend()\n",
    "plt.show()\n",
    "\n"
   ]
  },
  {
   "cell_type": "code",
   "execution_count": 98,
   "id": "195f1555",
   "metadata": {
    "scrolled": true
   },
   "outputs": [
    {
     "name": "stderr",
     "output_type": "stream",
     "text": [
      "D:\\Anaconda\\lib\\site-packages\\seaborn\\_decorators.py:36: FutureWarning: Pass the following variables as keyword args: x, y. From version 0.12, the only valid positional argument will be `data`, and passing other arguments without an explicit keyword will result in an error or misinterpretation.\n",
      "  warnings.warn(\n",
      "D:\\Anaconda\\lib\\site-packages\\seaborn\\_decorators.py:36: FutureWarning: Pass the following variables as keyword args: x, y. From version 0.12, the only valid positional argument will be `data`, and passing other arguments without an explicit keyword will result in an error or misinterpretation.\n",
      "  warnings.warn(\n"
     ]
    },
    {
     "data": {
      "image/png": "[encoded data removed]",
      "text/plain": [
       "<Figure size 840x420 with 2 Axes>"
      ]
     },
     "metadata": {
      "needs_background": "light"
     },
     "output_type": "display_data"
    }
   ],
   "source": [
    "\n",
    "months = ['', 'Jan', 'Feb', 'Mar', 'Apr', 'May', 'Jun', 'Jul', 'Aug', 'Sep', 'Oct', 'Nov', 'Dec']\n",
    "\n",
    "def name(x):\n",
    "    if x[2] == 15:\n",
    "        return '%s %d' % (months[x[1]], x[0])\n",
    "    else:\n",
    "        return ''\n",
    "\n",
    "df2 = df_train\n",
    "\n",
    "dates = [(a.year, a.month, a.day) for a in df2.date_time]\n",
    "c = sorted(Counter(dates).items(), key=lambda kv: kv[0][0]*10000 + kv[0][1]*100 + kv[0][2])\n",
    "datesort = [kv[0][0]*10000 + kv[0][1]*100 + kv[0][2] for kv in c]\n",
    "names = [name(x) for x,y in c]\n",
    "fig, axarr = plt.subplots(2, sharex=True, figsize=(1400/120, 700/120))\n",
    "palette = sns.color_palette('hls', n_colors=12)\n",
    "clrs = [palette[d[0][1]-1] for d in c]\n",
    "bp1 = sns.barplot(datesort, [y for x,y in c], palette = clrs, ax=axarr[0], linewidth=0)\n",
    "axarr[0].set_xticklabels(names)\n",
    "\n",
    "startdates = [x+y for x,y in zip(df2.date_time, [relativedelta(days=x) for x in df2.srch_booking_window])]\n",
    "staydates = zip(startdates, df2.srch_length_of_stay)\n",
    "newdates = []\n",
    "for staydate in staydates:\n",
    "    for day in range(staydate[1]):\n",
    "        newdates.append(staydate[0] + relativedelta(days=day))\n",
    "newdates = [(a.year, a.month, a.day) for a in newdates if a.year < 2013 or (a.year == 2013 and a.month < 11)]\n",
    "newc = sorted(Counter(newdates).items(), key=lambda kv: kv[0][0]*10000 + kv[0][1]*100 + kv[0][2])\n",
    "newdatesort = [kv[0][0]*10000 + kv[0][1]*100 + kv[0][2] for kv in newc]\n",
    "newnames = [name(x) for x,y in newc]\n",
    "newclrs = [palette[d[0][1]-1] for d in newc]\n",
    "bp2 = sns.barplot(newdatesort, [y for x,y in newc], palette = newclrs, ax=axarr[1], linewidth=0)\n",
    "axarr[1].set_xticklabels(newnames)\n",
    "\n",
    "bp1.set_ylabel(\"Number of searches\")\n",
    "bp2.set_ylabel(\"Number of active bookings\")\n",
    "\n",
    "plt.savefig(\"dateplot\", dpi=1000)\n"
   ]
  },
  {
   "cell_type": "code",
   "execution_count": 99,
   "id": "bf90b5fe",
   "metadata": {},
   "outputs": [
    {
     "data": {
      "text/plain": [
       "1      374949\n",
       "0      276815\n",
       "2      244186\n",
       "3      206126\n",
       "4      183088\n",
       "        ...  \n",
       "419         5\n",
       "403         5\n",
       "389         5\n",
       "478         5\n",
       "382         5\n",
       "Name: srch_booking_window, Length: 429, dtype: int64"
      ]
     },
     "execution_count": 99,
     "metadata": {},
     "output_type": "execute_result"
    }
   ],
   "source": [
    "df_train['srch_booking_window'].value_counts()"
   ]
  },
  {
   "cell_type": "code",
   "execution_count": 100,
   "id": "23fcbf7b",
   "metadata": {},
   "outputs": [
    {
     "data": {
      "image/png": "[encoded data removed]",
      "text/plain": [
       "<Figure size 720x300 with 1 Axes>"
      ]
     },
     "metadata": {
      "needs_background": "light"
     },
     "output_type": "display_data"
    }
   ],
   "source": [
    "sorted_book_window = dict(df_train.srch_booking_window.value_counts().sort_values())\n",
    "fig, ax = plt.subplots(figsize=(1200/120, 500/120))\n",
    "perc =  [i for i in sorted_book_window.values()]\n",
    "bp = sns.barplot(x=list(sorted_book_window.keys()),y=perc, palette='Spectral')\n",
    "bp.set_ylabel(\"Num of booking\")\n",
    "\n",
    "for item in bp.get_xticklabels():\n",
    "    item.set_rotation(90)\n",
    "plt.subplots_adjust(bottom=0.5)"
   ]
  },
  {
   "cell_type": "code",
   "execution_count": 102,
   "id": "fdce8eb8",
   "metadata": {},
   "outputs": [
    {
     "data": {
      "image/png": "[encoded data removed]",
      "text/plain": [
       "<Figure size 720x300 with 1 Axes>"
      ]
     },
     "metadata": {
      "needs_background": "light"
     },
     "output_type": "display_data"
    }
   ],
   "source": [
    "nrows = df_train.shape[0]\n",
    "fig, ax = plt.subplots(figsize=(1200/120, 500/120))\n",
    "d = df_train.isnull().sum().to_dict()\n",
    "sorted_d = dict(sorted(d.items(), key=lambda kv: (kv[1],kv[0])))\n",
    "\n",
    "\n",
    "perc =  [float(i*100/nrows) for i in sorted_d.values()]\n",
    "bp = sns.barplot(x=list(sorted_d.keys()),y=perc, palette='Spectral')\n",
    "bp.set_ylabel(\"Percentage missing\")\n",
    "\n",
    "for item in bp.get_xticklabels():\n",
    "    item.set_rotation(90)\n",
    "\n",
    "plt.subplots_adjust(bottom=0.5)\n",
    "plt.savefig(\"barplot_missingvalues\", dpi=400)"
   ]
  },
  {
   "cell_type": "code",
   "execution_count": null,
   "id": "ef8825d8",
   "metadata": {},
   "outputs": [],
   "source": []
  },
  {
   "cell_type": "code",
   "execution_count": null,
   "id": "8e893eb2",
   "metadata": {},
   "outputs": [],
   "source": []
  }
 ],
 "metadata": {
  "kernelspec": {
   "display_name": "Python 3",
   "language": "python",
   "name": "python3"
  },
  "language_info": {
   "codemirror_mode": {
    "name": "ipython",
    "version": 3
   },
   "file_extension": ".py",
   "mimetype": "text/x-python",
   "name": "python",
   "nbconvert_exporter": "python",
   "pygments_lexer": "ipython3",
   "version": "3.8.8"
  }
 },
 "nbformat": 4,
 "nbformat_minor": 5
}
