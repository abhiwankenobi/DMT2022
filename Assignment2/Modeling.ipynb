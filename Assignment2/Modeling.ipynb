{
 "cells": [
  {
   "cell_type": "code",
   "execution_count": 1,
   "id": "184dffe5",
   "metadata": {},
   "outputs": [],
   "source": [
    "import pandas as pd\n",
    "import matplotlib.pyplot as plt\n",
    "import numpy as np\n",
    "import time\n",
    "import xgboost as xgb\n",
    "from preprocess import preprocess_data\n",
    "from sklearn.model_selection import train_test_split\n",
    "from tqdm import tqdm"
   ]
  },
  {
   "cell_type": "code",
   "execution_count": 2,
   "id": "8d4e3c52",
   "metadata": {},
   "outputs": [],
   "source": [
    "pd.set_option('max_columns', None)"
   ]
  },
  {
   "cell_type": "code",
   "execution_count": 3,
   "id": "f28e80d9",
   "metadata": {},
   "outputs": [
    {
     "name": "stdout",
     "output_type": "stream",
     "text": [
      "Data loaded in  23.849340677261353  seconds.\n"
     ]
    }
   ],
   "source": [
    "start = time.time()\n",
    "df_train = pd.read_csv(\"raw_data/train_data.csv\")\n",
    "df_test = pd.read_csv(\"raw_data/test_data.csv\")\n",
    "end = time.time()\n",
    "print(\"Data loaded in \", end - start, \" seconds.\")"
   ]
  },
  {
   "cell_type": "code",
   "execution_count": 4,
   "id": "f4c5ac9e",
   "metadata": {},
   "outputs": [
    {
     "data": {
      "text/html": [
       "<div>\n",
       "<style scoped>\n",
       "    .dataframe tbody tr th:only-of-type {\n",
       "        vertical-align: middle;\n",
       "    }\n",
       "\n",
       "    .dataframe tbody tr th {\n",
       "        vertical-align: top;\n",
       "    }\n",
       "\n",
       "    .dataframe thead th {\n",
       "        text-align: right;\n",
       "    }\n",
       "</style>\n",
       "<table border=\"1\" class=\"dataframe\">\n",
       "  <thead>\n",
       "    <tr style=\"text-align: right;\">\n",
       "      <th></th>\n",
       "      <th>srch_id</th>\n",
       "      <th>date_time</th>\n",
       "      <th>site_id</th>\n",
       "      <th>visitor_location_country_id</th>\n",
       "      <th>visitor_hist_starrating</th>\n",
       "      <th>visitor_hist_adr_usd</th>\n",
       "      <th>prop_country_id</th>\n",
       "      <th>prop_id</th>\n",
       "      <th>prop_starrating</th>\n",
       "      <th>prop_review_score</th>\n",
       "      <th>prop_brand_bool</th>\n",
       "      <th>prop_location_score1</th>\n",
       "      <th>prop_location_score2</th>\n",
       "      <th>prop_log_historical_price</th>\n",
       "      <th>position</th>\n",
       "      <th>price_usd</th>\n",
       "      <th>promotion_flag</th>\n",
       "      <th>srch_destination_id</th>\n",
       "      <th>srch_length_of_stay</th>\n",
       "      <th>srch_booking_window</th>\n",
       "      <th>srch_adults_count</th>\n",
       "      <th>srch_children_count</th>\n",
       "      <th>srch_room_count</th>\n",
       "      <th>srch_saturday_night_bool</th>\n",
       "      <th>srch_query_affinity_score</th>\n",
       "      <th>orig_destination_distance</th>\n",
       "      <th>random_bool</th>\n",
       "      <th>comp1_rate</th>\n",
       "      <th>comp1_inv</th>\n",
       "      <th>comp1_rate_percent_diff</th>\n",
       "      <th>comp2_rate</th>\n",
       "      <th>comp2_inv</th>\n",
       "      <th>comp2_rate_percent_diff</th>\n",
       "      <th>comp3_rate</th>\n",
       "      <th>comp3_inv</th>\n",
       "      <th>comp3_rate_percent_diff</th>\n",
       "      <th>comp4_rate</th>\n",
       "      <th>comp4_inv</th>\n",
       "      <th>comp4_rate_percent_diff</th>\n",
       "      <th>comp5_rate</th>\n",
       "      <th>comp5_inv</th>\n",
       "      <th>comp5_rate_percent_diff</th>\n",
       "      <th>comp6_rate</th>\n",
       "      <th>comp6_inv</th>\n",
       "      <th>comp6_rate_percent_diff</th>\n",
       "      <th>comp7_rate</th>\n",
       "      <th>comp7_inv</th>\n",
       "      <th>comp7_rate_percent_diff</th>\n",
       "      <th>comp8_rate</th>\n",
       "      <th>comp8_inv</th>\n",
       "      <th>comp8_rate_percent_diff</th>\n",
       "      <th>click_bool</th>\n",
       "      <th>gross_bookings_usd</th>\n",
       "      <th>booking_bool</th>\n",
       "    </tr>\n",
       "  </thead>\n",
       "  <tbody>\n",
       "    <tr>\n",
       "      <th>0</th>\n",
       "      <td>1</td>\n",
       "      <td>2013-04-04 08:32:15</td>\n",
       "      <td>12</td>\n",
       "      <td>187</td>\n",
       "      <td>NaN</td>\n",
       "      <td>NaN</td>\n",
       "      <td>219</td>\n",
       "      <td>893</td>\n",
       "      <td>3</td>\n",
       "      <td>3.5</td>\n",
       "      <td>1</td>\n",
       "      <td>2.83</td>\n",
       "      <td>0.0438</td>\n",
       "      <td>4.95</td>\n",
       "      <td>27</td>\n",
       "      <td>104.77</td>\n",
       "      <td>0</td>\n",
       "      <td>23246</td>\n",
       "      <td>1</td>\n",
       "      <td>0</td>\n",
       "      <td>4</td>\n",
       "      <td>0</td>\n",
       "      <td>1</td>\n",
       "      <td>1</td>\n",
       "      <td>NaN</td>\n",
       "      <td>NaN</td>\n",
       "      <td>1</td>\n",
       "      <td>NaN</td>\n",
       "      <td>NaN</td>\n",
       "      <td>NaN</td>\n",
       "      <td>0.0</td>\n",
       "      <td>0.0</td>\n",
       "      <td>NaN</td>\n",
       "      <td>0.0</td>\n",
       "      <td>0.0</td>\n",
       "      <td>NaN</td>\n",
       "      <td>NaN</td>\n",
       "      <td>NaN</td>\n",
       "      <td>NaN</td>\n",
       "      <td>0.0</td>\n",
       "      <td>0.0</td>\n",
       "      <td>NaN</td>\n",
       "      <td>NaN</td>\n",
       "      <td>NaN</td>\n",
       "      <td>NaN</td>\n",
       "      <td>NaN</td>\n",
       "      <td>NaN</td>\n",
       "      <td>NaN</td>\n",
       "      <td>0.0</td>\n",
       "      <td>0.0</td>\n",
       "      <td>NaN</td>\n",
       "      <td>0</td>\n",
       "      <td>NaN</td>\n",
       "      <td>0</td>\n",
       "    </tr>\n",
       "  </tbody>\n",
       "</table>\n",
       "</div>"
      ],
      "text/plain": [
       "   srch_id            date_time  site_id  visitor_location_country_id  \\\n",
       "0        1  2013-04-04 08:32:15       12                          187   \n",
       "\n",
       "   visitor_hist_starrating  visitor_hist_adr_usd  prop_country_id  prop_id  \\\n",
       "0                      NaN                   NaN              219      893   \n",
       "\n",
       "   prop_starrating  prop_review_score  prop_brand_bool  prop_location_score1  \\\n",
       "0                3                3.5                1                  2.83   \n",
       "\n",
       "   prop_location_score2  prop_log_historical_price  position  price_usd  \\\n",
       "0                0.0438                       4.95        27     104.77   \n",
       "\n",
       "   promotion_flag  srch_destination_id  srch_length_of_stay  \\\n",
       "0               0                23246                    1   \n",
       "\n",
       "   srch_booking_window  srch_adults_count  srch_children_count  \\\n",
       "0                    0                  4                    0   \n",
       "\n",
       "   srch_room_count  srch_saturday_night_bool  srch_query_affinity_score  \\\n",
       "0                1                         1                        NaN   \n",
       "\n",
       "   orig_destination_distance  random_bool  comp1_rate  comp1_inv  \\\n",
       "0                        NaN            1         NaN        NaN   \n",
       "\n",
       "   comp1_rate_percent_diff  comp2_rate  comp2_inv  comp2_rate_percent_diff  \\\n",
       "0                      NaN         0.0        0.0                      NaN   \n",
       "\n",
       "   comp3_rate  comp3_inv  comp3_rate_percent_diff  comp4_rate  comp4_inv  \\\n",
       "0         0.0        0.0                      NaN         NaN        NaN   \n",
       "\n",
       "   comp4_rate_percent_diff  comp5_rate  comp5_inv  comp5_rate_percent_diff  \\\n",
       "0                      NaN         0.0        0.0                      NaN   \n",
       "\n",
       "   comp6_rate  comp6_inv  comp6_rate_percent_diff  comp7_rate  comp7_inv  \\\n",
       "0         NaN        NaN                      NaN         NaN        NaN   \n",
       "\n",
       "   comp7_rate_percent_diff  comp8_rate  comp8_inv  comp8_rate_percent_diff  \\\n",
       "0                      NaN         0.0        0.0                      NaN   \n",
       "\n",
       "   click_bool  gross_bookings_usd  booking_bool  \n",
       "0           0                 NaN             0  "
      ]
     },
     "execution_count": 4,
     "metadata": {},
     "output_type": "execute_result"
    }
   ],
   "source": [
    "df_train.head(1)"
   ]
  },
  {
   "cell_type": "code",
   "execution_count": 5,
   "id": "4c815d31",
   "metadata": {},
   "outputs": [
    {
     "data": {
      "text/html": [
       "<div>\n",
       "<style scoped>\n",
       "    .dataframe tbody tr th:only-of-type {\n",
       "        vertical-align: middle;\n",
       "    }\n",
       "\n",
       "    .dataframe tbody tr th {\n",
       "        vertical-align: top;\n",
       "    }\n",
       "\n",
       "    .dataframe thead th {\n",
       "        text-align: right;\n",
       "    }\n",
       "</style>\n",
       "<table border=\"1\" class=\"dataframe\">\n",
       "  <thead>\n",
       "    <tr style=\"text-align: right;\">\n",
       "      <th></th>\n",
       "      <th>srch_id</th>\n",
       "      <th>date_time</th>\n",
       "      <th>site_id</th>\n",
       "      <th>visitor_location_country_id</th>\n",
       "      <th>visitor_hist_starrating</th>\n",
       "      <th>visitor_hist_adr_usd</th>\n",
       "      <th>prop_country_id</th>\n",
       "      <th>prop_id</th>\n",
       "      <th>prop_starrating</th>\n",
       "      <th>prop_review_score</th>\n",
       "      <th>prop_brand_bool</th>\n",
       "      <th>prop_location_score1</th>\n",
       "      <th>prop_location_score2</th>\n",
       "      <th>prop_log_historical_price</th>\n",
       "      <th>price_usd</th>\n",
       "      <th>promotion_flag</th>\n",
       "      <th>srch_destination_id</th>\n",
       "      <th>srch_length_of_stay</th>\n",
       "      <th>srch_booking_window</th>\n",
       "      <th>srch_adults_count</th>\n",
       "      <th>srch_children_count</th>\n",
       "      <th>srch_room_count</th>\n",
       "      <th>srch_saturday_night_bool</th>\n",
       "      <th>srch_query_affinity_score</th>\n",
       "      <th>orig_destination_distance</th>\n",
       "      <th>random_bool</th>\n",
       "      <th>comp1_rate</th>\n",
       "      <th>comp1_inv</th>\n",
       "      <th>comp1_rate_percent_diff</th>\n",
       "      <th>comp2_rate</th>\n",
       "      <th>comp2_inv</th>\n",
       "      <th>comp2_rate_percent_diff</th>\n",
       "      <th>comp3_rate</th>\n",
       "      <th>comp3_inv</th>\n",
       "      <th>comp3_rate_percent_diff</th>\n",
       "      <th>comp4_rate</th>\n",
       "      <th>comp4_inv</th>\n",
       "      <th>comp4_rate_percent_diff</th>\n",
       "      <th>comp5_rate</th>\n",
       "      <th>comp5_inv</th>\n",
       "      <th>comp5_rate_percent_diff</th>\n",
       "      <th>comp6_rate</th>\n",
       "      <th>comp6_inv</th>\n",
       "      <th>comp6_rate_percent_diff</th>\n",
       "      <th>comp7_rate</th>\n",
       "      <th>comp7_inv</th>\n",
       "      <th>comp7_rate_percent_diff</th>\n",
       "      <th>comp8_rate</th>\n",
       "      <th>comp8_inv</th>\n",
       "      <th>comp8_rate_percent_diff</th>\n",
       "    </tr>\n",
       "  </thead>\n",
       "  <tbody>\n",
       "    <tr>\n",
       "      <th>0</th>\n",
       "      <td>1</td>\n",
       "      <td>2013-02-02 15:27:40</td>\n",
       "      <td>24</td>\n",
       "      <td>216</td>\n",
       "      <td>NaN</td>\n",
       "      <td>NaN</td>\n",
       "      <td>219</td>\n",
       "      <td>3180</td>\n",
       "      <td>3</td>\n",
       "      <td>4.5</td>\n",
       "      <td>1</td>\n",
       "      <td>2.94</td>\n",
       "      <td>0.0691</td>\n",
       "      <td>5.03</td>\n",
       "      <td>119.0</td>\n",
       "      <td>0</td>\n",
       "      <td>19222</td>\n",
       "      <td>1</td>\n",
       "      <td>10</td>\n",
       "      <td>2</td>\n",
       "      <td>0</td>\n",
       "      <td>1</td>\n",
       "      <td>0</td>\n",
       "      <td>NaN</td>\n",
       "      <td>NaN</td>\n",
       "      <td>0</td>\n",
       "      <td>NaN</td>\n",
       "      <td>NaN</td>\n",
       "      <td>NaN</td>\n",
       "      <td>NaN</td>\n",
       "      <td>NaN</td>\n",
       "      <td>NaN</td>\n",
       "      <td>NaN</td>\n",
       "      <td>NaN</td>\n",
       "      <td>NaN</td>\n",
       "      <td>NaN</td>\n",
       "      <td>NaN</td>\n",
       "      <td>NaN</td>\n",
       "      <td>NaN</td>\n",
       "      <td>NaN</td>\n",
       "      <td>NaN</td>\n",
       "      <td>NaN</td>\n",
       "      <td>NaN</td>\n",
       "      <td>NaN</td>\n",
       "      <td>NaN</td>\n",
       "      <td>NaN</td>\n",
       "      <td>NaN</td>\n",
       "      <td>NaN</td>\n",
       "      <td>NaN</td>\n",
       "      <td>NaN</td>\n",
       "    </tr>\n",
       "  </tbody>\n",
       "</table>\n",
       "</div>"
      ],
      "text/plain": [
       "   srch_id            date_time  site_id  visitor_location_country_id  \\\n",
       "0        1  2013-02-02 15:27:40       24                          216   \n",
       "\n",
       "   visitor_hist_starrating  visitor_hist_adr_usd  prop_country_id  prop_id  \\\n",
       "0                      NaN                   NaN              219     3180   \n",
       "\n",
       "   prop_starrating  prop_review_score  prop_brand_bool  prop_location_score1  \\\n",
       "0                3                4.5                1                  2.94   \n",
       "\n",
       "   prop_location_score2  prop_log_historical_price  price_usd  promotion_flag  \\\n",
       "0                0.0691                       5.03      119.0               0   \n",
       "\n",
       "   srch_destination_id  srch_length_of_stay  srch_booking_window  \\\n",
       "0                19222                    1                   10   \n",
       "\n",
       "   srch_adults_count  srch_children_count  srch_room_count  \\\n",
       "0                  2                    0                1   \n",
       "\n",
       "   srch_saturday_night_bool  srch_query_affinity_score  \\\n",
       "0                         0                        NaN   \n",
       "\n",
       "   orig_destination_distance  random_bool  comp1_rate  comp1_inv  \\\n",
       "0                        NaN            0         NaN        NaN   \n",
       "\n",
       "   comp1_rate_percent_diff  comp2_rate  comp2_inv  comp2_rate_percent_diff  \\\n",
       "0                      NaN         NaN        NaN                      NaN   \n",
       "\n",
       "   comp3_rate  comp3_inv  comp3_rate_percent_diff  comp4_rate  comp4_inv  \\\n",
       "0         NaN        NaN                      NaN         NaN        NaN   \n",
       "\n",
       "   comp4_rate_percent_diff  comp5_rate  comp5_inv  comp5_rate_percent_diff  \\\n",
       "0                      NaN         NaN        NaN                      NaN   \n",
       "\n",
       "   comp6_rate  comp6_inv  comp6_rate_percent_diff  comp7_rate  comp7_inv  \\\n",
       "0         NaN        NaN                      NaN         NaN        NaN   \n",
       "\n",
       "   comp7_rate_percent_diff  comp8_rate  comp8_inv  comp8_rate_percent_diff  \n",
       "0                      NaN         NaN        NaN                      NaN  "
      ]
     },
     "execution_count": 5,
     "metadata": {},
     "output_type": "execute_result"
    }
   ],
   "source": [
    "df_test.head(1)"
   ]
  },
  {
   "cell_type": "markdown",
   "id": "f4b36e24",
   "metadata": {},
   "source": [
    "## Preprocess Data"
   ]
  },
  {
   "cell_type": "code",
   "execution_count": 6,
   "id": "e0f34d3f",
   "metadata": {},
   "outputs": [
    {
     "name": "stdout",
     "output_type": "stream",
     "text": [
      "------\n"
     ]
    }
   ],
   "source": [
    "preprocessed_train = preprocess_data(df_train, split='train')\n",
    "print('------')\n",
    "preprocessed_test = preprocess_data(df_test, split='test')"
   ]
  },
  {
   "cell_type": "code",
   "execution_count": 7,
   "id": "f6fac4f8",
   "metadata": {},
   "outputs": [
    {
     "data": {
      "text/html": [
       "<div>\n",
       "<style scoped>\n",
       "    .dataframe tbody tr th:only-of-type {\n",
       "        vertical-align: middle;\n",
       "    }\n",
       "\n",
       "    .dataframe tbody tr th {\n",
       "        vertical-align: top;\n",
       "    }\n",
       "\n",
       "    .dataframe thead th {\n",
       "        text-align: right;\n",
       "    }\n",
       "</style>\n",
       "<table border=\"1\" class=\"dataframe\">\n",
       "  <thead>\n",
       "    <tr style=\"text-align: right;\">\n",
       "      <th></th>\n",
       "      <th>srch_id</th>\n",
       "      <th>site_id</th>\n",
       "      <th>visitor_location_country_id</th>\n",
       "      <th>visitor_hist_starrating</th>\n",
       "      <th>visitor_hist_adr_usd</th>\n",
       "      <th>prop_country_id</th>\n",
       "      <th>prop_id</th>\n",
       "      <th>prop_starrating</th>\n",
       "      <th>prop_review_score</th>\n",
       "      <th>prop_brand_bool</th>\n",
       "      <th>prop_location_score1</th>\n",
       "      <th>prop_location_score2</th>\n",
       "      <th>prop_log_historical_price</th>\n",
       "      <th>position</th>\n",
       "      <th>price_usd</th>\n",
       "      <th>promotion_flag</th>\n",
       "      <th>srch_destination_id</th>\n",
       "      <th>srch_length_of_stay</th>\n",
       "      <th>srch_booking_window</th>\n",
       "      <th>srch_adults_count</th>\n",
       "      <th>srch_children_count</th>\n",
       "      <th>srch_room_count</th>\n",
       "      <th>srch_saturday_night_bool</th>\n",
       "      <th>srch_query_affinity_score</th>\n",
       "      <th>orig_destination_distance</th>\n",
       "      <th>random_bool</th>\n",
       "      <th>comp1_rate</th>\n",
       "      <th>comp1_inv</th>\n",
       "      <th>comp1_rate_percent_diff</th>\n",
       "      <th>comp2_rate</th>\n",
       "      <th>comp2_inv</th>\n",
       "      <th>comp2_rate_percent_diff</th>\n",
       "      <th>comp3_rate</th>\n",
       "      <th>comp3_inv</th>\n",
       "      <th>comp3_rate_percent_diff</th>\n",
       "      <th>comp4_rate</th>\n",
       "      <th>comp4_inv</th>\n",
       "      <th>comp4_rate_percent_diff</th>\n",
       "      <th>comp5_rate</th>\n",
       "      <th>comp5_inv</th>\n",
       "      <th>comp5_rate_percent_diff</th>\n",
       "      <th>comp6_rate</th>\n",
       "      <th>comp6_inv</th>\n",
       "      <th>comp6_rate_percent_diff</th>\n",
       "      <th>comp7_rate</th>\n",
       "      <th>comp7_inv</th>\n",
       "      <th>comp7_rate_percent_diff</th>\n",
       "      <th>comp8_rate</th>\n",
       "      <th>comp8_inv</th>\n",
       "      <th>comp8_rate_percent_diff</th>\n",
       "      <th>click_bool</th>\n",
       "      <th>gross_bookings_usd</th>\n",
       "      <th>booking_bool</th>\n",
       "    </tr>\n",
       "  </thead>\n",
       "  <tbody>\n",
       "    <tr>\n",
       "      <th>0</th>\n",
       "      <td>1</td>\n",
       "      <td>12</td>\n",
       "      <td>187</td>\n",
       "      <td>0.0</td>\n",
       "      <td>0.0</td>\n",
       "      <td>219</td>\n",
       "      <td>893</td>\n",
       "      <td>3</td>\n",
       "      <td>3.5</td>\n",
       "      <td>1</td>\n",
       "      <td>2.83</td>\n",
       "      <td>0.0438</td>\n",
       "      <td>4.95</td>\n",
       "      <td>27</td>\n",
       "      <td>104.77</td>\n",
       "      <td>0</td>\n",
       "      <td>23246</td>\n",
       "      <td>1</td>\n",
       "      <td>0</td>\n",
       "      <td>4</td>\n",
       "      <td>0</td>\n",
       "      <td>1</td>\n",
       "      <td>1</td>\n",
       "      <td>-330.0</td>\n",
       "      <td>1301.234406</td>\n",
       "      <td>1</td>\n",
       "      <td>0.0</td>\n",
       "      <td>0.0</td>\n",
       "      <td>0.0</td>\n",
       "      <td>0.0</td>\n",
       "      <td>0.0</td>\n",
       "      <td>0.0</td>\n",
       "      <td>0.0</td>\n",
       "      <td>0.0</td>\n",
       "      <td>0.0</td>\n",
       "      <td>0.0</td>\n",
       "      <td>0.0</td>\n",
       "      <td>0.0</td>\n",
       "      <td>0.0</td>\n",
       "      <td>0.0</td>\n",
       "      <td>0.0</td>\n",
       "      <td>0.0</td>\n",
       "      <td>0.0</td>\n",
       "      <td>0.0</td>\n",
       "      <td>0.0</td>\n",
       "      <td>0.0</td>\n",
       "      <td>0.0</td>\n",
       "      <td>0.0</td>\n",
       "      <td>0.0</td>\n",
       "      <td>0.0</td>\n",
       "      <td>0</td>\n",
       "      <td>0.0</td>\n",
       "      <td>0</td>\n",
       "    </tr>\n",
       "  </tbody>\n",
       "</table>\n",
       "</div>"
      ],
      "text/plain": [
       "   srch_id  site_id  visitor_location_country_id  visitor_hist_starrating  \\\n",
       "0        1       12                          187                      0.0   \n",
       "\n",
       "   visitor_hist_adr_usd  prop_country_id  prop_id  prop_starrating  \\\n",
       "0                   0.0              219      893                3   \n",
       "\n",
       "   prop_review_score  prop_brand_bool  prop_location_score1  \\\n",
       "0                3.5                1                  2.83   \n",
       "\n",
       "   prop_location_score2  prop_log_historical_price  position  price_usd  \\\n",
       "0                0.0438                       4.95        27     104.77   \n",
       "\n",
       "   promotion_flag  srch_destination_id  srch_length_of_stay  \\\n",
       "0               0                23246                    1   \n",
       "\n",
       "   srch_booking_window  srch_adults_count  srch_children_count  \\\n",
       "0                    0                  4                    0   \n",
       "\n",
       "   srch_room_count  srch_saturday_night_bool  srch_query_affinity_score  \\\n",
       "0                1                         1                     -330.0   \n",
       "\n",
       "   orig_destination_distance  random_bool  comp1_rate  comp1_inv  \\\n",
       "0                1301.234406            1         0.0        0.0   \n",
       "\n",
       "   comp1_rate_percent_diff  comp2_rate  comp2_inv  comp2_rate_percent_diff  \\\n",
       "0                      0.0         0.0        0.0                      0.0   \n",
       "\n",
       "   comp3_rate  comp3_inv  comp3_rate_percent_diff  comp4_rate  comp4_inv  \\\n",
       "0         0.0        0.0                      0.0         0.0        0.0   \n",
       "\n",
       "   comp4_rate_percent_diff  comp5_rate  comp5_inv  comp5_rate_percent_diff  \\\n",
       "0                      0.0         0.0        0.0                      0.0   \n",
       "\n",
       "   comp6_rate  comp6_inv  comp6_rate_percent_diff  comp7_rate  comp7_inv  \\\n",
       "0         0.0        0.0                      0.0         0.0        0.0   \n",
       "\n",
       "   comp7_rate_percent_diff  comp8_rate  comp8_inv  comp8_rate_percent_diff  \\\n",
       "0                      0.0         0.0        0.0                      0.0   \n",
       "\n",
       "   click_bool  gross_bookings_usd  booking_bool  \n",
       "0           0                 0.0             0  "
      ]
     },
     "execution_count": 7,
     "metadata": {},
     "output_type": "execute_result"
    }
   ],
   "source": [
    "preprocessed_train.head(1)"
   ]
  },
  {
   "cell_type": "code",
   "execution_count": 8,
   "id": "8dd84338",
   "metadata": {},
   "outputs": [
    {
     "data": {
      "text/html": [
       "<div>\n",
       "<style scoped>\n",
       "    .dataframe tbody tr th:only-of-type {\n",
       "        vertical-align: middle;\n",
       "    }\n",
       "\n",
       "    .dataframe tbody tr th {\n",
       "        vertical-align: top;\n",
       "    }\n",
       "\n",
       "    .dataframe thead th {\n",
       "        text-align: right;\n",
       "    }\n",
       "</style>\n",
       "<table border=\"1\" class=\"dataframe\">\n",
       "  <thead>\n",
       "    <tr style=\"text-align: right;\">\n",
       "      <th></th>\n",
       "      <th>srch_id</th>\n",
       "      <th>site_id</th>\n",
       "      <th>visitor_location_country_id</th>\n",
       "      <th>visitor_hist_starrating</th>\n",
       "      <th>visitor_hist_adr_usd</th>\n",
       "      <th>prop_country_id</th>\n",
       "      <th>prop_id</th>\n",
       "      <th>prop_starrating</th>\n",
       "      <th>prop_review_score</th>\n",
       "      <th>prop_brand_bool</th>\n",
       "      <th>prop_location_score1</th>\n",
       "      <th>prop_location_score2</th>\n",
       "      <th>prop_log_historical_price</th>\n",
       "      <th>price_usd</th>\n",
       "      <th>promotion_flag</th>\n",
       "      <th>srch_destination_id</th>\n",
       "      <th>srch_length_of_stay</th>\n",
       "      <th>srch_booking_window</th>\n",
       "      <th>srch_adults_count</th>\n",
       "      <th>srch_children_count</th>\n",
       "      <th>srch_room_count</th>\n",
       "      <th>srch_saturday_night_bool</th>\n",
       "      <th>srch_query_affinity_score</th>\n",
       "      <th>orig_destination_distance</th>\n",
       "      <th>random_bool</th>\n",
       "      <th>comp1_rate</th>\n",
       "      <th>comp1_inv</th>\n",
       "      <th>comp1_rate_percent_diff</th>\n",
       "      <th>comp2_rate</th>\n",
       "      <th>comp2_inv</th>\n",
       "      <th>comp2_rate_percent_diff</th>\n",
       "      <th>comp3_rate</th>\n",
       "      <th>comp3_inv</th>\n",
       "      <th>comp3_rate_percent_diff</th>\n",
       "      <th>comp4_rate</th>\n",
       "      <th>comp4_inv</th>\n",
       "      <th>comp4_rate_percent_diff</th>\n",
       "      <th>comp5_rate</th>\n",
       "      <th>comp5_inv</th>\n",
       "      <th>comp5_rate_percent_diff</th>\n",
       "      <th>comp6_rate</th>\n",
       "      <th>comp6_inv</th>\n",
       "      <th>comp6_rate_percent_diff</th>\n",
       "      <th>comp7_rate</th>\n",
       "      <th>comp7_inv</th>\n",
       "      <th>comp7_rate_percent_diff</th>\n",
       "      <th>comp8_rate</th>\n",
       "      <th>comp8_inv</th>\n",
       "      <th>comp8_rate_percent_diff</th>\n",
       "    </tr>\n",
       "  </thead>\n",
       "  <tbody>\n",
       "    <tr>\n",
       "      <th>0</th>\n",
       "      <td>1</td>\n",
       "      <td>24</td>\n",
       "      <td>216</td>\n",
       "      <td>0.0</td>\n",
       "      <td>0.0</td>\n",
       "      <td>219</td>\n",
       "      <td>3180</td>\n",
       "      <td>3</td>\n",
       "      <td>4.5</td>\n",
       "      <td>1</td>\n",
       "      <td>2.94</td>\n",
       "      <td>0.0691</td>\n",
       "      <td>5.03</td>\n",
       "      <td>119.0</td>\n",
       "      <td>0</td>\n",
       "      <td>19222</td>\n",
       "      <td>1</td>\n",
       "      <td>10</td>\n",
       "      <td>2</td>\n",
       "      <td>0</td>\n",
       "      <td>1</td>\n",
       "      <td>0</td>\n",
       "      <td>-330.0</td>\n",
       "      <td>1312.801653</td>\n",
       "      <td>0</td>\n",
       "      <td>0.0</td>\n",
       "      <td>0.0</td>\n",
       "      <td>0.0</td>\n",
       "      <td>0.0</td>\n",
       "      <td>0.0</td>\n",
       "      <td>0.0</td>\n",
       "      <td>0.0</td>\n",
       "      <td>0.0</td>\n",
       "      <td>0.0</td>\n",
       "      <td>0.0</td>\n",
       "      <td>0.0</td>\n",
       "      <td>0.0</td>\n",
       "      <td>0.0</td>\n",
       "      <td>0.0</td>\n",
       "      <td>0.0</td>\n",
       "      <td>0.0</td>\n",
       "      <td>0.0</td>\n",
       "      <td>0.0</td>\n",
       "      <td>0.0</td>\n",
       "      <td>0.0</td>\n",
       "      <td>0.0</td>\n",
       "      <td>0.0</td>\n",
       "      <td>0.0</td>\n",
       "      <td>0.0</td>\n",
       "    </tr>\n",
       "  </tbody>\n",
       "</table>\n",
       "</div>"
      ],
      "text/plain": [
       "   srch_id  site_id  visitor_location_country_id  visitor_hist_starrating  \\\n",
       "0        1       24                          216                      0.0   \n",
       "\n",
       "   visitor_hist_adr_usd  prop_country_id  prop_id  prop_starrating  \\\n",
       "0                   0.0              219     3180                3   \n",
       "\n",
       "   prop_review_score  prop_brand_bool  prop_location_score1  \\\n",
       "0                4.5                1                  2.94   \n",
       "\n",
       "   prop_location_score2  prop_log_historical_price  price_usd  promotion_flag  \\\n",
       "0                0.0691                       5.03      119.0               0   \n",
       "\n",
       "   srch_destination_id  srch_length_of_stay  srch_booking_window  \\\n",
       "0                19222                    1                   10   \n",
       "\n",
       "   srch_adults_count  srch_children_count  srch_room_count  \\\n",
       "0                  2                    0                1   \n",
       "\n",
       "   srch_saturday_night_bool  srch_query_affinity_score  \\\n",
       "0                         0                     -330.0   \n",
       "\n",
       "   orig_destination_distance  random_bool  comp1_rate  comp1_inv  \\\n",
       "0                1312.801653            0         0.0        0.0   \n",
       "\n",
       "   comp1_rate_percent_diff  comp2_rate  comp2_inv  comp2_rate_percent_diff  \\\n",
       "0                      0.0         0.0        0.0                      0.0   \n",
       "\n",
       "   comp3_rate  comp3_inv  comp3_rate_percent_diff  comp4_rate  comp4_inv  \\\n",
       "0         0.0        0.0                      0.0         0.0        0.0   \n",
       "\n",
       "   comp4_rate_percent_diff  comp5_rate  comp5_inv  comp5_rate_percent_diff  \\\n",
       "0                      0.0         0.0        0.0                      0.0   \n",
       "\n",
       "   comp6_rate  comp6_inv  comp6_rate_percent_diff  comp7_rate  comp7_inv  \\\n",
       "0         0.0        0.0                      0.0         0.0        0.0   \n",
       "\n",
       "   comp7_rate_percent_diff  comp8_rate  comp8_inv  comp8_rate_percent_diff  \n",
       "0                      0.0         0.0        0.0                      0.0  "
      ]
     },
     "execution_count": 8,
     "metadata": {},
     "output_type": "execute_result"
    }
   ],
   "source": [
    "preprocessed_test.head(1)"
   ]
  },
  {
   "cell_type": "code",
   "execution_count": null,
   "id": "e91e61e5",
   "metadata": {},
   "outputs": [],
   "source": []
  },
  {
   "cell_type": "code",
   "execution_count": 9,
   "id": "f8c34ebc",
   "metadata": {},
   "outputs": [
    {
     "name": "stdout",
     "output_type": "stream",
     "text": [
      "Size of Train data:4958347\n",
      "Size of Test data:4959183\n"
     ]
    }
   ],
   "source": [
    "print(f'Size of Train data:{len(df_train)}')\n",
    "print(f'Size of Test data:{len(df_test)}')"
   ]
  },
  {
   "cell_type": "markdown",
   "id": "699985b2",
   "metadata": {},
   "source": [
    "## Make Relevance Targets"
   ]
  },
  {
   "cell_type": "markdown",
   "id": "8954fe30",
   "metadata": {},
   "source": [
    "Create a column called score which would be \n",
    "df['score'] = 4 * df.booking_bool + df.click_bool"
   ]
  },
  {
   "cell_type": "code",
   "execution_count": 15,
   "id": "65845b2f",
   "metadata": {},
   "outputs": [],
   "source": [
    "preprocessed_train['rel'] = 4 * preprocessed_train.booking_bool + preprocessed_train.click_bool"
   ]
  },
  {
   "cell_type": "code",
   "execution_count": 16,
   "id": "d03ebc7a",
   "metadata": {},
   "outputs": [],
   "source": [
    "X = preprocessed_train.drop(['rel', 'booking_bool', 'click_bool', 'gross_bookings_usd', 'position'], axis=1)"
   ]
  },
  {
   "cell_type": "code",
   "execution_count": 17,
   "id": "9a75817c",
   "metadata": {},
   "outputs": [
    {
     "name": "stdout",
     "output_type": "stream",
     "text": [
      "num_features:48\n"
     ]
    },
    {
     "data": {
      "text/html": [
       "<div>\n",
       "<style scoped>\n",
       "    .dataframe tbody tr th:only-of-type {\n",
       "        vertical-align: middle;\n",
       "    }\n",
       "\n",
       "    .dataframe tbody tr th {\n",
       "        vertical-align: top;\n",
       "    }\n",
       "\n",
       "    .dataframe thead th {\n",
       "        text-align: right;\n",
       "    }\n",
       "</style>\n",
       "<table border=\"1\" class=\"dataframe\">\n",
       "  <thead>\n",
       "    <tr style=\"text-align: right;\">\n",
       "      <th></th>\n",
       "      <th>srch_id</th>\n",
       "      <th>site_id</th>\n",
       "      <th>visitor_location_country_id</th>\n",
       "      <th>visitor_hist_starrating</th>\n",
       "      <th>visitor_hist_adr_usd</th>\n",
       "      <th>prop_country_id</th>\n",
       "      <th>prop_id</th>\n",
       "      <th>prop_starrating</th>\n",
       "      <th>prop_review_score</th>\n",
       "      <th>prop_brand_bool</th>\n",
       "      <th>prop_location_score1</th>\n",
       "      <th>prop_location_score2</th>\n",
       "      <th>prop_log_historical_price</th>\n",
       "      <th>price_usd</th>\n",
       "      <th>promotion_flag</th>\n",
       "      <th>srch_destination_id</th>\n",
       "      <th>srch_length_of_stay</th>\n",
       "      <th>srch_booking_window</th>\n",
       "      <th>srch_adults_count</th>\n",
       "      <th>srch_children_count</th>\n",
       "      <th>srch_room_count</th>\n",
       "      <th>srch_saturday_night_bool</th>\n",
       "      <th>srch_query_affinity_score</th>\n",
       "      <th>orig_destination_distance</th>\n",
       "      <th>random_bool</th>\n",
       "      <th>comp1_rate</th>\n",
       "      <th>comp1_inv</th>\n",
       "      <th>comp1_rate_percent_diff</th>\n",
       "      <th>comp2_rate</th>\n",
       "      <th>comp2_inv</th>\n",
       "      <th>comp2_rate_percent_diff</th>\n",
       "      <th>comp3_rate</th>\n",
       "      <th>comp3_inv</th>\n",
       "      <th>comp3_rate_percent_diff</th>\n",
       "      <th>comp4_rate</th>\n",
       "      <th>comp4_inv</th>\n",
       "      <th>comp4_rate_percent_diff</th>\n",
       "      <th>comp5_rate</th>\n",
       "      <th>comp5_inv</th>\n",
       "      <th>comp5_rate_percent_diff</th>\n",
       "      <th>comp6_rate</th>\n",
       "      <th>comp6_inv</th>\n",
       "      <th>comp6_rate_percent_diff</th>\n",
       "      <th>comp7_rate</th>\n",
       "      <th>comp7_inv</th>\n",
       "      <th>comp7_rate_percent_diff</th>\n",
       "      <th>comp8_rate</th>\n",
       "      <th>comp8_inv</th>\n",
       "      <th>comp8_rate_percent_diff</th>\n",
       "    </tr>\n",
       "  </thead>\n",
       "  <tbody>\n",
       "    <tr>\n",
       "      <th>0</th>\n",
       "      <td>1</td>\n",
       "      <td>12</td>\n",
       "      <td>187</td>\n",
       "      <td>0.0</td>\n",
       "      <td>0.0</td>\n",
       "      <td>219</td>\n",
       "      <td>893</td>\n",
       "      <td>3</td>\n",
       "      <td>3.5</td>\n",
       "      <td>1</td>\n",
       "      <td>2.83</td>\n",
       "      <td>0.0438</td>\n",
       "      <td>4.95</td>\n",
       "      <td>104.77</td>\n",
       "      <td>0</td>\n",
       "      <td>23246</td>\n",
       "      <td>1</td>\n",
       "      <td>0</td>\n",
       "      <td>4</td>\n",
       "      <td>0</td>\n",
       "      <td>1</td>\n",
       "      <td>1</td>\n",
       "      <td>-330.0</td>\n",
       "      <td>1301.234406</td>\n",
       "      <td>1</td>\n",
       "      <td>0.0</td>\n",
       "      <td>0.0</td>\n",
       "      <td>0.0</td>\n",
       "      <td>0.0</td>\n",
       "      <td>0.0</td>\n",
       "      <td>0.0</td>\n",
       "      <td>0.0</td>\n",
       "      <td>0.0</td>\n",
       "      <td>0.0</td>\n",
       "      <td>0.0</td>\n",
       "      <td>0.0</td>\n",
       "      <td>0.0</td>\n",
       "      <td>0.0</td>\n",
       "      <td>0.0</td>\n",
       "      <td>0.0</td>\n",
       "      <td>0.0</td>\n",
       "      <td>0.0</td>\n",
       "      <td>0.0</td>\n",
       "      <td>0.0</td>\n",
       "      <td>0.0</td>\n",
       "      <td>0.0</td>\n",
       "      <td>0.0</td>\n",
       "      <td>0.0</td>\n",
       "      <td>0.0</td>\n",
       "    </tr>\n",
       "  </tbody>\n",
       "</table>\n",
       "</div>"
      ],
      "text/plain": [
       "   srch_id  site_id  visitor_location_country_id  visitor_hist_starrating  \\\n",
       "0        1       12                          187                      0.0   \n",
       "\n",
       "   visitor_hist_adr_usd  prop_country_id  prop_id  prop_starrating  \\\n",
       "0                   0.0              219      893                3   \n",
       "\n",
       "   prop_review_score  prop_brand_bool  prop_location_score1  \\\n",
       "0                3.5                1                  2.83   \n",
       "\n",
       "   prop_location_score2  prop_log_historical_price  price_usd  promotion_flag  \\\n",
       "0                0.0438                       4.95     104.77               0   \n",
       "\n",
       "   srch_destination_id  srch_length_of_stay  srch_booking_window  \\\n",
       "0                23246                    1                    0   \n",
       "\n",
       "   srch_adults_count  srch_children_count  srch_room_count  \\\n",
       "0                  4                    0                1   \n",
       "\n",
       "   srch_saturday_night_bool  srch_query_affinity_score  \\\n",
       "0                         1                     -330.0   \n",
       "\n",
       "   orig_destination_distance  random_bool  comp1_rate  comp1_inv  \\\n",
       "0                1301.234406            1         0.0        0.0   \n",
       "\n",
       "   comp1_rate_percent_diff  comp2_rate  comp2_inv  comp2_rate_percent_diff  \\\n",
       "0                      0.0         0.0        0.0                      0.0   \n",
       "\n",
       "   comp3_rate  comp3_inv  comp3_rate_percent_diff  comp4_rate  comp4_inv  \\\n",
       "0         0.0        0.0                      0.0         0.0        0.0   \n",
       "\n",
       "   comp4_rate_percent_diff  comp5_rate  comp5_inv  comp5_rate_percent_diff  \\\n",
       "0                      0.0         0.0        0.0                      0.0   \n",
       "\n",
       "   comp6_rate  comp6_inv  comp6_rate_percent_diff  comp7_rate  comp7_inv  \\\n",
       "0         0.0        0.0                      0.0         0.0        0.0   \n",
       "\n",
       "   comp7_rate_percent_diff  comp8_rate  comp8_inv  comp8_rate_percent_diff  \n",
       "0                      0.0         0.0        0.0                      0.0  "
      ]
     },
     "execution_count": 17,
     "metadata": {},
     "output_type": "execute_result"
    }
   ],
   "source": [
    "print(f'num_features:{X.shape[1]-1}') # -1 as we donot use srch_id\n",
    "X.head(1)"
   ]
  },
  {
   "cell_type": "markdown",
   "id": "bfd74ae2",
   "metadata": {},
   "source": [
    "# Train Test Split"
   ]
  },
  {
   "cell_type": "code",
   "execution_count": 19,
   "id": "a970ec66",
   "metadata": {},
   "outputs": [],
   "source": [
    "from sklearn.model_selection import GroupShuffleSplit\n",
    "gss = GroupShuffleSplit(test_size=.40, n_splits=1, random_state = 7).split(X, groups=X['srch_id'])\n",
    "X_train_inds, X_val_inds = next(gss)"
   ]
  },
  {
   "cell_type": "code",
   "execution_count": 20,
   "id": "b597e674",
   "metadata": {},
   "outputs": [],
   "source": [
    "assert len(X) == len(X_train_inds) + len(X_val_inds)"
   ]
  },
  {
   "cell_type": "code",
   "execution_count": 21,
   "id": "a5712645",
   "metadata": {},
   "outputs": [],
   "source": [
    "train_data= X.iloc[X_train_inds]\n",
    "X_train = train_data.loc[:, ~train_data.columns.isin(['srch_id','rel'])]\n",
    "y_train = train_data.loc[:, train_data.columns.isin(['rel'])]\n",
    "train_groups = train_data.groupby('srch_id').size().to_frame('size')['size'].to_numpy()"
   ]
  },
  {
   "cell_type": "code",
   "execution_count": 24,
   "id": "2320dc6a",
   "metadata": {},
   "outputs": [],
   "source": [
    "val_data= X.iloc[X_val_inds]\n",
    "#We need to keep the id for later predictions\n",
    "X_val = val_data.loc[:, ~val_data.columns.isin(['srch_id','rel'])]\n",
    "X_val_with_srch_id = val_data.loc[:, ~val_data.columns.isin(['rel'])]\n",
    "y_val = val_data.loc[:, val_data.columns.isin(['rel'])]\n",
    "eval_groups = X_val_with_srch_id.groupby('srch_id').size().to_frame('size')['size'].to_numpy()"
   ]
  },
  {
   "cell_type": "code",
   "execution_count": 37,
   "id": "a7def4b8",
   "metadata": {},
   "outputs": [
    {
     "name": "stdout",
     "output_type": "stream",
     "text": [
      "[0]\tvalidation_0-ndcg:1.00000\n",
      "[1]\tvalidation_0-ndcg:1.00000\n",
      "[2]\tvalidation_0-ndcg:1.00000\n",
      "[3]\tvalidation_0-ndcg:1.00000\n",
      "[4]\tvalidation_0-ndcg:1.00000\n",
      "[5]\tvalidation_0-ndcg:1.00000\n",
      "[6]\tvalidation_0-ndcg:1.00000\n",
      "[7]\tvalidation_0-ndcg:1.00000\n",
      "[8]\tvalidation_0-ndcg:1.00000\n",
      "[9]\tvalidation_0-ndcg:1.00000\n"
     ]
    },
    {
     "data": {
      "text/plain": [
       "XGBRanker(base_score=0.5, booster='gbtree', colsample_bylevel=1,\n",
       "          colsample_bynode=1, colsample_bytree=0.9, enable_categorical=False,\n",
       "          eta=0.05, gamma=0, gpu_id=0, importance_type=None,\n",
       "          interaction_constraints='', learning_rate=0.1, max_delta_step=0,\n",
       "          max_depth=6, min_child_weight=1, missing=nan,\n",
       "          monotone_constraints='()', n_estimators=10, n_jobs=16,\n",
       "          num_parallel_tree=1, objective='rank:ndcg', predictor='gpu_predictor',\n",
       "          random_state=42, reg_alpha=0, reg_lambda=1, scale_pos_weight=None,\n",
       "          subsample=0.75, tree_method='gpu_hist', validate_parameters=1,\n",
       "          verbosity=None)"
      ]
     },
     "execution_count": 37,
     "metadata": {},
     "output_type": "execute_result"
    }
   ],
   "source": [
    "import xgboost as xgb\n",
    "\n",
    "model = xgb.XGBRanker(  \n",
    "    tree_method='gpu_hist',\n",
    "    booster='gbtree',\n",
    "    objective='rank:ndcg',\n",
    "    random_state=42, \n",
    "    learning_rate=0.1,\n",
    "    colsample_bytree=0.9, \n",
    "    eta=0.05, \n",
    "    max_depth=6, \n",
    "    n_estimators=10, \n",
    "    subsample=0.75,\n",
    "    predictor='gpu_predictor'\n",
    "    )\n",
    "\n",
    "model.fit(X_train, y_train, group=train_groups, eval_set=[(X_val, y_val)], \n",
    "          eval_group = [eval_groups], eval_metric='ndcg', verbose=True)"
   ]
  },
  {
   "cell_type": "code",
   "execution_count": null,
   "id": "5c68a2ad",
   "metadata": {},
   "outputs": [],
   "source": [
    "X_train"
   ]
  },
  {
   "cell_type": "code",
   "execution_count": 30,
   "id": "c906b872",
   "metadata": {},
   "outputs": [
    {
     "data": {
      "text/plain": [
       "array([0., 0., 0., 0., 0., 0., 0., 0., 0., 0., 0., 0., 0., 0., 0., 0., 0.,\n",
       "       0., 0., 0., 0., 0., 0., 0., 0., 0., 0., 0., 0., 0., 0., 0., 0., 0.,\n",
       "       0., 0., 0., 0., 0., 0., 0., 0., 0., 0., 0., 0., 0., 0.],\n",
       "      dtype=float32)"
      ]
     },
     "execution_count": 30,
     "metadata": {},
     "output_type": "execute_result"
    }
   ],
   "source": [
    "model.feature_importances_.round(decimals=2)"
   ]
  },
  {
   "cell_type": "code",
   "execution_count": 40,
   "id": "5242175e",
   "metadata": {},
   "outputs": [],
   "source": [
    "def recommend_properties(model, data):\n",
    "    result = pd.DataFrame(columns=['srch_id', 'prop_id', 'scores'])\n",
    "    grouped_data = data.groupby('srch_id')\n",
    "    for group_name, group in tqdm(grouped_data):\n",
    "        scores = model.predict(group.loc[:, ~group.columns.isin(['srch_id'])])\n",
    "        sorted_group = sort_properties(group_name, scores, group['prop_id'])\n",
    "        result = result.append(sorted_group)\n",
    "    return result"
   ]
  },
  {
   "cell_type": "code",
   "execution_count": 41,
   "id": "ec6a362a",
   "metadata": {},
   "outputs": [],
   "source": [
    "def sort_properties(srch_id, scores, prop_ids):\n",
    "    sorted_group = pd.DataFrame(columns=['srch_id', 'prop_id', 'scores'])\n",
    "    sorted_group['srch_id'] = len(scores)*[srch_id]\n",
    "    sorted_group['prop_id'] = prop_ids.values\n",
    "    sorted_group['scores'] = scores\n",
    "    sorted_group = sorted_group.sort_values(by='scores', ascending=False)\n",
    "    return sorted_group "
   ]
  },
  {
   "cell_type": "code",
   "execution_count": 42,
   "id": "e0f2ea72",
   "metadata": {},
   "outputs": [
    {
     "name": "stderr",
     "output_type": "stream",
     "text": [
      "  0%|                                                             | 10/199549 [00:01<4:30:48, 12.28it/s]"
     ]
    },
    {
     "name": "stdout",
     "output_type": "stream",
     "text": [
      "prediction time:0.0060002803802490234\n",
      "sort time:0.0030007362365722656\n",
      "prediction time:0.00800180435180664\n",
      "sort time:0.0030007362365722656\n",
      "prediction time:0.007001161575317383\n",
      "sort time:0.002000570297241211\n",
      "prediction time:0.007001638412475586\n",
      "sort time:0.0030007362365722656\n",
      "prediction time:0.00800180435180664\n",
      "sort time:0.002000570297241211\n",
      "prediction time:0.007001638412475586\n",
      "sort time:0.004001140594482422\n",
      "prediction time:0.00600123405456543\n",
      "sort time:0.0030007362365722656\n",
      "prediction time:0.007001399993896484\n",
      "sort time:0.002000570297241211\n",
      "prediction time:0.007001638412475586\n",
      "sort time:0.0030007362365722656\n",
      "prediction time:0.00600123405456543\n",
      "sort time:0.0030007362365722656\n",
      "prediction time:0.00600123405456543\n",
      "sort time:0.0030007362365722656\n",
      "prediction time:0.00800180435180664\n",
      "sort time:0.003000497817993164\n",
      "prediction time:0.00600123405456543\n",
      "sort time:0.0030007362365722656\n",
      "prediction time:0.007001638412475586\n",
      "sort time:0.003000497817993164\n",
      "prediction time:0.00600123405456543\n",
      "sort time:0.002000570297241211\n",
      "prediction time:0.00800180435180664\n",
      "sort time:0.003000497817993164\n",
      "prediction time:0.007001399993896484\n",
      "sort time:0.003000974655151367\n",
      "prediction time:0.00600123405456543\n",
      "sort time:0.003000497817993164"
     ]
    },
    {
     "name": "stderr",
     "output_type": "stream",
     "text": [
      "  0%|                                                             | 29/199549 [00:01<1:30:19, 36.82it/s]"
     ]
    },
    {
     "name": "stdout",
     "output_type": "stream",
     "text": [
      "\n",
      "prediction time:0.00600123405456543\n",
      "sort time:0.004001617431640625\n",
      "prediction time:0.007001161575317383\n",
      "sort time:0.0030007362365722656\n",
      "prediction time:0.007001638412475586\n",
      "sort time:0.003000497817993164\n",
      "prediction time:0.00600123405456543\n",
      "sort time:0.0030007362365722656\n",
      "prediction time:0.006001710891723633\n",
      "sort time:0.00400090217590332\n",
      "prediction time:0.007001399993896484\n",
      "sort time:0.003000974655151367\n",
      "prediction time:0.007001399993896484\n",
      "sort time:0.003000497817993164\n",
      "prediction time:0.00600123405456543\n",
      "sort time:0.004001617431640625\n",
      "prediction time:0.00600123405456543\n",
      "sort time:0.003000974655151367\n",
      "prediction time:0.00800180435180664\n",
      "sort time:0.004001140594482422\n",
      "prediction time:0.006000995635986328\n",
      "sort time:0.0040013790130615234\n",
      "prediction time:0.00800180435180664\n",
      "sort time:0.004000663757324219\n",
      "prediction time:0.007001161575317383\n",
      "sort time:0.003000974655151367\n",
      "prediction time:0.00800180435180664\n",
      "sort time:0.004001140594482422\n",
      "prediction time:0.007001638412475586\n",
      "sort time:0.003000974655151367\n"
     ]
    },
    {
     "name": "stderr",
     "output_type": "stream",
     "text": [
      "  0%|                                                               | 47/199549 [00:01<58:57, 56.39it/s]"
     ]
    },
    {
     "name": "stdout",
     "output_type": "stream",
     "text": [
      "prediction time:0.00600123405456543\n",
      "sort time:0.004001140594482422\n",
      "prediction time:0.008002042770385742\n",
      "sort time:0.003000497817993164\n",
      "prediction time:0.007001638412475586\n",
      "sort time:0.0030007362365722656\n",
      "prediction time:0.00600123405456543\n",
      "sort time:0.003000974655151367\n",
      "prediction time:0.006001472473144531\n",
      "sort time:0.00400090217590332\n",
      "prediction time:0.00800180435180664\n",
      "sort time:0.0030012130737304688\n",
      "prediction time:0.0070018768310546875\n",
      "sort time:0.003000497817993164\n",
      "prediction time:0.007001638412475586\n",
      "sort time:0.003000497817993164\n",
      "prediction time:0.007001638412475586\n",
      "sort time:0.0030007362365722656\n",
      "prediction time:0.007001399993896484\n",
      "sort time:0.002000570297241211\n",
      "prediction time:0.007001638412475586\n",
      "sort time:0.0030007362365722656\n",
      "prediction time:0.007001638412475586\n",
      "sort time:0.003000497817993164\n",
      "prediction time:0.006001472473144531\n",
      "sort time:0.003000974655151367\n",
      "prediction time:0.007001638412475586\n",
      "sort time:0.0030014514923095703\n",
      "prediction time:0.00600123405456543\n",
      "sort time:0.00400090217590332\n",
      "prediction time:0.008002042770385742\n",
      "sort time:0.0030007362365722656\n",
      "prediction time:0.007001399993896484\n",
      "sort time:0.0030007362365722656"
     ]
    },
    {
     "name": "stderr",
     "output_type": "stream",
     "text": [
      "  0%|                                                               | 65/199549 [00:01<48:26, 68.63it/s]"
     ]
    },
    {
     "name": "stdout",
     "output_type": "stream",
     "text": [
      "\n",
      "prediction time:0.007002115249633789\n",
      "sort time:0.004001140594482422\n",
      "prediction time:0.007001399993896484\n",
      "sort time:0.0030007362365722656\n",
      "prediction time:0.007001638412475586\n",
      "sort time:0.0040013790130615234\n",
      "prediction time:0.007001161575317383\n",
      "sort time:0.004001140594482422\n",
      "prediction time:0.00800180435180664\n",
      "sort time:0.004000663757324219\n",
      "prediction time:0.008002042770385742\n",
      "sort time:0.0030007362365722656\n",
      "prediction time:0.007001638412475586\n",
      "sort time:0.004001140594482422\n",
      "prediction time:0.008002042770385742\n",
      "sort time:0.0030002593994140625\n",
      "prediction time:0.00800180435180664\n",
      "sort time:0.003000497817993164\n",
      "prediction time:0.007001638412475586\n",
      "sort time:0.0030007362365722656\n",
      "prediction time:0.006001949310302734\n",
      "sort time:0.00400090217590332\n",
      "prediction time:0.006001710891723633\n",
      "sort time:0.003000497817993164\n",
      "prediction time:0.007001161575317383\n",
      "sort time:0.0040013790130615234\n",
      "prediction time:0.007001399993896484\n",
      "sort time:0.00400090217590332\n",
      "prediction time:0.007001161575317383\n",
      "sort time:0.003000497817993164\n",
      "prediction time:0.008002042770385742\n",
      "sort time:0.004001140594482422"
     ]
    },
    {
     "name": "stderr",
     "output_type": "stream",
     "text": [
      "\r",
      "  0%|                                                               | 74/199549 [00:01<45:24, 73.22it/s]"
     ]
    },
    {
     "name": "stdout",
     "output_type": "stream",
     "text": [
      "\n",
      "prediction time:0.008002996444702148\n",
      "sort time:0.004000186920166016\n",
      "prediction time:0.006001710891723633\n",
      "sort time:0.004000663757324219\n",
      "prediction time:0.007001638412475586\n",
      "sort time:0.003000497817993164\n",
      "prediction time:0.006001472473144531\n",
      "sort time:0.004001140594482422\n",
      "prediction time:0.007001638412475586\n",
      "sort time:0.0030007362365722656\n",
      "prediction time:0.007001638412475586\n",
      "sort time:0.003000497817993164\n",
      "prediction time:0.0070018768310546875\n",
      "sort time:0.0040013790130615234\n",
      "prediction time:0.007001638412475586\n",
      "sort time:0.003000497817993164\n",
      "prediction time:0.008002042770385742\n",
      "sort time:0.004000663757324219\n",
      "prediction time:0.0070018768310546875\n",
      "sort time:0.0030007362365722656\n",
      "prediction time:0.008002758026123047\n",
      "sort time:0.0029997825622558594\n",
      "prediction time:0.00800180435180664\n",
      "sort time:0.004001140594482422\n",
      "prediction time:0.008001565933227539\n",
      "sort time:0.0030007362365722656\n",
      "prediction time:0.007001638412475586\n",
      "sort time:0.003000497817993164\n",
      "prediction time:0.008002042770385742\n",
      "sort time:0.003000497817993164\n",
      "prediction time:0.007001638412475586\n",
      "sort time:0.003000974655151367"
     ]
    },
    {
     "name": "stderr",
     "output_type": "stream",
     "text": [
      "  0%|                                                               | 92/199549 [00:02<41:46, 79.57it/s]"
     ]
    },
    {
     "name": "stdout",
     "output_type": "stream",
     "text": [
      "\n",
      "prediction time:0.0070018768310546875\n",
      "sort time:0.004000663757324219\n",
      "prediction time:0.007001399993896484\n",
      "sort time:0.00400090217590332\n",
      "prediction time:0.007001399993896484\n",
      "sort time:0.0030007362365722656\n",
      "prediction time:0.006001472473144531\n",
      "sort time:0.003000497817993164\n",
      "prediction time:0.007001638412475586\n",
      "sort time:0.00400090217590332\n",
      "prediction time:0.007001638412475586\n",
      "sort time:0.003000497817993164\n",
      "prediction time:0.007001638412475586\n",
      "sort time:0.003000974655151367\n",
      "prediction time:0.006000995635986328\n",
      "sort time:0.0030007362365722656\n",
      "prediction time:0.006001472473144531\n",
      "sort time:0.0030007362365722656\n",
      "prediction time:0.006001472473144531\n",
      "sort time:0.003000497817993164\n",
      "prediction time:0.008001327514648438\n",
      "sort time:0.0030007362365722656\n",
      "prediction time:0.00800180435180664\n",
      "sort time:0.003000497817993164\n",
      "prediction time:0.00800180435180664\n",
      "sort time:0.0030007362365722656\n",
      "prediction time:0.007002115249633789\n",
      "sort time:0.0030002593994140625\n",
      "prediction time:0.008001565933227539\n",
      "sort time:0.00400090217590332\n",
      "prediction time:0.007001399993896484\n"
     ]
    },
    {
     "name": "stderr",
     "output_type": "stream",
     "text": [
      "  0%|                                                              | 110/199549 [00:02<41:08, 80.79it/s]"
     ]
    },
    {
     "name": "stdout",
     "output_type": "stream",
     "text": [
      "sort time:0.0030007362365722656\n",
      "prediction time:0.0070018768310546875\n",
      "sort time:0.003000497817993164\n",
      "prediction time:0.007001638412475586\n",
      "sort time:0.003000974655151367\n",
      "prediction time:0.009001970291137695\n",
      "sort time:0.003000497817993164\n",
      "prediction time:0.007001638412475586\n",
      "sort time:0.004001617431640625\n",
      "prediction time:0.008001565933227539\n",
      "sort time:0.0030002593994140625\n",
      "prediction time:0.008001565933227539\n",
      "sort time:0.004001140594482422\n",
      "prediction time:0.007001638412475586\n",
      "sort time:0.0030002593994140625\n",
      "prediction time:0.010002374649047852\n",
      "sort time:0.0030007362365722656\n",
      "prediction time:0.009002447128295898\n",
      "sort time:0.004000425338745117\n",
      "prediction time:0.007001638412475586\n",
      "sort time:0.003000974655151367\n",
      "prediction time:0.006001472473144531\n",
      "sort time:0.003000497817993164\n",
      "prediction time:0.00600123405456543\n",
      "sort time:0.00400090217590332\n",
      "prediction time:0.00800180435180664\n",
      "sort time:0.004001140594482422\n",
      "prediction time:0.0070018768310546875\n",
      "sort time:0.004001140594482422\n",
      "prediction time:0.008001565933227539\n",
      "sort time:0.004001140594482422"
     ]
    },
    {
     "name": "stderr",
     "output_type": "stream",
     "text": [
      "\r",
      "  0%|                                                              | 119/199549 [00:02<41:12, 80.66it/s]"
     ]
    },
    {
     "name": "stdout",
     "output_type": "stream",
     "text": [
      "\n",
      "prediction time:0.00800180435180664\n",
      "sort time:0.004001140594482422\n",
      "prediction time:0.007001161575317383\n",
      "sort time:0.0030007362365722656\n",
      "prediction time:0.009001970291137695\n",
      "sort time:0.0030007362365722656\n",
      "prediction time:0.0070018768310546875\n",
      "sort time:0.003000974655151367\n",
      "prediction time:0.007001638412475586\n",
      "sort time:0.003000497817993164\n",
      "prediction time:0.00800180435180664\n",
      "sort time:0.0030007362365722656\n",
      "prediction time:0.008002281188964844\n",
      "sort time:0.003999948501586914\n",
      "prediction time:0.007001399993896484\n",
      "sort time:0.00400090217590332\n",
      "prediction time:0.010001897811889648\n",
      "sort time:0.0030007362365722656\n",
      "prediction time:0.008002042770385742\n",
      "sort time:0.0050008296966552734\n",
      "prediction time:0.007001161575317383\n",
      "sort time:0.004000663757324219\n",
      "prediction time:0.007001638412475586\n",
      "sort time:0.0030007362365722656\n",
      "prediction time:0.007001638412475586\n",
      "sort time:0.003000974655151367\n",
      "prediction time:0.007001399993896484\n",
      "sort time:0.0030012130737304688\n",
      "prediction time:0.007001638412475586\n"
     ]
    },
    {
     "name": "stderr",
     "output_type": "stream",
     "text": [
      "  0%|                                                              | 137/199549 [00:02<40:15, 82.54it/s]"
     ]
    },
    {
     "name": "stdout",
     "output_type": "stream",
     "text": [
      "sort time:0.003000497817993164\n",
      "prediction time:0.007001399993896484\n",
      "sort time:0.004001140594482422\n",
      "prediction time:0.008001327514648438\n",
      "sort time:0.003000497817993164\n",
      "prediction time:0.007002115249633789\n",
      "sort time:0.003000497817993164\n",
      "prediction time:0.007001638412475586\n",
      "sort time:0.0030012130737304688\n",
      "prediction time:0.007001161575317383\n",
      "sort time:0.003000497817993164\n",
      "prediction time:0.007001638412475586\n",
      "sort time:0.003000974655151367\n",
      "prediction time:0.00600123405456543\n",
      "sort time:0.0020003318786621094\n",
      "prediction time:0.007001638412475586\n",
      "sort time:0.003000974655151367\n",
      "prediction time:0.007001161575317383\n",
      "sort time:0.0030012130737304688\n",
      "prediction time:0.0070018768310546875\n",
      "sort time:0.004000663757324219\n",
      "prediction time:0.007001638412475586\n",
      "sort time:0.003000974655151367\n",
      "prediction time:0.007001638412475586\n",
      "sort time:0.0030007362365722656\n",
      "prediction time:0.008002042770385742\n",
      "sort time:0.003000497817993164\n",
      "prediction time:0.008002042770385742\n",
      "sort time:0.003000974655151367\n",
      "prediction time:0.008001565933227539\n",
      "sort time:0.003000497817993164\n",
      "prediction time:0.007001638412475586\n"
     ]
    },
    {
     "name": "stderr",
     "output_type": "stream",
     "text": [
      "  0%|                                                              | 155/199549 [00:02<39:42, 83.70it/s]"
     ]
    },
    {
     "name": "stdout",
     "output_type": "stream",
     "text": [
      "sort time:0.004001140594482422\n",
      "prediction time:0.007001399993896484\n",
      "sort time:0.003000497817993164\n",
      "prediction time:0.00600123405456543\n",
      "sort time:0.0040013790130615234\n",
      "prediction time:0.007002353668212891\n",
      "sort time:0.003999471664428711\n",
      "prediction time:0.00800180435180664\n",
      "sort time:0.003000974655151367\n",
      "prediction time:0.00600123405456543\n",
      "sort time:0.0030007362365722656\n",
      "prediction time:0.008002042770385742\n",
      "sort time:0.003000497817993164\n",
      "prediction time:0.006001472473144531\n",
      "sort time:0.003000497817993164\n",
      "prediction time:0.007001638412475586\n",
      "sort time:0.003000497817993164\n",
      "prediction time:0.0070018768310546875\n",
      "sort time:0.004000663757324219\n",
      "prediction time:0.007001638412475586\n",
      "sort time:0.00400090217590332\n",
      "prediction time:0.007001399993896484\n",
      "sort time:0.0030007362365722656\n",
      "prediction time:0.0070018768310546875\n",
      "sort time:0.004001140594482422\n",
      "prediction time:0.008001327514648438\n",
      "sort time:0.0030014514923095703\n",
      "prediction time:0.007002115249633789\n",
      "sort time:0.003000020980834961\n",
      "prediction time:0.007001638412475586\n",
      "sort time:0.0030007362365722656\n",
      "prediction time:0.00800180435180664\n",
      "sort time:0.0030007362365722656"
     ]
    },
    {
     "name": "stderr",
     "output_type": "stream",
     "text": [
      "  0%|                                                              | 173/199549 [00:03<39:07, 84.92it/s]"
     ]
    },
    {
     "name": "stdout",
     "output_type": "stream",
     "text": [
      "\n",
      "prediction time:0.00800180435180664\n",
      "sort time:0.004001140594482422\n",
      "prediction time:0.007001638412475586\n",
      "sort time:0.003000497817993164\n",
      "prediction time:0.007001638412475586\n",
      "sort time:0.003000497817993164\n",
      "prediction time:0.0070018768310546875\n",
      "sort time:0.003000974655151367\n",
      "prediction time:0.008002042770385742\n",
      "sort time:0.003000020980834961\n",
      "prediction time:0.006001472473144531\n",
      "sort time:0.004001140594482422\n",
      "prediction time:0.007001638412475586\n",
      "sort time:0.0030007362365722656\n",
      "prediction time:0.007001638412475586\n",
      "sort time:0.003000497817993164\n",
      "prediction time:0.0070018768310546875\n",
      "sort time:0.0030007362365722656\n",
      "prediction time:0.00800180435180664\n",
      "sort time:0.0030007362365722656\n",
      "prediction time:0.00600123405456543\n",
      "sort time:0.00400090217590332\n",
      "prediction time:0.006001472473144531\n",
      "sort time:0.0030007362365722656\n",
      "prediction time:0.00600123405456543\n",
      "sort time:0.003000974655151367\n",
      "prediction time:0.0070018768310546875\n",
      "sort time:0.004000663757324219\n",
      "prediction time:0.007001399993896484\n",
      "sort time:0.0030012130737304688\n",
      "prediction time:0.0070018768310546875\n",
      "sort time:0.003000497817993164"
     ]
    },
    {
     "name": "stderr",
     "output_type": "stream",
     "text": [
      "  0%|                                                              | 191/199549 [00:03<38:22, 86.57it/s]"
     ]
    },
    {
     "name": "stdout",
     "output_type": "stream",
     "text": [
      "\n",
      "prediction time:0.007001399993896484\n",
      "sort time:0.0030002593994140625\n",
      "prediction time:0.006000995635986328\n",
      "sort time:0.0030007362365722656\n",
      "prediction time:0.007001638412475586\n",
      "sort time:0.0020003318786621094\n",
      "prediction time:0.007001638412475586\n",
      "sort time:0.003000974655151367\n",
      "prediction time:0.00600123405456543\n",
      "sort time:0.0030007362365722656\n",
      "prediction time:0.007001638412475586\n",
      "sort time:0.003000497817993164\n",
      "prediction time:0.009001970291137695\n",
      "sort time:0.003000974655151367\n",
      "prediction time:0.0060007572174072266\n",
      "sort time:0.0030007362365722656\n",
      "prediction time:0.007001399993896484\n",
      "sort time:0.003000497817993164\n",
      "prediction time:0.007001399993896484\n",
      "sort time:0.003000974655151367\n",
      "prediction time:0.0070018768310546875\n",
      "sort time:0.003000497817993164\n",
      "prediction time:0.007002115249633789\n",
      "sort time:0.003000020980834961\n",
      "prediction time:0.006001949310302734\n",
      "sort time:0.003000497817993164\n",
      "prediction time:0.007001399993896484\n",
      "sort time:0.0030007362365722656\n",
      "prediction time:0.0070018768310546875\n",
      "sort time:0.003000497817993164\n",
      "prediction time:0.0070018768310546875\n",
      "sort time:0.00400090217590332\n",
      "prediction time:0.006001472473144531\n"
     ]
    },
    {
     "name": "stderr",
     "output_type": "stream",
     "text": [
      "\r",
      "  0%|                                                              | 200/199549 [00:03<38:16, 86.81it/s]"
     ]
    },
    {
     "name": "stdout",
     "output_type": "stream",
     "text": [
      "sort time:0.003000497817993164\n",
      "prediction time:0.009002208709716797\n",
      "sort time:0.00400090217590332\n",
      "prediction time:0.007001638412475586\n",
      "sort time:0.003000497817993164\n",
      "prediction time:0.007001399993896484\n",
      "sort time:0.003000497817993164\n",
      "prediction time:0.007001638412475586\n",
      "sort time:0.003000974655151367\n",
      "prediction time:0.007001161575317383\n",
      "sort time:0.003000497817993164\n",
      "prediction time:0.007001638412475586\n",
      "sort time:0.0030007362365722656\n",
      "prediction time:0.007001638412475586\n",
      "sort time:0.003000497817993164\n",
      "prediction time:0.008002042770385742\n",
      "sort time:0.004000663757324219\n",
      "prediction time:0.007001638412475586\n",
      "sort time:0.003000497817993164\n",
      "prediction time:0.009002447128295898\n",
      "sort time:0.003000497817993164\n",
      "prediction time:0.0070018768310546875\n",
      "sort time:0.0030002593994140625\n",
      "prediction time:0.00600123405456543\n",
      "sort time:0.002000570297241211\n",
      "prediction time:0.007001638412475586\n",
      "sort time:0.002000570297241211\n",
      "prediction time:0.006001710891723633\n",
      "sort time:0.0030002593994140625\n",
      "prediction time:0.007001638412475586\n",
      "sort time:0.003000497817993164\n",
      "prediction time:0.007001638412475586\n",
      "sort time:0.002000093460083008\n"
     ]
    },
    {
     "name": "stderr",
     "output_type": "stream",
     "text": [
      "  0%|                                                              | 218/199549 [00:03<38:59, 85.21it/s]"
     ]
    },
    {
     "name": "stdout",
     "output_type": "stream",
     "text": [
      "prediction time:0.009001970291137695\n",
      "sort time:0.003000497817993164\n",
      "prediction time:0.00800180435180664\n",
      "sort time:0.0030012130737304688\n",
      "prediction time:0.006001472473144531\n",
      "sort time:0.004001140594482422\n",
      "prediction time:0.00800180435180664\n",
      "sort time:0.004000663757324219\n",
      "prediction time:0.007001161575317383\n",
      "sort time:0.003000974655151367\n",
      "prediction time:0.006001472473144531\n",
      "sort time:0.004000663757324219\n",
      "prediction time:0.007001638412475586\n",
      "sort time:0.00400090217590332\n",
      "prediction time:0.007001399993896484\n",
      "sort time:0.00400090217590332\n",
      "prediction time:0.009002685546875\n",
      "sort time:0.0030007362365722656\n",
      "prediction time:0.007002115249633789\n",
      "sort time:0.0030002593994140625\n",
      "prediction time:0.007001399993896484\n",
      "sort time:0.003000974655151367\n",
      "prediction time:0.0070018768310546875\n",
      "sort time:0.003000497817993164\n",
      "prediction time:0.006001472473144531\n",
      "sort time:0.003000974655151367\n",
      "prediction time:0.007000923156738281\n",
      "sort time:0.003000974655151367\n",
      "prediction time:0.007001638412475586\n",
      "sort time:0.004000663757324219\n",
      "prediction time:0.006001472473144531\n"
     ]
    },
    {
     "name": "stderr",
     "output_type": "stream",
     "text": [
      "  0%|                                                              | 236/199549 [00:03<38:21, 86.61it/s]"
     ]
    },
    {
     "name": "stdout",
     "output_type": "stream",
     "text": [
      "sort time:0.0030007362365722656\n",
      "prediction time:0.007001399993896484\n",
      "sort time:0.00400090217590332\n",
      "prediction time:0.007001638412475586\n",
      "sort time:0.003000497817993164\n",
      "prediction time:0.008001565933227539\n",
      "sort time:0.004001140594482422\n",
      "prediction time:0.0070018768310546875\n",
      "sort time:0.0030007362365722656\n",
      "prediction time:0.007001638412475586\n",
      "sort time:0.0020003318786621094\n",
      "prediction time:0.0050008296966552734\n",
      "sort time:0.00400090217590332\n",
      "prediction time:0.007001638412475586\n",
      "sort time:0.003000497817993164\n",
      "prediction time:0.0070018768310546875\n",
      "sort time:0.003000497817993164\n",
      "prediction time:0.007001638412475586\n",
      "sort time:0.0030007362365722656\n",
      "prediction time:0.00600123405456543\n",
      "sort time:0.0030007362365722656\n",
      "prediction time:0.00600123405456543\n",
      "sort time:0.00400090217590332\n",
      "prediction time:0.008001565933227539\n",
      "sort time:0.004001140594482422\n",
      "prediction time:0.0070018768310546875\n",
      "sort time:0.0030002593994140625\n",
      "prediction time:0.007001399993896484\n",
      "sort time:0.00400090217590332\n",
      "prediction time:0.00800180435180664\n",
      "sort time:0.003000497817993164\n",
      "prediction time:0.007001399993896484\n"
     ]
    },
    {
     "name": "stderr",
     "output_type": "stream",
     "text": [
      "  0%|                                                              | 254/199549 [00:03<39:12, 84.71it/s]"
     ]
    },
    {
     "name": "stdout",
     "output_type": "stream",
     "text": [
      "sort time:0.004001140594482422\n",
      "prediction time:0.008002042770385742\n",
      "sort time:0.0030002593994140625\n",
      "prediction time:0.0070018768310546875\n",
      "sort time:0.003000974655151367\n",
      "prediction time:0.007001638412475586\n",
      "sort time:0.003000497817993164\n",
      "prediction time:0.008002281188964844\n",
      "sort time:0.003000974655151367\n",
      "prediction time:0.007001399993896484\n",
      "sort time:0.004001140594482422\n",
      "prediction time:0.007001399993896484\n",
      "sort time:0.004002094268798828\n",
      "prediction time:0.0070018768310546875\n",
      "sort time:0.004000663757324219\n",
      "prediction time:0.007001638412475586\n",
      "sort time:0.003000497817993164\n",
      "prediction time:0.0070018768310546875\n",
      "sort time:0.003000497817993164\n",
      "prediction time:0.007001638412475586\n",
      "sort time:0.0030007362365722656\n",
      "prediction time:0.006000995635986328\n",
      "sort time:0.003000974655151367\n",
      "prediction time:0.006001472473144531\n",
      "sort time:0.003000497817993164\n",
      "prediction time:0.00800180435180664\n",
      "sort time:0.0030007362365722656\n",
      "prediction time:0.008002519607543945\n",
      "sort time:0.003000020980834961\n",
      "prediction time:0.006001472473144531\n",
      "sort time:0.004000663757324219\n",
      "prediction time:0.00600123405456543\n",
      "sort time:0.003000974655151367"
     ]
    },
    {
     "name": "stderr",
     "output_type": "stream",
     "text": [
      "  0%|                                                              | 272/199549 [00:04<38:34, 86.09it/s]"
     ]
    },
    {
     "name": "stdout",
     "output_type": "stream",
     "text": [
      "\n",
      "prediction time:0.00800180435180664\n",
      "sort time:0.00400090217590332\n",
      "prediction time:0.00800180435180664\n",
      "sort time:0.003000020980834961\n",
      "prediction time:0.00600123405456543\n",
      "sort time:0.0030007362365722656\n",
      "prediction time:0.007001638412475586\n",
      "sort time:0.003000497817993164\n",
      "prediction time:0.007001399993896484\n",
      "sort time:0.002000570297241211\n",
      "prediction time:0.007001638412475586\n",
      "sort time:0.0020003318786621094\n",
      "prediction time:0.006001710891723633\n",
      "sort time:0.00400090217590332\n",
      "prediction time:0.007001161575317383\n",
      "sort time:0.0030014514923095703\n",
      "prediction time:0.007000923156738281\n",
      "sort time:0.003000497817993164\n",
      "prediction time:0.007001638412475586\n",
      "sort time:0.0030012130737304688\n",
      "prediction time:0.007001638412475586\n",
      "sort time:0.003000497817993164\n",
      "prediction time:0.007001638412475586\n",
      "sort time:0.003000497817993164\n",
      "prediction time:0.005001068115234375\n",
      "sort time:0.002000093460083008\n",
      "prediction time:0.007000923156738281\n",
      "sort time:0.0030007362365722656\n",
      "prediction time:0.006001472473144531\n",
      "sort time:0.003000497817993164\n",
      "prediction time:0.008002042770385742\n",
      "sort time:0.003000497817993164"
     ]
    },
    {
     "name": "stderr",
     "output_type": "stream",
     "text": [
      "\r",
      "  0%|                                                              | 281/199549 [00:04<38:24, 86.47it/s]"
     ]
    },
    {
     "name": "stdout",
     "output_type": "stream",
     "text": [
      "\n",
      "prediction time:0.006001472473144531\n",
      "sort time:0.003000497817993164\n",
      "prediction time:0.007001638412475586\n",
      "sort time:0.0030007362365722656\n",
      "prediction time:0.007001638412475586\n",
      "sort time:0.00400090217590332\n",
      "prediction time:0.006001472473144531\n",
      "sort time:0.004000663757324219\n",
      "prediction time:0.007001399993896484\n",
      "sort time:0.0030007362365722656\n",
      "prediction time:0.007001399993896484\n",
      "sort time:0.0030007362365722656\n",
      "prediction time:0.007001638412475586\n",
      "sort time:0.003000497817993164\n",
      "prediction time:0.0070018768310546875\n",
      "sort time:0.003000497817993164\n",
      "prediction time:0.00600123405456543\n",
      "sort time:0.00400090217590332\n",
      "prediction time:0.006001710891723633\n",
      "sort time:0.004000425338745117\n",
      "prediction time:0.007001638412475586\n",
      "sort time:0.0030007362365722656\n",
      "prediction time:0.007001399993896484\n",
      "sort time:0.003000974655151367\n",
      "prediction time:0.007001638412475586\n",
      "sort time:0.003000497817993164\n",
      "prediction time:0.007001638412475586\n",
      "sort time:0.0030007362365722656\n",
      "prediction time:0.006001472473144531\n",
      "sort time:0.003000497817993164\n",
      "prediction time:0.00600123405456543\n",
      "sort time:0.0030007362365722656\n",
      "prediction time:0.007002115249633789\n",
      "sort time:0.0030002593994140625"
     ]
    },
    {
     "name": "stderr",
     "output_type": "stream",
     "text": [
      "  0%|                                                              | 300/199549 [00:04<37:56, 87.53it/s]"
     ]
    },
    {
     "name": "stdout",
     "output_type": "stream",
     "text": [
      "\n",
      "prediction time:0.0070018768310546875\n",
      "sort time:0.0030002593994140625\n",
      "prediction time:0.00800180435180664\n",
      "sort time:0.003000497817993164\n",
      "prediction time:0.008002042770385742\n",
      "sort time:0.004000425338745117\n",
      "prediction time:0.007001399993896484\n",
      "sort time:0.003000974655151367\n",
      "prediction time:0.008002758026123047\n",
      "sort time:0.001999378204345703\n",
      "prediction time:0.007001638412475586\n",
      "sort time:0.002000570297241211\n",
      "prediction time:0.007001638412475586\n",
      "sort time:0.003000497817993164\n",
      "prediction time:0.00600123405456543\n",
      "sort time:0.0030007362365722656\n",
      "prediction time:0.00600123405456543\n",
      "sort time:0.0030007362365722656\n",
      "prediction time:0.006000995635986328\n",
      "sort time:0.0030007362365722656\n",
      "prediction time:0.0070018768310546875\n",
      "sort time:0.003000497817993164\n",
      "prediction time:0.008001565933227539\n",
      "sort time:0.003000974655151367\n",
      "prediction time:0.007001638412475586\n",
      "sort time:0.0030007362365722656\n",
      "prediction time:0.007001638412475586\n",
      "sort time:0.0030007362365722656\n",
      "prediction time:0.007001399993896484\n",
      "sort time:0.0030012130737304688\n",
      "prediction time:0.007001161575317383\n"
     ]
    },
    {
     "name": "stderr",
     "output_type": "stream",
     "text": [
      "  0%|                                                              | 318/199549 [00:04<40:05, 82.81it/s]"
     ]
    },
    {
     "name": "stdout",
     "output_type": "stream",
     "text": [
      "sort time:0.004001140594482422\n",
      "prediction time:0.008001565933227539\n",
      "sort time:0.004001140594482422\n",
      "prediction time:0.009001731872558594\n",
      "sort time:0.004001140594482422\n",
      "prediction time:0.009001970291137695\n",
      "sort time:0.004001140594482422\n",
      "prediction time:0.009001970291137695\n",
      "sort time:0.00400090217590332\n",
      "prediction time:0.009002447128295898\n",
      "sort time:0.004000663757324219\n",
      "prediction time:0.007002115249633789\n",
      "sort time:0.004000663757324219\n",
      "prediction time:0.0070018768310546875\n",
      "sort time:0.003000974655151367\n",
      "prediction time:0.008001565933227539\n",
      "sort time:0.0030007362365722656\n",
      "prediction time:0.00800180435180664\n",
      "sort time:0.003000497817993164\n",
      "prediction time:0.0070018768310546875\n",
      "sort time:0.004000663757324219\n",
      "prediction time:0.0070018768310546875\n",
      "sort time:0.0030007362365722656\n",
      "prediction time:0.00800180435180664\n",
      "sort time:0.003000497817993164\n",
      "prediction time:0.007001399993896484\n",
      "sort time:0.0030002593994140625\n",
      "prediction time:0.00800180435180664\n",
      "sort time:0.0030007362365722656"
     ]
    },
    {
     "name": "stderr",
     "output_type": "stream",
     "text": [
      "\r",
      "  0%|                                                              | 327/199549 [00:04<40:14, 82.51it/s]"
     ]
    },
    {
     "name": "stdout",
     "output_type": "stream",
     "text": [
      "\n",
      "prediction time:0.006001710891723633\n",
      "sort time:0.0040013790130615234\n",
      "prediction time:0.00800180435180664\n",
      "sort time:0.003000497817993164\n",
      "prediction time:0.00800180435180664\n",
      "sort time:0.003000497817993164\n",
      "prediction time:0.008002042770385742\n",
      "sort time:0.0030002593994140625\n",
      "prediction time:0.0070018768310546875\n",
      "sort time:0.0030007362365722656\n",
      "prediction time:0.00800180435180664\n",
      "sort time:0.004001617431640625\n",
      "prediction time:0.007001638412475586\n",
      "sort time:0.003000974655151367\n",
      "prediction time:0.00800180435180664\n",
      "sort time:0.00400090217590332\n",
      "prediction time:0.007001399993896484\n",
      "sort time:0.003000497817993164\n",
      "prediction time:0.007001638412475586\n",
      "sort time:0.00400090217590332\n",
      "prediction time:0.006001472473144531\n",
      "sort time:0.0040013790130615234\n",
      "prediction time:0.007001399993896484\n",
      "sort time:0.0030007362365722656\n",
      "prediction time:0.007001638412475586\n",
      "sort time:0.0030007362365722656\n",
      "prediction time:0.007001638412475586\n",
      "sort time:0.00400090217590332\n",
      "prediction time:0.0070018768310546875\n",
      "sort time:0.003000497817993164\n",
      "prediction time:0.008001327514648438\n",
      "sort time:0.004001140594482422"
     ]
    },
    {
     "name": "stderr",
     "output_type": "stream",
     "text": [
      "  0%|                                                              | 345/199549 [00:05<40:05, 82.80it/s]"
     ]
    },
    {
     "name": "stdout",
     "output_type": "stream",
     "text": [
      "\n",
      "prediction time:0.008002281188964844\n",
      "sort time:0.0030007362365722656\n",
      "prediction time:0.008002042770385742\n",
      "sort time:0.00400090217590332\n",
      "prediction time:0.008002281188964844\n",
      "sort time:0.0030007362365722656\n",
      "prediction time:0.007001161575317383\n",
      "sort time:0.0030007362365722656\n",
      "prediction time:0.007001638412475586\n",
      "sort time:0.00400090217590332\n",
      "prediction time:0.007001638412475586\n",
      "sort time:0.0030007362365722656\n",
      "prediction time:0.0070018768310546875\n",
      "sort time:0.0020003318786621094\n",
      "prediction time:0.006001472473144531\n",
      "sort time:0.003000497817993164\n",
      "prediction time:0.006001710891723633\n",
      "sort time:0.003000497817993164\n",
      "prediction time:0.00800180435180664\n",
      "sort time:0.0030007362365722656\n",
      "prediction time:0.0070018768310546875\n",
      "sort time:0.003000497817993164\n",
      "prediction time:0.007001638412475586\n",
      "sort time:0.0030014514923095703\n",
      "prediction time:0.007001399993896484\n",
      "sort time:0.0030007362365722656\n",
      "prediction time:0.0070018768310546875\n",
      "sort time:0.0030007362365722656\n",
      "prediction time:0.00700068473815918\n",
      "sort time:0.003000497817993164\n",
      "prediction time:0.007001161575317383\n",
      "sort time:0.003000974655151367"
     ]
    },
    {
     "name": "stderr",
     "output_type": "stream",
     "text": [
      "  0%|                                                              | 364/199549 [00:05<38:44, 85.68it/s]"
     ]
    },
    {
     "name": "stdout",
     "output_type": "stream",
     "text": [
      "\n",
      "prediction time:0.008002042770385742\n",
      "sort time:0.004000663757324219\n",
      "prediction time:0.007001399993896484\n",
      "sort time:0.0030007362365722656\n",
      "prediction time:0.006001472473144531\n",
      "sort time:0.003000497817993164\n",
      "prediction time:0.0070018768310546875\n",
      "sort time:0.0030002593994140625\n",
      "prediction time:0.0070018768310546875\n",
      "sort time:0.003000497817993164\n",
      "prediction time:0.00600123405456543\n",
      "sort time:0.0030007362365722656\n",
      "prediction time:0.007001638412475586\n",
      "sort time:0.003000497817993164\n",
      "prediction time:0.006000995635986328\n",
      "sort time:0.0030007362365722656\n",
      "prediction time:0.006001472473144531\n",
      "sort time:0.003000497817993164\n",
      "prediction time:0.0070018768310546875\n",
      "sort time:0.003000497817993164\n",
      "prediction time:0.007001638412475586\n",
      "sort time:0.0030007362365722656\n",
      "prediction time:0.007001638412475586\n",
      "sort time:0.0030007362365722656\n",
      "prediction time:0.008002042770385742\n",
      "sort time:0.0030002593994140625\n",
      "prediction time:0.00800180435180664\n",
      "sort time:0.003000497817993164\n",
      "prediction time:0.006001472473144531\n",
      "sort time:0.00400090217590332\n",
      "prediction time:0.007001638412475586\n"
     ]
    },
    {
     "name": "stderr",
     "output_type": "stream",
     "text": [
      "  0%|                                                              | 382/199549 [00:05<38:22, 86.49it/s]"
     ]
    },
    {
     "name": "stdout",
     "output_type": "stream",
     "text": [
      "sort time:0.003000974655151367\n",
      "prediction time:0.008002042770385742\n",
      "sort time:0.0030007362365722656\n",
      "prediction time:0.007001399993896484\n",
      "sort time:0.003000974655151367\n",
      "prediction time:0.007001638412475586\n",
      "sort time:0.003000497817993164\n",
      "prediction time:0.007001638412475586\n",
      "sort time:0.003000497817993164\n",
      "prediction time:0.006001472473144531\n",
      "sort time:0.0030007362365722656\n",
      "prediction time:0.008002042770385742\n",
      "sort time:0.003000497817993164\n",
      "prediction time:0.0070018768310546875\n",
      "sort time:0.0030007362365722656\n",
      "prediction time:0.007001161575317383\n",
      "sort time:0.0030012130737304688\n",
      "prediction time:0.007001638412475586\n",
      "sort time:0.0030007362365722656\n",
      "prediction time:0.007001638412475586\n",
      "sort time:0.0020003318786621094\n",
      "prediction time:0.0070018768310546875\n",
      "sort time:0.003000497817993164\n",
      "prediction time:0.006001472473144531\n",
      "sort time:0.003000497817993164\n",
      "prediction time:0.007001638412475586\n",
      "sort time:0.003000497817993164\n",
      "prediction time:0.0070018768310546875\n",
      "sort time:0.0030007362365722656\n",
      "prediction time:0.006001710891723633\n",
      "sort time:0.0030002593994140625\n",
      "prediction time:0.0050013065338134766\n",
      "sort time:0.0030007362365722656\n",
      "prediction time:0.007001638412475586\n",
      "sort time:0.0030007362365722656"
     ]
    },
    {
     "name": "stderr",
     "output_type": "stream",
     "text": [
      "\r",
      "  0%|                                                              | 391/199549 [00:05<38:35, 86.01it/s]"
     ]
    },
    {
     "name": "stdout",
     "output_type": "stream",
     "text": [
      "\n",
      "prediction time:0.009001731872558594\n",
      "sort time:0.0030012130737304688\n",
      "prediction time:0.008001565933227539\n",
      "sort time:0.003000974655151367\n",
      "prediction time:0.0070018768310546875\n",
      "sort time:0.003000497817993164\n",
      "prediction time:0.007001638412475586\n",
      "sort time:0.003000497817993164\n",
      "prediction time:0.007001638412475586\n",
      "sort time:0.00400090217590332\n",
      "prediction time:0.007001638412475586\n",
      "sort time:0.003000497817993164\n",
      "prediction time:0.007001638412475586\n",
      "sort time:0.004000425338745117\n",
      "prediction time:0.007001638412475586\n",
      "sort time:0.003000497817993164\n",
      "prediction time:0.006001472473144531\n",
      "sort time:0.003000497817993164\n",
      "prediction time:0.007001638412475586\n",
      "sort time:0.003000497817993164\n",
      "prediction time:0.006001472473144531\n",
      "sort time:0.004000663757324219\n",
      "prediction time:0.007002115249633789\n",
      "sort time:0.0030007362365722656\n",
      "prediction time:0.0070018768310546875\n",
      "sort time:0.00400090217590332\n",
      "prediction time:0.007001161575317383\n",
      "sort time:0.00400090217590332\n",
      "prediction time:0.008002042770385742\n"
     ]
    },
    {
     "name": "stderr",
     "output_type": "stream",
     "text": [
      "  0%|▏                                                             | 409/199549 [00:05<40:15, 82.45it/s]"
     ]
    },
    {
     "name": "stdout",
     "output_type": "stream",
     "text": [
      "sort time:0.00400090217590332\n",
      "prediction time:0.007000923156738281\n",
      "sort time:0.004001617431640625\n",
      "prediction time:0.011002779006958008\n",
      "sort time:0.004000425338745117\n",
      "prediction time:0.009002447128295898\n",
      "sort time:0.00400090217590332\n",
      "prediction time:0.007001638412475586\n",
      "sort time:0.004000663757324219\n",
      "prediction time:0.008001327514648438\n",
      "sort time:0.0030007362365722656\n",
      "prediction time:0.007001638412475586\n",
      "sort time:0.003000497817993164\n",
      "prediction time:0.006001710891723633\n",
      "sort time:0.003000497817993164\n",
      "prediction time:0.006001472473144531\n",
      "sort time:0.003000497817993164\n",
      "prediction time:0.007001638412475586\n",
      "sort time:0.0030007362365722656\n",
      "prediction time:0.007001638412475586\n",
      "sort time:0.0030007362365722656\n",
      "prediction time:0.007001399993896484\n",
      "sort time:0.0030007362365722656\n",
      "prediction time:0.0050013065338134766\n",
      "sort time:0.003000497817993164\n",
      "prediction time:0.007001638412475586\n",
      "sort time:0.0030007362365722656\n",
      "prediction time:0.007001638412475586\n",
      "sort time:0.0030007362365722656\n",
      "prediction time:0.007001638412475586\n"
     ]
    },
    {
     "name": "stderr",
     "output_type": "stream",
     "text": [
      "  0%|▏                                                             | 427/199549 [00:05<39:53, 83.21it/s]"
     ]
    },
    {
     "name": "stdout",
     "output_type": "stream",
     "text": [
      "sort time:0.003000497817993164\n",
      "prediction time:0.007001638412475586\n",
      "sort time:0.004001140594482422\n",
      "prediction time:0.0070018768310546875\n",
      "sort time:0.0040013790130615234\n",
      "prediction time:0.007001161575317383\n",
      "sort time:0.003000974655151367\n",
      "prediction time:0.0070018768310546875\n",
      "sort time:0.004001140594482422\n",
      "prediction time:0.007001638412475586\n",
      "sort time:0.004000663757324219\n",
      "prediction time:0.007001638412475586\n",
      "sort time:0.0030002593994140625\n",
      "prediction time:0.00800180435180664\n",
      "sort time:0.003000497817993164\n",
      "prediction time:0.007001638412475586\n",
      "sort time:0.003000497817993164\n",
      "prediction time:0.006001472473144531\n",
      "sort time:0.004001140594482422\n",
      "prediction time:0.007001638412475586\n",
      "sort time:0.003000497817993164\n",
      "prediction time:0.006001472473144531\n",
      "sort time:0.003000497817993164\n",
      "prediction time:0.0070018768310546875\n",
      "sort time:0.0030007362365722656\n",
      "prediction time:0.008001565933227539\n",
      "sort time:0.003000020980834961\n",
      "prediction time:0.009001731872558594\n",
      "sort time:0.00400090217590332\n",
      "prediction time:0.00800180435180664\n"
     ]
    },
    {
     "name": "stderr",
     "output_type": "stream",
     "text": [
      "  0%|▏                                                             | 445/199549 [00:06<40:27, 82.03it/s]"
     ]
    },
    {
     "name": "stdout",
     "output_type": "stream",
     "text": [
      "sort time:0.0030007362365722656\n",
      "prediction time:0.00800180435180664\n",
      "sort time:0.00400090217590332\n",
      "prediction time:0.007001161575317383\n",
      "sort time:0.004001140594482422\n",
      "prediction time:0.006001472473144531\n",
      "sort time:0.003000497817993164\n",
      "prediction time:0.007001638412475586\n",
      "sort time:0.0030007362365722656\n",
      "prediction time:0.007001161575317383\n",
      "sort time:0.003000974655151367\n",
      "prediction time:0.006001472473144531\n",
      "sort time:0.003000497817993164\n",
      "prediction time:0.00800180435180664\n",
      "sort time:0.004001140594482422\n",
      "prediction time:0.009002208709716797\n",
      "sort time:0.0030002593994140625\n",
      "prediction time:0.006001472473144531\n",
      "sort time:0.0030007362365722656\n",
      "prediction time:0.007001399993896484\n",
      "sort time:0.003000974655151367\n",
      "prediction time:0.007001638412475586\n",
      "sort time:0.004001140594482422\n",
      "prediction time:0.0070018768310546875\n",
      "sort time:0.004001140594482422\n",
      "prediction time:0.00800180435180664\n",
      "sort time:0.004001140594482422\n",
      "prediction time:0.007001638412475586\n",
      "sort time:0.0030007362365722656\n",
      "prediction time:0.00800180435180664\n",
      "sort time:0.0030002593994140625\n",
      "prediction time:0.009002685546875\n"
     ]
    },
    {
     "name": "stderr",
     "output_type": "stream",
     "text": [
      "\r",
      "  0%|▏                                                             | 454/199549 [00:06<41:42, 79.57it/s]"
     ]
    },
    {
     "name": "stdout",
     "output_type": "stream",
     "text": [
      "sort time:0.004000425338745117\n",
      "prediction time:0.007001638412475586\n",
      "sort time:0.004000663757324219\n",
      "prediction time:0.009001970291137695\n",
      "sort time:0.004000663757324219\n",
      "prediction time:0.008002042770385742\n",
      "sort time:0.00400090217590332\n",
      "prediction time:0.00800180435180664\n",
      "sort time:0.004000663757324219\n",
      "prediction time:0.009002208709716797\n",
      "sort time:0.0030002593994140625\n",
      "prediction time:0.00800180435180664\n",
      "sort time:0.00400090217590332\n",
      "prediction time:0.008002042770385742\n",
      "sort time:0.004000663757324219\n",
      "prediction time:0.00800180435180664\n",
      "sort time:0.0030012130737304688\n",
      "prediction time:0.007001638412475586\n",
      "sort time:0.003000497817993164\n",
      "prediction time:0.00800180435180664\n",
      "sort time:0.0030007362365722656\n",
      "prediction time:0.00600123405456543\n",
      "sort time:0.0030002593994140625\n",
      "prediction time:0.007001638412475586\n",
      "sort time:0.00400090217590332\n",
      "prediction time:0.007001161575317383\n",
      "sort time:0.003000974655151367\n",
      "prediction time:0.00800180435180664\n",
      "sort time:0.003000497817993164"
     ]
    },
    {
     "name": "stderr",
     "output_type": "stream",
     "text": [
      "  0%|▏                                                             | 472/199549 [00:06<40:47, 81.35it/s]"
     ]
    },
    {
     "name": "stdout",
     "output_type": "stream",
     "text": [
      "\n",
      "prediction time:0.01000213623046875\n",
      "sort time:0.0030007362365722656\n",
      "prediction time:0.00800180435180664\n",
      "sort time:0.003000497817993164\n",
      "prediction time:0.00600123405456543\n",
      "sort time:0.003000974655151367\n",
      "prediction time:0.00800180435180664\n",
      "sort time:0.0040013790130615234\n",
      "prediction time:0.0070018768310546875\n",
      "sort time:0.0030007362365722656\n",
      "prediction time:0.00600123405456543\n",
      "sort time:0.0030007362365722656\n",
      "prediction time:0.006001472473144531\n",
      "sort time:0.003000974655151367\n",
      "prediction time:0.007001638412475586\n",
      "sort time:0.003000497817993164\n",
      "prediction time:0.007001638412475586\n",
      "sort time:0.003000497817993164\n",
      "prediction time:0.007001161575317383\n",
      "sort time:0.0020008087158203125\n",
      "prediction time:0.00800180435180664\n",
      "sort time:0.0030002593994140625\n",
      "prediction time:0.007001638412475586\n",
      "sort time:0.0030007362365722656\n",
      "prediction time:0.007001399993896484\n",
      "sort time:0.003000497817993164\n",
      "prediction time:0.007001638412475586\n",
      "sort time:0.003000497817993164\n",
      "prediction time:0.007001638412475586\n",
      "sort time:0.003000497817993164\n",
      "prediction time:0.007001638412475586\n",
      "sort time:0.0030007362365722656"
     ]
    },
    {
     "name": "stderr",
     "output_type": "stream",
     "text": [
      "  0%|▏                                                             | 490/199549 [00:06<41:27, 80.01it/s]"
     ]
    },
    {
     "name": "stdout",
     "output_type": "stream",
     "text": [
      "\n",
      "prediction time:0.007002115249633789\n",
      "sort time:0.004000663757324219\n",
      "prediction time:0.007001638412475586\n",
      "sort time:0.0030007362365722656\n",
      "prediction time:0.007001399993896484\n",
      "sort time:0.003000497817993164\n",
      "prediction time:0.008002042770385742\n",
      "sort time:0.0030007362365722656\n",
      "prediction time:0.007001638412475586\n",
      "sort time:0.003000497817993164\n",
      "prediction time:0.008002042770385742\n",
      "sort time:0.004000663757324219\n",
      "prediction time:0.006001710891723633\n",
      "sort time:0.004000425338745117\n",
      "prediction time:0.007001638412475586\n",
      "sort time:0.0030012130737304688\n",
      "prediction time:0.009001970291137695\n",
      "sort time:0.004000663757324219\n",
      "prediction time:0.01000213623046875\n",
      "sort time:0.004000663757324219\n",
      "prediction time:0.007001399993896484\n",
      "sort time:0.003000974655151367\n",
      "prediction time:0.009001731872558594\n",
      "sort time:0.004001140594482422\n",
      "prediction time:0.007001161575317383\n",
      "sort time:0.004001140594482422\n",
      "prediction time:0.008001565933227539\n",
      "sort time:0.004001140594482422\n"
     ]
    },
    {
     "name": "stderr",
     "output_type": "stream",
     "text": [
      "\r",
      "  0%|▏                                                             | 499/199549 [00:06<43:10, 76.83it/s]"
     ]
    },
    {
     "name": "stdout",
     "output_type": "stream",
     "text": [
      "prediction time:0.010002613067626953\n",
      "sort time:0.0050013065338134766\n",
      "prediction time:0.011002063751220703\n",
      "sort time:0.004000663757324219\n",
      "prediction time:0.00800180435180664\n",
      "sort time:0.004000425338745117\n",
      "prediction time:0.008002042770385742\n",
      "sort time:0.00400090217590332\n",
      "prediction time:0.007001399993896484\n",
      "sort time:0.005001068115234375\n",
      "prediction time:0.007001161575317383\n",
      "sort time:0.0050013065338134766\n",
      "prediction time:0.007001638412475586\n",
      "sort time:0.0030007362365722656\n",
      "prediction time:0.007001638412475586\n",
      "sort time:0.004001617431640625\n",
      "prediction time:0.0070018768310546875\n",
      "sort time:0.004001140594482422\n",
      "prediction time:0.008001565933227539\n",
      "sort time:0.00400090217590332\n",
      "prediction time:0.007001638412475586\n",
      "sort time:0.00400090217590332\n",
      "prediction time:0.007001161575317383\n",
      "sort time:0.005001544952392578\n",
      "prediction time:0.009001493453979492\n",
      "sort time:0.0050013065338134766\n",
      "prediction time:0.009001493453979492\n"
     ]
    },
    {
     "name": "stderr",
     "output_type": "stream",
     "text": [
      "  0%|▏                                                             | 515/199549 [00:07<45:46, 72.47it/s]"
     ]
    },
    {
     "name": "stdout",
     "output_type": "stream",
     "text": [
      "sort time:0.0050013065338134766\n",
      "prediction time:0.008001565933227539\n",
      "sort time:0.0030002593994140625\n",
      "prediction time:0.009002447128295898\n",
      "sort time:0.004000425338745117\n",
      "prediction time:0.008001089096069336\n",
      "sort time:0.00400090217590332\n",
      "prediction time:0.008000850677490234\n",
      "sort time:0.004001140594482422\n",
      "prediction time:0.008002042770385742\n",
      "sort time:0.0040013790130615234\n",
      "prediction time:0.008002042770385742\n",
      "sort time:0.0030007362365722656\n",
      "prediction time:0.009001493453979492\n",
      "sort time:0.00400090217590332\n",
      "prediction time:0.008001089096069336\n",
      "sort time:0.0030012130737304688\n",
      "prediction time:0.007001399993896484\n",
      "sort time:0.0050013065338134766\n",
      "prediction time:0.007001399993896484\n",
      "sort time:0.004001140594482422\n",
      "prediction time:0.009001493453979492\n",
      "sort time:0.004001140594482422\n",
      "prediction time:0.006001472473144531\n",
      "sort time:0.004001140594482422\n",
      "prediction time:0.008001565933227539\n",
      "sort time:0.0030014514923095703\n",
      "prediction time:0.007001638412475586\n"
     ]
    },
    {
     "name": "stderr",
     "output_type": "stream",
     "text": [
      "  0%|▏                                                             | 532/199549 [00:07<43:28, 76.28it/s]"
     ]
    },
    {
     "name": "stdout",
     "output_type": "stream",
     "text": [
      "sort time:0.003000497817993164\n",
      "prediction time:0.009001970291137695\n",
      "sort time:0.0040013790130615234\n",
      "prediction time:0.00800180435180664\n",
      "sort time:0.0030007362365722656\n",
      "prediction time:0.007001399993896484\n",
      "sort time:0.003000497817993164\n",
      "prediction time:0.007001638412475586\n",
      "sort time:0.00400090217590332\n",
      "prediction time:0.007001638412475586\n",
      "sort time:0.0030007362365722656\n",
      "prediction time:0.009001731872558594\n",
      "sort time:0.0050008296966552734\n",
      "prediction time:0.00800180435180664\n",
      "sort time:0.0030012130737304688\n",
      "prediction time:0.007001638412475586\n",
      "sort time:0.004001140594482422\n",
      "prediction time:0.00600123405456543\n",
      "sort time:0.0030002593994140625\n",
      "prediction time:0.007001638412475586\n",
      "sort time:0.0030002593994140625\n",
      "prediction time:0.007001638412475586\n",
      "sort time:0.0030007362365722656\n",
      "prediction time:0.007001399993896484\n",
      "sort time:0.003000974655151367\n",
      "prediction time:0.006001472473144531\n",
      "sort time:0.003000497817993164\n",
      "prediction time:0.007001638412475586\n",
      "sort time:0.0030007362365722656\n",
      "prediction time:0.006000995635986328\n",
      "sort time:0.003000974655151367"
     ]
    },
    {
     "name": "stderr",
     "output_type": "stream",
     "text": [
      "\r",
      "  0%|▏                                                             | 541/199549 [00:07<42:13, 78.55it/s]"
     ]
    },
    {
     "name": "stdout",
     "output_type": "stream",
     "text": [
      "\n",
      "prediction time:0.008002042770385742\n",
      "sort time:0.003000497817993164\n",
      "prediction time:0.007001161575317383\n",
      "sort time:0.003000974655151367\n",
      "prediction time:0.007001638412475586\n",
      "sort time:0.00400090217590332\n",
      "prediction time:0.008001565933227539\n",
      "sort time:0.0030007362365722656\n",
      "prediction time:0.008002042770385742\n",
      "sort time:0.0030007362365722656\n",
      "prediction time:0.0070018768310546875\n",
      "sort time:0.0030002593994140625\n",
      "prediction time:0.006001472473144531\n",
      "sort time:0.00400090217590332\n",
      "prediction time:0.007001638412475586\n",
      "sort time:0.0030014514923095703\n",
      "prediction time:0.009001731872558594\n",
      "sort time:0.003000497817993164\n",
      "prediction time:0.00600123405456543\n",
      "sort time:0.00400090217590332\n",
      "prediction time:0.007001638412475586\n",
      "sort time:0.0030007362365722656\n",
      "prediction time:0.007001399993896484\n",
      "sort time:0.0030007362365722656\n",
      "prediction time:0.00600123405456543\n",
      "sort time:0.0030007362365722656\n",
      "prediction time:0.007001399993896484\n",
      "sort time:0.00400090217590332\n",
      "prediction time:0.007001638412475586\n",
      "sort time:0.004000425338745117\n",
      "prediction time:0.007001638412475586\n",
      "sort time:0.0030007362365722656"
     ]
    },
    {
     "name": "stderr",
     "output_type": "stream",
     "text": [
      "  0%|▏                                                             | 559/199549 [00:07<41:54, 79.15it/s]"
     ]
    },
    {
     "name": "stdout",
     "output_type": "stream",
     "text": [
      "\n",
      "prediction time:0.007001638412475586\n",
      "sort time:0.00400090217590332\n",
      "prediction time:0.00800180435180664\n",
      "sort time:0.0030002593994140625\n",
      "prediction time:0.00800180435180664\n",
      "sort time:0.003000497817993164\n",
      "prediction time:0.007001638412475586\n",
      "sort time:0.0030007362365722656\n",
      "prediction time:0.007001399993896484\n",
      "sort time:0.003000974655151367\n",
      "prediction time:0.007001638412475586\n",
      "sort time:0.004000663757324219\n",
      "prediction time:0.00800180435180664\n",
      "sort time:0.0030002593994140625\n",
      "prediction time:0.007001638412475586\n",
      "sort time:0.004000186920166016\n",
      "prediction time:0.008001565933227539\n",
      "sort time:0.004000663757324219\n",
      "prediction time:0.008002042770385742\n",
      "sort time:0.004000663757324219\n",
      "prediction time:0.0070018768310546875\n",
      "sort time:0.004000663757324219\n",
      "prediction time:0.007001161575317383\n",
      "sort time:0.003000974655151367\n",
      "prediction time:0.009001970291137695\n",
      "sort time:0.003000497817993164\n",
      "prediction time:0.00800180435180664\n"
     ]
    },
    {
     "name": "stderr",
     "output_type": "stream",
     "text": [
      "  0%|▏                                                             | 575/199549 [00:07<44:13, 74.98it/s]"
     ]
    },
    {
     "name": "stdout",
     "output_type": "stream",
     "text": [
      "sort time:0.004000663757324219\n",
      "prediction time:0.007001638412475586\n",
      "sort time:0.004001140594482422\n",
      "prediction time:0.00800180435180664\n",
      "sort time:0.003000497817993164\n",
      "prediction time:0.00800180435180664\n",
      "sort time:0.004001140594482422\n",
      "prediction time:0.007001638412475586\n",
      "sort time:0.004000663757324219\n",
      "prediction time:0.009001493453979492\n",
      "sort time:0.00400090217590332\n",
      "prediction time:0.008001565933227539\n",
      "sort time:0.00400090217590332\n",
      "prediction time:0.008002042770385742\n",
      "sort time:0.00400090217590332\n",
      "prediction time:0.008001565933227539\n",
      "sort time:0.00400090217590332\n",
      "prediction time:0.008001565933227539\n",
      "sort time:0.004000663757324219\n",
      "prediction time:0.009001493453979492\n",
      "sort time:0.003000974655151367\n",
      "prediction time:0.010002374649047852\n",
      "sort time:0.005000591278076172\n",
      "prediction time:0.009001731872558594\n",
      "sort time:0.00400090217590332\n",
      "prediction time:0.008002042770385742\n",
      "sort time:0.003000497817993164"
     ]
    },
    {
     "name": "stderr",
     "output_type": "stream",
     "text": [
      "\r",
      "  0%|▏                                                             | 584/199549 [00:08<42:50, 77.41it/s]"
     ]
    },
    {
     "name": "stdout",
     "output_type": "stream",
     "text": [
      "\n",
      "prediction time:0.009002208709716797\n",
      "sort time:0.00400090217590332\n",
      "prediction time:0.007001638412475586\n",
      "sort time:0.003000497817993164\n",
      "prediction time:0.0070018768310546875\n",
      "sort time:0.003000497817993164\n",
      "prediction time:0.007001638412475586\n",
      "sort time:0.0030007362365722656\n",
      "prediction time:0.007001638412475586\n",
      "sort time:0.003000497817993164\n",
      "prediction time:0.006001472473144531\n",
      "sort time:0.003000974655151367\n",
      "prediction time:0.007001638412475586\n",
      "sort time:0.003000497817993164\n",
      "prediction time:0.006000995635986328\n",
      "sort time:0.0030007362365722656\n",
      "prediction time:0.007001638412475586\n",
      "sort time:0.00400090217590332\n",
      "prediction time:0.00800180435180664\n",
      "sort time:0.003000497817993164\n",
      "prediction time:0.00600123405456543\n",
      "sort time:0.003000497817993164\n",
      "prediction time:0.00600123405456543\n",
      "sort time:0.003000974655151367\n",
      "prediction time:0.007001638412475586\n",
      "sort time:0.0030007362365722656\n",
      "prediction time:0.006001472473144531\n",
      "sort time:0.003000497817993164\n",
      "prediction time:0.007001399993896484\n",
      "sort time:0.0030007362365722656\n",
      "prediction time:0.006001472473144531\n",
      "sort time:0.003000497817993164\n"
     ]
    },
    {
     "name": "stderr",
     "output_type": "stream",
     "text": [
      "  0%|▏                                                             | 602/199549 [00:08<41:16, 80.34it/s]"
     ]
    },
    {
     "name": "stdout",
     "output_type": "stream",
     "text": [
      "prediction time:0.00700068473815918\n",
      "sort time:0.0040013790130615234\n",
      "prediction time:0.007001638412475586\n",
      "sort time:0.004001140594482422\n",
      "prediction time:0.007001638412475586\n",
      "sort time:0.003000974655151367\n",
      "prediction time:0.0070002079010009766\n",
      "sort time:0.003000497817993164\n",
      "prediction time:0.007001161575317383\n",
      "sort time:0.0040018558502197266\n",
      "prediction time:0.008001565933227539\n",
      "sort time:0.004000663757324219\n",
      "prediction time:0.007001638412475586\n",
      "sort time:0.0030012130737304688\n",
      "prediction time:0.007001638412475586\n",
      "sort time:0.0030007362365722656\n",
      "prediction time:0.007001638412475586\n",
      "sort time:0.003000497817993164\n",
      "prediction time:0.007001638412475586\n",
      "sort time:0.0030007362365722656\n",
      "prediction time:0.006001949310302734\n",
      "sort time:0.0030002593994140625\n",
      "prediction time:0.00800180435180664\n",
      "sort time:0.0030007362365722656\n",
      "prediction time:0.008001565933227539\n",
      "sort time:0.003000497817993164\n",
      "prediction time:0.00600123405456543\n",
      "sort time:0.00400090217590332\n",
      "prediction time:0.007001399993896484\n",
      "sort time:0.0030007362365722656\n",
      "prediction time:0.007001638412475586\n"
     ]
    },
    {
     "name": "stderr",
     "output_type": "stream",
     "text": [
      "  0%|▏                                                             | 620/199549 [00:08<39:47, 83.32it/s]"
     ]
    },
    {
     "name": "stdout",
     "output_type": "stream",
     "text": [
      "sort time:0.004001140594482422\n",
      "prediction time:0.007001638412475586\n",
      "sort time:0.0030007362365722656\n",
      "prediction time:0.006001472473144531\n",
      "sort time:0.0030002593994140625\n",
      "prediction time:0.007002115249633789\n",
      "sort time:0.0030002593994140625\n",
      "prediction time:0.006001710891723633\n",
      "sort time:0.004000425338745117\n",
      "prediction time:0.008002281188964844\n",
      "sort time:0.0030002593994140625\n",
      "prediction time:0.008002042770385742\n",
      "sort time:0.0030002593994140625\n",
      "prediction time:0.006001472473144531\n",
      "sort time:0.0030002593994140625\n",
      "prediction time:0.007001638412475586\n",
      "sort time:0.0030007362365722656\n",
      "prediction time:0.007001638412475586\n",
      "sort time:0.0030007362365722656\n",
      "prediction time:0.0070018768310546875\n",
      "sort time:0.003000497817993164\n",
      "prediction time:0.007001638412475586\n",
      "sort time:0.003000974655151367\n",
      "prediction time:0.007001161575317383\n",
      "sort time:0.003000974655151367\n",
      "prediction time:0.0070018768310546875\n",
      "sort time:0.004000663757324219\n",
      "prediction time:0.007001399993896484\n",
      "sort time:0.0030007362365722656\n",
      "prediction time:0.008001327514648438\n",
      "sort time:0.003000497817993164\n",
      "prediction time:0.006001472473144531\n"
     ]
    },
    {
     "name": "stderr",
     "output_type": "stream",
     "text": [
      "  0%|▏                                                             | 638/199549 [00:08<38:58, 85.07it/s]"
     ]
    },
    {
     "name": "stdout",
     "output_type": "stream",
     "text": [
      "sort time:0.0030002593994140625\n",
      "prediction time:0.008002281188964844\n",
      "sort time:0.003000020980834961\n",
      "prediction time:0.0070018768310546875\n",
      "sort time:0.003000497817993164\n",
      "prediction time:0.00600123405456543\n",
      "sort time:0.0030007362365722656\n",
      "prediction time:0.006001710891723633\n",
      "sort time:0.0030007362365722656\n",
      "prediction time:0.007001638412475586\n",
      "sort time:0.003000497817993164\n",
      "prediction time:0.00600123405456543\n",
      "sort time:0.004001140594482422\n",
      "prediction time:0.006001710891723633\n",
      "sort time:0.0030007362365722656\n",
      "prediction time:0.007001638412475586\n",
      "sort time:0.0030007362365722656\n",
      "prediction time:0.007001638412475586\n",
      "sort time:0.003000497817993164\n",
      "prediction time:0.007002115249633789\n",
      "sort time:0.0030002593994140625\n",
      "prediction time:0.007001638412475586\n",
      "sort time:0.0030007362365722656\n",
      "prediction time:0.007001638412475586\n",
      "sort time:0.003000497817993164\n",
      "prediction time:0.007001638412475586\n",
      "sort time:0.003000497817993164\n",
      "prediction time:0.007001399993896484\n",
      "sort time:0.003000974655151367\n",
      "prediction time:0.00600123405456543\n",
      "sort time:0.004001140594482422\n",
      "prediction time:0.007001638412475586\n",
      "sort time:0.0030007362365722656"
     ]
    },
    {
     "name": "stderr",
     "output_type": "stream",
     "text": [
      "  0%|▏                                                             | 656/199549 [00:08<38:29, 86.13it/s]"
     ]
    },
    {
     "name": "stdout",
     "output_type": "stream",
     "text": [
      "\n",
      "prediction time:0.00800180435180664\n",
      "sort time:0.004000663757324219\n",
      "prediction time:0.008001565933227539\n",
      "sort time:0.0030007362365722656\n",
      "prediction time:0.00600123405456543\n",
      "sort time:0.00400090217590332\n",
      "prediction time:0.007001399993896484\n",
      "sort time:0.0030007362365722656\n",
      "prediction time:0.0070018768310546875\n",
      "sort time:0.003000497817993164\n",
      "prediction time:0.00600123405456543\n",
      "sort time:0.003000974655151367\n",
      "prediction time:0.007001638412475586\n",
      "sort time:0.0020003318786621094\n",
      "prediction time:0.007001638412475586\n",
      "sort time:0.003000974655151367\n",
      "prediction time:0.0070018768310546875\n",
      "sort time:0.004000663757324219\n",
      "prediction time:0.0070018768310546875\n",
      "sort time:0.003000497817993164\n",
      "prediction time:0.007001638412475586\n",
      "sort time:0.0030007362365722656\n",
      "prediction time:0.007001638412475586\n",
      "sort time:0.003000497817993164\n",
      "prediction time:0.0070018768310546875\n",
      "sort time:0.003000497817993164\n",
      "prediction time:0.007001399993896484\n",
      "sort time:0.0030007362365722656\n",
      "prediction time:0.006001710891723633\n",
      "sort time:0.003000020980834961\n",
      "prediction time:0.006001710891723633\n",
      "sort time:0.003000497817993164\n",
      "prediction time:0.008002042770385742\n",
      "sort time:0.003000497817993164"
     ]
    },
    {
     "name": "stderr",
     "output_type": "stream",
     "text": [
      "\r",
      "  0%|▏                                                             | 665/199549 [00:08<39:25, 84.07it/s]"
     ]
    },
    {
     "name": "stdout",
     "output_type": "stream",
     "text": [
      "\n",
      "prediction time:0.007001638412475586\n",
      "sort time:0.003000497817993164\n",
      "prediction time:0.00600123405456543\n",
      "sort time:0.004001140594482422\n",
      "prediction time:0.00800180435180664\n",
      "sort time:0.003000974655151367\n",
      "prediction time:0.007001638412475586\n",
      "sort time:0.003000497817993164\n",
      "prediction time:0.007002115249633789\n",
      "sort time:0.00400090217590332\n",
      "prediction time:0.008002042770385742\n",
      "sort time:0.00400090217590332\n",
      "prediction time:0.007001399993896484\n",
      "sort time:0.004001140594482422\n",
      "prediction time:0.007001638412475586\n",
      "sort time:0.004000663757324219\n",
      "prediction time:0.012002229690551758\n",
      "sort time:0.00400090217590332\n",
      "prediction time:0.01200246810913086\n",
      "sort time:0.0030014514923095703\n",
      "prediction time:0.007001638412475586\n",
      "sort time:0.004000663757324219\n",
      "prediction time:0.007001638412475586\n",
      "sort time:0.003000497817993164\n",
      "prediction time:0.006001710891723633\n",
      "sort time:0.003000497817993164\n",
      "prediction time:0.007001638412475586\n"
     ]
    },
    {
     "name": "stderr",
     "output_type": "stream",
     "text": [
      "  0%|▏                                                             | 683/199549 [00:09<40:56, 80.97it/s]"
     ]
    },
    {
     "name": "stdout",
     "output_type": "stream",
     "text": [
      "sort time:0.003000497817993164\n",
      "prediction time:0.008002042770385742\n",
      "sort time:0.004000663757324219\n",
      "prediction time:0.006001710891723633\n",
      "sort time:0.0030007362365722656\n",
      "prediction time:0.007001399993896484\n",
      "sort time:0.0030007362365722656\n",
      "prediction time:0.010002374649047852\n",
      "sort time:0.0030007362365722656\n",
      "prediction time:0.0070018768310546875\n",
      "sort time:0.003000497817993164\n",
      "prediction time:0.007001638412475586\n",
      "sort time:0.0030007362365722656\n",
      "prediction time:0.007001399993896484\n",
      "sort time:0.0030007362365722656\n",
      "prediction time:0.00800180435180664\n",
      "sort time:0.004001140594482422\n",
      "prediction time:0.00800180435180664\n",
      "sort time:0.00400090217590332\n",
      "prediction time:0.007001161575317383\n",
      "sort time:0.003000974655151367\n",
      "prediction time:0.007000923156738281\n",
      "sort time:0.004000663757324219\n",
      "prediction time:0.007002115249633789\n",
      "sort time:0.003000020980834961\n",
      "prediction time:0.007001399993896484\n",
      "sort time:0.00400090217590332\n",
      "prediction time:0.006001949310302734\n",
      "sort time:0.004000425338745117\n",
      "prediction time:0.00800180435180664\n"
     ]
    },
    {
     "name": "stderr",
     "output_type": "stream",
     "text": [
      "  0%|▏                                                             | 701/199549 [00:09<40:21, 82.10it/s]"
     ]
    },
    {
     "name": "stdout",
     "output_type": "stream",
     "text": [
      "sort time:0.004001140594482422\n",
      "prediction time:0.00800180435180664\n",
      "sort time:0.004000663757324219\n",
      "prediction time:0.007001638412475586\n",
      "sort time:0.004000425338745117\n",
      "prediction time:0.007001399993896484\n",
      "sort time:0.0030007362365722656\n",
      "prediction time:0.007001638412475586\n",
      "sort time:0.003000974655151367\n",
      "prediction time:0.007001638412475586\n",
      "sort time:0.0030007362365722656\n",
      "prediction time:0.007001399993896484\n",
      "sort time:0.003000497817993164\n",
      "prediction time:0.006001472473144531\n",
      "sort time:0.00400090217590332\n",
      "prediction time:0.00800180435180664\n",
      "sort time:0.003000497817993164\n",
      "prediction time:0.007001638412475586\n",
      "sort time:0.0030007362365722656\n",
      "prediction time:0.006001472473144531\n",
      "sort time:0.0030007362365722656\n",
      "prediction time:0.007001638412475586\n",
      "sort time:0.0030007362365722656\n",
      "prediction time:0.007001638412475586\n",
      "sort time:0.003000497817993164\n",
      "prediction time:0.0070018768310546875\n",
      "sort time:0.0030007362365722656\n",
      "prediction time:0.007001399993896484\n",
      "sort time:0.0020003318786621094\n",
      "prediction time:0.0070018768310546875\n",
      "sort time:0.0030007362365722656\n"
     ]
    },
    {
     "name": "stderr",
     "output_type": "stream",
     "text": [
      "\r",
      "  0%|▏                                                             | 710/199549 [00:09<39:44, 83.38it/s]"
     ]
    },
    {
     "name": "stdout",
     "output_type": "stream",
     "text": [
      "prediction time:0.00600123405456543\n",
      "sort time:0.004001140594482422\n",
      "prediction time:0.00800180435180664\n",
      "sort time:0.003000497817993164\n",
      "prediction time:0.006000995635986328\n",
      "sort time:0.003000974655151367\n",
      "prediction time:0.006001472473144531\n",
      "sort time:0.00400090217590332\n",
      "prediction time:0.007001638412475586\n",
      "sort time:0.003000974655151367\n",
      "prediction time:0.006000995635986328\n",
      "sort time:0.0030007362365722656\n",
      "prediction time:0.0070018768310546875\n",
      "sort time:0.003000497817993164\n",
      "prediction time:0.007001638412475586\n",
      "sort time:0.003000497817993164\n",
      "prediction time:0.00600123405456543\n",
      "sort time:0.002000570297241211\n",
      "prediction time:0.006001472473144531\n",
      "sort time:0.004000663757324219\n",
      "prediction time:0.008002281188964844\n",
      "sort time:0.003000974655151367\n",
      "prediction time:0.007001638412475586\n",
      "sort time:0.004000663757324219\n",
      "prediction time:0.00600123405456543\n",
      "sort time:0.0030007362365722656\n",
      "prediction time:0.006000995635986328\n",
      "sort time:0.0030007362365722656\n",
      "prediction time:0.007001638412475586\n",
      "sort time:0.003000497817993164\n",
      "prediction time:0.007001638412475586\n",
      "sort time:0.003000497817993164\n",
      "prediction time:0.007001638412475586\n",
      "sort time:0.0030007362365722656"
     ]
    },
    {
     "name": "stderr",
     "output_type": "stream",
     "text": [
      "  0%|▏                                                             | 728/199549 [00:09<39:11, 84.54it/s]"
     ]
    },
    {
     "name": "stdout",
     "output_type": "stream",
     "text": [
      "\n",
      "prediction time:0.008002042770385742\n",
      "sort time:0.003000497817993164\n",
      "prediction time:0.008002042770385742\n",
      "sort time:0.003000497817993164\n",
      "prediction time:0.007001638412475586\n",
      "sort time:0.0030012130737304688\n",
      "prediction time:0.00700068473815918\n",
      "sort time:0.0030014514923095703\n",
      "prediction time:0.006001710891723633\n",
      "sort time:0.0030002593994140625\n",
      "prediction time:0.0070018768310546875\n",
      "sort time:0.0020003318786621094\n",
      "prediction time:0.00700068473815918\n",
      "sort time:0.003000974655151367\n",
      "prediction time:0.007001638412475586\n",
      "sort time:0.004000663757324219\n",
      "prediction time:0.007001638412475586\n",
      "sort time:0.003000497817993164\n",
      "prediction time:0.007001399993896484\n",
      "sort time:0.0030007362365722656\n",
      "prediction time:0.008002281188964844\n",
      "sort time:0.0030002593994140625\n",
      "prediction time:0.007001399993896484\n",
      "sort time:0.0030007362365722656\n",
      "prediction time:0.0070018768310546875\n",
      "sort time:0.00400090217590332\n",
      "prediction time:0.0070018768310546875\n",
      "sort time:0.0030007362365722656\n",
      "prediction time:0.00600123405456543\n",
      "sort time:0.003000497817993164\n",
      "prediction time:0.007001399993896484\n"
     ]
    },
    {
     "name": "stderr",
     "output_type": "stream",
     "text": [
      "  0%|▏                                                             | 746/199549 [00:09<39:33, 83.75it/s]"
     ]
    },
    {
     "name": "stdout",
     "output_type": "stream",
     "text": [
      "sort time:0.0030007362365722656\n",
      "prediction time:0.006001472473144531\n",
      "sort time:0.00400090217590332\n",
      "prediction time:0.009001970291137695\n",
      "sort time:0.003000497817993164\n",
      "prediction time:0.007001161575317383\n",
      "sort time:0.003000974655151367\n",
      "prediction time:0.007001638412475586\n",
      "sort time:0.0030007362365722656\n",
      "prediction time:0.00800180435180664\n",
      "sort time:0.0030007362365722656\n",
      "prediction time:0.007001638412475586\n",
      "sort time:0.0030007362365722656\n",
      "prediction time:0.00800180435180664\n",
      "sort time:0.0030007362365722656\n",
      "prediction time:0.007001638412475586\n",
      "sort time:0.003000497817993164\n",
      "prediction time:0.0070018768310546875\n",
      "sort time:0.003000497817993164\n",
      "prediction time:0.00600123405456543\n",
      "sort time:0.0030007362365722656\n",
      "prediction time:0.007001638412475586\n",
      "sort time:0.0030002593994140625\n",
      "prediction time:0.008002042770385742\n",
      "sort time:0.004000663757324219\n",
      "prediction time:0.007001638412475586\n",
      "sort time:0.004000663757324219\n",
      "prediction time:0.008002042770385742\n",
      "sort time:0.0030002593994140625\n",
      "prediction time:0.00800180435180664\n"
     ]
    },
    {
     "name": "stderr",
     "output_type": "stream",
     "text": [
      "\r",
      "  0%|▏                                                             | 755/199549 [00:10<42:23, 78.17it/s]"
     ]
    },
    {
     "name": "stdout",
     "output_type": "stream",
     "text": [
      "sort time:0.00400090217590332\n",
      "prediction time:0.009002447128295898\n",
      "sort time:0.004000663757324219\n",
      "prediction time:0.0070018768310546875\n",
      "sort time:0.0030007362365722656\n",
      "prediction time:0.007001638412475586\n",
      "sort time:0.005003213882446289\n",
      "prediction time:0.007001161575317383\n",
      "sort time:0.005001068115234375\n",
      "prediction time:0.009001970291137695\n",
      "sort time:0.005001068115234375\n",
      "prediction time:0.00900125503540039\n",
      "sort time:0.007001161575317383\n",
      "prediction time:0.00800180435180664\n",
      "sort time:0.004000425338745117\n",
      "prediction time:0.009001731872558594\n",
      "sort time:0.003000497817993164\n",
      "prediction time:0.009001731872558594\n",
      "sort time:0.0030007362365722656\n",
      "prediction time:0.008001565933227539\n",
      "sort time:0.004000663757324219\n",
      "prediction time:0.007001399993896484\n",
      "sort time:0.003000497817993164\n",
      "prediction time:0.008002042770385742\n",
      "sort time:0.0030002593994140625\n",
      "prediction time:0.007001638412475586\n",
      "sort time:0.00400090217590332"
     ]
    },
    {
     "name": "stderr",
     "output_type": "stream",
     "text": [
      "  0%|▏                                                             | 771/199549 [00:10<43:04, 76.90it/s]"
     ]
    },
    {
     "name": "stdout",
     "output_type": "stream",
     "text": [
      "\n",
      "prediction time:0.007001399993896484\n",
      "sort time:0.00400090217590332\n",
      "prediction time:0.009002685546875\n",
      "sort time:0.00400090217590332\n",
      "prediction time:0.007001638412475586\n",
      "sort time:0.004001140594482422\n",
      "prediction time:0.008002042770385742\n",
      "sort time:0.004000663757324219\n",
      "prediction time:0.007001638412475586\n",
      "sort time:0.004000663757324219\n",
      "prediction time:0.007001399993896484\n",
      "sort time:0.00400090217590332\n",
      "prediction time:0.007000923156738281\n",
      "sort time:0.0030012130737304688\n",
      "prediction time:0.0070018768310546875\n",
      "sort time:0.003000020980834961\n",
      "prediction time:0.007001399993896484\n",
      "sort time:0.0030012130737304688\n",
      "prediction time:0.007001638412475586\n",
      "sort time:0.004001140594482422\n",
      "prediction time:0.007001161575317383\n",
      "sort time:0.0030007362365722656\n",
      "prediction time:0.009002208709716797\n",
      "sort time:0.00400090217590332\n",
      "prediction time:0.009001970291137695\n",
      "sort time:0.004000663757324219\n",
      "prediction time:0.00600123405456543\n"
     ]
    },
    {
     "name": "stderr",
     "output_type": "stream",
     "text": [
      "  0%|▏                                                             | 788/199549 [00:10<41:48, 79.24it/s]"
     ]
    },
    {
     "name": "stdout",
     "output_type": "stream",
     "text": [
      "sort time:0.004001140594482422\n",
      "prediction time:0.00800180435180664\n",
      "sort time:0.0030012130737304688\n",
      "prediction time:0.009002208709716797\n",
      "sort time:0.003000497817993164\n",
      "prediction time:0.006001472473144531\n",
      "sort time:0.003000497817993164\n",
      "prediction time:0.00800180435180664\n",
      "sort time:0.004000663757324219\n",
      "prediction time:0.00600123405456543\n",
      "sort time:0.003000497817993164\n",
      "prediction time:0.007001638412475586\n",
      "sort time:0.003000497817993164\n",
      "prediction time:0.006001710891723633\n",
      "sort time:0.004000663757324219\n",
      "prediction time:0.006001472473144531\n",
      "sort time:0.003000497817993164\n",
      "prediction time:0.007001399993896484\n",
      "sort time:0.003000974655151367\n",
      "prediction time:0.0070018768310546875\n",
      "sort time:0.0030002593994140625\n",
      "prediction time:0.0060007572174072266\n",
      "sort time:0.003000974655151367\n",
      "prediction time:0.007001638412475586\n",
      "sort time:0.003000497817993164\n",
      "prediction time:0.008002042770385742\n",
      "sort time:0.004000663757324219\n",
      "prediction time:0.006001472473144531\n",
      "sort time:0.003000497817993164\n",
      "prediction time:0.007001638412475586\n",
      "sort time:0.003000497817993164\n",
      "prediction time:0.007001638412475586\n",
      "sort time:0.0030007362365722656"
     ]
    },
    {
     "name": "stderr",
     "output_type": "stream",
     "text": [
      "  0%|▎                                                             | 806/199549 [00:10<40:14, 82.33it/s]"
     ]
    },
    {
     "name": "stdout",
     "output_type": "stream",
     "text": [
      "\n",
      "prediction time:0.0070018768310546875\n",
      "sort time:0.003000974655151367\n",
      "prediction time:0.007001399993896484\n",
      "sort time:0.0030012130737304688\n",
      "prediction time:0.006001472473144531\n",
      "sort time:0.003000497817993164\n",
      "prediction time:0.007001638412475586\n",
      "sort time:0.003000497817993164\n",
      "prediction time:0.0070018768310546875\n",
      "sort time:0.004000663757324219\n",
      "prediction time:0.00800180435180664\n",
      "sort time:0.0030007362365722656\n",
      "prediction time:0.006001710891723633\n",
      "sort time:0.0030002593994140625\n",
      "prediction time:0.007001638412475586\n",
      "sort time:0.0030007362365722656\n",
      "prediction time:0.00600123405456543\n",
      "sort time:0.004000663757324219\n",
      "prediction time:0.007001638412475586\n",
      "sort time:0.0030007362365722656\n",
      "prediction time:0.006001472473144531\n",
      "sort time:0.0020003318786621094\n",
      "prediction time:0.007001638412475586\n",
      "sort time:0.0030007362365722656\n",
      "prediction time:0.007001399993896484\n",
      "sort time:0.0030007362365722656\n",
      "prediction time:0.0070018768310546875\n",
      "sort time:0.0030002593994140625\n",
      "prediction time:0.008002281188964844\n",
      "sort time:0.003000497817993164\n",
      "prediction time:0.0070018768310546875\n"
     ]
    },
    {
     "name": "stderr",
     "output_type": "stream",
     "text": [
      "\r",
      "  0%|▎                                                             | 815/199549 [00:10<39:58, 82.86it/s]"
     ]
    },
    {
     "name": "stdout",
     "output_type": "stream",
     "text": [
      "sort time:0.004000425338745117\n",
      "prediction time:0.008001565933227539\n",
      "sort time:0.004001140594482422\n",
      "prediction time:0.007001638412475586\n",
      "sort time:0.0020003318786621094\n",
      "prediction time:0.007001638412475586\n",
      "sort time:0.0030007362365722656\n",
      "prediction time:0.007001638412475586\n",
      "sort time:0.003003835678100586\n",
      "prediction time:0.007001638412475586\n",
      "sort time:0.003000497817993164\n",
      "prediction time:0.0070018768310546875\n",
      "sort time:0.0030007362365722656\n",
      "prediction time:0.007001638412475586\n",
      "sort time:0.0030007362365722656\n",
      "prediction time:0.007002115249633789\n",
      "sort time:0.003000497817993164\n",
      "prediction time:0.007001161575317383\n",
      "sort time:0.0030012130737304688\n",
      "prediction time:0.006002187728881836\n",
      "sort time:0.003000974655151367\n",
      "prediction time:0.008001565933227539\n",
      "sort time:0.002000093460083008\n",
      "prediction time:0.0070018768310546875\n",
      "sort time:0.0030002593994140625\n",
      "prediction time:0.0070018768310546875\n",
      "sort time:0.003000497817993164\n",
      "prediction time:0.007001638412475586\n",
      "sort time:0.0030007362365722656\n",
      "prediction time:0.006001472473144531\n",
      "sort time:0.003000497817993164\n",
      "prediction time:0.007001638412475586\n",
      "sort time:0.003000497817993164"
     ]
    },
    {
     "name": "stderr",
     "output_type": "stream",
     "text": [
      "  0%|▎                                                             | 833/199549 [00:11<39:32, 83.75it/s]"
     ]
    },
    {
     "name": "stdout",
     "output_type": "stream",
     "text": [
      "\n",
      "prediction time:0.00600123405456543\n",
      "sort time:0.0030007362365722656\n",
      "prediction time:0.007001638412475586\n",
      "sort time:0.003000497817993164\n",
      "prediction time:0.007001638412475586\n",
      "sort time:0.004001140594482422\n",
      "prediction time:0.00800180435180664\n",
      "sort time:0.003000497817993164\n",
      "prediction time:0.0070018768310546875\n",
      "sort time:0.0030007362365722656\n",
      "prediction time:0.007001638412475586\n",
      "sort time:0.003000497817993164\n",
      "prediction time:0.009002208709716797\n",
      "sort time:0.0030007362365722656\n",
      "prediction time:0.007001399993896484\n",
      "sort time:0.003000497817993164\n",
      "prediction time:0.0070018768310546875\n",
      "sort time:0.003000497817993164\n",
      "prediction time:0.008002042770385742\n",
      "sort time:0.0030007362365722656\n",
      "prediction time:0.006001472473144531\n",
      "sort time:0.003000497817993164\n",
      "prediction time:0.00800180435180664\n",
      "sort time:0.003000974655151367\n",
      "prediction time:0.008002042770385742\n",
      "sort time:0.0030002593994140625\n",
      "prediction time:0.007002115249633789\n",
      "sort time:0.004000425338745117\n",
      "prediction time:0.006001949310302734\n",
      "sort time:0.004001140594482422"
     ]
    },
    {
     "name": "stderr",
     "output_type": "stream",
     "text": [
      "  0%|▎                                                             | 851/199549 [00:11<42:55, 77.16it/s]"
     ]
    },
    {
     "name": "stdout",
     "output_type": "stream",
     "text": [
      "\n",
      "prediction time:0.008002042770385742\n",
      "sort time:0.004000425338745117\n",
      "prediction time:0.00800180435180664\n",
      "sort time:0.0050013065338134766\n",
      "prediction time:0.008001089096069336\n",
      "sort time:0.006000518798828125\n",
      "prediction time:0.010001420974731445\n",
      "sort time:0.004001140594482422\n",
      "prediction time:0.0070018768310546875\n",
      "sort time:0.004001140594482422\n",
      "prediction time:0.007001638412475586\n",
      "sort time:0.00400090217590332\n",
      "prediction time:0.008001565933227539\n",
      "sort time:0.0040013790130615234\n",
      "prediction time:0.007002830505371094\n",
      "sort time:0.0029997825622558594\n",
      "prediction time:0.01000213623046875\n",
      "sort time:0.0040013790130615234\n",
      "prediction time:0.00800180435180664\n",
      "sort time:0.0040013790130615234\n",
      "prediction time:0.0070018768310546875\n",
      "sort time:0.003000497817993164\n",
      "prediction time:0.01000213623046875\n",
      "sort time:0.0030007362365722656\n",
      "prediction time:0.008001565933227539\n",
      "sort time:0.003000497817993164"
     ]
    },
    {
     "name": "stderr",
     "output_type": "stream",
     "text": [
      "\r",
      "  0%|▎                                                             | 859/199549 [00:11<43:52, 75.48it/s]"
     ]
    },
    {
     "name": "stdout",
     "output_type": "stream",
     "text": [
      "\n",
      "prediction time:0.00800180435180664\n",
      "sort time:0.00400090217590332\n",
      "prediction time:0.007001399993896484\n",
      "sort time:0.004001140594482422\n",
      "prediction time:0.0070018768310546875\n",
      "sort time:0.004000425338745117\n",
      "prediction time:0.008001565933227539\n",
      "sort time:0.005001068115234375\n",
      "prediction time:0.007000923156738281\n",
      "sort time:0.0040013790130615234\n",
      "prediction time:0.007001638412475586\n",
      "sort time:0.003000974655151367\n",
      "prediction time:0.007001399993896484\n",
      "sort time:0.00400090217590332\n",
      "prediction time:0.00800180435180664\n",
      "sort time:0.004000663757324219\n",
      "prediction time:0.00800180435180664\n",
      "sort time:0.004001140594482422\n",
      "prediction time:0.007001399993896484\n",
      "sort time:0.0050013065338134766\n",
      "prediction time:0.00800180435180664\n",
      "sort time:0.0040013790130615234\n",
      "prediction time:0.00800180435180664\n",
      "sort time:0.003000974655151367\n",
      "prediction time:0.008002042770385742\n",
      "sort time:0.00400090217590332\n",
      "prediction time:0.00800180435180664\n"
     ]
    },
    {
     "name": "stderr",
     "output_type": "stream",
     "text": [
      "  0%|▎                                                             | 876/199549 [00:11<43:32, 76.06it/s]"
     ]
    },
    {
     "name": "stdout",
     "output_type": "stream",
     "text": [
      "sort time:0.0040013790130615234\n",
      "prediction time:0.007000923156738281\n",
      "sort time:0.006001949310302734\n",
      "prediction time:0.007001399993896484\n",
      "sort time:0.004000663757324219\n",
      "prediction time:0.00800180435180664\n",
      "sort time:0.003000497817993164\n",
      "prediction time:0.006000995635986328\n",
      "sort time:0.00400090217590332\n",
      "prediction time:0.006001472473144531\n",
      "sort time:0.003000497817993164\n",
      "prediction time:0.0070018768310546875\n",
      "sort time:0.0030007362365722656\n",
      "prediction time:0.006001472473144531\n",
      "sort time:0.003000497817993164\n",
      "prediction time:0.007001399993896484\n",
      "sort time:0.0030007362365722656\n",
      "prediction time:0.006001710891723633\n",
      "sort time:0.004000663757324219\n",
      "prediction time:0.0070018768310546875\n",
      "sort time:0.0030002593994140625\n",
      "prediction time:0.007001638412475586\n",
      "sort time:0.0030012130737304688\n",
      "prediction time:0.007001638412475586\n",
      "sort time:0.003000974655151367\n",
      "prediction time:0.007002115249633789\n",
      "sort time:0.003000020980834961\n",
      "prediction time:0.006001472473144531\n",
      "sort time:0.003000497817993164\n"
     ]
    },
    {
     "name": "stderr",
     "output_type": "stream",
     "text": [
      "  0%|▎                                                             | 894/199549 [00:11<41:15, 80.23it/s]"
     ]
    },
    {
     "name": "stdout",
     "output_type": "stream",
     "text": [
      "prediction time:0.009001731872558594\n",
      "sort time:0.0030007362365722656\n",
      "prediction time:0.007001638412475586\n",
      "sort time:0.003000497817993164\n",
      "prediction time:0.00600123405456543\n",
      "sort time:0.0030007362365722656\n",
      "prediction time:0.00800180435180664\n",
      "sort time:0.003000497817993164\n",
      "prediction time:0.007001638412475586\n",
      "sort time:0.0030007362365722656\n",
      "prediction time:0.007001399993896484\n",
      "sort time:0.0030012130737304688\n",
      "prediction time:0.007001399993896484\n",
      "sort time:0.003000497817993164\n",
      "prediction time:0.007001638412475586\n",
      "sort time:0.0030007362365722656\n",
      "prediction time:0.007001638412475586\n",
      "sort time:0.003000497817993164\n",
      "prediction time:0.006001710891723633\n",
      "sort time:0.003000497817993164\n",
      "prediction time:0.007001638412475586\n",
      "sort time:0.003000497817993164\n",
      "prediction time:0.008001565933227539\n",
      "sort time:0.003000974655151367\n",
      "prediction time:0.00600123405456543\n",
      "sort time:0.003000497817993164\n",
      "prediction time:0.0070018768310546875\n",
      "sort time:0.003000497817993164\n",
      "prediction time:0.008002281188964844\n",
      "sort time:0.004000425338745117\n",
      "prediction time:0.007001399993896484\n"
     ]
    },
    {
     "name": "stderr",
     "output_type": "stream",
     "text": [
      "\r",
      "  0%|▎                                                             | 903/199549 [00:11<40:54, 80.92it/s]"
     ]
    },
    {
     "name": "stdout",
     "output_type": "stream",
     "text": [
      "sort time:0.003000974655151367\n",
      "prediction time:0.009002208709716797\n",
      "sort time:0.003000497817993164\n",
      "prediction time:0.007001638412475586\n",
      "sort time:0.003000497817993164\n",
      "prediction time:0.006001710891723633\n",
      "sort time:0.003000497817993164\n",
      "prediction time:0.00600123405456543\n",
      "sort time:0.0030007362365722656\n",
      "prediction time:0.007001638412475586\n",
      "sort time:0.002000570297241211\n",
      "prediction time:0.006001710891723633\n",
      "sort time:0.0030002593994140625\n",
      "prediction time:0.007002830505371094\n",
      "sort time:0.003000020980834961\n",
      "prediction time:0.00800180435180664\n",
      "sort time:0.00400090217590332\n",
      "prediction time:0.00600123405456543\n",
      "sort time:0.0030007362365722656\n",
      "prediction time:0.007001399993896484\n",
      "sort time:0.0030007362365722656\n",
      "prediction time:0.007001638412475586\n",
      "sort time:0.003000974655151367\n",
      "prediction time:0.007001638412475586\n",
      "sort time:0.003000497817993164\n",
      "prediction time:0.007001638412475586\n",
      "sort time:0.003000497817993164\n",
      "prediction time:0.007001399993896484\n",
      "sort time:0.0030007362365722656\n",
      "prediction time:0.006001472473144531\n",
      "sort time:0.003000497817993164\n",
      "prediction time:0.007001638412475586\n"
     ]
    },
    {
     "name": "stderr",
     "output_type": "stream",
     "text": [
      "  0%|▎                                                             | 921/199549 [00:12<41:38, 79.50it/s]"
     ]
    },
    {
     "name": "stdout",
     "output_type": "stream",
     "text": [
      "sort time:0.0040013790130615234\n",
      "prediction time:0.0070018768310546875\n",
      "sort time:0.0030002593994140625\n",
      "prediction time:0.00800180435180664\n",
      "sort time:0.003000974655151367\n",
      "prediction time:0.008002042770385742\n",
      "sort time:0.004000663757324219\n",
      "prediction time:0.007001638412475586\n",
      "sort time:0.0030012130737304688\n",
      "prediction time:0.00800180435180664\n",
      "sort time:0.004001140594482422\n",
      "prediction time:0.008002042770385742\n",
      "sort time:0.00400090217590332\n",
      "prediction time:0.007001638412475586\n",
      "sort time:0.004000663757324219\n",
      "prediction time:0.00800180435180664\n",
      "sort time:0.004000425338745117\n",
      "prediction time:0.008001565933227539\n",
      "sort time:0.00400090217590332\n",
      "prediction time:0.008001089096069336\n",
      "sort time:0.005001544952392578\n",
      "prediction time:0.009002447128295898\n",
      "sort time:0.005002260208129883\n",
      "prediction time:0.009001970291137695\n",
      "sort time:0.004001140594482422\n",
      "prediction time:0.008002281188964844\n"
     ]
    },
    {
     "name": "stderr",
     "output_type": "stream",
     "text": [
      "  0%|▎                                                             | 937/199549 [00:12<45:36, 72.57it/s]"
     ]
    },
    {
     "name": "stdout",
     "output_type": "stream",
     "text": [
      "sort time:0.005001068115234375\n",
      "prediction time:0.008001327514648438\n",
      "sort time:0.005001544952392578\n",
      "prediction time:0.010001897811889648\n",
      "sort time:0.004000425338745117\n",
      "prediction time:0.009001731872558594\n",
      "sort time:0.00400090217590332\n",
      "prediction time:0.008001565933227539\n",
      "sort time:0.0040013790130615234\n",
      "prediction time:0.009001970291137695\n",
      "sort time:0.0050013065338134766\n",
      "prediction time:0.00800180435180664\n",
      "sort time:0.004001140594482422\n",
      "prediction time:0.010001897811889648\n",
      "sort time:0.004000663757324219\n",
      "prediction time:0.008001327514648438\n",
      "sort time:0.004000663757324219\n",
      "prediction time:0.008002042770385742\n",
      "sort time:0.0030007362365722656\n",
      "prediction time:0.009001970291137695\n",
      "sort time:0.003000497817993164\n",
      "prediction time:0.00800180435180664\n",
      "sort time:0.004000425338745117\n",
      "prediction time:0.008001565933227539\n",
      "sort time:0.00400090217590332\n",
      "prediction time:0.009002685546875\n"
     ]
    },
    {
     "name": "stderr",
     "output_type": "stream",
     "text": [
      "\r",
      "  0%|▎                                                             | 945/199549 [00:12<45:13, 73.19it/s]"
     ]
    },
    {
     "name": "stdout",
     "output_type": "stream",
     "text": [
      "sort time:0.004000425338745117\n",
      "prediction time:0.0070018768310546875\n",
      "sort time:0.00400090217590332\n",
      "prediction time:0.0070018768310546875\n",
      "sort time:0.0030007362365722656\n",
      "prediction time:0.0070018768310546875\n",
      "sort time:0.004001140594482422\n",
      "prediction time:0.006001472473144531\n",
      "sort time:0.00400090217590332\n",
      "prediction time:0.008002042770385742\n",
      "sort time:0.0040013790130615234\n",
      "prediction time:0.007001638412475586\n",
      "sort time:0.003000497817993164\n",
      "prediction time:0.007001638412475586\n",
      "sort time:0.003000974655151367\n",
      "prediction time:0.007002115249633789\n",
      "sort time:0.0030014514923095703\n",
      "prediction time:0.00800180435180664\n",
      "sort time:0.0030007362365722656\n",
      "prediction time:0.00600123405456543\n",
      "sort time:0.003000497817993164\n",
      "prediction time:0.007001399993896484\n",
      "sort time:0.003000497817993164\n",
      "prediction time:0.00600123405456543\n",
      "sort time:0.003000974655151367\n",
      "prediction time:0.007001638412475586\n",
      "sort time:0.003000497817993164\n",
      "prediction time:0.007001638412475586\n",
      "sort time:0.003000974655151367\n",
      "prediction time:0.0070018768310546875\n"
     ]
    },
    {
     "name": "stderr",
     "output_type": "stream",
     "text": [
      "  0%|▎                                                             | 963/199549 [00:12<42:39, 77.59it/s]"
     ]
    },
    {
     "name": "stdout",
     "output_type": "stream",
     "text": [
      "sort time:0.004000663757324219\n",
      "prediction time:0.008002042770385742\n",
      "sort time:0.0030002593994140625\n",
      "prediction time:0.008001327514648438\n",
      "sort time:0.004001140594482422\n",
      "prediction time:0.007001161575317383\n",
      "sort time:0.004001140594482422\n",
      "prediction time:0.006001472473144531\n",
      "sort time:0.003000497817993164\n",
      "prediction time:0.007001638412475586\n",
      "sort time:0.0030007362365722656\n",
      "prediction time:0.007001638412475586\n",
      "sort time:0.0030007362365722656\n",
      "prediction time:0.007001399993896484\n",
      "sort time:0.003000497817993164\n",
      "prediction time:0.007001399993896484\n",
      "sort time:0.003000974655151367\n",
      "prediction time:0.007001638412475586\n",
      "sort time:0.0030007362365722656\n",
      "prediction time:0.0070018768310546875\n",
      "sort time:0.0030007362365722656\n",
      "prediction time:0.00800180435180664\n",
      "sort time:0.003000497817993164\n",
      "prediction time:0.007001638412475586\n",
      "sort time:0.002000570297241211\n",
      "prediction time:0.009001970291137695\n",
      "sort time:0.0030007362365722656\n",
      "prediction time:0.007001638412475586\n",
      "sort time:0.0030007362365722656\n",
      "prediction time:0.007001638412475586\n",
      "sort time:0.003000497817993164"
     ]
    },
    {
     "name": "stderr",
     "output_type": "stream",
     "text": [
      "  0%|▎                                                             | 981/199549 [00:12<41:03, 80.59it/s]"
     ]
    },
    {
     "name": "stdout",
     "output_type": "stream",
     "text": [
      "\n",
      "prediction time:0.00800180435180664\n",
      "sort time:0.004001140594482422\n",
      "prediction time:0.006001710891723633\n",
      "sort time:0.003000497817993164\n",
      "prediction time:0.0070018768310546875\n",
      "sort time:0.004001140594482422\n",
      "prediction time:0.007001161575317383\n",
      "sort time:0.00400090217590332\n",
      "prediction time:0.006001710891723633\n",
      "sort time:0.0030007362365722656\n",
      "prediction time:0.007001399993896484\n",
      "sort time:0.003000974655151367\n",
      "prediction time:0.007001638412475586\n",
      "sort time:0.0030007362365722656\n",
      "prediction time:0.006001472473144531\n",
      "sort time:0.003000497817993164\n",
      "prediction time:0.00600123405456543\n",
      "sort time:0.003000974655151367\n",
      "prediction time:0.007001399993896484\n",
      "sort time:0.0030002593994140625\n",
      "prediction time:0.007001638412475586\n",
      "sort time:0.0030007362365722656\n",
      "prediction time:0.00800180435180664\n",
      "sort time:0.0030007362365722656\n",
      "prediction time:0.007001638412475586\n",
      "sort time:0.004001140594482422\n",
      "prediction time:0.0070018768310546875\n",
      "sort time:0.0030002593994140625\n",
      "prediction time:0.008002042770385742\n"
     ]
    },
    {
     "name": "stderr",
     "output_type": "stream",
     "text": [
      "\r",
      "  0%|▎                                                             | 990/199549 [00:13<41:32, 79.65it/s]"
     ]
    },
    {
     "name": "stdout",
     "output_type": "stream",
     "text": [
      "sort time:0.0030007362365722656\n",
      "prediction time:0.00800180435180664\n",
      "sort time:0.00400090217590332\n",
      "prediction time:0.0060007572174072266\n",
      "sort time:0.00400090217590332\n",
      "prediction time:0.008002042770385742\n",
      "sort time:0.003000497817993164\n",
      "prediction time:0.008002042770385742\n",
      "sort time:0.00400090217590332\n",
      "prediction time:0.00600123405456543\n",
      "sort time:0.003000497817993164\n",
      "prediction time:0.009001731872558594\n",
      "sort time:0.0030007362365722656\n",
      "prediction time:0.007001399993896484\n",
      "sort time:0.004000663757324219\n",
      "prediction time:0.009002685546875\n",
      "sort time:0.00400090217590332\n",
      "prediction time:0.007001638412475586\n",
      "sort time:0.00400090217590332\n",
      "prediction time:0.00800180435180664\n",
      "sort time:0.004000663757324219\n",
      "prediction time:0.008001565933227539\n",
      "sort time:0.00400090217590332\n",
      "prediction time:0.007001399993896484\n",
      "sort time:0.003000974655151367\n",
      "prediction time:0.00800180435180664\n",
      "sort time:0.004000663757324219\n",
      "prediction time:0.008002281188964844\n",
      "sort time:0.004000663757324219\n"
     ]
    },
    {
     "name": "stderr",
     "output_type": "stream",
     "text": [
      "  1%|▎                                                            | 1006/199549 [00:13<43:14, 76.53it/s]"
     ]
    },
    {
     "name": "stdout",
     "output_type": "stream",
     "text": [
      "prediction time:0.009002208709716797\n",
      "sort time:0.00400090217590332\n",
      "prediction time:0.008001565933227539\n",
      "sort time:0.00400090217590332\n",
      "prediction time:0.006001472473144531\n",
      "sort time:0.004000663757324219\n",
      "prediction time:0.008001565933227539\n",
      "sort time:0.0040013790130615234\n",
      "prediction time:0.009001493453979492\n",
      "sort time:0.0030007362365722656\n",
      "prediction time:0.007001399993896484\n",
      "sort time:0.004000663757324219\n",
      "prediction time:0.009001970291137695\n",
      "sort time:0.003000497817993164\n",
      "prediction time:0.007001638412475586\n",
      "sort time:0.004001140594482422\n",
      "prediction time:0.006001710891723633\n",
      "sort time:0.0040013790130615234\n",
      "prediction time:0.007001638412475586\n",
      "sort time:0.0040018558502197266\n",
      "prediction time:0.0070018768310546875\n",
      "sort time:0.00400090217590332\n",
      "prediction time:0.008001327514648438\n",
      "sort time:0.0040013790130615234\n",
      "prediction time:0.007001161575317383\n",
      "sort time:0.004000186920166016\n",
      "prediction time:0.008002042770385742\n"
     ]
    },
    {
     "name": "stderr",
     "output_type": "stream",
     "text": [
      "  1%|▎                                                            | 1022/199549 [00:13<44:05, 75.05it/s]"
     ]
    },
    {
     "name": "stdout",
     "output_type": "stream",
     "text": [
      "sort time:0.00400090217590332\n",
      "prediction time:0.006000995635986328\n",
      "sort time:0.0030007362365722656\n",
      "prediction time:0.007001399993896484\n",
      "sort time:0.004000663757324219\n",
      "prediction time:0.0070018768310546875\n",
      "sort time:0.0030007362365722656\n",
      "prediction time:0.00800180435180664\n",
      "sort time:0.0030007362365722656\n",
      "prediction time:0.007001399993896484\n",
      "sort time:0.0040013790130615234\n",
      "prediction time:0.007001638412475586\n",
      "sort time:0.004000663757324219\n",
      "prediction time:0.0070018768310546875\n",
      "sort time:0.003000497817993164\n",
      "prediction time:0.007001638412475586\n",
      "sort time:0.003000497817993164\n",
      "prediction time:0.00800180435180664\n",
      "sort time:0.00400090217590332\n",
      "prediction time:0.00800180435180664\n",
      "sort time:0.004001140594482422\n",
      "prediction time:0.009001493453979492\n",
      "sort time:0.00400090217590332\n",
      "prediction time:0.008001089096069336\n",
      "sort time:0.004000663757324219\n",
      "prediction time:0.007001638412475586\n",
      "sort time:0.00400090217590332\n",
      "prediction time:0.008002281188964844\n"
     ]
    },
    {
     "name": "stderr",
     "output_type": "stream",
     "text": [
      "  1%|▎                                                            | 1039/199549 [00:13<43:04, 76.80it/s]"
     ]
    },
    {
     "name": "stdout",
     "output_type": "stream",
     "text": [
      "sort time:0.004001140594482422\n",
      "prediction time:0.0070018768310546875\n",
      "sort time:0.004000425338745117\n",
      "prediction time:0.008001089096069336\n",
      "sort time:0.004001140594482422\n",
      "prediction time:0.007001161575317383\n",
      "sort time:0.0030007362365722656\n",
      "prediction time:0.007000923156738281\n",
      "sort time:0.004001140594482422\n",
      "prediction time:0.00800180435180664\n",
      "sort time:0.0030007362365722656\n",
      "prediction time:0.008002042770385742\n",
      "sort time:0.004000663757324219\n",
      "prediction time:0.006001472473144531\n",
      "sort time:0.0030007362365722656\n",
      "prediction time:0.006001472473144531\n",
      "sort time:0.004000663757324219\n",
      "prediction time:0.007001638412475586\n",
      "sort time:0.003000497817993164\n",
      "prediction time:0.00600123405456543\n",
      "sort time:0.0030007362365722656\n",
      "prediction time:0.008002042770385742\n",
      "sort time:0.0020003318786621094\n",
      "prediction time:0.007001638412475586\n",
      "sort time:0.0030007362365722656\n",
      "prediction time:0.007001638412475586\n",
      "sort time:0.003000497817993164\n",
      "prediction time:0.007001638412475586\n",
      "sort time:0.003000974655151367\n"
     ]
    },
    {
     "name": "stderr",
     "output_type": "stream",
     "text": [
      "\r",
      "  1%|▎                                                            | 1047/199549 [00:13<43:18, 76.41it/s]"
     ]
    },
    {
     "name": "stdout",
     "output_type": "stream",
     "text": [
      "prediction time:0.009002447128295898\n",
      "sort time:0.0030002593994140625\n",
      "prediction time:0.007001399993896484\n",
      "sort time:0.0030012130737304688\n",
      "prediction time:0.008001565933227539\n",
      "sort time:0.003000497817993164\n",
      "prediction time:0.007001161575317383\n",
      "sort time:0.003000974655151367\n",
      "prediction time:0.007001638412475586\n",
      "sort time:0.004000186920166016\n",
      "prediction time:0.008002042770385742\n",
      "sort time:0.004000186920166016\n",
      "prediction time:0.009002447128295898\n",
      "sort time:0.003000497817993164\n",
      "prediction time:0.0070018768310546875\n",
      "sort time:0.003000497817993164\n",
      "prediction time:0.0070018768310546875\n",
      "sort time:0.00400090217590332\n",
      "prediction time:0.007000923156738281\n",
      "sort time:0.003000497817993164\n",
      "prediction time:0.00800180435180664\n",
      "sort time:0.004000663757324219\n",
      "prediction time:0.008002042770385742\n",
      "sort time:0.00400090217590332\n",
      "prediction time:0.006001472473144531\n",
      "sort time:0.003000497817993164\n",
      "prediction time:0.0070018768310546875\n",
      "sort time:0.004000663757324219\n",
      "prediction time:0.0070018768310546875\n",
      "sort time:0.003000497817993164"
     ]
    },
    {
     "name": "stderr",
     "output_type": "stream",
     "text": [
      "  1%|▎                                                            | 1063/199549 [00:14<44:21, 74.57it/s]"
     ]
    },
    {
     "name": "stdout",
     "output_type": "stream",
     "text": [
      "\n",
      "prediction time:0.010001659393310547\n",
      "sort time:0.00400090217590332\n",
      "prediction time:0.009001970291137695\n",
      "sort time:0.00400090217590332\n",
      "prediction time:0.00600123405456543\n",
      "sort time:0.0030007362365722656\n",
      "prediction time:0.009002208709716797\n",
      "sort time:0.0030002593994140625\n",
      "prediction time:0.007001399993896484\n",
      "sort time:0.004001140594482422\n",
      "prediction time:0.008002042770385742\n",
      "sort time:0.004001140594482422\n",
      "prediction time:0.008002281188964844\n",
      "sort time:0.0030002593994140625\n",
      "prediction time:0.0070018768310546875\n",
      "sort time:0.003000497817993164\n",
      "prediction time:0.00800180435180664\n",
      "sort time:0.004001140594482422\n",
      "prediction time:0.008002042770385742\n",
      "sort time:0.004000663757324219\n",
      "prediction time:0.007001638412475586\n",
      "sort time:0.0030007362365722656\n",
      "prediction time:0.007001638412475586\n",
      "sort time:0.003000497817993164\n",
      "prediction time:0.01000213623046875\n",
      "sort time:0.0030007362365722656"
     ]
    },
    {
     "name": "stderr",
     "output_type": "stream",
     "text": [
      "  1%|▎                                                            | 1079/199549 [00:14<45:21, 72.94it/s]"
     ]
    },
    {
     "name": "stdout",
     "output_type": "stream",
     "text": [
      "\n",
      "prediction time:0.009001970291137695\n",
      "sort time:0.00400090217590332\n",
      "prediction time:0.008002042770385742\n",
      "sort time:0.004000663757324219\n",
      "prediction time:0.008002042770385742\n",
      "sort time:0.004000425338745117\n",
      "prediction time:0.007001638412475586\n",
      "sort time:0.004001140594482422\n",
      "prediction time:0.00800180435180664\n",
      "sort time:0.004001140594482422\n",
      "prediction time:0.009001970291137695\n",
      "sort time:0.004000663757324219\n",
      "prediction time:0.008001565933227539\n",
      "sort time:0.004001140594482422\n",
      "prediction time:0.008002281188964844\n",
      "sort time:0.004000663757324219\n",
      "prediction time:0.008002281188964844\n",
      "sort time:0.0030002593994140625\n",
      "prediction time:0.006001710891723633\n",
      "sort time:0.00400090217590332\n",
      "prediction time:0.00800180435180664\n",
      "sort time:0.00400090217590332\n",
      "prediction time:0.00800180435180664\n",
      "sort time:0.00400090217590332\n",
      "prediction time:0.00800180435180664\n",
      "sort time:0.004001140594482422"
     ]
    },
    {
     "name": "stderr",
     "output_type": "stream",
     "text": [
      "\r",
      "  1%|▎                                                            | 1087/199549 [00:14<46:15, 71.51it/s]"
     ]
    },
    {
     "name": "stdout",
     "output_type": "stream",
     "text": [
      "\n",
      "prediction time:0.009002447128295898\n",
      "sort time:0.00400090217590332\n",
      "prediction time:0.0070018768310546875\n",
      "sort time:0.0030002593994140625\n",
      "prediction time:0.010001897811889648\n",
      "sort time:0.0030007362365722656\n",
      "prediction time:0.007001399993896484\n",
      "sort time:0.004001140594482422\n",
      "prediction time:0.007001638412475586\n",
      "sort time:0.004000663757324219\n",
      "prediction time:0.008001327514648438\n",
      "sort time:0.003000974655151367\n",
      "prediction time:0.008002519607543945\n",
      "sort time:0.0050008296966552734\n",
      "prediction time:0.008001089096069336\n",
      "sort time:0.0050013065338134766\n",
      "prediction time:0.008001565933227539\n",
      "sort time:0.004000663757324219\n",
      "prediction time:0.008001565933227539\n",
      "sort time:0.004001140594482422\n",
      "prediction time:0.009001731872558594\n",
      "sort time:0.0050013065338134766\n",
      "prediction time:0.00800180435180664\n",
      "sort time:0.004000663757324219\n",
      "prediction time:0.009002447128295898\n"
     ]
    },
    {
     "name": "stderr",
     "output_type": "stream",
     "text": [
      "  1%|▎                                                            | 1103/199549 [00:14<47:24, 69.76it/s]"
     ]
    },
    {
     "name": "stdout",
     "output_type": "stream",
     "text": [
      "sort time:0.004000425338745117\n",
      "prediction time:0.010001897811889648\n",
      "sort time:0.005001068115234375\n",
      "prediction time:0.008001565933227539\n",
      "sort time:0.0030012130737304688\n",
      "prediction time:0.007001399993896484\n",
      "sort time:0.004001140594482422\n",
      "prediction time:0.00800180435180664\n",
      "sort time:0.00400090217590332\n",
      "prediction time:0.00800180435180664\n",
      "sort time:0.00400090217590332\n",
      "prediction time:0.007001638412475586\n",
      "sort time:0.00400090217590332\n",
      "prediction time:0.007001638412475586\n",
      "sort time:0.00400090217590332\n",
      "prediction time:0.008000850677490234\n",
      "sort time:0.004001140594482422\n",
      "prediction time:0.007001638412475586\n",
      "sort time:0.0030012130737304688\n",
      "prediction time:0.008002042770385742\n",
      "sort time:0.004001140594482422\n",
      "prediction time:0.008001327514648438\n",
      "sort time:0.0040013790130615234\n",
      "prediction time:0.007001399993896484\n",
      "sort time:0.003000974655151367\n",
      "prediction time:0.007001161575317383\n",
      "sort time:0.0030007362365722656"
     ]
    },
    {
     "name": "stderr",
     "output_type": "stream",
     "text": [
      "  1%|▎                                                            | 1119/199549 [00:14<44:42, 73.98it/s]"
     ]
    },
    {
     "name": "stdout",
     "output_type": "stream",
     "text": [
      "\n",
      "prediction time:0.007001638412475586\n",
      "sort time:0.005001544952392578\n",
      "prediction time:0.007001638412475586\n",
      "sort time:0.003000497817993164\n",
      "prediction time:0.008002042770385742\n",
      "sort time:0.0030007362365722656\n",
      "prediction time:0.007001638412475586\n",
      "sort time:0.003000497817993164\n",
      "prediction time:0.007001638412475586\n",
      "sort time:0.00400090217590332\n",
      "prediction time:0.009001731872558594\n",
      "sort time:0.004001140594482422\n",
      "prediction time:0.00800180435180664\n",
      "sort time:0.003000497817993164\n",
      "prediction time:0.007001638412475586\n",
      "sort time:0.003000974655151367\n",
      "prediction time:0.007001638412475586\n",
      "sort time:0.003000497817993164\n",
      "prediction time:0.007001638412475586\n",
      "sort time:0.003000497817993164\n",
      "prediction time:0.007001638412475586\n",
      "sort time:0.004001140594482422\n",
      "prediction time:0.007001638412475586\n",
      "sort time:0.003000497817993164\n",
      "prediction time:0.00800180435180664\n",
      "sort time:0.0030007362365722656\n",
      "prediction time:0.00800180435180664\n",
      "sort time:0.0030007362365722656\n",
      "prediction time:0.008001327514648438\n",
      "sort time:0.003000974655151367"
     ]
    },
    {
     "name": "stderr",
     "output_type": "stream",
     "text": [
      "\r",
      "  1%|▎                                                            | 1127/199549 [00:14<43:41, 75.68it/s]"
     ]
    },
    {
     "name": "stdout",
     "output_type": "stream",
     "text": [
      "\n",
      "prediction time:0.010002374649047852\n",
      "sort time:0.00400090217590332\n",
      "prediction time:0.006001710891723633\n",
      "sort time:0.0030007362365722656\n",
      "prediction time:0.0070018768310546875\n",
      "sort time:0.003000974655151367\n",
      "prediction time:0.007001638412475586\n",
      "sort time:0.003000497817993164\n",
      "prediction time:0.006001472473144531\n",
      "sort time:0.003000497817993164\n",
      "prediction time:0.006001472473144531\n",
      "sort time:0.003000497817993164\n",
      "prediction time:0.007001638412475586\n",
      "sort time:0.003000974655151367\n",
      "prediction time:0.007001638412475586\n",
      "sort time:0.003000974655151367\n",
      "prediction time:0.007001638412475586\n",
      "sort time:0.003000974655151367\n",
      "prediction time:0.007001638412475586\n",
      "sort time:0.003000497817993164\n",
      "prediction time:0.00600123405456543\n",
      "sort time:0.003000974655151367\n",
      "prediction time:0.007001638412475586\n",
      "sort time:0.003000497817993164\n",
      "prediction time:0.007001399993896484\n",
      "sort time:0.0030007362365722656\n",
      "prediction time:0.006001472473144531\n",
      "sort time:0.003000497817993164\n",
      "prediction time:0.008002042770385742\n",
      "sort time:0.003000497817993164"
     ]
    },
    {
     "name": "stderr",
     "output_type": "stream",
     "text": [
      "  1%|▎                                                            | 1144/199549 [00:15<43:12, 76.53it/s]"
     ]
    },
    {
     "name": "stdout",
     "output_type": "stream",
     "text": [
      "\n",
      "prediction time:0.007001399993896484\n",
      "sort time:0.004001140594482422\n",
      "prediction time:0.006999969482421875\n",
      "sort time:0.004001140594482422\n",
      "prediction time:0.00800180435180664\n",
      "sort time:0.0030007362365722656\n",
      "prediction time:0.00800180435180664\n",
      "sort time:0.00400090217590332\n",
      "prediction time:0.0070018768310546875\n",
      "sort time:0.0030007362365722656\n",
      "prediction time:0.007001161575317383\n",
      "sort time:0.003000974655151367\n",
      "prediction time:0.00800180435180664\n",
      "sort time:0.004001140594482422\n",
      "prediction time:0.00800180435180664\n",
      "sort time:0.00400090217590332\n",
      "prediction time:0.007001638412475586\n",
      "sort time:0.0030007362365722656\n",
      "prediction time:0.007001638412475586\n",
      "sort time:0.0030012130737304688\n",
      "prediction time:0.006001472473144531\n",
      "sort time:0.0030007362365722656\n",
      "prediction time:0.006001472473144531\n",
      "sort time:0.003000974655151367\n",
      "prediction time:0.008002042770385742\n",
      "sort time:0.003000497817993164\n",
      "prediction time:0.006000995635986328\n",
      "sort time:0.0030007362365722656\n"
     ]
    },
    {
     "name": "stderr",
     "output_type": "stream",
     "text": [
      "  1%|▎                                                            | 1160/199549 [00:15<44:26, 74.39it/s]"
     ]
    },
    {
     "name": "stdout",
     "output_type": "stream",
     "text": [
      "prediction time:0.007001638412475586\n",
      "sort time:0.004000663757324219\n",
      "prediction time:0.0070018768310546875\n",
      "sort time:0.00400090217590332\n",
      "prediction time:0.008002042770385742\n",
      "sort time:0.0029997825622558594\n",
      "prediction time:0.00800180435180664\n",
      "sort time:0.004001140594482422\n",
      "prediction time:0.009002208709716797\n",
      "sort time:0.003000497817993164\n",
      "prediction time:0.009001970291137695\n",
      "sort time:0.003000974655151367\n",
      "prediction time:0.009001970291137695\n",
      "sort time:0.0030007362365722656\n",
      "prediction time:0.007001638412475586\n",
      "sort time:0.0030002593994140625\n",
      "prediction time:0.008001089096069336\n",
      "sort time:0.0030007362365722656\n",
      "prediction time:0.008001565933227539\n",
      "sort time:0.003000497817993164\n",
      "prediction time:0.009001493453979492\n",
      "sort time:0.0040013790130615234\n",
      "prediction time:0.00800180435180664\n",
      "sort time:0.004000663757324219\n",
      "prediction time:0.006001710891723633\n",
      "sort time:0.003001689910888672\n",
      "prediction time:0.006001472473144531\n",
      "sort time:0.0030007362365722656"
     ]
    },
    {
     "name": "stderr",
     "output_type": "stream",
     "text": [
      "\r",
      "  1%|▎                                                            | 1168/199549 [00:15<45:14, 73.08it/s]"
     ]
    },
    {
     "name": "stdout",
     "output_type": "stream",
     "text": [
      "\n",
      "prediction time:0.009001731872558594\n",
      "sort time:0.0040013790130615234\n",
      "prediction time:0.007001161575317383\n",
      "sort time:0.0030007362365722656\n",
      "prediction time:0.007001399993896484\n",
      "sort time:0.004000663757324219\n",
      "prediction time:0.008002519607543945\n",
      "sort time:0.006001472473144531\n",
      "prediction time:0.009002208709716797\n",
      "sort time:0.00400090217590332\n",
      "prediction time:0.007001638412475586\n",
      "sort time:0.004000425338745117\n",
      "prediction time:0.008002042770385742\n",
      "sort time:0.00400090217590332\n",
      "prediction time:0.007001399993896484\n",
      "sort time:0.0050008296966552734\n",
      "prediction time:0.009001970291137695\n",
      "sort time:0.0050013065338134766\n",
      "prediction time:0.00800180435180664\n",
      "sort time:0.004000425338745117\n",
      "prediction time:0.008002519607543945\n",
      "sort time:0.004000186920166016\n",
      "prediction time:0.008001565933227539\n",
      "sort time:0.003000974655151367"
     ]
    },
    {
     "name": "stderr",
     "output_type": "stream",
     "text": [
      "  1%|▎                                                            | 1184/199549 [00:15<48:04, 68.78it/s]"
     ]
    },
    {
     "name": "stdout",
     "output_type": "stream",
     "text": [
      "\n",
      "prediction time:0.007001399993896484\n",
      "sort time:0.003000497817993164\n",
      "prediction time:0.007001399993896484\n",
      "sort time:0.004000425338745117\n",
      "prediction time:0.007001161575317383\n",
      "sort time:0.004000663757324219\n",
      "prediction time:0.008001565933227539\n",
      "sort time:0.004000663757324219\n",
      "prediction time:0.008001565933227539\n",
      "sort time:0.004000663757324219\n",
      "prediction time:0.008002281188964844\n",
      "sort time:0.0040013790130615234\n",
      "prediction time:0.009002208709716797\n",
      "sort time:0.006001710891723633\n",
      "prediction time:0.012001752853393555\n",
      "sort time:0.004000186920166016\n",
      "prediction time:0.008001565933227539\n",
      "sort time:0.004000186920166016\n",
      "prediction time:0.008001327514648438\n",
      "sort time:0.004000663757324219\n",
      "prediction time:0.008001089096069336\n",
      "sort time:0.004001140594482422\n",
      "prediction time:0.008001565933227539\n",
      "sort time:0.004001617431640625\n",
      "prediction time:0.007001161575317383\n"
     ]
    },
    {
     "name": "stderr",
     "output_type": "stream",
     "text": [
      "  1%|▎                                                            | 1200/199549 [00:15<47:00, 70.33it/s]"
     ]
    },
    {
     "name": "stdout",
     "output_type": "stream",
     "text": [
      "sort time:0.004001617431640625\n",
      "prediction time:0.0070018768310546875\n",
      "sort time:0.00400090217590332\n",
      "prediction time:0.007001399993896484\n",
      "sort time:0.003000497817993164\n",
      "prediction time:0.008001089096069336\n",
      "sort time:0.003000974655151367\n",
      "prediction time:0.007001638412475586\n",
      "sort time:0.003000497817993164\n",
      "prediction time:0.008001327514648438\n",
      "sort time:0.00400090217590332\n",
      "prediction time:0.008001565933227539\n",
      "sort time:0.0030007362365722656\n",
      "prediction time:0.006001710891723633\n",
      "sort time:0.003000497817993164\n",
      "prediction time:0.009002447128295898\n",
      "sort time:0.003000020980834961\n",
      "prediction time:0.0070018768310546875\n",
      "sort time:0.003000020980834961\n",
      "prediction time:0.008000850677490234\n",
      "sort time:0.004000663757324219\n",
      "prediction time:0.00800180435180664\n",
      "sort time:0.004000663757324219\n",
      "prediction time:0.009001970291137695\n",
      "sort time:0.004001140594482422\n",
      "prediction time:0.008002042770385742\n",
      "sort time:0.003000974655151367"
     ]
    },
    {
     "name": "stderr",
     "output_type": "stream",
     "text": [
      "\r",
      "  1%|▎                                                            | 1208/199549 [00:16<47:09, 70.10it/s]"
     ]
    },
    {
     "name": "stdout",
     "output_type": "stream",
     "text": [
      "\n",
      "prediction time:0.009001731872558594\n",
      "sort time:0.00400090217590332\n",
      "prediction time:0.00800180435180664\n",
      "sort time:0.0030007362365722656\n",
      "prediction time:0.00800180435180664\n",
      "sort time:0.0040018558502197266\n",
      "prediction time:0.008001327514648438\n",
      "sort time:0.0030007362365722656\n",
      "prediction time:0.0070018768310546875\n",
      "sort time:0.004000663757324219\n",
      "prediction time:0.00800180435180664\n",
      "sort time:0.0030007362365722656\n",
      "prediction time:0.009002447128295898\n",
      "sort time:0.004000663757324219\n",
      "prediction time:0.009001970291137695\n",
      "sort time:0.0030007362365722656\n",
      "prediction time:0.008002281188964844\n",
      "sort time:0.004000663757324219\n",
      "prediction time:0.007001638412475586\n",
      "sort time:0.003000497817993164\n",
      "prediction time:0.00800180435180664\n",
      "sort time:0.00400090217590332\n",
      "prediction time:0.00800180435180664\n",
      "sort time:0.004001140594482422\n",
      "prediction time:0.008001565933227539\n",
      "sort time:0.0030007362365722656\n",
      "prediction time:0.0070018768310546875\n"
     ]
    },
    {
     "name": "stderr",
     "output_type": "stream",
     "text": [
      "  1%|▎                                                            | 1224/199549 [00:16<45:40, 72.37it/s]"
     ]
    },
    {
     "name": "stdout",
     "output_type": "stream",
     "text": [
      "sort time:0.004001140594482422\n",
      "prediction time:0.008001565933227539\n",
      "sort time:0.004001140594482422\n",
      "prediction time:0.007001638412475586\n",
      "sort time:0.004000663757324219\n",
      "prediction time:0.006001710891723633\n",
      "sort time:0.0030007362365722656\n",
      "prediction time:0.007001638412475586\n",
      "sort time:0.004000663757324219\n",
      "prediction time:0.007001399993896484\n",
      "sort time:0.0030007362365722656\n",
      "prediction time:0.007001638412475586\n",
      "sort time:0.003000497817993164\n",
      "prediction time:0.00800180435180664\n",
      "sort time:0.0030007362365722656\n",
      "prediction time:0.0070018768310546875\n",
      "sort time:0.004000663757324219\n",
      "prediction time:0.008002042770385742\n",
      "sort time:0.004000663757324219\n",
      "prediction time:0.008001565933227539\n",
      "sort time:0.00400090217590332\n",
      "prediction time:0.007001638412475586\n",
      "sort time:0.0030007362365722656\n",
      "prediction time:0.007001638412475586\n",
      "sort time:0.003000974655151367\n",
      "prediction time:0.007001638412475586\n",
      "sort time:0.003000497817993164\n",
      "prediction time:0.007001638412475586\n",
      "sort time:0.003000974655151367"
     ]
    },
    {
     "name": "stderr",
     "output_type": "stream",
     "text": [
      "  1%|▍                                                            | 1240/199549 [00:16<43:42, 75.61it/s]"
     ]
    },
    {
     "name": "stdout",
     "output_type": "stream",
     "text": [
      "\n",
      "prediction time:0.009001731872558594\n",
      "sort time:0.003000497817993164\n",
      "prediction time:0.0060007572174072266\n",
      "sort time:0.003000974655151367\n",
      "prediction time:0.00800180435180664\n",
      "sort time:0.0030007362365722656\n",
      "prediction time:0.009002447128295898\n",
      "sort time:0.0030002593994140625\n",
      "prediction time:0.007002353668212891\n",
      "sort time:0.004000425338745117\n",
      "prediction time:0.007001638412475586\n",
      "sort time:0.003000497817993164\n",
      "prediction time:0.00600123405456543\n",
      "sort time:0.002000093460083008\n",
      "prediction time:0.007001638412475586\n",
      "sort time:0.003000974655151367\n",
      "prediction time:0.007001638412475586\n",
      "sort time:0.003000497817993164\n",
      "prediction time:0.007001638412475586\n",
      "sort time:0.0030007362365722656\n",
      "prediction time:0.007002115249633789\n",
      "sort time:0.0030002593994140625\n",
      "prediction time:0.00800180435180664\n",
      "sort time:0.0030007362365722656\n",
      "prediction time:0.007001638412475586\n",
      "sort time:0.003000974655151367\n",
      "prediction time:0.006001472473144531\n",
      "sort time:0.003000974655151367\n",
      "prediction time:0.008002042770385742\n"
     ]
    },
    {
     "name": "stderr",
     "output_type": "stream",
     "text": [
      "  1%|▍                                                            | 1256/199549 [00:16<44:06, 74.91it/s]"
     ]
    },
    {
     "name": "stdout",
     "output_type": "stream",
     "text": [
      "sort time:0.003000497817993164\n",
      "prediction time:0.0070018768310546875\n",
      "sort time:0.003000497817993164\n",
      "prediction time:0.007002115249633789\n",
      "sort time:0.00400090217590332\n",
      "prediction time:0.007001399993896484\n",
      "sort time:0.003000974655151367\n",
      "prediction time:0.01100301742553711\n",
      "sort time:0.00400090217590332\n",
      "prediction time:0.009002208709716797\n",
      "sort time:0.005000591278076172\n",
      "prediction time:0.009002208709716797\n",
      "sort time:0.0030007362365722656\n",
      "prediction time:0.007001638412475586\n",
      "sort time:0.003000497817993164\n",
      "prediction time:0.009002208709716797\n",
      "sort time:0.003000497817993164\n",
      "prediction time:0.007001638412475586\n",
      "sort time:0.0030007362365722656\n",
      "prediction time:0.007001399993896484\n",
      "sort time:0.0030007362365722656\n",
      "prediction time:0.0070018768310546875\n",
      "sort time:0.003000497817993164\n",
      "prediction time:0.006001472473144531\n",
      "sort time:0.004001140594482422\n",
      "prediction time:0.00800180435180664\n",
      "sort time:0.003000974655151367\n",
      "prediction time:0.007001638412475586\n",
      "sort time:0.003000974655151367"
     ]
    },
    {
     "name": "stderr",
     "output_type": "stream",
     "text": [
      "\r",
      "  1%|▍                                                            | 1264/199549 [00:16<44:15, 74.66it/s]"
     ]
    },
    {
     "name": "stdout",
     "output_type": "stream",
     "text": [
      "\n",
      "prediction time:0.008002281188964844\n",
      "sort time:0.004000663757324219\n",
      "prediction time:0.008001565933227539\n",
      "sort time:0.0030007362365722656\n",
      "prediction time:0.007001161575317383\n",
      "sort time:0.00400090217590332\n",
      "prediction time:0.00800180435180664\n",
      "sort time:0.0050008296966552734\n",
      "prediction time:0.007001399993896484\n",
      "sort time:0.00400090217590332\n",
      "prediction time:0.0070018768310546875\n",
      "sort time:0.0040013790130615234\n",
      "prediction time:0.007001638412475586\n",
      "sort time:0.003000497817993164\n",
      "prediction time:0.007001161575317383\n",
      "sort time:0.004001617431640625\n",
      "prediction time:0.007001399993896484\n",
      "sort time:0.003000497817993164\n",
      "prediction time:0.006001472473144531\n",
      "sort time:0.0030012130737304688\n",
      "prediction time:0.007001161575317383\n",
      "sort time:0.0030007362365722656\n",
      "prediction time:0.00600123405456543\n",
      "sort time:0.0030007362365722656\n",
      "prediction time:0.007001399993896484\n",
      "sort time:0.0030007362365722656\n",
      "prediction time:0.007002115249633789\n"
     ]
    },
    {
     "name": "stderr",
     "output_type": "stream",
     "text": [
      "  1%|▍                                                            | 1282/199549 [00:17<42:22, 77.98it/s]"
     ]
    },
    {
     "name": "stdout",
     "output_type": "stream",
     "text": [
      "sort time:0.003000497817993164\n",
      "prediction time:0.006000995635986328\n",
      "sort time:0.00400090217590332\n",
      "prediction time:0.007001638412475586\n",
      "sort time:0.003000497817993164\n",
      "prediction time:0.008002281188964844\n",
      "sort time:0.003000497817993164\n",
      "prediction time:0.00800180435180664\n",
      "sort time:0.0030007362365722656\n",
      "prediction time:0.007000923156738281\n",
      "sort time:0.004001140594482422\n",
      "prediction time:0.007001638412475586\n",
      "sort time:0.003000497817993164\n",
      "prediction time:0.0070018768310546875\n",
      "sort time:0.0030007362365722656\n",
      "prediction time:0.007001638412475586\n",
      "sort time:0.0030007362365722656\n",
      "prediction time:0.007001638412475586\n",
      "sort time:0.003000497817993164\n",
      "prediction time:0.00800180435180664\n",
      "sort time:0.0030002593994140625\n",
      "prediction time:0.007001638412475586\n",
      "sort time:0.0030007362365722656\n",
      "prediction time:0.007001399993896484\n",
      "sort time:0.003000497817993164\n",
      "prediction time:0.0060007572174072266\n",
      "sort time:0.00400090217590332\n",
      "prediction time:0.008002281188964844\n",
      "sort time:0.004001140594482422\n",
      "prediction time:0.007002115249633789\n",
      "sort time:0.004000425338745117"
     ]
    },
    {
     "name": "stderr",
     "output_type": "stream",
     "text": [
      "  1%|▍                                                            | 1298/199549 [00:17<44:24, 74.41it/s]"
     ]
    },
    {
     "name": "stdout",
     "output_type": "stream",
     "text": [
      "\n",
      "prediction time:0.009001970291137695\n",
      "sort time:0.00400090217590332\n",
      "prediction time:0.007001638412475586\n",
      "sort time:0.003000497817993164\n",
      "prediction time:0.009001970291137695\n",
      "sort time:0.00400090217590332\n",
      "prediction time:0.007001399993896484\n",
      "sort time:0.0030002593994140625\n",
      "prediction time:0.008001565933227539\n",
      "sort time:0.003000497817993164\n",
      "prediction time:0.007001638412475586\n",
      "sort time:0.0030002593994140625\n",
      "prediction time:0.0070018768310546875\n",
      "sort time:0.003000497817993164\n",
      "prediction time:0.009002447128295898\n",
      "sort time:0.004000425338745117\n",
      "prediction time:0.008002281188964844\n",
      "sort time:0.005000591278076172\n",
      "prediction time:0.009002685546875\n",
      "sort time:0.004000425338745117\n",
      "prediction time:0.008002042770385742\n",
      "sort time:0.006001949310302734\n",
      "prediction time:0.009001493453979492\n",
      "sort time:0.003000497817993164\n",
      "prediction time:0.00800180435180664\n",
      "sort time:0.0040013790130615234"
     ]
    },
    {
     "name": "stderr",
     "output_type": "stream",
     "text": [
      "\r",
      "  1%|▍                                                            | 1306/199549 [00:17<46:02, 71.76it/s]"
     ]
    },
    {
     "name": "stdout",
     "output_type": "stream",
     "text": [
      "\n",
      "prediction time:0.00800180435180664\n",
      "sort time:0.0040013790130615234\n",
      "prediction time:0.0070018768310546875\n",
      "sort time:0.00400090217590332\n",
      "prediction time:0.007001161575317383\n",
      "sort time:0.005002021789550781\n",
      "prediction time:0.009001970291137695\n",
      "sort time:0.004001140594482422\n",
      "prediction time:0.00800180435180664\n",
      "sort time:0.004000663757324219\n",
      "prediction time:0.009001970291137695\n",
      "sort time:0.004000663757324219\n",
      "prediction time:0.007000923156738281\n",
      "sort time:0.0030007362365722656\n",
      "prediction time:0.00800180435180664\n",
      "sort time:0.00400090217590332\n",
      "prediction time:0.008001089096069336\n",
      "sort time:0.004000663757324219\n",
      "prediction time:0.00600123405456543\n",
      "sort time:0.004000663757324219\n",
      "prediction time:0.00600123405456543\n",
      "sort time:0.003000974655151367\n",
      "prediction time:0.007001638412475586\n",
      "sort time:0.0030002593994140625\n",
      "prediction time:0.008002042770385742\n",
      "sort time:0.0030007362365722656"
     ]
    },
    {
     "name": "stderr",
     "output_type": "stream",
     "text": [
      "  1%|▍                                                            | 1322/199549 [00:17<45:54, 71.97it/s]"
     ]
    },
    {
     "name": "stdout",
     "output_type": "stream",
     "text": [
      "\n",
      "prediction time:0.007001399993896484\n",
      "sort time:0.004001140594482422\n",
      "prediction time:0.007001638412475586\n",
      "sort time:0.004000425338745117\n",
      "prediction time:0.00600123405456543\n",
      "sort time:0.00400090217590332\n",
      "prediction time:0.009002447128295898\n",
      "sort time:0.004000425338745117\n",
      "prediction time:0.00800180435180664\n",
      "sort time:0.003000497817993164\n",
      "prediction time:0.006001472473144531\n",
      "sort time:0.0030007362365722656\n",
      "prediction time:0.00900125503540039\n",
      "sort time:0.0030002593994140625\n",
      "prediction time:0.007001638412475586\n",
      "sort time:0.003000497817993164\n",
      "prediction time:0.009002208709716797\n",
      "sort time:0.004001140594482422\n",
      "prediction time:0.008001565933227539\n",
      "sort time:0.0030007362365722656\n",
      "prediction time:0.007001638412475586\n",
      "sort time:0.004001617431640625\n",
      "prediction time:0.007001399993896484\n",
      "sort time:0.004001140594482422\n",
      "prediction time:0.009002685546875\n"
     ]
    },
    {
     "name": "stderr",
     "output_type": "stream",
     "text": [
      "  1%|▍                                                            | 1337/199549 [00:17<48:19, 68.35it/s]"
     ]
    },
    {
     "name": "stdout",
     "output_type": "stream",
     "text": [
      "sort time:0.006001472473144531\n",
      "prediction time:0.00700068473815918\n",
      "sort time:0.005001544952392578\n",
      "prediction time:0.009001731872558594\n",
      "sort time:0.006001710891723633\n",
      "prediction time:0.008001327514648438\n",
      "sort time:0.0040013790130615234\n",
      "prediction time:0.008002281188964844\n",
      "sort time:0.0040013790130615234\n",
      "prediction time:0.008002281188964844\n",
      "sort time:0.004000425338745117\n",
      "prediction time:0.008002042770385742\n",
      "sort time:0.0030002593994140625\n",
      "prediction time:0.00800180435180664\n",
      "sort time:0.0030007362365722656\n",
      "prediction time:0.008002042770385742\n",
      "sort time:0.003000974655151367\n",
      "prediction time:0.007002115249633789\n",
      "sort time:0.004000425338745117\n",
      "prediction time:0.007001399993896484\n",
      "sort time:0.004001140594482422\n",
      "prediction time:0.008001565933227539\n",
      "sort time:0.0040013790130615234\n",
      "prediction time:0.007001638412475586\n"
     ]
    },
    {
     "name": "stderr",
     "output_type": "stream",
     "text": [
      "\r",
      "  1%|▍                                                            | 1344/199549 [00:17<48:48, 67.69it/s]"
     ]
    },
    {
     "name": "stdout",
     "output_type": "stream",
     "text": [
      "sort time:0.0050008296966552734\n",
      "prediction time:0.00800180435180664\n",
      "sort time:0.004000425338745117\n",
      "prediction time:0.009001493453979492\n",
      "sort time:0.004000425338745117\n",
      "prediction time:0.007001638412475586\n",
      "sort time:0.004001617431640625\n",
      "prediction time:0.0070018768310546875\n",
      "sort time:0.0040013790130615234\n",
      "prediction time:0.008002042770385742\n",
      "sort time:0.004001617431640625\n",
      "prediction time:0.007001161575317383\n",
      "sort time:0.005001068115234375\n",
      "prediction time:0.008002519607543945\n",
      "sort time:0.004000425338745117\n",
      "prediction time:0.008002042770385742\n",
      "sort time:0.0030007362365722656\n",
      "prediction time:0.008002042770385742\n",
      "sort time:0.004000425338745117\n",
      "prediction time:0.00800180435180664\n",
      "sort time:0.004000663757324219\n",
      "prediction time:0.009001970291137695\n",
      "sort time:0.0030007362365722656\n",
      "prediction time:0.007001399993896484\n",
      "sort time:0.003000497817993164\n",
      "prediction time:0.008002519607543945\n"
     ]
    },
    {
     "name": "stderr",
     "output_type": "stream",
     "text": [
      "  1%|▍                                                            | 1360/199549 [00:18<47:15, 69.89it/s]"
     ]
    },
    {
     "name": "stdout",
     "output_type": "stream",
     "text": [
      "sort time:0.004000186920166016\n",
      "prediction time:0.00700068473815918\n",
      "sort time:0.00400090217590332\n",
      "prediction time:0.009001493453979492\n",
      "sort time:0.003000497817993164\n",
      "prediction time:0.00800180435180664\n",
      "sort time:0.003000497817993164\n",
      "prediction time:0.007001399993896484\n",
      "sort time:0.003000497817993164\n",
      "prediction time:0.007001638412475586\n",
      "sort time:0.0030007362365722656\n",
      "prediction time:0.00800180435180664\n",
      "sort time:0.0030007362365722656\n",
      "prediction time:0.00800180435180664\n",
      "sort time:0.0030007362365722656\n",
      "prediction time:0.008002519607543945\n",
      "sort time:0.0030007362365722656\n",
      "prediction time:0.007001638412475586\n",
      "sort time:0.004001140594482422\n",
      "prediction time:0.007001638412475586\n",
      "sort time:0.003000497817993164\n",
      "prediction time:0.00800180435180664\n",
      "sort time:0.00400090217590332\n",
      "prediction time:0.00800180435180664\n",
      "sort time:0.004001140594482422\n",
      "prediction time:0.008002042770385742\n",
      "sort time:0.004000663757324219\n"
     ]
    },
    {
     "name": "stderr",
     "output_type": "stream",
     "text": [
      "  1%|▍                                                            | 1375/199549 [00:18<45:38, 72.37it/s]"
     ]
    },
    {
     "name": "stdout",
     "output_type": "stream",
     "text": [
      "prediction time:0.009001970291137695\n",
      "sort time:0.00400090217590332\n",
      "prediction time:0.007001161575317383\n",
      "sort time:0.003000974655151367\n",
      "prediction time:0.0070018768310546875\n",
      "sort time:0.0030007362365722656\n",
      "prediction time:0.009001731872558594\n",
      "sort time:0.003000497817993164\n",
      "prediction time:0.008001565933227539\n",
      "sort time:0.0030007362365722656\n",
      "prediction time:0.006001472473144531\n",
      "sort time:0.00400090217590332\n",
      "prediction time:0.00800180435180664\n",
      "sort time:0.003000974655151367\n",
      "prediction time:0.008001565933227539\n",
      "sort time:0.003000497817993164\n",
      "prediction time:0.008002042770385742\n",
      "sort time:0.0030007362365722656\n",
      "prediction time:0.007001638412475586\n",
      "sort time:0.0030007362365722656\n",
      "prediction time:0.008001565933227539\n",
      "sort time:0.003000497817993164\n",
      "prediction time:0.007001638412475586\n",
      "sort time:0.005001544952392578\n",
      "prediction time:0.007001161575317383\n",
      "sort time:0.00400090217590332\n",
      "prediction time:0.007001638412475586\n",
      "sort time:0.0030007362365722656\n"
     ]
    },
    {
     "name": "stderr",
     "output_type": "stream",
     "text": [
      "  1%|▍                                                            | 1392/199549 [00:18<43:27, 76.00it/s]"
     ]
    },
    {
     "name": "stdout",
     "output_type": "stream",
     "text": [
      "prediction time:0.007001638412475586\n",
      "sort time:0.0030007362365722656\n",
      "prediction time:0.007001399993896484\n",
      "sort time:0.003000497817993164\n",
      "prediction time:0.00800180435180664\n",
      "sort time:0.0030007362365722656\n",
      "prediction time:0.007001638412475586\n",
      "sort time:0.0030007362365722656\n",
      "prediction time:0.008001327514648438\n",
      "sort time:0.0030007362365722656\n",
      "prediction time:0.007001399993896484\n",
      "sort time:0.00400090217590332\n",
      "prediction time:0.00800180435180664\n",
      "sort time:0.0030007362365722656\n",
      "prediction time:0.006001710891723633\n",
      "sort time:0.004001140594482422\n",
      "prediction time:0.007001638412475586\n",
      "sort time:0.003000497817993164\n",
      "prediction time:0.00600123405456543\n",
      "sort time:0.003000497817993164\n",
      "prediction time:0.00800180435180664\n",
      "sort time:0.003000497817993164\n",
      "prediction time:0.00800180435180664\n",
      "sort time:0.003000497817993164\n",
      "prediction time:0.007001399993896484\n",
      "sort time:0.0030007362365722656\n",
      "prediction time:0.006001472473144531\n",
      "sort time:0.004000663757324219\n",
      "prediction time:0.00800180435180664\n",
      "sort time:0.003000497817993164\n",
      "prediction time:0.0070018768310546875\n"
     ]
    },
    {
     "name": "stderr",
     "output_type": "stream",
     "text": [
      "  1%|▍                                                            | 1408/199549 [00:18<43:38, 75.68it/s]"
     ]
    },
    {
     "name": "stdout",
     "output_type": "stream",
     "text": [
      "sort time:0.003000497817993164\n",
      "prediction time:0.007001399993896484\n",
      "sort time:0.004001140594482422\n",
      "prediction time:0.008002042770385742\n",
      "sort time:0.003000497817993164\n",
      "prediction time:0.007001638412475586\n",
      "sort time:0.003000497817993164\n",
      "prediction time:0.008002042770385742\n",
      "sort time:0.003000497817993164\n",
      "prediction time:0.0070018768310546875\n",
      "sort time:0.003000497817993164\n",
      "prediction time:0.009001731872558594\n",
      "sort time:0.004001140594482422\n",
      "prediction time:0.008002042770385742\n",
      "sort time:0.003000497817993164\n",
      "prediction time:0.008001565933227539\n",
      "sort time:0.0030007362365722656\n",
      "prediction time:0.006001472473144531\n",
      "sort time:0.003000497817993164\n",
      "prediction time:0.007001638412475586\n",
      "sort time:0.003000974655151367\n",
      "prediction time:0.006000995635986328\n",
      "sort time:0.004001140594482422\n",
      "prediction time:0.007001638412475586\n",
      "sort time:0.004001140594482422\n",
      "prediction time:0.00800180435180664\n",
      "sort time:0.0030012130737304688\n",
      "prediction time:0.00800180435180664\n"
     ]
    },
    {
     "name": "stderr",
     "output_type": "stream",
     "text": [
      "\r",
      "  1%|▍                                                            | 1416/199549 [00:18<44:17, 74.56it/s]"
     ]
    },
    {
     "name": "stdout",
     "output_type": "stream",
     "text": [
      "sort time:0.005000591278076172\n",
      "prediction time:0.007000923156738281\n",
      "sort time:0.005001068115234375\n",
      "prediction time:0.008002042770385742\n",
      "sort time:0.004000425338745117\n",
      "prediction time:0.009001970291137695\n",
      "sort time:0.003000497817993164\n",
      "prediction time:0.00800180435180664\n",
      "sort time:0.0030007362365722656\n",
      "prediction time:0.007001399993896484\n",
      "sort time:0.004000663757324219\n",
      "prediction time:0.006001710891723633\n",
      "sort time:0.0020003318786621094\n",
      "prediction time:0.008002042770385742\n",
      "sort time:0.00400090217590332\n",
      "prediction time:0.009001731872558594\n",
      "sort time:0.0040013790130615234\n",
      "prediction time:0.00800180435180664\n",
      "sort time:0.004001140594482422\n",
      "prediction time:0.00800180435180664\n",
      "sort time:0.004001140594482422\n",
      "prediction time:0.008002042770385742\n",
      "sort time:0.00400090217590332\n",
      "prediction time:0.00900125503540039\n",
      "sort time:0.003000497817993164\n",
      "prediction time:0.00800180435180664\n"
     ]
    },
    {
     "name": "stderr",
     "output_type": "stream",
     "text": [
      "  1%|▍                                                            | 1432/199549 [00:19<46:24, 71.16it/s]"
     ]
    },
    {
     "name": "stdout",
     "output_type": "stream",
     "text": [
      "sort time:0.005001068115234375\n",
      "prediction time:0.007001638412475586\n",
      "sort time:0.0030007362365722656\n",
      "prediction time:0.009002447128295898\n",
      "sort time:0.003999471664428711\n",
      "prediction time:0.008001565933227539\n",
      "sort time:0.00400090217590332\n",
      "prediction time:0.007001638412475586\n",
      "sort time:0.004001140594482422\n",
      "prediction time:0.007001399993896484\n",
      "sort time:0.0040013790130615234\n",
      "prediction time:0.00600123405456543\n",
      "sort time:0.003000974655151367\n",
      "prediction time:0.007001638412475586\n",
      "sort time:0.003000497817993164\n",
      "prediction time:0.00900125503540039\n",
      "sort time:0.003000974655151367\n",
      "prediction time:0.0070018768310546875\n",
      "sort time:0.003000497817993164\n",
      "prediction time:0.009001731872558594\n",
      "sort time:0.003000497817993164\n",
      "prediction time:0.007001638412475586\n",
      "sort time:0.003000497817993164\n",
      "prediction time:0.0070018768310546875\n",
      "sort time:0.0030007362365722656\n",
      "prediction time:0.007001638412475586\n"
     ]
    },
    {
     "name": "stderr",
     "output_type": "stream",
     "text": [
      "\r",
      "  1%|▍                                                            | 1440/199549 [00:19<46:06, 71.62it/s]"
     ]
    },
    {
     "name": "stdout",
     "output_type": "stream",
     "text": [
      "sort time:0.003000497817993164\n",
      "prediction time:0.007001161575317383\n",
      "sort time:0.003000974655151367\n",
      "prediction time:0.006001949310302734\n",
      "sort time:0.004000186920166016\n",
      "prediction time:0.00800180435180664\n",
      "sort time:0.00400090217590332\n",
      "prediction time:0.006000995635986328\n",
      "sort time:0.004001140594482422\n",
      "prediction time:0.006001710891723633\n",
      "sort time:0.0030007362365722656\n",
      "prediction time:0.007001399993896484\n",
      "sort time:0.0030007362365722656\n",
      "prediction time:0.006001472473144531\n",
      "sort time:0.0030007362365722656\n",
      "prediction time:0.00600123405456543\n",
      "sort time:0.0030007362365722656\n",
      "prediction time:0.00800180435180664\n",
      "sort time:0.004000663757324219\n",
      "prediction time:0.0070018768310546875\n",
      "sort time:0.004000425338745117\n",
      "prediction time:0.008001565933227539\n",
      "sort time:0.003000497817993164\n",
      "prediction time:0.009001493453979492\n",
      "sort time:0.003000497817993164\n",
      "prediction time:0.0070018768310546875\n",
      "sort time:0.0030002593994140625\n"
     ]
    },
    {
     "name": "stderr",
     "output_type": "stream",
     "text": [
      "  1%|▍                                                            | 1456/199549 [00:19<45:59, 71.78it/s]"
     ]
    },
    {
     "name": "stdout",
     "output_type": "stream",
     "text": [
      "prediction time:0.006001710891723633\n",
      "sort time:0.004000663757324219\n",
      "prediction time:0.007001161575317383\n",
      "sort time:0.0030007362365722656\n",
      "prediction time:0.007001638412475586\n",
      "sort time:0.003000497817993164\n",
      "prediction time:0.007001161575317383\n",
      "sort time:0.004001140594482422\n",
      "prediction time:0.00800180435180664\n",
      "sort time:0.0030007362365722656\n",
      "prediction time:0.008002281188964844\n",
      "sort time:0.004000425338745117\n",
      "prediction time:0.009002447128295898\n",
      "sort time:0.00400090217590332\n",
      "prediction time:0.007001638412475586\n",
      "sort time:0.003000497817993164\n",
      "prediction time:0.0070018768310546875\n",
      "sort time:0.004001140594482422\n",
      "prediction time:0.007002115249633789\n",
      "sort time:0.004000186920166016\n",
      "prediction time:0.008001565933227539\n",
      "sort time:0.0030007362365722656\n",
      "prediction time:0.008001565933227539\n",
      "sort time:0.00400090217590332\n",
      "prediction time:0.007001399993896484\n",
      "sort time:0.004000663757324219\n",
      "prediction time:0.008001565933227539\n"
     ]
    },
    {
     "name": "stderr",
     "output_type": "stream",
     "text": [
      "  1%|▍                                                            | 1472/199549 [00:19<46:06, 71.59it/s]"
     ]
    },
    {
     "name": "stdout",
     "output_type": "stream",
     "text": [
      "sort time:0.00400090217590332\n",
      "prediction time:0.00800180435180664\n",
      "sort time:0.0030012130737304688\n",
      "prediction time:0.007001638412475586\n",
      "sort time:0.0030007362365722656\n",
      "prediction time:0.007001638412475586\n",
      "sort time:0.00400090217590332\n",
      "prediction time:0.008001565933227539\n",
      "sort time:0.0040013790130615234\n",
      "prediction time:0.00800180435180664\n",
      "sort time:0.0030012130737304688\n",
      "prediction time:0.007001638412475586\n",
      "sort time:0.003000974655151367\n",
      "prediction time:0.00800180435180664\n",
      "sort time:0.0030012130737304688\n",
      "prediction time:0.007001638412475586\n",
      "sort time:0.003000974655151367\n",
      "prediction time:0.0070018768310546875\n",
      "sort time:0.003000020980834961\n",
      "prediction time:0.007002115249633789\n",
      "sort time:0.00400090217590332\n",
      "prediction time:0.0070018768310546875\n",
      "sort time:0.0030007362365722656\n",
      "prediction time:0.00800180435180664\n",
      "sort time:0.004001140594482422\n",
      "prediction time:0.009002208709716797\n",
      "sort time:0.003000974655151367"
     ]
    },
    {
     "name": "stderr",
     "output_type": "stream",
     "text": [
      "\r",
      "  1%|▍                                                            | 1480/199549 [00:19<45:53, 71.92it/s]"
     ]
    },
    {
     "name": "stdout",
     "output_type": "stream",
     "text": [
      "\n",
      "prediction time:0.009002208709716797\n",
      "sort time:0.004001140594482422\n",
      "prediction time:0.008002281188964844\n",
      "sort time:0.004000425338745117\n",
      "prediction time:0.0070018768310546875\n",
      "sort time:0.0030002593994140625\n",
      "prediction time:0.007001638412475586\n",
      "sort time:0.004000663757324219\n",
      "prediction time:0.007001399993896484\n",
      "sort time:0.003000974655151367\n",
      "prediction time:0.009001731872558594\n",
      "sort time:0.004001140594482422\n",
      "prediction time:0.008001565933227539\n",
      "sort time:0.0030014514923095703\n",
      "prediction time:0.00800180435180664\n",
      "sort time:0.004001617431640625\n",
      "prediction time:0.009001493453979492\n",
      "sort time:0.005001068115234375\n",
      "prediction time:0.008002042770385742\n",
      "sort time:0.005001068115234375\n",
      "prediction time:0.008001327514648438\n",
      "sort time:0.004000186920166016\n",
      "prediction time:0.007001638412475586\n",
      "sort time:0.004000663757324219\n",
      "prediction time:0.007001161575317383\n"
     ]
    },
    {
     "name": "stderr",
     "output_type": "stream",
     "text": [
      "  1%|▍                                                            | 1496/199549 [00:20<47:31, 69.46it/s]"
     ]
    },
    {
     "name": "stdout",
     "output_type": "stream",
     "text": [
      "sort time:0.0050013065338134766\n",
      "prediction time:0.008001327514648438\n",
      "sort time:0.0030012130737304688\n",
      "prediction time:0.009002208709716797\n",
      "sort time:0.004000663757324219\n",
      "prediction time:0.010002374649047852\n",
      "sort time:0.003000497817993164\n",
      "prediction time:0.00800180435180664\n",
      "sort time:0.003000974655151367\n",
      "prediction time:0.006000995635986328\n",
      "sort time:0.00400090217590332\n",
      "prediction time:0.008002042770385742\n",
      "sort time:0.0040013790130615234\n",
      "prediction time:0.009001970291137695\n",
      "sort time:0.0040013790130615234\n",
      "prediction time:0.00800180435180664\n",
      "sort time:0.004000663757324219\n",
      "prediction time:0.00800180435180664\n",
      "sort time:0.00400090217590332\n",
      "prediction time:0.010001897811889648\n",
      "sort time:0.00400090217590332\n",
      "prediction time:0.007001638412475586\n",
      "sort time:0.004001140594482422\n",
      "prediction time:0.0070018768310546875\n",
      "sort time:0.004000663757324219\n",
      "prediction time:0.007001638412475586\n"
     ]
    },
    {
     "name": "stderr",
     "output_type": "stream",
     "text": [
      "  1%|▍                                                            | 1511/199549 [00:20<45:47, 72.08it/s]"
     ]
    },
    {
     "name": "stdout",
     "output_type": "stream",
     "text": [
      "sort time:0.004000663757324219\n",
      "prediction time:0.007001399993896484\n",
      "sort time:0.004001140594482422\n",
      "prediction time:0.010001659393310547\n",
      "sort time:0.004001140594482422\n",
      "prediction time:0.007002353668212891\n",
      "sort time:0.003000974655151367\n",
      "prediction time:0.008002042770385742\n",
      "sort time:0.003000497817993164\n",
      "prediction time:0.008002042770385742\n",
      "sort time:0.0030007362365722656\n",
      "prediction time:0.007001638412475586\n",
      "sort time:0.0030007362365722656\n",
      "prediction time:0.007001638412475586\n",
      "sort time:0.003000497817993164\n",
      "prediction time:0.007001399993896484\n",
      "sort time:0.0030007362365722656\n",
      "prediction time:0.007001638412475586\n",
      "sort time:0.003000497817993164\n",
      "prediction time:0.0070018768310546875\n",
      "sort time:0.0030007362365722656\n",
      "prediction time:0.006001710891723633\n",
      "sort time:0.004000663757324219\n",
      "prediction time:0.008001565933227539\n",
      "sort time:0.003000497817993164\n",
      "prediction time:0.007001638412475586\n",
      "sort time:0.003000497817993164\n",
      "prediction time:0.00600123405456543\n"
     ]
    },
    {
     "name": "stderr",
     "output_type": "stream",
     "text": [
      "  1%|▍                                                            | 1528/199549 [00:20<43:17, 76.24it/s]"
     ]
    },
    {
     "name": "stdout",
     "output_type": "stream",
     "text": [
      "sort time:0.004001617431640625\n",
      "prediction time:0.008002042770385742\n",
      "sort time:0.004000425338745117\n",
      "prediction time:0.009001970291137695\n",
      "sort time:0.003000497817993164\n",
      "prediction time:0.007001161575317383\n",
      "sort time:0.0030007362365722656\n",
      "prediction time:0.007001638412475586\n",
      "sort time:0.002000570297241211\n",
      "prediction time:0.006001710891723633\n",
      "sort time:0.003000974655151367\n",
      "prediction time:0.00800180435180664\n",
      "sort time:0.003000497817993164\n",
      "prediction time:0.007001399993896484\n",
      "sort time:0.0030007362365722656\n",
      "prediction time:0.006001472473144531\n",
      "sort time:0.003000974655151367\n",
      "prediction time:0.007001399993896484\n",
      "sort time:0.0030012130737304688\n",
      "prediction time:0.007001638412475586\n",
      "sort time:0.003000497817993164\n",
      "prediction time:0.006001472473144531\n",
      "sort time:0.0030007362365722656\n",
      "prediction time:0.007000923156738281\n",
      "sort time:0.0030007362365722656\n",
      "prediction time:0.007001638412475586\n",
      "sort time:0.0030007362365722656\n",
      "prediction time:0.006001472473144531\n",
      "sort time:0.004001140594482422\n",
      "prediction time:0.007001399993896484\n"
     ]
    },
    {
     "name": "stderr",
     "output_type": "stream",
     "text": [
      "\r",
      "  1%|▍                                                            | 1536/199549 [00:20<42:48, 77.09it/s]"
     ]
    },
    {
     "name": "stdout",
     "output_type": "stream",
     "text": [
      "sort time:0.00400090217590332\n",
      "prediction time:0.00800180435180664\n",
      "sort time:0.003000497817993164\n",
      "prediction time:0.0060007572174072266\n",
      "sort time:0.0030007362365722656\n",
      "prediction time:0.007001161575317383\n",
      "sort time:0.004000425338745117\n",
      "prediction time:0.007001638412475586\n",
      "sort time:0.003000497817993164\n",
      "prediction time:0.00600123405456543\n",
      "sort time:0.0030007362365722656\n",
      "prediction time:0.0070018768310546875\n",
      "sort time:0.003000497817993164\n",
      "prediction time:0.009001731872558594\n",
      "sort time:0.004000663757324219\n",
      "prediction time:0.00600123405456543\n",
      "sort time:0.0030007362365722656\n",
      "prediction time:0.007001638412475586\n",
      "sort time:0.0030007362365722656\n",
      "prediction time:0.00800180435180664\n",
      "sort time:0.003000974655151367\n",
      "prediction time:0.006001472473144531\n",
      "sort time:0.004000663757324219\n",
      "prediction time:0.007000923156738281\n",
      "sort time:0.004001140594482422\n",
      "prediction time:0.007001399993896484\n",
      "sort time:0.004001140594482422\n",
      "prediction time:0.007000923156738281\n",
      "sort time:0.003000497817993164"
     ]
    },
    {
     "name": "stderr",
     "output_type": "stream",
     "text": [
      "  1%|▍                                                            | 1552/199549 [00:20<45:05, 73.18it/s]"
     ]
    },
    {
     "name": "stdout",
     "output_type": "stream",
     "text": [
      "\n",
      "prediction time:0.007001161575317383\n",
      "sort time:0.004001140594482422\n",
      "prediction time:0.010001897811889648\n",
      "sort time:0.004001140594482422\n",
      "prediction time:0.00800180435180664\n",
      "sort time:0.0030007362365722656\n",
      "prediction time:0.008002042770385742\n",
      "sort time:0.004000663757324219\n",
      "prediction time:0.008002042770385742\n",
      "sort time:0.003000497817993164\n",
      "prediction time:0.0070018768310546875\n",
      "sort time:0.00400090217590332\n",
      "prediction time:0.009001731872558594\n",
      "sort time:0.00400090217590332\n",
      "prediction time:0.008001565933227539\n",
      "sort time:0.004000663757324219\n",
      "prediction time:0.00800180435180664\n",
      "sort time:0.003000974655151367\n",
      "prediction time:0.007001638412475586\n",
      "sort time:0.003000974655151367\n",
      "prediction time:0.007001638412475586\n",
      "sort time:0.00400090217590332\n",
      "prediction time:0.01000213623046875\n",
      "sort time:0.0030007362365722656\n",
      "prediction time:0.00800180435180664\n",
      "sort time:0.0030007362365722656"
     ]
    },
    {
     "name": "stderr",
     "output_type": "stream",
     "text": [
      "  1%|▍                                                            | 1568/199549 [00:21<47:22, 69.66it/s]"
     ]
    },
    {
     "name": "stdout",
     "output_type": "stream",
     "text": [
      "\n",
      "prediction time:0.009002923965454102\n",
      "sort time:0.004000186920166016\n",
      "prediction time:0.008001565933227539\n",
      "sort time:0.00400090217590332\n",
      "prediction time:0.0070018768310546875\n",
      "sort time:0.0030002593994140625\n",
      "prediction time:0.00800180435180664\n",
      "sort time:0.00400090217590332\n",
      "prediction time:0.007001638412475586\n",
      "sort time:0.004001140594482422\n",
      "prediction time:0.007001638412475586\n",
      "sort time:0.0040013790130615234\n",
      "prediction time:0.00800180435180664\n",
      "sort time:0.005001068115234375\n",
      "prediction time:0.008001565933227539\n",
      "sort time:0.005002021789550781\n",
      "prediction time:0.008002042770385742\n",
      "sort time:0.004002094268798828\n",
      "prediction time:0.008002042770385742\n",
      "sort time:0.004000663757324219\n",
      "prediction time:0.008001565933227539\n",
      "sort time:0.0040013790130615234\n",
      "prediction time:0.007001638412475586\n",
      "sort time:0.00400090217590332\n",
      "prediction time:0.007001638412475586\n"
     ]
    },
    {
     "name": "stderr",
     "output_type": "stream",
     "text": [
      "\r",
      "  1%|▍                                                            | 1575/199549 [00:21<47:56, 68.81it/s]"
     ]
    },
    {
     "name": "stdout",
     "output_type": "stream",
     "text": [
      "sort time:0.004000663757324219\n",
      "prediction time:0.008002042770385742\n",
      "sort time:0.0030002593994140625\n",
      "prediction time:0.008002281188964844\n",
      "sort time:0.004001140594482422\n",
      "prediction time:0.008002042770385742\n",
      "sort time:0.004001140594482422\n",
      "prediction time:0.010002374649047852\n",
      "sort time:0.004001140594482422\n",
      "prediction time:0.009001970291137695\n",
      "sort time:0.00400090217590332\n",
      "prediction time:0.010001897811889648\n",
      "sort time:0.004001140594482422\n",
      "prediction time:0.007001399993896484\n",
      "sort time:0.00400090217590332\n",
      "prediction time:0.009002923965454102\n",
      "sort time:0.004000425338745117\n",
      "prediction time:0.009001970291137695\n",
      "sort time:0.004001140594482422\n",
      "prediction time:0.00800180435180664\n",
      "sort time:0.00400090217590332\n",
      "prediction time:0.008001565933227539\n",
      "sort time:0.0050008296966552734\n",
      "prediction time:0.007001399993896484\n"
     ]
    },
    {
     "name": "stderr",
     "output_type": "stream",
     "text": [
      "  1%|▍                                                            | 1590/199549 [00:21<47:27, 69.53it/s]"
     ]
    },
    {
     "name": "stdout",
     "output_type": "stream",
     "text": [
      "sort time:0.004000663757324219\n",
      "prediction time:0.007001399993896484\n",
      "sort time:0.0030007362365722656\n",
      "prediction time:0.008001565933227539\n",
      "sort time:0.0040013790130615234\n",
      "prediction time:0.00800180435180664\n",
      "sort time:0.00400090217590332\n",
      "prediction time:0.007001638412475586\n",
      "sort time:0.0030007362365722656\n",
      "prediction time:0.006001472473144531\n",
      "sort time:0.004000663757324219\n",
      "prediction time:0.00800180435180664\n",
      "sort time:0.00400090217590332\n",
      "prediction time:0.007001638412475586\n",
      "sort time:0.0030007362365722656\n",
      "prediction time:0.007000923156738281\n",
      "sort time:0.0030007362365722656\n",
      "prediction time:0.007001161575317383\n",
      "sort time:0.0040013790130615234\n",
      "prediction time:0.008001565933227539\n",
      "sort time:0.004001140594482422\n",
      "prediction time:0.007001399993896484\n",
      "sort time:0.004000663757324219\n",
      "prediction time:0.007001161575317383\n",
      "sort time:0.00400090217590332\n",
      "prediction time:0.006001710891723633\n",
      "sort time:0.0030002593994140625\n",
      "prediction time:0.006001472473144531\n"
     ]
    },
    {
     "name": "stderr",
     "output_type": "stream",
     "text": [
      "  1%|▍                                                            | 1606/199549 [00:21<45:00, 73.31it/s]"
     ]
    },
    {
     "name": "stdout",
     "output_type": "stream",
     "text": [
      "sort time:0.004000663757324219\n",
      "prediction time:0.008002042770385742\n",
      "sort time:0.004000663757324219\n",
      "prediction time:0.007001399993896484\n",
      "sort time:0.00400090217590332\n",
      "prediction time:0.009001731872558594\n",
      "sort time:0.004001140594482422\n",
      "prediction time:0.008002042770385742\n",
      "sort time:0.003000497817993164\n",
      "prediction time:0.007001399993896484\n",
      "sort time:0.0030007362365722656\n",
      "prediction time:0.00800180435180664\n",
      "sort time:0.003000497817993164\n",
      "prediction time:0.007001638412475586\n",
      "sort time:0.003000497817993164\n",
      "prediction time:0.006001472473144531\n",
      "sort time:0.003000497817993164\n",
      "prediction time:0.007001638412475586\n",
      "sort time:0.0030007362365722656\n",
      "prediction time:0.007001399993896484\n",
      "sort time:0.0030007362365722656\n",
      "prediction time:0.006001472473144531\n",
      "sort time:0.004001140594482422\n",
      "prediction time:0.008002042770385742\n",
      "sort time:0.003000497817993164\n",
      "prediction time:0.00800180435180664\n",
      "sort time:0.0030007362365722656\n",
      "prediction time:0.007001399993896484\n"
     ]
    },
    {
     "name": "stderr",
     "output_type": "stream",
     "text": [
      "  1%|▍                                                            | 1622/199549 [00:21<43:39, 75.55it/s]"
     ]
    },
    {
     "name": "stdout",
     "output_type": "stream",
     "text": [
      "sort time:0.003000497817993164\n",
      "prediction time:0.008002042770385742\n",
      "sort time:0.004000663757324219\n",
      "prediction time:0.007001638412475586\n",
      "sort time:0.0030007362365722656\n",
      "prediction time:0.008002042770385742\n",
      "sort time:0.003000497817993164\n",
      "prediction time:0.007001638412475586\n",
      "sort time:0.0030007362365722656\n",
      "prediction time:0.008002042770385742\n",
      "sort time:0.004000425338745117\n",
      "prediction time:0.008001327514648438\n",
      "sort time:0.003000974655151367\n",
      "prediction time:0.008001565933227539\n",
      "sort time:0.003000497817993164\n",
      "prediction time:0.0070018768310546875\n",
      "sort time:0.003000497817993164\n",
      "prediction time:0.008002042770385742\n",
      "sort time:0.003000497817993164\n",
      "prediction time:0.00600123405456543\n",
      "sort time:0.0030007362365722656\n",
      "prediction time:0.0070018768310546875\n",
      "sort time:0.003000497817993164\n",
      "prediction time:0.007001638412475586\n",
      "sort time:0.0030007362365722656\n",
      "prediction time:0.006001472473144531\n",
      "sort time:0.003000974655151367\n",
      "prediction time:0.006001472473144531\n",
      "sort time:0.003000497817993164\n",
      "prediction time:0.009001970291137695\n"
     ]
    },
    {
     "name": "stderr",
     "output_type": "stream",
     "text": [
      "\r",
      "  1%|▍                                                            | 1630/199549 [00:21<43:33, 75.74it/s]"
     ]
    },
    {
     "name": "stdout",
     "output_type": "stream",
     "text": [
      "sort time:0.00400090217590332\n",
      "prediction time:0.00800180435180664\n",
      "sort time:0.004000663757324219\n",
      "prediction time:0.007001638412475586\n",
      "sort time:0.004001617431640625\n",
      "prediction time:0.007001638412475586\n",
      "sort time:0.003000497817993164\n",
      "prediction time:0.008002042770385742\n",
      "sort time:0.0030007362365722656\n",
      "prediction time:0.007001638412475586\n",
      "sort time:0.003000497817993164\n",
      "prediction time:0.00800180435180664\n",
      "sort time:0.00400090217590332\n",
      "prediction time:0.007001638412475586\n",
      "sort time:0.003000497817993164\n",
      "prediction time:0.007001638412475586\n",
      "sort time:0.004001140594482422\n",
      "prediction time:0.0070018768310546875\n",
      "sort time:0.0030002593994140625\n",
      "prediction time:0.007001161575317383\n",
      "sort time:0.0030007362365722656\n",
      "prediction time:0.008001327514648438\n",
      "sort time:0.0030007362365722656\n",
      "prediction time:0.006001472473144531\n",
      "sort time:0.003000497817993164\n",
      "prediction time:0.009002208709716797\n",
      "sort time:0.003000497817993164\n",
      "prediction time:0.007002115249633789\n",
      "sort time:0.003000497817993164\n"
     ]
    },
    {
     "name": "stderr",
     "output_type": "stream",
     "text": [
      "  1%|▌                                                            | 1647/199549 [00:22<44:06, 74.78it/s]"
     ]
    },
    {
     "name": "stdout",
     "output_type": "stream",
     "text": [
      "prediction time:0.009001970291137695\n",
      "sort time:0.004000663757324219\n",
      "prediction time:0.007001638412475586\n",
      "sort time:0.004000663757324219\n",
      "prediction time:0.007001638412475586\n",
      "sort time:0.0030014514923095703\n",
      "prediction time:0.007001399993896484\n",
      "sort time:0.00400090217590332\n",
      "prediction time:0.007001638412475586\n",
      "sort time:0.00400090217590332\n",
      "prediction time:0.009002208709716797\n",
      "sort time:0.00400090217590332\n",
      "prediction time:0.007001638412475586\n",
      "sort time:0.004000663757324219\n",
      "prediction time:0.0070018768310546875\n",
      "sort time:0.004000425338745117\n",
      "prediction time:0.008001565933227539\n",
      "sort time:0.0030012130737304688\n",
      "prediction time:0.00800180435180664\n",
      "sort time:0.0030007362365722656\n",
      "prediction time:0.0070018768310546875\n",
      "sort time:0.003000497817993164\n",
      "prediction time:0.006001472473144531\n",
      "sort time:0.0020003318786621094\n",
      "prediction time:0.008002042770385742\n",
      "sort time:0.003000497817993164\n",
      "prediction time:0.0070018768310546875\n",
      "sort time:0.004001140594482422"
     ]
    },
    {
     "name": "stderr",
     "output_type": "stream",
     "text": [
      "  1%|▌                                                            | 1663/199549 [00:22<46:30, 70.93it/s]"
     ]
    },
    {
     "name": "stdout",
     "output_type": "stream",
     "text": [
      "\n",
      "prediction time:0.008002042770385742\n",
      "sort time:0.00400090217590332\n",
      "prediction time:0.008001565933227539\n",
      "sort time:0.004001140594482422\n",
      "prediction time:0.008001565933227539\n",
      "sort time:0.00400090217590332\n",
      "prediction time:0.009001731872558594\n",
      "sort time:0.004000663757324219\n",
      "prediction time:0.007001638412475586\n",
      "sort time:0.0030002593994140625\n",
      "prediction time:0.007001399993896484\n",
      "sort time:0.0040013790130615234\n",
      "prediction time:0.00800180435180664\n",
      "sort time:0.004001140594482422\n",
      "prediction time:0.007002115249633789\n",
      "sort time:0.004001140594482422\n",
      "prediction time:0.008002281188964844\n",
      "sort time:0.004001140594482422\n",
      "prediction time:0.008001565933227539\n",
      "sort time:0.004000425338745117\n",
      "prediction time:0.008001565933227539\n",
      "sort time:0.005002021789550781\n",
      "prediction time:0.008000850677490234\n"
     ]
    },
    {
     "name": "stderr",
     "output_type": "stream",
     "text": [
      "\r",
      "  1%|▌                                                            | 1671/199549 [00:22<47:08, 69.96it/s]"
     ]
    },
    {
     "name": "stdout",
     "output_type": "stream",
     "text": [
      "sort time:0.00400090217590332\n",
      "prediction time:0.009002447128295898\n",
      "sort time:0.0030002593994140625\n",
      "prediction time:0.009001731872558594\n",
      "sort time:0.00400090217590332\n",
      "prediction time:0.008002281188964844\n",
      "sort time:0.004000663757324219\n",
      "prediction time:0.007001638412475586\n",
      "sort time:0.003000497817993164\n",
      "prediction time:0.007001638412475586\n",
      "sort time:0.00400090217590332\n",
      "prediction time:0.007001638412475586\n",
      "sort time:0.003000497817993164\n",
      "prediction time:0.007001399993896484\n",
      "sort time:0.0040013790130615234\n",
      "prediction time:0.007001399993896484\n",
      "sort time:0.003000974655151367\n",
      "prediction time:0.006001472473144531\n",
      "sort time:0.004001140594482422\n",
      "prediction time:0.007001161575317383\n",
      "sort time:0.0030007362365722656\n",
      "prediction time:0.008001089096069336\n",
      "sort time:0.0040013790130615234\n",
      "prediction time:0.007001638412475586\n",
      "sort time:0.003000497817993164\n",
      "prediction time:0.007001399993896484\n",
      "sort time:0.0030007362365722656"
     ]
    },
    {
     "name": "stderr",
     "output_type": "stream",
     "text": [
      "  1%|▌                                                            | 1687/199549 [00:22<47:18, 69.70it/s]"
     ]
    },
    {
     "name": "stdout",
     "output_type": "stream",
     "text": [
      "\n",
      "prediction time:0.009001970291137695\n",
      "sort time:0.004001140594482422\n",
      "prediction time:0.008002042770385742\n",
      "sort time:0.004000663757324219\n",
      "prediction time:0.008001565933227539\n",
      "sort time:0.00400090217590332\n",
      "prediction time:0.00800180435180664\n",
      "sort time:0.003000497817993164\n",
      "prediction time:0.007001399993896484\n",
      "sort time:0.003000497817993164\n",
      "prediction time:0.008001565933227539\n",
      "sort time:0.003000497817993164\n",
      "prediction time:0.008001565933227539\n",
      "sort time:0.003000497817993164\n",
      "prediction time:0.008001565933227539\n",
      "sort time:0.0030007362365722656\n",
      "prediction time:0.008001565933227539\n",
      "sort time:0.00400090217590332\n",
      "prediction time:0.007001638412475586\n",
      "sort time:0.004001617431640625\n",
      "prediction time:0.0070018768310546875\n",
      "sort time:0.0030002593994140625\n",
      "prediction time:0.009002208709716797\n",
      "sort time:0.0030007362365722656\n",
      "prediction time:0.007001638412475586\n"
     ]
    },
    {
     "name": "stderr",
     "output_type": "stream",
     "text": [
      "  1%|▌                                                            | 1703/199549 [00:22<46:21, 71.12it/s]"
     ]
    },
    {
     "name": "stdout",
     "output_type": "stream",
     "text": [
      "sort time:0.00400090217590332\n",
      "prediction time:0.0070018768310546875\n",
      "sort time:0.003000974655151367\n",
      "prediction time:0.008000373840332031\n",
      "sort time:0.0030007362365722656\n",
      "prediction time:0.0070018768310546875\n",
      "sort time:0.004000663757324219\n",
      "prediction time:0.0070018768310546875\n",
      "sort time:0.004000663757324219\n",
      "prediction time:0.008002042770385742\n",
      "sort time:0.00400090217590332\n",
      "prediction time:0.009002208709716797\n",
      "sort time:0.00400090217590332\n",
      "prediction time:0.0070018768310546875\n",
      "sort time:0.003000497817993164\n",
      "prediction time:0.00800180435180664\n",
      "sort time:0.0030007362365722656\n",
      "prediction time:0.007001638412475586\n",
      "sort time:0.004001140594482422\n",
      "prediction time:0.00600123405456543\n",
      "sort time:0.004001140594482422\n",
      "prediction time:0.008002281188964844\n",
      "sort time:0.0030002593994140625\n",
      "prediction time:0.007002115249633789\n",
      "sort time:0.0030002593994140625\n",
      "prediction time:0.008002042770385742\n",
      "sort time:0.004000663757324219\n",
      "prediction time:0.00800180435180664\n"
     ]
    },
    {
     "name": "stderr",
     "output_type": "stream",
     "text": [
      "\r",
      "  1%|▌                                                            | 1711/199549 [00:23<45:33, 72.37it/s]"
     ]
    },
    {
     "name": "stdout",
     "output_type": "stream",
     "text": [
      "sort time:0.0030007362365722656\n",
      "prediction time:0.007001638412475586\n",
      "sort time:0.003000497817993164\n",
      "prediction time:0.00800180435180664\n",
      "sort time:0.003000974655151367\n",
      "prediction time:0.00800180435180664\n",
      "sort time:0.003000497817993164\n",
      "prediction time:0.007001638412475586\n",
      "sort time:0.0030007362365722656\n",
      "prediction time:0.007001638412475586\n",
      "sort time:0.004000663757324219\n",
      "prediction time:0.007002115249633789\n",
      "sort time:0.004000663757324219\n",
      "prediction time:0.008001327514648438\n",
      "sort time:0.0040013790130615234\n",
      "prediction time:0.007001638412475586\n",
      "sort time:0.003000497817993164\n",
      "prediction time:0.007001638412475586\n",
      "sort time:0.003000974655151367\n",
      "prediction time:0.007001638412475586\n",
      "sort time:0.003000497817993164\n",
      "prediction time:0.008001565933227539\n",
      "sort time:0.003000974655151367\n",
      "prediction time:0.006001949310302734\n",
      "sort time:0.003000020980834961\n",
      "prediction time:0.007001638412475586\n",
      "sort time:0.0030007362365722656\n",
      "prediction time:0.008002281188964844\n"
     ]
    },
    {
     "name": "stderr",
     "output_type": "stream",
     "text": [
      "  1%|▌                                                            | 1727/199549 [00:23<45:13, 72.90it/s]"
     ]
    },
    {
     "name": "stdout",
     "output_type": "stream",
     "text": [
      "sort time:0.004001140594482422\n",
      "prediction time:0.008002042770385742\n",
      "sort time:0.005001068115234375\n",
      "prediction time:0.008001089096069336\n",
      "sort time:0.0030002593994140625\n",
      "prediction time:0.008000850677490234\n",
      "sort time:0.004001140594482422\n",
      "prediction time:0.006001472473144531\n",
      "sort time:0.004000663757324219\n",
      "prediction time:0.007001638412475586\n",
      "sort time:0.004000663757324219\n",
      "prediction time:0.008002042770385742\n",
      "sort time:0.0030007362365722656\n",
      "prediction time:0.00800180435180664\n",
      "sort time:0.0030007362365722656\n",
      "prediction time:0.007001638412475586\n",
      "sort time:0.0030007362365722656\n",
      "prediction time:0.00800180435180664\n",
      "sort time:0.003000497817993164\n",
      "prediction time:0.008001327514648438\n",
      "sort time:0.004001140594482422\n",
      "prediction time:0.0070018768310546875\n",
      "sort time:0.0040013790130615234\n",
      "prediction time:0.008002042770385742\n",
      "sort time:0.004000425338745117\n",
      "prediction time:0.00600123405456543\n",
      "sort time:0.004001140594482422\n",
      "prediction time:0.007001161575317383\n"
     ]
    },
    {
     "name": "stderr",
     "output_type": "stream",
     "text": [
      "  1%|▌                                                            | 1743/199549 [00:23<45:34, 72.33it/s]"
     ]
    },
    {
     "name": "stdout",
     "output_type": "stream",
     "text": [
      "sort time:0.004001140594482422\n",
      "prediction time:0.00800180435180664\n",
      "sort time:0.00400090217590332\n",
      "prediction time:0.0070018768310546875\n",
      "sort time:0.0030002593994140625\n",
      "prediction time:0.007002115249633789\n",
      "sort time:0.00400090217590332\n",
      "prediction time:0.009002447128295898\n",
      "sort time:0.003000497817993164\n",
      "prediction time:0.008001565933227539\n",
      "sort time:0.003000497817993164\n",
      "prediction time:0.0070018768310546875\n",
      "sort time:0.003000497817993164\n",
      "prediction time:0.007001161575317383\n",
      "sort time:0.00400090217590332\n",
      "prediction time:0.007001638412475586\n",
      "sort time:0.003000497817993164\n",
      "prediction time:0.006000995635986328\n",
      "sort time:0.003000974655151367\n",
      "prediction time:0.007001638412475586\n",
      "sort time:0.004000663757324219\n",
      "prediction time:0.007001399993896484\n",
      "sort time:0.00400090217590332\n",
      "prediction time:0.008002042770385742\n",
      "sort time:0.003000497817993164\n",
      "prediction time:0.007001399993896484\n",
      "sort time:0.0030012130737304688"
     ]
    },
    {
     "name": "stderr",
     "output_type": "stream",
     "text": [
      "\r",
      "  1%|▌                                                            | 1751/199549 [00:23<45:30, 72.44it/s]"
     ]
    },
    {
     "name": "stdout",
     "output_type": "stream",
     "text": [
      "\n",
      "prediction time:0.007001638412475586\n",
      "sort time:0.003000974655151367\n",
      "prediction time:0.008002519607543945\n",
      "sort time:0.003999948501586914\n",
      "prediction time:0.00800180435180664\n",
      "sort time:0.00400090217590332\n",
      "prediction time:0.007001161575317383\n",
      "sort time:0.003000974655151367\n",
      "prediction time:0.007001638412475586\n",
      "sort time:0.004000663757324219\n",
      "prediction time:0.007001638412475586\n",
      "sort time:0.004000663757324219\n",
      "prediction time:0.008002042770385742\n",
      "sort time:0.00400090217590332\n",
      "prediction time:0.009001731872558594\n",
      "sort time:0.004001140594482422\n",
      "prediction time:0.008001565933227539\n",
      "sort time:0.0030007362365722656\n",
      "prediction time:0.00600123405456543\n",
      "sort time:0.003000497817993164\n",
      "prediction time:0.007001399993896484\n",
      "sort time:0.00400090217590332\n",
      "prediction time:0.008001565933227539\n",
      "sort time:0.0030007362365722656\n",
      "prediction time:0.008001327514648438\n",
      "sort time:0.0030007362365722656"
     ]
    },
    {
     "name": "stderr",
     "output_type": "stream",
     "text": [
      "  1%|▌                                                            | 1767/199549 [00:23<45:30, 72.42it/s]"
     ]
    },
    {
     "name": "stdout",
     "output_type": "stream",
     "text": [
      "\n",
      "prediction time:0.00800180435180664\n",
      "sort time:0.00400090217590332\n",
      "prediction time:0.0070018768310546875\n",
      "sort time:0.004000663757324219\n",
      "prediction time:0.0070018768310546875\n",
      "sort time:0.0030007362365722656\n",
      "prediction time:0.008001565933227539\n",
      "sort time:0.003000974655151367\n",
      "prediction time:0.00600123405456543\n",
      "sort time:0.0030007362365722656\n",
      "prediction time:0.007001399993896484\n",
      "sort time:0.00400090217590332\n",
      "prediction time:0.0070018768310546875\n",
      "sort time:0.0030002593994140625\n",
      "prediction time:0.007001399993896484\n",
      "sort time:0.003000974655151367\n",
      "prediction time:0.006001472473144531\n",
      "sort time:0.0030007362365722656\n",
      "prediction time:0.00600123405456543\n",
      "sort time:0.003000974655151367\n",
      "prediction time:0.007001638412475586\n",
      "sort time:0.003000497817993164\n",
      "prediction time:0.007001399993896484\n",
      "sort time:0.00400090217590332\n",
      "prediction time:0.007001638412475586\n",
      "sort time:0.003000497817993164\n",
      "prediction time:0.007001399993896484\n",
      "sort time:0.00400090217590332\n",
      "prediction time:0.007001638412475586\n"
     ]
    },
    {
     "name": "stderr",
     "output_type": "stream",
     "text": [
      "  1%|▌                                                            | 1783/199549 [00:23<43:59, 74.93it/s]"
     ]
    },
    {
     "name": "stdout",
     "output_type": "stream",
     "text": [
      "sort time:0.0030007362365722656\n",
      "prediction time:0.007001638412475586\n",
      "sort time:0.004001140594482422\n",
      "prediction time:0.009001970291137695\n",
      "sort time:0.0030012130737304688\n",
      "prediction time:0.007001638412475586\n",
      "sort time:0.00400090217590332\n",
      "prediction time:0.00800180435180664\n",
      "sort time:0.0030007362365722656\n",
      "prediction time:0.007001638412475586\n",
      "sort time:0.004001140594482422\n",
      "prediction time:0.007001638412475586\n",
      "sort time:0.0030007362365722656\n",
      "prediction time:0.00800180435180664\n",
      "sort time:0.003000497817993164\n",
      "prediction time:0.00800180435180664\n",
      "sort time:0.003000497817993164\n",
      "prediction time:0.00600123405456543\n",
      "sort time:0.0030007362365722656\n",
      "prediction time:0.008002281188964844\n",
      "sort time:0.0030002593994140625\n",
      "prediction time:0.00800180435180664\n",
      "sort time:0.0030012130737304688\n",
      "prediction time:0.006001472473144531\n",
      "sort time:0.003000497817993164\n",
      "prediction time:0.007001638412475586\n",
      "sort time:0.0030007362365722656\n",
      "prediction time:0.007001638412475586\n",
      "sort time:0.0030007362365722656"
     ]
    },
    {
     "name": "stderr",
     "output_type": "stream",
     "text": [
      "  1%|▌                                                            | 1799/199549 [00:24<45:21, 72.66it/s]"
     ]
    },
    {
     "name": "stdout",
     "output_type": "stream",
     "text": [
      "\n",
      "prediction time:0.00800180435180664\n",
      "sort time:0.00800180435180664\n",
      "prediction time:0.007000923156738281\n",
      "sort time:0.0030007362365722656\n",
      "prediction time:0.007001638412475586\n",
      "sort time:0.003000497817993164\n",
      "prediction time:0.009001970291137695\n",
      "sort time:0.0030007362365722656\n",
      "prediction time:0.00800180435180664\n",
      "sort time:0.0030007362365722656\n",
      "prediction time:0.0070018768310546875\n",
      "sort time:0.0030002593994140625\n",
      "prediction time:0.007001399993896484\n",
      "sort time:0.0030007362365722656\n",
      "prediction time:0.009002208709716797\n",
      "sort time:0.004000663757324219\n",
      "prediction time:0.007001399993896484\n",
      "sort time:0.00400090217590332\n",
      "prediction time:0.009001493453979492\n",
      "sort time:0.0040013790130615234\n",
      "prediction time:0.008001565933227539\n",
      "sort time:0.004001140594482422\n",
      "prediction time:0.00800180435180664\n",
      "sort time:0.0050008296966552734\n",
      "prediction time:0.009001731872558594\n"
     ]
    },
    {
     "name": "stderr",
     "output_type": "stream",
     "text": [
      "\r",
      "  1%|▌                                                            | 1807/199549 [00:24<47:27, 69.46it/s]"
     ]
    },
    {
     "name": "stdout",
     "output_type": "stream",
     "text": [
      "sort time:0.005001544952392578\n",
      "prediction time:0.01000213623046875\n",
      "sort time:0.004000425338745117\n",
      "prediction time:0.007001638412475586\n",
      "sort time:0.006001472473144531\n",
      "prediction time:0.008001327514648438\n",
      "sort time:0.0040013790130615234\n",
      "prediction time:0.00800180435180664\n",
      "sort time:0.004001140594482422\n",
      "prediction time:0.008002042770385742\n",
      "sort time:0.003000497817993164\n",
      "prediction time:0.008002042770385742\n",
      "sort time:0.00400090217590332\n",
      "prediction time:0.009002208709716797\n",
      "sort time:0.004000663757324219\n",
      "prediction time:0.007001399993896484\n",
      "sort time:0.004000663757324219\n",
      "prediction time:0.007001638412475586\n",
      "sort time:0.004001140594482422\n",
      "prediction time:0.007001399993896484\n",
      "sort time:0.00400090217590332\n",
      "prediction time:0.0070018768310546875\n",
      "sort time:0.004000663757324219\n",
      "prediction time:0.008001089096069336\n",
      "sort time:0.004001140594482422"
     ]
    },
    {
     "name": "stderr",
     "output_type": "stream",
     "text": [
      "  1%|▌                                                            | 1821/199549 [00:24<49:03, 67.17it/s]"
     ]
    },
    {
     "name": "stdout",
     "output_type": "stream",
     "text": [
      "\n",
      "prediction time:0.007001161575317383\n",
      "sort time:0.00400090217590332\n",
      "prediction time:0.008002042770385742\n",
      "sort time:0.004000663757324219\n",
      "prediction time:0.009002208709716797\n",
      "sort time:0.0050013065338134766\n",
      "prediction time:0.007001399993896484\n",
      "sort time:0.004001140594482422\n",
      "prediction time:0.007001161575317383\n",
      "sort time:0.004001140594482422\n",
      "prediction time:0.007001638412475586\n",
      "sort time:0.004001140594482422\n",
      "prediction time:0.008002042770385742\n",
      "sort time:0.004001617431640625\n",
      "prediction time:0.00800180435180664\n",
      "sort time:0.0029997825622558594\n",
      "prediction time:0.011001825332641602\n",
      "sort time:0.00400090217590332\n",
      "prediction time:0.009002447128295898\n",
      "sort time:0.0030002593994140625\n",
      "prediction time:0.009002208709716797\n",
      "sort time:0.00400090217590332\n",
      "prediction time:0.007001161575317383\n"
     ]
    },
    {
     "name": "stderr",
     "output_type": "stream",
     "text": [
      "  1%|▌                                                            | 1835/199549 [00:24<50:00, 65.89it/s]"
     ]
    },
    {
     "name": "stdout",
     "output_type": "stream",
     "text": [
      "sort time:0.003000974655151367\n",
      "prediction time:0.009001731872558594\n",
      "sort time:0.004000663757324219\n",
      "prediction time:0.009002208709716797\n",
      "sort time:0.004000663757324219\n",
      "prediction time:0.008002281188964844\n",
      "sort time:0.003000497817993164\n",
      "prediction time:0.008001565933227539\n",
      "sort time:0.003000974655151367\n",
      "prediction time:0.008001565933227539\n",
      "sort time:0.004001140594482422\n",
      "prediction time:0.00800180435180664\n",
      "sort time:0.004001140594482422\n",
      "prediction time:0.009002447128295898\n",
      "sort time:0.0030002593994140625\n",
      "prediction time:0.00900125503540039\n",
      "sort time:0.003000497817993164\n",
      "prediction time:0.007001399993896484\n",
      "sort time:0.00400090217590332\n",
      "prediction time:0.007001638412475586\n",
      "sort time:0.003000497817993164\n",
      "prediction time:0.009001970291137695\n",
      "sort time:0.0040013790130615234\n",
      "prediction time:0.00800180435180664\n",
      "sort time:0.0030007362365722656"
     ]
    },
    {
     "name": "stderr",
     "output_type": "stream",
     "text": [
      "  1%|▌                                                            | 1849/199549 [00:24<49:37, 66.40it/s]"
     ]
    },
    {
     "name": "stdout",
     "output_type": "stream",
     "text": [
      "\n",
      "prediction time:0.010002613067626953\n",
      "sort time:0.004000425338745117\n",
      "prediction time:0.008001565933227539\n",
      "sort time:0.004001140594482422\n",
      "prediction time:0.007001638412475586\n",
      "sort time:0.0030007362365722656\n",
      "prediction time:0.007001638412475586\n",
      "sort time:0.004001140594482422\n",
      "prediction time:0.007001638412475586\n",
      "sort time:0.00400090217590332\n",
      "prediction time:0.009001970291137695\n",
      "sort time:0.00400090217590332\n",
      "prediction time:0.008000612258911133\n",
      "sort time:0.004000663757324219\n",
      "prediction time:0.009002447128295898\n",
      "sort time:0.0030002593994140625\n",
      "prediction time:0.007001638412475586\n",
      "sort time:0.003000497817993164\n",
      "prediction time:0.007001399993896484\n",
      "sort time:0.004000663757324219\n",
      "prediction time:0.009001731872558594\n",
      "sort time:0.0030007362365722656\n",
      "prediction time:0.007002115249633789\n",
      "sort time:0.004001140594482422\n"
     ]
    },
    {
     "name": "stderr",
     "output_type": "stream",
     "text": [
      "\r",
      "  1%|▌                                                            | 1856/199549 [00:25<49:33, 66.47it/s]"
     ]
    },
    {
     "name": "stdout",
     "output_type": "stream",
     "text": [
      "prediction time:0.007001638412475586\n",
      "sort time:0.0040013790130615234\n",
      "prediction time:0.00800180435180664\n",
      "sort time:0.004000663757324219\n",
      "prediction time:0.009001970291137695\n",
      "sort time:0.004000663757324219\n",
      "prediction time:0.008002042770385742\n",
      "sort time:0.00400090217590332\n",
      "prediction time:0.00800180435180664\n",
      "sort time:0.00400090217590332\n",
      "prediction time:0.00800180435180664\n",
      "sort time:0.003001689910888672\n",
      "prediction time:0.009001970291137695\n",
      "sort time:0.0030007362365722656\n",
      "prediction time:0.009002208709716797\n",
      "sort time:0.004001140594482422\n",
      "prediction time:0.008001565933227539\n",
      "sort time:0.00400090217590332\n",
      "prediction time:0.00800180435180664\n",
      "sort time:0.0030007362365722656\n",
      "prediction time:0.008001327514648438\n",
      "sort time:0.004001140594482422\n",
      "prediction time:0.00800180435180664\n",
      "sort time:0.004001140594482422\n",
      "prediction time:0.00800180435180664\n"
     ]
    },
    {
     "name": "stderr",
     "output_type": "stream",
     "text": [
      "  1%|▌                                                            | 1870/199549 [00:25<49:44, 66.24it/s]"
     ]
    },
    {
     "name": "stdout",
     "output_type": "stream",
     "text": [
      "sort time:0.003000497817993164\n",
      "prediction time:0.007001161575317383\n",
      "sort time:0.00400090217590332\n",
      "prediction time:0.009001731872558594\n",
      "sort time:0.0040013790130615234\n",
      "prediction time:0.00800180435180664\n",
      "sort time:0.004001140594482422\n",
      "prediction time:0.007001638412475586\n",
      "sort time:0.0030007362365722656\n",
      "prediction time:0.00800180435180664\n",
      "sort time:0.004001140594482422\n",
      "prediction time:0.007001399993896484\n",
      "sort time:0.004001140594482422\n",
      "prediction time:0.009002208709716797\n",
      "sort time:0.0040013790130615234\n",
      "prediction time:0.007001638412475586\n",
      "sort time:0.004000663757324219\n",
      "prediction time:0.014003276824951172\n",
      "sort time:0.005000591278076172\n",
      "prediction time:0.008002519607543945\n",
      "sort time:0.003999948501586914\n",
      "prediction time:0.007001399993896484\n",
      "sort time:0.004000425338745117\n",
      "prediction time:0.008002042770385742\n"
     ]
    },
    {
     "name": "stderr",
     "output_type": "stream",
     "text": [
      "  1%|▌                                                            | 1884/199549 [00:25<49:16, 66.87it/s]"
     ]
    },
    {
     "name": "stdout",
     "output_type": "stream",
     "text": [
      "sort time:0.00400090217590332\n",
      "prediction time:0.008001565933227539\n",
      "sort time:0.004000663757324219\n",
      "prediction time:0.00800180435180664\n",
      "sort time:0.003000497817993164\n",
      "prediction time:0.008002042770385742\n",
      "sort time:0.0030007362365722656\n",
      "prediction time:0.0070018768310546875\n",
      "sort time:0.0030007362365722656\n",
      "prediction time:0.008002042770385742\n",
      "sort time:0.0030007362365722656\n",
      "prediction time:0.007001399993896484\n",
      "sort time:0.004001140594482422\n",
      "prediction time:0.009001493453979492\n",
      "sort time:0.004001140594482422\n",
      "prediction time:0.007001399993896484\n",
      "sort time:0.00400090217590332\n",
      "prediction time:0.00800180435180664\n",
      "sort time:0.0030002593994140625\n",
      "prediction time:0.007001161575317383\n",
      "sort time:0.004001140594482422\n",
      "prediction time:0.007001638412475586\n",
      "sort time:0.0030007362365722656\n",
      "prediction time:0.0070018768310546875\n",
      "sort time:0.003000974655151367\n",
      "prediction time:0.009001970291137695\n",
      "sort time:0.003000974655151367"
     ]
    },
    {
     "name": "stderr",
     "output_type": "stream",
     "text": [
      "  1%|▌                                                            | 1900/199549 [00:25<46:38, 70.63it/s]"
     ]
    },
    {
     "name": "stdout",
     "output_type": "stream",
     "text": [
      "\n",
      "prediction time:0.008002281188964844\n",
      "sort time:0.004000663757324219\n",
      "prediction time:0.007001399993896484\n",
      "sort time:0.004000425338745117\n",
      "prediction time:0.00700068473815918\n",
      "sort time:0.004001140594482422\n",
      "prediction time:0.006001472473144531\n",
      "sort time:0.003000497817993164\n",
      "prediction time:0.008002042770385742\n",
      "sort time:0.003000497817993164\n",
      "prediction time:0.0070018768310546875\n",
      "sort time:0.004001140594482422\n",
      "prediction time:0.008002042770385742\n",
      "sort time:0.004000663757324219\n",
      "prediction time:0.007002115249633789\n",
      "sort time:0.003000497817993164\n",
      "prediction time:0.006001472473144531\n",
      "sort time:0.0030007362365722656\n",
      "prediction time:0.0070018768310546875\n",
      "sort time:0.0030007362365722656\n",
      "prediction time:0.008002042770385742\n",
      "sort time:0.004000663757324219\n",
      "prediction time:0.007001399993896484\n",
      "sort time:0.004001140594482422\n",
      "prediction time:0.007001161575317383\n",
      "sort time:0.0030002593994140625\n",
      "prediction time:0.007001638412475586\n"
     ]
    },
    {
     "name": "stderr",
     "output_type": "stream",
     "text": [
      "\r",
      "  1%|▌                                                            | 1908/199549 [00:25<45:19, 72.69it/s]"
     ]
    },
    {
     "name": "stdout",
     "output_type": "stream",
     "text": [
      "sort time:0.004001140594482422\n",
      "prediction time:0.007001399993896484\n",
      "sort time:0.004001140594482422\n",
      "prediction time:0.006001472473144531\n",
      "sort time:0.004001140594482422\n",
      "prediction time:0.008001565933227539\n",
      "sort time:0.0030007362365722656\n",
      "prediction time:0.00800180435180664\n",
      "sort time:0.003000497817993164\n",
      "prediction time:0.006000995635986328\n",
      "sort time:0.003000974655151367\n",
      "prediction time:0.007001638412475586\n",
      "sort time:0.0030007362365722656\n",
      "prediction time:0.007001638412475586\n",
      "sort time:0.0030007362365722656\n",
      "prediction time:0.00800180435180664\n",
      "sort time:0.003000497817993164\n",
      "prediction time:0.007001161575317383\n",
      "sort time:0.003000974655151367\n",
      "prediction time:0.007001638412475586\n",
      "sort time:0.003000497817993164\n",
      "prediction time:0.009001970291137695\n",
      "sort time:0.0030007362365722656\n",
      "prediction time:0.00800180435180664\n",
      "sort time:0.0030007362365722656\n",
      "prediction time:0.007001638412475586\n",
      "sort time:0.003000497817993164\n",
      "prediction time:0.007001399993896484\n",
      "sort time:0.003000497817993164\n",
      "prediction time:0.0070018768310546875\n"
     ]
    },
    {
     "name": "stderr",
     "output_type": "stream",
     "text": [
      "  1%|▌                                                            | 1924/199549 [00:26<43:48, 75.19it/s]"
     ]
    },
    {
     "name": "stdout",
     "output_type": "stream",
     "text": [
      "sort time:0.004000663757324219\n",
      "prediction time:0.0070018768310546875\n",
      "sort time:0.003000974655151367\n",
      "prediction time:0.00800180435180664\n",
      "sort time:0.003000497817993164\n",
      "prediction time:0.008002042770385742\n",
      "sort time:0.004000663757324219\n",
      "prediction time:0.008001565933227539\n",
      "sort time:0.003000497817993164\n",
      "prediction time:0.006000995635986328\n",
      "sort time:0.0030007362365722656\n",
      "prediction time:0.00800180435180664\n",
      "sort time:0.0030007362365722656\n",
      "prediction time:0.00600123405456543\n",
      "sort time:0.0020003318786621094\n",
      "prediction time:0.007001638412475586\n",
      "sort time:0.003000497817993164\n",
      "prediction time:0.007001638412475586\n",
      "sort time:0.00400090217590332\n",
      "prediction time:0.007001638412475586\n",
      "sort time:0.00400090217590332\n",
      "prediction time:0.00800180435180664\n",
      "sort time:0.0030007362365722656\n",
      "prediction time:0.006001710891723633\n",
      "sort time:0.0030002593994140625\n",
      "prediction time:0.007001399993896484\n",
      "sort time:0.0030007362365722656\n",
      "prediction time:0.008001327514648438\n"
     ]
    },
    {
     "name": "stderr",
     "output_type": "stream",
     "text": [
      "  1%|▌                                                            | 1940/199549 [00:26<45:28, 72.43it/s]"
     ]
    },
    {
     "name": "stdout",
     "output_type": "stream",
     "text": [
      "sort time:0.003000497817993164\n",
      "prediction time:0.008002042770385742\n",
      "sort time:0.0030002593994140625\n",
      "prediction time:0.008001565933227539\n",
      "sort time:0.004001140594482422\n",
      "prediction time:0.007001638412475586\n",
      "sort time:0.003000974655151367\n",
      "prediction time:0.009001970291137695\n",
      "sort time:0.0030007362365722656\n",
      "prediction time:0.009001731872558594\n",
      "sort time:0.004001140594482422\n",
      "prediction time:0.007001399993896484\n",
      "sort time:0.00400090217590332\n",
      "prediction time:0.010002851486206055\n",
      "sort time:0.0030007362365722656\n",
      "prediction time:0.007001638412475586\n",
      "sort time:0.0030007362365722656\n",
      "prediction time:0.006001472473144531\n",
      "sort time:0.00400090217590332\n",
      "prediction time:0.00800180435180664\n",
      "sort time:0.0030007362365722656\n",
      "prediction time:0.009001970291137695\n",
      "sort time:0.00400090217590332\n",
      "prediction time:0.009002208709716797\n",
      "sort time:0.004000663757324219\n",
      "prediction time:0.009001970291137695\n"
     ]
    },
    {
     "name": "stderr",
     "output_type": "stream",
     "text": [
      "\r",
      "  1%|▌                                                            | 1948/199549 [00:26<47:24, 69.47it/s]"
     ]
    },
    {
     "name": "stdout",
     "output_type": "stream",
     "text": [
      "sort time:0.0040013790130615234\n",
      "prediction time:0.007001399993896484\n",
      "sort time:0.003000497817993164\n",
      "prediction time:0.009002685546875\n",
      "sort time:0.0030002593994140625\n",
      "prediction time:0.00800180435180664\n",
      "sort time:0.004000663757324219\n",
      "prediction time:0.007001638412475586\n",
      "sort time:0.0030007362365722656\n",
      "prediction time:0.00800180435180664\n",
      "sort time:0.00400090217590332\n",
      "prediction time:0.009002923965454102\n",
      "sort time:0.004000663757324219\n",
      "prediction time:0.00900125503540039\n",
      "sort time:0.004000663757324219\n",
      "prediction time:0.009001731872558594\n",
      "sort time:0.00400090217590332\n",
      "prediction time:0.00800180435180664\n",
      "sort time:0.004000663757324219\n",
      "prediction time:0.008000612258911133\n",
      "sort time:0.004001140594482422\n",
      "prediction time:0.008001565933227539\n",
      "sort time:0.003000020980834961\n"
     ]
    },
    {
     "name": "stderr",
     "output_type": "stream",
     "text": [
      "  1%|▌                                                            | 1962/199549 [00:26<50:15, 65.53it/s]"
     ]
    },
    {
     "name": "stdout",
     "output_type": "stream",
     "text": [
      "prediction time:0.007001161575317383\n",
      "sort time:0.00400090217590332\n",
      "prediction time:0.00800180435180664\n",
      "sort time:0.004001140594482422\n",
      "prediction time:0.008001565933227539\n",
      "sort time:0.0030012130737304688\n",
      "prediction time:0.009002447128295898\n",
      "sort time:0.00400090217590332\n",
      "prediction time:0.010002374649047852\n",
      "sort time:0.004001140594482422\n",
      "prediction time:0.008001327514648438\n",
      "sort time:0.004001140594482422\n",
      "prediction time:0.007001638412475586\n",
      "sort time:0.004000663757324219\n",
      "prediction time:0.007000923156738281\n",
      "sort time:0.0030002593994140625\n",
      "prediction time:0.007002592086791992\n",
      "sort time:0.00400090217590332\n",
      "prediction time:0.01000213623046875\n",
      "sort time:0.00400090217590332\n",
      "prediction time:0.00800180435180664\n",
      "sort time:0.004001140594482422\n",
      "prediction time:0.008001327514648438\n"
     ]
    },
    {
     "name": "stderr",
     "output_type": "stream",
     "text": [
      "  1%|▌                                                            | 1977/199549 [00:26<49:13, 66.89it/s]"
     ]
    },
    {
     "name": "stdout",
     "output_type": "stream",
     "text": [
      "sort time:0.00400090217590332\n",
      "prediction time:0.008002281188964844\n",
      "sort time:0.005000591278076172\n",
      "prediction time:0.007001638412475586\n",
      "sort time:0.004000663757324219\n",
      "prediction time:0.007001638412475586\n",
      "sort time:0.004000663757324219\n",
      "prediction time:0.007001638412475586\n",
      "sort time:0.004001140594482422\n",
      "prediction time:0.007001399993896484\n",
      "sort time:0.0030007362365722656\n",
      "prediction time:0.007001399993896484\n",
      "sort time:0.00400090217590332\n",
      "prediction time:0.00800180435180664\n",
      "sort time:0.004001140594482422\n",
      "prediction time:0.007001399993896484\n",
      "sort time:0.0030007362365722656\n",
      "prediction time:0.007001638412475586\n",
      "sort time:0.003000497817993164\n",
      "prediction time:0.007001638412475586\n",
      "sort time:0.003000497817993164\n",
      "prediction time:0.0070018768310546875\n",
      "sort time:0.0030007362365722656\n",
      "prediction time:0.0070018768310546875\n",
      "sort time:0.0040013790130615234\n",
      "prediction time:0.009001970291137695\n",
      "sort time:0.003000974655151367"
     ]
    },
    {
     "name": "stderr",
     "output_type": "stream",
     "text": [
      "  1%|▌                                                            | 1991/199549 [00:27<48:54, 67.33it/s]"
     ]
    },
    {
     "name": "stdout",
     "output_type": "stream",
     "text": [
      "\n",
      "prediction time:0.008002042770385742\n",
      "sort time:0.004000663757324219\n",
      "prediction time:0.007001161575317383\n",
      "sort time:0.0030007362365722656\n",
      "prediction time:0.009002447128295898\n",
      "sort time:0.00400090217590332\n",
      "prediction time:0.007001638412475586\n",
      "sort time:0.003000497817993164\n",
      "prediction time:0.00800180435180664\n",
      "sort time:0.004001140594482422\n",
      "prediction time:0.00800180435180664\n",
      "sort time:0.005001068115234375\n",
      "prediction time:0.00800180435180664\n",
      "sort time:0.004000425338745117\n",
      "prediction time:0.008001565933227539\n",
      "sort time:0.003000974655151367\n",
      "prediction time:0.007001638412475586\n",
      "sort time:0.003000497817993164\n",
      "prediction time:0.007001399993896484\n",
      "sort time:0.004000663757324219\n",
      "prediction time:0.007001638412475586\n",
      "sort time:0.0030007362365722656\n",
      "prediction time:0.007001638412475586\n",
      "sort time:0.00400090217590332\n",
      "prediction time:0.007001638412475586\n"
     ]
    },
    {
     "name": "stderr",
     "output_type": "stream",
     "text": [
      "\r",
      "  1%|▌                                                            | 1998/199549 [00:27<48:46, 67.51it/s]"
     ]
    },
    {
     "name": "stdout",
     "output_type": "stream",
     "text": [
      "sort time:0.004000663757324219\n",
      "prediction time:0.009001970291137695\n",
      "sort time:0.00400090217590332\n",
      "prediction time:0.010002374649047852\n",
      "sort time:0.004000663757324219\n",
      "prediction time:0.008001565933227539\n",
      "sort time:0.0030007362365722656\n",
      "prediction time:0.008001565933227539\n",
      "sort time:0.004002094268798828\n",
      "prediction time:0.006001472473144531\n",
      "sort time:0.004001140594482422\n",
      "prediction time:0.007000923156738281\n",
      "sort time:0.004001140594482422\n",
      "prediction time:0.009002447128295898\n",
      "sort time:0.0030007362365722656\n",
      "prediction time:0.00800180435180664\n",
      "sort time:0.004001140594482422\n",
      "prediction time:0.00800180435180664\n",
      "sort time:0.0030007362365722656\n",
      "prediction time:0.008002042770385742\n",
      "sort time:0.003000497817993164\n",
      "prediction time:0.00800180435180664\n",
      "sort time:0.004001140594482422\n",
      "prediction time:0.007001399993896484\n",
      "sort time:0.00400090217590332"
     ]
    },
    {
     "name": "stderr",
     "output_type": "stream",
     "text": [
      "  1%|▌                                                            | 2012/199549 [00:27<49:25, 66.62it/s]"
     ]
    },
    {
     "name": "stdout",
     "output_type": "stream",
     "text": [
      "\n",
      "prediction time:0.007001638412475586\n",
      "sort time:0.004000663757324219\n",
      "prediction time:0.009001970291137695\n",
      "sort time:0.004001140594482422\n",
      "prediction time:0.009002208709716797\n",
      "sort time:0.00400090217590332\n",
      "prediction time:0.007001638412475586\n",
      "sort time:0.004000663757324219\n",
      "prediction time:0.008001565933227539\n",
      "sort time:0.004001140594482422\n",
      "prediction time:0.007001638412475586\n",
      "sort time:0.003000497817993164\n",
      "prediction time:0.007001638412475586\n",
      "sort time:0.004001140594482422\n",
      "prediction time:0.00800180435180664\n",
      "sort time:0.00400090217590332\n",
      "prediction time:0.008002042770385742\n",
      "sort time:0.0050008296966552734\n",
      "prediction time:0.007001161575317383\n",
      "sort time:0.00400090217590332\n",
      "prediction time:0.009001731872558594\n",
      "sort time:0.0030007362365722656\n",
      "prediction time:0.0070018768310546875\n",
      "sort time:0.003000497817993164\n",
      "prediction time:0.0070018768310546875\n",
      "sort time:0.003000497817993164"
     ]
    },
    {
     "name": "stderr",
     "output_type": "stream",
     "text": [
      "  1%|▌                                                            | 2026/199549 [00:27<49:55, 65.94it/s]"
     ]
    },
    {
     "name": "stdout",
     "output_type": "stream",
     "text": [
      "\n",
      "prediction time:0.009002208709716797\n",
      "sort time:0.004000663757324219\n",
      "prediction time:0.009002208709716797\n",
      "sort time:0.0030007362365722656\n",
      "prediction time:0.008001565933227539\n",
      "sort time:0.004001140594482422\n",
      "prediction time:0.008002519607543945\n",
      "sort time:0.004000186920166016\n",
      "prediction time:0.007000923156738281\n",
      "sort time:0.0050013065338134766\n",
      "prediction time:0.00800180435180664\n",
      "sort time:0.0030002593994140625\n",
      "prediction time:0.007001638412475586\n",
      "sort time:0.004000425338745117\n",
      "prediction time:0.007001638412475586\n",
      "sort time:0.005001544952392578\n",
      "prediction time:0.00800180435180664\n",
      "sort time:0.004001140594482422\n",
      "prediction time:0.007001638412475586\n",
      "sort time:0.003000974655151367\n",
      "prediction time:0.00800180435180664\n",
      "sort time:0.003000497817993164\n",
      "prediction time:0.007002115249633789\n",
      "sort time:0.004000663757324219"
     ]
    },
    {
     "name": "stderr",
     "output_type": "stream",
     "text": [
      "  1%|▌                                                            | 2040/199549 [00:27<50:26, 65.27it/s]"
     ]
    },
    {
     "name": "stdout",
     "output_type": "stream",
     "text": [
      "\n",
      "prediction time:0.007001399993896484\n",
      "sort time:0.0040013790130615234\n",
      "prediction time:0.009001970291137695\n",
      "sort time:0.00400090217590332\n",
      "prediction time:0.007002115249633789\n",
      "sort time:0.004000425338745117\n",
      "prediction time:0.007001399993896484\n",
      "sort time:0.00400090217590332\n",
      "prediction time:0.009001970291137695\n",
      "sort time:0.003000974655151367\n",
      "prediction time:0.008000850677490234\n",
      "sort time:0.004001140594482422\n",
      "prediction time:0.0070018768310546875\n",
      "sort time:0.004000663757324219\n",
      "prediction time:0.007001638412475586\n",
      "sort time:0.0030002593994140625\n",
      "prediction time:0.010001897811889648\n",
      "sort time:0.0050013065338134766\n",
      "prediction time:0.008001565933227539\n",
      "sort time:0.004000425338745117\n",
      "prediction time:0.007001638412475586\n",
      "sort time:0.004000663757324219\n",
      "prediction time:0.007001638412475586\n"
     ]
    },
    {
     "name": "stderr",
     "output_type": "stream",
     "text": [
      "\r",
      "  1%|▋                                                            | 2047/199549 [00:27<50:49, 64.77it/s]"
     ]
    },
    {
     "name": "stdout",
     "output_type": "stream",
     "text": [
      "sort time:0.005001068115234375\n",
      "prediction time:0.00800180435180664\n",
      "sort time:0.004000663757324219\n",
      "prediction time:0.008001327514648438\n",
      "sort time:0.004001140594482422\n",
      "prediction time:0.009002208709716797\n",
      "sort time:0.003000497817993164\n",
      "prediction time:0.009002447128295898\n",
      "sort time:0.0050008296966552734\n",
      "prediction time:0.007001638412475586\n",
      "sort time:0.004000663757324219\n",
      "prediction time:0.007001638412475586\n",
      "sort time:0.004000663757324219\n",
      "prediction time:0.007001638412475586\n",
      "sort time:0.003000497817993164\n",
      "prediction time:0.008001565933227539\n",
      "sort time:0.0030012130737304688\n",
      "prediction time:0.009001970291137695\n",
      "sort time:0.00400090217590332\n",
      "prediction time:0.00800180435180664\n",
      "sort time:0.003000497817993164\n",
      "prediction time:0.007001638412475586\n",
      "sort time:0.004000663757324219\n",
      "prediction time:0.006001710891723633\n",
      "sort time:0.0030007362365722656\n",
      "prediction time:0.00600123405456543\n",
      "sort time:0.003000497817993164"
     ]
    },
    {
     "name": "stderr",
     "output_type": "stream",
     "text": [
      "  1%|▋                                                            | 2063/199549 [00:28<47:51, 68.77it/s]"
     ]
    },
    {
     "name": "stdout",
     "output_type": "stream",
     "text": [
      "\n",
      "prediction time:0.0070018768310546875\n",
      "sort time:0.003000974655151367\n",
      "prediction time:0.009001970291137695\n",
      "sort time:0.004001140594482422\n",
      "prediction time:0.007001399993896484\n",
      "sort time:0.00400090217590332\n",
      "prediction time:0.007001638412475586\n",
      "sort time:0.003000497817993164\n",
      "prediction time:0.00800180435180664\n",
      "sort time:0.0030007362365722656\n",
      "prediction time:0.007001638412475586\n",
      "sort time:0.00400090217590332\n",
      "prediction time:0.00600123405456543\n",
      "sort time:0.00400090217590332\n",
      "prediction time:0.007001638412475586\n",
      "sort time:0.00400090217590332\n",
      "prediction time:0.007001399993896484\n",
      "sort time:0.003000974655151367\n",
      "prediction time:0.009002208709716797\n",
      "sort time:0.00400090217590332\n",
      "prediction time:0.009001970291137695\n",
      "sort time:0.0030007362365722656\n",
      "prediction time:0.006001472473144531\n",
      "sort time:0.00400090217590332\n",
      "prediction time:0.006001710891723633\n"
     ]
    },
    {
     "name": "stderr",
     "output_type": "stream",
     "text": [
      "  1%|▋                                                            | 2079/199549 [00:28<46:21, 70.98it/s]"
     ]
    },
    {
     "name": "stdout",
     "output_type": "stream",
     "text": [
      "sort time:0.004000663757324219\n",
      "prediction time:0.00800180435180664\n",
      "sort time:0.004000663757324219\n",
      "prediction time:0.00600123405456543\n",
      "sort time:0.0030012130737304688\n",
      "prediction time:0.008001565933227539\n",
      "sort time:0.003000497817993164\n",
      "prediction time:0.00800180435180664\n",
      "sort time:0.003000497817993164\n",
      "prediction time:0.00800180435180664\n",
      "sort time:0.0040013790130615234\n",
      "prediction time:0.008001565933227539\n",
      "sort time:0.0030007362365722656\n",
      "prediction time:0.007001638412475586\n",
      "sort time:0.00400090217590332\n",
      "prediction time:0.007001638412475586\n",
      "sort time:0.004001140594482422\n",
      "prediction time:0.007001638412475586\n",
      "sort time:0.003000497817993164\n",
      "prediction time:0.007001638412475586\n",
      "sort time:0.0030007362365722656\n",
      "prediction time:0.00800180435180664\n",
      "sort time:0.0030007362365722656\n",
      "prediction time:0.008002042770385742\n",
      "sort time:0.00400090217590332\n",
      "prediction time:0.009002208709716797\n",
      "sort time:0.0030007362365722656\n",
      "prediction time:0.00800180435180664\n",
      "sort time:0.0030007362365722656"
     ]
    },
    {
     "name": "stderr",
     "output_type": "stream",
     "text": [
      "\r",
      "  1%|▋                                                            | 2087/199549 [00:28<46:01, 71.50it/s]"
     ]
    },
    {
     "name": "stdout",
     "output_type": "stream",
     "text": [
      "\n",
      "prediction time:0.008002042770385742\n",
      "sort time:0.0030002593994140625\n",
      "prediction time:0.008001327514648438\n",
      "sort time:0.0030007362365722656\n",
      "prediction time:0.008001565933227539\n",
      "sort time:0.003000497817993164\n",
      "prediction time:0.00800180435180664\n",
      "sort time:0.003000497817993164\n",
      "prediction time:0.0070018768310546875\n",
      "sort time:0.004001140594482422\n",
      "prediction time:0.008002042770385742\n",
      "sort time:0.00400090217590332\n",
      "prediction time:0.008001327514648438\n",
      "sort time:0.004001140594482422\n",
      "prediction time:0.007001638412475586\n",
      "sort time:0.0030007362365722656\n",
      "prediction time:0.006001472473144531\n",
      "sort time:0.003000497817993164\n",
      "prediction time:0.00800180435180664\n",
      "sort time:0.003000974655151367\n",
      "prediction time:0.007001638412475586\n",
      "sort time:0.0030007362365722656\n",
      "prediction time:0.007001638412475586\n",
      "sort time:0.003000497817993164\n",
      "prediction time:0.007001638412475586\n",
      "sort time:0.003000497817993164\n",
      "prediction time:0.0070018768310546875\n"
     ]
    },
    {
     "name": "stderr",
     "output_type": "stream",
     "text": [
      "  1%|▋                                                            | 2103/199549 [00:28<46:24, 70.92it/s]"
     ]
    },
    {
     "name": "stdout",
     "output_type": "stream",
     "text": [
      "sort time:0.003000020980834961\n",
      "prediction time:0.007001638412475586\n",
      "sort time:0.0030002593994140625\n",
      "prediction time:0.007001638412475586\n",
      "sort time:0.0030007362365722656\n",
      "prediction time:0.008002281188964844\n",
      "sort time:0.004000663757324219\n",
      "prediction time:0.007001399993896484\n",
      "sort time:0.003000497817993164\n",
      "prediction time:0.007002115249633789\n",
      "sort time:0.003999948501586914\n",
      "prediction time:0.007001399993896484\n",
      "sort time:0.00400090217590332\n",
      "prediction time:0.007001399993896484\n",
      "sort time:0.005001068115234375\n",
      "prediction time:0.008002042770385742\n",
      "sort time:0.004000663757324219\n",
      "prediction time:0.00900125503540039\n",
      "sort time:0.003000974655151367\n",
      "prediction time:0.007001638412475586\n",
      "sort time:0.003000974655151367\n",
      "prediction time:0.007001638412475586\n",
      "sort time:0.00400090217590332\n",
      "prediction time:0.008001089096069336\n",
      "sort time:0.004001140594482422\n",
      "prediction time:0.007001161575317383\n"
     ]
    },
    {
     "name": "stderr",
     "output_type": "stream",
     "text": [
      "  1%|▋                                                            | 2119/199549 [00:28<46:49, 70.27it/s]"
     ]
    },
    {
     "name": "stdout",
     "output_type": "stream",
     "text": [
      "sort time:0.004001140594482422\n",
      "prediction time:0.007001161575317383\n",
      "sort time:0.005001544952392578\n",
      "prediction time:0.007001399993896484\n",
      "sort time:0.003000497817993164\n",
      "prediction time:0.007001399993896484\n",
      "sort time:0.003000974655151367\n",
      "prediction time:0.00800180435180664\n",
      "sort time:0.0030007362365722656\n",
      "prediction time:0.008002042770385742\n",
      "sort time:0.0030007362365722656\n",
      "prediction time:0.008001565933227539\n",
      "sort time:0.003000497817993164\n",
      "prediction time:0.00800180435180664\n",
      "sort time:0.004000663757324219\n",
      "prediction time:0.007001638412475586\n",
      "sort time:0.003000497817993164\n",
      "prediction time:0.007001638412475586\n",
      "sort time:0.003000497817993164\n",
      "prediction time:0.008001565933227539\n",
      "sort time:0.0030007362365722656\n",
      "prediction time:0.007001399993896484\n",
      "sort time:0.003000497817993164\n",
      "prediction time:0.00800180435180664\n",
      "sort time:0.004000425338745117\n",
      "prediction time:0.007001638412475586\n"
     ]
    },
    {
     "name": "stderr",
     "output_type": "stream",
     "text": [
      "\r",
      "  1%|▋                                                            | 2127/199549 [00:29<46:06, 71.37it/s]"
     ]
    },
    {
     "name": "stdout",
     "output_type": "stream",
     "text": [
      "sort time:0.00400090217590332\n",
      "prediction time:0.00800180435180664\n",
      "sort time:0.00400090217590332\n",
      "prediction time:0.0070018768310546875\n",
      "sort time:0.003000497817993164\n",
      "prediction time:0.007001399993896484\n",
      "sort time:0.004001140594482422\n",
      "prediction time:0.007001638412475586\n",
      "sort time:0.003000497817993164\n",
      "prediction time:0.00600123405456543\n",
      "sort time:0.0030007362365722656\n",
      "prediction time:0.00800180435180664\n",
      "sort time:0.0030007362365722656\n",
      "prediction time:0.008002042770385742\n",
      "sort time:0.00400090217590332\n",
      "prediction time:0.008002042770385742\n",
      "sort time:0.003000497817993164\n",
      "prediction time:0.0070018768310546875\n",
      "sort time:0.0030002593994140625\n",
      "prediction time:0.00600123405456543\n",
      "sort time:0.00400090217590332\n",
      "prediction time:0.007001638412475586\n",
      "sort time:0.0030007362365722656\n",
      "prediction time:0.007001399993896484\n",
      "sort time:0.0030007362365722656\n",
      "prediction time:0.007001399993896484\n",
      "sort time:0.0020003318786621094\n",
      "prediction time:0.0070018768310546875\n",
      "sort time:0.003000497817993164"
     ]
    },
    {
     "name": "stderr",
     "output_type": "stream",
     "text": [
      "  1%|▋                                                            | 2143/199549 [00:29<44:54, 73.26it/s]"
     ]
    },
    {
     "name": "stdout",
     "output_type": "stream",
     "text": [
      "\n",
      "prediction time:0.007001161575317383\n",
      "sort time:0.0030007362365722656\n",
      "prediction time:0.006001472473144531\n",
      "sort time:0.003000020980834961\n",
      "prediction time:0.008001327514648438\n",
      "sort time:0.004001140594482422\n",
      "prediction time:0.008001327514648438\n",
      "sort time:0.003000974655151367\n",
      "prediction time:0.007001638412475586\n",
      "sort time:0.003000497817993164\n",
      "prediction time:0.007001638412475586\n",
      "sort time:0.0030007362365722656\n",
      "prediction time:0.007001638412475586\n",
      "sort time:0.0030012130737304688\n",
      "prediction time:0.007001638412475586\n",
      "sort time:0.003000974655151367\n",
      "prediction time:0.008002042770385742\n",
      "sort time:0.003000497817993164\n",
      "prediction time:0.007001638412475586\n",
      "sort time:0.003000497817993164\n",
      "prediction time:0.006001472473144531\n",
      "sort time:0.00400090217590332\n",
      "prediction time:0.00800180435180664\n",
      "sort time:0.0030007362365722656\n",
      "prediction time:0.00600123405456543\n",
      "sort time:0.0030002593994140625\n",
      "prediction time:0.008002042770385742\n"
     ]
    },
    {
     "name": "stderr",
     "output_type": "stream",
     "text": [
      "  1%|▋                                                            | 2159/199549 [00:29<44:34, 73.81it/s]"
     ]
    },
    {
     "name": "stdout",
     "output_type": "stream",
     "text": [
      "sort time:0.003000497817993164\n",
      "prediction time:0.00800180435180664\n",
      "sort time:0.003000497817993164\n",
      "prediction time:0.008002042770385742\n",
      "sort time:0.003000497817993164\n",
      "prediction time:0.007001638412475586\n",
      "sort time:0.0030007362365722656\n",
      "prediction time:0.00800180435180664\n",
      "sort time:0.003000497817993164\n",
      "prediction time:0.007001638412475586\n",
      "sort time:0.003000497817993164\n",
      "prediction time:0.0070018768310546875\n",
      "sort time:0.00400090217590332\n",
      "prediction time:0.0070018768310546875\n",
      "sort time:0.003000497817993164\n",
      "prediction time:0.007001638412475586\n",
      "sort time:0.00400090217590332\n",
      "prediction time:0.00800180435180664\n",
      "sort time:0.0030007362365722656\n",
      "prediction time:0.009001970291137695\n",
      "sort time:0.0030007362365722656\n",
      "prediction time:0.007001399993896484\n",
      "sort time:0.00400090217590332\n",
      "prediction time:0.006001710891723633\n",
      "sort time:0.003000497817993164\n",
      "prediction time:0.007001638412475586\n",
      "sort time:0.003000497817993164\n",
      "prediction time:0.007001638412475586\n",
      "sort time:0.003000497817993164"
     ]
    },
    {
     "name": "stderr",
     "output_type": "stream",
     "text": [
      "\r",
      "  1%|▋                                                            | 2167/199549 [00:29<45:01, 73.07it/s]"
     ]
    },
    {
     "name": "stdout",
     "output_type": "stream",
     "text": [
      "\n",
      "prediction time:0.009002208709716797\n",
      "sort time:0.004000663757324219\n",
      "prediction time:0.008001565933227539\n",
      "sort time:0.003000497817993164\n",
      "prediction time:0.00600123405456543\n",
      "sort time:0.004001140594482422\n",
      "prediction time:0.007001638412475586\n",
      "sort time:0.004001140594482422\n",
      "prediction time:0.009001970291137695\n",
      "sort time:0.005001544952392578\n",
      "prediction time:0.008002042770385742\n",
      "sort time:0.003000497817993164\n",
      "prediction time:0.007001399993896484\n",
      "sort time:0.003000497817993164\n",
      "prediction time:0.007001161575317383\n",
      "sort time:0.003000974655151367\n",
      "prediction time:0.007001638412475586\n",
      "sort time:0.003000974655151367\n",
      "prediction time:0.009001493453979492\n",
      "sort time:0.004001140594482422\n",
      "prediction time:0.0070018768310546875\n",
      "sort time:0.003000497817993164\n",
      "prediction time:0.00800180435180664\n",
      "sort time:0.0030002593994140625\n"
     ]
    },
    {
     "name": "stderr",
     "output_type": "stream",
     "text": [
      "  1%|▋                                                            | 2183/199549 [00:29<48:55, 67.22it/s]"
     ]
    },
    {
     "name": "stdout",
     "output_type": "stream",
     "text": [
      "prediction time:0.008002042770385742\n",
      "sort time:0.0040013790130615234\n",
      "prediction time:0.008001327514648438\n",
      "sort time:0.00400090217590332\n",
      "prediction time:0.008002042770385742\n",
      "sort time:0.004000663757324219\n",
      "prediction time:0.007000923156738281\n",
      "sort time:0.0050013065338134766\n",
      "prediction time:0.009001731872558594\n",
      "sort time:0.004000425338745117\n",
      "prediction time:0.008001565933227539\n",
      "sort time:0.004001140594482422\n",
      "prediction time:0.008002281188964844\n",
      "sort time:0.004000663757324219\n",
      "prediction time:0.00700068473815918\n",
      "sort time:0.003000497817993164\n",
      "prediction time:0.008002042770385742\n",
      "sort time:0.005001068115234375\n",
      "prediction time:0.007001638412475586\n",
      "sort time:0.005001544952392578\n",
      "prediction time:0.00800180435180664\n",
      "sort time:0.004001617431640625\n",
      "prediction time:0.008001565933227539\n",
      "sort time:0.0040013790130615234\n",
      "prediction time:0.008002042770385742\n",
      "sort time:0.004000663757324219"
     ]
    },
    {
     "name": "stderr",
     "output_type": "stream",
     "text": [
      "  1%|▋                                                            | 2197/199549 [00:30<50:42, 64.86it/s]"
     ]
    },
    {
     "name": "stdout",
     "output_type": "stream",
     "text": [
      "\n",
      "prediction time:0.008001565933227539\n",
      "sort time:0.004000425338745117\n",
      "prediction time:0.00800180435180664\n",
      "sort time:0.0040013790130615234\n",
      "prediction time:0.009002208709716797\n",
      "sort time:0.00400090217590332\n",
      "prediction time:0.007001399993896484\n",
      "sort time:0.0040013790130615234\n",
      "prediction time:0.007001638412475586\n",
      "sort time:0.004001617431640625\n",
      "prediction time:0.008001565933227539\n",
      "sort time:0.004001140594482422\n",
      "prediction time:0.009001731872558594\n",
      "sort time:0.004000663757324219\n",
      "prediction time:0.00800180435180664\n",
      "sort time:0.003000497817993164\n",
      "prediction time:0.008002042770385742\n",
      "sort time:0.004001140594482422\n",
      "prediction time:0.007001638412475586\n",
      "sort time:0.0030007362365722656\n",
      "prediction time:0.007001638412475586\n",
      "sort time:0.00400090217590332\n",
      "prediction time:0.008001565933227539\n",
      "sort time:0.00400090217590332\n",
      "prediction time:0.008001565933227539\n"
     ]
    },
    {
     "name": "stderr",
     "output_type": "stream",
     "text": [
      "  1%|▋                                                            | 2211/199549 [00:30<49:28, 66.47it/s]"
     ]
    },
    {
     "name": "stdout",
     "output_type": "stream",
     "text": [
      "sort time:0.003000974655151367\n",
      "prediction time:0.009002447128295898\n",
      "sort time:0.004000663757324219\n",
      "prediction time:0.00800180435180664\n",
      "sort time:0.003000497817993164\n",
      "prediction time:0.007001638412475586\n",
      "sort time:0.003000497817993164\n",
      "prediction time:0.009002208709716797\n",
      "sort time:0.004001140594482422\n",
      "prediction time:0.008002042770385742\n",
      "sort time:0.00400090217590332\n",
      "prediction time:0.00800180435180664\n",
      "sort time:0.0030012130737304688\n",
      "prediction time:0.009001970291137695\n",
      "sort time:0.003000497817993164\n",
      "prediction time:0.00800180435180664\n",
      "sort time:0.003000497817993164\n",
      "prediction time:0.007001638412475586\n",
      "sort time:0.003000974655151367\n",
      "prediction time:0.008002042770385742\n",
      "sort time:0.004000425338745117\n",
      "prediction time:0.006001472473144531\n",
      "sort time:0.00400090217590332\n",
      "prediction time:0.008000850677490234\n",
      "sort time:0.0030007362365722656\n"
     ]
    },
    {
     "name": "stderr",
     "output_type": "stream",
     "text": [
      "  1%|▋                                                            | 2225/199549 [00:30<48:31, 67.78it/s]"
     ]
    },
    {
     "name": "stdout",
     "output_type": "stream",
     "text": [
      "prediction time:0.007001638412475586\n",
      "sort time:0.0030007362365722656\n",
      "prediction time:0.009001970291137695\n",
      "sort time:0.00400090217590332\n",
      "prediction time:0.00800180435180664\n",
      "sort time:0.00400090217590332\n",
      "prediction time:0.007001161575317383\n",
      "sort time:0.003000974655151367\n",
      "prediction time:0.008001327514648438\n",
      "sort time:0.0040013790130615234\n",
      "prediction time:0.007001638412475586\n",
      "sort time:0.003000497817993164\n",
      "prediction time:0.007001399993896484\n",
      "sort time:0.0030002593994140625\n",
      "prediction time:0.00600123405456543\n",
      "sort time:0.003000497817993164\n",
      "prediction time:0.00800180435180664\n",
      "sort time:0.003000497817993164\n",
      "prediction time:0.008001565933227539\n",
      "sort time:0.003000497817993164\n",
      "prediction time:0.008001565933227539\n",
      "sort time:0.003000497817993164\n",
      "prediction time:0.007001638412475586\n",
      "sort time:0.003000497817993164\n",
      "prediction time:0.00800180435180664\n",
      "sort time:0.0030007362365722656\n"
     ]
    },
    {
     "name": "stderr",
     "output_type": "stream",
     "text": [
      "\r",
      "  1%|▋                                                            | 2232/199549 [00:30<48:29, 67.83it/s]"
     ]
    },
    {
     "name": "stdout",
     "output_type": "stream",
     "text": [
      "prediction time:0.009001731872558594\n",
      "sort time:0.004001140594482422\n",
      "prediction time:0.008001565933227539\n",
      "sort time:0.0030002593994140625\n",
      "prediction time:0.009001970291137695\n",
      "sort time:0.00400090217590332\n",
      "prediction time:0.00800180435180664\n",
      "sort time:0.003000497817993164\n",
      "prediction time:0.007001638412475586\n",
      "sort time:0.003000497817993164\n",
      "prediction time:0.00800180435180664\n",
      "sort time:0.003000974655151367\n",
      "prediction time:0.009001970291137695\n",
      "sort time:0.0040013790130615234\n",
      "prediction time:0.00800180435180664\n",
      "sort time:0.003000497817993164\n",
      "prediction time:0.00800180435180664\n",
      "sort time:0.003000497817993164\n",
      "prediction time:0.00600123405456543\n",
      "sort time:0.00400090217590332\n",
      "prediction time:0.007001399993896484\n",
      "sort time:0.00400090217590332\n",
      "prediction time:0.007001638412475586\n",
      "sort time:0.003000497817993164\n",
      "prediction time:0.008002042770385742\n",
      "sort time:0.003000497817993164"
     ]
    },
    {
     "name": "stderr",
     "output_type": "stream",
     "text": [
      "  1%|▋                                                            | 2246/199549 [00:30<48:06, 68.36it/s]"
     ]
    },
    {
     "name": "stdout",
     "output_type": "stream",
     "text": [
      "\n",
      "prediction time:0.007001638412475586\n",
      "sort time:0.004000425338745117\n",
      "prediction time:0.007001399993896484\n",
      "sort time:0.0030002593994140625\n",
      "prediction time:0.009001731872558594\n",
      "sort time:0.0030007362365722656\n",
      "prediction time:0.007001638412475586\n",
      "sort time:0.003000497817993164\n",
      "prediction time:0.007001638412475586\n",
      "sort time:0.00400090217590332\n",
      "prediction time:0.007001638412475586\n",
      "sort time:0.0030007362365722656\n",
      "prediction time:0.007001399993896484\n",
      "sort time:0.00400090217590332\n",
      "prediction time:0.007001638412475586\n",
      "sort time:0.0030012130737304688\n",
      "prediction time:0.007001638412475586\n",
      "sort time:0.0030007362365722656\n",
      "prediction time:0.009002208709716797\n",
      "sort time:0.0040013790130615234\n",
      "prediction time:0.00800180435180664\n",
      "sort time:0.003000497817993164\n",
      "prediction time:0.007001638412475586\n",
      "sort time:0.00400090217590332\n",
      "prediction time:0.007001161575317383\n",
      "sort time:0.004000663757324219"
     ]
    },
    {
     "name": "stderr",
     "output_type": "stream",
     "text": [
      "  1%|▋                                                            | 2260/199549 [00:30<49:21, 66.62it/s]"
     ]
    },
    {
     "name": "stdout",
     "output_type": "stream",
     "text": [
      "\n",
      "prediction time:0.007001161575317383\n",
      "sort time:0.005001544952392578\n",
      "prediction time:0.008001565933227539\n",
      "sort time:0.0050013065338134766\n",
      "prediction time:0.008000373840332031\n",
      "sort time:0.003000974655151367\n",
      "prediction time:0.00800180435180664\n",
      "sort time:0.004001617431640625\n",
      "prediction time:0.007001638412475586\n",
      "sort time:0.0040013790130615234\n",
      "prediction time:0.007001638412475586\n",
      "sort time:0.004000663757324219\n",
      "prediction time:0.007001638412475586\n",
      "sort time:0.0030007362365722656\n",
      "prediction time:0.007000923156738281\n",
      "sort time:0.0030007362365722656\n",
      "prediction time:0.007001638412475586\n",
      "sort time:0.00400090217590332\n",
      "prediction time:0.00800180435180664\n",
      "sort time:0.0030007362365722656\n",
      "prediction time:0.007001638412475586\n",
      "sort time:0.00400090217590332\n",
      "prediction time:0.008002281188964844\n",
      "sort time:0.003000497817993164"
     ]
    },
    {
     "name": "stderr",
     "output_type": "stream",
     "text": [
      "  1%|▋                                                            | 2275/199549 [00:31<47:37, 69.03it/s]"
     ]
    },
    {
     "name": "stdout",
     "output_type": "stream",
     "text": [
      "\n",
      "prediction time:0.007001161575317383\n",
      "sort time:0.004001140594482422\n",
      "prediction time:0.007002115249633789\n",
      "sort time:0.004001140594482422\n",
      "prediction time:0.00800180435180664\n",
      "sort time:0.003000497817993164\n",
      "prediction time:0.00800180435180664\n",
      "sort time:0.003000974655151367\n",
      "prediction time:0.00800180435180664\n",
      "sort time:0.003000974655151367\n",
      "prediction time:0.007001638412475586\n",
      "sort time:0.00400090217590332\n",
      "prediction time:0.007001638412475586\n",
      "sort time:0.004000663757324219\n",
      "prediction time:0.007001399993896484\n",
      "sort time:0.003000497817993164\n",
      "prediction time:0.007001399993896484\n",
      "sort time:0.003000974655151367\n",
      "prediction time:0.0070018768310546875\n",
      "sort time:0.0030002593994140625\n",
      "prediction time:0.0070018768310546875\n",
      "sort time:0.004000663757324219\n",
      "prediction time:0.0070018768310546875\n",
      "sort time:0.003000974655151367\n",
      "prediction time:0.006001472473144531\n",
      "sort time:0.003000497817993164\n",
      "prediction time:0.008002042770385742\n",
      "sort time:0.003000974655151367"
     ]
    },
    {
     "name": "stderr",
     "output_type": "stream",
     "text": [
      "\r",
      "  1%|▋                                                            | 2283/199549 [00:31<46:59, 69.97it/s]"
     ]
    },
    {
     "name": "stdout",
     "output_type": "stream",
     "text": [
      "\n",
      "prediction time:0.007000923156738281\n",
      "sort time:0.004001140594482422\n",
      "prediction time:0.008002042770385742\n",
      "sort time:0.00400090217590332\n",
      "prediction time:0.00800180435180664\n",
      "sort time:0.0030007362365722656\n",
      "prediction time:0.007001638412475586\n",
      "sort time:0.0030007362365722656\n",
      "prediction time:0.008002042770385742\n",
      "sort time:0.003000497817993164\n",
      "prediction time:0.00800180435180664\n",
      "sort time:0.0030007362365722656\n",
      "prediction time:0.008002042770385742\n",
      "sort time:0.0030007362365722656\n",
      "prediction time:0.008001565933227539\n",
      "sort time:0.0030007362365722656\n",
      "prediction time:0.007001399993896484\n",
      "sort time:0.0030007362365722656\n",
      "prediction time:0.007001399993896484\n",
      "sort time:0.003000497817993164\n",
      "prediction time:0.006001472473144531\n",
      "sort time:0.003000497817993164\n",
      "prediction time:0.0070018768310546875\n",
      "sort time:0.00400090217590332\n",
      "prediction time:0.007001638412475586\n",
      "sort time:0.0030007362365722656"
     ]
    },
    {
     "name": "stderr",
     "output_type": "stream",
     "text": [
      "  1%|▋                                                            | 2299/199549 [00:31<47:36, 69.04it/s]"
     ]
    },
    {
     "name": "stdout",
     "output_type": "stream",
     "text": [
      "\n",
      "prediction time:0.007001638412475586\n",
      "sort time:0.004000425338745117\n",
      "prediction time:0.007001638412475586\n",
      "sort time:0.004001140594482422\n",
      "prediction time:0.007001399993896484\n",
      "sort time:0.003000497817993164\n",
      "prediction time:0.0070018768310546875\n",
      "sort time:0.004000663757324219\n",
      "prediction time:0.007001161575317383\n",
      "sort time:0.00400090217590332\n",
      "prediction time:0.007001399993896484\n",
      "sort time:0.004001140594482422\n",
      "prediction time:0.010002613067626953\n",
      "sort time:0.004000663757324219\n",
      "prediction time:0.008001327514648438\n",
      "sort time:0.004001140594482422\n",
      "prediction time:0.010002851486206055\n",
      "sort time:0.004000663757324219\n",
      "prediction time:0.009001731872558594\n",
      "sort time:0.003000497817993164\n",
      "prediction time:0.00800180435180664\n",
      "sort time:0.003000974655151367\n",
      "prediction time:0.009001731872558594\n"
     ]
    },
    {
     "name": "stderr",
     "output_type": "stream",
     "text": [
      "  1%|▋                                                            | 2313/199549 [00:31<50:10, 65.51it/s]"
     ]
    },
    {
     "name": "stdout",
     "output_type": "stream",
     "text": [
      "sort time:0.0050013065338134766\n",
      "prediction time:0.00800180435180664\n",
      "sort time:0.005001544952392578\n",
      "prediction time:0.007001638412475586\n",
      "sort time:0.004001140594482422\n",
      "prediction time:0.007001638412475586\n",
      "sort time:0.004001140594482422\n",
      "prediction time:0.00800180435180664\n",
      "sort time:0.00400090217590332\n",
      "prediction time:0.007001161575317383\n",
      "sort time:0.003000497817993164\n",
      "prediction time:0.007001399993896484\n",
      "sort time:0.004001617431640625\n",
      "prediction time:0.00800180435180664\n",
      "sort time:0.00400090217590332\n",
      "prediction time:0.009002208709716797\n",
      "sort time:0.0050013065338134766\n",
      "prediction time:0.007001638412475586\n",
      "sort time:0.00400090217590332\n",
      "prediction time:0.009001493453979492\n",
      "sort time:0.004001140594482422\n",
      "prediction time:0.007001638412475586\n",
      "sort time:0.004001140594482422\n",
      "prediction time:0.007001399993896484\n",
      "sort time:0.003000974655151367"
     ]
    },
    {
     "name": "stderr",
     "output_type": "stream",
     "text": [
      "\r",
      "  1%|▋                                                            | 2320/199549 [00:31<50:36, 64.95it/s]"
     ]
    },
    {
     "name": "stdout",
     "output_type": "stream",
     "text": [
      "\n",
      "prediction time:0.01000213623046875\n",
      "sort time:0.0030007362365722656\n",
      "prediction time:0.008002281188964844\n",
      "sort time:0.0030002593994140625\n",
      "prediction time:0.008001565933227539\n",
      "sort time:0.004000663757324219\n",
      "prediction time:0.00800180435180664\n",
      "sort time:0.004001140594482422\n",
      "prediction time:0.009001970291137695\n",
      "sort time:0.004001140594482422\n",
      "prediction time:0.009001731872558594\n",
      "sort time:0.0040013790130615234\n",
      "prediction time:0.008002042770385742\n",
      "sort time:0.004001140594482422\n",
      "prediction time:0.007001638412475586\n",
      "sort time:0.004000425338745117\n",
      "prediction time:0.009001731872558594\n",
      "sort time:0.00400090217590332\n",
      "prediction time:0.009002447128295898\n",
      "sort time:0.004000186920166016\n",
      "prediction time:0.007001399993896484\n",
      "sort time:0.004001140594482422\n",
      "prediction time:0.007001638412475586\n"
     ]
    },
    {
     "name": "stderr",
     "output_type": "stream",
     "text": [
      "  1%|▋                                                            | 2334/199549 [00:32<51:59, 63.22it/s]"
     ]
    },
    {
     "name": "stdout",
     "output_type": "stream",
     "text": [
      "sort time:0.0050013065338134766\n",
      "prediction time:0.008002042770385742\n",
      "sort time:0.005000591278076172\n",
      "prediction time:0.007001399993896484\n",
      "sort time:0.004000663757324219\n",
      "prediction time:0.008001565933227539\n",
      "sort time:0.004001140594482422\n",
      "prediction time:0.007001638412475586\n",
      "sort time:0.004000663757324219\n",
      "prediction time:0.008002519607543945\n",
      "sort time:0.004001140594482422\n",
      "prediction time:0.008001327514648438\n",
      "sort time:0.00400090217590332\n",
      "prediction time:0.008001565933227539\n",
      "sort time:0.0030007362365722656\n",
      "prediction time:0.008001089096069336\n",
      "sort time:0.004001140594482422\n",
      "prediction time:0.007000923156738281\n",
      "sort time:0.004001140594482422\n",
      "prediction time:0.007001399993896484\n",
      "sort time:0.0030007362365722656\n",
      "prediction time:0.007001638412475586\n",
      "sort time:0.004000425338745117\n",
      "prediction time:0.006001472473144531\n"
     ]
    },
    {
     "name": "stderr",
     "output_type": "stream",
     "text": [
      "  1%|▋                                                            | 2350/199549 [00:32<48:17, 68.06it/s]"
     ]
    },
    {
     "name": "stdout",
     "output_type": "stream",
     "text": [
      "sort time:0.004000663757324219\n",
      "prediction time:0.007001638412475586\n",
      "sort time:0.004000663757324219\n",
      "prediction time:0.008001565933227539\n",
      "sort time:0.0030007362365722656\n",
      "prediction time:0.007001638412475586\n",
      "sort time:0.0030007362365722656\n",
      "prediction time:0.006001472473144531\n",
      "sort time:0.00400090217590332\n",
      "prediction time:0.008002281188964844\n",
      "sort time:0.0030002593994140625\n",
      "prediction time:0.008002042770385742\n",
      "sort time:0.0030002593994140625\n",
      "prediction time:0.008002042770385742\n",
      "sort time:0.0030002593994140625\n",
      "prediction time:0.007001638412475586\n",
      "sort time:0.003000974655151367\n",
      "prediction time:0.007001638412475586\n",
      "sort time:0.00400090217590332\n",
      "prediction time:0.008002281188964844\n",
      "sort time:0.0030002593994140625\n",
      "prediction time:0.007001638412475586\n",
      "sort time:0.003000497817993164\n",
      "prediction time:0.0070018768310546875\n",
      "sort time:0.0030002593994140625\n",
      "prediction time:0.007001638412475586\n",
      "sort time:0.004001140594482422\n"
     ]
    },
    {
     "name": "stderr",
     "output_type": "stream",
     "text": [
      "\r",
      "  1%|▋                                                            | 2358/199549 [00:32<47:11, 69.63it/s]"
     ]
    },
    {
     "name": "stdout",
     "output_type": "stream",
     "text": [
      "prediction time:0.0070018768310546875\n",
      "sort time:0.004001617431640625\n",
      "prediction time:0.007001638412475586\n",
      "sort time:0.004000663757324219\n",
      "prediction time:0.00800180435180664\n",
      "sort time:0.003000974655151367\n",
      "prediction time:0.007001638412475586\n",
      "sort time:0.0030007362365722656\n",
      "prediction time:0.00800180435180664\n",
      "sort time:0.003000497817993164\n",
      "prediction time:0.006001710891723633\n",
      "sort time:0.0030007362365722656\n",
      "prediction time:0.006001472473144531\n",
      "sort time:0.00400090217590332\n",
      "prediction time:0.008002042770385742\n",
      "sort time:0.0030007362365722656\n",
      "prediction time:0.007001399993896484\n",
      "sort time:0.0030007362365722656\n",
      "prediction time:0.00800180435180664\n",
      "sort time:0.003000497817993164\n",
      "prediction time:0.007001638412475586\n",
      "sort time:0.0030007362365722656\n",
      "prediction time:0.0070018768310546875\n",
      "sort time:0.003000497817993164\n",
      "prediction time:0.00800180435180664\n",
      "sort time:0.0030007362365722656\n",
      "prediction time:0.00800180435180664\n",
      "sort time:0.003000497817993164"
     ]
    },
    {
     "name": "stderr",
     "output_type": "stream",
     "text": [
      "  1%|▋                                                            | 2374/199549 [00:32<45:23, 72.40it/s]"
     ]
    },
    {
     "name": "stdout",
     "output_type": "stream",
     "text": [
      "\n",
      "prediction time:0.007001161575317383\n",
      "sort time:0.003000974655151367\n",
      "prediction time:0.006001472473144531\n",
      "sort time:0.0040013790130615234\n",
      "prediction time:0.007001638412475586\n",
      "sort time:0.003000497817993164\n",
      "prediction time:0.00600123405456543\n",
      "sort time:0.0030007362365722656\n",
      "prediction time:0.007001399993896484\n",
      "sort time:0.004001140594482422\n",
      "prediction time:0.007001399993896484\n",
      "sort time:0.0030007362365722656\n",
      "prediction time:0.00800180435180664\n",
      "sort time:0.003000497817993164\n",
      "prediction time:0.007001638412475586\n",
      "sort time:0.003000497817993164\n",
      "prediction time:0.007001638412475586\n",
      "sort time:0.003000497817993164\n",
      "prediction time:0.006001472473144531\n",
      "sort time:0.003000497817993164\n",
      "prediction time:0.007001638412475586\n",
      "sort time:0.0030012130737304688\n",
      "prediction time:0.00800180435180664\n",
      "sort time:0.004000663757324219\n",
      "prediction time:0.007001638412475586\n",
      "sort time:0.003000974655151367\n",
      "prediction time:0.009001493453979492\n",
      "sort time:0.003000974655151367\n"
     ]
    },
    {
     "name": "stderr",
     "output_type": "stream",
     "text": [
      "  1%|▋                                                            | 2390/199549 [00:32<45:20, 72.48it/s]"
     ]
    },
    {
     "name": "stdout",
     "output_type": "stream",
     "text": [
      "prediction time:0.008002042770385742\n",
      "sort time:0.004000663757324219\n",
      "prediction time:0.008002281188964844\n",
      "sort time:0.0030002593994140625\n",
      "prediction time:0.008001089096069336\n",
      "sort time:0.0030014514923095703\n",
      "prediction time:0.008001565933227539\n",
      "sort time:0.003000974655151367\n",
      "prediction time:0.007001638412475586\n",
      "sort time:0.0030007362365722656\n",
      "prediction time:0.007001399993896484\n",
      "sort time:0.0030007362365722656\n",
      "prediction time:0.00600123405456543\n",
      "sort time:0.003000497817993164\n",
      "prediction time:0.0070018768310546875\n",
      "sort time:0.003000497817993164\n",
      "prediction time:0.008001565933227539\n",
      "sort time:0.0030007362365722656\n",
      "prediction time:0.006001472473144531\n",
      "sort time:0.003000497817993164\n",
      "prediction time:0.00800180435180664\n",
      "sort time:0.00400090217590332\n",
      "prediction time:0.007001638412475586\n",
      "sort time:0.0030007362365722656\n",
      "prediction time:0.007001638412475586\n",
      "sort time:0.004000663757324219\n",
      "prediction time:0.008002042770385742\n"
     ]
    },
    {
     "name": "stderr",
     "output_type": "stream",
     "text": [
      "\r",
      "  1%|▋                                                            | 2398/199549 [00:32<46:02, 71.38it/s]"
     ]
    },
    {
     "name": "stdout",
     "output_type": "stream",
     "text": [
      "sort time:0.003000974655151367\n",
      "prediction time:0.009002447128295898\n",
      "sort time:0.00400090217590332\n",
      "prediction time:0.007001638412475586\n",
      "sort time:0.004000425338745117\n",
      "prediction time:0.007001161575317383\n",
      "sort time:0.0030007362365722656\n",
      "prediction time:0.00800180435180664\n",
      "sort time:0.003000974655151367\n",
      "prediction time:0.00800180435180664\n",
      "sort time:0.0040013790130615234\n",
      "prediction time:0.010001897811889648\n",
      "sort time:0.0040013790130615234\n",
      "prediction time:0.007000923156738281\n",
      "sort time:0.005001544952392578\n",
      "prediction time:0.009001970291137695\n",
      "sort time:0.004001140594482422\n",
      "prediction time:0.0070018768310546875\n",
      "sort time:0.004000663757324219\n",
      "prediction time:0.013003110885620117\n",
      "sort time:0.005001544952392578\n",
      "prediction time:0.007001161575317383\n",
      "sort time:0.0030007362365722656"
     ]
    },
    {
     "name": "stderr",
     "output_type": "stream",
     "text": [
      "  1%|▋                                                            | 2413/199549 [00:33<49:54, 65.83it/s]"
     ]
    },
    {
     "name": "stdout",
     "output_type": "stream",
     "text": [
      "\n",
      "prediction time:0.007001161575317383\n",
      "sort time:0.0030012130737304688\n",
      "prediction time:0.008002042770385742\n",
      "sort time:0.004001140594482422\n",
      "prediction time:0.0070018768310546875\n",
      "sort time:0.00400090217590332\n",
      "prediction time:0.009001493453979492\n",
      "sort time:0.004001140594482422\n",
      "prediction time:0.007001399993896484\n",
      "sort time:0.003000497817993164\n",
      "prediction time:0.008002042770385742\n",
      "sort time:0.003999948501586914\n",
      "prediction time:0.007001161575317383\n",
      "sort time:0.004000663757324219\n",
      "prediction time:0.007001638412475586\n",
      "sort time:0.003000974655151367\n",
      "prediction time:0.007001638412475586\n",
      "sort time:0.00400090217590332\n",
      "prediction time:0.00800180435180664\n",
      "sort time:0.0030007362365722656\n",
      "prediction time:0.00800180435180664\n",
      "sort time:0.0030012130737304688\n",
      "prediction time:0.00800180435180664\n",
      "sort time:0.00400090217590332\n",
      "prediction time:0.007001638412475586\n"
     ]
    },
    {
     "name": "stderr",
     "output_type": "stream",
     "text": [
      "  1%|▋                                                            | 2428/199549 [00:33<47:43, 68.84it/s]"
     ]
    },
    {
     "name": "stdout",
     "output_type": "stream",
     "text": [
      "sort time:0.00400090217590332\n",
      "prediction time:0.007000923156738281\n",
      "sort time:0.00400090217590332\n",
      "prediction time:0.00800180435180664\n",
      "sort time:0.004001140594482422\n",
      "prediction time:0.009001970291137695\n",
      "sort time:0.004001140594482422\n",
      "prediction time:0.007001638412475586\n",
      "sort time:0.0030007362365722656\n",
      "prediction time:0.007001399993896484\n",
      "sort time:0.00400090217590332\n",
      "prediction time:0.00600123405456543\n",
      "sort time:0.003000497817993164\n",
      "prediction time:0.00600123405456543\n",
      "sort time:0.003000497817993164\n",
      "prediction time:0.0070018768310546875\n",
      "sort time:0.003099679946899414\n",
      "prediction time:0.008002281188964844\n",
      "sort time:0.0030007362365722656\n",
      "prediction time:0.007002115249633789\n",
      "sort time:0.003000974655151367\n",
      "prediction time:0.00800180435180664\n",
      "sort time:0.0030007362365722656\n",
      "prediction time:0.008001565933227539\n",
      "sort time:0.003000497817993164\n",
      "prediction time:0.008002042770385742\n",
      "sort time:0.0030007362365722656"
     ]
    },
    {
     "name": "stderr",
     "output_type": "stream",
     "text": [
      "  1%|▋                                                            | 2442/199549 [00:33<49:01, 67.01it/s]"
     ]
    },
    {
     "name": "stdout",
     "output_type": "stream",
     "text": [
      "\n",
      "prediction time:0.009002447128295898\n",
      "sort time:0.004000186920166016\n",
      "prediction time:0.007001399993896484\n",
      "sort time:0.003000497817993164\n",
      "prediction time:0.007001638412475586\n",
      "sort time:0.003000497817993164\n",
      "prediction time:0.008002042770385742\n",
      "sort time:0.004000663757324219\n",
      "prediction time:0.010001659393310547\n",
      "sort time:0.0030007362365722656\n",
      "prediction time:0.01000213623046875\n",
      "sort time:0.00400090217590332\n",
      "prediction time:0.007001638412475586\n",
      "sort time:0.00400090217590332\n",
      "prediction time:0.0070018768310546875\n",
      "sort time:0.0030007362365722656\n",
      "prediction time:0.0070018768310546875\n",
      "sort time:0.004001140594482422\n",
      "prediction time:0.0070018768310546875\n",
      "sort time:0.003000497817993164\n",
      "prediction time:0.00800180435180664\n",
      "sort time:0.003000497817993164\n",
      "prediction time:0.00800180435180664\n"
     ]
    },
    {
     "name": "stderr",
     "output_type": "stream",
     "text": [
      "\r",
      "  1%|▋                                                            | 2449/199549 [00:33<49:05, 66.90it/s]"
     ]
    },
    {
     "name": "stdout",
     "output_type": "stream",
     "text": [
      "sort time:0.004000663757324219\n",
      "prediction time:0.007001161575317383\n",
      "sort time:0.004001140594482422\n",
      "prediction time:0.00600123405456543\n",
      "sort time:0.004001140594482422\n",
      "prediction time:0.008002042770385742\n",
      "sort time:0.003000497817993164\n",
      "prediction time:0.008002042770385742\n",
      "sort time:0.004000663757324219\n",
      "prediction time:0.007001399993896484\n",
      "sort time:0.004001140594482422\n",
      "prediction time:0.00800180435180664\n",
      "sort time:0.00400090217590332\n",
      "prediction time:0.0070018768310546875\n",
      "sort time:0.00400090217590332\n",
      "prediction time:0.008001565933227539\n",
      "sort time:0.00400090217590332\n",
      "prediction time:0.00800180435180664\n",
      "sort time:0.0030007362365722656\n",
      "prediction time:0.008002042770385742\n",
      "sort time:0.00400090217590332\n",
      "prediction time:0.008002042770385742\n",
      "sort time:0.003000497817993164\n",
      "prediction time:0.009002208709716797\n",
      "sort time:0.003000974655151367\n",
      "prediction time:0.007001399993896484\n"
     ]
    },
    {
     "name": "stderr",
     "output_type": "stream",
     "text": [
      "  1%|▊                                                            | 2463/199549 [00:33<48:26, 67.81it/s]"
     ]
    },
    {
     "name": "stdout",
     "output_type": "stream",
     "text": [
      "sort time:0.00400090217590332\n",
      "prediction time:0.007001638412475586\n",
      "sort time:0.00400090217590332\n",
      "prediction time:0.00800180435180664\n",
      "sort time:0.004001617431640625\n",
      "prediction time:0.0070018768310546875\n",
      "sort time:0.004000663757324219\n",
      "prediction time:0.008001565933227539\n",
      "sort time:0.003000497817993164\n",
      "prediction time:0.007001161575317383\n",
      "sort time:0.003000974655151367\n",
      "prediction time:0.007001638412475586\n",
      "sort time:0.00400090217590332\n",
      "prediction time:0.007001638412475586\n",
      "sort time:0.00400090217590332\n",
      "prediction time:0.007001638412475586\n",
      "sort time:0.004001140594482422\n",
      "prediction time:0.00800180435180664\n",
      "sort time:0.004000663757324219\n",
      "prediction time:0.007001638412475586\n",
      "sort time:0.004000663757324219\n",
      "prediction time:0.007001161575317383\n",
      "sort time:0.0030002593994140625\n",
      "prediction time:0.007001399993896484\n",
      "sort time:0.0040013790130615234\n"
     ]
    },
    {
     "name": "stderr",
     "output_type": "stream",
     "text": [
      "  1%|▊                                                            | 2477/199549 [00:34<51:46, 63.44it/s]"
     ]
    },
    {
     "name": "stdout",
     "output_type": "stream",
     "text": [
      "prediction time:0.00800180435180664\n",
      "sort time:0.0030007362365722656\n",
      "prediction time:0.007001638412475586\n",
      "sort time:0.00400090217590332\n",
      "prediction time:0.00800180435180664\n",
      "sort time:0.0030007362365722656\n",
      "prediction time:0.008001327514648438\n",
      "sort time:0.005001544952392578\n",
      "prediction time:0.009002208709716797\n",
      "sort time:0.006000995635986328\n",
      "prediction time:0.007001638412475586\n",
      "sort time:0.004000425338745117\n",
      "prediction time:0.00800180435180664\n",
      "sort time:0.005001068115234375\n",
      "prediction time:0.009001970291137695\n",
      "sort time:0.004000663757324219\n",
      "prediction time:0.00800180435180664\n",
      "sort time:0.0050013065338134766\n",
      "prediction time:0.00800180435180664\n",
      "sort time:0.00400090217590332\n",
      "prediction time:0.009001731872558594\n"
     ]
    },
    {
     "name": "stderr",
     "output_type": "stream",
     "text": [
      "\r",
      "  1%|▊                                                            | 2484/199549 [00:34<53:07, 61.82it/s]"
     ]
    },
    {
     "name": "stdout",
     "output_type": "stream",
     "text": [
      "sort time:0.0050013065338134766\n",
      "prediction time:0.009001970291137695\n",
      "sort time:0.005001068115234375\n",
      "prediction time:0.008001327514648438\n",
      "sort time:0.005001068115234375\n",
      "prediction time:0.00800180435180664\n",
      "sort time:0.003000497817993164\n",
      "prediction time:0.008001327514648438\n",
      "sort time:0.0040013790130615234\n",
      "prediction time:0.00800180435180664\n",
      "sort time:0.00400090217590332\n",
      "prediction time:0.008002042770385742\n",
      "sort time:0.004001140594482422\n",
      "prediction time:0.007001638412475586\n",
      "sort time:0.003000497817993164\n",
      "prediction time:0.00800180435180664\n",
      "sort time:0.0030007362365722656\n",
      "prediction time:0.008001089096069336\n",
      "sort time:0.003000974655151367\n",
      "prediction time:0.006001472473144531\n",
      "sort time:0.003000497817993164\n",
      "prediction time:0.007001399993896484\n",
      "sort time:0.0030007362365722656\n",
      "prediction time:0.008002281188964844\n",
      "sort time:0.003000020980834961\n",
      "prediction time:0.007001161575317383\n"
     ]
    },
    {
     "name": "stderr",
     "output_type": "stream",
     "text": [
      "  1%|▊                                                            | 2500/199549 [00:34<48:46, 67.34it/s]"
     ]
    },
    {
     "name": "stdout",
     "output_type": "stream",
     "text": [
      "sort time:0.003000497817993164\n",
      "prediction time:0.0070018768310546875\n",
      "sort time:0.004000663757324219\n",
      "prediction time:0.007001638412475586\n",
      "sort time:0.003000974655151367\n",
      "prediction time:0.007001638412475586\n",
      "sort time:0.0030007362365722656\n",
      "prediction time:0.008002042770385742\n",
      "sort time:0.003000974655151367\n",
      "prediction time:0.00600123405456543\n",
      "sort time:0.0030002593994140625\n",
      "prediction time:0.008001327514648438\n",
      "sort time:0.003000497817993164\n",
      "prediction time:0.007001638412475586\n",
      "sort time:0.00400090217590332\n",
      "prediction time:0.007001161575317383\n",
      "sort time:0.003000497817993164\n",
      "prediction time:0.009002447128295898\n",
      "sort time:0.004000663757324219\n",
      "prediction time:0.007001638412475586\n",
      "sort time:0.004001140594482422\n",
      "prediction time:0.006001472473144531\n",
      "sort time:0.003000497817993164\n",
      "prediction time:0.007001399993896484\n",
      "sort time:0.00400090217590332\n",
      "prediction time:0.006000995635986328\n",
      "sort time:0.0030007362365722656"
     ]
    },
    {
     "name": "stderr",
     "output_type": "stream",
     "text": [
      "  1%|▊                                                            | 2514/199549 [00:34<48:05, 68.28it/s]"
     ]
    },
    {
     "name": "stdout",
     "output_type": "stream",
     "text": [
      "\n",
      "prediction time:0.009002447128295898\n",
      "sort time:0.0030002593994140625\n",
      "prediction time:0.008001565933227539\n",
      "sort time:0.003000497817993164\n",
      "prediction time:0.007001399993896484\n",
      "sort time:0.0030007362365722656\n",
      "prediction time:0.007001638412475586\n",
      "sort time:0.004001140594482422\n",
      "prediction time:0.009001970291137695\n",
      "sort time:0.0030007362365722656\n",
      "prediction time:0.00800180435180664\n",
      "sort time:0.003000497817993164\n",
      "prediction time:0.00800180435180664\n",
      "sort time:0.003000497817993164\n",
      "prediction time:0.006001472473144531\n",
      "sort time:0.0030007362365722656\n",
      "prediction time:0.00800180435180664\n",
      "sort time:0.0030002593994140625\n",
      "prediction time:0.00800180435180664\n",
      "sort time:0.0030002593994140625\n",
      "prediction time:0.007000923156738281\n",
      "sort time:0.0030007362365722656\n",
      "prediction time:0.007001638412475586\n",
      "sort time:0.0040013790130615234\n",
      "prediction time:0.007001638412475586\n"
     ]
    },
    {
     "name": "stderr",
     "output_type": "stream",
     "text": [
      "  1%|▊                                                            | 2528/199549 [00:34<48:13, 68.09it/s]"
     ]
    },
    {
     "name": "stdout",
     "output_type": "stream",
     "text": [
      "sort time:0.003000974655151367\n",
      "prediction time:0.007001638412475586\n",
      "sort time:0.004001140594482422\n",
      "prediction time:0.009002923965454102\n",
      "sort time:0.003000497817993164\n",
      "prediction time:0.00800180435180664\n",
      "sort time:0.0030007362365722656\n",
      "prediction time:0.007001399993896484\n",
      "sort time:0.0040013790130615234\n",
      "prediction time:0.009001731872558594\n",
      "sort time:0.003000974655151367\n",
      "prediction time:0.008002281188964844\n",
      "sort time:0.0030002593994140625\n",
      "prediction time:0.008001327514648438\n",
      "sort time:0.0030007362365722656\n",
      "prediction time:0.008001565933227539\n",
      "sort time:0.0030007362365722656\n",
      "prediction time:0.006001710891723633\n",
      "sort time:0.0030002593994140625\n",
      "prediction time:0.008001565933227539\n",
      "sort time:0.0030007362365722656\n",
      "prediction time:0.008002042770385742\n",
      "sort time:0.00400090217590332\n",
      "prediction time:0.006001472473144531\n",
      "sort time:0.004000663757324219\n",
      "prediction time:0.007001638412475586\n"
     ]
    },
    {
     "name": "stderr",
     "output_type": "stream",
     "text": [
      "\r",
      "  1%|▊                                                            | 2536/199549 [00:35<47:29, 69.14it/s]"
     ]
    },
    {
     "name": "stdout",
     "output_type": "stream",
     "text": [
      "sort time:0.003000497817993164\n",
      "prediction time:0.009002685546875\n",
      "sort time:0.004000425338745117\n",
      "prediction time:0.00800180435180664\n",
      "sort time:0.003000974655151367\n",
      "prediction time:0.00800180435180664\n",
      "sort time:0.003000497817993164\n",
      "prediction time:0.008001327514648438\n",
      "sort time:0.003000974655151367\n",
      "prediction time:0.00800180435180664\n",
      "sort time:0.003000497817993164\n",
      "prediction time:0.00800180435180664\n",
      "sort time:0.004001140594482422\n",
      "prediction time:0.007001638412475586\n",
      "sort time:0.003000497817993164\n",
      "prediction time:0.007001638412475586\n",
      "sort time:0.0030007362365722656\n",
      "prediction time:0.007001638412475586\n",
      "sort time:0.003000497817993164\n",
      "prediction time:0.007001638412475586\n",
      "sort time:0.0030007362365722656\n",
      "prediction time:0.00800180435180664\n",
      "sort time:0.003000497817993164\n",
      "prediction time:0.007001638412475586\n",
      "sort time:0.003000497817993164\n",
      "prediction time:0.00800180435180664\n"
     ]
    },
    {
     "name": "stderr",
     "output_type": "stream",
     "text": [
      "  1%|▊                                                            | 2551/199549 [00:35<49:49, 65.89it/s]"
     ]
    },
    {
     "name": "stdout",
     "output_type": "stream",
     "text": [
      "sort time:0.0030007362365722656\n",
      "prediction time:0.007001638412475586\n",
      "sort time:0.004001140594482422\n",
      "prediction time:0.007001638412475586\n",
      "sort time:0.00400090217590332\n",
      "prediction time:0.00800180435180664\n",
      "sort time:0.0040013790130615234\n",
      "prediction time:0.007001399993896484\n",
      "sort time:0.0040013790130615234\n",
      "prediction time:0.008001565933227539\n",
      "sort time:0.004001617431640625\n",
      "prediction time:0.0070018768310546875\n",
      "sort time:0.004001140594482422\n",
      "prediction time:0.010001897811889648\n",
      "sort time:0.004001140594482422\n",
      "prediction time:0.01600360870361328\n",
      "sort time:0.00400090217590332\n",
      "prediction time:0.017003297805786133\n",
      "sort time:0.0030007362365722656\n",
      "prediction time:0.00800180435180664\n"
     ]
    },
    {
     "name": "stderr",
     "output_type": "stream",
     "text": [
      "\r",
      "  1%|▊                                                            | 2558/199549 [00:35<55:04, 59.61it/s]"
     ]
    },
    {
     "name": "stdout",
     "output_type": "stream",
     "text": [
      "sort time:0.006001472473144531\n",
      "prediction time:0.008001089096069336\n",
      "sort time:0.00400090217590332\n",
      "prediction time:0.00800180435180664\n",
      "sort time:0.00400090217590332\n",
      "prediction time:0.00800180435180664\n",
      "sort time:0.004001140594482422\n",
      "prediction time:0.008001565933227539\n",
      "sort time:0.00400090217590332\n",
      "prediction time:0.008002281188964844\n",
      "sort time:0.003000497817993164\n",
      "prediction time:0.0070018768310546875\n",
      "sort time:0.004000186920166016\n",
      "prediction time:0.008001565933227539\n",
      "sort time:0.004000663757324219\n",
      "prediction time:0.008001565933227539\n",
      "sort time:0.003000974655151367\n",
      "prediction time:0.00800180435180664\n",
      "sort time:0.003000974655151367\n",
      "prediction time:0.009001731872558594\n",
      "sort time:0.0030007362365722656\n",
      "prediction time:0.007001638412475586\n"
     ]
    },
    {
     "name": "stderr",
     "output_type": "stream",
     "text": [
      "  1%|▊                                                            | 2572/199549 [00:35<54:07, 60.66it/s]"
     ]
    },
    {
     "name": "stdout",
     "output_type": "stream",
     "text": [
      "sort time:0.003000497817993164\n",
      "prediction time:0.009002208709716797\n",
      "sort time:0.00400090217590332\n",
      "prediction time:0.007001399993896484\n",
      "sort time:0.004001140594482422\n",
      "prediction time:0.008002042770385742\n",
      "sort time:0.004001140594482422\n",
      "prediction time:0.008002519607543945\n",
      "sort time:0.004000186920166016\n",
      "prediction time:0.00800180435180664\n",
      "sort time:0.004000663757324219\n",
      "prediction time:0.007001638412475586\n",
      "sort time:0.00400090217590332\n",
      "prediction time:0.010002374649047852\n",
      "sort time:0.004000425338745117\n",
      "prediction time:0.0070018768310546875\n",
      "sort time:0.004000425338745117\n",
      "prediction time:0.007001638412475586\n",
      "sort time:0.0030007362365722656\n",
      "prediction time:0.007001399993896484\n",
      "sort time:0.0030012130737304688\n",
      "prediction time:0.008002281188964844\n",
      "sort time:0.004000663757324219\n",
      "prediction time:0.008001565933227539\n",
      "sort time:0.0030007362365722656\n"
     ]
    },
    {
     "name": "stderr",
     "output_type": "stream",
     "text": [
      "  1%|▊                                                            | 2586/199549 [00:35<53:19, 61.57it/s]"
     ]
    },
    {
     "name": "stdout",
     "output_type": "stream",
     "text": [
      "prediction time:0.00800180435180664\n",
      "sort time:0.004001140594482422\n",
      "prediction time:0.009002447128295898\n",
      "sort time:0.004000663757324219\n",
      "prediction time:0.009002208709716797\n",
      "sort time:0.0050013065338134766\n",
      "prediction time:0.007000923156738281\n",
      "sort time:0.003000497817993164\n",
      "prediction time:0.006001710891723633\n",
      "sort time:0.003000974655151367\n",
      "prediction time:0.007001638412475586\n",
      "sort time:0.003000497817993164\n",
      "prediction time:0.00800180435180664\n",
      "sort time:0.00400090217590332\n",
      "prediction time:0.00800180435180664\n",
      "sort time:0.004000663757324219\n",
      "prediction time:0.00800180435180664\n",
      "sort time:0.004000425338745117\n",
      "prediction time:0.009001493453979492\n",
      "sort time:0.004000663757324219\n",
      "prediction time:0.007001638412475586\n",
      "sort time:0.0030002593994140625\n",
      "prediction time:0.007001638412475586\n"
     ]
    },
    {
     "name": "stderr",
     "output_type": "stream",
     "text": [
      "  1%|▊                                                            | 2600/199549 [00:36<52:52, 62.08it/s]"
     ]
    },
    {
     "name": "stdout",
     "output_type": "stream",
     "text": [
      "sort time:0.004000663757324219\n",
      "prediction time:0.008002042770385742\n",
      "sort time:0.004001140594482422\n",
      "prediction time:0.009002447128295898\n",
      "sort time:0.0030007362365722656\n",
      "prediction time:0.009001731872558594\n",
      "sort time:0.0030007362365722656\n",
      "prediction time:0.009001970291137695\n",
      "sort time:0.00400090217590332\n",
      "prediction time:0.0070018768310546875\n",
      "sort time:0.004000425338745117\n",
      "prediction time:0.00700068473815918\n",
      "sort time:0.004000425338745117\n",
      "prediction time:0.009001970291137695\n",
      "sort time:0.0030007362365722656\n",
      "prediction time:0.009001970291137695\n",
      "sort time:0.004000663757324219\n",
      "prediction time:0.009001731872558594\n",
      "sort time:0.00400090217590332\n",
      "prediction time:0.0070018768310546875\n",
      "sort time:0.003000974655151367\n",
      "prediction time:0.00800180435180664\n",
      "sort time:0.004000663757324219\n",
      "prediction time:0.009002208709716797\n"
     ]
    },
    {
     "name": "stderr",
     "output_type": "stream",
     "text": [
      "\r",
      "  1%|▊                                                            | 2607/199549 [00:36<53:19, 61.55it/s]"
     ]
    },
    {
     "name": "stdout",
     "output_type": "stream",
     "text": [
      "sort time:0.0050013065338134766\n",
      "prediction time:0.007000923156738281\n",
      "sort time:0.0040018558502197266\n",
      "prediction time:0.009001970291137695\n",
      "sort time:0.0030002593994140625\n",
      "prediction time:0.008001565933227539\n",
      "sort time:0.003000974655151367\n",
      "prediction time:0.008002519607543945\n",
      "sort time:0.004000425338745117\n",
      "prediction time:0.009002208709716797\n",
      "sort time:0.00400090217590332\n",
      "prediction time:0.007001638412475586\n",
      "sort time:0.003000974655151367\n",
      "prediction time:0.00800180435180664\n",
      "sort time:0.0040013790130615234\n",
      "prediction time:0.007001638412475586\n",
      "sort time:0.004001140594482422\n",
      "prediction time:0.007001399993896484\n",
      "sort time:0.004000663757324219\n",
      "prediction time:0.007001399993896484\n",
      "sort time:0.004001140594482422\n",
      "prediction time:0.008001327514648438\n",
      "sort time:0.00400090217590332\n"
     ]
    },
    {
     "name": "stderr",
     "output_type": "stream",
     "text": [
      "  1%|▊                                                            | 2621/199549 [00:36<56:19, 58.26it/s]"
     ]
    },
    {
     "name": "stdout",
     "output_type": "stream",
     "text": [
      "prediction time:0.008002042770385742\n",
      "sort time:0.004000425338745117\n",
      "prediction time:0.007001638412475586\n",
      "sort time:0.0030007362365722656\n",
      "prediction time:0.009001970291137695\n",
      "sort time:0.003999948501586914\n",
      "prediction time:0.007001399993896484\n",
      "sort time:0.005001544952392578\n",
      "prediction time:0.008002281188964844\n",
      "sort time:0.005001068115234375\n",
      "prediction time:0.009001731872558594\n",
      "sort time:0.0050013065338134766\n",
      "prediction time:0.01400303840637207\n",
      "sort time:0.006001472473144531\n",
      "prediction time:0.009002208709716797\n",
      "sort time:0.004000425338745117\n",
      "prediction time:0.008001089096069336\n",
      "sort time:0.004000663757324219\n",
      "prediction time:0.00800180435180664\n",
      "sort time:0.00400090217590332\n",
      "prediction time:0.008002042770385742\n",
      "sort time:0.0040013790130615234\n"
     ]
    },
    {
     "name": "stderr",
     "output_type": "stream",
     "text": [
      "  1%|▊                                                            | 2634/199549 [00:36<54:48, 59.88it/s]"
     ]
    },
    {
     "name": "stdout",
     "output_type": "stream",
     "text": [
      "prediction time:0.009001731872558594\n",
      "sort time:0.004001140594482422\n",
      "prediction time:0.009002447128295898\n",
      "sort time:0.004000186920166016\n",
      "prediction time:0.008001565933227539\n",
      "sort time:0.003000497817993164\n",
      "prediction time:0.00800180435180664\n",
      "sort time:0.004001140594482422\n",
      "prediction time:0.0070018768310546875\n",
      "sort time:0.004000663757324219\n",
      "prediction time:0.00800180435180664\n",
      "sort time:0.0030002593994140625\n",
      "prediction time:0.00800180435180664\n",
      "sort time:0.003000974655151367\n",
      "prediction time:0.007001399993896484\n",
      "sort time:0.004001140594482422\n",
      "prediction time:0.009002208709716797\n",
      "sort time:0.004000663757324219\n",
      "prediction time:0.008002042770385742\n",
      "sort time:0.0030002593994140625\n",
      "prediction time:0.00800180435180664\n",
      "sort time:0.0040013790130615234\n",
      "prediction time:0.007001638412475586\n",
      "sort time:0.004000663757324219\n",
      "prediction time:0.007001638412475586\n"
     ]
    },
    {
     "name": "stderr",
     "output_type": "stream",
     "text": [
      "\r",
      "  1%|▊                                                            | 2641/199549 [00:36<53:40, 61.14it/s]"
     ]
    },
    {
     "name": "stdout",
     "output_type": "stream",
     "text": [
      "sort time:0.004000425338745117\n",
      "prediction time:0.007001638412475586\n",
      "sort time:0.00400090217590332\n",
      "prediction time:0.007002353668212891\n",
      "sort time:0.0029997825622558594\n",
      "prediction time:0.007000923156738281\n",
      "sort time:0.004001140594482422\n",
      "prediction time:0.008001327514648438\n",
      "sort time:0.0030007362365722656\n",
      "prediction time:0.007001399993896484\n",
      "sort time:0.0040013790130615234\n",
      "prediction time:0.008002042770385742\n",
      "sort time:0.00400090217590332\n",
      "prediction time:0.008002281188964844\n",
      "sort time:0.004000425338745117\n",
      "prediction time:0.00600123405456543\n",
      "sort time:0.004000663757324219\n",
      "prediction time:0.008001327514648438\n",
      "sort time:0.0040013790130615234\n",
      "prediction time:0.007001161575317383\n",
      "sort time:0.003000974655151367\n",
      "prediction time:0.00800180435180664\n",
      "sort time:0.003000497817993164\n",
      "prediction time:0.007001399993896484\n",
      "sort time:0.0030007362365722656\n"
     ]
    },
    {
     "name": "stderr",
     "output_type": "stream",
     "text": [
      "  1%|▊                                                            | 2655/199549 [00:36<50:42, 64.72it/s]"
     ]
    },
    {
     "name": "stdout",
     "output_type": "stream",
     "text": [
      "prediction time:0.009001970291137695\n",
      "sort time:0.004001140594482422\n",
      "prediction time:0.008002042770385742\n",
      "sort time:0.003000020980834961\n",
      "prediction time:0.00600123405456543\n",
      "sort time:0.003000497817993164\n",
      "prediction time:0.00800180435180664\n",
      "sort time:0.0030007362365722656\n",
      "prediction time:0.00800180435180664\n",
      "sort time:0.0030007362365722656\n",
      "prediction time:0.00800180435180664\n",
      "sort time:0.0030002593994140625\n",
      "prediction time:0.007001399993896484\n",
      "sort time:0.003000497817993164\n",
      "prediction time:0.007001399993896484\n",
      "sort time:0.0030007362365722656\n",
      "prediction time:0.007001399993896484\n",
      "sort time:0.004001140594482422\n",
      "prediction time:0.007001638412475586\n",
      "sort time:0.004000663757324219\n",
      "prediction time:0.007001399993896484\n",
      "sort time:0.003000974655151367\n",
      "prediction time:0.007001399993896484\n",
      "sort time:0.0030007362365722656\n",
      "prediction time:0.007001638412475586\n",
      "sort time:0.003000497817993164\n",
      "prediction time:0.00800180435180664\n"
     ]
    },
    {
     "name": "stderr",
     "output_type": "stream",
     "text": [
      "  1%|▊                                                            | 2671/199549 [00:37<48:11, 68.08it/s]"
     ]
    },
    {
     "name": "stdout",
     "output_type": "stream",
     "text": [
      "sort time:0.004001140594482422\n",
      "prediction time:0.007001638412475586\n",
      "sort time:0.0030007362365722656\n",
      "prediction time:0.007001638412475586\n",
      "sort time:0.004001140594482422\n",
      "prediction time:0.00800180435180664\n",
      "sort time:0.00400090217590332\n",
      "prediction time:0.007001399993896484\n",
      "sort time:0.0030007362365722656\n",
      "prediction time:0.00800180435180664\n",
      "sort time:0.003000497817993164\n",
      "prediction time:0.007001638412475586\n",
      "sort time:0.003000497817993164\n",
      "prediction time:0.007002115249633789\n",
      "sort time:0.0030002593994140625\n",
      "prediction time:0.007001399993896484\n",
      "sort time:0.003000497817993164\n",
      "prediction time:0.0070018768310546875\n",
      "sort time:0.003000497817993164\n",
      "prediction time:0.00800180435180664\n",
      "sort time:0.0030012130737304688\n",
      "prediction time:0.00600123405456543\n",
      "sort time:0.00400090217590332\n",
      "prediction time:0.007001638412475586\n",
      "sort time:0.003000497817993164\n",
      "prediction time:0.007000446319580078\n",
      "sort time:0.0030007362365722656"
     ]
    },
    {
     "name": "stderr",
     "output_type": "stream",
     "text": [
      "  1%|▊                                                            | 2685/199549 [00:37<48:19, 67.90it/s]"
     ]
    },
    {
     "name": "stdout",
     "output_type": "stream",
     "text": [
      "\n",
      "prediction time:0.007001638412475586\n",
      "sort time:0.0040013790130615234\n",
      "prediction time:0.00800180435180664\n",
      "sort time:0.003000497817993164\n",
      "prediction time:0.007001638412475586\n",
      "sort time:0.003000497817993164\n",
      "prediction time:0.00800180435180664\n",
      "sort time:0.0040013790130615234\n",
      "prediction time:0.007001638412475586\n",
      "sort time:0.0030007362365722656\n",
      "prediction time:0.007001161575317383\n",
      "sort time:0.003000974655151367\n",
      "prediction time:0.00800180435180664\n",
      "sort time:0.003000497817993164\n",
      "prediction time:0.0070018768310546875\n",
      "sort time:0.003000497817993164\n",
      "prediction time:0.008001565933227539\n",
      "sort time:0.0030007362365722656\n",
      "prediction time:0.0070018768310546875\n",
      "sort time:0.003000974655151367\n",
      "prediction time:0.010002613067626953\n",
      "sort time:0.0030007362365722656\n",
      "prediction time:0.0070018768310546875\n"
     ]
    },
    {
     "name": "stderr",
     "output_type": "stream",
     "text": [
      "\r",
      "  1%|▊                                                            | 2692/199549 [00:37<53:32, 61.29it/s]"
     ]
    },
    {
     "name": "stdout",
     "output_type": "stream",
     "text": [
      "sort time:0.0050008296966552734\n",
      "prediction time:0.015003681182861328\n",
      "sort time:0.004001140594482422\n",
      "prediction time:0.007001638412475586\n",
      "sort time:0.00400090217590332\n",
      "prediction time:0.008001327514648438\n",
      "sort time:0.004001140594482422\n",
      "prediction time:0.01600360870361328\n",
      "sort time:0.005001068115234375\n",
      "prediction time:0.009002923965454102\n",
      "sort time:0.004000663757324219\n",
      "prediction time:0.008000612258911133\n",
      "sort time:0.004001140594482422\n",
      "prediction time:0.0070018768310546875\n",
      "sort time:0.004000663757324219\n",
      "prediction time:0.008002281188964844\n",
      "sort time:0.003000497817993164\n",
      "prediction time:0.007001399993896484\n",
      "sort time:0.003000497817993164\n",
      "prediction time:0.007001638412475586\n",
      "sort time:0.003000497817993164\n",
      "prediction time:0.007001399993896484\n",
      "sort time:0.0030007362365722656"
     ]
    },
    {
     "name": "stderr",
     "output_type": "stream",
     "text": [
      "  1%|▊                                                            | 2706/199549 [00:37<50:24, 65.08it/s]"
     ]
    },
    {
     "name": "stdout",
     "output_type": "stream",
     "text": [
      "\n",
      "prediction time:0.009002447128295898\n",
      "sort time:0.0030002593994140625\n",
      "prediction time:0.0070018768310546875\n",
      "sort time:0.00400090217590332\n",
      "prediction time:0.00800180435180664\n",
      "sort time:0.004001140594482422\n",
      "prediction time:0.008002042770385742\n",
      "sort time:0.0030007362365722656\n",
      "prediction time:0.007001638412475586\n",
      "sort time:0.00400090217590332\n",
      "prediction time:0.00800180435180664\n",
      "sort time:0.0030007362365722656\n",
      "prediction time:0.007001638412475586\n",
      "sort time:0.0040013790130615234\n",
      "prediction time:0.00800180435180664\n",
      "sort time:0.0030007362365722656\n",
      "prediction time:0.009001970291137695\n",
      "sort time:0.0030007362365722656\n",
      "prediction time:0.008001565933227539\n",
      "sort time:0.003000974655151367\n",
      "prediction time:0.007001638412475586\n",
      "sort time:0.0030012130737304688\n",
      "prediction time:0.00800180435180664\n",
      "sort time:0.003000497817993164\n",
      "prediction time:0.00600123405456543\n",
      "sort time:0.0030007362365722656"
     ]
    },
    {
     "name": "stderr",
     "output_type": "stream",
     "text": [
      "  1%|▊                                                            | 2721/199549 [00:37<48:19, 67.87it/s]"
     ]
    },
    {
     "name": "stdout",
     "output_type": "stream",
     "text": [
      "\n",
      "prediction time:0.007001638412475586\n",
      "sort time:0.004000663757324219\n",
      "prediction time:0.007002115249633789\n",
      "sort time:0.003000497817993164\n",
      "prediction time:0.008002042770385742\n",
      "sort time:0.004000425338745117\n",
      "prediction time:0.008002042770385742\n",
      "sort time:0.00400090217590332\n",
      "prediction time:0.008001565933227539\n",
      "sort time:0.0030007362365722656\n",
      "prediction time:0.007001638412475586\n",
      "sort time:0.0030002593994140625\n",
      "prediction time:0.00700068473815918\n",
      "sort time:0.0030007362365722656\n",
      "prediction time:0.007001638412475586\n",
      "sort time:0.0030007362365722656\n",
      "prediction time:0.00800180435180664\n",
      "sort time:0.0030007362365722656\n",
      "prediction time:0.007001638412475586\n",
      "sort time:0.0030007362365722656\n",
      "prediction time:0.007001638412475586\n",
      "sort time:0.004000663757324219\n",
      "prediction time:0.007001638412475586\n",
      "sort time:0.004000663757324219\n",
      "prediction time:0.006001472473144531\n",
      "sort time:0.0030007362365722656"
     ]
    },
    {
     "name": "stderr",
     "output_type": "stream",
     "text": [
      "  1%|▊                                                            | 2736/199549 [00:38<47:08, 69.58it/s]"
     ]
    },
    {
     "name": "stdout",
     "output_type": "stream",
     "text": [
      "\n",
      "prediction time:0.0070018768310546875\n",
      "sort time:0.0030007362365722656\n",
      "prediction time:0.008002042770385742\n",
      "sort time:0.00400090217590332\n",
      "prediction time:0.007001638412475586\n",
      "sort time:0.003000497817993164\n",
      "prediction time:0.0070018768310546875\n",
      "sort time:0.00400090217590332\n",
      "prediction time:0.00600123405456543\n",
      "sort time:0.00400090217590332\n",
      "prediction time:0.00800180435180664\n",
      "sort time:0.00400090217590332\n",
      "prediction time:0.007001399993896484\n",
      "sort time:0.003000974655151367\n",
      "prediction time:0.0070018768310546875\n",
      "sort time:0.004001140594482422\n",
      "prediction time:0.0070018768310546875\n",
      "sort time:0.004000425338745117\n",
      "prediction time:0.0060024261474609375\n",
      "sort time:0.0039997100830078125\n",
      "prediction time:0.008001565933227539\n",
      "sort time:0.0030007362365722656\n",
      "prediction time:0.008001565933227539\n",
      "sort time:0.003000974655151367\n",
      "prediction time:0.008001565933227539\n",
      "sort time:0.004001140594482422"
     ]
    },
    {
     "name": "stderr",
     "output_type": "stream",
     "text": [
      "\r",
      "  1%|▊                                                            | 2743/199549 [00:38<47:19, 69.30it/s]"
     ]
    },
    {
     "name": "stdout",
     "output_type": "stream",
     "text": [
      "\n",
      "prediction time:0.007001638412475586\n",
      "sort time:0.00400090217590332\n",
      "prediction time:0.007001638412475586\n",
      "sort time:0.003000497817993164\n",
      "prediction time:0.00800180435180664\n",
      "sort time:0.0030007362365722656\n",
      "prediction time:0.006000995635986328\n",
      "sort time:0.0030007362365722656\n",
      "prediction time:0.00800180435180664\n",
      "sort time:0.0030007362365722656\n",
      "prediction time:0.00800180435180664\n",
      "sort time:0.003000497817993164\n",
      "prediction time:0.00800180435180664\n",
      "sort time:0.0040013790130615234\n",
      "prediction time:0.00800180435180664\n",
      "sort time:0.0030007362365722656\n",
      "prediction time:0.006001472473144531\n",
      "sort time:0.003000497817993164\n",
      "prediction time:0.007001638412475586\n",
      "sort time:0.0030007362365722656\n",
      "prediction time:0.0070018768310546875\n",
      "sort time:0.00400090217590332\n",
      "prediction time:0.00800180435180664\n",
      "sort time:0.0030007362365722656\n",
      "prediction time:0.007001399993896484\n"
     ]
    },
    {
     "name": "stderr",
     "output_type": "stream",
     "text": [
      "  1%|▊                                                            | 2757/199549 [00:38<48:39, 67.40it/s]"
     ]
    },
    {
     "name": "stdout",
     "output_type": "stream",
     "text": [
      "sort time:0.004000663757324219\n",
      "prediction time:0.009001970291137695\n",
      "sort time:0.004000663757324219\n",
      "prediction time:0.008001565933227539\n",
      "sort time:0.0030002593994140625\n",
      "prediction time:0.00800180435180664\n",
      "sort time:0.004000425338745117\n",
      "prediction time:0.00800180435180664\n",
      "sort time:0.0030007362365722656\n",
      "prediction time:0.007995367050170898\n",
      "sort time:0.0030007362365722656\n",
      "prediction time:0.007001638412475586\n",
      "sort time:0.004001140594482422\n",
      "prediction time:0.006001472473144531\n",
      "sort time:0.003000974655151367\n",
      "prediction time:0.008001565933227539\n",
      "sort time:0.00400090217590332\n",
      "prediction time:0.0070018768310546875\n",
      "sort time:0.004001140594482422\n",
      "prediction time:0.00800180435180664\n",
      "sort time:0.00400090217590332\n",
      "prediction time:0.009002447128295898\n",
      "sort time:0.004000663757324219\n",
      "prediction time:0.012002229690551758\n"
     ]
    },
    {
     "name": "stderr",
     "output_type": "stream",
     "text": [
      "  1%|▊                                                            | 2771/199549 [00:38<51:05, 64.19it/s]"
     ]
    },
    {
     "name": "stdout",
     "output_type": "stream",
     "text": [
      "sort time:0.007002115249633789\n",
      "prediction time:0.00900125503540039\n",
      "sort time:0.005001068115234375\n",
      "prediction time:0.00800180435180664\n",
      "sort time:0.00400090217590332\n",
      "prediction time:0.009002208709716797\n",
      "sort time:0.004000663757324219\n",
      "prediction time:0.00800180435180664\n",
      "sort time:0.0030007362365722656\n",
      "prediction time:0.008001565933227539\n",
      "sort time:0.0030007362365722656\n",
      "prediction time:0.007001638412475586\n",
      "sort time:0.004000186920166016\n",
      "prediction time:0.008001565933227539\n",
      "sort time:0.003000497817993164\n",
      "prediction time:0.007001638412475586\n",
      "sort time:0.0030007362365722656\n",
      "prediction time:0.00700068473815918\n",
      "sort time:0.0030002593994140625\n",
      "prediction time:0.008001089096069336\n",
      "sort time:0.004001140594482422\n",
      "prediction time:0.008002281188964844\n",
      "sort time:0.004000663757324219\n",
      "prediction time:0.007001638412475586\n"
     ]
    },
    {
     "name": "stderr",
     "output_type": "stream",
     "text": [
      "  1%|▊                                                            | 2786/199549 [00:38<48:33, 67.53it/s]"
     ]
    },
    {
     "name": "stdout",
     "output_type": "stream",
     "text": [
      "sort time:0.004001140594482422\n",
      "prediction time:0.009001970291137695\n",
      "sort time:0.003000497817993164\n",
      "prediction time:0.006001472473144531\n",
      "sort time:0.0030007362365722656\n",
      "prediction time:0.007001638412475586\n",
      "sort time:0.0030007362365722656\n",
      "prediction time:0.00800180435180664\n",
      "sort time:0.003000497817993164\n",
      "prediction time:0.007001399993896484\n",
      "sort time:0.004000663757324219\n",
      "prediction time:0.007001399993896484\n",
      "sort time:0.004000663757324219\n",
      "prediction time:0.00800180435180664\n",
      "sort time:0.003000974655151367\n",
      "prediction time:0.007001638412475586\n",
      "sort time:0.0030007362365722656\n",
      "prediction time:0.007001399993896484\n",
      "sort time:0.003000020980834961\n",
      "prediction time:0.007001638412475586\n",
      "sort time:0.003000497817993164\n",
      "prediction time:0.006001710891723633\n",
      "sort time:0.0030002593994140625\n",
      "prediction time:0.007001638412475586\n",
      "sort time:0.003000497817993164\n",
      "prediction time:0.008001565933227539\n",
      "sort time:0.0030007362365722656\n",
      "prediction time:0.00800180435180664\n"
     ]
    },
    {
     "name": "stderr",
     "output_type": "stream",
     "text": [
      "\r",
      "  1%|▊                                                            | 2793/199549 [00:39<48:28, 67.65it/s]"
     ]
    },
    {
     "name": "stdout",
     "output_type": "stream",
     "text": [
      "sort time:0.003000497817993164\n",
      "prediction time:0.007001399993896484\n",
      "sort time:0.0040013790130615234\n",
      "prediction time:0.00800180435180664\n",
      "sort time:0.0030007362365722656\n",
      "prediction time:0.00800180435180664\n",
      "sort time:0.0030007362365722656\n",
      "prediction time:0.00800180435180664\n",
      "sort time:0.003000497817993164\n",
      "prediction time:0.007001399993896484\n",
      "sort time:0.00400090217590332\n",
      "prediction time:0.007001638412475586\n",
      "sort time:0.004001140594482422\n",
      "prediction time:0.0070018768310546875\n",
      "sort time:0.004000425338745117\n",
      "prediction time:0.00800180435180664\n",
      "sort time:0.003000497817993164\n",
      "prediction time:0.00800180435180664\n",
      "sort time:0.0030007362365722656\n",
      "prediction time:0.007001638412475586\n",
      "sort time:0.003000497817993164\n",
      "prediction time:0.006001472473144531\n",
      "sort time:0.003000497817993164\n",
      "prediction time:0.006001472473144531\n",
      "sort time:0.003000497817993164\n",
      "prediction time:0.007001638412475586\n",
      "sort time:0.0030007362365722656"
     ]
    },
    {
     "name": "stderr",
     "output_type": "stream",
     "text": [
      "  1%|▊                                                            | 2809/199549 [00:39<46:50, 70.01it/s]"
     ]
    },
    {
     "name": "stdout",
     "output_type": "stream",
     "text": [
      "\n",
      "prediction time:0.008001565933227539\n",
      "sort time:0.003000497817993164\n",
      "prediction time:0.0070018768310546875\n",
      "sort time:0.003000974655151367\n",
      "prediction time:0.007001638412475586\n",
      "sort time:0.004000663757324219\n",
      "prediction time:0.007001161575317383\n",
      "sort time:0.003000974655151367\n",
      "prediction time:0.008002042770385742\n",
      "sort time:0.003000497817993164\n",
      "prediction time:0.007001638412475586\n",
      "sort time:0.003000497817993164\n",
      "prediction time:0.00800180435180664\n",
      "sort time:0.0030007362365722656\n",
      "prediction time:0.0070018768310546875\n",
      "sort time:0.003000497817993164\n",
      "prediction time:0.008002042770385742\n",
      "sort time:0.004000425338745117\n",
      "prediction time:0.0070018768310546875\n",
      "sort time:0.0030007362365722656\n",
      "prediction time:0.008002519607543945\n",
      "sort time:0.003000020980834961\n",
      "prediction time:0.007001399993896484\n",
      "sort time:0.003000497817993164\n",
      "prediction time:0.008001565933227539\n"
     ]
    },
    {
     "name": "stderr",
     "output_type": "stream",
     "text": [
      "  1%|▊                                                            | 2824/199549 [00:39<47:07, 69.57it/s]"
     ]
    },
    {
     "name": "stdout",
     "output_type": "stream",
     "text": [
      "sort time:0.004000663757324219\n",
      "prediction time:0.0070018768310546875\n",
      "sort time:0.004000663757324219\n",
      "prediction time:0.007001399993896484\n",
      "sort time:0.003000497817993164\n",
      "prediction time:0.0070018768310546875\n",
      "sort time:0.003000497817993164\n",
      "prediction time:0.0070018768310546875\n",
      "sort time:0.0030002593994140625\n",
      "prediction time:0.008002042770385742\n",
      "sort time:0.003000497817993164\n",
      "prediction time:0.00800180435180664\n",
      "sort time:0.004000425338745117\n",
      "prediction time:0.00800180435180664\n",
      "sort time:0.003000497817993164\n",
      "prediction time:0.00800180435180664\n",
      "sort time:0.003000974655151367\n",
      "prediction time:0.007001638412475586\n",
      "sort time:0.0030002593994140625\n",
      "prediction time:0.00800180435180664\n",
      "sort time:0.003000497817993164\n",
      "prediction time:0.009001970291137695\n",
      "sort time:0.0030007362365722656\n",
      "prediction time:0.006001472473144531\n",
      "sort time:0.00400090217590332\n",
      "prediction time:0.007001638412475586\n",
      "sort time:0.003000497817993164"
     ]
    },
    {
     "name": "stderr",
     "output_type": "stream",
     "text": [
      "\r",
      "  1%|▊                                                            | 2831/199549 [00:39<48:14, 67.95it/s]"
     ]
    },
    {
     "name": "stdout",
     "output_type": "stream",
     "text": [
      "\n",
      "prediction time:0.009001970291137695\n",
      "sort time:0.00400090217590332\n",
      "prediction time:0.008002042770385742\n",
      "sort time:0.003000974655151367\n",
      "prediction time:0.009002208709716797\n",
      "sort time:0.003000497817993164\n",
      "prediction time:0.007001161575317383\n",
      "sort time:0.004000663757324219\n",
      "prediction time:0.007001399993896484\n",
      "sort time:0.0030007362365722656\n",
      "prediction time:0.0070018768310546875\n",
      "sort time:0.004001140594482422\n",
      "prediction time:0.008001565933227539\n",
      "sort time:0.0030007362365722656\n",
      "prediction time:0.02100515365600586\n",
      "sort time:0.0040018558502197266\n",
      "prediction time:0.008001565933227539\n",
      "sort time:0.00400090217590332\n",
      "prediction time:0.009002208709716797\n",
      "sort time:0.00400090217590332\n",
      "prediction time:0.008001565933227539\n"
     ]
    },
    {
     "name": "stderr",
     "output_type": "stream",
     "text": [
      "  1%|▊                                                            | 2845/199549 [00:39<50:56, 64.36it/s]"
     ]
    },
    {
     "name": "stdout",
     "output_type": "stream",
     "text": [
      "sort time:0.004001140594482422\n",
      "prediction time:0.00800180435180664\n",
      "sort time:0.00400090217590332\n",
      "prediction time:0.007001638412475586\n",
      "sort time:0.0050013065338134766\n",
      "prediction time:0.00800180435180664\n",
      "sort time:0.0030007362365722656\n",
      "prediction time:0.00800180435180664\n",
      "sort time:0.003000497817993164\n",
      "prediction time:0.007001161575317383\n",
      "sort time:0.0030007362365722656\n",
      "prediction time:0.007001638412475586\n",
      "sort time:0.003000497817993164\n",
      "prediction time:0.006001472473144531\n",
      "sort time:0.003000497817993164\n",
      "prediction time:0.011003255844116211\n",
      "sort time:0.004000186920166016\n",
      "prediction time:0.0070018768310546875\n",
      "sort time:0.0030007362365722656\n",
      "prediction time:0.0070018768310546875\n",
      "sort time:0.0030007362365722656\n",
      "prediction time:0.007001399993896484\n",
      "sort time:0.0030007362365722656\n",
      "prediction time:0.007001638412475586\n",
      "sort time:0.003000497817993164\n"
     ]
    },
    {
     "name": "stderr",
     "output_type": "stream",
     "text": [
      "  1%|▊                                                            | 2860/199549 [00:40<48:26, 67.67it/s]"
     ]
    },
    {
     "name": "stdout",
     "output_type": "stream",
     "text": [
      "prediction time:0.009002208709716797\n",
      "sort time:0.004001617431640625\n",
      "prediction time:0.0070018768310546875\n",
      "sort time:0.003000974655151367\n",
      "prediction time:0.00800180435180664\n",
      "sort time:0.004001140594482422\n",
      "prediction time:0.00800180435180664\n",
      "sort time:0.003000974655151367\n",
      "prediction time:0.007002353668212891\n",
      "sort time:0.003000497817993164\n",
      "prediction time:0.008002042770385742\n",
      "sort time:0.003000497817993164\n",
      "prediction time:0.00800180435180664\n",
      "sort time:0.0030007362365722656\n",
      "prediction time:0.007001638412475586\n",
      "sort time:0.0030007362365722656\n",
      "prediction time:0.0070018768310546875\n",
      "sort time:0.00400090217590332\n",
      "prediction time:0.007002353668212891\n",
      "sort time:0.0029997825622558594\n",
      "prediction time:0.00800180435180664\n",
      "sort time:0.003000497817993164\n",
      "prediction time:0.007001638412475586\n",
      "sort time:0.0030007362365722656\n",
      "prediction time:0.00800180435180664\n",
      "sort time:0.003000497817993164\n",
      "prediction time:0.00800180435180664\n"
     ]
    },
    {
     "name": "stderr",
     "output_type": "stream",
     "text": [
      "  1%|▉                                                            | 2874/199549 [00:40<48:28, 67.61it/s]"
     ]
    },
    {
     "name": "stdout",
     "output_type": "stream",
     "text": [
      "sort time:0.003000497817993164\n",
      "prediction time:0.009001493453979492\n",
      "sort time:0.00400090217590332\n",
      "prediction time:0.00600123405456543\n",
      "sort time:0.0030007362365722656\n",
      "prediction time:0.008002042770385742\n",
      "sort time:0.0030002593994140625\n",
      "prediction time:0.008002758026123047\n",
      "sort time:0.004000663757324219\n",
      "prediction time:0.00800180435180664\n",
      "sort time:0.003000497817993164\n",
      "prediction time:0.00800180435180664\n",
      "sort time:0.003000974655151367\n",
      "prediction time:0.007001638412475586\n",
      "sort time:0.003000974655151367\n",
      "prediction time:0.007002353668212891\n",
      "sort time:0.003000020980834961\n",
      "prediction time:0.007001638412475586\n",
      "sort time:0.003000497817993164\n",
      "prediction time:0.008002042770385742\n",
      "sort time:0.004001140594482422\n",
      "prediction time:0.009001970291137695\n",
      "sort time:0.004001140594482422\n",
      "prediction time:0.007001638412475586\n",
      "sort time:0.004001140594482422"
     ]
    },
    {
     "name": "stderr",
     "output_type": "stream",
     "text": [
      "\r",
      "  1%|▉                                                            | 2881/199549 [00:40<49:05, 66.76it/s]"
     ]
    },
    {
     "name": "stdout",
     "output_type": "stream",
     "text": [
      "\n",
      "prediction time:0.008002042770385742\n",
      "sort time:0.004001140594482422\n",
      "prediction time:0.00800180435180664\n",
      "sort time:0.0030007362365722656\n",
      "prediction time:0.00800180435180664\n",
      "sort time:0.003000497817993164\n",
      "prediction time:0.008001565933227539\n",
      "sort time:0.003000974655151367\n",
      "prediction time:0.00800180435180664\n",
      "sort time:0.003000974655151367\n",
      "prediction time:0.0070018768310546875\n",
      "sort time:0.004001140594482422\n",
      "prediction time:0.009001493453979492\n",
      "sort time:0.003000974655151367\n",
      "prediction time:0.007001638412475586\n",
      "sort time:0.003000020980834961\n",
      "prediction time:0.007001638412475586\n",
      "sort time:0.0030007362365722656\n",
      "prediction time:0.007001638412475586\n",
      "sort time:0.003000974655151367\n",
      "prediction time:0.00800180435180664\n",
      "sort time:0.003000497817993164\n",
      "prediction time:0.007001638412475586\n",
      "sort time:0.00400090217590332\n",
      "prediction time:0.00600123405456543\n",
      "sort time:0.0030007362365722656"
     ]
    },
    {
     "name": "stderr",
     "output_type": "stream",
     "text": [
      "  1%|▉                                                            | 2896/199549 [00:40<47:42, 68.71it/s]"
     ]
    },
    {
     "name": "stdout",
     "output_type": "stream",
     "text": [
      "\n",
      "prediction time:0.007000923156738281\n",
      "sort time:0.004001140594482422\n",
      "prediction time:0.006001710891723633\n",
      "sort time:0.00400090217590332\n",
      "prediction time:0.007001161575317383\n",
      "sort time:0.0030007362365722656\n",
      "prediction time:0.007001638412475586\n",
      "sort time:0.004000663757324219\n",
      "prediction time:0.007001638412475586\n",
      "sort time:0.004000663757324219\n",
      "prediction time:0.0070018768310546875\n",
      "sort time:0.0030002593994140625\n",
      "prediction time:0.007001638412475586\n",
      "sort time:0.003000497817993164\n",
      "prediction time:0.007001399993896484\n",
      "sort time:0.003000974655151367\n",
      "prediction time:0.008002042770385742\n",
      "sort time:0.003000497817993164\n",
      "prediction time:0.009001970291137695\n",
      "sort time:0.004001140594482422\n",
      "prediction time:0.007001638412475586\n",
      "sort time:0.0030007362365722656\n",
      "prediction time:0.007001638412475586\n",
      "sort time:0.0030007362365722656\n",
      "prediction time:0.007001638412475586\n"
     ]
    },
    {
     "name": "stderr",
     "output_type": "stream",
     "text": [
      "  1%|▉                                                            | 2910/199549 [00:40<52:11, 62.80it/s]"
     ]
    },
    {
     "name": "stdout",
     "output_type": "stream",
     "text": [
      "sort time:0.004000663757324219\n",
      "prediction time:0.008002042770385742\n",
      "sort time:0.004000663757324219\n",
      "prediction time:0.009002447128295898\n",
      "sort time:0.004000425338745117\n",
      "prediction time:0.007002115249633789\n",
      "sort time:0.0030007362365722656\n",
      "prediction time:0.007001161575317383\n",
      "sort time:0.0040013790130615234\n",
      "prediction time:0.010003089904785156\n",
      "sort time:0.005000591278076172\n",
      "prediction time:0.013002395629882812\n",
      "sort time:0.004000663757324219\n",
      "prediction time:0.009002447128295898\n",
      "sort time:0.0050008296966552734\n",
      "prediction time:0.008002519607543945\n",
      "sort time:0.00400090217590332\n",
      "prediction time:0.00800180435180664\n",
      "sort time:0.004001617431640625\n",
      "prediction time:0.00700068473815918\n",
      "sort time:0.003000497817993164"
     ]
    },
    {
     "name": "stderr",
     "output_type": "stream",
     "text": [
      "  1%|▉                                                            | 2924/199549 [00:41<51:11, 64.02it/s]"
     ]
    },
    {
     "name": "stdout",
     "output_type": "stream",
     "text": [
      "\n",
      "prediction time:0.007001638412475586\n",
      "sort time:0.005001068115234375\n",
      "prediction time:0.008001089096069336\n",
      "sort time:0.0040013790130615234\n",
      "prediction time:0.00800180435180664\n",
      "sort time:0.003000497817993164\n",
      "prediction time:0.007001638412475586\n",
      "sort time:0.003000497817993164\n",
      "prediction time:0.00800180435180664\n",
      "sort time:0.0030007362365722656\n",
      "prediction time:0.009001970291137695\n",
      "sort time:0.0030019283294677734\n",
      "prediction time:0.00800180435180664\n",
      "sort time:0.0030007362365722656\n",
      "prediction time:0.008001565933227539\n",
      "sort time:0.0030002593994140625\n",
      "prediction time:0.007001638412475586\n",
      "sort time:0.003000974655151367\n",
      "prediction time:0.00800180435180664\n",
      "sort time:0.003000497817993164\n",
      "prediction time:0.007001638412475586\n",
      "sort time:0.00400090217590332\n",
      "prediction time:0.009002447128295898\n",
      "sort time:0.0030002593994140625\n"
     ]
    },
    {
     "name": "stderr",
     "output_type": "stream",
     "text": [
      "\r",
      "  1%|▉                                                            | 2931/199549 [00:41<52:32, 62.37it/s]"
     ]
    },
    {
     "name": "stdout",
     "output_type": "stream",
     "text": [
      "prediction time:0.008001565933227539\n",
      "sort time:0.0030007362365722656\n",
      "prediction time:0.009001970291137695\n",
      "sort time:0.005001068115234375\n",
      "prediction time:0.007001399993896484\n",
      "sort time:0.004000663757324219\n",
      "prediction time:0.007001399993896484\n",
      "sort time:0.003000497817993164\n",
      "prediction time:0.009002208709716797\n",
      "sort time:0.004000663757324219\n",
      "prediction time:0.007000923156738281\n",
      "sort time:0.004001140594482422\n",
      "prediction time:0.009001970291137695\n",
      "sort time:0.004000663757324219\n",
      "prediction time:0.008001565933227539\n",
      "sort time:0.00400090217590332\n",
      "prediction time:0.00800180435180664\n",
      "sort time:0.004000663757324219\n",
      "prediction time:0.008002042770385742\n",
      "sort time:0.0030002593994140625\n",
      "prediction time:0.0070018768310546875\n",
      "sort time:0.0030007362365722656\n",
      "prediction time:0.009001970291137695\n"
     ]
    },
    {
     "name": "stderr",
     "output_type": "stream",
     "text": [
      "  1%|▉                                                            | 2945/199549 [00:41<52:03, 62.95it/s]"
     ]
    },
    {
     "name": "stdout",
     "output_type": "stream",
     "text": [
      "sort time:0.004000663757324219\n",
      "prediction time:0.007001638412475586\n",
      "sort time:0.004001617431640625\n",
      "prediction time:0.00800180435180664\n",
      "sort time:0.003000497817993164\n",
      "prediction time:0.007001638412475586\n",
      "sort time:0.00400090217590332\n",
      "prediction time:0.00800180435180664\n",
      "sort time:0.00400090217590332\n",
      "prediction time:0.008002042770385742\n",
      "sort time:0.003000497817993164\n",
      "prediction time:0.008001089096069336\n",
      "sort time:0.003000974655151367\n",
      "prediction time:0.007001638412475586\n",
      "sort time:0.003000974655151367\n",
      "prediction time:0.007001161575317383\n",
      "sort time:0.0030007362365722656\n",
      "prediction time:0.007001399993896484\n",
      "sort time:0.003000974655151367\n",
      "prediction time:0.00800180435180664\n",
      "sort time:0.0030012130737304688\n",
      "prediction time:0.008002042770385742\n",
      "sort time:0.0030007362365722656\n",
      "prediction time:0.007001638412475586\n",
      "sort time:0.003000497817993164\n",
      "prediction time:0.007001638412475586\n",
      "sort time:0.0030007362365722656"
     ]
    },
    {
     "name": "stderr",
     "output_type": "stream",
     "text": [
      "  1%|▉                                                            | 2959/199549 [00:41<50:00, 65.51it/s]"
     ]
    },
    {
     "name": "stdout",
     "output_type": "stream",
     "text": [
      "\n",
      "prediction time:0.009001970291137695\n",
      "sort time:0.0030007362365722656\n",
      "prediction time:0.007000923156738281\n",
      "sort time:0.003000974655151367\n",
      "prediction time:0.00800180435180664\n",
      "sort time:0.0030002593994140625\n",
      "prediction time:0.00800180435180664\n",
      "sort time:0.00400090217590332\n",
      "prediction time:0.008001565933227539\n",
      "sort time:0.003000497817993164\n",
      "prediction time:0.007001638412475586\n",
      "sort time:0.004000663757324219\n",
      "prediction time:0.0070018768310546875\n",
      "sort time:0.00400090217590332\n",
      "prediction time:0.0070018768310546875\n",
      "sort time:0.003000497817993164\n",
      "prediction time:0.007002115249633789\n",
      "sort time:0.0030002593994140625\n",
      "prediction time:0.006001710891723633\n",
      "sort time:0.0030002593994140625\n",
      "prediction time:0.0070018768310546875\n",
      "sort time:0.004000663757324219\n",
      "prediction time:0.00800180435180664\n",
      "sort time:0.003000497817993164\n",
      "prediction time:0.007001638412475586\n"
     ]
    },
    {
     "name": "stderr",
     "output_type": "stream",
     "text": [
      "  1%|▉                                                            | 2973/199549 [00:41<50:34, 64.78it/s]"
     ]
    },
    {
     "name": "stdout",
     "output_type": "stream",
     "text": [
      "sort time:0.0030007362365722656\n",
      "prediction time:0.008002042770385742\n",
      "sort time:0.00400090217590332\n",
      "prediction time:0.00800180435180664\n",
      "sort time:0.0030007362365722656\n",
      "prediction time:0.007001638412475586\n",
      "sort time:0.003000497817993164\n",
      "prediction time:0.008002042770385742\n",
      "sort time:0.004000663757324219\n",
      "prediction time:0.007001638412475586\n",
      "sort time:0.004000663757324219\n",
      "prediction time:0.007003068923950195\n",
      "sort time:0.003999471664428711\n",
      "prediction time:0.007001638412475586\n",
      "sort time:0.003000974655151367\n",
      "prediction time:0.00800180435180664\n",
      "sort time:0.00400090217590332\n",
      "prediction time:0.007001638412475586\n",
      "sort time:0.00400090217590332\n",
      "prediction time:0.008001565933227539\n",
      "sort time:0.003000974655151367\n",
      "prediction time:0.008002042770385742\n",
      "sort time:0.0030007362365722656\n"
     ]
    },
    {
     "name": "stderr",
     "output_type": "stream",
     "text": [
      "\r",
      "  1%|▉                                                            | 2980/199549 [00:41<52:23, 62.53it/s]"
     ]
    },
    {
     "name": "stdout",
     "output_type": "stream",
     "text": [
      "prediction time:0.007002115249633789\n",
      "sort time:0.005001544952392578\n",
      "prediction time:0.00800180435180664\n",
      "sort time:0.00400090217590332\n",
      "prediction time:0.008002042770385742\n",
      "sort time:0.0040013790130615234\n",
      "prediction time:0.008002042770385742\n",
      "sort time:0.004000663757324219\n",
      "prediction time:0.008001565933227539\n",
      "sort time:0.004001140594482422\n",
      "prediction time:0.008001565933227539\n",
      "sort time:0.004001140594482422\n",
      "prediction time:0.007001161575317383\n",
      "sort time:0.0030007362365722656\n",
      "prediction time:0.007001638412475586\n",
      "sort time:0.004001140594482422\n",
      "prediction time:0.007001399993896484\n",
      "sort time:0.0050013065338134766\n",
      "prediction time:0.0070018768310546875\n",
      "sort time:0.004001617431640625\n",
      "prediction time:0.007001638412475586\n",
      "sort time:0.003000497817993164\n",
      "prediction time:0.00800180435180664\n",
      "sort time:0.0030007362365722656"
     ]
    },
    {
     "name": "stderr",
     "output_type": "stream",
     "text": [
      "  2%|▉                                                            | 2994/199549 [00:42<54:08, 60.50it/s]"
     ]
    },
    {
     "name": "stdout",
     "output_type": "stream",
     "text": [
      "\n",
      "prediction time:0.009002208709716797\n",
      "sort time:0.0050013065338134766\n",
      "prediction time:0.00800180435180664\n",
      "sort time:0.004000663757324219\n",
      "prediction time:0.008002042770385742\n",
      "sort time:0.004001140594482422\n",
      "prediction time:0.009001970291137695\n",
      "sort time:0.00400090217590332\n",
      "prediction time:0.00800180435180664\n",
      "sort time:0.0030012130737304688\n",
      "prediction time:0.010002374649047852\n",
      "sort time:0.004000663757324219\n",
      "prediction time:0.009001970291137695\n",
      "sort time:0.004000663757324219\n",
      "prediction time:0.009001970291137695\n",
      "sort time:0.003000497817993164\n",
      "prediction time:0.008002042770385742\n",
      "sort time:0.00400090217590332\n",
      "prediction time:0.008001327514648438\n",
      "sort time:0.004000663757324219\n",
      "prediction time:0.008001565933227539\n",
      "sort time:0.004001140594482422"
     ]
    },
    {
     "name": "stderr",
     "output_type": "stream",
     "text": [
      "\r",
      "  2%|▉                                                            | 3001/199549 [00:42<54:36, 59.98it/s]"
     ]
    },
    {
     "name": "stdout",
     "output_type": "stream",
     "text": [
      "\n",
      "prediction time:0.00800180435180664\n",
      "sort time:0.003000497817993164\n",
      "prediction time:0.00800180435180664\n",
      "sort time:0.005001068115234375\n",
      "prediction time:0.009001731872558594\n",
      "sort time:0.0030007362365722656\n",
      "prediction time:0.0070018768310546875\n",
      "sort time:0.004000425338745117\n",
      "prediction time:0.007001638412475586\n",
      "sort time:0.003000497817993164\n",
      "prediction time:0.007002115249633789\n",
      "sort time:0.004000186920166016\n",
      "prediction time:0.008001327514648438\n",
      "sort time:0.00400090217590332\n",
      "prediction time:0.007001399993896484\n",
      "sort time:0.00400090217590332\n",
      "prediction time:0.007001638412475586\n",
      "sort time:0.004001140594482422\n",
      "prediction time:0.0070018768310546875\n",
      "sort time:0.0030002593994140625\n",
      "prediction time:0.008002042770385742\n",
      "sort time:0.004000425338745117\n",
      "prediction time:0.008001327514648438\n",
      "sort time:0.0030007362365722656"
     ]
    },
    {
     "name": "stderr",
     "output_type": "stream",
     "text": [
      "  2%|▉                                                            | 3015/199549 [00:42<51:24, 63.73it/s]"
     ]
    },
    {
     "name": "stdout",
     "output_type": "stream",
     "text": [
      "\n",
      "prediction time:0.007001638412475586\n",
      "sort time:0.0030007362365722656\n",
      "prediction time:0.007001638412475586\n",
      "sort time:0.0030012130737304688\n",
      "prediction time:0.00600123405456543\n",
      "sort time:0.004000663757324219\n",
      "prediction time:0.008002281188964844\n",
      "sort time:0.0030002593994140625\n",
      "prediction time:0.008002042770385742\n",
      "sort time:0.003000497817993164\n",
      "prediction time:0.007001399993896484\n",
      "sort time:0.003000497817993164\n",
      "prediction time:0.00800180435180664\n",
      "sort time:0.003000497817993164\n",
      "prediction time:0.00800180435180664\n",
      "sort time:0.004001140594482422\n",
      "prediction time:0.0070018768310546875\n",
      "sort time:0.0030002593994140625\n",
      "prediction time:0.007001638412475586\n",
      "sort time:0.003000497817993164\n",
      "prediction time:0.007001638412475586\n",
      "sort time:0.00400090217590332\n",
      "prediction time:0.00600123405456543\n",
      "sort time:0.0030007362365722656\n",
      "prediction time:0.008002042770385742\n",
      "sort time:0.003000497817993164"
     ]
    },
    {
     "name": "stderr",
     "output_type": "stream",
     "text": [
      "  2%|▉                                                            | 3029/199549 [00:42<52:09, 62.80it/s]"
     ]
    },
    {
     "name": "stdout",
     "output_type": "stream",
     "text": [
      "\n",
      "prediction time:0.007001638412475586\n",
      "sort time:0.00400090217590332\n",
      "prediction time:0.007001638412475586\n",
      "sort time:0.003000497817993164\n",
      "prediction time:0.00800180435180664\n",
      "sort time:0.0030007362365722656\n",
      "prediction time:0.01000213623046875\n",
      "sort time:0.00400090217590332\n",
      "prediction time:0.00800180435180664\n",
      "sort time:0.004000186920166016\n",
      "prediction time:0.009001493453979492\n",
      "sort time:0.004001140594482422\n",
      "prediction time:0.007001399993896484\n",
      "sort time:0.004001617431640625\n",
      "prediction time:0.009001731872558594\n",
      "sort time:0.003000974655151367\n",
      "prediction time:0.009001731872558594\n",
      "sort time:0.004001140594482422\n",
      "prediction time:0.007001638412475586\n",
      "sort time:0.004001140594482422\n",
      "prediction time:0.00900125503540039\n"
     ]
    },
    {
     "name": "stderr",
     "output_type": "stream",
     "text": [
      "\r",
      "  2%|▉                                                            | 3036/199549 [00:42<53:46, 60.90it/s]"
     ]
    },
    {
     "name": "stdout",
     "output_type": "stream",
     "text": [
      "sort time:0.004001140594482422\n",
      "prediction time:0.009002447128295898\n",
      "sort time:0.004000663757324219\n",
      "prediction time:0.0070018768310546875\n",
      "sort time:0.004000425338745117\n",
      "prediction time:0.0070018768310546875\n",
      "sort time:0.004000663757324219\n",
      "prediction time:0.009001731872558594\n",
      "sort time:0.00400090217590332\n",
      "prediction time:0.008001565933227539\n",
      "sort time:0.004001140594482422\n",
      "prediction time:0.008001089096069336\n",
      "sort time:0.0050008296966552734\n",
      "prediction time:0.007002353668212891\n",
      "sort time:0.003999948501586914\n",
      "prediction time:0.0070018768310546875\n",
      "sort time:0.003000497817993164\n",
      "prediction time:0.009001970291137695\n",
      "sort time:0.0040013790130615234\n",
      "prediction time:0.008002042770385742\n",
      "sort time:0.0040018558502197266\n",
      "prediction time:0.008001327514648438\n"
     ]
    },
    {
     "name": "stderr",
     "output_type": "stream",
     "text": [
      "  2%|▉                                                            | 3049/199549 [00:43<57:14, 57.21it/s]"
     ]
    },
    {
     "name": "stdout",
     "output_type": "stream",
     "text": [
      "sort time:0.007001638412475586\n",
      "prediction time:0.011002779006958008\n",
      "sort time:0.0040013790130615234\n",
      "prediction time:0.009001731872558594\n",
      "sort time:0.004001140594482422\n",
      "prediction time:0.007001161575317383\n",
      "sort time:0.004001140594482422\n",
      "prediction time:0.008001327514648438\n",
      "sort time:0.00400090217590332\n",
      "prediction time:0.008002042770385742\n",
      "sort time:0.004000663757324219\n",
      "prediction time:0.007001399993896484\n",
      "sort time:0.0030007362365722656\n",
      "prediction time:0.007001638412475586\n",
      "sort time:0.0030007362365722656\n",
      "prediction time:0.008002519607543945\n",
      "sort time:0.0030002593994140625\n",
      "prediction time:0.007001638412475586\n",
      "sort time:0.0030012130737304688\n",
      "prediction time:0.007001399993896484\n",
      "sort time:0.0030002593994140625\n",
      "prediction time:0.008001565933227539\n",
      "sort time:0.0030007362365722656"
     ]
    },
    {
     "name": "stderr",
     "output_type": "stream",
     "text": [
      "  2%|▉                                                            | 3063/199549 [00:43<52:32, 62.32it/s]"
     ]
    },
    {
     "name": "stdout",
     "output_type": "stream",
     "text": [
      "\n",
      "prediction time:0.009001970291137695\n",
      "sort time:0.004000663757324219\n",
      "prediction time:0.008002042770385742\n",
      "sort time:0.003000497817993164\n",
      "prediction time:0.009002208709716797\n",
      "sort time:0.004001140594482422\n",
      "prediction time:0.007001399993896484\n",
      "sort time:0.003000974655151367\n",
      "prediction time:0.01000213623046875\n",
      "sort time:0.0030007362365722656\n",
      "prediction time:0.006001472473144531\n",
      "sort time:0.003000497817993164\n",
      "prediction time:0.0070018768310546875\n",
      "sort time:0.0030007362365722656\n",
      "prediction time:0.00800180435180664\n",
      "sort time:0.0030007362365722656\n",
      "prediction time:0.006001710891723633\n",
      "sort time:0.004000425338745117\n",
      "prediction time:0.009002447128295898\n",
      "sort time:0.004000663757324219\n",
      "prediction time:0.007001638412475586\n",
      "sort time:0.004000425338745117\n",
      "prediction time:0.009001970291137695\n",
      "sort time:0.00400090217590332\n",
      "prediction time:0.009001731872558594\n",
      "sort time:0.003000497817993164"
     ]
    },
    {
     "name": "stderr",
     "output_type": "stream",
     "text": [
      "  2%|▉                                                            | 3077/199549 [00:43<54:04, 60.56it/s]"
     ]
    },
    {
     "name": "stdout",
     "output_type": "stream",
     "text": [
      "\n",
      "prediction time:0.00800180435180664\n",
      "sort time:0.004001140594482422\n",
      "prediction time:0.007001638412475586\n",
      "sort time:0.0030002593994140625\n",
      "prediction time:0.009001731872558594\n",
      "sort time:0.00400090217590332\n",
      "prediction time:0.00800180435180664\n",
      "sort time:0.004001140594482422\n",
      "prediction time:0.007001638412475586\n",
      "sort time:0.00400090217590332\n",
      "prediction time:0.009001970291137695\n",
      "sort time:0.003000974655151367\n",
      "prediction time:0.009002923965454102\n",
      "sort time:0.004000425338745117\n",
      "prediction time:0.0070018768310546875\n",
      "sort time:0.0030002593994140625\n",
      "prediction time:0.007001638412475586\n",
      "sort time:0.003000497817993164\n",
      "prediction time:0.009001731872558594\n",
      "sort time:0.004001140594482422\n"
     ]
    },
    {
     "name": "stderr",
     "output_type": "stream",
     "text": [
      "\r",
      "  2%|▉                                                            | 3084/199549 [00:43<52:34, 62.28it/s]"
     ]
    },
    {
     "name": "stdout",
     "output_type": "stream",
     "text": [
      "prediction time:0.009002208709716797\n",
      "sort time:0.004000663757324219\n",
      "prediction time:0.00800180435180664\n",
      "sort time:0.003000497817993164\n",
      "prediction time:0.007001399993896484\n",
      "sort time:0.00400090217590332\n",
      "prediction time:0.008001565933227539\n",
      "sort time:0.003000497817993164\n",
      "prediction time:0.007001399993896484\n",
      "sort time:0.003000020980834961\n",
      "prediction time:0.007001638412475586\n",
      "sort time:0.004000663757324219\n",
      "prediction time:0.007001638412475586\n",
      "sort time:0.003000497817993164\n",
      "prediction time:0.007001399993896484\n",
      "sort time:0.0030007362365722656\n",
      "prediction time:0.00800180435180664\n",
      "sort time:0.004001140594482422\n",
      "prediction time:0.007001638412475586\n",
      "sort time:0.003000497817993164\n",
      "prediction time:0.007001638412475586\n",
      "sort time:0.003000497817993164\n",
      "prediction time:0.008002519607543945\n",
      "sort time:0.004000425338745117\n",
      "prediction time:0.00600123405456543\n",
      "sort time:0.003000974655151367"
     ]
    },
    {
     "name": "stderr",
     "output_type": "stream",
     "text": [
      "  2%|▉                                                            | 3098/199549 [00:43<50:29, 64.86it/s]"
     ]
    },
    {
     "name": "stdout",
     "output_type": "stream",
     "text": [
      "\n",
      "prediction time:0.009002208709716797\n",
      "sort time:0.004000663757324219\n",
      "prediction time:0.00800180435180664\n",
      "sort time:0.003000497817993164\n",
      "prediction time:0.00800180435180664\n",
      "sort time:0.003000497817993164\n",
      "prediction time:0.008002042770385742\n",
      "sort time:0.003000497817993164\n",
      "prediction time:0.006001472473144531\n",
      "sort time:0.004000663757324219\n",
      "prediction time:0.00600123405456543\n",
      "sort time:0.004000663757324219\n",
      "prediction time:0.007001638412475586\n",
      "sort time:0.00400090217590332\n",
      "prediction time:0.008002042770385742\n",
      "sort time:0.0030007362365722656\n",
      "prediction time:0.00800180435180664\n",
      "sort time:0.003000974655151367\n",
      "prediction time:0.00800180435180664\n",
      "sort time:0.0030007362365722656\n",
      "prediction time:0.006001472473144531\n",
      "sort time:0.003000497817993164\n",
      "prediction time:0.00800180435180664\n",
      "sort time:0.003000497817993164\n",
      "prediction time:0.008002042770385742\n"
     ]
    },
    {
     "name": "stderr",
     "output_type": "stream",
     "text": [
      "  2%|▉                                                            | 3112/199549 [00:44<50:43, 64.54it/s]"
     ]
    },
    {
     "name": "stdout",
     "output_type": "stream",
     "text": [
      "sort time:0.00400090217590332\n",
      "prediction time:0.0070018768310546875\n",
      "sort time:0.003000020980834961\n",
      "prediction time:0.00800180435180664\n",
      "sort time:0.003000497817993164\n",
      "prediction time:0.007001638412475586\n",
      "sort time:0.00400090217590332\n",
      "prediction time:0.008002042770385742\n",
      "sort time:0.004000663757324219\n",
      "prediction time:0.007001638412475586\n",
      "sort time:0.0030002593994140625\n",
      "prediction time:0.0070018768310546875\n",
      "sort time:0.0040013790130615234\n",
      "prediction time:0.00800180435180664\n",
      "sort time:0.00400090217590332\n",
      "prediction time:0.007001638412475586\n",
      "sort time:0.005001544952392578\n",
      "prediction time:0.007001161575317383\n",
      "sort time:0.0050013065338134766\n",
      "prediction time:0.00800180435180664\n",
      "sort time:0.004001140594482422\n",
      "prediction time:0.008002281188964844\n",
      "sort time:0.003000497817993164\n"
     ]
    },
    {
     "name": "stderr",
     "output_type": "stream",
     "text": [
      "  2%|▉                                                            | 3126/199549 [00:44<50:54, 64.32it/s]"
     ]
    },
    {
     "name": "stdout",
     "output_type": "stream",
     "text": [
      "prediction time:0.00800180435180664\n",
      "sort time:0.005001068115234375\n",
      "prediction time:0.0060007572174072266\n",
      "sort time:0.00400090217590332\n",
      "prediction time:0.00800180435180664\n",
      "sort time:0.004001140594482422\n",
      "prediction time:0.008002042770385742\n",
      "sort time:0.00400090217590332\n",
      "prediction time:0.007001638412475586\n",
      "sort time:0.003000974655151367\n",
      "prediction time:0.00800180435180664\n",
      "sort time:0.004001140594482422\n",
      "prediction time:0.00800180435180664\n",
      "sort time:0.00400090217590332\n",
      "prediction time:0.007001638412475586\n",
      "sort time:0.003000497817993164\n",
      "prediction time:0.00800180435180664\n",
      "sort time:0.003000497817993164\n",
      "prediction time:0.00800180435180664\n",
      "sort time:0.0030007362365722656\n",
      "prediction time:0.007001638412475586\n",
      "sort time:0.003000497817993164\n",
      "prediction time:0.006001472473144531\n",
      "sort time:0.004000663757324219\n"
     ]
    },
    {
     "name": "stderr",
     "output_type": "stream",
     "text": [
      "\r",
      "  2%|▉                                                            | 3133/199549 [00:44<52:11, 62.73it/s]"
     ]
    },
    {
     "name": "stdout",
     "output_type": "stream",
     "text": [
      "prediction time:0.007001399993896484\n",
      "sort time:0.00400090217590332\n",
      "prediction time:0.009002208709716797\n",
      "sort time:0.004000663757324219\n",
      "prediction time:0.00800180435180664\n",
      "sort time:0.003000497817993164\n",
      "prediction time:0.007001638412475586\n",
      "sort time:0.0040013790130615234\n",
      "prediction time:0.00800180435180664\n",
      "sort time:0.0030002593994140625\n",
      "prediction time:0.007001399993896484\n",
      "sort time:0.00400090217590332\n",
      "prediction time:0.00800180435180664\n",
      "sort time:0.00400090217590332\n",
      "prediction time:0.00800180435180664\n",
      "sort time:0.00400090217590332\n",
      "prediction time:0.008001327514648438\n",
      "sort time:0.004001140594482422\n",
      "prediction time:0.00900125503540039\n",
      "sort time:0.00400090217590332\n",
      "prediction time:0.00800180435180664\n",
      "sort time:0.00400090217590332\n",
      "prediction time:0.009001970291137695\n"
     ]
    },
    {
     "name": "stderr",
     "output_type": "stream",
     "text": [
      "  2%|▉                                                            | 3147/199549 [00:44<52:18, 62.57it/s]"
     ]
    },
    {
     "name": "stdout",
     "output_type": "stream",
     "text": [
      "sort time:0.00400090217590332\n",
      "prediction time:0.009002208709716797\n",
      "sort time:0.004000663757324219\n",
      "prediction time:0.008002042770385742\n",
      "sort time:0.003000497817993164\n",
      "prediction time:0.00800180435180664\n",
      "sort time:0.004000663757324219\n",
      "prediction time:0.008001565933227539\n",
      "sort time:0.004000425338745117\n",
      "prediction time:0.00800180435180664\n",
      "sort time:0.0030007362365722656\n",
      "prediction time:0.007001399993896484\n",
      "sort time:0.003000974655151367\n",
      "prediction time:0.007001638412475586\n",
      "sort time:0.004001140594482422\n",
      "prediction time:0.007001638412475586\n",
      "sort time:0.003000497817993164\n",
      "prediction time:0.007001638412475586\n",
      "sort time:0.00400090217590332\n",
      "prediction time:0.007001638412475586\n",
      "sort time:0.004001140594482422\n",
      "prediction time:0.009002447128295898\n",
      "sort time:0.00400090217590332"
     ]
    },
    {
     "name": "stderr",
     "output_type": "stream",
     "text": [
      "\r",
      "  2%|▉                                                            | 3154/199549 [00:44<53:27, 61.23it/s]"
     ]
    },
    {
     "name": "stdout",
     "output_type": "stream",
     "text": [
      "\n",
      "prediction time:0.009002447128295898\n",
      "sort time:0.004000663757324219\n",
      "prediction time:0.010001897811889648\n",
      "sort time:0.004001140594482422\n",
      "prediction time:0.007001399993896484\n",
      "sort time:0.00400090217590332\n",
      "prediction time:0.009001970291137695\n",
      "sort time:0.004000425338745117\n",
      "prediction time:0.00800180435180664\n",
      "sort time:0.00400090217590332\n",
      "prediction time:0.009001731872558594\n",
      "sort time:0.0040013790130615234\n",
      "prediction time:0.008002281188964844\n",
      "sort time:0.004000663757324219\n",
      "prediction time:0.009001970291137695\n",
      "sort time:0.0040013790130615234\n",
      "prediction time:0.00800180435180664\n",
      "sort time:0.0030007362365722656\n",
      "prediction time:0.008001565933227539\n",
      "sort time:0.004001140594482422\n",
      "prediction time:0.008002042770385742\n",
      "sort time:0.00400090217590332"
     ]
    },
    {
     "name": "stderr",
     "output_type": "stream",
     "text": [
      "  2%|▉                                                            | 3168/199549 [00:44<52:56, 61.82it/s]"
     ]
    },
    {
     "name": "stdout",
     "output_type": "stream",
     "text": [
      "\n",
      "prediction time:0.008002042770385742\n",
      "sort time:0.004000663757324219\n",
      "prediction time:0.008002042770385742\n",
      "sort time:0.0040013790130615234\n",
      "prediction time:0.008002281188964844\n",
      "sort time:0.004000663757324219\n",
      "prediction time:0.00800180435180664\n",
      "sort time:0.003000497817993164\n",
      "prediction time:0.006001710891723633\n",
      "sort time:0.004000425338745117\n",
      "prediction time:0.009001970291137695\n",
      "sort time:0.004001617431640625\n",
      "prediction time:0.007001638412475586\n",
      "sort time:0.004001140594482422\n",
      "prediction time:0.007001638412475586\n",
      "sort time:0.00400090217590332\n",
      "prediction time:0.009001970291137695\n",
      "sort time:0.0030012130737304688\n",
      "prediction time:0.009001731872558594\n",
      "sort time:0.0030012130737304688\n",
      "prediction time:0.008002042770385742\n",
      "sort time:0.003000497817993164\n",
      "prediction time:0.007001399993896484\n",
      "sort time:0.0030007362365722656"
     ]
    },
    {
     "name": "stderr",
     "output_type": "stream",
     "text": [
      "  2%|▉                                                            | 3182/199549 [00:45<54:49, 59.69it/s]"
     ]
    },
    {
     "name": "stdout",
     "output_type": "stream",
     "text": [
      "\n",
      "prediction time:0.00800180435180664\n",
      "sort time:0.004000425338745117\n",
      "prediction time:0.007001161575317383\n",
      "sort time:0.005001544952392578\n",
      "prediction time:0.00800180435180664\n",
      "sort time:0.004001140594482422\n",
      "prediction time:0.00800180435180664\n",
      "sort time:0.0030007362365722656\n",
      "prediction time:0.008002042770385742\n",
      "sort time:0.00400090217590332\n",
      "prediction time:0.009001970291137695\n",
      "sort time:0.004001140594482422\n",
      "prediction time:0.00800180435180664\n",
      "sort time:0.00400090217590332\n",
      "prediction time:0.007001399993896484\n",
      "sort time:0.004000663757324219\n",
      "prediction time:0.00800180435180664\n",
      "sort time:0.004001140594482422\n",
      "prediction time:0.010002374649047852\n",
      "sort time:0.0040013790130615234\n",
      "prediction time:0.007001638412475586\n",
      "sort time:0.0030007362365722656"
     ]
    },
    {
     "name": "stderr",
     "output_type": "stream",
     "text": [
      "\r",
      "  2%|▉                                                            | 3189/199549 [00:45<53:23, 61.30it/s]"
     ]
    },
    {
     "name": "stdout",
     "output_type": "stream",
     "text": [
      "\n",
      "prediction time:0.008001565933227539\n",
      "sort time:0.004000425338745117\n",
      "prediction time:0.008002042770385742\n",
      "sort time:0.004000663757324219\n",
      "prediction time:0.008001327514648438\n",
      "sort time:0.00400233268737793\n",
      "prediction time:0.007001638412475586\n",
      "sort time:0.003000974655151367\n",
      "prediction time:0.00800180435180664\n",
      "sort time:0.003000497817993164\n",
      "prediction time:0.00800180435180664\n",
      "sort time:0.003000497817993164\n",
      "prediction time:0.008001327514648438\n",
      "sort time:0.004001140594482422\n",
      "prediction time:0.007001399993896484\n",
      "sort time:0.0030007362365722656\n",
      "prediction time:0.00800180435180664\n",
      "sort time:0.003000497817993164\n",
      "prediction time:0.00800180435180664\n",
      "sort time:0.004000663757324219\n",
      "prediction time:0.007001399993896484\n",
      "sort time:0.003000497817993164\n",
      "prediction time:0.00800180435180664\n"
     ]
    },
    {
     "name": "stderr",
     "output_type": "stream",
     "text": [
      "  2%|▉                                                            | 3203/199549 [00:45<50:55, 64.27it/s]"
     ]
    },
    {
     "name": "stdout",
     "output_type": "stream",
     "text": [
      "sort time:0.0030007362365722656\n",
      "prediction time:0.007001638412475586\n",
      "sort time:0.00400090217590332\n",
      "prediction time:0.009001731872558594\n",
      "sort time:0.0030007362365722656\n",
      "prediction time:0.00600123405456543\n",
      "sort time:0.004001140594482422\n",
      "prediction time:0.006001472473144531\n",
      "sort time:0.0030007362365722656\n",
      "prediction time:0.0070018768310546875\n",
      "sort time:0.00400090217590332\n",
      "prediction time:0.00800180435180664\n",
      "sort time:0.003000497817993164\n",
      "prediction time:0.007001638412475586\n",
      "sort time:0.003000497817993164\n",
      "prediction time:0.007001638412475586\n",
      "sort time:0.00400090217590332\n",
      "prediction time:0.00800180435180664\n",
      "sort time:0.0040013790130615234\n",
      "prediction time:0.007001638412475586\n",
      "sort time:0.003000497817993164\n",
      "prediction time:0.008001565933227539\n",
      "sort time:0.0030007362365722656\n",
      "prediction time:0.00800180435180664\n",
      "sort time:0.003000497817993164\n",
      "prediction time:0.00800180435180664\n"
     ]
    },
    {
     "name": "stderr",
     "output_type": "stream",
     "text": [
      "  2%|▉                                                            | 3218/199549 [00:45<49:03, 66.70it/s]"
     ]
    },
    {
     "name": "stdout",
     "output_type": "stream",
     "text": [
      "sort time:0.0030007362365722656\n",
      "prediction time:0.009002208709716797\n",
      "sort time:0.004000663757324219\n",
      "prediction time:0.007001638412475586\n",
      "sort time:0.0030007362365722656\n",
      "prediction time:0.00800180435180664\n",
      "sort time:0.003000974655151367\n",
      "prediction time:0.007001638412475586\n",
      "sort time:0.0030007362365722656\n",
      "prediction time:0.00800180435180664\n",
      "sort time:0.003000974655151367\n",
      "prediction time:0.00800180435180664\n",
      "sort time:0.0030007362365722656\n",
      "prediction time:0.00800180435180664\n",
      "sort time:0.003000497817993164\n",
      "prediction time:0.00800180435180664\n",
      "sort time:0.003000974655151367\n",
      "prediction time:0.006001472473144531\n",
      "sort time:0.003000497817993164\n",
      "prediction time:0.007001638412475586\n",
      "sort time:0.003000497817993164\n",
      "prediction time:0.009001970291137695\n",
      "sort time:0.0030007362365722656\n",
      "prediction time:0.007001638412475586\n",
      "sort time:0.003000497817993164\n",
      "prediction time:0.00800180435180664\n",
      "sort time:0.0030007362365722656"
     ]
    },
    {
     "name": "stderr",
     "output_type": "stream",
     "text": [
      "  2%|▉                                                            | 3232/199549 [00:45<49:06, 66.62it/s]"
     ]
    },
    {
     "name": "stdout",
     "output_type": "stream",
     "text": [
      "\n",
      "prediction time:0.00800180435180664\n",
      "sort time:0.003000497817993164\n",
      "prediction time:0.00800180435180664\n",
      "sort time:0.003000497817993164\n",
      "prediction time:0.0070018768310546875\n",
      "sort time:0.003000974655151367\n",
      "prediction time:0.00800180435180664\n",
      "sort time:0.003000497817993164\n",
      "prediction time:0.0070018768310546875\n",
      "sort time:0.004000663757324219\n",
      "prediction time:0.00800180435180664\n",
      "sort time:0.003000497817993164\n",
      "prediction time:0.007001161575317383\n",
      "sort time:0.003000974655151367\n",
      "prediction time:0.007001399993896484\n",
      "sort time:0.003000974655151367\n",
      "prediction time:0.00800180435180664\n",
      "sort time:0.003000497817993164\n",
      "prediction time:0.00800180435180664\n",
      "sort time:0.003000497817993164\n",
      "prediction time:0.007000923156738281\n",
      "sort time:0.003000974655151367\n",
      "prediction time:0.009001970291137695\n",
      "sort time:0.003000974655151367"
     ]
    },
    {
     "name": "stderr",
     "output_type": "stream",
     "text": [
      "\r",
      "  2%|▉                                                            | 3239/199549 [00:46<51:02, 64.10it/s]"
     ]
    },
    {
     "name": "stdout",
     "output_type": "stream",
     "text": [
      "\n",
      "prediction time:0.0070018768310546875\n",
      "sort time:0.00400090217590332\n",
      "prediction time:0.008002042770385742\n",
      "sort time:0.0030007362365722656\n",
      "prediction time:0.009002208709716797\n",
      "sort time:0.00400090217590332\n",
      "prediction time:0.007001638412475586\n",
      "sort time:0.0030007362365722656\n",
      "prediction time:0.009001970291137695\n",
      "sort time:0.004001140594482422\n",
      "prediction time:0.008001565933227539\n",
      "sort time:0.0030014514923095703\n",
      "prediction time:0.007001638412475586\n",
      "sort time:0.004001140594482422\n",
      "prediction time:0.007001638412475586\n",
      "sort time:0.004000425338745117\n",
      "prediction time:0.009001731872558594\n",
      "sort time:0.0030007362365722656\n",
      "prediction time:0.0070018768310546875\n",
      "sort time:0.004000425338745117\n",
      "prediction time:0.007001399993896484\n",
      "sort time:0.0040013790130615234"
     ]
    },
    {
     "name": "stderr",
     "output_type": "stream",
     "text": [
      "  2%|▉                                                            | 3253/199549 [00:46<54:51, 59.64it/s]"
     ]
    },
    {
     "name": "stdout",
     "output_type": "stream",
     "text": [
      "\n",
      "prediction time:0.00800180435180664\n",
      "sort time:0.00400090217590332\n",
      "prediction time:0.008002042770385742\n",
      "sort time:0.004001140594482422\n",
      "prediction time:0.009001731872558594\n",
      "sort time:0.004001140594482422\n",
      "prediction time:0.008002519607543945\n",
      "sort time:0.004000663757324219\n",
      "prediction time:0.009002208709716797\n",
      "sort time:0.004000425338745117\n",
      "prediction time:0.01000213623046875\n",
      "sort time:0.00400090217590332\n",
      "prediction time:0.008002519607543945\n",
      "sort time:0.00400090217590332\n",
      "prediction time:0.007001638412475586\n",
      "sort time:0.003000020980834961\n",
      "prediction time:0.008001327514648438\n",
      "sort time:0.003000974655151367\n",
      "prediction time:0.007001638412475586\n",
      "sort time:0.005001544952392578\n",
      "prediction time:0.00800180435180664\n"
     ]
    },
    {
     "name": "stderr",
     "output_type": "stream",
     "text": [
      "  2%|▉                                                            | 3267/199549 [00:46<52:01, 62.88it/s]"
     ]
    },
    {
     "name": "stdout",
     "output_type": "stream",
     "text": [
      "sort time:0.00400090217590332\n",
      "prediction time:0.011002779006958008\n",
      "sort time:0.003000497817993164\n",
      "prediction time:0.00600123405456543\n",
      "sort time:0.0030007362365722656\n",
      "prediction time:0.007001638412475586\n",
      "sort time:0.003000497817993164\n",
      "prediction time:0.007001638412475586\n",
      "sort time:0.0030002593994140625\n",
      "prediction time:0.008001327514648438\n",
      "sort time:0.0030007362365722656\n",
      "prediction time:0.00800180435180664\n",
      "sort time:0.0040013790130615234\n",
      "prediction time:0.008002042770385742\n",
      "sort time:0.0030007362365722656\n",
      "prediction time:0.007001638412475586\n",
      "sort time:0.004000663757324219\n",
      "prediction time:0.007001638412475586\n",
      "sort time:0.0030007362365722656\n",
      "prediction time:0.00600123405456543\n",
      "sort time:0.0030007362365722656\n",
      "prediction time:0.007001638412475586\n",
      "sort time:0.003000497817993164\n",
      "prediction time:0.008002281188964844\n",
      "sort time:0.003000497817993164\n",
      "prediction time:0.009002208709716797\n"
     ]
    },
    {
     "name": "stderr",
     "output_type": "stream",
     "text": [
      "\r",
      "  2%|█                                                            | 3274/199549 [00:46<50:43, 64.49it/s]"
     ]
    },
    {
     "name": "stdout",
     "output_type": "stream",
     "text": [
      "sort time:0.00400090217590332\n",
      "prediction time:0.0070018768310546875\n",
      "sort time:0.004000425338745117\n",
      "prediction time:0.00800180435180664\n",
      "sort time:0.0030012130737304688\n",
      "prediction time:0.0070018768310546875\n",
      "sort time:0.0030002593994140625\n",
      "prediction time:0.0070018768310546875\n",
      "sort time:0.003000497817993164\n",
      "prediction time:0.007001399993896484\n",
      "sort time:0.003000974655151367\n",
      "prediction time:0.007001638412475586\n",
      "sort time:0.003000497817993164\n",
      "prediction time:0.00800180435180664\n",
      "sort time:0.004001140594482422\n",
      "prediction time:0.00800180435180664\n",
      "sort time:0.004000663757324219\n",
      "prediction time:0.00700068473815918\n",
      "sort time:0.0040013790130615234\n",
      "prediction time:0.00800180435180664\n",
      "sort time:0.0030007362365722656\n",
      "prediction time:0.007001638412475586\n",
      "sort time:0.003000497817993164\n",
      "prediction time:0.00800180435180664\n",
      "sort time:0.003000497817993164\n",
      "prediction time:0.007001399993896484\n"
     ]
    },
    {
     "name": "stderr",
     "output_type": "stream",
     "text": [
      "  2%|█                                                            | 3288/199549 [00:46<49:36, 65.94it/s]"
     ]
    },
    {
     "name": "stdout",
     "output_type": "stream",
     "text": [
      "sort time:0.0030007362365722656\n",
      "prediction time:0.007001638412475586\n",
      "sort time:0.004001140594482422\n",
      "prediction time:0.00800180435180664\n",
      "sort time:0.004001140594482422\n",
      "prediction time:0.007001399993896484\n",
      "sort time:0.00400090217590332\n",
      "prediction time:0.008002042770385742\n",
      "sort time:0.003000497817993164\n",
      "prediction time:0.007001399993896484\n",
      "sort time:0.003000974655151367\n",
      "prediction time:0.00800180435180664\n",
      "sort time:0.0030007362365722656\n",
      "prediction time:0.007001638412475586\n",
      "sort time:0.0030007362365722656\n",
      "prediction time:0.007001399993896484\n",
      "sort time:0.0030012130737304688\n",
      "prediction time:0.007001638412475586\n",
      "sort time:0.0030007362365722656\n",
      "prediction time:0.0070018768310546875\n",
      "sort time:0.004000425338745117\n",
      "prediction time:0.008002042770385742\n",
      "sort time:0.0030002593994140625\n",
      "prediction time:0.007001638412475586\n",
      "sort time:0.003000497817993164\n"
     ]
    },
    {
     "name": "stderr",
     "output_type": "stream",
     "text": [
      "  2%|█                                                            | 3302/199549 [00:47<49:03, 66.66it/s]"
     ]
    },
    {
     "name": "stdout",
     "output_type": "stream",
     "text": [
      "prediction time:0.009001970291137695\n",
      "sort time:0.004001617431640625\n",
      "prediction time:0.008001565933227539\n",
      "sort time:0.003000497817993164\n",
      "prediction time:0.00800180435180664\n",
      "sort time:0.0040013790130615234\n",
      "prediction time:0.00600123405456543\n",
      "sort time:0.0030007362365722656\n",
      "prediction time:0.007001638412475586\n",
      "sort time:0.003000497817993164\n",
      "prediction time:0.006001710891723633\n",
      "sort time:0.0030002593994140625\n",
      "prediction time:0.008002042770385742\n",
      "sort time:0.0030007362365722656\n",
      "prediction time:0.008001565933227539\n",
      "sort time:0.0030007362365722656\n",
      "prediction time:0.007001638412475586\n",
      "sort time:0.0030007362365722656\n",
      "prediction time:0.008002281188964844\n",
      "sort time:0.004000663757324219\n",
      "prediction time:0.007001399993896484\n",
      "sort time:0.003000974655151367\n",
      "prediction time:0.007002353668212891\n",
      "sort time:0.004000425338745117\n",
      "prediction time:0.0070018768310546875\n",
      "sort time:0.0030002593994140625\n",
      "prediction time:0.008002281188964844\n",
      "sort time:0.003000020980834961"
     ]
    },
    {
     "name": "stderr",
     "output_type": "stream",
     "text": [
      "  2%|█                                                            | 3316/199549 [00:47<51:05, 64.02it/s]"
     ]
    },
    {
     "name": "stdout",
     "output_type": "stream",
     "text": [
      "\n",
      "prediction time:0.007001161575317383\n",
      "sort time:0.0040013790130615234\n",
      "prediction time:0.00800180435180664\n",
      "sort time:0.0030012130737304688\n",
      "prediction time:0.008002281188964844\n",
      "sort time:0.003000497817993164\n",
      "prediction time:0.008002042770385742\n",
      "sort time:0.003000497817993164\n",
      "prediction time:0.007001638412475586\n",
      "sort time:0.003000497817993164\n",
      "prediction time:0.007001638412475586\n",
      "sort time:0.003000497817993164\n",
      "prediction time:0.0070018768310546875\n",
      "sort time:0.0030002593994140625\n",
      "prediction time:0.008002042770385742\n",
      "sort time:0.00400090217590332\n",
      "prediction time:0.008002042770385742\n",
      "sort time:0.003000974655151367\n",
      "prediction time:0.008001327514648438\n",
      "sort time:0.009002685546875\n",
      "prediction time:0.00800180435180664\n"
     ]
    },
    {
     "name": "stderr",
     "output_type": "stream",
     "text": [
      "\r",
      "  2%|█                                                            | 3323/199549 [00:47<54:24, 60.12it/s]"
     ]
    },
    {
     "name": "stdout",
     "output_type": "stream",
     "text": [
      "sort time:0.0050008296966552734\n",
      "prediction time:0.009002685546875\n",
      "sort time:0.00400090217590332\n",
      "prediction time:0.008001565933227539\n",
      "sort time:0.004000663757324219\n",
      "prediction time:0.008001565933227539\n",
      "sort time:0.00400090217590332\n",
      "prediction time:0.00800180435180664\n",
      "sort time:0.003000497817993164\n",
      "prediction time:0.0070018768310546875\n",
      "sort time:0.00400090217590332\n",
      "prediction time:0.007001638412475586\n",
      "sort time:0.004001140594482422\n",
      "prediction time:0.007002115249633789\n",
      "sort time:0.0030002593994140625\n",
      "prediction time:0.007001638412475586\n",
      "sort time:0.003000497817993164\n",
      "prediction time:0.007001638412475586\n",
      "sort time:0.003000497817993164\n",
      "prediction time:0.008002281188964844\n",
      "sort time:0.003000497817993164\n",
      "prediction time:0.007001638412475586\n"
     ]
    },
    {
     "name": "stderr",
     "output_type": "stream",
     "text": [
      "  2%|█                                                            | 3337/199549 [00:47<51:55, 62.97it/s]"
     ]
    },
    {
     "name": "stdout",
     "output_type": "stream",
     "text": [
      "sort time:0.00400090217590332\n",
      "prediction time:0.009001970291137695\n",
      "sort time:0.003000497817993164\n",
      "prediction time:0.00800180435180664\n",
      "sort time:0.004001140594482422\n",
      "prediction time:0.00800180435180664\n",
      "sort time:0.0030007362365722656\n",
      "prediction time:0.006001472473144531\n",
      "sort time:0.004000663757324219\n",
      "prediction time:0.008002042770385742\n",
      "sort time:0.003000497817993164\n",
      "prediction time:0.00800180435180664\n",
      "sort time:0.0030007362365722656\n",
      "prediction time:0.0070018768310546875\n",
      "sort time:0.00400090217590332\n",
      "prediction time:0.007001399993896484\n",
      "sort time:0.0030002593994140625\n",
      "prediction time:0.00600123405456543\n",
      "sort time:0.0030007362365722656\n",
      "prediction time:0.00800180435180664\n",
      "sort time:0.0030007362365722656\n",
      "prediction time:0.007001638412475586\n",
      "sort time:0.0030007362365722656\n",
      "prediction time:0.00900125503540039\n",
      "sort time:0.0030007362365722656\n",
      "prediction time:0.00800180435180664\n"
     ]
    },
    {
     "name": "stderr",
     "output_type": "stream",
     "text": [
      "  2%|█                                                            | 3351/199549 [00:47<50:00, 65.40it/s]"
     ]
    },
    {
     "name": "stdout",
     "output_type": "stream",
     "text": [
      "sort time:0.0030007362365722656\n",
      "prediction time:0.0070018768310546875\n",
      "sort time:0.003000974655151367\n",
      "prediction time:0.00800180435180664\n",
      "sort time:0.00400090217590332\n",
      "prediction time:0.00800180435180664\n",
      "sort time:0.003000974655151367\n",
      "prediction time:0.00800180435180664\n",
      "sort time:0.0030007362365722656\n",
      "prediction time:0.00800180435180664\n",
      "sort time:0.003000497817993164\n",
      "prediction time:0.007001638412475586\n",
      "sort time:0.003000497817993164\n",
      "prediction time:0.007001638412475586\n",
      "sort time:0.0030007362365722656\n",
      "prediction time:0.006001472473144531\n",
      "sort time:0.0030007362365722656\n",
      "prediction time:0.007001638412475586\n",
      "sort time:0.003001689910888672\n",
      "prediction time:0.008002042770385742\n",
      "sort time:0.003000974655151367\n",
      "prediction time:0.007001638412475586\n",
      "sort time:0.004001140594482422\n",
      "prediction time:0.008002042770385742\n",
      "sort time:0.004000663757324219\n",
      "prediction time:0.007001638412475586\n"
     ]
    },
    {
     "name": "stderr",
     "output_type": "stream",
     "text": [
      "  2%|█                                                            | 3365/199549 [00:48<49:43, 65.75it/s]"
     ]
    },
    {
     "name": "stdout",
     "output_type": "stream",
     "text": [
      "sort time:0.003000497817993164\n",
      "prediction time:0.007001638412475586\n",
      "sort time:0.00400090217590332\n",
      "prediction time:0.00800180435180664\n",
      "sort time:0.003000497817993164\n",
      "prediction time:0.008001565933227539\n",
      "sort time:0.003000974655151367\n",
      "prediction time:0.009002447128295898\n",
      "sort time:0.0030007362365722656\n",
      "prediction time:0.009001970291137695\n",
      "sort time:0.003000974655151367\n",
      "prediction time:0.00800180435180664\n",
      "sort time:0.003000974655151367\n",
      "prediction time:0.007001638412475586\n",
      "sort time:0.0030007362365722656\n",
      "prediction time:0.007001638412475586\n",
      "sort time:0.0030007362365722656\n",
      "prediction time:0.007001638412475586\n",
      "sort time:0.00400090217590332\n",
      "prediction time:0.007001638412475586\n",
      "sort time:0.003000497817993164\n",
      "prediction time:0.00800180435180664\n",
      "sort time:0.00400090217590332\n",
      "prediction time:0.007001399993896484\n",
      "sort time:0.0030007362365722656\n",
      "prediction time:0.008001089096069336\n"
     ]
    },
    {
     "name": "stderr",
     "output_type": "stream",
     "text": [
      "  2%|█                                                            | 3379/199549 [00:48<49:23, 66.19it/s]"
     ]
    },
    {
     "name": "stdout",
     "output_type": "stream",
     "text": [
      "sort time:0.004001140594482422\n",
      "prediction time:0.007001638412475586\n",
      "sort time:0.003000974655151367\n",
      "prediction time:0.008002042770385742\n",
      "sort time:0.004000663757324219\n",
      "prediction time:0.007001638412475586\n",
      "sort time:0.004000663757324219\n",
      "prediction time:0.00800180435180664\n",
      "sort time:0.003000497817993164\n",
      "prediction time:0.00800180435180664\n",
      "sort time:0.004001140594482422\n",
      "prediction time:0.008002281188964844\n",
      "sort time:0.003000497817993164\n",
      "prediction time:0.0060007572174072266\n",
      "sort time:0.00400090217590332\n",
      "prediction time:0.007001399993896484\n",
      "sort time:0.003000497817993164\n",
      "prediction time:0.007001638412475586\n",
      "sort time:0.003000497817993164\n",
      "prediction time:0.007001399993896484\n",
      "sort time:0.0030007362365722656\n",
      "prediction time:0.007001638412475586\n",
      "sort time:0.0030007362365722656\n",
      "prediction time:0.0070018768310546875\n",
      "sort time:0.003000497817993164\n",
      "prediction time:0.00800180435180664\n"
     ]
    },
    {
     "name": "stderr",
     "output_type": "stream",
     "text": [
      "\r",
      "  2%|█                                                            | 3386/199549 [00:48<50:33, 64.67it/s]"
     ]
    },
    {
     "name": "stdout",
     "output_type": "stream",
     "text": [
      "sort time:0.004000663757324219\n",
      "prediction time:0.008002042770385742\n",
      "sort time:0.003000974655151367\n",
      "prediction time:0.0070018768310546875\n",
      "sort time:0.0030002593994140625\n",
      "prediction time:0.009002208709716797\n",
      "sort time:0.003000497817993164\n",
      "prediction time:0.00800180435180664\n",
      "sort time:0.004001140594482422\n",
      "prediction time:0.007001638412475586\n",
      "sort time:0.0040013790130615234\n",
      "prediction time:0.008002042770385742\n",
      "sort time:0.004000663757324219\n",
      "prediction time:0.007001161575317383\n",
      "sort time:0.0040013790130615234\n",
      "prediction time:0.008002281188964844\n",
      "sort time:0.004000663757324219\n",
      "prediction time:0.008001327514648438\n",
      "sort time:0.00400090217590332\n",
      "prediction time:0.00800180435180664\n",
      "sort time:0.0030007362365722656\n"
     ]
    },
    {
     "name": "stderr",
     "output_type": "stream",
     "text": [
      "  2%|█                                                            | 3400/199549 [00:48<52:48, 61.90it/s]"
     ]
    },
    {
     "name": "stdout",
     "output_type": "stream",
     "text": [
      "prediction time:0.008001565933227539\n",
      "sort time:0.0040013790130615234\n",
      "prediction time:0.007001638412475586\n",
      "sort time:0.0040013790130615234\n",
      "prediction time:0.007002115249633789\n",
      "sort time:0.004000186920166016\n",
      "prediction time:0.008002042770385742\n",
      "sort time:0.004000663757324219\n",
      "prediction time:0.008002042770385742\n",
      "sort time:0.003000974655151367\n",
      "prediction time:0.00800180435180664\n",
      "sort time:0.003000974655151367\n",
      "prediction time:0.007001638412475586\n",
      "sort time:0.00400090217590332\n",
      "prediction time:0.00800180435180664\n",
      "sort time:0.0030007362365722656\n",
      "prediction time:0.00800180435180664\n",
      "sort time:0.003000974655151367\n",
      "prediction time:0.006001472473144531\n",
      "sort time:0.004000663757324219\n",
      "prediction time:0.00800180435180664\n",
      "sort time:0.0030007362365722656\n",
      "prediction time:0.008001565933227539\n",
      "sort time:0.003000497817993164\n",
      "prediction time:0.006001472473144531\n",
      "sort time:0.0030007362365722656"
     ]
    },
    {
     "name": "stderr",
     "output_type": "stream",
     "text": [
      "  2%|█                                                            | 3414/199549 [00:48<50:54, 64.22it/s]"
     ]
    },
    {
     "name": "stdout",
     "output_type": "stream",
     "text": [
      "\n",
      "prediction time:0.008001327514648438\n",
      "sort time:0.004001140594482422\n",
      "prediction time:0.008001565933227539\n",
      "sort time:0.003000974655151367\n",
      "prediction time:0.0070018768310546875\n",
      "sort time:0.003000497817993164\n",
      "prediction time:0.008002042770385742\n",
      "sort time:0.0040013790130615234\n",
      "prediction time:0.008002042770385742\n",
      "sort time:0.0030002593994140625\n",
      "prediction time:0.00800180435180664\n",
      "sort time:0.003000497817993164\n",
      "prediction time:0.006001472473144531\n",
      "sort time:0.003000497817993164\n",
      "prediction time:0.00800180435180664\n",
      "sort time:0.0030007362365722656\n",
      "prediction time:0.007001638412475586\n",
      "sort time:0.003000497817993164\n",
      "prediction time:0.0070018768310546875\n",
      "sort time:0.00400090217590332\n",
      "prediction time:0.00800180435180664\n",
      "sort time:0.0030012130737304688\n",
      "prediction time:0.007001638412475586\n",
      "sort time:0.003000497817993164\n",
      "prediction time:0.00800180435180664\n",
      "sort time:0.003000497817993164"
     ]
    },
    {
     "name": "stderr",
     "output_type": "stream",
     "text": [
      "  2%|█                                                            | 3428/199549 [00:49<50:14, 65.05it/s]"
     ]
    },
    {
     "name": "stdout",
     "output_type": "stream",
     "text": [
      "\n",
      "prediction time:0.006001710891723633\n",
      "sort time:0.004000425338745117\n",
      "prediction time:0.007000923156738281\n",
      "sort time:0.0030012130737304688\n",
      "prediction time:0.008001565933227539\n",
      "sort time:0.003000974655151367\n",
      "prediction time:0.007001638412475586\n",
      "sort time:0.004000663757324219\n",
      "prediction time:0.009001970291137695\n",
      "sort time:0.004001140594482422\n",
      "prediction time:0.0070018768310546875\n",
      "sort time:0.003000974655151367\n",
      "prediction time:0.0070018768310546875\n",
      "sort time:0.003000497817993164\n",
      "prediction time:0.007001399993896484\n",
      "sort time:0.0030007362365722656\n",
      "prediction time:0.007001638412475586\n",
      "sort time:0.003000974655151367\n",
      "prediction time:0.007001638412475586\n",
      "sort time:0.0030007362365722656\n",
      "prediction time:0.007001638412475586\n",
      "sort time:0.003000497817993164\n",
      "prediction time:0.007000923156738281\n"
     ]
    },
    {
     "name": "stderr",
     "output_type": "stream",
     "text": [
      "\r",
      "  2%|█                                                            | 3435/199549 [00:49<50:09, 65.16it/s]"
     ]
    },
    {
     "name": "stdout",
     "output_type": "stream",
     "text": [
      "sort time:0.004001140594482422\n",
      "prediction time:0.00800180435180664\n",
      "sort time:0.003000974655151367\n",
      "prediction time:0.008002042770385742\n",
      "sort time:0.00400090217590332\n",
      "prediction time:0.00800180435180664\n",
      "sort time:0.0030007362365722656\n",
      "prediction time:0.008002042770385742\n",
      "sort time:0.003000497817993164\n",
      "prediction time:0.007001638412475586\n",
      "sort time:0.003000497817993164\n",
      "prediction time:0.007002115249633789\n",
      "sort time:0.004000186920166016\n",
      "prediction time:0.007001638412475586\n",
      "sort time:0.003000974655151367\n",
      "prediction time:0.008002042770385742\n",
      "sort time:0.003000497817993164\n",
      "prediction time:0.007001638412475586\n",
      "sort time:0.003000497817993164\n",
      "prediction time:0.00800180435180664\n",
      "sort time:0.003000497817993164\n",
      "prediction time:0.007001399993896484\n",
      "sort time:0.0030012130737304688\n",
      "prediction time:0.007001161575317383\n",
      "sort time:0.0030007362365722656\n",
      "prediction time:0.007001638412475586\n"
     ]
    },
    {
     "name": "stderr",
     "output_type": "stream",
     "text": [
      "  2%|█                                                            | 3449/199549 [00:49<49:15, 66.36it/s]"
     ]
    },
    {
     "name": "stdout",
     "output_type": "stream",
     "text": [
      "sort time:0.003000497817993164\n",
      "prediction time:0.007001638412475586\n",
      "sort time:0.004001140594482422\n",
      "prediction time:0.00800180435180664\n",
      "sort time:0.00400090217590332\n",
      "prediction time:0.007001638412475586\n",
      "sort time:0.004001140594482422\n",
      "prediction time:0.008001565933227539\n",
      "sort time:0.00400090217590332\n",
      "prediction time:0.007001638412475586\n",
      "sort time:0.004000663757324219\n",
      "prediction time:0.007001399993896484\n",
      "sort time:0.00400090217590332\n",
      "prediction time:0.007001638412475586\n",
      "sort time:0.003000497817993164\n",
      "prediction time:0.007001638412475586\n",
      "sort time:0.00400090217590332\n",
      "prediction time:0.008002042770385742\n",
      "sort time:0.004000663757324219\n",
      "prediction time:0.006001472473144531\n",
      "sort time:0.0030007362365722656\n",
      "prediction time:0.00800180435180664\n",
      "sort time:0.004000663757324219\n",
      "prediction time:0.00800180435180664\n"
     ]
    },
    {
     "name": "stderr",
     "output_type": "stream",
     "text": [
      "  2%|█                                                            | 3463/199549 [00:49<52:38, 62.08it/s]"
     ]
    },
    {
     "name": "stdout",
     "output_type": "stream",
     "text": [
      "sort time:0.004000663757324219\n",
      "prediction time:0.008001327514648438\n",
      "sort time:0.004001140594482422\n",
      "prediction time:0.007001399993896484\n",
      "sort time:0.00400090217590332\n",
      "prediction time:0.007001638412475586\n",
      "sort time:0.00400090217590332\n",
      "prediction time:0.008001565933227539\n",
      "sort time:0.00400090217590332\n",
      "prediction time:0.00800180435180664\n",
      "sort time:0.0050013065338134766\n",
      "prediction time:0.009001731872558594\n",
      "sort time:0.00400090217590332\n",
      "prediction time:0.007001161575317383\n",
      "sort time:0.004000425338745117\n",
      "prediction time:0.007001638412475586\n",
      "sort time:0.00400090217590332\n",
      "prediction time:0.008001565933227539\n",
      "sort time:0.004001140594482422\n",
      "prediction time:0.00800180435180664\n",
      "sort time:0.004001140594482422\n",
      "prediction time:0.0070018768310546875\n",
      "sort time:0.003000974655151367"
     ]
    },
    {
     "name": "stderr",
     "output_type": "stream",
     "text": [
      "\r",
      "  2%|█                                                            | 3470/199549 [00:49<52:06, 62.71it/s]"
     ]
    },
    {
     "name": "stdout",
     "output_type": "stream",
     "text": [
      "\n",
      "prediction time:0.008002042770385742\n",
      "sort time:0.004000663757324219\n",
      "prediction time:0.008002042770385742\n",
      "sort time:0.0030007362365722656\n",
      "prediction time:0.0060007572174072266\n",
      "sort time:0.003000497817993164\n",
      "prediction time:0.009001493453979492\n",
      "sort time:0.0030007362365722656\n",
      "prediction time:0.007001399993896484\n",
      "sort time:0.003000974655151367\n",
      "prediction time:0.009002208709716797\n",
      "sort time:0.003000974655151367\n",
      "prediction time:0.007001399993896484\n",
      "sort time:0.004001140594482422\n",
      "prediction time:0.00800180435180664\n",
      "sort time:0.0030007362365722656\n",
      "prediction time:0.00800180435180664\n",
      "sort time:0.003000497817993164\n",
      "prediction time:0.0070018768310546875\n",
      "sort time:0.004000663757324219\n",
      "prediction time:0.007002115249633789\n",
      "sort time:0.004000663757324219\n",
      "prediction time:0.007001638412475586\n"
     ]
    },
    {
     "name": "stderr",
     "output_type": "stream",
     "text": [
      "  2%|█                                                            | 3484/199549 [00:49<50:49, 64.28it/s]"
     ]
    },
    {
     "name": "stdout",
     "output_type": "stream",
     "text": [
      "sort time:0.004001140594482422\n",
      "prediction time:0.008002042770385742\n",
      "sort time:0.004000663757324219\n",
      "prediction time:0.009001970291137695\n",
      "sort time:0.00400090217590332\n",
      "prediction time:0.00800180435180664\n",
      "sort time:0.004001140594482422\n",
      "prediction time:0.0070018768310546875\n",
      "sort time:0.0030007362365722656\n",
      "prediction time:0.006001472473144531\n",
      "sort time:0.004000663757324219\n",
      "prediction time:0.006001472473144531\n",
      "sort time:0.003000974655151367\n",
      "prediction time:0.007001638412475586\n",
      "sort time:0.003000497817993164\n",
      "prediction time:0.008001565933227539\n",
      "sort time:0.00400090217590332\n",
      "prediction time:0.00600123405456543\n",
      "sort time:0.0030007362365722656\n",
      "prediction time:0.007001638412475586\n",
      "sort time:0.003000497817993164\n",
      "prediction time:0.00800180435180664\n",
      "sort time:0.003000497817993164\n",
      "prediction time:0.00800180435180664\n",
      "sort time:0.00400090217590332"
     ]
    },
    {
     "name": "stderr",
     "output_type": "stream",
     "text": [
      "  2%|█                                                            | 3498/199549 [00:50<50:00, 65.34it/s]"
     ]
    },
    {
     "name": "stdout",
     "output_type": "stream",
     "text": [
      "\n",
      "prediction time:0.009001970291137695\n",
      "sort time:0.003000497817993164\n",
      "prediction time:0.008001327514648438\n",
      "sort time:0.004000663757324219\n",
      "prediction time:0.007001161575317383\n",
      "sort time:0.0030007362365722656\n",
      "prediction time:0.0070018768310546875\n",
      "sort time:0.003000497817993164\n",
      "prediction time:0.00800180435180664\n",
      "sort time:0.0030007362365722656\n",
      "prediction time:0.00800180435180664\n",
      "sort time:0.0030007362365722656\n",
      "prediction time:0.008002281188964844\n",
      "sort time:0.0040013790130615234\n",
      "prediction time:0.00800180435180664\n",
      "sort time:0.00400090217590332\n",
      "prediction time:0.007001399993896484\n",
      "sort time:0.003000974655151367\n",
      "prediction time:0.007001638412475586\n",
      "sort time:0.0030002593994140625\n",
      "prediction time:0.008002042770385742\n",
      "sort time:0.003000497817993164\n",
      "prediction time:0.008002042770385742\n",
      "sort time:0.004000663757324219\n"
     ]
    },
    {
     "name": "stderr",
     "output_type": "stream",
     "text": [
      "  2%|█                                                            | 3512/199549 [00:50<50:48, 64.31it/s]"
     ]
    },
    {
     "name": "stdout",
     "output_type": "stream",
     "text": [
      "prediction time:0.0070018768310546875\n",
      "sort time:0.004000663757324219\n",
      "prediction time:0.006000995635986328\n",
      "sort time:0.004000663757324219\n",
      "prediction time:0.00800180435180664\n",
      "sort time:0.0030012130737304688\n",
      "prediction time:0.008002281188964844\n",
      "sort time:0.003000020980834961\n",
      "prediction time:0.008002042770385742\n",
      "sort time:0.004000663757324219\n",
      "prediction time:0.00800180435180664\n",
      "sort time:0.003000497817993164\n",
      "prediction time:0.00800180435180664\n",
      "sort time:0.003000974655151367\n",
      "prediction time:0.007001638412475586\n",
      "sort time:0.003000497817993164\n",
      "prediction time:0.0070018768310546875\n",
      "sort time:0.0030002593994140625\n",
      "prediction time:0.008002519607543945\n",
      "sort time:0.0030002593994140625\n",
      "prediction time:0.007002115249633789\n",
      "sort time:0.004001140594482422\n",
      "prediction time:0.007001399993896484\n",
      "sort time:0.0030007362365722656\n"
     ]
    },
    {
     "name": "stderr",
     "output_type": "stream",
     "text": [
      "\r",
      "  2%|█                                                            | 3519/199549 [00:50<50:24, 64.82it/s]"
     ]
    },
    {
     "name": "stdout",
     "output_type": "stream",
     "text": [
      "prediction time:0.006001472473144531\n",
      "sort time:0.004001140594482422\n",
      "prediction time:0.007001638412475586\n",
      "sort time:0.004000663757324219\n",
      "prediction time:0.00800180435180664\n",
      "sort time:0.003000497817993164\n",
      "prediction time:0.00800180435180664\n",
      "sort time:0.003000497817993164\n",
      "prediction time:0.00800180435180664\n",
      "sort time:0.0030012130737304688\n",
      "prediction time:0.00800180435180664\n",
      "sort time:0.003000974655151367\n",
      "prediction time:0.00800180435180664\n",
      "sort time:0.0040013790130615234\n",
      "prediction time:0.006001472473144531\n",
      "sort time:0.00400090217590332\n",
      "prediction time:0.007001638412475586\n",
      "sort time:0.0030007362365722656\n",
      "prediction time:0.00800180435180664\n",
      "sort time:0.003000497817993164\n",
      "prediction time:0.008002042770385742\n",
      "sort time:0.003000497817993164\n",
      "prediction time:0.00800180435180664\n",
      "sort time:0.003000974655151367\n"
     ]
    },
    {
     "name": "stderr",
     "output_type": "stream",
     "text": [
      "  2%|█                                                            | 3533/199549 [00:50<54:34, 59.85it/s]"
     ]
    },
    {
     "name": "stdout",
     "output_type": "stream",
     "text": [
      "prediction time:0.013003110885620117\n",
      "sort time:0.00400090217590332\n",
      "prediction time:0.00800180435180664\n",
      "sort time:0.0050013065338134766\n",
      "prediction time:0.008003473281860352\n",
      "sort time:0.0060002803802490234\n",
      "prediction time:0.009001731872558594\n",
      "sort time:0.005001544952392578\n",
      "prediction time:0.008001565933227539\n",
      "sort time:0.0030007362365722656\n",
      "prediction time:0.00800180435180664\n",
      "sort time:0.003000974655151367\n",
      "prediction time:0.007001399993896484\n",
      "sort time:0.004001140594482422\n",
      "prediction time:0.007001399993896484\n",
      "sort time:0.004000425338745117\n",
      "prediction time:0.007001638412475586\n",
      "sort time:0.003000497817993164\n",
      "prediction time:0.008002042770385742\n",
      "sort time:0.0030002593994140625\n",
      "prediction time:0.007001638412475586\n",
      "sort time:0.003000497817993164\n",
      "prediction time:0.007001638412475586\n"
     ]
    },
    {
     "name": "stderr",
     "output_type": "stream",
     "text": [
      "  2%|█                                                            | 3547/199549 [00:50<51:47, 63.07it/s]"
     ]
    },
    {
     "name": "stdout",
     "output_type": "stream",
     "text": [
      "sort time:0.0030007362365722656\n",
      "prediction time:0.00800180435180664\n",
      "sort time:0.00400090217590332\n",
      "prediction time:0.007001638412475586\n",
      "sort time:0.0030007362365722656\n",
      "prediction time:0.009001970291137695\n",
      "sort time:0.0030007362365722656\n",
      "prediction time:0.007001399993896484\n",
      "sort time:0.003000497817993164\n",
      "prediction time:0.00800180435180664\n",
      "sort time:0.003000974655151367\n",
      "prediction time:0.007001638412475586\n",
      "sort time:0.003000497817993164\n",
      "prediction time:0.007001638412475586\n",
      "sort time:0.00400090217590332\n",
      "prediction time:0.0070018768310546875\n",
      "sort time:0.004000663757324219\n",
      "prediction time:0.006001472473144531\n",
      "sort time:0.004001617431640625\n",
      "prediction time:0.009001970291137695\n",
      "sort time:0.0030012130737304688\n",
      "prediction time:0.008002042770385742\n",
      "sort time:0.004001140594482422\n",
      "prediction time:0.00800180435180664\n"
     ]
    },
    {
     "name": "stderr",
     "output_type": "stream",
     "text": [
      "\r",
      "  2%|█                                                            | 3554/199549 [00:50<51:22, 63.58it/s]"
     ]
    },
    {
     "name": "stdout",
     "output_type": "stream",
     "text": [
      "sort time:0.004001140594482422\n",
      "prediction time:0.007001638412475586\n",
      "sort time:0.0040013790130615234\n",
      "prediction time:0.00800180435180664\n",
      "sort time:0.003000497817993164\n",
      "prediction time:0.007001638412475586\n",
      "sort time:0.0030007362365722656\n",
      "prediction time:0.007001638412475586\n",
      "sort time:0.00400090217590332\n",
      "prediction time:0.007001638412475586\n",
      "sort time:0.0030007362365722656\n",
      "prediction time:0.0070018768310546875\n",
      "sort time:0.003000974655151367\n",
      "prediction time:0.00800180435180664\n",
      "sort time:0.003000497817993164\n",
      "prediction time:0.007000923156738281\n",
      "sort time:0.004001140594482422\n",
      "prediction time:0.00800180435180664\n",
      "sort time:0.0030007362365722656\n",
      "prediction time:0.00800180435180664\n",
      "sort time:0.004001140594482422\n",
      "prediction time:0.00800180435180664\n",
      "sort time:0.003000497817993164\n",
      "prediction time:0.00800180435180664\n",
      "sort time:0.0030007362365722656\n"
     ]
    },
    {
     "name": "stderr",
     "output_type": "stream",
     "text": [
      "  2%|█                                                            | 3568/199549 [00:51<50:57, 64.09it/s]"
     ]
    },
    {
     "name": "stdout",
     "output_type": "stream",
     "text": [
      "prediction time:0.0070018768310546875\n",
      "sort time:0.004001140594482422\n",
      "prediction time:0.008002042770385742\n",
      "sort time:0.003000497817993164\n",
      "prediction time:0.007001638412475586\n",
      "sort time:0.003000974655151367\n",
      "prediction time:0.007001399993896484\n",
      "sort time:0.003000974655151367\n",
      "prediction time:0.00800180435180664\n",
      "sort time:0.003000497817993164\n",
      "prediction time:0.007001399993896484\n",
      "sort time:0.0030007362365722656\n",
      "prediction time:0.008002042770385742\n",
      "sort time:0.003000497817993164\n",
      "prediction time:0.00800180435180664\n",
      "sort time:0.0030007362365722656\n",
      "prediction time:0.00800180435180664\n",
      "sort time:0.0030007362365722656\n",
      "prediction time:0.008002758026123047\n",
      "sort time:0.0029997825622558594\n",
      "prediction time:0.007001638412475586\n",
      "sort time:0.003000974655151367\n",
      "prediction time:0.006001472473144531\n",
      "sort time:0.0030007362365722656\n",
      "prediction time:0.007001399993896484\n"
     ]
    },
    {
     "name": "stderr",
     "output_type": "stream",
     "text": [
      "  2%|█                                                            | 3582/199549 [00:51<49:46, 65.61it/s]"
     ]
    },
    {
     "name": "stdout",
     "output_type": "stream",
     "text": [
      "sort time:0.004001140594482422\n",
      "prediction time:0.007002115249633789\n",
      "sort time:0.003000974655151367\n",
      "prediction time:0.007001161575317383\n",
      "sort time:0.0030007362365722656\n",
      "prediction time:0.007001399993896484\n",
      "sort time:0.004001140594482422\n",
      "prediction time:0.008002042770385742\n",
      "sort time:0.003000497817993164\n",
      "prediction time:0.007001638412475586\n",
      "sort time:0.00400090217590332\n",
      "prediction time:0.008002042770385742\n",
      "sort time:0.003000497817993164\n",
      "prediction time:0.008001565933227539\n",
      "sort time:0.003000974655151367\n",
      "prediction time:0.007001638412475586\n",
      "sort time:0.004000663757324219\n",
      "prediction time:0.00600123405456543\n",
      "sort time:0.0030007362365722656\n",
      "prediction time:0.007001638412475586\n",
      "sort time:0.0030007362365722656\n",
      "prediction time:0.008001089096069336\n",
      "sort time:0.003000497817993164\n",
      "prediction time:0.007001638412475586\n",
      "sort time:0.00400090217590332"
     ]
    },
    {
     "name": "stderr",
     "output_type": "stream",
     "text": [
      "  2%|█                                                            | 3596/199549 [00:51<51:12, 63.77it/s]"
     ]
    },
    {
     "name": "stdout",
     "output_type": "stream",
     "text": [
      "\n",
      "prediction time:0.0070018768310546875\n",
      "sort time:0.004000663757324219\n",
      "prediction time:0.008002042770385742\n",
      "sort time:0.003000497817993164\n",
      "prediction time:0.007001638412475586\n",
      "sort time:0.003000497817993164\n",
      "prediction time:0.009001970291137695\n",
      "sort time:0.003000497817993164\n",
      "prediction time:0.008002042770385742\n",
      "sort time:0.003000497817993164\n",
      "prediction time:0.00800180435180664\n",
      "sort time:0.0030014514923095703\n",
      "prediction time:0.008001565933227539\n",
      "sort time:0.003000974655151367\n",
      "prediction time:0.007000923156738281\n",
      "sort time:0.0030007362365722656\n",
      "prediction time:0.008002281188964844\n",
      "sort time:0.0030007362365722656\n",
      "prediction time:0.007001638412475586\n",
      "sort time:0.004001140594482422\n",
      "prediction time:0.008001565933227539\n",
      "sort time:0.004001140594482422\n",
      "prediction time:0.008002042770385742\n"
     ]
    },
    {
     "name": "stderr",
     "output_type": "stream",
     "text": [
      "\r",
      "  2%|█                                                            | 3603/199549 [00:51<53:29, 61.06it/s]"
     ]
    },
    {
     "name": "stdout",
     "output_type": "stream",
     "text": [
      "sort time:0.00500178337097168\n",
      "prediction time:0.008001565933227539\n",
      "sort time:0.004000663757324219\n",
      "prediction time:0.009002208709716797\n",
      "sort time:0.004000663757324219\n",
      "prediction time:0.007001638412475586\n",
      "sort time:0.00400090217590332\n",
      "prediction time:0.007001638412475586\n",
      "sort time:0.00400090217590332\n",
      "prediction time:0.008002996444702148\n",
      "sort time:0.003999233245849609\n",
      "prediction time:0.008002042770385742\n",
      "sort time:0.0030012130737304688\n",
      "prediction time:0.007001638412475586\n",
      "sort time:0.00400090217590332\n",
      "prediction time:0.0070018768310546875\n",
      "sort time:0.00400090217590332\n",
      "prediction time:0.00800180435180664\n",
      "sort time:0.0030012130737304688\n",
      "prediction time:0.008001565933227539\n",
      "sort time:0.003000497817993164\n",
      "prediction time:0.006001710891723633\n",
      "sort time:0.003000497817993164\n",
      "prediction time:0.0070018768310546875\n"
     ]
    },
    {
     "name": "stderr",
     "output_type": "stream",
     "text": [
      "  2%|█                                                            | 3617/199549 [00:51<51:49, 63.01it/s]"
     ]
    },
    {
     "name": "stdout",
     "output_type": "stream",
     "text": [
      "sort time:0.00400090217590332\n",
      "prediction time:0.007001638412475586\n",
      "sort time:0.004000663757324219\n",
      "prediction time:0.006000995635986328\n",
      "sort time:0.0040013790130615234\n",
      "prediction time:0.00800180435180664\n",
      "sort time:0.003000974655151367\n",
      "prediction time:0.007001638412475586\n",
      "sort time:0.00400090217590332\n",
      "prediction time:0.007001399993896484\n",
      "sort time:0.00400090217590332\n",
      "prediction time:0.007002115249633789\n",
      "sort time:0.0030002593994140625\n",
      "prediction time:0.008002042770385742\n",
      "sort time:0.0030007362365722656\n",
      "prediction time:0.006001710891723633\n",
      "sort time:0.003000497817993164\n",
      "prediction time:0.00800180435180664\n",
      "sort time:0.003000497817993164\n",
      "prediction time:0.00600123405456543\n",
      "sort time:0.004001140594482422\n",
      "prediction time:0.007001638412475586\n",
      "sort time:0.003000497817993164\n",
      "prediction time:0.006001710891723633\n"
     ]
    },
    {
     "name": "stderr",
     "output_type": "stream",
     "text": [
      "  2%|█                                                            | 3631/199549 [00:52<50:40, 64.44it/s]"
     ]
    },
    {
     "name": "stdout",
     "output_type": "stream",
     "text": [
      "sort time:0.0030007362365722656\n",
      "prediction time:0.009002447128295898\n",
      "sort time:0.0030007362365722656\n",
      "prediction time:0.007001399993896484\n",
      "sort time:0.0040013790130615234\n",
      "prediction time:0.008002042770385742\n",
      "sort time:0.0030007362365722656\n",
      "prediction time:0.0070018768310546875\n",
      "sort time:0.004000663757324219\n",
      "prediction time:0.007001638412475586\n",
      "sort time:0.00400090217590332\n",
      "prediction time:0.008001565933227539\n",
      "sort time:0.003000974655151367\n",
      "prediction time:0.008002042770385742\n",
      "sort time:0.0030007362365722656\n",
      "prediction time:0.008002281188964844\n",
      "sort time:0.0030002593994140625\n",
      "prediction time:0.00800180435180664\n",
      "sort time:0.0030007362365722656\n",
      "prediction time:0.010002374649047852\n",
      "sort time:0.00400090217590332\n",
      "prediction time:0.00800180435180664\n",
      "sort time:0.003000497817993164\n",
      "prediction time:0.00800180435180664\n"
     ]
    },
    {
     "name": "stderr",
     "output_type": "stream",
     "text": [
      "  2%|█                                                            | 3645/199549 [00:52<50:41, 64.41it/s]"
     ]
    },
    {
     "name": "stdout",
     "output_type": "stream",
     "text": [
      "sort time:0.0030007362365722656\n",
      "prediction time:0.008002042770385742\n",
      "sort time:0.003000974655151367\n",
      "prediction time:0.00800180435180664\n",
      "sort time:0.0030007362365722656\n",
      "prediction time:0.007001399993896484\n",
      "sort time:0.0030007362365722656\n",
      "prediction time:0.007001638412475586\n",
      "sort time:0.0040013790130615234\n",
      "prediction time:0.0070018768310546875\n",
      "sort time:0.003000497817993164\n",
      "prediction time:0.00800180435180664\n",
      "sort time:0.003000497817993164\n",
      "prediction time:0.006002902984619141\n",
      "sort time:0.0029990673065185547\n",
      "prediction time:0.00800180435180664\n",
      "sort time:0.003000497817993164\n",
      "prediction time:0.00800180435180664\n",
      "sort time:0.0030007362365722656\n",
      "prediction time:0.00600123405456543\n",
      "sort time:0.003000497817993164\n",
      "prediction time:0.007001638412475586\n",
      "sort time:0.003000497817993164\n",
      "prediction time:0.008002281188964844\n",
      "sort time:0.003000497817993164"
     ]
    },
    {
     "name": "stderr",
     "output_type": "stream",
     "text": [
      "\r",
      "  2%|█                                                            | 3652/199549 [00:52<50:35, 64.53it/s]"
     ]
    },
    {
     "name": "stdout",
     "output_type": "stream",
     "text": [
      "\n",
      "prediction time:0.00800180435180664\n",
      "sort time:0.00400090217590332\n",
      "prediction time:0.007001638412475586\n",
      "sort time:0.004000663757324219\n",
      "prediction time:0.008001565933227539\n",
      "sort time:0.003000974655151367\n",
      "prediction time:0.00800180435180664\n",
      "sort time:0.0030007362365722656\n",
      "prediction time:0.00800180435180664\n",
      "sort time:0.003000497817993164\n",
      "prediction time:0.007001638412475586\n",
      "sort time:0.003000497817993164\n",
      "prediction time:0.007001399993896484\n",
      "sort time:0.0030007362365722656\n",
      "prediction time:0.008002042770385742\n",
      "sort time:0.0030007362365722656\n",
      "prediction time:0.00800180435180664\n",
      "sort time:0.0030007362365722656\n",
      "prediction time:0.008002281188964844\n",
      "sort time:0.0030002593994140625\n",
      "prediction time:0.007001638412475586\n",
      "sort time:0.003000497817993164\n",
      "prediction time:0.0070018768310546875\n",
      "sort time:0.003000974655151367"
     ]
    },
    {
     "name": "stderr",
     "output_type": "stream",
     "text": [
      "  2%|█                                                            | 3666/199549 [00:52<53:32, 60.98it/s]"
     ]
    },
    {
     "name": "stdout",
     "output_type": "stream",
     "text": [
      "\n",
      "prediction time:0.009002208709716797\n",
      "sort time:0.004001140594482422\n",
      "prediction time:0.00800180435180664\n",
      "sort time:0.0030007362365722656\n",
      "prediction time:0.009001493453979492\n",
      "sort time:0.0040013790130615234\n",
      "prediction time:0.008002042770385742\n",
      "sort time:0.0030007362365722656\n",
      "prediction time:0.007001399993896484\n",
      "sort time:0.0030014514923095703\n",
      "prediction time:0.008001565933227539\n",
      "sort time:0.003000974655151367\n",
      "prediction time:0.0070018768310546875\n",
      "sort time:0.0040013790130615234\n",
      "prediction time:0.008002042770385742\n",
      "sort time:0.004002094268798828\n",
      "prediction time:0.00800180435180664\n",
      "sort time:0.0050013065338134766\n",
      "prediction time:0.012001991271972656\n",
      "sort time:0.005000591278076172\n"
     ]
    },
    {
     "name": "stderr",
     "output_type": "stream",
     "text": [
      "  2%|█                                                            | 3680/199549 [00:52<52:55, 61.69it/s]"
     ]
    },
    {
     "name": "stdout",
     "output_type": "stream",
     "text": [
      "prediction time:0.007002115249633789\n",
      "sort time:0.004000663757324219\n",
      "prediction time:0.008001327514648438\n",
      "sort time:0.00400090217590332\n",
      "prediction time:0.007001638412475586\n",
      "sort time:0.004000663757324219\n",
      "prediction time:0.00800180435180664\n",
      "sort time:0.0030007362365722656\n",
      "prediction time:0.007001638412475586\n",
      "sort time:0.004000663757324219\n",
      "prediction time:0.009001970291137695\n",
      "sort time:0.00400090217590332\n",
      "prediction time:0.008002042770385742\n",
      "sort time:0.004000663757324219\n",
      "prediction time:0.007002115249633789\n",
      "sort time:0.003000497817993164\n",
      "prediction time:0.00800180435180664\n",
      "sort time:0.0030012130737304688\n",
      "prediction time:0.009001970291137695\n",
      "sort time:0.003000497817993164\n",
      "prediction time:0.006001710891723633\n",
      "sort time:0.0030002593994140625\n",
      "prediction time:0.007001638412475586\n",
      "sort time:0.004001140594482422\n",
      "prediction time:0.00800180435180664\n",
      "sort time:0.004001140594482422"
     ]
    },
    {
     "name": "stderr",
     "output_type": "stream",
     "text": [
      "\r",
      "  2%|█▏                                                           | 3687/199549 [00:53<51:35, 63.27it/s]"
     ]
    },
    {
     "name": "stdout",
     "output_type": "stream",
     "text": [
      "\n",
      "prediction time:0.00600123405456543\n",
      "sort time:0.0030007362365722656\n",
      "prediction time:0.008001327514648438\n",
      "sort time:0.003000497817993164\n",
      "prediction time:0.00800180435180664\n",
      "sort time:0.0030007362365722656\n",
      "prediction time:0.007001399993896484\n",
      "sort time:0.0030007362365722656\n",
      "prediction time:0.00600123405456543\n",
      "sort time:0.0030007362365722656\n",
      "prediction time:0.007001638412475586\n",
      "sort time:0.003000497817993164\n",
      "prediction time:0.008002042770385742\n",
      "sort time:0.004000663757324219\n",
      "prediction time:0.008002042770385742\n",
      "sort time:0.003000497817993164\n",
      "prediction time:0.0070018768310546875\n",
      "sort time:0.00400090217590332\n",
      "prediction time:0.0070018768310546875\n",
      "sort time:0.003000497817993164\n",
      "prediction time:0.009002208709716797\n",
      "sort time:0.003000497817993164\n",
      "prediction time:0.007001399993896484\n",
      "sort time:0.003000974655151367\n",
      "prediction time:0.00800180435180664\n"
     ]
    },
    {
     "name": "stderr",
     "output_type": "stream",
     "text": [
      "  2%|█▏                                                           | 3701/199549 [00:53<50:40, 64.41it/s]"
     ]
    },
    {
     "name": "stdout",
     "output_type": "stream",
     "text": [
      "sort time:0.003000497817993164\n",
      "prediction time:0.007001399993896484\n",
      "sort time:0.0040013790130615234\n",
      "prediction time:0.007001638412475586\n",
      "sort time:0.0030007362365722656\n",
      "prediction time:0.009001970291137695\n",
      "sort time:0.0030007362365722656\n",
      "prediction time:0.00800180435180664\n",
      "sort time:0.003000497817993164\n",
      "prediction time:0.007001638412475586\n",
      "sort time:0.0030007362365722656\n",
      "prediction time:0.006001472473144531\n",
      "sort time:0.0030007362365722656\n",
      "prediction time:0.00800180435180664\n",
      "sort time:0.003000497817993164\n",
      "prediction time:0.007001638412475586\n",
      "sort time:0.004000663757324219\n",
      "prediction time:0.007001638412475586\n",
      "sort time:0.00400090217590332\n",
      "prediction time:0.007001399993896484\n",
      "sort time:0.003000974655151367\n",
      "prediction time:0.00800180435180664\n",
      "sort time:0.004001140594482422\n",
      "prediction time:0.00800180435180664\n",
      "sort time:0.003000974655151367"
     ]
    },
    {
     "name": "stderr",
     "output_type": "stream",
     "text": [
      "  2%|█▏                                                           | 3715/199549 [00:53<50:34, 64.54it/s]"
     ]
    },
    {
     "name": "stdout",
     "output_type": "stream",
     "text": [
      "\n",
      "prediction time:0.007001638412475586\n",
      "sort time:0.003000497817993164\n",
      "prediction time:0.008002281188964844\n",
      "sort time:0.0030002593994140625\n",
      "prediction time:0.009001970291137695\n",
      "sort time:0.004001140594482422\n",
      "prediction time:0.007001399993896484\n",
      "sort time:0.003000497817993164\n",
      "prediction time:0.007001638412475586\n",
      "sort time:0.003000497817993164\n",
      "prediction time:0.007001399993896484\n",
      "sort time:0.0030007362365722656\n",
      "prediction time:0.00800180435180664\n",
      "sort time:0.0030007362365722656\n",
      "prediction time:0.00800180435180664\n",
      "sort time:0.0030007362365722656\n",
      "prediction time:0.00800180435180664\n",
      "sort time:0.0030007362365722656\n",
      "prediction time:0.00800180435180664\n",
      "sort time:0.003000974655151367\n",
      "prediction time:0.00800180435180664\n",
      "sort time:0.004001140594482422\n",
      "prediction time:0.00800180435180664\n",
      "sort time:0.003000497817993164"
     ]
    },
    {
     "name": "stderr",
     "output_type": "stream",
     "text": [
      "  2%|█▏                                                           | 3729/199549 [00:53<50:38, 64.44it/s]"
     ]
    },
    {
     "name": "stdout",
     "output_type": "stream",
     "text": [
      "\n",
      "prediction time:0.007000923156738281\n",
      "sort time:0.003000974655151367\n",
      "prediction time:0.007001638412475586\n",
      "sort time:0.003000497817993164\n",
      "prediction time:0.007001638412475586\n",
      "sort time:0.00400090217590332\n",
      "prediction time:0.007001638412475586\n",
      "sort time:0.004000663757324219\n",
      "prediction time:0.008001565933227539\n",
      "sort time:0.00400090217590332\n",
      "prediction time:0.008001565933227539\n",
      "sort time:0.00400090217590332\n",
      "prediction time:0.006001472473144531\n",
      "sort time:0.00400090217590332\n",
      "prediction time:0.008002042770385742\n",
      "sort time:0.003000497817993164\n",
      "prediction time:0.00600123405456543\n",
      "sort time:0.0030007362365722656\n",
      "prediction time:0.009001970291137695\n",
      "sort time:0.003000974655151367\n",
      "prediction time:0.0070018768310546875\n",
      "sort time:0.003000497817993164\n",
      "prediction time:0.007001638412475586\n",
      "sort time:0.004000663757324219"
     ]
    },
    {
     "name": "stderr",
     "output_type": "stream",
     "text": [
      "\r",
      "  2%|█▏                                                           | 3736/199549 [00:53<52:56, 61.65it/s]"
     ]
    },
    {
     "name": "stdout",
     "output_type": "stream",
     "text": [
      "\n",
      "prediction time:0.00800180435180664\n",
      "sort time:0.0030007362365722656\n",
      "prediction time:0.008001089096069336\n",
      "sort time:0.004001617431640625\n",
      "prediction time:0.007001638412475586\n",
      "sort time:0.00400090217590332\n",
      "prediction time:0.00800180435180664\n",
      "sort time:0.003000497817993164\n",
      "prediction time:0.008002042770385742\n",
      "sort time:0.004001140594482422\n",
      "prediction time:0.01000213623046875\n",
      "sort time:0.004001140594482422\n",
      "prediction time:0.009001970291137695\n",
      "sort time:0.00400090217590332\n",
      "prediction time:0.008002042770385742\n",
      "sort time:0.003000020980834961\n",
      "prediction time:0.007001638412475586\n",
      "sort time:0.004000425338745117\n",
      "prediction time:0.007001399993896484\n",
      "sort time:0.0030007362365722656\n",
      "prediction time:0.007001638412475586\n"
     ]
    },
    {
     "name": "stderr",
     "output_type": "stream",
     "text": [
      "  2%|█▏                                                           | 3750/199549 [00:54<52:31, 62.14it/s]"
     ]
    },
    {
     "name": "stdout",
     "output_type": "stream",
     "text": [
      "sort time:0.003000497817993164\n",
      "prediction time:0.007001638412475586\n",
      "sort time:0.0040013790130615234\n",
      "prediction time:0.007001399993896484\n",
      "sort time:0.003000497817993164\n",
      "prediction time:0.00800180435180664\n",
      "sort time:0.003000497817993164\n",
      "prediction time:0.007001638412475586\n",
      "sort time:0.003000497817993164\n",
      "prediction time:0.00800180435180664\n",
      "sort time:0.003000497817993164\n",
      "prediction time:0.007001399993896484\n",
      "sort time:0.0030007362365722656\n",
      "prediction time:0.00800180435180664\n",
      "sort time:0.003000497817993164\n",
      "prediction time:0.007001638412475586\n",
      "sort time:0.004000663757324219\n",
      "prediction time:0.007001638412475586\n",
      "sort time:0.004000663757324219\n",
      "prediction time:0.007001399993896484\n",
      "sort time:0.003000974655151367\n",
      "prediction time:0.007001638412475586\n",
      "sort time:0.0030007362365722656\n",
      "prediction time:0.008001565933227539\n"
     ]
    },
    {
     "name": "stderr",
     "output_type": "stream",
     "text": [
      "  2%|█▏                                                           | 3764/199549 [00:54<50:53, 64.11it/s]"
     ]
    },
    {
     "name": "stdout",
     "output_type": "stream",
     "text": [
      "sort time:0.004001140594482422\n",
      "prediction time:0.007001161575317383\n",
      "sort time:0.004001140594482422\n",
      "prediction time:0.008002042770385742\n",
      "sort time:0.003000497817993164\n",
      "prediction time:0.007001638412475586\n",
      "sort time:0.0030007362365722656\n",
      "prediction time:0.007001399993896484\n",
      "sort time:0.0030012130737304688\n",
      "prediction time:0.00800180435180664\n",
      "sort time:0.00400090217590332\n",
      "prediction time:0.008002519607543945\n",
      "sort time:0.003000497817993164\n",
      "prediction time:0.007001638412475586\n",
      "sort time:0.003000497817993164\n",
      "prediction time:0.007001638412475586\n",
      "sort time:0.004000663757324219\n",
      "prediction time:0.006001472473144531\n",
      "sort time:0.003000497817993164\n",
      "prediction time:0.007001638412475586\n",
      "sort time:0.0030007362365722656\n",
      "prediction time:0.0070018768310546875\n",
      "sort time:0.003000974655151367\n",
      "prediction time:0.0070018768310546875\n"
     ]
    },
    {
     "name": "stderr",
     "output_type": "stream",
     "text": [
      "\r",
      "  2%|█▏                                                           | 3771/199549 [00:54<51:00, 63.97it/s]"
     ]
    },
    {
     "name": "stdout",
     "output_type": "stream",
     "text": [
      "sort time:0.00400090217590332\n",
      "prediction time:0.007002115249633789\n",
      "sort time:0.0030002593994140625\n",
      "prediction time:0.008002042770385742\n",
      "sort time:0.004000663757324219\n",
      "prediction time:0.008001565933227539\n",
      "sort time:0.004000663757324219\n",
      "prediction time:0.007001399993896484\n",
      "sort time:0.003000974655151367\n",
      "prediction time:0.007001638412475586\n",
      "sort time:0.0030012130737304688\n",
      "prediction time:0.007001638412475586\n",
      "sort time:0.0030007362365722656\n",
      "prediction time:0.008001565933227539\n",
      "sort time:0.004001617431640625\n",
      "prediction time:0.00800180435180664\n",
      "sort time:0.003000497817993164\n",
      "prediction time:0.007001638412475586\n",
      "sort time:0.003000497817993164\n",
      "prediction time:0.007001638412475586\n",
      "sort time:0.003000497817993164\n",
      "prediction time:0.00800180435180664\n",
      "sort time:0.0030007362365722656\n",
      "prediction time:0.007001638412475586\n"
     ]
    },
    {
     "name": "stderr",
     "output_type": "stream",
     "text": [
      "  2%|█▏                                                           | 3785/199549 [00:54<50:46, 64.26it/s]"
     ]
    },
    {
     "name": "stdout",
     "output_type": "stream",
     "text": [
      "sort time:0.004000663757324219\n",
      "prediction time:0.007001399993896484\n",
      "sort time:0.004000663757324219\n",
      "prediction time:0.006001472473144531\n",
      "sort time:0.0030007362365722656\n",
      "prediction time:0.008002042770385742\n",
      "sort time:0.004001140594482422\n",
      "prediction time:0.008001565933227539\n",
      "sort time:0.003000497817993164\n",
      "prediction time:0.00800180435180664\n",
      "sort time:0.003000497817993164\n",
      "prediction time:0.007001161575317383\n",
      "sort time:0.003000974655151367\n",
      "prediction time:0.008001565933227539\n",
      "sort time:0.003000974655151367\n",
      "prediction time:0.00800180435180664\n",
      "sort time:0.0030007362365722656\n",
      "prediction time:0.007001638412475586\n",
      "sort time:0.004000663757324219\n",
      "prediction time:0.008002042770385742\n",
      "sort time:0.0030002593994140625\n",
      "prediction time:0.007001399993896484\n",
      "sort time:0.0030012130737304688\n",
      "prediction time:0.008002042770385742\n",
      "sort time:0.003000497817993164\n"
     ]
    },
    {
     "name": "stderr",
     "output_type": "stream",
     "text": [
      "  2%|█▏                                                           | 3799/199549 [00:54<52:59, 61.57it/s]"
     ]
    },
    {
     "name": "stdout",
     "output_type": "stream",
     "text": [
      "prediction time:0.007001399993896484\n",
      "sort time:0.003000974655151367\n",
      "prediction time:0.00800180435180664\n",
      "sort time:0.0030007362365722656\n",
      "prediction time:0.0070018768310546875\n",
      "sort time:0.00400090217590332\n",
      "prediction time:0.008002042770385742\n",
      "sort time:0.004000663757324219\n",
      "prediction time:0.00800180435180664\n",
      "sort time:0.0030002593994140625\n",
      "prediction time:0.008002281188964844\n",
      "sort time:0.00400090217590332\n",
      "prediction time:0.00800180435180664\n",
      "sort time:0.003000497817993164\n",
      "prediction time:0.00700068473815918\n",
      "sort time:0.003000497817993164\n",
      "prediction time:0.0070018768310546875\n",
      "sort time:0.004000425338745117\n",
      "prediction time:0.008001565933227539\n",
      "sort time:0.00400090217590332\n",
      "prediction time:0.008001565933227539\n",
      "sort time:0.005001068115234375\n",
      "prediction time:0.008002042770385742\n",
      "sort time:0.0040013790130615234"
     ]
    },
    {
     "name": "stderr",
     "output_type": "stream",
     "text": [
      "\r",
      "  2%|█▏                                                           | 3806/199549 [00:55<55:41, 58.58it/s]"
     ]
    },
    {
     "name": "stdout",
     "output_type": "stream",
     "text": [
      "\n",
      "prediction time:0.008001565933227539\n",
      "sort time:0.00500035285949707\n",
      "prediction time:0.00800180435180664\n",
      "sort time:0.0030007362365722656\n",
      "prediction time:0.007001161575317383\n",
      "sort time:0.004000663757324219\n",
      "prediction time:0.00800180435180664\n",
      "sort time:0.0030007362365722656\n",
      "prediction time:0.008001089096069336\n",
      "sort time:0.00400090217590332\n",
      "prediction time:0.00800180435180664\n",
      "sort time:0.00400090217590332\n",
      "prediction time:0.00800180435180664\n",
      "sort time:0.004000663757324219\n",
      "prediction time:0.007001638412475586\n",
      "sort time:0.0030007362365722656\n",
      "prediction time:0.00800180435180664\n",
      "sort time:0.003000497817993164\n",
      "prediction time:0.00800180435180664\n",
      "sort time:0.003000974655151367\n",
      "prediction time:0.007001399993896484\n"
     ]
    },
    {
     "name": "stderr",
     "output_type": "stream",
     "text": [
      "  2%|█▏                                                           | 3820/199549 [00:55<53:10, 61.35it/s]"
     ]
    },
    {
     "name": "stdout",
     "output_type": "stream",
     "text": [
      "sort time:0.004001140594482422\n",
      "prediction time:0.0070018768310546875\n",
      "sort time:0.004001140594482422\n",
      "prediction time:0.008001565933227539\n",
      "sort time:0.00400090217590332\n",
      "prediction time:0.007001638412475586\n",
      "sort time:0.004000663757324219\n",
      "prediction time:0.008001565933227539\n",
      "sort time:0.0030007362365722656\n",
      "prediction time:0.007001638412475586\n",
      "sort time:0.003000497817993164\n",
      "prediction time:0.007001399993896484\n",
      "sort time:0.0030007362365722656\n",
      "prediction time:0.007001638412475586\n",
      "sort time:0.003000497817993164\n",
      "prediction time:0.006001472473144531\n",
      "sort time:0.0030007362365722656\n",
      "prediction time:0.007001638412475586\n",
      "sort time:0.00400090217590332\n",
      "prediction time:0.008002042770385742\n",
      "sort time:0.0030007362365722656\n",
      "prediction time:0.00800180435180664\n",
      "sort time:0.0030012130737304688\n",
      "prediction time:0.008001327514648438\n"
     ]
    },
    {
     "name": "stderr",
     "output_type": "stream",
     "text": [
      "  2%|█▏                                                           | 3834/199549 [00:55<52:11, 62.49it/s]"
     ]
    },
    {
     "name": "stdout",
     "output_type": "stream",
     "text": [
      "sort time:0.0030007362365722656\n",
      "prediction time:0.0070018768310546875\n",
      "sort time:0.003000497817993164\n",
      "prediction time:0.007001638412475586\n",
      "sort time:0.0030007362365722656\n",
      "prediction time:0.007001638412475586\n",
      "sort time:0.00400233268737793\n",
      "prediction time:0.007001638412475586\n",
      "sort time:0.003000497817993164\n",
      "prediction time:0.007001638412475586\n",
      "sort time:0.003000497817993164\n",
      "prediction time:0.007002115249633789\n",
      "sort time:0.003000497817993164\n",
      "prediction time:0.007001399993896484\n",
      "sort time:0.0030007362365722656\n",
      "prediction time:0.00800180435180664\n",
      "sort time:0.0030007362365722656\n",
      "prediction time:0.00800180435180664\n",
      "sort time:0.003000497817993164\n",
      "prediction time:0.009001970291137695\n",
      "sort time:0.0030007362365722656\n",
      "prediction time:0.009002208709716797\n",
      "sort time:0.0030007362365722656\n",
      "prediction time:0.008002042770385742\n"
     ]
    },
    {
     "name": "stderr",
     "output_type": "stream",
     "text": [
      "\r",
      "  2%|█▏                                                           | 3841/199549 [00:55<52:03, 62.66it/s]"
     ]
    },
    {
     "name": "stdout",
     "output_type": "stream",
     "text": [
      "sort time:0.004000663757324219\n",
      "prediction time:0.0070018768310546875\n",
      "sort time:0.0030007362365722656\n",
      "prediction time:0.00800180435180664\n",
      "sort time:0.003000497817993164\n",
      "prediction time:0.007001638412475586\n",
      "sort time:0.00400090217590332\n",
      "prediction time:0.00800180435180664\n",
      "sort time:0.0030007362365722656\n",
      "prediction time:0.007001638412475586\n",
      "sort time:0.004001140594482422\n",
      "prediction time:0.008002042770385742\n",
      "sort time:0.0030007362365722656\n",
      "prediction time:0.009001970291137695\n",
      "sort time:0.0030007362365722656\n",
      "prediction time:0.006001472473144531\n",
      "sort time:0.003000497817993164\n",
      "prediction time:0.0070018768310546875\n",
      "sort time:0.004000663757324219\n",
      "prediction time:0.008002519607543945\n",
      "sort time:0.0029997825622558594\n",
      "prediction time:0.00800180435180664\n",
      "sort time:0.0030007362365722656\n",
      "prediction time:0.006001472473144531\n"
     ]
    },
    {
     "name": "stderr",
     "output_type": "stream",
     "text": [
      "  2%|█▏                                                           | 3855/199549 [00:55<51:08, 63.77it/s]"
     ]
    },
    {
     "name": "stdout",
     "output_type": "stream",
     "text": [
      "sort time:0.004000663757324219\n",
      "prediction time:0.008002519607543945\n",
      "sort time:0.0030002593994140625\n",
      "prediction time:0.007000923156738281\n",
      "sort time:0.0030007362365722656\n",
      "prediction time:0.008002042770385742\n",
      "sort time:0.0030007362365722656\n",
      "prediction time:0.00800180435180664\n",
      "sort time:0.0030007362365722656\n",
      "prediction time:0.007001399993896484\n",
      "sort time:0.003000497817993164\n",
      "prediction time:0.007001399993896484\n",
      "sort time:0.0030007362365722656\n",
      "prediction time:0.007001638412475586\n",
      "sort time:0.003000497817993164\n",
      "prediction time:0.007001638412475586\n",
      "sort time:0.003000497817993164\n",
      "prediction time:0.007001638412475586\n",
      "sort time:0.003000974655151367\n",
      "prediction time:0.00800180435180664\n",
      "sort time:0.003000497817993164\n",
      "prediction time:0.00800180435180664\n",
      "sort time:0.00400090217590332\n",
      "prediction time:0.007002115249633789\n",
      "sort time:0.004000425338745117"
     ]
    },
    {
     "name": "stderr",
     "output_type": "stream",
     "text": [
      "  2%|█▏                                                           | 3869/199549 [00:55<52:20, 62.31it/s]"
     ]
    },
    {
     "name": "stdout",
     "output_type": "stream",
     "text": [
      "\n",
      "prediction time:0.007002115249633789\n",
      "sort time:0.004000663757324219\n",
      "prediction time:0.007001161575317383\n",
      "sort time:0.003000497817993164\n",
      "prediction time:0.007001638412475586\n",
      "sort time:0.004000663757324219\n",
      "prediction time:0.007001399993896484\n",
      "sort time:0.0030002593994140625\n",
      "prediction time:0.007001638412475586\n",
      "sort time:0.00400090217590332\n",
      "prediction time:0.006000995635986328\n",
      "sort time:0.003000974655151367\n",
      "prediction time:0.008002281188964844\n",
      "sort time:0.003000497817993164\n",
      "prediction time:0.007001638412475586\n",
      "sort time:0.004001140594482422\n",
      "prediction time:0.008001565933227539\n",
      "sort time:0.003000974655151367\n",
      "prediction time:0.00800180435180664\n",
      "sort time:0.00600123405456543\n",
      "prediction time:0.011002540588378906\n"
     ]
    },
    {
     "name": "stderr",
     "output_type": "stream",
     "text": [
      "\r",
      "  2%|█▏                                                           | 3876/199549 [00:56<55:22, 58.90it/s]"
     ]
    },
    {
     "name": "stdout",
     "output_type": "stream",
     "text": [
      "sort time:0.006002664566040039\n",
      "prediction time:0.009001970291137695\n",
      "sort time:0.0040013790130615234\n",
      "prediction time:0.008001327514648438\n",
      "sort time:0.0030007362365722656\n",
      "prediction time:0.009002208709716797\n",
      "sort time:0.00400090217590332\n",
      "prediction time:0.008002042770385742\n",
      "sort time:0.0030012130737304688\n",
      "prediction time:0.006001710891723633\n",
      "sort time:0.003000974655151367\n",
      "prediction time:0.00800180435180664\n",
      "sort time:0.0040035247802734375\n",
      "prediction time:0.00800180435180664\n",
      "sort time:0.003000974655151367\n",
      "prediction time:0.008002519607543945\n",
      "sort time:0.003000020980834961\n",
      "prediction time:0.00800180435180664\n",
      "sort time:0.003000974655151367\n",
      "prediction time:0.008001327514648438\n",
      "sort time:0.0030007362365722656\n",
      "prediction time:0.007001161575317383\n",
      "sort time:0.0030007362365722656\n",
      "prediction time:0.007001638412475586\n"
     ]
    },
    {
     "name": "stderr",
     "output_type": "stream",
     "text": [
      "  2%|█▏                                                           | 3890/199549 [00:56<52:48, 61.75it/s]"
     ]
    },
    {
     "name": "stdout",
     "output_type": "stream",
     "text": [
      "sort time:0.003000497817993164\n",
      "prediction time:0.007001399993896484\n",
      "sort time:0.0030007362365722656\n",
      "prediction time:0.008001327514648438\n",
      "sort time:0.003000974655151367\n",
      "prediction time:0.00800180435180664\n",
      "sort time:0.0030014514923095703\n",
      "prediction time:0.00800180435180664\n",
      "sort time:0.003000974655151367\n",
      "prediction time:0.0070018768310546875\n",
      "sort time:0.003000497817993164\n",
      "prediction time:0.007001638412475586\n",
      "sort time:0.003000497817993164\n",
      "prediction time:0.007001638412475586\n",
      "sort time:0.0030007362365722656\n",
      "prediction time:0.009002208709716797\n",
      "sort time:0.003000974655151367\n",
      "prediction time:0.00800180435180664\n",
      "sort time:0.004001140594482422\n",
      "prediction time:0.007001638412475586\n",
      "sort time:0.0030007362365722656\n",
      "prediction time:0.007001638412475586\n",
      "sort time:0.003000497817993164\n",
      "prediction time:0.007001399993896484\n",
      "sort time:0.004001140594482422\n",
      "prediction time:0.008002758026123047\n",
      "sort time:0.0030002593994140625"
     ]
    },
    {
     "name": "stderr",
     "output_type": "stream",
     "text": [
      "  2%|█▏                                                           | 3904/199549 [00:56<51:30, 63.30it/s]"
     ]
    },
    {
     "name": "stdout",
     "output_type": "stream",
     "text": [
      "\n",
      "prediction time:0.008002281188964844\n",
      "sort time:0.00400090217590332\n",
      "prediction time:0.008001565933227539\n",
      "sort time:0.004001140594482422\n",
      "prediction time:0.0070018768310546875\n",
      "sort time:0.0030002593994140625\n",
      "prediction time:0.006001472473144531\n",
      "sort time:0.0030007362365722656\n",
      "prediction time:0.0070018768310546875\n",
      "sort time:0.003000497817993164\n",
      "prediction time:0.00800180435180664\n",
      "sort time:0.0030007362365722656\n",
      "prediction time:0.00600123405456543\n",
      "sort time:0.0030007362365722656\n",
      "prediction time:0.007001161575317383\n",
      "sort time:0.0030007362365722656\n",
      "prediction time:0.007001638412475586\n",
      "sort time:0.00400090217590332\n",
      "prediction time:0.007001638412475586\n",
      "sort time:0.0030007362365722656\n",
      "prediction time:0.008001565933227539\n",
      "sort time:0.0030007362365722656\n",
      "prediction time:0.00800180435180664\n"
     ]
    },
    {
     "name": "stderr",
     "output_type": "stream",
     "text": [
      "  2%|█▏                                                           | 3918/199549 [00:56<51:06, 63.80it/s]"
     ]
    },
    {
     "name": "stdout",
     "output_type": "stream",
     "text": [
      "sort time:0.0030007362365722656\n",
      "prediction time:0.009001970291137695\n",
      "sort time:0.0030007362365722656\n",
      "prediction time:0.00800180435180664\n",
      "sort time:0.0030007362365722656\n",
      "prediction time:0.00800180435180664\n",
      "sort time:0.003000497817993164\n",
      "prediction time:0.008001565933227539\n",
      "sort time:0.0030007362365722656\n",
      "prediction time:0.00800180435180664\n",
      "sort time:0.003000497817993164\n",
      "prediction time:0.007001638412475586\n",
      "sort time:0.0030007362365722656\n",
      "prediction time:0.00800180435180664\n",
      "sort time:0.003000497817993164\n",
      "prediction time:0.008002042770385742\n",
      "sort time:0.003000497817993164\n",
      "prediction time:0.00800180435180664\n",
      "sort time:0.003000497817993164\n",
      "prediction time:0.007001399993896484\n",
      "sort time:0.003000974655151367\n",
      "prediction time:0.007001399993896484\n",
      "sort time:0.0030002593994140625\n",
      "prediction time:0.008001565933227539\n",
      "sort time:0.0030012130737304688"
     ]
    },
    {
     "name": "stderr",
     "output_type": "stream",
     "text": [
      "\r",
      "  2%|█▏                                                           | 3925/199549 [00:56<51:17, 63.57it/s]"
     ]
    },
    {
     "name": "stdout",
     "output_type": "stream",
     "text": [
      "\n",
      "prediction time:0.007001399993896484\n",
      "sort time:0.004000663757324219\n",
      "prediction time:0.00800180435180664\n",
      "sort time:0.0030007362365722656\n",
      "prediction time:0.007001638412475586\n",
      "sort time:0.0030007362365722656\n",
      "prediction time:0.007001638412475586\n",
      "sort time:0.00400090217590332\n",
      "prediction time:0.009002447128295898\n",
      "sort time:0.003000497817993164\n",
      "prediction time:0.008001565933227539\n",
      "sort time:0.004001140594482422\n",
      "prediction time:0.007001161575317383\n",
      "sort time:0.003000974655151367\n",
      "prediction time:0.007001399993896484\n",
      "sort time:0.003000974655151367\n",
      "prediction time:0.007001638412475586\n",
      "sort time:0.003000974655151367\n",
      "prediction time:0.009001970291137695\n",
      "sort time:0.0030007362365722656\n",
      "prediction time:0.007001399993896484\n",
      "sort time:0.0030007362365722656"
     ]
    },
    {
     "name": "stderr",
     "output_type": "stream",
     "text": [
      "  2%|█▏                                                           | 3939/199549 [00:57<54:03, 60.31it/s]"
     ]
    },
    {
     "name": "stdout",
     "output_type": "stream",
     "text": [
      "\n",
      "prediction time:0.009002447128295898\n",
      "sort time:0.004000425338745117\n",
      "prediction time:0.007001399993896484\n",
      "sort time:0.003000974655151367\n",
      "prediction time:0.0070018768310546875\n",
      "sort time:0.0030007362365722656\n",
      "prediction time:0.00800180435180664\n",
      "sort time:0.0030007362365722656\n",
      "prediction time:0.008002042770385742\n",
      "sort time:0.004000663757324219\n",
      "prediction time:0.007001638412475586\n",
      "sort time:0.004000663757324219\n",
      "prediction time:0.0070018768310546875\n",
      "sort time:0.004000663757324219\n",
      "prediction time:0.007001638412475586\n",
      "sort time:0.004002094268798828\n",
      "prediction time:0.009001731872558594\n",
      "sort time:0.00400090217590332\n",
      "prediction time:0.007001399993896484\n",
      "sort time:0.00400090217590332\n",
      "prediction time:0.007001161575317383\n"
     ]
    },
    {
     "name": "stderr",
     "output_type": "stream",
     "text": [
      "  2%|█▏                                                           | 3953/199549 [00:57<52:58, 61.53it/s]"
     ]
    },
    {
     "name": "stdout",
     "output_type": "stream",
     "text": [
      "sort time:0.00400090217590332\n",
      "prediction time:0.008001565933227539\n",
      "sort time:0.004000425338745117\n",
      "prediction time:0.007002115249633789\n",
      "sort time:0.004000425338745117\n",
      "prediction time:0.00800180435180664\n",
      "sort time:0.0030007362365722656\n",
      "prediction time:0.007001399993896484\n",
      "sort time:0.004001140594482422\n",
      "prediction time:0.007001638412475586\n",
      "sort time:0.00400090217590332\n",
      "prediction time:0.008002042770385742\n",
      "sort time:0.004000663757324219\n",
      "prediction time:0.007001399993896484\n",
      "sort time:0.0030007362365722656\n",
      "prediction time:0.007001638412475586\n",
      "sort time:0.0030007362365722656\n",
      "prediction time:0.007001638412475586\n",
      "sort time:0.003000497817993164\n",
      "prediction time:0.00800180435180664\n",
      "sort time:0.003000497817993164\n",
      "prediction time:0.00600123405456543\n",
      "sort time:0.0030007362365722656\n"
     ]
    },
    {
     "name": "stderr",
     "output_type": "stream",
     "text": [
      "\r",
      "  2%|█▏                                                           | 3960/199549 [00:57<52:27, 62.14it/s]"
     ]
    },
    {
     "name": "stdout",
     "output_type": "stream",
     "text": [
      "prediction time:0.00800180435180664\n",
      "sort time:0.004001617431640625\n",
      "prediction time:0.007002115249633789\n",
      "sort time:0.003000497817993164\n",
      "prediction time:0.008001327514648438\n",
      "sort time:0.004001140594482422\n",
      "prediction time:0.008002042770385742\n",
      "sort time:0.003000497817993164\n",
      "prediction time:0.007001638412475586\n",
      "sort time:0.004000663757324219\n",
      "prediction time:0.00800180435180664\n",
      "sort time:0.003000497817993164\n",
      "prediction time:0.007001399993896484\n",
      "sort time:0.003000974655151367\n",
      "prediction time:0.007001638412475586\n",
      "sort time:0.004001140594482422\n",
      "prediction time:0.008002042770385742\n",
      "sort time:0.0030007362365722656\n",
      "prediction time:0.00800180435180664\n",
      "sort time:0.0030007362365722656\n",
      "prediction time:0.009001731872558594\n",
      "sort time:0.00400090217590332\n",
      "prediction time:0.007001638412475586\n",
      "sort time:0.0030007362365722656\n"
     ]
    },
    {
     "name": "stderr",
     "output_type": "stream",
     "text": [
      "  2%|█▏                                                           | 3974/199549 [00:57<52:04, 62.58it/s]"
     ]
    },
    {
     "name": "stdout",
     "output_type": "stream",
     "text": [
      "prediction time:0.007001638412475586\n",
      "sort time:0.003000497817993164\n",
      "prediction time:0.00800180435180664\n",
      "sort time:0.0030007362365722656\n",
      "prediction time:0.00800180435180664\n",
      "sort time:0.00400090217590332\n",
      "prediction time:0.009002208709716797\n",
      "sort time:0.003000497817993164\n",
      "prediction time:0.008002042770385742\n",
      "sort time:0.00400090217590332\n",
      "prediction time:0.007001638412475586\n",
      "sort time:0.004000663757324219\n",
      "prediction time:0.007001638412475586\n",
      "sort time:0.004000663757324219\n",
      "prediction time:0.007001399993896484\n",
      "sort time:0.0030007362365722656\n",
      "prediction time:0.0070018768310546875\n",
      "sort time:0.003000497817993164\n",
      "prediction time:0.0070018768310546875\n",
      "sort time:0.003000497817993164\n",
      "prediction time:0.007001638412475586\n",
      "sort time:0.00400090217590332\n",
      "prediction time:0.00800180435180664\n"
     ]
    },
    {
     "name": "stderr",
     "output_type": "stream",
     "text": [
      "  2%|█▏                                                           | 3988/199549 [00:57<52:38, 61.92it/s]"
     ]
    },
    {
     "name": "stdout",
     "output_type": "stream",
     "text": [
      "sort time:0.003000974655151367\n",
      "prediction time:0.009001970291137695\n",
      "sort time:0.0030007362365722656\n",
      "prediction time:0.00800180435180664\n",
      "sort time:0.003000497817993164\n",
      "prediction time:0.007001638412475586\n",
      "sort time:0.003000497817993164\n",
      "prediction time:0.00800180435180664\n",
      "sort time:0.003000497817993164\n",
      "prediction time:0.00800180435180664\n",
      "sort time:0.004001617431640625\n",
      "prediction time:0.008002042770385742\n",
      "sort time:0.003000497817993164\n",
      "prediction time:0.00800180435180664\n",
      "sort time:0.004000425338745117\n",
      "prediction time:0.007001399993896484\n",
      "sort time:0.004001140594482422\n",
      "prediction time:0.008002281188964844\n",
      "sort time:0.0030007362365722656\n",
      "prediction time:0.007001638412475586\n",
      "sort time:0.0030007362365722656\n",
      "prediction time:0.00800180435180664\n",
      "sort time:0.003000974655151367\n"
     ]
    },
    {
     "name": "stderr",
     "output_type": "stream",
     "text": [
      "\r",
      "  2%|█▏                                                           | 3995/199549 [00:58<53:53, 60.48it/s]"
     ]
    },
    {
     "name": "stdout",
     "output_type": "stream",
     "text": [
      "prediction time:0.00800180435180664\n",
      "sort time:0.0040013790130615234\n",
      "prediction time:0.006001472473144531\n",
      "sort time:0.003000497817993164\n",
      "prediction time:0.007001638412475586\n",
      "sort time:0.004000425338745117\n",
      "prediction time:0.008002042770385742\n",
      "sort time:0.004001140594482422\n",
      "prediction time:0.009001970291137695\n",
      "sort time:0.003000974655151367\n",
      "prediction time:0.007001638412475586\n",
      "sort time:0.0030007362365722656\n",
      "prediction time:0.007001638412475586\n",
      "sort time:0.0030007362365722656\n",
      "prediction time:0.008001089096069336\n",
      "sort time:0.0030007362365722656\n",
      "prediction time:0.00800180435180664\n",
      "sort time:0.003000497817993164\n",
      "prediction time:0.009002208709716797\n",
      "sort time:0.004001617431640625\n",
      "prediction time:0.008002042770385742\n",
      "sort time:0.00400090217590332"
     ]
    },
    {
     "name": "stderr",
     "output_type": "stream",
     "text": [
      "  2%|█▏                                                           | 4008/199549 [00:58<58:05, 56.10it/s]"
     ]
    },
    {
     "name": "stdout",
     "output_type": "stream",
     "text": [
      "\n",
      "prediction time:0.008002042770385742\n",
      "sort time:0.0030007362365722656\n",
      "prediction time:0.00800180435180664\n",
      "sort time:0.00400090217590332\n",
      "prediction time:0.00800180435180664\n",
      "sort time:0.00400090217590332\n",
      "prediction time:0.013002395629882812\n",
      "sort time:0.004001140594482422\n",
      "prediction time:0.008002281188964844\n",
      "sort time:0.004000663757324219\n",
      "prediction time:0.007001161575317383\n",
      "sort time:0.004001140594482422\n",
      "prediction time:0.009001970291137695\n",
      "sort time:0.004000425338745117\n",
      "prediction time:0.007001638412475586\n",
      "sort time:0.00400090217590332\n",
      "prediction time:0.010001897811889648\n",
      "sort time:0.00400090217590332\n",
      "prediction time:0.009002208709716797\n"
     ]
    },
    {
     "name": "stderr",
     "output_type": "stream",
     "text": [
      "\r",
      "  2%|█▏                                                           | 4015/199549 [00:58<56:15, 57.93it/s]"
     ]
    },
    {
     "name": "stdout",
     "output_type": "stream",
     "text": [
      "sort time:0.004001140594482422\n",
      "prediction time:0.009002208709716797\n",
      "sort time:0.0030002593994140625\n",
      "prediction time:0.006001710891723633\n",
      "sort time:0.004000425338745117\n",
      "prediction time:0.007001638412475586\n",
      "sort time:0.0030007362365722656\n",
      "prediction time:0.0070018768310546875\n",
      "sort time:0.00400090217590332\n",
      "prediction time:0.0070018768310546875\n",
      "sort time:0.003000974655151367\n",
      "prediction time:0.007001638412475586\n",
      "sort time:0.004000186920166016\n",
      "prediction time:0.007001638412475586\n",
      "sort time:0.003000497817993164\n",
      "prediction time:0.00800180435180664\n",
      "sort time:0.004000663757324219\n",
      "prediction time:0.008001565933227539\n",
      "sort time:0.0030007362365722656\n",
      "prediction time:0.00800180435180664\n",
      "sort time:0.00400090217590332\n",
      "prediction time:0.007001638412475586\n",
      "sort time:0.003000497817993164\n",
      "prediction time:0.00800180435180664\n",
      "sort time:0.0030007362365722656"
     ]
    },
    {
     "name": "stderr",
     "output_type": "stream",
     "text": [
      "  2%|█▏                                                           | 4029/199549 [00:58<53:27, 60.95it/s]"
     ]
    },
    {
     "name": "stdout",
     "output_type": "stream",
     "text": [
      "\n",
      "prediction time:0.01000213623046875\n",
      "sort time:0.0030007362365722656\n",
      "prediction time:0.00800180435180664\n",
      "sort time:0.003000497817993164\n",
      "prediction time:0.009001970291137695\n",
      "sort time:0.004000663757324219\n",
      "prediction time:0.007001638412475586\n",
      "sort time:0.0030007362365722656\n",
      "prediction time:0.007001399993896484\n",
      "sort time:0.0030007362365722656\n",
      "prediction time:0.007001399993896484\n",
      "sort time:0.0030007362365722656\n",
      "prediction time:0.00800180435180664\n",
      "sort time:0.0030007362365722656\n",
      "prediction time:0.006001472473144531\n",
      "sort time:0.003000497817993164\n",
      "prediction time:0.00800180435180664\n",
      "sort time:0.004001140594482422\n",
      "prediction time:0.007001638412475586\n",
      "sort time:0.0030007362365722656\n",
      "prediction time:0.008001327514648438\n",
      "sort time:0.0030007362365722656\n",
      "prediction time:0.00800180435180664\n",
      "sort time:0.003000497817993164"
     ]
    },
    {
     "name": "stderr",
     "output_type": "stream",
     "text": [
      "  2%|█▏                                                           | 4043/199549 [00:58<52:47, 61.71it/s]"
     ]
    },
    {
     "name": "stdout",
     "output_type": "stream",
     "text": [
      "\n",
      "prediction time:0.009002447128295898\n",
      "sort time:0.00400090217590332\n",
      "prediction time:0.007001638412475586\n",
      "sort time:0.004000663757324219\n",
      "prediction time:0.007001399993896484\n",
      "sort time:0.0030007362365722656\n",
      "prediction time:0.008001565933227539\n",
      "sort time:0.004001140594482422\n",
      "prediction time:0.007001638412475586\n",
      "sort time:0.0030007362365722656\n",
      "prediction time:0.00800180435180664\n",
      "sort time:0.0030012130737304688\n",
      "prediction time:0.006001472473144531\n",
      "sort time:0.003000497817993164\n",
      "prediction time:0.00800180435180664\n",
      "sort time:0.0030007362365722656\n",
      "prediction time:0.007001638412475586\n",
      "sort time:0.003000497817993164\n",
      "prediction time:0.007001638412475586\n",
      "sort time:0.0030012130737304688\n",
      "prediction time:0.008002042770385742\n",
      "sort time:0.0030002593994140625\n"
     ]
    },
    {
     "name": "stderr",
     "output_type": "stream",
     "text": [
      "\r",
      "  2%|█▏                                                           | 4050/199549 [00:58<52:44, 61.78it/s]"
     ]
    },
    {
     "name": "stdout",
     "output_type": "stream",
     "text": [
      "prediction time:0.00800180435180664\n",
      "sort time:0.004001140594482422\n",
      "prediction time:0.007001638412475586\n",
      "sort time:0.003000497817993164\n",
      "prediction time:0.008001565933227539\n",
      "sort time:0.00400090217590332\n",
      "prediction time:0.00800180435180664\n",
      "sort time:0.003000497817993164\n",
      "prediction time:0.00800180435180664\n",
      "sort time:0.003000497817993164\n",
      "prediction time:0.007001638412475586\n",
      "sort time:0.0030007362365722656\n",
      "prediction time:0.007001638412475586\n",
      "sort time:0.003000497817993164\n",
      "prediction time:0.007001638412475586\n",
      "sort time:0.004000663757324219\n",
      "prediction time:0.00800180435180664\n",
      "sort time:0.0030007362365722656\n",
      "prediction time:0.00800180435180664\n",
      "sort time:0.0030007362365722656\n",
      "prediction time:0.0070018768310546875\n",
      "sort time:0.004000663757324219\n",
      "prediction time:0.007001638412475586\n",
      "sort time:0.004000663757324219\n",
      "prediction time:0.006000995635986328\n"
     ]
    },
    {
     "name": "stderr",
     "output_type": "stream",
     "text": [
      "  2%|█▏                                                           | 4064/199549 [00:59<54:00, 60.32it/s]"
     ]
    },
    {
     "name": "stdout",
     "output_type": "stream",
     "text": [
      "sort time:0.004001140594482422\n",
      "prediction time:0.007001638412475586\n",
      "sort time:0.0030007362365722656\n",
      "prediction time:0.007001638412475586\n",
      "sort time:0.0030007362365722656\n",
      "prediction time:0.00800180435180664\n",
      "sort time:0.00400090217590332\n",
      "prediction time:0.008002042770385742\n",
      "sort time:0.0030007362365722656\n",
      "prediction time:0.00800180435180664\n",
      "sort time:0.003000497817993164\n",
      "prediction time:0.007001399993896484\n",
      "sort time:0.004000425338745117\n",
      "prediction time:0.009002208709716797\n",
      "sort time:0.0030007362365722656\n",
      "prediction time:0.008001565933227539\n",
      "sort time:0.0040013790130615234\n",
      "prediction time:0.007001399993896484\n",
      "sort time:0.004001140594482422\n",
      "prediction time:0.009002208709716797\n",
      "sort time:0.0030007362365722656\n",
      "prediction time:0.008001565933227539\n",
      "sort time:0.00400090217590332"
     ]
    },
    {
     "name": "stderr",
     "output_type": "stream",
     "text": [
      "  2%|█▏                                                           | 4077/199549 [00:59<57:12, 56.96it/s]"
     ]
    },
    {
     "name": "stdout",
     "output_type": "stream",
     "text": [
      "\n",
      "prediction time:0.009001970291137695\n",
      "sort time:0.004001140594482422\n",
      "prediction time:0.008001565933227539\n",
      "sort time:0.004001140594482422\n",
      "prediction time:0.009001970291137695\n",
      "sort time:0.004001140594482422\n",
      "prediction time:0.008002042770385742\n",
      "sort time:0.004000663757324219\n",
      "prediction time:0.007001161575317383\n",
      "sort time:0.003000497817993164\n",
      "prediction time:0.008001327514648438\n",
      "sort time:0.003000974655151367\n",
      "prediction time:0.00800180435180664\n",
      "sort time:0.0030007362365722656\n",
      "prediction time:0.0070018768310546875\n",
      "sort time:0.0030002593994140625\n",
      "prediction time:0.008002042770385742\n",
      "sort time:0.0030007362365722656\n",
      "prediction time:0.0070018768310546875\n",
      "sort time:0.00400090217590332\n",
      "prediction time:0.00800180435180664\n"
     ]
    },
    {
     "name": "stderr",
     "output_type": "stream",
     "text": [
      "\r",
      "  2%|█▏                                                           | 4084/199549 [00:59<55:29, 58.71it/s]"
     ]
    },
    {
     "name": "stdout",
     "output_type": "stream",
     "text": [
      "sort time:0.00400090217590332\n",
      "prediction time:0.00800180435180664\n",
      "sort time:0.004001140594482422\n",
      "prediction time:0.006001472473144531\n",
      "sort time:0.003000974655151367\n",
      "prediction time:0.00800180435180664\n",
      "sort time:0.0030007362365722656\n",
      "prediction time:0.0070018768310546875\n",
      "sort time:0.004000663757324219\n",
      "prediction time:0.008002042770385742\n",
      "sort time:0.003000497817993164\n",
      "prediction time:0.00800180435180664\n",
      "sort time:0.004000663757324219\n",
      "prediction time:0.00800180435180664\n",
      "sort time:0.004000663757324219\n",
      "prediction time:0.007001638412475586\n",
      "sort time:0.0030007362365722656\n",
      "prediction time:0.00600123405456543\n",
      "sort time:0.0030007362365722656\n",
      "prediction time:0.007001638412475586\n",
      "sort time:0.0030002593994140625\n",
      "prediction time:0.006001472473144531\n",
      "sort time:0.0030007362365722656\n",
      "prediction time:0.00800180435180664\n",
      "sort time:0.003000497817993164\n"
     ]
    },
    {
     "name": "stderr",
     "output_type": "stream",
     "text": [
      "  2%|█▎                                                           | 4098/199549 [00:59<53:29, 60.90it/s]"
     ]
    },
    {
     "name": "stdout",
     "output_type": "stream",
     "text": [
      "prediction time:0.007001399993896484\n",
      "sort time:0.00400090217590332\n",
      "prediction time:0.007001638412475586\n",
      "sort time:0.004001140594482422\n",
      "prediction time:0.0070018768310546875\n",
      "sort time:0.004000663757324219\n",
      "prediction time:0.00800180435180664\n",
      "sort time:0.003000497817993164\n",
      "prediction time:0.00800180435180664\n",
      "sort time:0.0030007362365722656\n",
      "prediction time:0.00800180435180664\n",
      "sort time:0.0030007362365722656\n",
      "prediction time:0.007001161575317383\n",
      "sort time:0.003000974655151367\n",
      "prediction time:0.009001970291137695\n",
      "sort time:0.0030014514923095703\n",
      "prediction time:0.00800180435180664\n",
      "sort time:0.003000497817993164\n",
      "prediction time:0.007001638412475586\n",
      "sort time:0.003000497817993164\n",
      "prediction time:0.007001638412475586\n",
      "sort time:0.003000497817993164\n",
      "prediction time:0.007001399993896484\n"
     ]
    },
    {
     "name": "stderr",
     "output_type": "stream",
     "text": [
      "  2%|█▎                                                           | 4112/199549 [01:00<55:22, 58.82it/s]"
     ]
    },
    {
     "name": "stdout",
     "output_type": "stream",
     "text": [
      "sort time:0.00400090217590332\n",
      "prediction time:0.007001638412475586\n",
      "sort time:0.0030012130737304688\n",
      "prediction time:0.008002042770385742\n",
      "sort time:0.00400090217590332\n",
      "prediction time:0.009001731872558594\n",
      "sort time:0.0030007362365722656\n",
      "prediction time:0.007001638412475586\n",
      "sort time:0.0040013790130615234\n",
      "prediction time:0.008001565933227539\n",
      "sort time:0.00400090217590332\n",
      "prediction time:0.009002447128295898\n",
      "sort time:0.004000425338745117\n",
      "prediction time:0.007001638412475586\n",
      "sort time:0.004000663757324219\n",
      "prediction time:0.009002208709716797\n",
      "sort time:0.00400090217590332\n",
      "prediction time:0.007001638412475586\n",
      "sort time:0.0030007362365722656\n",
      "prediction time:0.008001565933227539\n",
      "sort time:0.004000663757324219\n",
      "prediction time:0.007001638412475586\n",
      "sort time:0.004001140594482422"
     ]
    },
    {
     "name": "stderr",
     "output_type": "stream",
     "text": [
      "  2%|█▎                                                           | 4124/199549 [01:00<55:32, 58.64it/s]"
     ]
    },
    {
     "name": "stdout",
     "output_type": "stream",
     "text": [
      "\n",
      "prediction time:0.009001970291137695\n",
      "sort time:0.004000663757324219\n",
      "prediction time:0.007001638412475586\n",
      "sort time:0.003000497817993164\n",
      "prediction time:0.007001161575317383\n",
      "sort time:0.0040013790130615234\n",
      "prediction time:0.008002042770385742\n",
      "sort time:0.0030002593994140625\n",
      "prediction time:0.007001638412475586\n",
      "sort time:0.0030007362365722656\n",
      "prediction time:0.008001327514648438\n",
      "sort time:0.004001140594482422\n",
      "prediction time:0.006000995635986328\n",
      "sort time:0.00400090217590332\n",
      "prediction time:0.007001638412475586\n",
      "sort time:0.004001140594482422\n",
      "prediction time:0.008002042770385742\n",
      "sort time:0.0030007362365722656\n",
      "prediction time:0.008002042770385742\n",
      "sort time:0.00400090217590332\n",
      "prediction time:0.00800180435180664\n",
      "sort time:0.004000663757324219"
     ]
    },
    {
     "name": "stderr",
     "output_type": "stream",
     "text": [
      "\r",
      "  2%|█▎                                                           | 4130/199549 [01:00<56:16, 57.88it/s]"
     ]
    },
    {
     "name": "stdout",
     "output_type": "stream",
     "text": [
      "\n",
      "prediction time:0.008002281188964844\n",
      "sort time:0.004000186920166016\n",
      "prediction time:0.00800180435180664\n",
      "sort time:0.003000974655151367\n",
      "prediction time:0.007001638412475586\n",
      "sort time:0.004000425338745117\n",
      "prediction time:0.008002042770385742\n",
      "sort time:0.004001140594482422\n",
      "prediction time:0.008002519607543945\n",
      "sort time:0.004000425338745117\n",
      "prediction time:0.008001327514648438\n",
      "sort time:0.005001544952392578\n",
      "prediction time:0.009001493453979492\n",
      "sort time:0.008002042770385742\n",
      "prediction time:0.009002685546875\n",
      "sort time:0.0050008296966552734\n",
      "prediction time:0.009001731872558594\n",
      "sort time:0.00400090217590332\n",
      "prediction time:0.007001638412475586\n"
     ]
    },
    {
     "name": "stderr",
     "output_type": "stream",
     "text": [
      "  2%|█▎                                                           | 4142/199549 [01:00<59:03, 55.14it/s]"
     ]
    },
    {
     "name": "stdout",
     "output_type": "stream",
     "text": [
      "sort time:0.005001068115234375\n",
      "prediction time:0.009001493453979492\n",
      "sort time:0.0030007362365722656\n",
      "prediction time:0.007001638412475586\n",
      "sort time:0.00400090217590332\n",
      "prediction time:0.008001565933227539\n",
      "sort time:0.0030007362365722656\n",
      "prediction time:0.007001638412475586\n",
      "sort time:0.004001140594482422\n",
      "prediction time:0.008002042770385742\n",
      "sort time:0.00400090217590332\n",
      "prediction time:0.008002042770385742\n",
      "sort time:0.0030007362365722656\n",
      "prediction time:0.00800180435180664\n",
      "sort time:0.003000974655151367\n",
      "prediction time:0.007001399993896484\n",
      "sort time:0.00400090217590332\n",
      "prediction time:0.008001565933227539\n",
      "sort time:0.004001140594482422\n",
      "prediction time:0.007000923156738281\n",
      "sort time:0.003000497817993164\n",
      "prediction time:0.006001949310302734\n",
      "sort time:0.004000663757324219\n"
     ]
    },
    {
     "name": "stderr",
     "output_type": "stream",
     "text": [
      "  2%|█▎                                                           | 4155/199549 [01:00<56:11, 57.95it/s]"
     ]
    },
    {
     "name": "stdout",
     "output_type": "stream",
     "text": [
      "prediction time:0.00800180435180664\n",
      "sort time:0.00400090217590332\n",
      "prediction time:0.00800180435180664\n",
      "sort time:0.003000974655151367\n",
      "prediction time:0.0070018768310546875\n",
      "sort time:0.00400090217590332\n",
      "prediction time:0.008001089096069336\n",
      "sort time:0.004001140594482422\n",
      "prediction time:0.007001161575317383\n",
      "sort time:0.004001140594482422\n",
      "prediction time:0.007001638412475586\n",
      "sort time:0.0030007362365722656\n",
      "prediction time:0.00800180435180664\n",
      "sort time:0.0030007362365722656\n",
      "prediction time:0.0070018768310546875\n",
      "sort time:0.003000497817993164\n",
      "prediction time:0.009002208709716797\n",
      "sort time:0.003000497817993164\n",
      "prediction time:0.00800180435180664\n",
      "sort time:0.00400090217590332\n",
      "prediction time:0.008001327514648438\n",
      "sort time:0.0030007362365722656\n",
      "prediction time:0.00800180435180664\n",
      "sort time:0.003000497817993164\n"
     ]
    },
    {
     "name": "stderr",
     "output_type": "stream",
     "text": [
      "  2%|█▎                                                           | 4168/199549 [01:00<54:16, 60.00it/s]"
     ]
    },
    {
     "name": "stdout",
     "output_type": "stream",
     "text": [
      "prediction time:0.009001970291137695\n",
      "sort time:0.004001140594482422\n",
      "prediction time:0.007001638412475586\n",
      "sort time:0.004001140594482422\n",
      "prediction time:0.01000213623046875\n",
      "sort time:0.0030007362365722656\n",
      "prediction time:0.007001638412475586\n",
      "sort time:0.004000425338745117\n",
      "prediction time:0.007001161575317383\n",
      "sort time:0.0030012130737304688\n",
      "prediction time:0.00800180435180664\n",
      "sort time:0.004001617431640625\n",
      "prediction time:0.008002042770385742\n",
      "sort time:0.003000497817993164\n",
      "prediction time:0.008002281188964844\n",
      "sort time:0.0030002593994140625\n",
      "prediction time:0.00800180435180664\n",
      "sort time:0.003000497817993164\n",
      "prediction time:0.007001638412475586\n",
      "sort time:0.0030007362365722656\n",
      "prediction time:0.009002208709716797\n",
      "sort time:0.0030007362365722656\n",
      "prediction time:0.007001638412475586\n",
      "sort time:0.003000497817993164"
     ]
    },
    {
     "name": "stderr",
     "output_type": "stream",
     "text": [
      "\r",
      "  2%|█▎                                                           | 4175/199549 [01:01<53:44, 60.60it/s]"
     ]
    },
    {
     "name": "stdout",
     "output_type": "stream",
     "text": [
      "\n",
      "prediction time:0.009002208709716797\n",
      "sort time:0.004000663757324219\n",
      "prediction time:0.0070018768310546875\n",
      "sort time:0.003000497817993164\n",
      "prediction time:0.006001472473144531\n",
      "sort time:0.00400090217590332\n",
      "prediction time:0.007001638412475586\n",
      "sort time:0.003000497817993164\n",
      "prediction time:0.008001565933227539\n",
      "sort time:0.003000497817993164\n",
      "prediction time:0.009001970291137695\n",
      "sort time:0.003000497817993164\n",
      "prediction time:0.008001565933227539\n",
      "sort time:0.0030007362365722656\n",
      "prediction time:0.007001638412475586\n",
      "sort time:0.0030007362365722656\n",
      "prediction time:0.009002208709716797\n",
      "sort time:0.004000425338745117\n",
      "prediction time:0.007001161575317383\n",
      "sort time:0.0030007362365722656\n",
      "prediction time:0.007001638412475586\n",
      "sort time:0.004000663757324219\n",
      "prediction time:0.009001970291137695\n"
     ]
    },
    {
     "name": "stderr",
     "output_type": "stream",
     "text": [
      "  2%|█▎                                                           | 4188/199549 [01:01<55:58, 58.17it/s]"
     ]
    },
    {
     "name": "stdout",
     "output_type": "stream",
     "text": [
      "sort time:0.00400090217590332\n",
      "prediction time:0.008000612258911133\n",
      "sort time:0.003000974655151367\n",
      "prediction time:0.009001970291137695\n",
      "sort time:0.00400090217590332\n",
      "prediction time:0.007001399993896484\n",
      "sort time:0.003000497817993164\n",
      "prediction time:0.007001638412475586\n",
      "sort time:0.0030007362365722656\n",
      "prediction time:0.007000923156738281\n",
      "sort time:0.004000425338745117\n",
      "prediction time:0.0070018768310546875\n",
      "sort time:0.0030007362365722656\n",
      "prediction time:0.008001565933227539\n",
      "sort time:0.004001140594482422\n",
      "prediction time:0.0070018768310546875\n",
      "sort time:0.00400090217590332\n",
      "prediction time:0.007001399993896484\n",
      "sort time:0.00400090217590332\n",
      "prediction time:0.007001638412475586\n",
      "sort time:0.003000497817993164\n",
      "prediction time:0.007001638412475586\n",
      "sort time:0.0040013790130615234"
     ]
    },
    {
     "name": "stderr",
     "output_type": "stream",
     "text": [
      "  2%|█▏                                                         | 4200/199549 [01:01<1:01:02, 53.34it/s]"
     ]
    },
    {
     "name": "stdout",
     "output_type": "stream",
     "text": [
      "\n",
      "prediction time:0.008001089096069336\n",
      "sort time:0.004001617431640625\n",
      "prediction time:0.009001731872558594\n",
      "sort time:0.004001617431640625\n",
      "prediction time:0.012003421783447266\n",
      "sort time:0.005000591278076172\n",
      "prediction time:0.009000778198242188\n",
      "sort time:0.0050008296966552734\n",
      "prediction time:0.008001565933227539\n",
      "sort time:0.0050008296966552734\n",
      "prediction time:0.008002042770385742\n",
      "sort time:0.00400090217590332\n",
      "prediction time:0.007001399993896484\n",
      "sort time:0.0030014514923095703\n",
      "prediction time:0.010001897811889648\n",
      "sort time:0.0040013790130615234\n",
      "prediction time:0.007001638412475586\n",
      "sort time:0.004000425338745117"
     ]
    },
    {
     "name": "stderr",
     "output_type": "stream",
     "text": [
      "  2%|█▏                                                         | 4212/199549 [01:01<1:00:26, 53.87it/s]"
     ]
    },
    {
     "name": "stdout",
     "output_type": "stream",
     "text": [
      "\n",
      "prediction time:0.009002447128295898\n",
      "sort time:0.004000663757324219\n",
      "prediction time:0.007001638412475586\n",
      "sort time:0.0040013790130615234\n",
      "prediction time:0.009002208709716797\n",
      "sort time:0.0030007362365722656\n",
      "prediction time:0.0070018768310546875\n",
      "sort time:0.004001140594482422\n",
      "prediction time:0.009001970291137695\n",
      "sort time:0.004001140594482422\n",
      "prediction time:0.0070018768310546875\n",
      "sort time:0.003000020980834961\n",
      "prediction time:0.00800180435180664\n",
      "sort time:0.00400090217590332\n",
      "prediction time:0.0070018768310546875\n",
      "sort time:0.003000020980834961\n",
      "prediction time:0.00800180435180664\n",
      "sort time:0.00400090217590332\n",
      "prediction time:0.007001399993896484\n",
      "sort time:0.0030007362365722656\n"
     ]
    },
    {
     "name": "stderr",
     "output_type": "stream",
     "text": [
      "\r",
      "  2%|█▏                                                         | 4218/199549 [01:01<1:00:32, 53.78it/s]"
     ]
    },
    {
     "name": "stdout",
     "output_type": "stream",
     "text": [
      "prediction time:0.008002281188964844\n",
      "sort time:0.004000425338745117\n",
      "prediction time:0.007001161575317383\n",
      "sort time:0.003000974655151367\n",
      "prediction time:0.0070018768310546875\n",
      "sort time:0.004000663757324219\n",
      "prediction time:0.009002208709716797\n",
      "sort time:0.004000663757324219\n",
      "prediction time:0.008000850677490234\n",
      "sort time:0.004001140594482422\n",
      "prediction time:0.009001731872558594\n",
      "sort time:0.00400090217590332\n",
      "prediction time:0.0070018768310546875\n",
      "sort time:0.004000425338745117\n",
      "prediction time:0.009001731872558594\n",
      "sort time:0.00400090217590332\n",
      "prediction time:0.01000213623046875\n",
      "sort time:0.0040013790130615234\n",
      "prediction time:0.007001399993896484\n",
      "sort time:0.003000497817993164\n",
      "prediction time:0.009001970291137695\n"
     ]
    },
    {
     "name": "stderr",
     "output_type": "stream",
     "text": [
      "  2%|█▎                                                           | 4230/199549 [01:02<59:24, 54.79it/s]"
     ]
    },
    {
     "name": "stdout",
     "output_type": "stream",
     "text": [
      "sort time:0.0040013790130615234\n",
      "prediction time:0.007001399993896484\n",
      "sort time:0.004001140594482422\n",
      "prediction time:0.007001399993896484\n",
      "sort time:0.00400090217590332\n",
      "prediction time:0.007001399993896484\n",
      "sort time:0.0030014514923095703\n",
      "prediction time:0.007001399993896484\n",
      "sort time:0.003000497817993164\n",
      "prediction time:0.007001638412475586\n",
      "sort time:0.0030007362365722656\n",
      "prediction time:0.009002447128295898\n",
      "sort time:0.004001140594482422\n",
      "prediction time:0.0070018768310546875\n",
      "sort time:0.003000497817993164\n",
      "prediction time:0.00800180435180664\n",
      "sort time:0.004000663757324219\n",
      "prediction time:0.00800180435180664\n",
      "sort time:0.004000663757324219\n",
      "prediction time:0.007001638412475586\n"
     ]
    },
    {
     "name": "stderr",
     "output_type": "stream",
     "text": [
      "  2%|█▎                                                           | 4242/199549 [01:02<58:03, 56.06it/s]"
     ]
    },
    {
     "name": "stdout",
     "output_type": "stream",
     "text": [
      "sort time:0.004000663757324219\n",
      "prediction time:0.009002447128295898\n",
      "sort time:0.004000663757324219\n",
      "prediction time:0.006001710891723633\n",
      "sort time:0.004000663757324219\n",
      "prediction time:0.007002115249633789\n",
      "sort time:0.0030002593994140625\n",
      "prediction time:0.008002042770385742\n",
      "sort time:0.004000425338745117\n",
      "prediction time:0.008001327514648438\n",
      "sort time:0.004001140594482422\n",
      "prediction time:0.008002042770385742\n",
      "sort time:0.003000497817993164\n",
      "prediction time:0.009001970291137695\n",
      "sort time:0.003000974655151367\n",
      "prediction time:0.007001638412475586\n",
      "sort time:0.00400090217590332\n",
      "prediction time:0.008002042770385742\n",
      "sort time:0.00400090217590332\n",
      "prediction time:0.007001161575317383\n",
      "sort time:0.0030007362365722656\n",
      "prediction time:0.00800180435180664\n",
      "sort time:0.004000663757324219"
     ]
    },
    {
     "name": "stderr",
     "output_type": "stream",
     "text": [
      "  2%|█▎                                                           | 4254/199549 [01:02<57:13, 56.88it/s]"
     ]
    },
    {
     "name": "stdout",
     "output_type": "stream",
     "text": [
      "\n",
      "prediction time:0.00800180435180664\n",
      "sort time:0.0030007362365722656\n",
      "prediction time:0.00800180435180664\n",
      "sort time:0.004000663757324219\n",
      "prediction time:0.007001638412475586\n",
      "sort time:0.003000497817993164\n",
      "prediction time:0.0070018768310546875\n",
      "sort time:0.003000497817993164\n",
      "prediction time:0.007001161575317383\n",
      "sort time:0.004001617431640625\n",
      "prediction time:0.008001565933227539\n",
      "sort time:0.0030007362365722656\n",
      "prediction time:0.008001327514648438\n",
      "sort time:0.003000497817993164\n",
      "prediction time:0.008001327514648438\n",
      "sort time:0.0030007362365722656\n",
      "prediction time:0.008001565933227539\n",
      "sort time:0.004001140594482422\n",
      "prediction time:0.0070018768310546875\n",
      "sort time:0.003000497817993164\n",
      "prediction time:0.008001327514648438\n",
      "sort time:0.004001140594482422"
     ]
    },
    {
     "name": "stderr",
     "output_type": "stream",
     "text": [
      "\r",
      "  2%|█▎                                                           | 4260/199549 [01:02<59:35, 54.62it/s]"
     ]
    },
    {
     "name": "stdout",
     "output_type": "stream",
     "text": [
      "\n",
      "prediction time:0.009002447128295898\n",
      "sort time:0.007001638412475586\n",
      "prediction time:0.009001970291137695\n",
      "sort time:0.004001140594482422\n",
      "prediction time:0.010002613067626953\n",
      "sort time:0.004000663757324219\n",
      "prediction time:0.0070018768310546875\n",
      "sort time:0.004000663757324219\n",
      "prediction time:0.007001399993896484\n",
      "sort time:0.004000663757324219\n",
      "prediction time:0.007001161575317383\n",
      "sort time:0.0030007362365722656\n",
      "prediction time:0.007001399993896484\n",
      "sort time:0.0030007362365722656\n",
      "prediction time:0.008002519607543945\n",
      "sort time:0.0030002593994140625\n",
      "prediction time:0.007001638412475586\n",
      "sort time:0.003000497817993164\n",
      "prediction time:0.008002042770385742\n",
      "sort time:0.00400090217590332\n",
      "prediction time:0.008001565933227539\n"
     ]
    },
    {
     "name": "stderr",
     "output_type": "stream",
     "text": [
      "  2%|█▎                                                           | 4272/199549 [01:02<57:31, 56.58it/s]"
     ]
    },
    {
     "name": "stdout",
     "output_type": "stream",
     "text": [
      "sort time:0.0030007362365722656\n",
      "prediction time:0.00800180435180664\n",
      "sort time:0.003000974655151367\n",
      "prediction time:0.007001638412475586\n",
      "sort time:0.0030007362365722656\n",
      "prediction time:0.007001638412475586\n",
      "sort time:0.0030007362365722656\n",
      "prediction time:0.008002042770385742\n",
      "sort time:0.00400090217590332\n",
      "prediction time:0.007001399993896484\n",
      "sort time:0.004001140594482422\n",
      "prediction time:0.00800180435180664\n",
      "sort time:0.0030007362365722656\n",
      "prediction time:0.008002042770385742\n",
      "sort time:0.004000663757324219\n",
      "prediction time:0.006001710891723633\n",
      "sort time:0.004000425338745117\n",
      "prediction time:0.006001472473144531\n",
      "sort time:0.004000663757324219\n",
      "prediction time:0.0070018768310546875\n",
      "sort time:0.0030002593994140625\n",
      "prediction time:0.007001638412475586\n"
     ]
    },
    {
     "name": "stderr",
     "output_type": "stream",
     "text": [
      "  2%|█▎                                                           | 4285/199549 [01:03<55:04, 59.10it/s]"
     ]
    },
    {
     "name": "stdout",
     "output_type": "stream",
     "text": [
      "sort time:0.004000663757324219\n",
      "prediction time:0.009002208709716797\n",
      "sort time:0.00400090217590332\n",
      "prediction time:0.007001638412475586\n",
      "sort time:0.00400090217590332\n",
      "prediction time:0.007001638412475586\n",
      "sort time:0.00400090217590332\n",
      "prediction time:0.0070018768310546875\n",
      "sort time:0.0030002593994140625\n",
      "prediction time:0.008002042770385742\n",
      "sort time:0.003000497817993164\n",
      "prediction time:0.007001638412475586\n",
      "sort time:0.0030007362365722656\n",
      "prediction time:0.009001731872558594\n",
      "sort time:0.0030007362365722656\n",
      "prediction time:0.007001399993896484\n",
      "sort time:0.003000974655151367\n",
      "prediction time:0.007001399993896484\n",
      "sort time:0.003000974655151367\n",
      "prediction time:0.007001399993896484\n",
      "sort time:0.003000974655151367\n",
      "prediction time:0.00800180435180664\n",
      "sort time:0.004001140594482422\n"
     ]
    },
    {
     "name": "stderr",
     "output_type": "stream",
     "text": [
      "  2%|█▎                                                           | 4297/199549 [01:03<54:49, 59.36it/s]"
     ]
    },
    {
     "name": "stdout",
     "output_type": "stream",
     "text": [
      "prediction time:0.00800180435180664\n",
      "sort time:0.0030012130737304688\n",
      "prediction time:0.008001565933227539\n",
      "sort time:0.004001140594482422\n",
      "prediction time:0.007001638412475586\n",
      "sort time:0.0030007362365722656\n",
      "prediction time:0.007001638412475586\n",
      "sort time:0.003000974655151367\n",
      "prediction time:0.0070018768310546875\n",
      "sort time:0.0030007362365722656\n",
      "prediction time:0.010003089904785156\n",
      "sort time:0.003000020980834961\n",
      "prediction time:0.007001399993896484\n",
      "sort time:0.0030007362365722656\n",
      "prediction time:0.006001472473144531\n",
      "sort time:0.004001140594482422\n",
      "prediction time:0.008002042770385742\n",
      "sort time:0.0030007362365722656\n",
      "prediction time:0.0070018768310546875\n",
      "sort time:0.0030007362365722656\n",
      "prediction time:0.009002447128295898\n",
      "sort time:0.003000497817993164\n",
      "prediction time:0.007001399993896484\n",
      "sort time:0.00400090217590332\n"
     ]
    },
    {
     "name": "stderr",
     "output_type": "stream",
     "text": [
      "  2%|█▎                                                           | 4309/199549 [01:03<55:17, 58.84it/s]"
     ]
    },
    {
     "name": "stdout",
     "output_type": "stream",
     "text": [
      "prediction time:0.009002447128295898\n",
      "sort time:0.004000425338745117\n",
      "prediction time:0.007001161575317383\n",
      "sort time:0.003000974655151367\n",
      "prediction time:0.00800180435180664\n",
      "sort time:0.003000497817993164\n",
      "prediction time:0.007001638412475586\n",
      "sort time:0.00400090217590332\n",
      "prediction time:0.009001970291137695\n",
      "sort time:0.0030007362365722656\n",
      "prediction time:0.0070018768310546875\n",
      "sort time:0.003000020980834961\n",
      "prediction time:0.008002042770385742\n",
      "sort time:0.0030002593994140625\n",
      "prediction time:0.007001638412475586\n",
      "sort time:0.0030007362365722656\n",
      "prediction time:0.00800180435180664\n",
      "sort time:0.0030007362365722656\n",
      "prediction time:0.007001638412475586\n",
      "sort time:0.0030002593994140625\n",
      "prediction time:0.00800180435180664\n",
      "sort time:0.003000497817993164\n",
      "prediction time:0.007001161575317383\n",
      "sort time:0.003000974655151367"
     ]
    },
    {
     "name": "stderr",
     "output_type": "stream",
     "text": [
      "\r",
      "  2%|█▎                                                           | 4315/199549 [01:03<56:16, 57.82it/s]"
     ]
    },
    {
     "name": "stdout",
     "output_type": "stream",
     "text": [
      "\n",
      "prediction time:0.008001565933227539\n",
      "sort time:0.004001140594482422\n",
      "prediction time:0.008002042770385742\n",
      "sort time:0.004000663757324219\n",
      "prediction time:0.0070018768310546875\n",
      "sort time:0.00400090217590332\n",
      "prediction time:0.009001970291137695\n",
      "sort time:0.004001140594482422\n",
      "prediction time:0.00800180435180664\n",
      "sort time:0.00400090217590332\n",
      "prediction time:0.010002613067626953\n",
      "sort time:0.00400090217590332\n",
      "prediction time:0.027006149291992188\n",
      "sort time:0.00400090217590332\n",
      "prediction time:0.009001970291137695\n",
      "sort time:0.00400090217590332\n",
      "prediction time:0.008002042770385742\n",
      "sort time:0.003000497817993164"
     ]
    },
    {
     "name": "stderr",
     "output_type": "stream",
     "text": [
      "  2%|█▎                                                         | 4327/199549 [01:03<1:00:32, 53.75it/s]"
     ]
    },
    {
     "name": "stdout",
     "output_type": "stream",
     "text": [
      "\n",
      "prediction time:0.009001970291137695\n",
      "sort time:0.0030002593994140625\n",
      "prediction time:0.009001970291137695\n",
      "sort time:0.004000663757324219\n",
      "prediction time:0.006001472473144531\n",
      "sort time:0.00400090217590332\n",
      "prediction time:0.008002042770385742\n",
      "sort time:0.0030002593994140625\n",
      "prediction time:0.007001638412475586\n",
      "sort time:0.003000497817993164\n",
      "prediction time:0.008002042770385742\n",
      "sort time:0.0030007362365722656\n",
      "prediction time:0.007001399993896484\n",
      "sort time:0.004000663757324219\n",
      "prediction time:0.007001638412475586\n",
      "sort time:0.0030007362365722656\n",
      "prediction time:0.008002042770385742\n",
      "sort time:0.0030002593994140625\n",
      "prediction time:0.007001399993896484\n",
      "sort time:0.004001140594482422\n",
      "prediction time:0.008001565933227539\n",
      "sort time:0.003000497817993164"
     ]
    },
    {
     "name": "stderr",
     "output_type": "stream",
     "text": [
      "  2%|█▎                                                           | 4339/199549 [01:04<57:40, 56.41it/s]"
     ]
    },
    {
     "name": "stdout",
     "output_type": "stream",
     "text": [
      "\n",
      "prediction time:0.007001638412475586\n",
      "sort time:0.003000497817993164\n",
      "prediction time:0.007001638412475586\n",
      "sort time:0.003000497817993164\n",
      "prediction time:0.007001638412475586\n",
      "sort time:0.004000425338745117\n",
      "prediction time:0.0070018768310546875\n",
      "sort time:0.004001140594482422\n",
      "prediction time:0.008001565933227539\n",
      "sort time:0.0030007362365722656\n",
      "prediction time:0.008001565933227539\n",
      "sort time:0.003000974655151367\n",
      "prediction time:0.008001327514648438\n",
      "sort time:0.0030007362365722656\n",
      "prediction time:0.007001638412475586\n",
      "sort time:0.004001140594482422\n",
      "prediction time:0.008002042770385742\n",
      "sort time:0.0030002593994140625\n",
      "prediction time:0.008002042770385742\n",
      "sort time:0.0030002593994140625\n",
      "prediction time:0.00800180435180664\n",
      "sort time:0.0030007362365722656\n",
      "prediction time:0.008002281188964844\n",
      "sort time:0.004000425338745117\n"
     ]
    },
    {
     "name": "stderr",
     "output_type": "stream",
     "text": [
      "  2%|█▎                                                           | 4352/199549 [01:04<55:35, 58.52it/s]"
     ]
    },
    {
     "name": "stdout",
     "output_type": "stream",
     "text": [
      "prediction time:0.00800180435180664\n",
      "sort time:0.0040013790130615234\n",
      "prediction time:0.007001399993896484\n",
      "sort time:0.00400090217590332\n",
      "prediction time:0.009001731872558594\n",
      "sort time:0.0030007362365722656\n",
      "prediction time:0.006001710891723633\n",
      "sort time:0.0030002593994140625\n",
      "prediction time:0.00800180435180664\n",
      "sort time:0.0030007362365722656\n",
      "prediction time:0.00800180435180664\n",
      "sort time:0.003000497817993164\n",
      "prediction time:0.007001638412475586\n",
      "sort time:0.0030007362365722656\n",
      "prediction time:0.0070018768310546875\n",
      "sort time:0.0030007362365722656\n",
      "prediction time:0.007002115249633789\n",
      "sort time:0.004000425338745117\n",
      "prediction time:0.00800180435180664\n",
      "sort time:0.004000663757324219\n",
      "prediction time:0.007001638412475586\n",
      "sort time:0.003000497817993164\n",
      "prediction time:0.00800180435180664\n"
     ]
    },
    {
     "name": "stderr",
     "output_type": "stream",
     "text": [
      "  2%|█▎                                                           | 4364/199549 [01:04<55:32, 58.56it/s]"
     ]
    },
    {
     "name": "stdout",
     "output_type": "stream",
     "text": [
      "sort time:0.003000497817993164\n",
      "prediction time:0.008002042770385742\n",
      "sort time:0.004000663757324219\n",
      "prediction time:0.008001565933227539\n",
      "sort time:0.003000497817993164\n",
      "prediction time:0.009002208709716797\n",
      "sort time:0.00400090217590332\n",
      "prediction time:0.007002115249633789\n",
      "sort time:0.003000497817993164\n",
      "prediction time:0.008002042770385742\n",
      "sort time:0.003000497817993164\n",
      "prediction time:0.00800180435180664\n",
      "sort time:0.003000497817993164\n",
      "prediction time:0.007001638412475586\n",
      "sort time:0.003000497817993164\n",
      "prediction time:0.006000995635986328\n",
      "sort time:0.00400090217590332\n",
      "prediction time:0.007002115249633789\n",
      "sort time:0.004000663757324219\n",
      "prediction time:0.00800180435180664\n",
      "sort time:0.0030014514923095703\n",
      "prediction time:0.007001399993896484\n"
     ]
    },
    {
     "name": "stderr",
     "output_type": "stream",
     "text": [
      "  2%|█▎                                                           | 4376/199549 [01:04<58:25, 55.68it/s]"
     ]
    },
    {
     "name": "stdout",
     "output_type": "stream",
     "text": [
      "sort time:0.0030007362365722656\n",
      "prediction time:0.008001565933227539\n",
      "sort time:0.003000974655151367\n",
      "prediction time:0.008001565933227539\n",
      "sort time:0.003000497817993164\n",
      "prediction time:0.008002042770385742\n",
      "sort time:0.003000497817993164\n",
      "prediction time:0.008001327514648438\n",
      "sort time:0.003000974655151367\n",
      "prediction time:0.00800180435180664\n",
      "sort time:0.0030007362365722656\n",
      "prediction time:0.00800180435180664\n",
      "sort time:0.003000497817993164\n",
      "prediction time:0.007001638412475586\n",
      "sort time:0.004001140594482422\n",
      "prediction time:0.008002042770385742\n",
      "sort time:0.004001140594482422\n",
      "prediction time:0.009001970291137695\n",
      "sort time:0.0030007362365722656\n"
     ]
    },
    {
     "name": "stderr",
     "output_type": "stream",
     "text": [
      "\r",
      "  2%|█▎                                                         | 4382/199549 [01:04<1:03:27, 51.26it/s]"
     ]
    },
    {
     "name": "stdout",
     "output_type": "stream",
     "text": [
      "prediction time:0.008001565933227539\n",
      "sort time:0.004001140594482422\n",
      "prediction time:0.008002042770385742\n",
      "sort time:0.005001068115234375\n",
      "prediction time:0.009001970291137695\n",
      "sort time:0.0040013790130615234\n",
      "prediction time:0.009002447128295898\n",
      "sort time:0.006001949310302734\n",
      "prediction time:0.014003276824951172\n",
      "sort time:0.0050008296966552734\n",
      "prediction time:0.008001327514648438\n",
      "sort time:0.005001068115234375\n",
      "prediction time:0.008001327514648438\n",
      "sort time:0.0040013790130615234\n",
      "prediction time:0.009001493453979492\n",
      "sort time:0.0040013790130615234\n",
      "prediction time:0.007001638412475586\n"
     ]
    },
    {
     "name": "stderr",
     "output_type": "stream",
     "text": [
      "  2%|█▎                                                         | 4394/199549 [01:05<1:00:50, 53.46it/s]"
     ]
    },
    {
     "name": "stdout",
     "output_type": "stream",
     "text": [
      "sort time:0.004000663757324219\n",
      "prediction time:0.007001399993896484\n",
      "sort time:0.0030012130737304688\n",
      "prediction time:0.009001731872558594\n",
      "sort time:0.00400090217590332\n",
      "prediction time:0.007001161575317383\n",
      "sort time:0.0030014514923095703\n",
      "prediction time:0.00800180435180664\n",
      "sort time:0.00400090217590332\n",
      "prediction time:0.010001659393310547\n",
      "sort time:0.004000425338745117\n",
      "prediction time:0.0070018768310546875\n",
      "sort time:0.004000425338745117\n",
      "prediction time:0.007001399993896484\n",
      "sort time:0.003000974655151367\n",
      "prediction time:0.00800180435180664\n",
      "sort time:0.003000497817993164\n",
      "prediction time:0.008002042770385742\n",
      "sort time:0.003000497817993164\n",
      "prediction time:0.007001399993896484\n",
      "sort time:0.0040013790130615234\n",
      "prediction time:0.008002042770385742\n"
     ]
    },
    {
     "name": "stderr",
     "output_type": "stream",
     "text": [
      "  2%|█▎                                                           | 4406/199549 [01:05<57:41, 56.37it/s]"
     ]
    },
    {
     "name": "stdout",
     "output_type": "stream",
     "text": [
      "sort time:0.004000425338745117\n",
      "prediction time:0.007002115249633789\n",
      "sort time:0.003000497817993164\n",
      "prediction time:0.008002042770385742\n",
      "sort time:0.00400090217590332\n",
      "prediction time:0.0070018768310546875\n",
      "sort time:0.004000425338745117\n",
      "prediction time:0.00800180435180664\n",
      "sort time:0.0030007362365722656\n",
      "prediction time:0.007001638412475586\n",
      "sort time:0.004000663757324219\n",
      "prediction time:0.008001565933227539\n",
      "sort time:0.003000497817993164\n",
      "prediction time:0.007001399993896484\n",
      "sort time:0.003000497817993164\n",
      "prediction time:0.007001638412475586\n",
      "sort time:0.00400090217590332\n",
      "prediction time:0.007001638412475586\n",
      "sort time:0.0030007362365722656\n",
      "prediction time:0.007001638412475586\n",
      "sort time:0.0030007362365722656\n",
      "prediction time:0.00800180435180664\n"
     ]
    },
    {
     "name": "stderr",
     "output_type": "stream",
     "text": [
      "\r",
      "  2%|█▎                                                           | 4413/199549 [01:05<55:58, 58.11it/s]"
     ]
    },
    {
     "name": "stdout",
     "output_type": "stream",
     "text": [
      "sort time:0.004001140594482422\n",
      "prediction time:0.007001638412475586\n",
      "sort time:0.0030007362365722656\n",
      "prediction time:0.006001710891723633\n",
      "sort time:0.00400090217590332\n",
      "prediction time:0.007001399993896484\n",
      "sort time:0.003000497817993164\n",
      "prediction time:0.0060007572174072266\n",
      "sort time:0.003000974655151367\n",
      "prediction time:0.007001638412475586\n",
      "sort time:0.0030007362365722656\n",
      "prediction time:0.00800180435180664\n",
      "sort time:0.003000497817993164\n",
      "prediction time:0.007001638412475586\n",
      "sort time:0.0040018558502197266\n",
      "prediction time:0.01000213623046875\n",
      "sort time:0.003000974655151367\n",
      "prediction time:0.006001949310302734\n",
      "sort time:0.003000974655151367\n",
      "prediction time:0.008002042770385742\n",
      "sort time:0.0030012130737304688\n",
      "prediction time:0.007001399993896484\n",
      "sort time:0.003000497817993164\n"
     ]
    },
    {
     "name": "stderr",
     "output_type": "stream",
     "text": [
      "  2%|█▎                                                           | 4426/199549 [01:05<54:18, 59.89it/s]"
     ]
    },
    {
     "name": "stdout",
     "output_type": "stream",
     "text": [
      "prediction time:0.00800180435180664\n",
      "sort time:0.0030007362365722656\n",
      "prediction time:0.007001638412475586\n",
      "sort time:0.003000497817993164\n",
      "prediction time:0.00800180435180664\n",
      "sort time:0.003000974655151367\n",
      "prediction time:0.007001399993896484\n",
      "sort time:0.0030007362365722656\n",
      "prediction time:0.006001472473144531\n",
      "sort time:0.0030002593994140625\n",
      "prediction time:0.00800180435180664\n",
      "sort time:0.0030002593994140625\n",
      "prediction time:0.008001565933227539\n",
      "sort time:0.0030007362365722656\n",
      "prediction time:0.007001638412475586\n",
      "sort time:0.0030007362365722656\n",
      "prediction time:0.009002208709716797\n",
      "sort time:0.004001140594482422\n",
      "prediction time:0.007001399993896484\n",
      "sort time:0.0030007362365722656\n",
      "prediction time:0.009001970291137695\n",
      "sort time:0.003000974655151367\n",
      "prediction time:0.008002042770385742\n",
      "sort time:0.0030002593994140625\n",
      "prediction time:0.008001565933227539\n",
      "sort time:0.0030007362365722656"
     ]
    },
    {
     "name": "stderr",
     "output_type": "stream",
     "text": [
      "  2%|█▎                                                           | 4438/199549 [01:05<56:28, 57.57it/s]"
     ]
    },
    {
     "name": "stdout",
     "output_type": "stream",
     "text": [
      "\n",
      "prediction time:0.00800180435180664\n",
      "sort time:0.00400090217590332\n",
      "prediction time:0.009001731872558594\n",
      "sort time:0.004001140594482422\n",
      "prediction time:0.0070018768310546875\n",
      "sort time:0.004000425338745117\n",
      "prediction time:0.007001161575317383\n",
      "sort time:0.004001140594482422\n",
      "prediction time:0.007001399993896484\n",
      "sort time:0.0030007362365722656\n",
      "prediction time:0.00900125503540039\n",
      "sort time:0.00400090217590332\n",
      "prediction time:0.007001161575317383\n",
      "sort time:0.004000663757324219\n",
      "prediction time:0.00800180435180664\n",
      "sort time:0.004001617431640625\n",
      "prediction time:0.007002115249633789\n",
      "sort time:0.004000425338745117\n",
      "prediction time:0.007002115249633789\n",
      "sort time:0.004000425338745117\n",
      "prediction time:0.00800180435180664\n"
     ]
    },
    {
     "name": "stderr",
     "output_type": "stream",
     "text": [
      "  2%|█▎                                                           | 4450/199549 [01:06<58:20, 55.73it/s]"
     ]
    },
    {
     "name": "stdout",
     "output_type": "stream",
     "text": [
      "sort time:0.005000591278076172\n",
      "prediction time:0.01000213623046875\n",
      "sort time:0.00800180435180664\n",
      "prediction time:0.008001565933227539\n",
      "sort time:0.003000497817993164\n",
      "prediction time:0.007001399993896484\n",
      "sort time:0.004001140594482422\n",
      "prediction time:0.008002042770385742\n",
      "sort time:0.0030007362365722656\n",
      "prediction time:0.008001565933227539\n",
      "sort time:0.004000425338745117\n",
      "prediction time:0.00600123405456543\n",
      "sort time:0.004001140594482422\n",
      "prediction time:0.007001638412475586\n",
      "sort time:0.0030007362365722656\n",
      "prediction time:0.007001638412475586\n",
      "sort time:0.003000497817993164\n",
      "prediction time:0.008002281188964844\n",
      "sort time:0.003000497817993164\n",
      "prediction time:0.007001638412475586\n",
      "sort time:0.004001140594482422\n",
      "prediction time:0.007001638412475586\n"
     ]
    },
    {
     "name": "stderr",
     "output_type": "stream",
     "text": [
      "  2%|█▎                                                           | 4462/199549 [01:06<57:00, 57.04it/s]"
     ]
    },
    {
     "name": "stdout",
     "output_type": "stream",
     "text": [
      "sort time:0.00400090217590332\n",
      "prediction time:0.00800180435180664\n",
      "sort time:0.003000497817993164\n",
      "prediction time:0.007001638412475586\n",
      "sort time:0.0030012130737304688\n",
      "prediction time:0.00800180435180664\n",
      "sort time:0.00400090217590332\n",
      "prediction time:0.00800180435180664\n",
      "sort time:0.0030012130737304688\n",
      "prediction time:0.008000850677490234\n",
      "sort time:0.004000663757324219\n",
      "prediction time:0.00600123405456543\n",
      "sort time:0.00400090217590332\n",
      "prediction time:0.00800180435180664\n",
      "sort time:0.0030002593994140625\n",
      "prediction time:0.00600123405456543\n",
      "sort time:0.004001140594482422\n",
      "prediction time:0.00800180435180664\n",
      "sort time:0.003000497817993164\n",
      "prediction time:0.00800180435180664\n",
      "sort time:0.0030007362365722656\n"
     ]
    },
    {
     "name": "stderr",
     "output_type": "stream",
     "text": [
      "\r",
      "  2%|█▎                                                           | 4468/199549 [01:06<56:29, 57.55it/s]"
     ]
    },
    {
     "name": "stdout",
     "output_type": "stream",
     "text": [
      "prediction time:0.007001638412475586\n",
      "sort time:0.004000663757324219\n",
      "prediction time:0.007001399993896484\n",
      "sort time:0.003000497817993164\n",
      "prediction time:0.009001970291137695\n",
      "sort time:0.003000497817993164\n",
      "prediction time:0.006001472473144531\n",
      "sort time:0.004000663757324219\n",
      "prediction time:0.007001638412475586\n",
      "sort time:0.00400090217590332\n",
      "prediction time:0.006001472473144531\n",
      "sort time:0.004000663757324219\n",
      "prediction time:0.009001731872558594\n",
      "sort time:0.0030007362365722656\n",
      "prediction time:0.007001399993896484\n",
      "sort time:0.0030007362365722656\n",
      "prediction time:0.007001399993896484\n",
      "sort time:0.0030007362365722656\n",
      "prediction time:0.008001565933227539\n",
      "sort time:0.003000974655151367\n",
      "prediction time:0.0070018768310546875\n",
      "sort time:0.0030007362365722656\n",
      "prediction time:0.00800180435180664\n"
     ]
    },
    {
     "name": "stderr",
     "output_type": "stream",
     "text": [
      "  2%|█▎                                                           | 4482/199549 [01:06<54:33, 59.59it/s]"
     ]
    },
    {
     "name": "stdout",
     "output_type": "stream",
     "text": [
      "sort time:0.00400090217590332\n",
      "prediction time:0.007001638412475586\n",
      "sort time:0.003000497817993164\n",
      "prediction time:0.00800180435180664\n",
      "sort time:0.0030007362365722656\n",
      "prediction time:0.007001161575317383\n",
      "sort time:0.003000974655151367\n",
      "prediction time:0.006000995635986328\n",
      "sort time:0.004001140594482422\n",
      "prediction time:0.007001638412475586\n",
      "sort time:0.003000497817993164\n",
      "prediction time:0.008002281188964844\n",
      "sort time:0.003000020980834961\n",
      "prediction time:0.007002115249633789\n",
      "sort time:0.0030002593994140625\n",
      "prediction time:0.009002208709716797\n",
      "sort time:0.003000497817993164\n",
      "prediction time:0.006001472473144531\n",
      "sort time:0.003000974655151367\n",
      "prediction time:0.008002042770385742\n",
      "sort time:0.00400090217590332\n",
      "prediction time:0.00800180435180664\n"
     ]
    },
    {
     "name": "stderr",
     "output_type": "stream",
     "text": [
      "  2%|█▎                                                           | 4494/199549 [01:06<57:22, 56.66it/s]"
     ]
    },
    {
     "name": "stdout",
     "output_type": "stream",
     "text": [
      "sort time:0.00400090217590332\n",
      "prediction time:0.00800180435180664\n",
      "sort time:0.003000497817993164\n",
      "prediction time:0.007001399993896484\n",
      "sort time:0.0030007362365722656\n",
      "prediction time:0.008001565933227539\n",
      "sort time:0.004001140594482422\n",
      "prediction time:0.007001638412475586\n",
      "sort time:0.004000663757324219\n",
      "prediction time:0.009001970291137695\n",
      "sort time:0.005001544952392578\n",
      "prediction time:0.007000923156738281\n",
      "sort time:0.0040013790130615234\n",
      "prediction time:0.00800180435180664\n",
      "sort time:0.0030002593994140625\n",
      "prediction time:0.009002447128295898\n",
      "sort time:0.0030002593994140625\n",
      "prediction time:0.008002281188964844\n",
      "sort time:0.00400090217590332\n",
      "prediction time:0.011002302169799805\n"
     ]
    },
    {
     "name": "stderr",
     "output_type": "stream",
     "text": [
      "\r",
      "  2%|█▍                                                           | 4500/199549 [01:06<59:36, 54.54it/s]"
     ]
    },
    {
     "name": "stdout",
     "output_type": "stream",
     "text": [
      "sort time:0.004001140594482422\n",
      "prediction time:0.008002042770385742\n",
      "sort time:0.004001140594482422\n",
      "prediction time:0.008001565933227539\n",
      "sort time:0.00400090217590332\n",
      "prediction time:0.009001970291137695\n",
      "sort time:0.005001544952392578\n",
      "prediction time:0.008001565933227539\n",
      "sort time:0.004001140594482422\n",
      "prediction time:0.008002042770385742\n",
      "sort time:0.003000497817993164\n",
      "prediction time:0.008002042770385742\n",
      "sort time:0.00400090217590332\n",
      "prediction time:0.00800180435180664\n",
      "sort time:0.0030002593994140625\n",
      "prediction time:0.008002281188964844\n",
      "sort time:0.004000425338745117\n",
      "prediction time:0.008001565933227539\n",
      "sort time:0.0040013790130615234\n"
     ]
    },
    {
     "name": "stderr",
     "output_type": "stream",
     "text": [
      "  2%|█▍                                                           | 4512/199549 [01:07<59:26, 54.69it/s]"
     ]
    },
    {
     "name": "stdout",
     "output_type": "stream",
     "text": [
      "prediction time:0.008002281188964844\n",
      "sort time:0.004000663757324219\n",
      "prediction time:0.008002042770385742\n",
      "sort time:0.0030007362365722656\n",
      "prediction time:0.007001399993896484\n",
      "sort time:0.003000974655151367\n",
      "prediction time:0.007001399993896484\n",
      "sort time:0.004000663757324219\n",
      "prediction time:0.008001327514648438\n",
      "sort time:0.0030007362365722656\n",
      "prediction time:0.007001638412475586\n",
      "sort time:0.0030007362365722656\n",
      "prediction time:0.0070018768310546875\n",
      "sort time:0.0030007362365722656\n",
      "prediction time:0.009001731872558594\n",
      "sort time:0.0040013790130615234\n",
      "prediction time:0.00800180435180664\n",
      "sort time:0.0030007362365722656\n",
      "prediction time:0.008001327514648438\n",
      "sort time:0.0030002593994140625\n",
      "prediction time:0.00800180435180664\n",
      "sort time:0.0030007362365722656\n",
      "prediction time:0.00800180435180664\n"
     ]
    },
    {
     "name": "stderr",
     "output_type": "stream",
     "text": [
      "  2%|█▍                                                           | 4525/199549 [01:07<56:14, 57.79it/s]"
     ]
    },
    {
     "name": "stdout",
     "output_type": "stream",
     "text": [
      "sort time:0.0030007362365722656\n",
      "prediction time:0.007001399993896484\n",
      "sort time:0.00400090217590332\n",
      "prediction time:0.00800180435180664\n",
      "sort time:0.004001140594482422\n",
      "prediction time:0.007001638412475586\n",
      "sort time:0.0030007362365722656\n",
      "prediction time:0.007001638412475586\n",
      "sort time:0.003000497817993164\n",
      "prediction time:0.007001638412475586\n",
      "sort time:0.004000663757324219\n",
      "prediction time:0.007001638412475586\n",
      "sort time:0.003000497817993164\n",
      "prediction time:0.00800180435180664\n",
      "sort time:0.0030002593994140625\n",
      "prediction time:0.008001565933227539\n",
      "sort time:0.003000974655151367\n",
      "prediction time:0.00800180435180664\n",
      "sort time:0.004001140594482422\n",
      "prediction time:0.007001638412475586\n",
      "sort time:0.00400090217590332\n",
      "prediction time:0.00600123405456543\n",
      "sort time:0.003000497817993164\n",
      "prediction time:0.00800180435180664\n"
     ]
    },
    {
     "name": "stderr",
     "output_type": "stream",
     "text": [
      "  2%|█▍                                                           | 4537/199549 [01:07<55:42, 58.34it/s]"
     ]
    },
    {
     "name": "stdout",
     "output_type": "stream",
     "text": [
      "sort time:0.003000497817993164\n",
      "prediction time:0.008002281188964844\n",
      "sort time:0.004000425338745117\n",
      "prediction time:0.00800180435180664\n",
      "sort time:0.003000497817993164\n",
      "prediction time:0.0070018768310546875\n",
      "sort time:0.0030002593994140625\n",
      "prediction time:0.0070018768310546875\n",
      "sort time:0.003000497817993164\n",
      "prediction time:0.007001638412475586\n",
      "sort time:0.00400090217590332\n",
      "prediction time:0.00800180435180664\n",
      "sort time:0.0030007362365722656\n",
      "prediction time:0.006001472473144531\n",
      "sort time:0.004000663757324219\n",
      "prediction time:0.008002042770385742\n",
      "sort time:0.004000663757324219\n",
      "prediction time:0.007001161575317383\n",
      "sort time:0.0030007362365722656\n",
      "prediction time:0.009001970291137695\n",
      "sort time:0.003000497817993164\n",
      "prediction time:0.006001949310302734\n",
      "sort time:0.004000186920166016\n"
     ]
    },
    {
     "name": "stderr",
     "output_type": "stream",
     "text": [
      "  2%|█▍                                                           | 4549/199549 [01:07<56:12, 57.82it/s]"
     ]
    },
    {
     "name": "stdout",
     "output_type": "stream",
     "text": [
      "prediction time:0.009001970291137695\n",
      "sort time:0.00400090217590332\n",
      "prediction time:0.007002353668212891\n",
      "sort time:0.003000020980834961\n",
      "prediction time:0.008002042770385742\n",
      "sort time:0.003000497817993164\n",
      "prediction time:0.0070018768310546875\n",
      "sort time:0.004000663757324219\n",
      "prediction time:0.007001638412475586\n",
      "sort time:0.003000497817993164\n",
      "prediction time:0.007001638412475586\n",
      "sort time:0.004000663757324219\n",
      "prediction time:0.00800180435180664\n",
      "sort time:0.0030007362365722656\n",
      "prediction time:0.007001638412475586\n",
      "sort time:0.003000497817993164\n",
      "prediction time:0.008001327514648438\n",
      "sort time:0.0030007362365722656\n",
      "prediction time:0.007001638412475586\n",
      "sort time:0.004000663757324219\n",
      "prediction time:0.007001638412475586\n",
      "sort time:0.004000663757324219\n",
      "prediction time:0.007001638412475586\n"
     ]
    },
    {
     "name": "stderr",
     "output_type": "stream",
     "text": [
      "  2%|█▍                                                           | 4561/199549 [01:07<57:10, 56.84it/s]"
     ]
    },
    {
     "name": "stdout",
     "output_type": "stream",
     "text": [
      "sort time:0.003000497817993164\n",
      "prediction time:0.008002281188964844\n",
      "sort time:0.004000186920166016\n",
      "prediction time:0.0070018768310546875\n",
      "sort time:0.0030002593994140625\n",
      "prediction time:0.00800180435180664\n",
      "sort time:0.004000663757324219\n",
      "prediction time:0.007001638412475586\n",
      "sort time:0.004001140594482422\n",
      "prediction time:0.007001399993896484\n",
      "sort time:0.0030007362365722656\n",
      "prediction time:0.008001565933227539\n",
      "sort time:0.00400090217590332\n",
      "prediction time:0.007001161575317383\n",
      "sort time:0.0040013790130615234\n",
      "prediction time:0.00800180435180664\n",
      "sort time:0.003000497817993164\n",
      "prediction time:0.009002208709716797\n",
      "sort time:0.0030007362365722656\n",
      "prediction time:0.01000213623046875\n",
      "sort time:0.0030007362365722656\n",
      "prediction time:0.007001638412475586\n"
     ]
    },
    {
     "name": "stderr",
     "output_type": "stream",
     "text": [
      "\r",
      "  2%|█▎                                                         | 4567/199549 [01:08<1:00:38, 53.58it/s]"
     ]
    },
    {
     "name": "stdout",
     "output_type": "stream",
     "text": [
      "sort time:0.00400090217590332\n",
      "prediction time:0.007001638412475586\n",
      "sort time:0.003000974655151367\n",
      "prediction time:0.008001327514648438\n",
      "sort time:0.004001140594482422\n",
      "prediction time:0.008001327514648438\n",
      "sort time:0.00400090217590332\n",
      "prediction time:0.010002613067626953\n",
      "sort time:0.004001140594482422\n",
      "prediction time:0.008001327514648438\n",
      "sort time:0.005001068115234375\n",
      "prediction time:0.007001399993896484\n",
      "sort time:0.004000663757324219\n",
      "prediction time:0.0070018768310546875\n",
      "sort time:0.004001140594482422\n",
      "prediction time:0.007001399993896484\n",
      "sort time:0.0030002593994140625\n",
      "prediction time:0.00800180435180664\n",
      "sort time:0.003000974655151367\n",
      "prediction time:0.00800180435180664\n",
      "sort time:0.003000974655151367"
     ]
    },
    {
     "name": "stderr",
     "output_type": "stream",
     "text": [
      "  2%|█▍                                                           | 4580/199549 [01:08<57:32, 56.47it/s]"
     ]
    },
    {
     "name": "stdout",
     "output_type": "stream",
     "text": [
      "\n",
      "prediction time:0.00700068473815918\n",
      "sort time:0.0040013790130615234\n",
      "prediction time:0.007001638412475586\n",
      "sort time:0.004001140594482422\n",
      "prediction time:0.007001399993896484\n",
      "sort time:0.003000497817993164\n",
      "prediction time:0.00800180435180664\n",
      "sort time:0.003000974655151367\n",
      "prediction time:0.008002042770385742\n",
      "sort time:0.0030007362365722656\n",
      "prediction time:0.007001399993896484\n",
      "sort time:0.003000974655151367\n",
      "prediction time:0.007001399993896484\n",
      "sort time:0.00400090217590332\n",
      "prediction time:0.007001638412475586\n",
      "sort time:0.0030007362365722656\n",
      "prediction time:0.00800180435180664\n",
      "sort time:0.003000497817993164\n",
      "prediction time:0.007002115249633789\n",
      "sort time:0.0030002593994140625\n",
      "prediction time:0.009002208709716797\n",
      "sort time:0.003000497817993164"
     ]
    },
    {
     "name": "stderr",
     "output_type": "stream",
     "text": [
      "  2%|█▍                                                           | 4593/199549 [01:08<55:35, 58.45it/s]"
     ]
    },
    {
     "name": "stdout",
     "output_type": "stream",
     "text": [
      "\n",
      "prediction time:0.007001638412475586\n",
      "sort time:0.00400090217590332\n",
      "prediction time:0.008002042770385742\n",
      "sort time:0.004000663757324219\n",
      "prediction time:0.007001638412475586\n",
      "sort time:0.003000497817993164\n",
      "prediction time:0.00800180435180664\n",
      "sort time:0.003000974655151367\n",
      "prediction time:0.007001399993896484\n",
      "sort time:0.0030007362365722656\n",
      "prediction time:0.0070018768310546875\n",
      "sort time:0.004000663757324219\n",
      "prediction time:0.007001638412475586\n",
      "sort time:0.003000497817993164\n",
      "prediction time:0.00800180435180664\n",
      "sort time:0.003000497817993164\n",
      "prediction time:0.0070018768310546875\n",
      "sort time:0.004000663757324219\n",
      "prediction time:0.009001970291137695\n",
      "sort time:0.004001140594482422\n",
      "prediction time:0.00800180435180664\n",
      "sort time:0.0030007362365722656"
     ]
    },
    {
     "name": "stderr",
     "output_type": "stream",
     "text": [
      "  2%|█▍                                                           | 4606/199549 [01:08<54:24, 59.71it/s]"
     ]
    },
    {
     "name": "stdout",
     "output_type": "stream",
     "text": [
      "\n",
      "prediction time:0.007001638412475586\n",
      "sort time:0.0030007362365722656\n",
      "prediction time:0.0070018768310546875\n",
      "sort time:0.004000663757324219\n",
      "prediction time:0.008002042770385742\n",
      "sort time:0.003000497817993164\n",
      "prediction time:0.007001638412475586\n",
      "sort time:0.003000497817993164\n",
      "prediction time:0.007001399993896484\n",
      "sort time:0.003000497817993164\n",
      "prediction time:0.008002042770385742\n",
      "sort time:0.003000974655151367\n",
      "prediction time:0.00600123405456543\n",
      "sort time:0.0030007362365722656\n",
      "prediction time:0.008002042770385742\n",
      "sort time:0.003000497817993164\n",
      "prediction time:0.008002281188964844\n",
      "sort time:0.003000497817993164\n",
      "prediction time:0.0070018768310546875\n",
      "sort time:0.0030007362365722656\n",
      "prediction time:0.008002281188964844\n",
      "sort time:0.003000497817993164\n",
      "prediction time:0.008001565933227539\n",
      "sort time:0.00400090217590332"
     ]
    },
    {
     "name": "stderr",
     "output_type": "stream",
     "text": [
      "\r",
      "  2%|█▍                                                           | 4612/199549 [01:08<54:38, 59.46it/s]"
     ]
    },
    {
     "name": "stdout",
     "output_type": "stream",
     "text": [
      "\n",
      "prediction time:0.008002042770385742\n",
      "sort time:0.00400090217590332\n",
      "prediction time:0.007001638412475586\n",
      "sort time:0.004000663757324219\n",
      "prediction time:0.007001638412475586\n",
      "sort time:0.003000497817993164\n",
      "prediction time:0.00800180435180664\n",
      "sort time:0.003000974655151367\n",
      "prediction time:0.007001638412475586\n",
      "sort time:0.0030007362365722656\n",
      "prediction time:0.008002281188964844\n",
      "sort time:0.004000663757324219\n",
      "prediction time:0.007001399993896484\n",
      "sort time:0.003000497817993164\n",
      "prediction time:0.006000995635986328\n",
      "sort time:0.004001140594482422\n",
      "prediction time:0.006001472473144531\n",
      "sort time:0.003000497817993164\n",
      "prediction time:0.00800180435180664\n",
      "sort time:0.0030007362365722656\n",
      "prediction time:0.008002042770385742\n",
      "sort time:0.003000497817993164"
     ]
    },
    {
     "name": "stderr",
     "output_type": "stream",
     "text": [
      "  2%|█▍                                                           | 4625/199549 [01:09<54:40, 59.42it/s]"
     ]
    },
    {
     "name": "stdout",
     "output_type": "stream",
     "text": [
      "\n",
      "prediction time:0.007001638412475586\n",
      "sort time:0.004000425338745117\n",
      "prediction time:0.00600123405456543\n",
      "sort time:0.0030007362365722656\n",
      "prediction time:0.007001399993896484\n",
      "sort time:0.004000663757324219\n",
      "prediction time:0.0070018768310546875\n",
      "sort time:0.004000663757324219\n",
      "prediction time:0.006001472473144531\n",
      "sort time:0.0030012130737304688\n",
      "prediction time:0.009001970291137695\n",
      "sort time:0.003000974655151367\n",
      "prediction time:0.008002042770385742\n",
      "sort time:0.003000497817993164\n",
      "prediction time:0.007001638412475586\n",
      "sort time:0.0030007362365722656\n",
      "prediction time:0.0070018768310546875\n",
      "sort time:0.004001140594482422\n",
      "prediction time:0.007001399993896484\n",
      "sort time:0.0030007362365722656\n",
      "prediction time:0.007001399993896484\n",
      "sort time:0.004001140594482422"
     ]
    },
    {
     "name": "stderr",
     "output_type": "stream",
     "text": [
      "  2%|█▍                                                           | 4637/199549 [01:09<57:43, 56.28it/s]"
     ]
    },
    {
     "name": "stdout",
     "output_type": "stream",
     "text": [
      "\n",
      "prediction time:0.010001897811889648\n",
      "sort time:0.005001068115234375\n",
      "prediction time:0.00900125503540039\n",
      "sort time:0.004001140594482422\n",
      "prediction time:0.00800180435180664\n",
      "sort time:0.00400090217590332\n",
      "prediction time:0.007001638412475586\n",
      "sort time:0.0030012130737304688\n",
      "prediction time:0.008002042770385742\n",
      "sort time:0.0030007362365722656\n",
      "prediction time:0.009002685546875\n",
      "sort time:0.004000186920166016\n",
      "prediction time:0.008001327514648438\n",
      "sort time:0.003000974655151367\n",
      "prediction time:0.007001399993896484\n",
      "sort time:0.0030007362365722656\n",
      "prediction time:0.00800180435180664\n",
      "sort time:0.00400090217590332\n",
      "prediction time:0.008002281188964844\n",
      "sort time:0.004000425338745117"
     ]
    },
    {
     "name": "stderr",
     "output_type": "stream",
     "text": [
      "  2%|█▍                                                           | 4649/199549 [01:09<58:00, 56.00it/s]"
     ]
    },
    {
     "name": "stdout",
     "output_type": "stream",
     "text": [
      "\n",
      "prediction time:0.008002281188964844\n",
      "sort time:0.004000425338745117\n",
      "prediction time:0.00800180435180664\n",
      "sort time:0.0030007362365722656\n",
      "prediction time:0.00800180435180664\n",
      "sort time:0.00400090217590332\n",
      "prediction time:0.00800180435180664\n",
      "sort time:0.003000974655151367\n",
      "prediction time:0.007001399993896484\n",
      "sort time:0.00400090217590332\n",
      "prediction time:0.007001161575317383\n",
      "sort time:0.003000974655151367\n",
      "prediction time:0.0070018768310546875\n",
      "sort time:0.003000497817993164\n",
      "prediction time:0.007001638412475586\n",
      "sort time:0.003000497817993164\n",
      "prediction time:0.008001565933227539\n",
      "sort time:0.00400090217590332\n",
      "prediction time:0.008002042770385742\n",
      "sort time:0.003000497817993164\n",
      "prediction time:0.00800180435180664\n",
      "sort time:0.004001140594482422"
     ]
    },
    {
     "name": "stderr",
     "output_type": "stream",
     "text": [
      "\r",
      "  2%|█▍                                                           | 4655/199549 [01:09<58:08, 55.86it/s]"
     ]
    },
    {
     "name": "stdout",
     "output_type": "stream",
     "text": [
      "\n",
      "prediction time:0.008002042770385742\n",
      "sort time:0.0030007362365722656\n",
      "prediction time:0.00800180435180664\n",
      "sort time:0.0030007362365722656\n",
      "prediction time:0.007001638412475586\n",
      "sort time:0.0030002593994140625\n",
      "prediction time:0.007001638412475586\n",
      "sort time:0.003000974655151367\n",
      "prediction time:0.007001638412475586\n",
      "sort time:0.004001140594482422\n",
      "prediction time:0.009002685546875\n",
      "sort time:0.0030002593994140625\n",
      "prediction time:0.00800180435180664\n",
      "sort time:0.003000974655151367\n",
      "prediction time:0.00800180435180664\n",
      "sort time:0.003000974655151367\n",
      "prediction time:0.007001638412475586\n",
      "sort time:0.003000974655151367\n",
      "prediction time:0.00600123405456543\n",
      "sort time:0.003000020980834961\n",
      "prediction time:0.00800180435180664\n",
      "sort time:0.0030007362365722656\n",
      "prediction time:0.007001399993896484\n",
      "sort time:0.003000974655151367"
     ]
    },
    {
     "name": "stderr",
     "output_type": "stream",
     "text": [
      "  2%|█▍                                                           | 4668/199549 [01:09<56:04, 57.93it/s]"
     ]
    },
    {
     "name": "stdout",
     "output_type": "stream",
     "text": [
      "\n",
      "prediction time:0.007001638412475586\n",
      "sort time:0.004000663757324219\n",
      "prediction time:0.00800180435180664\n",
      "sort time:0.003000974655151367\n",
      "prediction time:0.007001638412475586\n",
      "sort time:0.003000497817993164\n",
      "prediction time:0.007001638412475586\n",
      "sort time:0.0030002593994140625\n",
      "prediction time:0.007001161575317383\n",
      "sort time:0.004000663757324219\n",
      "prediction time:0.006001710891723633\n",
      "sort time:0.0030002593994140625\n",
      "prediction time:0.009002447128295898\n",
      "sort time:0.004000663757324219\n",
      "prediction time:0.007001399993896484\n",
      "sort time:0.0030007362365722656\n",
      "prediction time:0.008001565933227539\n",
      "sort time:0.0030007362365722656\n",
      "prediction time:0.009002685546875\n",
      "sort time:0.004000186920166016\n",
      "prediction time:0.00800180435180664\n"
     ]
    },
    {
     "name": "stderr",
     "output_type": "stream",
     "text": [
      "  2%|█▍                                                           | 4680/199549 [01:10<59:35, 54.50it/s]"
     ]
    },
    {
     "name": "stdout",
     "output_type": "stream",
     "text": [
      "sort time:0.004001140594482422\n",
      "prediction time:0.009002208709716797\n",
      "sort time:0.00400090217590332\n",
      "prediction time:0.009001970291137695\n",
      "sort time:0.00400090217590332\n",
      "prediction time:0.009001731872558594\n",
      "sort time:0.004001140594482422\n",
      "prediction time:0.009001970291137695\n",
      "sort time:0.00400090217590332\n",
      "prediction time:0.007001638412475586\n",
      "sort time:0.00400090217590332\n",
      "prediction time:0.007001638412475586\n",
      "sort time:0.003000020980834961\n",
      "prediction time:0.008002042770385742\n",
      "sort time:0.004001140594482422\n",
      "prediction time:0.008002042770385742\n",
      "sort time:0.00400090217590332\n",
      "prediction time:0.007001161575317383\n",
      "sort time:0.00400090217590332\n",
      "prediction time:0.007000923156738281\n"
     ]
    },
    {
     "name": "stderr",
     "output_type": "stream",
     "text": [
      "\r",
      "  2%|█▍                                                         | 4686/199549 [01:10<1:01:01, 53.22it/s]"
     ]
    },
    {
     "name": "stdout",
     "output_type": "stream",
     "text": [
      "sort time:0.00400090217590332\n",
      "prediction time:0.007002592086791992\n",
      "sort time:0.004999876022338867\n",
      "prediction time:0.008002042770385742\n",
      "sort time:0.004000663757324219\n",
      "prediction time:0.007001399993896484\n",
      "sort time:0.00500178337097168\n",
      "prediction time:0.008002042770385742\n",
      "sort time:0.00500178337097168\n",
      "prediction time:0.009002685546875\n",
      "sort time:0.0050008296966552734\n",
      "prediction time:0.008002758026123047\n",
      "sort time:0.00400090217590332\n",
      "prediction time:0.009001731872558594\n",
      "sort time:0.0040018558502197266\n",
      "prediction time:0.009001493453979492\n",
      "sort time:0.00500178337097168\n",
      "prediction time:0.009001970291137695\n",
      "sort time:0.004000425338745117"
     ]
    },
    {
     "name": "stderr",
     "output_type": "stream",
     "text": [
      "  2%|█▍                                                         | 4698/199549 [01:10<1:03:26, 51.19it/s]"
     ]
    },
    {
     "name": "stdout",
     "output_type": "stream",
     "text": [
      "\n",
      "prediction time:0.008001565933227539\n",
      "sort time:0.005001544952392578\n",
      "prediction time:0.008002042770385742\n",
      "sort time:0.00400090217590332\n",
      "prediction time:0.008001565933227539\n",
      "sort time:0.003000974655151367\n",
      "prediction time:0.0070018768310546875\n",
      "sort time:0.004000663757324219\n",
      "prediction time:0.008001565933227539\n",
      "sort time:0.004001140594482422\n",
      "prediction time:0.006000995635986328\n",
      "sort time:0.004001140594482422\n",
      "prediction time:0.007001638412475586\n",
      "sort time:0.00400090217590332\n",
      "prediction time:0.008002042770385742\n",
      "sort time:0.004000663757324219\n",
      "prediction time:0.006001472473144531\n",
      "sort time:0.0030007362365722656\n",
      "prediction time:0.009002447128295898\n",
      "sort time:0.0030002593994140625\n"
     ]
    },
    {
     "name": "stderr",
     "output_type": "stream",
     "text": [
      "  2%|█▍                                                         | 4710/199549 [01:10<1:02:13, 52.19it/s]"
     ]
    },
    {
     "name": "stdout",
     "output_type": "stream",
     "text": [
      "prediction time:0.007001399993896484\n",
      "sort time:0.0030007362365722656\n",
      "prediction time:0.008002042770385742\n",
      "sort time:0.004001140594482422\n",
      "prediction time:0.008001565933227539\n",
      "sort time:0.00400090217590332\n",
      "prediction time:0.00800180435180664\n",
      "sort time:0.004000663757324219\n",
      "prediction time:0.00800180435180664\n",
      "sort time:0.0030007362365722656\n",
      "prediction time:0.0070018768310546875\n",
      "sort time:0.0030007362365722656\n",
      "prediction time:0.007001638412475586\n",
      "sort time:0.004000425338745117\n",
      "prediction time:0.00800180435180664\n",
      "sort time:0.004000663757324219\n",
      "prediction time:0.007001638412475586\n",
      "sort time:0.00400090217590332\n",
      "prediction time:0.007001161575317383\n",
      "sort time:0.0030007362365722656\n",
      "prediction time:0.009001493453979492\n",
      "sort time:0.004000663757324219"
     ]
    },
    {
     "name": "stderr",
     "output_type": "stream",
     "text": [
      "  2%|█▍                                                         | 4722/199549 [01:10<1:01:00, 53.23it/s]"
     ]
    },
    {
     "name": "stdout",
     "output_type": "stream",
     "text": [
      "\n",
      "prediction time:0.007001638412475586\n",
      "sort time:0.004000663757324219\n",
      "prediction time:0.009001970291137695\n",
      "sort time:0.004000663757324219\n",
      "prediction time:0.00800180435180664\n",
      "sort time:0.00400090217590332\n",
      "prediction time:0.00800180435180664\n",
      "sort time:0.003000974655151367\n",
      "prediction time:0.007001638412475586\n",
      "sort time:0.003000497817993164\n",
      "prediction time:0.009002208709716797\n",
      "sort time:0.003000497817993164\n",
      "prediction time:0.007001638412475586\n",
      "sort time:0.003000497817993164\n",
      "prediction time:0.009002447128295898\n",
      "sort time:0.004000425338745117\n",
      "prediction time:0.007001638412475586\n",
      "sort time:0.0030007362365722656\n",
      "prediction time:0.0070018768310546875\n",
      "sort time:0.004000663757324219"
     ]
    },
    {
     "name": "stderr",
     "output_type": "stream",
     "text": [
      "\r",
      "  2%|█▍                                                         | 4728/199549 [01:10<1:00:14, 53.90it/s]"
     ]
    },
    {
     "name": "stdout",
     "output_type": "stream",
     "text": [
      "\n",
      "prediction time:0.00800180435180664\n",
      "sort time:0.004001140594482422\n",
      "prediction time:0.0070018768310546875\n",
      "sort time:0.00400090217590332\n",
      "prediction time:0.007001638412475586\n",
      "sort time:0.0030012130737304688\n",
      "prediction time:0.007001638412475586\n",
      "sort time:0.00400090217590332\n",
      "prediction time:0.007001638412475586\n",
      "sort time:0.0030002593994140625\n",
      "prediction time:0.007001638412475586\n",
      "sort time:0.004000663757324219\n",
      "prediction time:0.007001638412475586\n",
      "sort time:0.0030002593994140625\n",
      "prediction time:0.00800180435180664\n",
      "sort time:0.003000497817993164\n",
      "prediction time:0.007001638412475586\n",
      "sort time:0.003000974655151367\n",
      "prediction time:0.00800180435180664\n",
      "sort time:0.003000974655151367\n",
      "prediction time:0.0070018768310546875\n"
     ]
    },
    {
     "name": "stderr",
     "output_type": "stream",
     "text": [
      "  2%|█▍                                                           | 4741/199549 [01:11<57:25, 56.53it/s]"
     ]
    },
    {
     "name": "stdout",
     "output_type": "stream",
     "text": [
      "sort time:0.00400090217590332\n",
      "prediction time:0.009002447128295898\n",
      "sort time:0.004001140594482422\n",
      "prediction time:0.008002042770385742\n",
      "sort time:0.0030007362365722656\n",
      "prediction time:0.00800180435180664\n",
      "sort time:0.003000497817993164\n",
      "prediction time:0.0070018768310546875\n",
      "sort time:0.003000497817993164\n",
      "prediction time:0.00800180435180664\n",
      "sort time:0.003000497817993164\n",
      "prediction time:0.008002042770385742\n",
      "sort time:0.003000497817993164\n",
      "prediction time:0.007001638412475586\n",
      "sort time:0.003000497817993164\n",
      "prediction time:0.0070018768310546875\n",
      "sort time:0.00400090217590332\n",
      "prediction time:0.007001161575317383\n",
      "sort time:0.004000425338745117\n",
      "prediction time:0.00800180435180664\n",
      "sort time:0.004001140594482422\n",
      "prediction time:0.007001638412475586\n",
      "sort time:0.004001140594482422"
     ]
    },
    {
     "name": "stderr",
     "output_type": "stream",
     "text": [
      "  2%|█▍                                                         | 4753/199549 [01:11<1:00:07, 53.99it/s]"
     ]
    },
    {
     "name": "stdout",
     "output_type": "stream",
     "text": [
      "\n",
      "prediction time:0.0070018768310546875\n",
      "sort time:0.0040013790130615234\n",
      "prediction time:0.00800180435180664\n",
      "sort time:0.0030002593994140625\n",
      "prediction time:0.00800180435180664\n",
      "sort time:0.0050013065338134766\n",
      "prediction time:0.01000213623046875\n",
      "sort time:0.00400090217590332\n",
      "prediction time:0.008001327514648438\n",
      "sort time:0.0050013065338134766\n",
      "prediction time:0.00800180435180664\n",
      "sort time:0.003000497817993164\n",
      "prediction time:0.007000923156738281\n",
      "sort time:0.003000497817993164\n",
      "prediction time:0.008002042770385742\n",
      "sort time:0.0030002593994140625\n",
      "prediction time:0.007001161575317383\n",
      "sort time:0.00400090217590332\n"
     ]
    },
    {
     "name": "stderr",
     "output_type": "stream",
     "text": [
      "  2%|█▍                                                           | 4766/199549 [01:11<56:51, 57.09it/s]"
     ]
    },
    {
     "name": "stdout",
     "output_type": "stream",
     "text": [
      "prediction time:0.008001565933227539\n",
      "sort time:0.004000663757324219\n",
      "prediction time:0.007001161575317383\n",
      "sort time:0.003000974655151367\n",
      "prediction time:0.008002042770385742\n",
      "sort time:0.003000497817993164\n",
      "prediction time:0.007001399993896484\n",
      "sort time:0.004001140594482422\n",
      "prediction time:0.009001970291137695\n",
      "sort time:0.003000497817993164\n",
      "prediction time:0.0070018768310546875\n",
      "sort time:0.003000497817993164\n",
      "prediction time:0.008002042770385742\n",
      "sort time:0.004000663757324219\n",
      "prediction time:0.00600123405456543\n",
      "sort time:0.004001140594482422\n",
      "prediction time:0.0070018768310546875\n",
      "sort time:0.004000425338745117\n",
      "prediction time:0.007001399993896484\n",
      "sort time:0.0030007362365722656\n",
      "prediction time:0.00800180435180664\n",
      "sort time:0.003000974655151367\n",
      "prediction time:0.00800180435180664\n",
      "sort time:0.0030007362365722656\n"
     ]
    },
    {
     "name": "stderr",
     "output_type": "stream",
     "text": [
      "\r",
      "  2%|█▍                                                           | 4772/199549 [01:11<56:41, 57.26it/s]"
     ]
    },
    {
     "name": "stdout",
     "output_type": "stream",
     "text": [
      "prediction time:0.008002042770385742\n",
      "sort time:0.004001140594482422\n",
      "prediction time:0.008001089096069336\n",
      "sort time:0.0030007362365722656\n",
      "prediction time:0.009001731872558594\n",
      "sort time:0.004000663757324219\n",
      "prediction time:0.009002208709716797\n",
      "sort time:0.003000497817993164\n",
      "prediction time:0.008002042770385742\n",
      "sort time:0.0030007362365722656\n",
      "prediction time:0.00800180435180664\n",
      "sort time:0.0030007362365722656\n",
      "prediction time:0.009001970291137695\n",
      "sort time:0.003000497817993164\n",
      "prediction time:0.009001970291137695\n",
      "sort time:0.0030007362365722656\n",
      "prediction time:0.008002042770385742\n",
      "sort time:0.004001140594482422\n",
      "prediction time:0.00800180435180664\n",
      "sort time:0.0030007362365722656\n",
      "prediction time:0.0070018768310546875\n",
      "sort time:0.004000425338745117"
     ]
    },
    {
     "name": "stderr",
     "output_type": "stream",
     "text": [
      "  2%|█▍                                                           | 4784/199549 [01:11<58:14, 55.73it/s]"
     ]
    },
    {
     "name": "stdout",
     "output_type": "stream",
     "text": [
      "\n",
      "prediction time:0.007001399993896484\n",
      "sort time:0.004000663757324219\n",
      "prediction time:0.008002042770385742\n",
      "sort time:0.00400090217590332\n",
      "prediction time:0.007001161575317383\n",
      "sort time:0.00400090217590332\n",
      "prediction time:0.00800180435180664\n",
      "sort time:0.0030007362365722656\n",
      "prediction time:0.007001399993896484\n",
      "sort time:0.0030007362365722656\n",
      "prediction time:0.008001327514648438\n",
      "sort time:0.0040013790130615234\n",
      "prediction time:0.007001638412475586\n",
      "sort time:0.003000497817993164\n",
      "prediction time:0.008001565933227539\n",
      "sort time:0.00400090217590332\n",
      "prediction time:0.007001638412475586\n",
      "sort time:0.003000497817993164\n",
      "prediction time:0.008002042770385742\n",
      "sort time:0.003000497817993164\n"
     ]
    },
    {
     "name": "stderr",
     "output_type": "stream",
     "text": [
      "  2%|█▍                                                           | 4796/199549 [01:12<57:34, 56.38it/s]"
     ]
    },
    {
     "name": "stdout",
     "output_type": "stream",
     "text": [
      "prediction time:0.0070018768310546875\n",
      "sort time:0.0030012130737304688\n",
      "prediction time:0.007001638412475586\n",
      "sort time:0.0030007362365722656\n",
      "prediction time:0.00800180435180664\n",
      "sort time:0.0030007362365722656\n",
      "prediction time:0.007001638412475586\n",
      "sort time:0.0030007362365722656\n",
      "prediction time:0.00800180435180664\n",
      "sort time:0.00400090217590332\n",
      "prediction time:0.006001472473144531\n",
      "sort time:0.0030007362365722656\n",
      "prediction time:0.00800180435180664\n",
      "sort time:0.0030007362365722656\n",
      "prediction time:0.007001638412475586\n",
      "sort time:0.003000497817993164\n",
      "prediction time:0.008002042770385742\n",
      "sort time:0.003000497817993164\n",
      "prediction time:0.007001638412475586\n",
      "sort time:0.003000497817993164\n",
      "prediction time:0.008002042770385742\n"
     ]
    },
    {
     "name": "stderr",
     "output_type": "stream",
     "text": [
      "\r",
      "  2%|█▍                                                           | 4802/199549 [01:12<57:40, 56.28it/s]"
     ]
    },
    {
     "name": "stdout",
     "output_type": "stream",
     "text": [
      "sort time:0.0030002593994140625\n",
      "prediction time:0.007001638412475586\n",
      "sort time:0.0030012130737304688\n",
      "prediction time:0.007001638412475586\n",
      "sort time:0.003000497817993164\n",
      "prediction time:0.006001710891723633\n",
      "sort time:0.004001140594482422\n",
      "prediction time:0.007001638412475586\n",
      "sort time:0.00400090217590332\n",
      "prediction time:0.007001638412475586\n",
      "sort time:0.004000425338745117\n",
      "prediction time:0.007001638412475586\n",
      "sort time:0.0040013790130615234\n",
      "prediction time:0.008001327514648438\n",
      "sort time:0.0040013790130615234\n",
      "prediction time:0.009002447128295898\n",
      "sort time:0.0030002593994140625\n",
      "prediction time:0.008002042770385742\n",
      "sort time:0.00400090217590332\n",
      "prediction time:0.007001399993896484\n",
      "sort time:0.00400090217590332\n"
     ]
    },
    {
     "name": "stderr",
     "output_type": "stream",
     "text": [
      "  2%|█▍                                                         | 4814/199549 [01:12<1:03:42, 50.95it/s]"
     ]
    },
    {
     "name": "stdout",
     "output_type": "stream",
     "text": [
      "prediction time:0.017003774642944336\n",
      "sort time:0.004000425338745117\n",
      "prediction time:0.015003204345703125\n",
      "sort time:0.004000663757324219\n",
      "prediction time:0.00800180435180664\n",
      "sort time:0.004002094268798828\n",
      "prediction time:0.008002281188964844\n",
      "sort time:0.00400090217590332\n",
      "prediction time:0.007001161575317383\n",
      "sort time:0.004001140594482422\n",
      "prediction time:0.008001565933227539\n",
      "sort time:0.0030007362365722656\n",
      "prediction time:0.008001565933227539\n",
      "sort time:0.0030007362365722656\n",
      "prediction time:0.0070018768310546875\n",
      "sort time:0.004000663757324219\n",
      "prediction time:0.00800180435180664\n",
      "sort time:0.004000663757324219\n",
      "prediction time:0.00800180435180664\n",
      "sort time:0.003000497817993164\n",
      "prediction time:0.0070018768310546875\n"
     ]
    },
    {
     "name": "stderr",
     "output_type": "stream",
     "text": [
      "  2%|█▍                                                         | 4826/199549 [01:12<1:00:30, 53.63it/s]"
     ]
    },
    {
     "name": "stdout",
     "output_type": "stream",
     "text": [
      "sort time:0.003000497817993164\n",
      "prediction time:0.009002447128295898\n",
      "sort time:0.004000186920166016\n",
      "prediction time:0.009002447128295898\n",
      "sort time:0.004000663757324219\n",
      "prediction time:0.008001565933227539\n",
      "sort time:0.0030007362365722656\n",
      "prediction time:0.007001399993896484\n",
      "sort time:0.003000497817993164\n",
      "prediction time:0.009001970291137695\n",
      "sort time:0.003000497817993164\n",
      "prediction time:0.007001638412475586\n",
      "sort time:0.0030007362365722656\n",
      "prediction time:0.00800180435180664\n",
      "sort time:0.0030007362365722656\n",
      "prediction time:0.007001399993896484\n",
      "sort time:0.004000663757324219\n",
      "prediction time:0.007001638412475586\n",
      "sort time:0.003000497817993164\n",
      "prediction time:0.006001472473144531\n",
      "sort time:0.00400090217590332\n",
      "prediction time:0.009001970291137695\n"
     ]
    },
    {
     "name": "stderr",
     "output_type": "stream",
     "text": [
      "  2%|█▍                                                           | 4838/199549 [01:12<58:35, 55.39it/s]"
     ]
    },
    {
     "name": "stdout",
     "output_type": "stream",
     "text": [
      "sort time:0.003000974655151367\n",
      "prediction time:0.009001970291137695\n",
      "sort time:0.004001140594482422\n",
      "prediction time:0.008002281188964844\n",
      "sort time:0.004000186920166016\n",
      "prediction time:0.00800180435180664\n",
      "sort time:0.003000497817993164\n",
      "prediction time:0.008002042770385742\n",
      "sort time:0.00400090217590332\n",
      "prediction time:0.0070018768310546875\n",
      "sort time:0.004001140594482422\n",
      "prediction time:0.00800180435180664\n",
      "sort time:0.00400090217590332\n",
      "prediction time:0.00600123405456543\n",
      "sort time:0.003000974655151367\n",
      "prediction time:0.007001638412475586\n",
      "sort time:0.00400090217590332\n",
      "prediction time:0.009001970291137695\n",
      "sort time:0.003000974655151367\n",
      "prediction time:0.008001565933227539\n",
      "sort time:0.0030007362365722656\n",
      "prediction time:0.00600123405456543\n",
      "sort time:0.0030007362365722656"
     ]
    },
    {
     "name": "stderr",
     "output_type": "stream",
     "text": [
      "  2%|█▍                                                           | 4850/199549 [01:13<58:27, 55.51it/s]"
     ]
    },
    {
     "name": "stdout",
     "output_type": "stream",
     "text": [
      "\n",
      "prediction time:0.009001970291137695\n",
      "sort time:0.0030007362365722656\n",
      "prediction time:0.007001399993896484\n",
      "sort time:0.0030007362365722656\n",
      "prediction time:0.00800180435180664\n",
      "sort time:0.0030007362365722656\n",
      "prediction time:0.011002540588378906\n",
      "sort time:0.004001140594482422\n",
      "prediction time:0.008001089096069336\n",
      "sort time:0.00400090217590332\n",
      "prediction time:0.008002042770385742\n",
      "sort time:0.003000497817993164\n",
      "prediction time:0.007001638412475586\n",
      "sort time:0.003000497817993164\n",
      "prediction time:0.00800180435180664\n",
      "sort time:0.003000974655151367\n",
      "prediction time:0.007001638412475586\n",
      "sort time:0.003000497817993164\n",
      "prediction time:0.007001638412475586\n",
      "sort time:0.0030007362365722656\n",
      "prediction time:0.00800180435180664\n"
     ]
    },
    {
     "name": "stderr",
     "output_type": "stream",
     "text": [
      "  2%|█▍                                                           | 4862/199549 [01:13<57:00, 56.92it/s]"
     ]
    },
    {
     "name": "stdout",
     "output_type": "stream",
     "text": [
      "sort time:0.00400090217590332\n",
      "prediction time:0.008002042770385742\n",
      "sort time:0.003000974655151367\n",
      "prediction time:0.007001161575317383\n",
      "sort time:0.004001617431640625\n",
      "prediction time:0.00600123405456543\n",
      "sort time:0.00400090217590332\n",
      "prediction time:0.00800180435180664\n",
      "sort time:0.0030007362365722656\n",
      "prediction time:0.0070018768310546875\n",
      "sort time:0.00400090217590332\n",
      "prediction time:0.007001399993896484\n",
      "sort time:0.0030007362365722656\n",
      "prediction time:0.00600123405456543\n",
      "sort time:0.00400090217590332\n",
      "prediction time:0.007001638412475586\n",
      "sort time:0.003000974655151367\n",
      "prediction time:0.007001399993896484\n",
      "sort time:0.0030007362365722656\n",
      "prediction time:0.007001399993896484\n",
      "sort time:0.0030007362365722656\n",
      "prediction time:0.010002374649047852\n",
      "sort time:0.004001140594482422"
     ]
    },
    {
     "name": "stderr",
     "output_type": "stream",
     "text": [
      "\r",
      "  2%|█▍                                                           | 4868/199549 [01:13<59:32, 54.50it/s]"
     ]
    },
    {
     "name": "stdout",
     "output_type": "stream",
     "text": [
      "\n",
      "prediction time:0.007001161575317383\n",
      "sort time:0.004001140594482422\n",
      "prediction time:0.00800180435180664\n",
      "sort time:0.004000663757324219\n",
      "prediction time:0.007001638412475586\n",
      "sort time:0.004000186920166016\n",
      "prediction time:0.00800180435180664\n",
      "sort time:0.004001140594482422\n",
      "prediction time:0.01000213623046875\n",
      "sort time:0.004001140594482422\n",
      "prediction time:0.009001970291137695\n",
      "sort time:0.004001617431640625\n",
      "prediction time:0.008001089096069336\n",
      "sort time:0.0050008296966552734\n",
      "prediction time:0.008001089096069336\n",
      "sort time:0.004001140594482422\n",
      "prediction time:0.008001565933227539\n"
     ]
    },
    {
     "name": "stderr",
     "output_type": "stream",
     "text": [
      "  2%|█▍                                                         | 4880/199549 [01:13<1:00:39, 53.49it/s]"
     ]
    },
    {
     "name": "stdout",
     "output_type": "stream",
     "text": [
      "sort time:0.00400090217590332\n",
      "prediction time:0.007001399993896484\n",
      "sort time:0.0040013790130615234\n",
      "prediction time:0.00800180435180664\n",
      "sort time:0.003000974655151367\n",
      "prediction time:0.007001161575317383\n",
      "sort time:0.003000974655151367\n",
      "prediction time:0.008001565933227539\n",
      "sort time:0.003000497817993164\n",
      "prediction time:0.008002042770385742\n",
      "sort time:0.0030002593994140625\n",
      "prediction time:0.008002042770385742\n",
      "sort time:0.004000663757324219\n",
      "prediction time:0.008001327514648438\n",
      "sort time:0.00400090217590332\n",
      "prediction time:0.0070018768310546875\n",
      "sort time:0.003000497817993164\n",
      "prediction time:0.007001638412475586\n",
      "sort time:0.00400090217590332\n",
      "prediction time:0.007001638412475586\n",
      "sort time:0.004000663757324219\n"
     ]
    },
    {
     "name": "stderr",
     "output_type": "stream",
     "text": [
      "  2%|█▍                                                           | 4892/199549 [01:13<59:16, 54.73it/s]"
     ]
    },
    {
     "name": "stdout",
     "output_type": "stream",
     "text": [
      "prediction time:0.007001638412475586\n",
      "sort time:0.004000663757324219\n",
      "prediction time:0.007001161575317383\n",
      "sort time:0.004001140594482422\n",
      "prediction time:0.00800180435180664\n",
      "sort time:0.003000497817993164\n",
      "prediction time:0.006001472473144531\n",
      "sort time:0.004001140594482422\n",
      "prediction time:0.009001970291137695\n",
      "sort time:0.0030007362365722656\n",
      "prediction time:0.00600123405456543\n",
      "sort time:0.00400090217590332\n",
      "prediction time:0.00800180435180664\n",
      "sort time:0.004000663757324219\n",
      "prediction time:0.007001638412475586\n",
      "sort time:0.004000663757324219\n",
      "prediction time:0.008002042770385742\n",
      "sort time:0.00400090217590332\n",
      "prediction time:0.007001638412475586\n",
      "sort time:0.003000497817993164\n",
      "prediction time:0.009002447128295898\n",
      "sort time:0.0030002593994140625\n",
      "prediction time:0.00800180435180664\n",
      "sort time:0.003000497817993164"
     ]
    },
    {
     "name": "stderr",
     "output_type": "stream",
     "text": [
      "  2%|█▍                                                           | 4904/199549 [01:14<59:07, 54.87it/s]"
     ]
    },
    {
     "name": "stdout",
     "output_type": "stream",
     "text": [
      "\n",
      "prediction time:0.007001638412475586\n",
      "sort time:0.00400090217590332\n",
      "prediction time:0.008002042770385742\n",
      "sort time:0.004001140594482422\n",
      "prediction time:0.008002042770385742\n",
      "sort time:0.00400090217590332\n",
      "prediction time:0.008001565933227539\n",
      "sort time:0.00400090217590332\n",
      "prediction time:0.007001638412475586\n",
      "sort time:0.004000663757324219\n",
      "prediction time:0.009001970291137695\n",
      "sort time:0.003000497817993164\n",
      "prediction time:0.007001638412475586\n",
      "sort time:0.003000497817993164\n",
      "prediction time:0.00800180435180664\n",
      "sort time:0.004001140594482422\n",
      "prediction time:0.007001399993896484\n",
      "sort time:0.003000497817993164\n",
      "prediction time:0.00800180435180664\n",
      "sort time:0.0030007362365722656\n",
      "prediction time:0.00800180435180664\n",
      "sort time:0.003000974655151367"
     ]
    },
    {
     "name": "stderr",
     "output_type": "stream",
     "text": [
      "  2%|█▌                                                           | 4916/199549 [01:14<57:40, 56.25it/s]"
     ]
    },
    {
     "name": "stdout",
     "output_type": "stream",
     "text": [
      "\n",
      "prediction time:0.008002281188964844\n",
      "sort time:0.003000497817993164\n",
      "prediction time:0.007001638412475586\n",
      "sort time:0.0030012130737304688\n",
      "prediction time:0.008001565933227539\n",
      "sort time:0.004000663757324219\n",
      "prediction time:0.007002353668212891\n",
      "sort time:0.003000020980834961\n",
      "prediction time:0.006001472473144531\n",
      "sort time:0.00400090217590332\n",
      "prediction time:0.009002208709716797\n",
      "sort time:0.004000663757324219\n",
      "prediction time:0.007001399993896484\n",
      "sort time:0.004001140594482422\n",
      "prediction time:0.008002281188964844\n",
      "sort time:0.0030002593994140625\n",
      "prediction time:0.007001638412475586\n",
      "sort time:0.003000497817993164\n",
      "prediction time:0.00800180435180664\n",
      "sort time:0.0030007362365722656\n",
      "prediction time:0.00600123405456543\n",
      "sort time:0.0030007362365722656\n"
     ]
    },
    {
     "name": "stderr",
     "output_type": "stream",
     "text": [
      "\r",
      "  2%|█▌                                                           | 4922/199549 [01:14<57:23, 56.51it/s]"
     ]
    },
    {
     "name": "stdout",
     "output_type": "stream",
     "text": [
      "prediction time:0.008002281188964844\n",
      "sort time:0.004000663757324219\n",
      "prediction time:0.008002042770385742\n",
      "sort time:0.003000497817993164\n",
      "prediction time:0.00800180435180664\n",
      "sort time:0.0030007362365722656\n",
      "prediction time:0.007001638412475586\n",
      "sort time:0.003000497817993164\n",
      "prediction time:0.00800180435180664\n",
      "sort time:0.003000497817993164\n",
      "prediction time:0.00800180435180664\n",
      "sort time:0.0030007362365722656\n",
      "prediction time:0.007001638412475586\n",
      "sort time:0.004000663757324219\n",
      "prediction time:0.00800180435180664\n",
      "sort time:0.003000497817993164\n",
      "prediction time:0.008002042770385742\n",
      "sort time:0.004000663757324219\n",
      "prediction time:0.006001472473144531\n",
      "sort time:0.0030007362365722656\n",
      "prediction time:0.006001710891723633\n",
      "sort time:0.004001140594482422\n",
      "prediction time:0.007001399993896484\n"
     ]
    },
    {
     "name": "stderr",
     "output_type": "stream",
     "text": [
      "  2%|█▍                                                         | 4934/199549 [01:14<1:00:00, 54.05it/s]"
     ]
    },
    {
     "name": "stdout",
     "output_type": "stream",
     "text": [
      "sort time:0.00400090217590332\n",
      "prediction time:0.010001897811889648\n",
      "sort time:0.00400090217590332\n",
      "prediction time:0.010002613067626953\n",
      "sort time:0.0050008296966552734\n",
      "prediction time:0.008002042770385742\n",
      "sort time:0.00400090217590332\n",
      "prediction time:0.007001638412475586\n",
      "sort time:0.00400090217590332\n",
      "prediction time:0.008001327514648438\n",
      "sort time:0.003000497817993164\n",
      "prediction time:0.0070018768310546875\n",
      "sort time:0.004001140594482422\n",
      "prediction time:0.009001970291137695\n",
      "sort time:0.00400090217590332\n",
      "prediction time:0.007000923156738281\n",
      "sort time:0.004001140594482422\n",
      "prediction time:0.007001638412475586\n",
      "sort time:0.004001140594482422\n",
      "prediction time:0.00600123405456543\n"
     ]
    },
    {
     "name": "stderr",
     "output_type": "stream",
     "text": [
      "  2%|█▌                                                           | 4947/199549 [01:14<56:54, 56.99it/s]"
     ]
    },
    {
     "name": "stdout",
     "output_type": "stream",
     "text": [
      "sort time:0.0030007362365722656\n",
      "prediction time:0.009002447128295898\n",
      "sort time:0.003000497817993164\n",
      "prediction time:0.007000923156738281\n",
      "sort time:0.0030007362365722656\n",
      "prediction time:0.008001565933227539\n",
      "sort time:0.0040013790130615234\n",
      "prediction time:0.00800180435180664\n",
      "sort time:0.0030002593994140625\n",
      "prediction time:0.00800180435180664\n",
      "sort time:0.0030007362365722656\n",
      "prediction time:0.007001638412475586\n",
      "sort time:0.0030007362365722656\n",
      "prediction time:0.007001399993896484\n",
      "sort time:0.00400090217590332\n",
      "prediction time:0.007001638412475586\n",
      "sort time:0.004001140594482422\n",
      "prediction time:0.00800180435180664\n",
      "sort time:0.0030007362365722656\n",
      "prediction time:0.00800180435180664\n",
      "sort time:0.003000974655151367\n",
      "prediction time:0.00800180435180664\n",
      "sort time:0.0030007362365722656"
     ]
    },
    {
     "name": "stderr",
     "output_type": "stream",
     "text": [
      "  2%|█▌                                                           | 4959/199549 [01:15<55:48, 58.11it/s]"
     ]
    },
    {
     "name": "stdout",
     "output_type": "stream",
     "text": [
      "\n",
      "prediction time:0.008002281188964844\n",
      "sort time:0.004000425338745117\n",
      "prediction time:0.00800180435180664\n",
      "sort time:0.0030007362365722656\n",
      "prediction time:0.007001399993896484\n",
      "sort time:0.004001140594482422\n",
      "prediction time:0.008002042770385742\n",
      "sort time:0.0030002593994140625\n",
      "prediction time:0.00800180435180664\n",
      "sort time:0.00400090217590332\n",
      "prediction time:0.00800180435180664\n",
      "sort time:0.00400090217590332\n",
      "prediction time:0.007001161575317383\n",
      "sort time:0.003000497817993164\n",
      "prediction time:0.007001399993896484\n",
      "sort time:0.003000974655151367\n",
      "prediction time:0.00800180435180664\n",
      "sort time:0.0030007362365722656\n",
      "prediction time:0.00800180435180664\n",
      "sort time:0.003000974655151367\n",
      "prediction time:0.008002042770385742\n"
     ]
    },
    {
     "name": "stderr",
     "output_type": "stream",
     "text": [
      "\r",
      "  2%|█▌                                                           | 4965/199549 [01:15<56:05, 57.82it/s]"
     ]
    },
    {
     "name": "stdout",
     "output_type": "stream",
     "text": [
      "sort time:0.00400090217590332\n",
      "prediction time:0.00800180435180664\n",
      "sort time:0.0030007362365722656\n",
      "prediction time:0.008002042770385742\n",
      "sort time:0.004000663757324219\n",
      "prediction time:0.007001638412475586\n",
      "sort time:0.003000497817993164\n",
      "prediction time:0.006001710891723633\n",
      "sort time:0.003000497817993164\n",
      "prediction time:0.007001638412475586\n",
      "sort time:0.003000497817993164\n",
      "prediction time:0.0070018768310546875\n",
      "sort time:0.004000425338745117\n",
      "prediction time:0.00800180435180664\n",
      "sort time:0.003000497817993164\n",
      "prediction time:0.006001472473144531\n",
      "sort time:0.003000497817993164\n",
      "prediction time:0.007001638412475586\n",
      "sort time:0.004000663757324219\n",
      "prediction time:0.008001565933227539\n",
      "sort time:0.0030007362365722656\n",
      "prediction time:0.008002042770385742\n",
      "sort time:0.003000497817993164"
     ]
    },
    {
     "name": "stderr",
     "output_type": "stream",
     "text": [
      "  2%|█▌                                                           | 4977/199549 [01:15<55:10, 58.78it/s]"
     ]
    },
    {
     "name": "stdout",
     "output_type": "stream",
     "text": [
      "\n",
      "prediction time:0.00600123405456543\n",
      "sort time:0.004000663757324219\n",
      "prediction time:0.007001638412475586\n",
      "sort time:0.0030007362365722656\n",
      "prediction time:0.0070018768310546875\n",
      "sort time:0.00400090217590332\n",
      "prediction time:0.00800180435180664\n",
      "sort time:0.003000497817993164\n",
      "prediction time:0.006001472473144531\n",
      "sort time:0.003000497817993164\n",
      "prediction time:0.00800180435180664\n",
      "sort time:0.003000497817993164\n",
      "prediction time:0.007001638412475586\n",
      "sort time:0.004000663757324219\n",
      "prediction time:0.007001161575317383\n",
      "sort time:0.0030007362365722656\n",
      "prediction time:0.0070018768310546875\n",
      "sort time:0.0030002593994140625\n",
      "prediction time:0.0070018768310546875\n",
      "sort time:0.0030002593994140625\n",
      "prediction time:0.0070018768310546875\n",
      "sort time:0.0030002593994140625\n"
     ]
    },
    {
     "name": "stderr",
     "output_type": "stream",
     "text": [
      "  3%|█▌                                                           | 4989/199549 [01:15<55:47, 58.11it/s]"
     ]
    },
    {
     "name": "stdout",
     "output_type": "stream",
     "text": [
      "prediction time:0.008002042770385742\n",
      "sort time:0.003000497817993164\n",
      "prediction time:0.00800180435180664\n",
      "sort time:0.0030007362365722656\n",
      "prediction time:0.007001161575317383\n",
      "sort time:0.004001140594482422\n",
      "prediction time:0.0060007572174072266\n",
      "sort time:0.004001140594482422\n",
      "prediction time:0.00600123405456543\n",
      "sort time:0.003000974655151367\n",
      "prediction time:0.00800180435180664\n",
      "sort time:0.004001140594482422\n",
      "prediction time:0.008002281188964844\n",
      "sort time:0.003000497817993164\n",
      "prediction time:0.007001399993896484\n",
      "sort time:0.0040013790130615234\n",
      "prediction time:0.007001399993896484\n",
      "sort time:0.004001617431640625\n",
      "prediction time:0.007001638412475586\n",
      "sort time:0.003000974655151367\n",
      "prediction time:0.007001399993896484\n",
      "sort time:0.0050013065338134766\n",
      "prediction time:0.00800180435180664\n",
      "sort time:0.00400090217590332"
     ]
    },
    {
     "name": "stderr",
     "output_type": "stream",
     "text": [
      "  3%|█▌                                                           | 5001/199549 [01:15<57:36, 56.28it/s]"
     ]
    },
    {
     "name": "stdout",
     "output_type": "stream",
     "text": [
      "\n",
      "prediction time:0.008001327514648438\n",
      "sort time:0.003000974655151367\n",
      "prediction time:0.007001638412475586\n",
      "sort time:0.00400090217590332\n",
      "prediction time:0.006001949310302734\n",
      "sort time:0.004000425338745117\n",
      "prediction time:0.009001016616821289\n",
      "sort time:0.003000974655151367\n",
      "prediction time:0.007000923156738281\n",
      "sort time:0.0030007362365722656\n",
      "prediction time:0.00800180435180664\n",
      "sort time:0.003000974655151367\n",
      "prediction time:0.006001710891723633\n",
      "sort time:0.003000497817993164\n",
      "prediction time:0.0070018768310546875\n",
      "sort time:0.004000663757324219\n",
      "prediction time:0.00800180435180664\n",
      "sort time:0.004001140594482422\n",
      "prediction time:0.00600123405456543\n",
      "sort time:0.0030002593994140625\n",
      "prediction time:0.009002208709716797\n",
      "sort time:0.00400090217590332"
     ]
    },
    {
     "name": "stderr",
     "output_type": "stream",
     "text": [
      "  3%|█▌                                                           | 5013/199549 [01:16<56:08, 57.76it/s]"
     ]
    },
    {
     "name": "stdout",
     "output_type": "stream",
     "text": [
      "\n",
      "prediction time:0.00800180435180664\n",
      "sort time:0.0030007362365722656\n",
      "prediction time:0.007001161575317383\n",
      "sort time:0.0030007362365722656\n",
      "prediction time:0.00600123405456543\n",
      "sort time:0.0030007362365722656\n",
      "prediction time:0.00800180435180664\n",
      "sort time:0.00400090217590332\n",
      "prediction time:0.00600123405456543\n",
      "sort time:0.004001140594482422\n",
      "prediction time:0.007001638412475586\n",
      "sort time:0.003000974655151367\n",
      "prediction time:0.006001472473144531\n",
      "sort time:0.004001140594482422\n",
      "prediction time:0.008001327514648438\n",
      "sort time:0.003000974655151367\n",
      "prediction time:0.00800180435180664\n",
      "sort time:0.0030007362365722656\n",
      "prediction time:0.0070018768310546875\n",
      "sort time:0.00400090217590332\n",
      "prediction time:0.007001399993896484\n"
     ]
    },
    {
     "name": "stderr",
     "output_type": "stream",
     "text": [
      "  3%|█▌                                                           | 5025/199549 [01:16<56:58, 56.90it/s]"
     ]
    },
    {
     "name": "stdout",
     "output_type": "stream",
     "text": [
      "sort time:0.0030007362365722656\n",
      "prediction time:0.008001327514648438\n",
      "sort time:0.00400090217590332\n",
      "prediction time:0.007001638412475586\n",
      "sort time:0.003000497817993164\n",
      "prediction time:0.00800180435180664\n",
      "sort time:0.003000497817993164\n",
      "prediction time:0.00800180435180664\n",
      "sort time:0.003000497817993164\n",
      "prediction time:0.008002042770385742\n",
      "sort time:0.003000497817993164\n",
      "prediction time:0.00600123405456543\n",
      "sort time:0.00400090217590332\n",
      "prediction time:0.006001472473144531\n",
      "sort time:0.003000497817993164\n",
      "prediction time:0.009001970291137695\n",
      "sort time:0.003000497817993164\n",
      "prediction time:0.007001638412475586\n",
      "sort time:0.003000497817993164\n",
      "prediction time:0.007001638412475586\n",
      "sort time:0.003000974655151367\n"
     ]
    },
    {
     "name": "stderr",
     "output_type": "stream",
     "text": [
      "  3%|█▌                                                           | 5038/199549 [01:16<55:06, 58.83it/s]"
     ]
    },
    {
     "name": "stdout",
     "output_type": "stream",
     "text": [
      "prediction time:0.007001399993896484\n",
      "sort time:0.0030007362365722656\n",
      "prediction time:0.007001638412475586\n",
      "sort time:0.003000497817993164\n",
      "prediction time:0.007001638412475586\n",
      "sort time:0.004000663757324219\n",
      "prediction time:0.007001638412475586\n",
      "sort time:0.003000497817993164\n",
      "prediction time:0.007001638412475586\n",
      "sort time:0.003000497817993164\n",
      "prediction time:0.007002115249633789\n",
      "sort time:0.0030002593994140625\n",
      "prediction time:0.006001949310302734\n",
      "sort time:0.004000425338745117\n",
      "prediction time:0.00800180435180664\n",
      "sort time:0.003000497817993164\n",
      "prediction time:0.007001638412475586\n",
      "sort time:0.0030007362365722656\n",
      "prediction time:0.007001638412475586\n",
      "sort time:0.0030007362365722656\n",
      "prediction time:0.007001638412475586\n",
      "sort time:0.003000497817993164\n",
      "prediction time:0.007001399993896484\n",
      "sort time:0.00400090217590332\n"
     ]
    },
    {
     "name": "stderr",
     "output_type": "stream",
     "text": [
      "\r",
      "  3%|█▌                                                           | 5044/199549 [01:16<55:25, 58.49it/s]"
     ]
    },
    {
     "name": "stdout",
     "output_type": "stream",
     "text": [
      "prediction time:0.010002374649047852\n",
      "sort time:0.003000497817993164\n",
      "prediction time:0.008002281188964844\n",
      "sort time:0.004000425338745117\n",
      "prediction time:0.007001161575317383\n",
      "sort time:0.00400090217590332\n",
      "prediction time:0.0070018768310546875\n",
      "sort time:0.003000497817993164\n",
      "prediction time:0.0070018768310546875\n",
      "sort time:0.003000497817993164\n",
      "prediction time:0.007001638412475586\n",
      "sort time:0.003000497817993164\n",
      "prediction time:0.009002208709716797\n",
      "sort time:0.004000663757324219\n",
      "prediction time:0.009001493453979492\n",
      "sort time:0.004001140594482422\n",
      "prediction time:0.007001399993896484\n",
      "sort time:0.003000974655151367\n",
      "prediction time:0.008001565933227539\n",
      "sort time:0.003000974655151367\n",
      "prediction time:0.006001710891723633\n"
     ]
    },
    {
     "name": "stderr",
     "output_type": "stream",
     "text": [
      "  3%|█▌                                                           | 5056/199549 [01:16<59:27, 54.52it/s]"
     ]
    },
    {
     "name": "stdout",
     "output_type": "stream",
     "text": [
      "sort time:0.004000425338745117\n",
      "prediction time:0.007001638412475586\n",
      "sort time:0.00400090217590332\n",
      "prediction time:0.009002208709716797\n",
      "sort time:0.00400090217590332\n",
      "prediction time:0.00800180435180664\n",
      "sort time:0.0030014514923095703\n",
      "prediction time:0.008002042770385742\n",
      "sort time:0.003000497817993164\n",
      "prediction time:0.00800180435180664\n",
      "sort time:0.003000497817993164\n",
      "prediction time:0.00800180435180664\n",
      "sort time:0.005001068115234375\n",
      "prediction time:0.009002447128295898\n",
      "sort time:0.006001472473144531\n",
      "prediction time:0.010002374649047852\n",
      "sort time:0.0040013790130615234\n",
      "prediction time:0.006001472473144531\n",
      "sort time:0.004000663757324219\n",
      "prediction time:0.009001731872558594\n"
     ]
    },
    {
     "name": "stderr",
     "output_type": "stream",
     "text": [
      "  3%|█▌                                                           | 5069/199549 [01:17<57:34, 56.30it/s]"
     ]
    },
    {
     "name": "stdout",
     "output_type": "stream",
     "text": [
      "sort time:0.004000663757324219\n",
      "prediction time:0.01000213623046875\n",
      "sort time:0.00400090217590332\n",
      "prediction time:0.00800180435180664\n",
      "sort time:0.0030007362365722656\n",
      "prediction time:0.008002042770385742\n",
      "sort time:0.003000497817993164\n",
      "prediction time:0.007001638412475586\n",
      "sort time:0.003000497817993164\n",
      "prediction time:0.008002042770385742\n",
      "sort time:0.003000974655151367\n",
      "prediction time:0.0070018768310546875\n",
      "sort time:0.003000497817993164\n",
      "prediction time:0.0070018768310546875\n",
      "sort time:0.0030002593994140625\n",
      "prediction time:0.006001472473144531\n",
      "sort time:0.0030007362365722656\n",
      "prediction time:0.006001710891723633\n",
      "sort time:0.004000663757324219\n",
      "prediction time:0.00800180435180664\n",
      "sort time:0.0030007362365722656\n"
     ]
    },
    {
     "name": "stderr",
     "output_type": "stream",
     "text": [
      "\r",
      "  3%|█▌                                                           | 5075/199549 [01:17<56:42, 57.16it/s]"
     ]
    },
    {
     "name": "stdout",
     "output_type": "stream",
     "text": [
      "prediction time:0.007001638412475586\n",
      "sort time:0.003000497817993164\n",
      "prediction time:0.00800180435180664\n",
      "sort time:0.00400090217590332\n",
      "prediction time:0.0070018768310546875\n",
      "sort time:0.003000497817993164\n",
      "prediction time:0.008002042770385742\n",
      "sort time:0.0030002593994140625\n",
      "prediction time:0.006001472473144531\n",
      "sort time:0.00400090217590332\n",
      "prediction time:0.007001638412475586\n",
      "sort time:0.0030007362365722656\n",
      "prediction time:0.008002042770385742\n",
      "sort time:0.004000663757324219\n",
      "prediction time:0.007001638412475586\n",
      "sort time:0.0030007362365722656\n",
      "prediction time:0.008002042770385742\n",
      "sort time:0.003000497817993164\n",
      "prediction time:0.006001472473144531\n",
      "sort time:0.00400090217590332\n",
      "prediction time:0.006001472473144531\n",
      "sort time:0.003000497817993164\n",
      "prediction time:0.00800180435180664\n",
      "sort time:0.003000497817993164"
     ]
    },
    {
     "name": "stderr",
     "output_type": "stream",
     "text": [
      "  3%|█▌                                                           | 5087/199549 [01:17<56:13, 57.64it/s]"
     ]
    },
    {
     "name": "stdout",
     "output_type": "stream",
     "text": [
      "\n",
      "prediction time:0.0070018768310546875\n",
      "sort time:0.004000663757324219\n",
      "prediction time:0.007001638412475586\n",
      "sort time:0.0030007362365722656\n",
      "prediction time:0.008002042770385742\n",
      "sort time:0.00400090217590332\n",
      "prediction time:0.006001710891723633\n",
      "sort time:0.0030007362365722656\n",
      "prediction time:0.008001565933227539\n",
      "sort time:0.003000497817993164\n",
      "prediction time:0.007001399993896484\n",
      "sort time:0.0030007362365722656\n",
      "prediction time:0.006001472473144531\n",
      "sort time:0.003000974655151367\n",
      "prediction time:0.00800180435180664\n",
      "sort time:0.0030007362365722656\n",
      "prediction time:0.007001161575317383\n",
      "sort time:0.0030007362365722656\n",
      "prediction time:0.00600123405456543\n",
      "sort time:0.004000663757324219\n",
      "prediction time:0.009002208709716797\n",
      "sort time:0.0030007362365722656"
     ]
    },
    {
     "name": "stderr",
     "output_type": "stream",
     "text": [
      "  3%|█▌                                                           | 5100/199549 [01:17<55:07, 58.79it/s]"
     ]
    },
    {
     "name": "stdout",
     "output_type": "stream",
     "text": [
      "\n",
      "prediction time:0.00800180435180664\n",
      "sort time:0.004001140594482422\n",
      "prediction time:0.009001731872558594\n",
      "sort time:0.004001140594482422\n",
      "prediction time:0.007001399993896484\n",
      "sort time:0.003000497817993164\n",
      "prediction time:0.00800180435180664\n",
      "sort time:0.003000497817993164\n",
      "prediction time:0.007001638412475586\n",
      "sort time:0.003000497817993164\n",
      "prediction time:0.0070018768310546875\n",
      "sort time:0.0030002593994140625\n",
      "prediction time:0.007001399993896484\n",
      "sort time:0.003000974655151367\n",
      "prediction time:0.00800180435180664\n",
      "sort time:0.003000974655151367\n",
      "prediction time:0.007001638412475586\n",
      "sort time:0.00400090217590332\n",
      "prediction time:0.007001638412475586\n",
      "sort time:0.004001140594482422\n",
      "prediction time:0.009002447128295898\n",
      "sort time:0.003000497817993164\n",
      "prediction time:0.007001638412475586\n",
      "sort time:0.0030007362365722656"
     ]
    },
    {
     "name": "stderr",
     "output_type": "stream",
     "text": [
      "  3%|█▌                                                           | 5112/199549 [01:17<55:41, 58.18it/s]"
     ]
    },
    {
     "name": "stdout",
     "output_type": "stream",
     "text": [
      "\n",
      "prediction time:0.008002281188964844\n",
      "sort time:0.004000663757324219\n",
      "prediction time:0.007001161575317383\n",
      "sort time:0.003000974655151367\n",
      "prediction time:0.007001399993896484\n",
      "sort time:0.00400090217590332\n",
      "prediction time:0.00800180435180664\n",
      "sort time:0.0030002593994140625\n",
      "prediction time:0.006001472473144531\n",
      "sort time:0.003000497817993164\n",
      "prediction time:0.0070018768310546875\n",
      "sort time:0.00400090217590332\n",
      "prediction time:0.007001638412475586\n",
      "sort time:0.003000974655151367\n",
      "prediction time:0.007002115249633789\n",
      "sort time:0.00400090217590332\n",
      "prediction time:0.007001638412475586\n",
      "sort time:0.00400090217590332\n",
      "prediction time:0.008002042770385742\n",
      "sort time:0.00400090217590332"
     ]
    },
    {
     "name": "stderr",
     "output_type": "stream",
     "text": [
      "\r",
      "  3%|█▌                                                           | 5118/199549 [01:17<59:10, 54.76it/s]"
     ]
    },
    {
     "name": "stdout",
     "output_type": "stream",
     "text": [
      "\n",
      "prediction time:0.010002374649047852\n",
      "sort time:0.005001544952392578\n",
      "prediction time:0.007001399993896484\n",
      "sort time:0.0050013065338134766\n",
      "prediction time:0.00800180435180664\n",
      "sort time:0.0040018558502197266\n",
      "prediction time:0.009001493453979492\n",
      "sort time:0.00400090217590332\n",
      "prediction time:0.009001731872558594\n",
      "sort time:0.004000663757324219\n",
      "prediction time:0.006001472473144531\n",
      "sort time:0.00400090217590332\n",
      "prediction time:0.007001399993896484\n",
      "sort time:0.0030007362365722656\n",
      "prediction time:0.007001638412475586\n",
      "sort time:0.004001140594482422\n",
      "prediction time:0.007001399993896484\n",
      "sort time:0.003000497817993164\n",
      "prediction time:0.007001638412475586\n",
      "sort time:0.003000497817993164"
     ]
    },
    {
     "name": "stderr",
     "output_type": "stream",
     "text": [
      "  3%|█▌                                                           | 5130/199549 [01:18<57:26, 56.42it/s]"
     ]
    },
    {
     "name": "stdout",
     "output_type": "stream",
     "text": [
      "\n",
      "prediction time:0.0070018768310546875\n",
      "sort time:0.003000497817993164\n",
      "prediction time:0.007000923156738281\n",
      "sort time:0.00400090217590332\n",
      "prediction time:0.007002115249633789\n",
      "sort time:0.004000425338745117\n",
      "prediction time:0.007001161575317383\n",
      "sort time:0.003000497817993164\n",
      "prediction time:0.006001472473144531\n",
      "sort time:0.0030007362365722656\n",
      "prediction time:0.008001565933227539\n",
      "sort time:0.0030007362365722656\n",
      "prediction time:0.00800180435180664\n",
      "sort time:0.0030007362365722656\n",
      "prediction time:0.00800180435180664\n",
      "sort time:0.003000497817993164\n",
      "prediction time:0.008002042770385742\n",
      "sort time:0.0030007362365722656\n",
      "prediction time:0.008002042770385742\n",
      "sort time:0.003000497817993164\n",
      "prediction time:0.00600123405456543\n",
      "sort time:0.0030007362365722656"
     ]
    },
    {
     "name": "stderr",
     "output_type": "stream",
     "text": [
      "  3%|█▌                                                           | 5142/199549 [01:18<56:41, 57.15it/s]"
     ]
    },
    {
     "name": "stdout",
     "output_type": "stream",
     "text": [
      "\n",
      "prediction time:0.009002447128295898\n",
      "sort time:0.004000425338745117\n",
      "prediction time:0.009002208709716797\n",
      "sort time:0.0030007362365722656\n",
      "prediction time:0.008001089096069336\n",
      "sort time:0.003000974655151367\n",
      "prediction time:0.00600123405456543\n",
      "sort time:0.00400090217590332\n",
      "prediction time:0.007001399993896484\n",
      "sort time:0.003000974655151367\n",
      "prediction time:0.007001161575317383\n",
      "sort time:0.003000974655151367\n",
      "prediction time:0.008002996444702148\n",
      "sort time:0.0029997825622558594\n",
      "prediction time:0.00800180435180664\n",
      "sort time:0.00400090217590332\n",
      "prediction time:0.007001399993896484\n",
      "sort time:0.0030007362365722656\n",
      "prediction time:0.007001638412475586\n",
      "sort time:0.0030007362365722656\n",
      "prediction time:0.00600123405456543\n"
     ]
    },
    {
     "name": "stderr",
     "output_type": "stream",
     "text": [
      "  3%|█▌                                                           | 5154/199549 [01:18<57:20, 56.49it/s]"
     ]
    },
    {
     "name": "stdout",
     "output_type": "stream",
     "text": [
      "sort time:0.004001140594482422\n",
      "prediction time:0.007001638412475586\n",
      "sort time:0.00400090217590332\n",
      "prediction time:0.008001565933227539\n",
      "sort time:0.003000497817993164\n",
      "prediction time:0.007001638412475586\n",
      "sort time:0.0030007362365722656\n",
      "prediction time:0.00800180435180664\n",
      "sort time:0.004001140594482422\n",
      "prediction time:0.007001638412475586\n",
      "sort time:0.003000497817993164\n",
      "prediction time:0.00800180435180664\n",
      "sort time:0.0030007362365722656\n",
      "prediction time:0.0070018768310546875\n",
      "sort time:0.0030007362365722656\n",
      "prediction time:0.008002042770385742\n",
      "sort time:0.004000425338745117\n",
      "prediction time:0.009001970291137695\n",
      "sort time:0.004001140594482422\n",
      "prediction time:0.00800180435180664\n",
      "sort time:0.003000497817993164"
     ]
    },
    {
     "name": "stderr",
     "output_type": "stream",
     "text": [
      "\r",
      "  3%|█▌                                                           | 5160/199549 [01:18<58:46, 55.12it/s]"
     ]
    },
    {
     "name": "stdout",
     "output_type": "stream",
     "text": [
      "\n",
      "prediction time:0.009002208709716797\n",
      "sort time:0.00400090217590332\n",
      "prediction time:0.008001327514648438\n",
      "sort time:0.00400090217590332\n",
      "prediction time:0.009001970291137695\n",
      "sort time:0.003000974655151367\n",
      "prediction time:0.0070018768310546875\n",
      "sort time:0.0029997825622558594\n",
      "prediction time:0.008002281188964844\n",
      "sort time:0.003000497817993164\n",
      "prediction time:0.008001565933227539\n",
      "sort time:0.00400090217590332\n",
      "prediction time:0.007001638412475586\n",
      "sort time:0.0030002593994140625\n",
      "prediction time:0.007001638412475586\n",
      "sort time:0.003000497817993164\n",
      "prediction time:0.00800180435180664\n",
      "sort time:0.003000974655151367\n",
      "prediction time:0.008000850677490234\n"
     ]
    },
    {
     "name": "stderr",
     "output_type": "stream",
     "text": [
      "  3%|█▌                                                         | 5172/199549 [01:18<1:00:38, 53.42it/s]"
     ]
    },
    {
     "name": "stdout",
     "output_type": "stream",
     "text": [
      "sort time:0.003000974655151367\n",
      "prediction time:0.007001638412475586\n",
      "sort time:0.0040013790130615234\n",
      "prediction time:0.009002208709716797\n",
      "sort time:0.003000497817993164\n",
      "prediction time:0.007001161575317383\n",
      "sort time:0.0030007362365722656\n",
      "prediction time:0.007001161575317383\n",
      "sort time:0.004001140594482422\n",
      "prediction time:0.007001399993896484\n",
      "sort time:0.004000663757324219\n",
      "prediction time:0.00800180435180664\n",
      "sort time:0.0040013790130615234\n",
      "prediction time:0.007001638412475586\n",
      "sort time:0.00400090217590332\n",
      "prediction time:0.00800180435180664\n",
      "sort time:0.004001140594482422\n",
      "prediction time:0.016003847122192383\n"
     ]
    },
    {
     "name": "stderr",
     "output_type": "stream",
     "text": [
      "\r",
      "  3%|█▌                                                         | 5178/199549 [01:19<1:06:25, 48.77it/s]"
     ]
    },
    {
     "name": "stdout",
     "output_type": "stream",
     "text": [
      "sort time:0.004000663757324219\n",
      "prediction time:0.014002561569213867\n",
      "sort time:0.004000663757324219\n",
      "prediction time:0.013002872467041016\n",
      "sort time:0.004000663757324219\n",
      "prediction time:0.009001493453979492\n",
      "sort time:0.003000974655151367\n",
      "prediction time:0.008002042770385742\n",
      "sort time:0.004000663757324219\n",
      "prediction time:0.009001970291137695\n",
      "sort time:0.003000974655151367\n",
      "prediction time:0.007001161575317383\n",
      "sort time:0.003000497817993164\n",
      "prediction time:0.007001399993896484\n",
      "sort time:0.00400090217590332\n",
      "prediction time:0.009001970291137695\n",
      "sort time:0.003000497817993164\n",
      "prediction time:0.00800180435180664\n",
      "sort time:0.0030007362365722656"
     ]
    },
    {
     "name": "stderr",
     "output_type": "stream",
     "text": [
      "  3%|█▌                                                         | 5190/199549 [01:19<1:02:09, 52.11it/s]"
     ]
    },
    {
     "name": "stdout",
     "output_type": "stream",
     "text": [
      "\n",
      "prediction time:0.007001399993896484\n",
      "sort time:0.0030012130737304688\n",
      "prediction time:0.0070018768310546875\n",
      "sort time:0.00400090217590332\n",
      "prediction time:0.00800180435180664\n",
      "sort time:0.004000663757324219\n",
      "prediction time:0.006001472473144531\n",
      "sort time:0.00400090217590332\n",
      "prediction time:0.0070018768310546875\n",
      "sort time:0.003000497817993164\n",
      "prediction time:0.007001161575317383\n",
      "sort time:0.0030007362365722656\n",
      "prediction time:0.008001565933227539\n",
      "sort time:0.00400090217590332\n",
      "prediction time:0.007001638412475586\n",
      "sort time:0.003000497817993164\n",
      "prediction time:0.006001472473144531\n",
      "sort time:0.004000663757324219\n",
      "prediction time:0.008002281188964844\n",
      "sort time:0.0030002593994140625\n",
      "prediction time:0.0070018768310546875\n"
     ]
    },
    {
     "name": "stderr",
     "output_type": "stream",
     "text": [
      "  3%|█▌                                                           | 5202/199549 [01:19<58:33, 55.31it/s]"
     ]
    },
    {
     "name": "stdout",
     "output_type": "stream",
     "text": [
      "sort time:0.004001617431640625\n",
      "prediction time:0.00800180435180664\n",
      "sort time:0.004001140594482422\n",
      "prediction time:0.007001161575317383\n",
      "sort time:0.0030007362365722656\n",
      "prediction time:0.00700068473815918\n",
      "sort time:0.0030014514923095703\n",
      "prediction time:0.00600123405456543\n",
      "sort time:0.0030007362365722656\n",
      "prediction time:0.008002042770385742\n",
      "sort time:0.0030007362365722656\n",
      "prediction time:0.00600123405456543\n",
      "sort time:0.0030007362365722656\n",
      "prediction time:0.00800180435180664\n",
      "sort time:0.003000974655151367\n",
      "prediction time:0.007001638412475586\n",
      "sort time:0.003000974655151367\n",
      "prediction time:0.0070018768310546875\n",
      "sort time:0.0030007362365722656\n",
      "prediction time:0.006001472473144531\n",
      "sort time:0.00400090217590332\n",
      "prediction time:0.007001638412475586\n",
      "sort time:0.00400090217590332\n",
      "prediction time:0.006001472473144531\n",
      "sort time:0.003000497817993164"
     ]
    },
    {
     "name": "stderr",
     "output_type": "stream",
     "text": [
      "  3%|█▌                                                           | 5214/199549 [01:19<58:11, 55.66it/s]"
     ]
    },
    {
     "name": "stdout",
     "output_type": "stream",
     "text": [
      "\n",
      "prediction time:0.008002042770385742\n",
      "sort time:0.004000663757324219\n",
      "prediction time:0.0070018768310546875\n",
      "sort time:0.004000663757324219\n",
      "prediction time:0.007001638412475586\n",
      "sort time:0.004001140594482422\n",
      "prediction time:0.007001399993896484\n",
      "sort time:0.0030007362365722656\n",
      "prediction time:0.00800180435180664\n",
      "sort time:0.003000497817993164\n",
      "prediction time:0.007001638412475586\n",
      "sort time:0.003000497817993164\n",
      "prediction time:0.009001970291137695\n",
      "sort time:0.004001140594482422\n",
      "prediction time:0.009002208709716797\n",
      "sort time:0.004001140594482422\n",
      "prediction time:0.008002281188964844\n",
      "sort time:0.004000663757324219\n",
      "prediction time:0.007001638412475586\n",
      "sort time:0.004000663757324219\n",
      "prediction time:0.008002281188964844\n"
     ]
    },
    {
     "name": "stderr",
     "output_type": "stream",
     "text": [
      "  3%|█▌                                                         | 5226/199549 [01:19<1:00:03, 53.92it/s]"
     ]
    },
    {
     "name": "stdout",
     "output_type": "stream",
     "text": [
      "sort time:0.00400090217590332\n",
      "prediction time:0.00800180435180664\n",
      "sort time:0.003000497817993164\n",
      "prediction time:0.00800180435180664\n",
      "sort time:0.003000497817993164\n",
      "prediction time:0.009001970291137695\n",
      "sort time:0.004001140594482422\n",
      "prediction time:0.009001493453979492\n",
      "sort time:0.0030007362365722656\n",
      "prediction time:0.008001565933227539\n",
      "sort time:0.004001140594482422\n",
      "prediction time:0.007000923156738281\n",
      "sort time:0.00400090217590332\n",
      "prediction time:0.007001399993896484\n",
      "sort time:0.0030007362365722656\n",
      "prediction time:0.009002208709716797\n",
      "sort time:0.004000663757324219\n",
      "prediction time:0.011002779006958008\n",
      "sort time:0.004001140594482422\n",
      "prediction time:0.00800180435180664\n"
     ]
    },
    {
     "name": "stderr",
     "output_type": "stream",
     "text": [
      "\r",
      "  3%|█▌                                                         | 5232/199549 [01:20<1:00:11, 53.81it/s]"
     ]
    },
    {
     "name": "stdout",
     "output_type": "stream",
     "text": [
      "sort time:0.004001140594482422\n",
      "prediction time:0.009002208709716797\n",
      "sort time:0.00400090217590332\n",
      "prediction time:0.007001638412475586\n",
      "sort time:0.003000974655151367\n",
      "prediction time:0.008002042770385742\n",
      "sort time:0.0030007362365722656\n",
      "prediction time:0.006001710891723633\n",
      "sort time:0.003000974655151367\n",
      "prediction time:0.00800180435180664\n",
      "sort time:0.004001140594482422\n",
      "prediction time:0.009001970291137695\n",
      "sort time:0.004000425338745117\n",
      "prediction time:0.008001565933227539\n",
      "sort time:0.00400090217590332\n",
      "prediction time:0.013002157211303711\n",
      "sort time:0.003000497817993164\n",
      "prediction time:0.010002374649047852\n"
     ]
    },
    {
     "name": "stderr",
     "output_type": "stream",
     "text": [
      "  3%|█▌                                                         | 5244/199549 [01:20<1:03:17, 51.17it/s]"
     ]
    },
    {
     "name": "stdout",
     "output_type": "stream",
     "text": [
      "sort time:0.00400090217590332\n",
      "prediction time:0.008002042770385742\n",
      "sort time:0.0030002593994140625\n",
      "prediction time:0.007001638412475586\n",
      "sort time:0.004000663757324219\n",
      "prediction time:0.007000923156738281\n",
      "sort time:0.00400090217590332\n",
      "prediction time:0.008001565933227539\n",
      "sort time:0.003000974655151367\n",
      "prediction time:0.0070018768310546875\n",
      "sort time:0.0030002593994140625\n",
      "prediction time:0.01000213623046875\n",
      "sort time:0.0030007362365722656\n",
      "prediction time:0.007001161575317383\n",
      "sort time:0.0030002593994140625\n",
      "prediction time:0.007001638412475586\n",
      "sort time:0.004001140594482422\n",
      "prediction time:0.00700068473815918\n",
      "sort time:0.004001140594482422\n",
      "prediction time:0.009001493453979492\n"
     ]
    },
    {
     "name": "stderr",
     "output_type": "stream",
     "text": [
      "  3%|█▌                                                         | 5256/199549 [01:20<1:03:30, 50.99it/s]"
     ]
    },
    {
     "name": "stdout",
     "output_type": "stream",
     "text": [
      "sort time:0.004000663757324219\n",
      "prediction time:0.009001731872558594\n",
      "sort time:0.003000974655151367\n",
      "prediction time:0.0070018768310546875\n",
      "sort time:0.004000663757324219\n",
      "prediction time:0.009002208709716797\n",
      "sort time:0.004000663757324219\n",
      "prediction time:0.010002374649047852\n",
      "sort time:0.004000663757324219\n",
      "prediction time:0.00600123405456543\n",
      "sort time:0.00400090217590332\n",
      "prediction time:0.008001565933227539\n",
      "sort time:0.003000974655151367\n",
      "prediction time:0.00800180435180664\n",
      "sort time:0.004000663757324219\n",
      "prediction time:0.00800180435180664\n",
      "sort time:0.003000497817993164\n",
      "prediction time:0.007001638412475586\n",
      "sort time:0.003000497817993164\n",
      "prediction time:0.009001970291137695\n"
     ]
    },
    {
     "name": "stderr",
     "output_type": "stream",
     "text": [
      "\r",
      "  3%|█▌                                                         | 5262/199549 [01:20<1:02:25, 51.87it/s]"
     ]
    },
    {
     "name": "stdout",
     "output_type": "stream",
     "text": [
      "sort time:0.00400090217590332\n",
      "prediction time:0.007002592086791992\n",
      "sort time:0.003999948501586914\n",
      "prediction time:0.00800180435180664\n",
      "sort time:0.0030007362365722656\n",
      "prediction time:0.008001565933227539\n",
      "sort time:0.0030007362365722656\n",
      "prediction time:0.007001638412475586\n",
      "sort time:0.00400090217590332\n",
      "prediction time:0.0070018768310546875\n",
      "sort time:0.00400090217590332\n",
      "prediction time:0.009001970291137695\n",
      "sort time:0.003000497817993164\n",
      "prediction time:0.009001970291137695\n",
      "sort time:0.00400090217590332\n",
      "prediction time:0.00800180435180664\n",
      "sort time:0.003000497817993164\n",
      "prediction time:0.008001565933227539\n",
      "sort time:0.003000497817993164\n",
      "prediction time:0.00800180435180664\n",
      "sort time:0.0030012130737304688"
     ]
    },
    {
     "name": "stderr",
     "output_type": "stream",
     "text": [
      "  3%|█▌                                                           | 5274/199549 [01:20<59:34, 54.35it/s]"
     ]
    },
    {
     "name": "stdout",
     "output_type": "stream",
     "text": [
      "\n",
      "prediction time:0.007001638412475586\n",
      "sort time:0.0030007362365722656\n",
      "prediction time:0.009002447128295898\n",
      "sort time:0.004000663757324219\n",
      "prediction time:0.007001638412475586\n",
      "sort time:0.003000497817993164\n",
      "prediction time:0.008002042770385742\n",
      "sort time:0.0030002593994140625\n",
      "prediction time:0.007001399993896484\n",
      "sort time:0.0030007362365722656\n",
      "prediction time:0.008001565933227539\n",
      "sort time:0.0030007362365722656\n",
      "prediction time:0.006001472473144531\n",
      "sort time:0.003000497817993164\n",
      "prediction time:0.007001399993896484\n",
      "sort time:0.004001140594482422\n",
      "prediction time:0.00800180435180664\n",
      "sort time:0.0030007362365722656\n",
      "prediction time:0.007001638412475586\n",
      "sort time:0.003000497817993164\n",
      "prediction time:0.007001399993896484\n"
     ]
    },
    {
     "name": "stderr",
     "output_type": "stream",
     "text": [
      "  3%|█▌                                                         | 5286/199549 [01:21<1:00:06, 53.87it/s]"
     ]
    },
    {
     "name": "stdout",
     "output_type": "stream",
     "text": [
      "sort time:0.003000497817993164\n",
      "prediction time:0.007000923156738281\n",
      "sort time:0.004001140594482422\n",
      "prediction time:0.008001327514648438\n",
      "sort time:0.0040013790130615234\n",
      "prediction time:0.009002685546875\n",
      "sort time:0.00400090217590332\n",
      "prediction time:0.008002042770385742\n",
      "sort time:0.004000663757324219\n",
      "prediction time:0.007001638412475586\n",
      "sort time:0.00400853157043457\n",
      "prediction time:0.007001638412475586\n",
      "sort time:0.004001140594482422\n",
      "prediction time:0.008002281188964844\n",
      "sort time:0.004000663757324219\n",
      "prediction time:0.00800180435180664\n",
      "sort time:0.00400090217590332\n",
      "prediction time:0.010002613067626953\n",
      "sort time:0.004000663757324219\n",
      "prediction time:0.007001638412475586\n",
      "sort time:0.003000497817993164"
     ]
    },
    {
     "name": "stderr",
     "output_type": "stream",
     "text": [
      "\r",
      "  3%|█▌                                                         | 5292/199549 [01:21<1:07:29, 47.97it/s]"
     ]
    },
    {
     "name": "stdout",
     "output_type": "stream",
     "text": [
      "\n",
      "prediction time:0.00800180435180664\n",
      "sort time:0.004001140594482422\n",
      "prediction time:0.009001970291137695\n",
      "sort time:0.0040013790130615234\n",
      "prediction time:0.01800394058227539\n",
      "sort time:0.0040013790130615234\n",
      "prediction time:0.021005630493164062\n",
      "sort time:0.0050013065338134766\n",
      "prediction time:0.008001565933227539\n",
      "sort time:0.004001140594482422\n",
      "prediction time:0.007001399993896484\n",
      "sort time:0.0040013790130615234\n",
      "prediction time:0.007000923156738281\n",
      "sort time:0.003000497817993164\n",
      "prediction time:0.007001638412475586\n",
      "sort time:0.0030007362365722656"
     ]
    },
    {
     "name": "stderr",
     "output_type": "stream",
     "text": [
      "  3%|█▌                                                         | 5304/199549 [01:21<1:04:17, 50.36it/s]"
     ]
    },
    {
     "name": "stdout",
     "output_type": "stream",
     "text": [
      "\n",
      "prediction time:0.0070018768310546875\n",
      "sort time:0.004000663757324219\n",
      "prediction time:0.008002042770385742\n",
      "sort time:0.004000663757324219\n",
      "prediction time:0.009001970291137695\n",
      "sort time:0.004000663757324219\n",
      "prediction time:0.009002447128295898\n",
      "sort time:0.0030007362365722656\n",
      "prediction time:0.007001399993896484\n",
      "sort time:0.0040013790130615234\n",
      "prediction time:0.008001327514648438\n",
      "sort time:0.00400090217590332\n",
      "prediction time:0.00800180435180664\n",
      "sort time:0.0030007362365722656\n",
      "prediction time:0.007001638412475586\n",
      "sort time:0.0030007362365722656\n",
      "prediction time:0.009002208709716797\n",
      "sort time:0.00400090217590332\n",
      "prediction time:0.007001399993896484\n"
     ]
    },
    {
     "name": "stderr",
     "output_type": "stream",
     "text": [
      "\r",
      "  3%|█▌                                                         | 5310/199549 [01:21<1:03:46, 50.76it/s]"
     ]
    },
    {
     "name": "stdout",
     "output_type": "stream",
     "text": [
      "sort time:0.0030007362365722656\n",
      "prediction time:0.009001970291137695\n",
      "sort time:0.003000497817993164\n",
      "prediction time:0.007001638412475586\n",
      "sort time:0.0030012130737304688\n",
      "prediction time:0.009001970291137695\n",
      "sort time:0.0030007362365722656\n",
      "prediction time:0.00800180435180664\n",
      "sort time:0.003000497817993164\n",
      "prediction time:0.00800180435180664\n",
      "sort time:0.00400090217590332\n",
      "prediction time:0.009002208709716797\n",
      "sort time:0.003000497817993164\n",
      "prediction time:0.007001638412475586\n",
      "sort time:0.0030002593994140625\n",
      "prediction time:0.007001399993896484\n",
      "sort time:0.0030007362365722656\n",
      "prediction time:0.00800180435180664\n",
      "sort time:0.0030007362365722656\n",
      "prediction time:0.007001399993896484\n"
     ]
    },
    {
     "name": "stderr",
     "output_type": "stream",
     "text": [
      "  3%|█▌                                                         | 5322/199549 [01:21<1:01:55, 52.27it/s]"
     ]
    },
    {
     "name": "stdout",
     "output_type": "stream",
     "text": [
      "sort time:0.0030007362365722656\n",
      "prediction time:0.007002353668212891\n",
      "sort time:0.004000186920166016\n",
      "prediction time:0.007001638412475586\n",
      "sort time:0.003000497817993164\n",
      "prediction time:0.00800180435180664\n",
      "sort time:0.0030007362365722656\n",
      "prediction time:0.0070018768310546875\n",
      "sort time:0.003000497817993164\n",
      "prediction time:0.00800180435180664\n",
      "sort time:0.003000497817993164\n",
      "prediction time:0.007001638412475586\n",
      "sort time:0.004000663757324219\n",
      "prediction time:0.00800180435180664\n",
      "sort time:0.003000497817993164\n",
      "prediction time:0.008002042770385742\n",
      "sort time:0.004000663757324219\n",
      "prediction time:0.006001472473144531\n",
      "sort time:0.003000497817993164\n",
      "prediction time:0.008001565933227539\n",
      "sort time:0.0030007362365722656"
     ]
    },
    {
     "name": "stderr",
     "output_type": "stream",
     "text": [
      "  3%|█▌                                                         | 5334/199549 [01:22<1:01:42, 52.45it/s]"
     ]
    },
    {
     "name": "stdout",
     "output_type": "stream",
     "text": [
      "\n",
      "prediction time:0.00800180435180664\n",
      "sort time:0.003000497817993164\n",
      "prediction time:0.008002042770385742\n",
      "sort time:0.00400090217590332\n",
      "prediction time:0.007001638412475586\n",
      "sort time:0.004001140594482422\n",
      "prediction time:0.009001493453979492\n",
      "sort time:0.0030007362365722656\n",
      "prediction time:0.0070018768310546875\n",
      "sort time:0.004000663757324219\n",
      "prediction time:0.00800180435180664\n",
      "sort time:0.0030002593994140625\n",
      "prediction time:0.008002042770385742\n",
      "sort time:0.003000974655151367\n",
      "prediction time:0.008001565933227539\n",
      "sort time:0.003000497817993164\n",
      "prediction time:0.009002208709716797\n",
      "sort time:0.004000425338745117\n",
      "prediction time:0.007001638412475586\n"
     ]
    },
    {
     "name": "stderr",
     "output_type": "stream",
     "text": [
      "\r",
      "  3%|█▌                                                         | 5340/199549 [01:22<1:02:08, 52.09it/s]"
     ]
    },
    {
     "name": "stdout",
     "output_type": "stream",
     "text": [
      "sort time:0.00400090217590332\n",
      "prediction time:0.00800180435180664\n",
      "sort time:0.003000497817993164\n",
      "prediction time:0.00900125503540039\n",
      "sort time:0.0030007362365722656\n",
      "prediction time:0.007001638412475586\n",
      "sort time:0.00400090217590332\n",
      "prediction time:0.007001399993896484\n",
      "sort time:0.00400090217590332\n",
      "prediction time:0.007001638412475586\n",
      "sort time:0.0040013790130615234\n",
      "prediction time:0.008002042770385742\n",
      "sort time:0.00400090217590332\n",
      "prediction time:0.00800180435180664\n",
      "sort time:0.003000974655151367\n",
      "prediction time:0.007001399993896484\n",
      "sort time:0.003000974655151367\n",
      "prediction time:0.007001399993896484\n",
      "sort time:0.00400090217590332\n",
      "prediction time:0.008002042770385742\n",
      "sort time:0.003000497817993164"
     ]
    },
    {
     "name": "stderr",
     "output_type": "stream",
     "text": [
      "  3%|█▌                                                         | 5352/199549 [01:22<1:03:29, 50.98it/s]"
     ]
    },
    {
     "name": "stdout",
     "output_type": "stream",
     "text": [
      "\n",
      "prediction time:0.009002447128295898\n",
      "sort time:0.004000425338745117\n",
      "prediction time:0.013003110885620117\n",
      "sort time:0.004000663757324219\n",
      "prediction time:0.00800180435180664\n",
      "sort time:0.004001140594482422\n",
      "prediction time:0.008000850677490234\n",
      "sort time:0.003000497817993164\n",
      "prediction time:0.006001472473144531\n",
      "sort time:0.0030007362365722656\n",
      "prediction time:0.007001638412475586\n",
      "sort time:0.003000497817993164\n",
      "prediction time:0.0070018768310546875\n",
      "sort time:0.003000497817993164\n",
      "prediction time:0.00800180435180664\n",
      "sort time:0.003000497817993164\n",
      "prediction time:0.008001327514648438\n",
      "sort time:0.0030002593994140625\n",
      "prediction time:0.007001638412475586\n",
      "sort time:0.0030007362365722656"
     ]
    },
    {
     "name": "stderr",
     "output_type": "stream",
     "text": [
      "  3%|█▋                                                           | 5364/199549 [01:22<59:44, 54.18it/s]"
     ]
    },
    {
     "name": "stdout",
     "output_type": "stream",
     "text": [
      "\n",
      "prediction time:0.007001399993896484\n",
      "sort time:0.004000663757324219\n",
      "prediction time:0.008002281188964844\n",
      "sort time:0.0030002593994140625\n",
      "prediction time:0.009002208709716797\n",
      "sort time:0.003000497817993164\n",
      "prediction time:0.007001638412475586\n",
      "sort time:0.003000497817993164\n",
      "prediction time:0.007001638412475586\n",
      "sort time:0.0030007362365722656\n",
      "prediction time:0.007001638412475586\n",
      "sort time:0.0030007362365722656\n",
      "prediction time:0.008002042770385742\n",
      "sort time:0.003000497817993164\n",
      "prediction time:0.007001638412475586\n",
      "sort time:0.0030007362365722656\n",
      "prediction time:0.006001472473144531\n",
      "sort time:0.004000663757324219\n",
      "prediction time:0.007001638412475586\n",
      "sort time:0.0030007362365722656\n",
      "prediction time:0.0070018768310546875\n"
     ]
    },
    {
     "name": "stderr",
     "output_type": "stream",
     "text": [
      "  3%|█▋                                                           | 5376/199549 [01:22<57:56, 55.85it/s]"
     ]
    },
    {
     "name": "stdout",
     "output_type": "stream",
     "text": [
      "sort time:0.00400090217590332\n",
      "prediction time:0.0070018768310546875\n",
      "sort time:0.0030007362365722656\n",
      "prediction time:0.0070018768310546875\n",
      "sort time:0.0030002593994140625\n",
      "prediction time:0.007001399993896484\n",
      "sort time:0.0030012130737304688\n",
      "prediction time:0.009001970291137695\n",
      "sort time:0.0030007362365722656\n",
      "prediction time:0.008001327514648438\n",
      "sort time:0.003000497817993164\n",
      "prediction time:0.006001472473144531\n",
      "sort time:0.003000497817993164\n",
      "prediction time:0.00800180435180664\n",
      "sort time:0.003000497817993164\n",
      "prediction time:0.006001472473144531\n",
      "sort time:0.00400090217590332\n",
      "prediction time:0.007001399993896484\n",
      "sort time:0.0030007362365722656\n",
      "prediction time:0.00800180435180664\n",
      "sort time:0.003000497817993164\n",
      "prediction time:0.00600123405456543\n",
      "sort time:0.0030007362365722656"
     ]
    },
    {
     "name": "stderr",
     "output_type": "stream",
     "text": [
      "  3%|█▋                                                           | 5388/199549 [01:22<57:13, 56.54it/s]"
     ]
    },
    {
     "name": "stdout",
     "output_type": "stream",
     "text": [
      "\n",
      "prediction time:0.007001399993896484\n",
      "sort time:0.004001140594482422\n",
      "prediction time:0.008001565933227539\n",
      "sort time:0.0030007362365722656\n",
      "prediction time:0.006001472473144531\n",
      "sort time:0.004000663757324219\n",
      "prediction time:0.007001638412475586\n",
      "sort time:0.003000497817993164\n",
      "prediction time:0.007001638412475586\n",
      "sort time:0.004000663757324219\n",
      "prediction time:0.007001638412475586\n",
      "sort time:0.004001140594482422\n",
      "prediction time:0.007001638412475586\n",
      "sort time:0.003000497817993164\n",
      "prediction time:0.008001565933227539\n",
      "sort time:0.0030007362365722656\n",
      "prediction time:0.006001472473144531\n",
      "sort time:0.00400090217590332\n",
      "prediction time:0.008001089096069336\n",
      "sort time:0.004000663757324219\n"
     ]
    },
    {
     "name": "stderr",
     "output_type": "stream",
     "text": [
      "\r",
      "  3%|█▋                                                           | 5394/199549 [01:23<57:32, 56.24it/s]"
     ]
    },
    {
     "name": "stdout",
     "output_type": "stream",
     "text": [
      "prediction time:0.007002115249633789\n",
      "sort time:0.0030002593994140625\n",
      "prediction time:0.008001565933227539\n",
      "sort time:0.004001140594482422\n",
      "prediction time:0.00800180435180664\n",
      "sort time:0.0030007362365722656\n",
      "prediction time:0.00700068473815918\n",
      "sort time:0.00400090217590332\n",
      "prediction time:0.00800180435180664\n",
      "sort time:0.003000497817993164\n",
      "prediction time:0.006001472473144531\n",
      "sort time:0.003000497817993164\n",
      "prediction time:0.00800180435180664\n",
      "sort time:0.004000425338745117\n",
      "prediction time:0.008001565933227539\n",
      "sort time:0.003000974655151367\n",
      "prediction time:0.007001161575317383\n",
      "sort time:0.00400090217590332\n",
      "prediction time:0.007001638412475586\n",
      "sort time:0.00400090217590332\n",
      "prediction time:0.009001731872558594\n",
      "sort time:0.003000974655151367\n"
     ]
    },
    {
     "name": "stderr",
     "output_type": "stream",
     "text": [
      "  3%|█▌                                                         | 5406/199549 [01:23<1:01:27, 52.64it/s]"
     ]
    },
    {
     "name": "stdout",
     "output_type": "stream",
     "text": [
      "prediction time:0.007001638412475586\n",
      "sort time:0.00400090217590332\n",
      "prediction time:0.00800180435180664\n",
      "sort time:0.004001140594482422\n",
      "prediction time:0.00800180435180664\n",
      "sort time:0.004000663757324219\n",
      "prediction time:0.008001089096069336\n",
      "sort time:0.00400090217590332\n",
      "prediction time:0.007001638412475586\n",
      "sort time:0.003000974655151367\n",
      "prediction time:0.0070018768310546875\n",
      "sort time:0.004000663757324219\n",
      "prediction time:0.00800180435180664\n",
      "sort time:0.0040013790130615234\n",
      "prediction time:0.011002302169799805\n",
      "sort time:0.005002260208129883\n",
      "prediction time:0.007001399993896484\n",
      "sort time:0.005001544952392578\n",
      "prediction time:0.008001565933227539\n"
     ]
    },
    {
     "name": "stderr",
     "output_type": "stream",
     "text": [
      "  3%|█▌                                                         | 5418/199549 [01:23<1:01:09, 52.91it/s]"
     ]
    },
    {
     "name": "stdout",
     "output_type": "stream",
     "text": [
      "sort time:0.0050008296966552734\n",
      "prediction time:0.007001638412475586\n",
      "sort time:0.0040013790130615234\n",
      "prediction time:0.00800180435180664\n",
      "sort time:0.0030012130737304688\n",
      "prediction time:0.007001161575317383\n",
      "sort time:0.0030007362365722656\n",
      "prediction time:0.007001399993896484\n",
      "sort time:0.0040013790130615234\n",
      "prediction time:0.00800180435180664\n",
      "sort time:0.0030007362365722656\n",
      "prediction time:0.007001638412475586\n",
      "sort time:0.0030007362365722656\n",
      "prediction time:0.008002042770385742\n",
      "sort time:0.003000497817993164\n",
      "prediction time:0.0070018768310546875\n",
      "sort time:0.003000497817993164\n",
      "prediction time:0.009001970291137695\n",
      "sort time:0.003000497817993164\n",
      "prediction time:0.007001638412475586\n",
      "sort time:0.003000497817993164"
     ]
    },
    {
     "name": "stderr",
     "output_type": "stream",
     "text": [
      "\r",
      "  3%|█▌                                                         | 5424/199549 [01:23<1:00:16, 53.67it/s]"
     ]
    },
    {
     "name": "stdout",
     "output_type": "stream",
     "text": [
      "\n",
      "prediction time:0.0070018768310546875\n",
      "sort time:0.003000497817993164\n",
      "prediction time:0.009001970291137695\n",
      "sort time:0.003000974655151367\n",
      "prediction time:0.006001949310302734\n",
      "sort time:0.004000425338745117\n",
      "prediction time:0.00800180435180664\n",
      "sort time:0.0030007362365722656\n",
      "prediction time:0.006001472473144531\n",
      "sort time:0.003000497817993164\n",
      "prediction time:0.009001731872558594\n",
      "sort time:0.004001140594482422\n",
      "prediction time:0.006001472473144531\n",
      "sort time:0.0030007362365722656\n",
      "prediction time:0.006001472473144531\n",
      "sort time:0.00400090217590332\n",
      "prediction time:0.008002042770385742\n",
      "sort time:0.004001140594482422\n",
      "prediction time:0.0070018768310546875\n",
      "sort time:0.00400090217590332\n",
      "prediction time:0.007001399993896484\n"
     ]
    },
    {
     "name": "stderr",
     "output_type": "stream",
     "text": [
      "  3%|█▋                                                           | 5436/199549 [01:23<58:22, 55.43it/s]"
     ]
    },
    {
     "name": "stdout",
     "output_type": "stream",
     "text": [
      "sort time:0.004001140594482422\n",
      "prediction time:0.007001399993896484\n",
      "sort time:0.003000497817993164\n",
      "prediction time:0.008002042770385742\n",
      "sort time:0.0030002593994140625\n",
      "prediction time:0.007001638412475586\n",
      "sort time:0.00400090217590332\n",
      "prediction time:0.00800180435180664\n",
      "sort time:0.003000497817993164\n",
      "prediction time:0.00600123405456543\n",
      "sort time:0.0030007362365722656\n",
      "prediction time:0.007001638412475586\n",
      "sort time:0.003000497817993164\n",
      "prediction time:0.007001638412475586\n",
      "sort time:0.003000974655151367\n",
      "prediction time:0.007001638412475586\n",
      "sort time:0.00400090217590332\n",
      "prediction time:0.008002519607543945\n",
      "sort time:0.0030002593994140625\n",
      "prediction time:0.00600123405456543\n",
      "sort time:0.003000974655151367\n",
      "prediction time:0.007001638412475586\n"
     ]
    },
    {
     "name": "stderr",
     "output_type": "stream",
     "text": [
      "  3%|█▋                                                           | 5448/199549 [01:24<57:13, 56.54it/s]"
     ]
    },
    {
     "name": "stdout",
     "output_type": "stream",
     "text": [
      "sort time:0.003000974655151367\n",
      "prediction time:0.007001399993896484\n",
      "sort time:0.00400090217590332\n",
      "prediction time:0.007001638412475586\n",
      "sort time:0.004000663757324219\n",
      "prediction time:0.007001399993896484\n",
      "sort time:0.00400090217590332\n",
      "prediction time:0.00800180435180664\n",
      "sort time:0.003000497817993164\n",
      "prediction time:0.00600123405456543\n",
      "sort time:0.003000497817993164\n",
      "prediction time:0.006001710891723633\n",
      "sort time:0.003000497817993164\n",
      "prediction time:0.008002042770385742\n",
      "sort time:0.004000663757324219\n",
      "prediction time:0.0070018768310546875\n",
      "sort time:0.004000663757324219\n",
      "prediction time:0.00800180435180664\n",
      "sort time:0.003000497817993164\n",
      "prediction time:0.00600123405456543\n"
     ]
    },
    {
     "name": "stderr",
     "output_type": "stream",
     "text": [
      "  3%|█▋                                                           | 5460/199549 [01:24<58:46, 55.04it/s]"
     ]
    },
    {
     "name": "stdout",
     "output_type": "stream",
     "text": [
      "sort time:0.004001140594482422\n",
      "prediction time:0.008002042770385742\n",
      "sort time:0.00400090217590332\n",
      "prediction time:0.007001638412475586\n",
      "sort time:0.00400090217590332\n",
      "prediction time:0.008002042770385742\n",
      "sort time:0.00400090217590332\n",
      "prediction time:0.007001399993896484\n",
      "sort time:0.00400090217590332\n",
      "prediction time:0.007001638412475586\n",
      "sort time:0.0030007362365722656\n",
      "prediction time:0.0070018768310546875\n",
      "sort time:0.003000497817993164\n",
      "prediction time:0.00800180435180664\n",
      "sort time:0.003000497817993164\n",
      "prediction time:0.007001638412475586\n",
      "sort time:0.003000497817993164\n",
      "prediction time:0.009002208709716797\n",
      "sort time:0.0040018558502197266\n",
      "prediction time:0.008002042770385742\n",
      "sort time:0.0030002593994140625"
     ]
    },
    {
     "name": "stderr",
     "output_type": "stream",
     "text": [
      "\r",
      "  3%|█▌                                                         | 5466/199549 [01:24<1:01:50, 52.30it/s]"
     ]
    },
    {
     "name": "stdout",
     "output_type": "stream",
     "text": [
      "\n",
      "prediction time:0.007001638412475586\n",
      "sort time:0.00400090217590332\n",
      "prediction time:0.008002042770385742\n",
      "sort time:0.0030002593994140625\n",
      "prediction time:0.01000213623046875\n",
      "sort time:0.00400090217590332\n",
      "prediction time:0.007001399993896484\n",
      "sort time:0.004000663757324219\n",
      "prediction time:0.010002613067626953\n",
      "sort time:0.0040013790130615234\n",
      "prediction time:0.03100752830505371\n",
      "sort time:0.005001068115234375\n",
      "prediction time:0.010001897811889648\n",
      "sort time:0.0040013790130615234\n",
      "prediction time:0.00800180435180664\n"
     ]
    },
    {
     "name": "stderr",
     "output_type": "stream",
     "text": [
      "  3%|█▌                                                         | 5477/199549 [01:24<1:07:46, 47.72it/s]"
     ]
    },
    {
     "name": "stdout",
     "output_type": "stream",
     "text": [
      "sort time:0.00400090217590332\n",
      "prediction time:0.008002281188964844\n",
      "sort time:0.00400090217590332\n",
      "prediction time:0.009001970291137695\n",
      "sort time:0.004001140594482422\n",
      "prediction time:0.007001161575317383\n",
      "sort time:0.00400090217590332\n",
      "prediction time:0.010002374649047852\n",
      "sort time:0.00400090217590332\n",
      "prediction time:0.007001638412475586\n",
      "sort time:0.004000663757324219\n",
      "prediction time:0.009001731872558594\n",
      "sort time:0.003000497817993164\n",
      "prediction time:0.007001399993896484\n",
      "sort time:0.004001140594482422\n",
      "prediction time:0.009002447128295898\n",
      "sort time:0.003000497817993164\n"
     ]
    },
    {
     "name": "stderr",
     "output_type": "stream",
     "text": [
      "\r",
      "  3%|█▌                                                         | 5482/199549 [01:24<1:07:17, 48.07it/s]"
     ]
    },
    {
     "name": "stdout",
     "output_type": "stream",
     "text": [
      "prediction time:0.009001731872558594\n",
      "sort time:0.004000663757324219\n",
      "prediction time:0.00800180435180664\n",
      "sort time:0.004001140594482422\n",
      "prediction time:0.00800180435180664\n",
      "sort time:0.004000663757324219\n",
      "prediction time:0.007001638412475586\n",
      "sort time:0.004000425338745117\n",
      "prediction time:0.007001638412475586\n",
      "sort time:0.004001617431640625\n",
      "prediction time:0.007001399993896484\n",
      "sort time:0.004001140594482422\n",
      "prediction time:0.007001638412475586\n",
      "sort time:0.00400090217590332\n",
      "prediction time:0.007001638412475586\n",
      "sort time:0.004001140594482422\n",
      "prediction time:0.00800180435180664\n",
      "sort time:0.004000425338745117\n",
      "prediction time:0.007001638412475586\n"
     ]
    },
    {
     "name": "stderr",
     "output_type": "stream",
     "text": [
      "  3%|█▌                                                         | 5494/199549 [01:25<1:05:34, 49.32it/s]"
     ]
    },
    {
     "name": "stdout",
     "output_type": "stream",
     "text": [
      "sort time:0.004000663757324219\n",
      "prediction time:0.008002281188964844\n",
      "sort time:0.003999948501586914\n",
      "prediction time:0.007001161575317383\n",
      "sort time:0.004000663757324219\n",
      "prediction time:0.007001638412475586\n",
      "sort time:0.004000663757324219\n",
      "prediction time:0.007002115249633789\n",
      "sort time:0.004000663757324219\n",
      "prediction time:0.007001638412475586\n",
      "sort time:0.00400090217590332\n",
      "prediction time:0.009001970291137695\n",
      "sort time:0.0030012130737304688\n",
      "prediction time:0.007001161575317383\n",
      "sort time:0.003000497817993164\n",
      "prediction time:0.009001493453979492\n",
      "sort time:0.004001140594482422\n",
      "prediction time:0.007001399993896484\n",
      "sort time:0.004000663757324219\n",
      "prediction time:0.009002208709716797\n"
     ]
    },
    {
     "name": "stderr",
     "output_type": "stream",
     "text": [
      "  3%|█▋                                                         | 5504/199549 [01:25<1:06:11, 48.86it/s]"
     ]
    },
    {
     "name": "stdout",
     "output_type": "stream",
     "text": [
      "sort time:0.00400090217590332\n",
      "prediction time:0.00800180435180664\n",
      "sort time:0.0030007362365722656\n",
      "prediction time:0.007001399993896484\n",
      "sort time:0.004001140594482422\n",
      "prediction time:0.010002374649047852\n",
      "sort time:0.00400090217590332\n",
      "prediction time:0.007001638412475586\n",
      "sort time:0.004000186920166016\n",
      "prediction time:0.009002447128295898\n",
      "sort time:0.00400090217590332\n",
      "prediction time:0.009002208709716797\n",
      "sort time:0.003000497817993164\n",
      "prediction time:0.007001638412475586\n",
      "sort time:0.00400090217590332\n",
      "prediction time:0.009002447128295898\n",
      "sort time:0.004000425338745117\n",
      "prediction time:0.007001638412475586\n",
      "sort time:0.00400090217590332\n"
     ]
    },
    {
     "name": "stderr",
     "output_type": "stream",
     "text": [
      "  3%|█▋                                                         | 5514/199549 [01:25<1:06:27, 48.66it/s]"
     ]
    },
    {
     "name": "stdout",
     "output_type": "stream",
     "text": [
      "prediction time:0.007000923156738281\n",
      "sort time:0.004001140594482422\n",
      "prediction time:0.0070018768310546875\n",
      "sort time:0.004000663757324219\n",
      "prediction time:0.00800180435180664\n",
      "sort time:0.0040013790130615234\n",
      "prediction time:0.009001970291137695\n",
      "sort time:0.004000663757324219\n",
      "prediction time:0.007001399993896484\n",
      "sort time:0.00400090217590332\n",
      "prediction time:0.007001638412475586\n",
      "sort time:0.003000497817993164\n",
      "prediction time:0.00800180435180664\n",
      "sort time:0.004001140594482422\n",
      "prediction time:0.008001327514648438\n",
      "sort time:0.004001617431640625\n",
      "prediction time:0.00800180435180664\n",
      "sort time:0.004001140594482422\n",
      "prediction time:0.008001565933227539\n"
     ]
    },
    {
     "name": "stderr",
     "output_type": "stream",
     "text": [
      "\r",
      "  3%|█▋                                                         | 5519/199549 [01:25<1:09:20, 46.63it/s]"
     ]
    },
    {
     "name": "stdout",
     "output_type": "stream",
     "text": [
      "sort time:0.00400090217590332\n",
      "prediction time:0.00800180435180664\n",
      "sort time:0.005001544952392578\n",
      "prediction time:0.018003225326538086\n",
      "sort time:0.0040018558502197266\n",
      "prediction time:0.007001638412475586\n",
      "sort time:0.003000497817993164\n",
      "prediction time:0.008002042770385742\n",
      "sort time:0.00400090217590332\n",
      "prediction time:0.008002042770385742\n",
      "sort time:0.004000663757324219\n",
      "prediction time:0.007001638412475586\n",
      "sort time:0.004001140594482422\n",
      "prediction time:0.007001638412475586\n",
      "sort time:0.00400090217590332\n",
      "prediction time:0.006001472473144531\n",
      "sort time:0.004000663757324219\n",
      "prediction time:0.00800180435180664\n",
      "sort time:0.003000497817993164"
     ]
    },
    {
     "name": "stderr",
     "output_type": "stream",
     "text": [
      "  3%|█▋                                                         | 5531/199549 [01:25<1:03:18, 51.08it/s]"
     ]
    },
    {
     "name": "stdout",
     "output_type": "stream",
     "text": [
      "\n",
      "prediction time:0.0070018768310546875\n",
      "sort time:0.003000497817993164\n",
      "prediction time:0.007001399993896484\n",
      "sort time:0.003000497817993164\n",
      "prediction time:0.007001399993896484\n",
      "sort time:0.0030007362365722656\n",
      "prediction time:0.008002042770385742\n",
      "sort time:0.00400090217590332\n",
      "prediction time:0.00600123405456543\n",
      "sort time:0.00400090217590332\n",
      "prediction time:0.008002042770385742\n",
      "sort time:0.004000663757324219\n",
      "prediction time:0.007001638412475586\n",
      "sort time:0.00400090217590332\n",
      "prediction time:0.0070018768310546875\n",
      "sort time:0.0030007362365722656\n",
      "prediction time:0.009001731872558594\n",
      "sort time:0.003000497817993164\n",
      "prediction time:0.008002281188964844\n",
      "sort time:0.003000497817993164\n",
      "prediction time:0.006001472473144531\n",
      "sort time:0.003000497817993164"
     ]
    },
    {
     "name": "stderr",
     "output_type": "stream",
     "text": [
      "  3%|█▋                                                         | 5543/199549 [01:26<1:02:25, 51.80it/s]"
     ]
    },
    {
     "name": "stdout",
     "output_type": "stream",
     "text": [
      "\n",
      "prediction time:0.0070018768310546875\n",
      "sort time:0.00400090217590332\n",
      "prediction time:0.009001731872558594\n",
      "sort time:0.004001140594482422\n",
      "prediction time:0.009001970291137695\n",
      "sort time:0.004000663757324219\n",
      "prediction time:0.007001638412475586\n",
      "sort time:0.003000497817993164\n",
      "prediction time:0.007001399993896484\n",
      "sort time:0.003000497817993164\n",
      "prediction time:0.010001659393310547\n",
      "sort time:0.0030007362365722656\n",
      "prediction time:0.00600123405456543\n",
      "sort time:0.003000497817993164\n",
      "prediction time:0.007001638412475586\n",
      "sort time:0.003000497817993164\n",
      "prediction time:0.007001638412475586\n",
      "sort time:0.004000663757324219\n",
      "prediction time:0.008002042770385742\n"
     ]
    },
    {
     "name": "stderr",
     "output_type": "stream",
     "text": [
      "  3%|█▋                                                           | 5555/199549 [01:26<59:47, 54.08it/s]"
     ]
    },
    {
     "name": "stdout",
     "output_type": "stream",
     "text": [
      "sort time:0.0030007362365722656\n",
      "prediction time:0.0070018768310546875\n",
      "sort time:0.004000425338745117\n",
      "prediction time:0.00800180435180664\n",
      "sort time:0.0030007362365722656\n",
      "prediction time:0.007001638412475586\n",
      "sort time:0.003000497817993164\n",
      "prediction time:0.00800180435180664\n",
      "sort time:0.00400090217590332\n",
      "prediction time:0.006001472473144531\n",
      "sort time:0.003000974655151367\n",
      "prediction time:0.00800180435180664\n",
      "sort time:0.003000974655151367\n",
      "prediction time:0.007001399993896484\n",
      "sort time:0.00400090217590332\n",
      "prediction time:0.008001327514648438\n",
      "sort time:0.003000497817993164\n",
      "prediction time:0.0070018768310546875\n",
      "sort time:0.003000497817993164\n",
      "prediction time:0.0070018768310546875\n",
      "sort time:0.003000497817993164\n",
      "prediction time:0.00800180435180664\n"
     ]
    },
    {
     "name": "stderr",
     "output_type": "stream",
     "text": [
      "\r",
      "  3%|█▋                                                           | 5561/199549 [01:26<59:48, 54.07it/s]"
     ]
    },
    {
     "name": "stdout",
     "output_type": "stream",
     "text": [
      "sort time:0.004000663757324219\n",
      "prediction time:0.008002281188964844\n",
      "sort time:0.0030002593994140625\n",
      "prediction time:0.00800180435180664\n",
      "sort time:0.003000974655151367\n",
      "prediction time:0.007001638412475586\n",
      "sort time:0.0040013790130615234\n",
      "prediction time:0.007001399993896484\n",
      "sort time:0.0040013790130615234\n",
      "prediction time:0.009001970291137695\n",
      "sort time:0.004001140594482422\n",
      "prediction time:0.009001970291137695\n",
      "sort time:0.003000974655151367\n",
      "prediction time:0.007001399993896484\n",
      "sort time:0.004001140594482422\n",
      "prediction time:0.00800180435180664\n",
      "sort time:0.00400090217590332\n",
      "prediction time:0.00800180435180664\n",
      "sort time:0.004001140594482422\n",
      "prediction time:0.00800180435180664\n"
     ]
    },
    {
     "name": "stderr",
     "output_type": "stream",
     "text": [
      "  3%|█▋                                                         | 5573/199549 [01:26<1:03:15, 51.11it/s]"
     ]
    },
    {
     "name": "stdout",
     "output_type": "stream",
     "text": [
      "sort time:0.00400090217590332\n",
      "prediction time:0.007001638412475586\n",
      "sort time:0.003000497817993164\n",
      "prediction time:0.00800180435180664\n",
      "sort time:0.004001140594482422\n",
      "prediction time:0.009002447128295898\n",
      "sort time:0.003000497817993164\n",
      "prediction time:0.007001399993896484\n",
      "sort time:0.0030007362365722656\n",
      "prediction time:0.008002042770385742\n",
      "sort time:0.004000425338745117\n",
      "prediction time:0.007001638412475586\n",
      "sort time:0.003000974655151367\n",
      "prediction time:0.00800180435180664\n",
      "sort time:0.00400090217590332\n",
      "prediction time:0.008002281188964844\n",
      "sort time:0.00400090217590332\n",
      "prediction time:0.00800180435180664\n",
      "sort time:0.004001140594482422"
     ]
    },
    {
     "name": "stderr",
     "output_type": "stream",
     "text": [
      "  3%|█▋                                                         | 5585/199549 [01:26<1:05:50, 49.10it/s]"
     ]
    },
    {
     "name": "stdout",
     "output_type": "stream",
     "text": [
      "\n",
      "prediction time:0.008001327514648438\n",
      "sort time:0.0040013790130615234\n",
      "prediction time:0.00900125503540039\n",
      "sort time:0.004001140594482422\n",
      "prediction time:0.00800180435180664\n",
      "sort time:0.003000497817993164\n",
      "prediction time:0.007001638412475586\n",
      "sort time:0.004001140594482422\n",
      "prediction time:0.00800180435180664\n",
      "sort time:0.004000663757324219\n",
      "prediction time:0.00800180435180664\n",
      "sort time:0.003000497817993164\n",
      "prediction time:0.00800180435180664\n",
      "sort time:0.00400090217590332\n",
      "prediction time:0.007001638412475586\n",
      "sort time:0.004001140594482422\n",
      "prediction time:0.008002281188964844\n",
      "sort time:0.0030007362365722656\n"
     ]
    },
    {
     "name": "stderr",
     "output_type": "stream",
     "text": [
      "\r",
      "  3%|█▋                                                         | 5591/199549 [01:26<1:03:32, 50.87it/s]"
     ]
    },
    {
     "name": "stdout",
     "output_type": "stream",
     "text": [
      "prediction time:0.009002208709716797\n",
      "sort time:0.004001140594482422\n",
      "prediction time:0.00800180435180664\n",
      "sort time:0.003000974655151367\n",
      "prediction time:0.00800180435180664\n",
      "sort time:0.003000497817993164\n",
      "prediction time:0.007001399993896484\n",
      "sort time:0.003000974655151367\n",
      "prediction time:0.007001399993896484\n",
      "sort time:0.00400090217590332\n",
      "prediction time:0.00600123405456543\n",
      "sort time:0.0030007362365722656\n",
      "prediction time:0.00800180435180664\n",
      "sort time:0.003000497817993164\n",
      "prediction time:0.008002042770385742\n",
      "sort time:0.003000497817993164\n",
      "prediction time:0.0070018768310546875\n",
      "sort time:0.003000974655151367\n",
      "prediction time:0.008001565933227539\n",
      "sort time:0.0030007362365722656\n",
      "prediction time:0.006000518798828125\n",
      "sort time:0.0030007362365722656"
     ]
    },
    {
     "name": "stderr",
     "output_type": "stream",
     "text": [
      "  3%|█▋                                                         | 5603/199549 [01:27<1:01:05, 52.91it/s]"
     ]
    },
    {
     "name": "stdout",
     "output_type": "stream",
     "text": [
      "\n",
      "prediction time:0.007001161575317383\n",
      "sort time:0.003000497817993164\n",
      "prediction time:0.008001327514648438\n",
      "sort time:0.0030007362365722656\n",
      "prediction time:0.007001399993896484\n",
      "sort time:0.0030007362365722656\n",
      "prediction time:0.00800180435180664\n",
      "sort time:0.0030007362365722656\n",
      "prediction time:0.006001472473144531\n",
      "sort time:0.004000663757324219\n",
      "prediction time:0.0070018768310546875\n",
      "sort time:0.00400090217590332\n",
      "prediction time:0.007000923156738281\n",
      "sort time:0.0030007362365722656\n",
      "prediction time:0.009002208709716797\n",
      "sort time:0.0030002593994140625\n",
      "prediction time:0.008000850677490234\n",
      "sort time:0.004001140594482422\n",
      "prediction time:0.007000923156738281\n",
      "sort time:0.0030012130737304688"
     ]
    },
    {
     "name": "stderr",
     "output_type": "stream",
     "text": [
      "  3%|█▋                                                         | 5615/199549 [01:27<1:02:07, 52.02it/s]"
     ]
    },
    {
     "name": "stdout",
     "output_type": "stream",
     "text": [
      "\n",
      "prediction time:0.009001731872558594\n",
      "sort time:0.00400090217590332\n",
      "prediction time:0.007002115249633789\n",
      "sort time:0.0030002593994140625\n",
      "prediction time:0.008001327514648438\n",
      "sort time:0.0030007362365722656\n",
      "prediction time:0.00800180435180664\n",
      "sort time:0.00400090217590332\n",
      "prediction time:0.006001472473144531\n",
      "sort time:0.008002758026123047\n",
      "prediction time:0.009002208709716797\n",
      "sort time:0.003000497817993164\n",
      "prediction time:0.007001638412475586\n",
      "sort time:0.00400090217590332\n",
      "prediction time:0.008002042770385742\n",
      "sort time:0.0030007362365722656\n",
      "prediction time:0.008002042770385742\n",
      "sort time:0.00400090217590332\n"
     ]
    },
    {
     "name": "stderr",
     "output_type": "stream",
     "text": [
      "\r",
      "  3%|█▋                                                         | 5621/199549 [01:27<1:01:45, 52.34it/s]"
     ]
    },
    {
     "name": "stdout",
     "output_type": "stream",
     "text": [
      "prediction time:0.007001638412475586\n",
      "sort time:0.00400090217590332\n",
      "prediction time:0.009002208709716797\n",
      "sort time:0.0030012130737304688\n",
      "prediction time:0.007000923156738281\n",
      "sort time:0.0030007362365722656\n",
      "prediction time:0.008002042770385742\n",
      "sort time:0.0030007362365722656\n",
      "prediction time:0.0070018768310546875\n",
      "sort time:0.003000020980834961\n",
      "prediction time:0.00800180435180664\n",
      "sort time:0.003000497817993164\n",
      "prediction time:0.008002519607543945\n",
      "sort time:0.004000425338745117\n",
      "prediction time:0.00800180435180664\n",
      "sort time:0.0030007362365722656\n",
      "prediction time:0.007001399993896484\n",
      "sort time:0.0030007362365722656\n",
      "prediction time:0.00800180435180664\n",
      "sort time:0.003000497817993164\n",
      "prediction time:0.007001638412475586\n"
     ]
    },
    {
     "name": "stderr",
     "output_type": "stream",
     "text": [
      "  3%|█▋                                                         | 5633/199549 [01:27<1:03:57, 50.53it/s]"
     ]
    },
    {
     "name": "stdout",
     "output_type": "stream",
     "text": [
      "sort time:0.004000663757324219\n",
      "prediction time:0.007001638412475586\n",
      "sort time:0.004001140594482422\n",
      "prediction time:0.007001638412475586\n",
      "sort time:0.00400090217590332\n",
      "prediction time:0.009002447128295898\n",
      "sort time:0.00400090217590332\n",
      "prediction time:0.008002042770385742\n",
      "sort time:0.0030002593994140625\n",
      "prediction time:0.00800180435180664\n",
      "sort time:0.0030007362365722656\n",
      "prediction time:0.008002042770385742\n",
      "sort time:0.0050008296966552734\n",
      "prediction time:0.009001970291137695\n",
      "sort time:0.00400090217590332\n",
      "prediction time:0.007001638412475586\n",
      "sort time:0.004001140594482422\n",
      "prediction time:0.00800180435180664\n"
     ]
    },
    {
     "name": "stderr",
     "output_type": "stream",
     "text": [
      "\r",
      "  3%|█▋                                                         | 5639/199549 [01:27<1:03:21, 51.01it/s]"
     ]
    },
    {
     "name": "stdout",
     "output_type": "stream",
     "text": [
      "sort time:0.00400090217590332\n",
      "prediction time:0.008001089096069336\n",
      "sort time:0.00400090217590332\n",
      "prediction time:0.00800180435180664\n",
      "sort time:0.0030007362365722656\n",
      "prediction time:0.007002830505371094\n",
      "sort time:0.002999544143676758\n",
      "prediction time:0.008001565933227539\n",
      "sort time:0.0030007362365722656\n",
      "prediction time:0.007001638412475586\n",
      "sort time:0.0030002593994140625\n",
      "prediction time:0.008002042770385742\n",
      "sort time:0.00400090217590332\n",
      "prediction time:0.008000850677490234\n",
      "sort time:0.003000974655151367\n",
      "prediction time:0.008002042770385742\n",
      "sort time:0.00400090217590332\n",
      "prediction time:0.006001472473144531\n",
      "sort time:0.00400090217590332\n",
      "prediction time:0.00800180435180664\n",
      "sort time:0.003000974655151367"
     ]
    },
    {
     "name": "stderr",
     "output_type": "stream",
     "text": [
      "  3%|█▋                                                         | 5651/199549 [01:28<1:02:03, 52.07it/s]"
     ]
    },
    {
     "name": "stdout",
     "output_type": "stream",
     "text": [
      "\n",
      "prediction time:0.007001638412475586\n",
      "sort time:0.004000663757324219\n",
      "prediction time:0.00800180435180664\n",
      "sort time:0.003000497817993164\n",
      "prediction time:0.008001565933227539\n",
      "sort time:0.0030007362365722656\n",
      "prediction time:0.009001970291137695\n",
      "sort time:0.004000425338745117\n",
      "prediction time:0.007001638412475586\n",
      "sort time:0.003000020980834961\n",
      "prediction time:0.007001399993896484\n",
      "sort time:0.0040013790130615234\n",
      "prediction time:0.009001970291137695\n",
      "sort time:0.00400090217590332\n",
      "prediction time:0.009002685546875\n",
      "sort time:0.004000663757324219\n",
      "prediction time:0.008002042770385742\n",
      "sort time:0.004000425338745117"
     ]
    },
    {
     "name": "stderr",
     "output_type": "stream",
     "text": [
      "  3%|█▋                                                         | 5663/199549 [01:28<1:03:10, 51.15it/s]"
     ]
    },
    {
     "name": "stdout",
     "output_type": "stream",
     "text": [
      "\n",
      "prediction time:0.00800180435180664\n",
      "sort time:0.004001140594482422\n",
      "prediction time:0.008001565933227539\n",
      "sort time:0.00400090217590332\n",
      "prediction time:0.007001399993896484\n",
      "sort time:0.003000974655151367\n",
      "prediction time:0.007001638412475586\n",
      "sort time:0.00400090217590332\n",
      "prediction time:0.009002208709716797\n",
      "sort time:0.003000497817993164\n",
      "prediction time:0.0070018768310546875\n",
      "sort time:0.004000663757324219\n",
      "prediction time:0.009001970291137695\n",
      "sort time:0.0030007362365722656\n",
      "prediction time:0.008001565933227539\n",
      "sort time:0.0030007362365722656\n",
      "prediction time:0.007001161575317383\n",
      "sort time:0.0030012130737304688\n",
      "prediction time:0.007001638412475586\n"
     ]
    },
    {
     "name": "stderr",
     "output_type": "stream",
     "text": [
      "\r",
      "  3%|█▋                                                         | 5669/199549 [01:28<1:02:00, 52.12it/s]"
     ]
    },
    {
     "name": "stdout",
     "output_type": "stream",
     "text": [
      "sort time:0.00400090217590332\n",
      "prediction time:0.008002519607543945\n",
      "sort time:0.0030002593994140625\n",
      "prediction time:0.00800180435180664\n",
      "sort time:0.0030007362365722656\n",
      "prediction time:0.006001472473144531\n",
      "sort time:0.003000497817993164\n",
      "prediction time:0.00800180435180664\n",
      "sort time:0.00400090217590332\n",
      "prediction time:0.009001731872558594\n",
      "sort time:0.0030007362365722656\n",
      "prediction time:0.008002042770385742\n",
      "sort time:0.00400090217590332\n",
      "prediction time:0.007001638412475586\n",
      "sort time:0.003000497817993164\n",
      "prediction time:0.0070018768310546875\n",
      "sort time:0.004000663757324219\n",
      "prediction time:0.00800180435180664\n",
      "sort time:0.003000497817993164\n",
      "prediction time:0.007001638412475586\n",
      "sort time:0.0030007362365722656"
     ]
    },
    {
     "name": "stderr",
     "output_type": "stream",
     "text": [
      "  3%|█▋                                                         | 5681/199549 [01:28<1:01:16, 52.73it/s]"
     ]
    },
    {
     "name": "stdout",
     "output_type": "stream",
     "text": [
      "\n",
      "prediction time:0.009001731872558594\n",
      "sort time:0.0030012130737304688\n",
      "prediction time:0.007001399993896484\n",
      "sort time:0.003000497817993164\n",
      "prediction time:0.006001472473144531\n",
      "sort time:0.0030007362365722656\n",
      "prediction time:0.007000923156738281\n",
      "sort time:0.003000974655151367\n",
      "prediction time:0.008001565933227539\n",
      "sort time:0.0030007362365722656\n",
      "prediction time:0.007001638412475586\n",
      "sort time:0.00400090217590332\n",
      "prediction time:0.00800180435180664\n",
      "sort time:0.004000663757324219\n",
      "prediction time:0.008002042770385742\n",
      "sort time:0.00400090217590332\n",
      "prediction time:0.0070018768310546875\n",
      "sort time:0.003000497817993164\n",
      "prediction time:0.007001638412475586\n",
      "sort time:0.003000497817993164"
     ]
    },
    {
     "name": "stderr",
     "output_type": "stream",
     "text": [
      "\r",
      "  3%|█▋                                                         | 5687/199549 [01:28<1:02:16, 51.88it/s]"
     ]
    },
    {
     "name": "stdout",
     "output_type": "stream",
     "text": [
      "\n",
      "prediction time:0.007001399993896484\n",
      "sort time:0.004001140594482422\n",
      "prediction time:0.007001638412475586\n",
      "sort time:0.0030007362365722656\n",
      "prediction time:0.007001638412475586\n",
      "sort time:0.004001140594482422\n",
      "prediction time:0.008002042770385742\n",
      "sort time:0.00400090217590332\n",
      "prediction time:0.008002042770385742\n",
      "sort time:0.0040013790130615234\n",
      "prediction time:0.007001399993896484\n",
      "sort time:0.00400090217590332\n",
      "prediction time:0.0070018768310546875\n",
      "sort time:0.005001068115234375\n",
      "prediction time:0.010001897811889648\n",
      "sort time:0.00500035285949707\n",
      "prediction time:0.008001565933227539\n",
      "sort time:0.004001140594482422"
     ]
    },
    {
     "name": "stderr",
     "output_type": "stream",
     "text": [
      "  3%|█▋                                                         | 5699/199549 [01:29<1:04:34, 50.03it/s]"
     ]
    },
    {
     "name": "stdout",
     "output_type": "stream",
     "text": [
      "\n",
      "prediction time:0.008001565933227539\n",
      "sort time:0.0030012130737304688\n",
      "prediction time:0.008004426956176758\n",
      "sort time:0.003998279571533203\n",
      "prediction time:0.008002042770385742\n",
      "sort time:0.004000663757324219\n",
      "prediction time:0.008002042770385742\n",
      "sort time:0.0030007362365722656\n",
      "prediction time:0.0070018768310546875\n",
      "sort time:0.0030002593994140625\n",
      "prediction time:0.009002208709716797\n",
      "sort time:0.003000497817993164\n",
      "prediction time:0.009002447128295898\n",
      "sort time:0.004000425338745117\n",
      "prediction time:0.008001327514648438\n",
      "sort time:0.00400090217590332\n",
      "prediction time:0.006001472473144531\n",
      "sort time:0.004000663757324219\n",
      "prediction time:0.007001638412475586\n",
      "sort time:0.003000974655151367"
     ]
    },
    {
     "name": "stderr",
     "output_type": "stream",
     "text": [
      "  3%|█▋                                                         | 5711/199549 [01:29<1:01:48, 52.27it/s]"
     ]
    },
    {
     "name": "stdout",
     "output_type": "stream",
     "text": [
      "\n",
      "prediction time:0.007001638412475586\n",
      "sort time:0.004000425338745117\n",
      "prediction time:0.008001565933227539\n",
      "sort time:0.004001140594482422\n",
      "prediction time:0.010002374649047852\n",
      "sort time:0.003000974655151367\n",
      "prediction time:0.009001731872558594\n",
      "sort time:0.003000974655151367\n",
      "prediction time:0.007001638412475586\n",
      "sort time:0.003000497817993164\n",
      "prediction time:0.008002042770385742\n",
      "sort time:0.003000497817993164\n",
      "prediction time:0.006001472473144531\n",
      "sort time:0.0030002593994140625\n",
      "prediction time:0.007001638412475586\n",
      "sort time:0.003000497817993164\n",
      "prediction time:0.007001638412475586\n",
      "sort time:0.003000497817993164\n",
      "prediction time:0.008002042770385742\n"
     ]
    },
    {
     "name": "stderr",
     "output_type": "stream",
     "text": [
      "  3%|█▋                                                           | 5723/199549 [01:29<59:44, 54.08it/s]"
     ]
    },
    {
     "name": "stdout",
     "output_type": "stream",
     "text": [
      "sort time:0.003000497817993164\n",
      "prediction time:0.007001638412475586\n",
      "sort time:0.004001140594482422\n",
      "prediction time:0.007001399993896484\n",
      "sort time:0.004001140594482422\n",
      "prediction time:0.006001710891723633\n",
      "sort time:0.0030002593994140625\n",
      "prediction time:0.007001638412475586\n",
      "sort time:0.004000663757324219\n",
      "prediction time:0.007001638412475586\n",
      "sort time:0.003000497817993164\n",
      "prediction time:0.007001399993896484\n",
      "sort time:0.003000497817993164\n",
      "prediction time:0.008002042770385742\n",
      "sort time:0.003000497817993164\n",
      "prediction time:0.007001638412475586\n",
      "sort time:0.004001140594482422\n",
      "prediction time:0.008002042770385742\n",
      "sort time:0.0030007362365722656\n",
      "prediction time:0.006001472473144531\n",
      "sort time:0.003000497817993164\n"
     ]
    },
    {
     "name": "stderr",
     "output_type": "stream",
     "text": [
      "\r",
      "  3%|█▋                                                         | 5729/199549 [01:29<1:00:23, 53.49it/s]"
     ]
    },
    {
     "name": "stdout",
     "output_type": "stream",
     "text": [
      "prediction time:0.009001970291137695\n",
      "sort time:0.004001140594482422\n",
      "prediction time:0.007001161575317383\n",
      "sort time:0.00400090217590332\n",
      "prediction time:0.008002042770385742\n",
      "sort time:0.003000974655151367\n",
      "prediction time:0.007001638412475586\n",
      "sort time:0.0030007362365722656\n",
      "prediction time:0.008001565933227539\n",
      "sort time:0.00400090217590332\n",
      "prediction time:0.00800180435180664\n",
      "sort time:0.00400090217590332\n",
      "prediction time:0.007001638412475586\n",
      "sort time:0.004000663757324219\n",
      "prediction time:0.008002758026123047\n",
      "sort time:0.004000186920166016\n",
      "prediction time:0.007001161575317383\n",
      "sort time:0.004000663757324219\n",
      "prediction time:0.008002042770385742\n",
      "sort time:0.00400090217590332\n",
      "prediction time:0.007001399993896484\n"
     ]
    },
    {
     "name": "stderr",
     "output_type": "stream",
     "text": [
      "  3%|█▋                                                         | 5741/199549 [01:29<1:01:23, 52.61it/s]"
     ]
    },
    {
     "name": "stdout",
     "output_type": "stream",
     "text": [
      "sort time:0.003000497817993164\n",
      "prediction time:0.009001731872558594\n",
      "sort time:0.004000663757324219\n",
      "prediction time:0.008001565933227539\n",
      "sort time:0.004001140594482422\n",
      "prediction time:0.007000923156738281\n",
      "sort time:0.00400090217590332\n",
      "prediction time:0.007001638412475586\n",
      "sort time:0.003000497817993164\n",
      "prediction time:0.008002042770385742\n",
      "sort time:0.00400090217590332\n",
      "prediction time:0.007001399993896484\n",
      "sort time:0.003000974655151367\n",
      "prediction time:0.007001399993896484\n",
      "sort time:0.003000974655151367\n",
      "prediction time:0.010002613067626953\n",
      "sort time:0.004001140594482422\n",
      "prediction time:0.00800180435180664\n"
     ]
    },
    {
     "name": "stderr",
     "output_type": "stream",
     "text": [
      "\r",
      "  3%|█▋                                                         | 5747/199549 [01:29<1:03:19, 51.00it/s]"
     ]
    },
    {
     "name": "stdout",
     "output_type": "stream",
     "text": [
      "sort time:0.004001140594482422\n",
      "prediction time:0.009001970291137695\n",
      "sort time:0.00400090217590332\n",
      "prediction time:0.00800180435180664\n",
      "sort time:0.0030007362365722656\n",
      "prediction time:0.0070018768310546875\n",
      "sort time:0.00400090217590332\n",
      "prediction time:0.008001565933227539\n",
      "sort time:0.00400090217590332\n",
      "prediction time:0.00800180435180664\n",
      "sort time:0.004000663757324219\n",
      "prediction time:0.009001731872558594\n",
      "sort time:0.004000425338745117\n",
      "prediction time:0.00800180435180664\n",
      "sort time:0.004000663757324219\n",
      "prediction time:0.006001472473144531\n",
      "sort time:0.004001140594482422\n",
      "prediction time:0.00800180435180664\n"
     ]
    },
    {
     "name": "stderr",
     "output_type": "stream",
     "text": [
      "  3%|█▋                                                         | 5759/199549 [01:30<1:02:48, 51.43it/s]"
     ]
    },
    {
     "name": "stdout",
     "output_type": "stream",
     "text": [
      "sort time:0.00400090217590332\n",
      "prediction time:0.007001638412475586\n",
      "sort time:0.004000663757324219\n",
      "prediction time:0.008001327514648438\n",
      "sort time:0.003000974655151367\n",
      "prediction time:0.007001399993896484\n",
      "sort time:0.0030002593994140625\n",
      "prediction time:0.008002281188964844\n",
      "sort time:0.0030002593994140625\n",
      "prediction time:0.008000850677490234\n",
      "sort time:0.003000497817993164\n",
      "prediction time:0.007001638412475586\n",
      "sort time:0.0030007362365722656\n",
      "prediction time:0.00800180435180664\n",
      "sort time:0.0030007362365722656\n",
      "prediction time:0.008002042770385742\n",
      "sort time:0.004000663757324219\n",
      "prediction time:0.007002115249633789\n",
      "sort time:0.003000020980834961\n",
      "prediction time:0.008000850677490234\n"
     ]
    },
    {
     "name": "stderr",
     "output_type": "stream",
     "text": [
      "  3%|█▋                                                         | 5771/199549 [01:30<1:02:38, 51.56it/s]"
     ]
    },
    {
     "name": "stdout",
     "output_type": "stream",
     "text": [
      "sort time:0.0030007362365722656\n",
      "prediction time:0.007002115249633789\n",
      "sort time:0.004000186920166016\n",
      "prediction time:0.00800180435180664\n",
      "sort time:0.004001140594482422\n",
      "prediction time:0.007001638412475586\n",
      "sort time:0.003000974655151367\n",
      "prediction time:0.008001565933227539\n",
      "sort time:0.003000974655151367\n",
      "prediction time:0.007002115249633789\n",
      "sort time:0.004000186920166016\n",
      "prediction time:0.008002042770385742\n",
      "sort time:0.0030007362365722656\n",
      "prediction time:0.00800180435180664\n",
      "sort time:0.004001140594482422\n",
      "prediction time:0.00800180435180664\n",
      "sort time:0.0030007362365722656\n",
      "prediction time:0.007001399993896484\n",
      "sort time:0.0030012130737304688\n"
     ]
    },
    {
     "name": "stderr",
     "output_type": "stream",
     "text": [
      "\r",
      "  3%|█▋                                                         | 5777/199549 [01:30<1:02:44, 51.47it/s]"
     ]
    },
    {
     "name": "stdout",
     "output_type": "stream",
     "text": [
      "prediction time:0.009001970291137695\n",
      "sort time:0.003000974655151367\n",
      "prediction time:0.007001399993896484\n",
      "sort time:0.0030007362365722656\n",
      "prediction time:0.008001089096069336\n",
      "sort time:0.00400090217590332\n",
      "prediction time:0.007001638412475586\n",
      "sort time:0.0030007362365722656\n",
      "prediction time:0.00800180435180664\n",
      "sort time:0.004000663757324219\n",
      "prediction time:0.006001472473144531\n",
      "sort time:0.003000497817993164\n",
      "prediction time:0.00800180435180664\n",
      "sort time:0.00400090217590332\n",
      "prediction time:0.0070018768310546875\n",
      "sort time:0.00400090217590332\n",
      "prediction time:0.006001949310302734\n",
      "sort time:0.0030002593994140625\n",
      "prediction time:0.007001638412475586\n",
      "sort time:0.0030007362365722656\n"
     ]
    },
    {
     "name": "stderr",
     "output_type": "stream",
     "text": [
      "  3%|█▋                                                         | 5789/199549 [01:30<1:03:11, 51.11it/s]"
     ]
    },
    {
     "name": "stdout",
     "output_type": "stream",
     "text": [
      "prediction time:0.008001089096069336\n",
      "sort time:0.0030007362365722656\n",
      "prediction time:0.00800180435180664\n",
      "sort time:0.0030007362365722656\n",
      "prediction time:0.010002851486206055\n",
      "sort time:0.004000663757324219\n",
      "prediction time:0.008002042770385742\n",
      "sort time:0.004000663757324219\n",
      "prediction time:0.009001970291137695\n",
      "sort time:0.0030007362365722656\n",
      "prediction time:0.010002374649047852\n",
      "sort time:0.003000497817993164\n",
      "prediction time:0.008002042770385742\n",
      "sort time:0.00400090217590332\n",
      "prediction time:0.008002042770385742\n",
      "sort time:0.003000497817993164\n",
      "prediction time:0.007001638412475586\n",
      "sort time:0.003000974655151367\n",
      "prediction time:0.0070018768310546875\n",
      "sort time:0.0030002593994140625\n",
      "prediction time:0.006001472473144531\n",
      "sort time:0.004001140594482422"
     ]
    },
    {
     "name": "stderr",
     "output_type": "stream",
     "text": [
      "\r",
      "  3%|█▋                                                         | 5795/199549 [01:30<1:02:57, 51.29it/s]"
     ]
    },
    {
     "name": "stdout",
     "output_type": "stream",
     "text": [
      "\n",
      "prediction time:0.009002208709716797\n",
      "sort time:0.00400090217590332\n",
      "prediction time:0.007001399993896484\n",
      "sort time:0.004000663757324219\n",
      "prediction time:0.00800180435180664\n",
      "sort time:0.00400090217590332\n",
      "prediction time:0.007001638412475586\n",
      "sort time:0.0050013065338134766\n",
      "prediction time:0.007002353668212891\n",
      "sort time:0.004000425338745117\n",
      "prediction time:0.008001327514648438\n",
      "sort time:0.004000425338745117\n",
      "prediction time:0.00800180435180664\n",
      "sort time:0.003000497817993164\n",
      "prediction time:0.00800180435180664\n",
      "sort time:0.004001140594482422\n",
      "prediction time:0.008002042770385742\n"
     ]
    },
    {
     "name": "stderr",
     "output_type": "stream",
     "text": [
      "  3%|█▋                                                         | 5807/199549 [01:31<1:06:43, 48.40it/s]"
     ]
    },
    {
     "name": "stdout",
     "output_type": "stream",
     "text": [
      "sort time:0.004001140594482422\n",
      "prediction time:0.008001565933227539\n",
      "sort time:0.004001140594482422\n",
      "prediction time:0.00900125503540039\n",
      "sort time:0.0040013790130615234\n",
      "prediction time:0.00800180435180664\n",
      "sort time:0.0050013065338134766\n",
      "prediction time:0.008001565933227539\n",
      "sort time:0.0040013790130615234\n",
      "prediction time:0.008002281188964844\n",
      "sort time:0.004001140594482422\n",
      "prediction time:0.00800180435180664\n",
      "sort time:0.0050008296966552734\n",
      "prediction time:0.008002281188964844\n",
      "sort time:0.003000497817993164\n",
      "prediction time:0.007001399993896484\n",
      "sort time:0.00400090217590332\n",
      "prediction time:0.0070018768310546875\n"
     ]
    },
    {
     "name": "stderr",
     "output_type": "stream",
     "text": [
      "  3%|█▋                                                         | 5819/199549 [01:31<1:02:57, 51.28it/s]"
     ]
    },
    {
     "name": "stdout",
     "output_type": "stream",
     "text": [
      "sort time:0.004000663757324219\n",
      "prediction time:0.008001089096069336\n",
      "sort time:0.00400090217590332\n",
      "prediction time:0.0070018768310546875\n",
      "sort time:0.00400090217590332\n",
      "prediction time:0.007001399993896484\n",
      "sort time:0.00400090217590332\n",
      "prediction time:0.00800180435180664\n",
      "sort time:0.004000663757324219\n",
      "prediction time:0.007001161575317383\n",
      "sort time:0.00400090217590332\n",
      "prediction time:0.007000923156738281\n",
      "sort time:0.0030007362365722656\n",
      "prediction time:0.00800180435180664\n",
      "sort time:0.0030007362365722656\n",
      "prediction time:0.006000995635986328\n",
      "sort time:0.004001140594482422\n",
      "prediction time:0.008001565933227539\n",
      "sort time:0.003000497817993164\n",
      "prediction time:0.007001638412475586\n"
     ]
    },
    {
     "name": "stderr",
     "output_type": "stream",
     "text": [
      "\r",
      "  3%|█▋                                                         | 5825/199549 [01:31<1:01:40, 52.35it/s]"
     ]
    },
    {
     "name": "stdout",
     "output_type": "stream",
     "text": [
      "sort time:0.00400090217590332\n",
      "prediction time:0.007001638412475586\n",
      "sort time:0.00400090217590332\n",
      "prediction time:0.007001638412475586\n",
      "sort time:0.00400090217590332\n",
      "prediction time:0.008002042770385742\n",
      "sort time:0.0030007362365722656\n",
      "prediction time:0.008002042770385742\n",
      "sort time:0.003000497817993164\n",
      "prediction time:0.008001565933227539\n",
      "sort time:0.003000974655151367\n",
      "prediction time:0.007001638412475586\n",
      "sort time:0.004000663757324219\n",
      "prediction time:0.009001970291137695\n",
      "sort time:0.003000497817993164\n",
      "prediction time:0.0070018768310546875\n",
      "sort time:0.003000020980834961\n",
      "prediction time:0.007001638412475586\n",
      "sort time:0.0030007362365722656\n",
      "prediction time:0.007001638412475586\n",
      "sort time:0.0030007362365722656"
     ]
    },
    {
     "name": "stderr",
     "output_type": "stream",
     "text": [
      "  3%|█▊                                                           | 5837/199549 [01:31<59:46, 54.02it/s]"
     ]
    },
    {
     "name": "stdout",
     "output_type": "stream",
     "text": [
      "\n",
      "prediction time:0.009001970291137695\n",
      "sort time:0.003000974655151367\n",
      "prediction time:0.009001970291137695\n",
      "sort time:0.003000497817993164\n",
      "prediction time:0.007001638412475586\n",
      "sort time:0.003000020980834961\n",
      "prediction time:0.00800180435180664\n",
      "sort time:0.0030012130737304688\n",
      "prediction time:0.007001161575317383\n",
      "sort time:0.003000497817993164\n",
      "prediction time:0.007001638412475586\n",
      "sort time:0.0030014514923095703\n",
      "prediction time:0.006000995635986328\n",
      "sort time:0.00400090217590332\n",
      "prediction time:0.00800180435180664\n",
      "sort time:0.003000974655151367\n",
      "prediction time:0.006000995635986328\n",
      "sort time:0.0030007362365722656\n",
      "prediction time:0.008002042770385742\n",
      "sort time:0.004000663757324219\n",
      "prediction time:0.006001472473144531\n"
     ]
    },
    {
     "name": "stderr",
     "output_type": "stream",
     "text": [
      "  3%|█▋                                                         | 5849/199549 [01:31<1:00:04, 53.74it/s]"
     ]
    },
    {
     "name": "stdout",
     "output_type": "stream",
     "text": [
      "sort time:0.0030007362365722656\n",
      "prediction time:0.008002042770385742\n",
      "sort time:0.0030007362365722656\n",
      "prediction time:0.007001399993896484\n",
      "sort time:0.0030007362365722656\n",
      "prediction time:0.007001638412475586\n",
      "sort time:0.003000497817993164\n",
      "prediction time:0.009002208709716797\n",
      "sort time:0.003000497817993164\n",
      "prediction time:0.006001472473144531\n",
      "sort time:0.004000663757324219\n",
      "prediction time:0.007002115249633789\n",
      "sort time:0.00400090217590332\n",
      "prediction time:0.009001970291137695\n",
      "sort time:0.003000497817993164\n",
      "prediction time:0.00600123405456543\n",
      "sort time:0.004000663757324219\n",
      "prediction time:0.007001638412475586\n",
      "sort time:0.004001140594482422\n",
      "prediction time:0.007000923156738281\n",
      "sort time:0.003000497817993164"
     ]
    },
    {
     "name": "stderr",
     "output_type": "stream",
     "text": [
      "\r",
      "  3%|█▋                                                         | 5855/199549 [01:32<1:02:13, 51.88it/s]"
     ]
    },
    {
     "name": "stdout",
     "output_type": "stream",
     "text": [
      "\n",
      "prediction time:0.009002208709716797\n",
      "sort time:0.004001140594482422\n",
      "prediction time:0.008002519607543945\n",
      "sort time:0.0030002593994140625\n",
      "prediction time:0.008002042770385742\n",
      "sort time:0.003000497817993164\n",
      "prediction time:0.00800180435180664\n",
      "sort time:0.00400090217590332\n",
      "prediction time:0.008002042770385742\n",
      "sort time:0.00400090217590332\n",
      "prediction time:0.008002042770385742\n",
      "sort time:0.004000425338745117\n",
      "prediction time:0.007001638412475586\n",
      "sort time:0.00400090217590332\n",
      "prediction time:0.007003068923950195\n",
      "sort time:0.0039997100830078125\n",
      "prediction time:0.00800180435180664\n"
     ]
    },
    {
     "name": "stderr",
     "output_type": "stream",
     "text": [
      "  3%|█▋                                                         | 5867/199549 [01:32<1:02:49, 51.38it/s]"
     ]
    },
    {
     "name": "stdout",
     "output_type": "stream",
     "text": [
      "sort time:0.005001068115234375\n",
      "prediction time:0.010002374649047852\n",
      "sort time:0.004000663757324219\n",
      "prediction time:0.008002042770385742\n",
      "sort time:0.0040013790130615234\n",
      "prediction time:0.006999969482421875\n",
      "sort time:0.00400090217590332\n",
      "prediction time:0.007001638412475586\n",
      "sort time:0.003000497817993164\n",
      "prediction time:0.00800180435180664\n",
      "sort time:0.00400090217590332\n",
      "prediction time:0.006001472473144531\n",
      "sort time:0.0030007362365722656\n",
      "prediction time:0.00800180435180664\n",
      "sort time:0.0030007362365722656\n",
      "prediction time:0.0070018768310546875\n",
      "sort time:0.00400090217590332\n",
      "prediction time:0.006001710891723633\n",
      "sort time:0.004000663757324219\n",
      "prediction time:0.007001638412475586\n"
     ]
    },
    {
     "name": "stderr",
     "output_type": "stream",
     "text": [
      "  3%|█▋                                                         | 5879/199549 [01:32<1:00:19, 53.51it/s]"
     ]
    },
    {
     "name": "stdout",
     "output_type": "stream",
     "text": [
      "sort time:0.00400090217590332\n",
      "prediction time:0.007001399993896484\n",
      "sort time:0.004001140594482422\n",
      "prediction time:0.007001638412475586\n",
      "sort time:0.003000974655151367\n",
      "prediction time:0.00800180435180664\n",
      "sort time:0.0030007362365722656\n",
      "prediction time:0.00800180435180664\n",
      "sort time:0.00400090217590332\n",
      "prediction time:0.007001638412475586\n",
      "sort time:0.003000497817993164\n",
      "prediction time:0.008001565933227539\n",
      "sort time:0.003000974655151367\n",
      "prediction time:0.00600123405456543\n",
      "sort time:0.004001140594482422\n",
      "prediction time:0.00800180435180664\n",
      "sort time:0.0030007362365722656\n",
      "prediction time:0.006001472473144531\n",
      "sort time:0.003000974655151367\n",
      "prediction time:0.007001638412475586\n",
      "sort time:0.00400090217590332\n",
      "prediction time:0.0070018768310546875\n",
      "sort time:0.0030002593994140625"
     ]
    },
    {
     "name": "stderr",
     "output_type": "stream",
     "text": [
      "\r",
      "  3%|█▋                                                         | 5885/199549 [01:32<1:00:37, 53.24it/s]"
     ]
    },
    {
     "name": "stdout",
     "output_type": "stream",
     "text": [
      "\n",
      "prediction time:0.007001638412475586\n",
      "sort time:0.004001140594482422\n",
      "prediction time:0.00800180435180664\n",
      "sort time:0.003000497817993164\n",
      "prediction time:0.007001638412475586\n",
      "sort time:0.003000497817993164\n",
      "prediction time:0.008001327514648438\n",
      "sort time:0.0030007362365722656\n",
      "prediction time:0.009002208709716797\n",
      "sort time:0.003000497817993164\n",
      "prediction time:0.006001472473144531\n",
      "sort time:0.00400090217590332\n",
      "prediction time:0.008001565933227539\n",
      "sort time:0.0030007362365722656\n",
      "prediction time:0.007001638412475586\n",
      "sort time:0.003000974655151367\n",
      "prediction time:0.007001399993896484\n",
      "sort time:0.004001140594482422\n",
      "prediction time:0.007001399993896484\n"
     ]
    },
    {
     "name": "stderr",
     "output_type": "stream",
     "text": [
      "  3%|█▋                                                         | 5897/199549 [01:32<1:00:11, 53.62it/s]"
     ]
    },
    {
     "name": "stdout",
     "output_type": "stream",
     "text": [
      "sort time:0.0030012130737304688\n",
      "prediction time:0.007001638412475586\n",
      "sort time:0.0030007362365722656\n",
      "prediction time:0.007001638412475586\n",
      "sort time:0.0030007362365722656\n",
      "prediction time:0.007001638412475586\n",
      "sort time:0.003000974655151367\n",
      "prediction time:0.007001638412475586\n",
      "sort time:0.00400090217590332\n",
      "prediction time:0.0070018768310546875\n",
      "sort time:0.0030007362365722656\n",
      "prediction time:0.007001638412475586\n",
      "sort time:0.004001140594482422\n",
      "prediction time:0.00800180435180664\n",
      "sort time:0.003000497817993164\n",
      "prediction time:0.007001399993896484\n",
      "sort time:0.0030007362365722656\n",
      "prediction time:0.008001565933227539\n",
      "sort time:0.0030007362365722656\n",
      "prediction time:0.006001472473144531\n",
      "sort time:0.00400090217590332\n",
      "prediction time:0.00800180435180664\n",
      "sort time:0.003000497817993164"
     ]
    },
    {
     "name": "stderr",
     "output_type": "stream",
     "text": [
      "  3%|█▋                                                         | 5909/199549 [01:33<1:01:11, 52.74it/s]"
     ]
    },
    {
     "name": "stdout",
     "output_type": "stream",
     "text": [
      "\n",
      "prediction time:0.008001327514648438\n",
      "sort time:0.004000663757324219\n",
      "prediction time:0.00800180435180664\n",
      "sort time:0.0030002593994140625\n",
      "prediction time:0.006000995635986328\n",
      "sort time:0.004001140594482422\n",
      "prediction time:0.008002042770385742\n",
      "sort time:0.003000497817993164\n",
      "prediction time:0.0070018768310546875\n",
      "sort time:0.003000497817993164\n",
      "prediction time:0.007001638412475586\n",
      "sort time:0.003000497817993164\n",
      "prediction time:0.007001399993896484\n",
      "sort time:0.004000663757324219\n",
      "prediction time:0.007001638412475586\n",
      "sort time:0.004000425338745117\n",
      "prediction time:0.008001565933227539\n",
      "sort time:0.0030002593994140625\n",
      "prediction time:0.007001399993896484\n",
      "sort time:0.005001068115234375"
     ]
    },
    {
     "name": "stderr",
     "output_type": "stream",
     "text": [
      "\r",
      "  3%|█▋                                                         | 5915/199549 [01:33<1:02:50, 51.35it/s]"
     ]
    },
    {
     "name": "stdout",
     "output_type": "stream",
     "text": [
      "\n",
      "prediction time:0.007001399993896484\n",
      "sort time:0.00400090217590332\n",
      "prediction time:0.008001565933227539\n",
      "sort time:0.004001140594482422\n",
      "prediction time:0.008002042770385742\n",
      "sort time:0.004001140594482422\n",
      "prediction time:0.009001970291137695\n",
      "sort time:0.004000663757324219\n",
      "prediction time:0.008002281188964844\n",
      "sort time:0.004001617431640625\n",
      "prediction time:0.00700068473815918\n",
      "sort time:0.004001140594482422\n",
      "prediction time:0.007001399993896484\n",
      "sort time:0.004000663757324219\n",
      "prediction time:0.008000612258911133\n",
      "sort time:0.00400090217590332\n",
      "prediction time:0.007002115249633789\n"
     ]
    },
    {
     "name": "stderr",
     "output_type": "stream",
     "text": [
      "  3%|█▊                                                         | 5927/199549 [01:33<1:02:41, 51.48it/s]"
     ]
    },
    {
     "name": "stdout",
     "output_type": "stream",
     "text": [
      "sort time:0.004000663757324219\n",
      "prediction time:0.007001638412475586\n",
      "sort time:0.003000497817993164\n",
      "prediction time:0.009002208709716797\n",
      "sort time:0.00400090217590332\n",
      "prediction time:0.006000995635986328\n",
      "sort time:0.00400090217590332\n",
      "prediction time:0.006001472473144531\n",
      "sort time:0.003000497817993164\n",
      "prediction time:0.007001638412475586\n",
      "sort time:0.00400090217590332\n",
      "prediction time:0.007001638412475586\n",
      "sort time:0.0030007362365722656\n",
      "prediction time:0.007001399993896484\n",
      "sort time:0.0030007362365722656\n",
      "prediction time:0.00800180435180664\n",
      "sort time:0.004001140594482422\n",
      "prediction time:0.006000995635986328\n",
      "sort time:0.0030007362365722656\n",
      "prediction time:0.008001565933227539\n",
      "sort time:0.00400090217590332\n",
      "prediction time:0.00600123405456543\n",
      "sort time:0.003000497817993164"
     ]
    },
    {
     "name": "stderr",
     "output_type": "stream",
     "text": [
      "  3%|█▊                                                         | 5939/199549 [01:33<1:02:31, 51.61it/s]"
     ]
    },
    {
     "name": "stdout",
     "output_type": "stream",
     "text": [
      "\n",
      "prediction time:0.009002447128295898\n",
      "sort time:0.004000663757324219\n",
      "prediction time:0.009001970291137695\n",
      "sort time:0.00400090217590332\n",
      "prediction time:0.007001638412475586\n",
      "sort time:0.0030007362365722656\n",
      "prediction time:0.008002042770385742\n",
      "sort time:0.00400090217590332\n",
      "prediction time:0.007001638412475586\n",
      "sort time:0.004000663757324219\n",
      "prediction time:0.00800180435180664\n",
      "sort time:0.0030012130737304688\n",
      "prediction time:0.007001399993896484\n",
      "sort time:0.004001140594482422\n",
      "prediction time:0.008001565933227539\n",
      "sort time:0.0030007362365722656\n",
      "prediction time:0.007001161575317383\n",
      "sort time:0.004000663757324219"
     ]
    },
    {
     "name": "stderr",
     "output_type": "stream",
     "text": [
      "  3%|█▊                                                         | 5951/199549 [01:33<1:00:16, 53.53it/s]"
     ]
    },
    {
     "name": "stdout",
     "output_type": "stream",
     "text": [
      "\n",
      "prediction time:0.0070018768310546875\n",
      "sort time:0.004000663757324219\n",
      "prediction time:0.007001638412475586\n",
      "sort time:0.0030012130737304688\n",
      "prediction time:0.007001399993896484\n",
      "sort time:0.0030007362365722656\n",
      "prediction time:0.008002042770385742\n",
      "sort time:0.003000497817993164\n",
      "prediction time:0.00800180435180664\n",
      "sort time:0.004000663757324219\n",
      "prediction time:0.0070018768310546875\n",
      "sort time:0.0030007362365722656\n",
      "prediction time:0.00800180435180664\n",
      "sort time:0.00400090217590332\n",
      "prediction time:0.007001638412475586\n",
      "sort time:0.0030007362365722656\n",
      "prediction time:0.007001638412475586\n",
      "sort time:0.00400090217590332\n",
      "prediction time:0.00800180435180664\n",
      "sort time:0.0030007362365722656\n"
     ]
    },
    {
     "name": "stderr",
     "output_type": "stream",
     "text": [
      "\r",
      "  3%|█▊                                                         | 5957/199549 [01:33<1:00:15, 53.54it/s]"
     ]
    },
    {
     "name": "stdout",
     "output_type": "stream",
     "text": [
      "prediction time:0.009002447128295898\n",
      "sort time:0.004000663757324219\n",
      "prediction time:0.00800180435180664\n",
      "sort time:0.004001140594482422\n",
      "prediction time:0.007001161575317383\n",
      "sort time:0.003000974655151367\n",
      "prediction time:0.00800180435180664\n",
      "sort time:0.0030007362365722656\n",
      "prediction time:0.006001710891723633\n",
      "sort time:0.0030002593994140625\n",
      "prediction time:0.007001638412475586\n",
      "sort time:0.003000497817993164\n",
      "prediction time:0.009001970291137695\n",
      "sort time:0.004001140594482422\n",
      "prediction time:0.00800180435180664\n",
      "sort time:0.0040013790130615234\n",
      "prediction time:0.00800180435180664\n",
      "sort time:0.003000497817993164\n",
      "prediction time:0.007001638412475586\n",
      "sort time:0.003000497817993164\n",
      "prediction time:0.007001638412475586\n",
      "sort time:0.004000663757324219\n",
      "prediction time:0.006000995635986328\n"
     ]
    },
    {
     "name": "stderr",
     "output_type": "stream",
     "text": [
      "  3%|█▊                                                         | 5969/199549 [01:34<1:03:34, 50.75it/s]"
     ]
    },
    {
     "name": "stdout",
     "output_type": "stream",
     "text": [
      "sort time:0.003000497817993164\n",
      "prediction time:0.00800180435180664\n",
      "sort time:0.0030007362365722656\n",
      "prediction time:0.008002042770385742\n",
      "sort time:0.0030007362365722656\n",
      "prediction time:0.009001731872558594\n",
      "sort time:0.0040013790130615234\n",
      "prediction time:0.007001399993896484\n",
      "sort time:0.004000663757324219\n",
      "prediction time:0.007001399993896484\n",
      "sort time:0.004001140594482422\n",
      "prediction time:0.009002685546875\n",
      "sort time:0.004000186920166016\n",
      "prediction time:0.009001970291137695\n",
      "sort time:0.005001068115234375\n",
      "prediction time:0.010001897811889648\n"
     ]
    },
    {
     "name": "stderr",
     "output_type": "stream",
     "text": [
      "\r",
      "  3%|█▊                                                         | 5975/199549 [01:34<1:08:22, 47.18it/s]"
     ]
    },
    {
     "name": "stdout",
     "output_type": "stream",
     "text": [
      "sort time:0.005002021789550781\n",
      "prediction time:0.00800180435180664\n",
      "sort time:0.00400090217590332\n",
      "prediction time:0.008002042770385742\n",
      "sort time:0.004001140594482422\n",
      "prediction time:0.008001565933227539\n",
      "sort time:0.004001140594482422\n",
      "prediction time:0.00800180435180664\n",
      "sort time:0.0040018558502197266\n",
      "prediction time:0.00800180435180664\n",
      "sort time:0.004000663757324219\n",
      "prediction time:0.007001399993896484\n",
      "sort time:0.003000497817993164\n",
      "prediction time:0.007001638412475586\n",
      "sort time:0.003000974655151367\n",
      "prediction time:0.009002208709716797\n"
     ]
    },
    {
     "name": "stderr",
     "output_type": "stream",
     "text": [
      "  3%|█▊                                                         | 5987/199549 [01:34<1:05:17, 49.41it/s]"
     ]
    },
    {
     "name": "stdout",
     "output_type": "stream",
     "text": [
      "sort time:0.004000663757324219\n",
      "prediction time:0.007001638412475586\n",
      "sort time:0.004001140594482422\n",
      "prediction time:0.009001970291137695\n",
      "sort time:0.004001140594482422\n",
      "prediction time:0.009002208709716797\n",
      "sort time:0.004000663757324219\n",
      "prediction time:0.00800180435180664\n",
      "sort time:0.003000974655151367\n",
      "prediction time:0.008001565933227539\n",
      "sort time:0.003000497817993164\n",
      "prediction time:0.0070018768310546875\n",
      "sort time:0.003000497817993164\n",
      "prediction time:0.008001327514648438\n",
      "sort time:0.00400090217590332\n",
      "prediction time:0.0070018768310546875\n",
      "sort time:0.004000425338745117\n",
      "prediction time:0.00800180435180664\n",
      "sort time:0.00400090217590332\n",
      "prediction time:0.007001638412475586\n"
     ]
    },
    {
     "name": "stderr",
     "output_type": "stream",
     "text": [
      "\r",
      "  3%|█▊                                                         | 5993/199549 [01:34<1:03:46, 50.59it/s]"
     ]
    },
    {
     "name": "stdout",
     "output_type": "stream",
     "text": [
      "sort time:0.003000497817993164\n",
      "prediction time:0.007001638412475586\n",
      "sort time:0.004000663757324219\n",
      "prediction time:0.007001638412475586\n",
      "sort time:0.004001140594482422\n",
      "prediction time:0.009002685546875\n",
      "sort time:0.003000497817993164\n",
      "prediction time:0.008001327514648438\n",
      "sort time:0.004001140594482422\n",
      "prediction time:0.00800180435180664\n",
      "sort time:0.003000497817993164\n",
      "prediction time:0.008001565933227539\n",
      "sort time:0.0030012130737304688\n",
      "prediction time:0.007001638412475586\n",
      "sort time:0.0030007362365722656\n",
      "prediction time:0.008001565933227539\n",
      "sort time:0.0030007362365722656\n",
      "prediction time:0.00600123405456543\n",
      "sort time:0.00400090217590332\n",
      "prediction time:0.008001565933227539\n"
     ]
    },
    {
     "name": "stderr",
     "output_type": "stream",
     "text": [
      "  3%|█▊                                                         | 6005/199549 [01:34<1:03:24, 50.87it/s]"
     ]
    },
    {
     "name": "stdout",
     "output_type": "stream",
     "text": [
      "sort time:0.004000663757324219\n",
      "prediction time:0.00800180435180664\n",
      "sort time:0.004000425338745117\n",
      "prediction time:0.00800180435180664\n",
      "sort time:0.004000663757324219\n",
      "prediction time:0.007001638412475586\n",
      "sort time:0.003000497817993164\n",
      "prediction time:0.009002208709716797\n",
      "sort time:0.004001140594482422\n",
      "prediction time:0.007001161575317383\n",
      "sort time:0.004001140594482422\n",
      "prediction time:0.0070018768310546875\n",
      "sort time:0.003000497817993164\n",
      "prediction time:0.007001161575317383\n",
      "sort time:0.004001140594482422\n",
      "prediction time:0.008001565933227539\n",
      "sort time:0.003000497817993164\n",
      "prediction time:0.008001089096069336\n",
      "sort time:0.00400090217590332\n",
      "prediction time:0.007001638412475586\n"
     ]
    },
    {
     "name": "stderr",
     "output_type": "stream",
     "text": [
      "  3%|█▊                                                         | 6017/199549 [01:35<1:05:20, 49.36it/s]"
     ]
    },
    {
     "name": "stdout",
     "output_type": "stream",
     "text": [
      "sort time:0.004000663757324219\n",
      "prediction time:0.00800180435180664\n",
      "sort time:0.0030007362365722656\n",
      "prediction time:0.007000923156738281\n",
      "sort time:0.004000425338745117\n",
      "prediction time:0.007001638412475586\n",
      "sort time:0.004000663757324219\n",
      "prediction time:0.007001638412475586\n",
      "sort time:0.003000497817993164\n",
      "prediction time:0.010001659393310547\n",
      "sort time:0.004001617431640625\n",
      "prediction time:0.007000923156738281\n",
      "sort time:0.00400090217590332\n",
      "prediction time:0.009001493453979492\n",
      "sort time:0.004001140594482422\n",
      "prediction time:0.007001399993896484\n",
      "sort time:0.00400090217590332\n",
      "prediction time:0.007001399993896484\n"
     ]
    },
    {
     "name": "stderr",
     "output_type": "stream",
     "text": [
      "\r",
      "  3%|█▊                                                         | 6022/199549 [01:35<1:07:40, 47.66it/s]"
     ]
    },
    {
     "name": "stdout",
     "output_type": "stream",
     "text": [
      "sort time:0.00400090217590332\n",
      "prediction time:0.007002353668212891\n",
      "sort time:0.003000974655151367\n",
      "prediction time:0.008001565933227539\n",
      "sort time:0.0040013790130615234\n",
      "prediction time:0.008001565933227539\n",
      "sort time:0.004001140594482422\n",
      "prediction time:0.011002302169799805\n",
      "sort time:0.005001544952392578\n",
      "prediction time:0.00800180435180664\n",
      "sort time:0.005001068115234375\n",
      "prediction time:0.007001638412475586\n",
      "sort time:0.00400090217590332\n",
      "prediction time:0.00800180435180664\n",
      "sort time:0.0040013790130615234\n",
      "prediction time:0.007001638412475586\n",
      "sort time:0.004001140594482422"
     ]
    },
    {
     "name": "stderr",
     "output_type": "stream",
     "text": [
      "  3%|█▊                                                         | 6032/199549 [01:35<1:11:24, 45.17it/s]"
     ]
    },
    {
     "name": "stdout",
     "output_type": "stream",
     "text": [
      "\n",
      "prediction time:0.008001565933227539\n",
      "sort time:0.0040013790130615234\n",
      "prediction time:0.015003204345703125\n",
      "sort time:0.00500178337097168\n",
      "prediction time:0.007001161575317383\n",
      "sort time:0.004000663757324219\n",
      "prediction time:0.009001731872558594\n",
      "sort time:0.003000974655151367\n",
      "prediction time:0.007002115249633789\n",
      "sort time:0.004000663757324219\n",
      "prediction time:0.007001399993896484\n",
      "sort time:0.0030012130737304688\n",
      "prediction time:0.009001970291137695\n",
      "sort time:0.004000663757324219\n",
      "prediction time:0.007001399993896484\n",
      "sort time:0.00400090217590332\n",
      "prediction time:0.00800180435180664\n",
      "sort time:0.004000663757324219"
     ]
    },
    {
     "name": "stderr",
     "output_type": "stream",
     "text": [
      "  3%|█▊                                                         | 6042/199549 [01:35<1:10:07, 45.99it/s]"
     ]
    },
    {
     "name": "stdout",
     "output_type": "stream",
     "text": [
      "\n",
      "prediction time:0.011002302169799805\n",
      "sort time:0.0030007362365722656\n",
      "prediction time:0.0070018768310546875\n",
      "sort time:0.0030012130737304688\n",
      "prediction time:0.00800180435180664\n",
      "sort time:0.003000497817993164\n",
      "prediction time:0.009002208709716797\n",
      "sort time:0.00400090217590332\n",
      "prediction time:0.0070018768310546875\n",
      "sort time:0.004000663757324219\n",
      "prediction time:0.009001493453979492\n",
      "sort time:0.0030012130737304688\n",
      "prediction time:0.007001638412475586\n",
      "sort time:0.003000497817993164\n",
      "prediction time:0.009002208709716797\n",
      "sort time:0.00400090217590332\n",
      "prediction time:0.007001399993896484\n",
      "sort time:0.0030012130737304688"
     ]
    },
    {
     "name": "stderr",
     "output_type": "stream",
     "text": [
      "\r",
      "  3%|█▊                                                         | 6047/199549 [01:35<1:09:13, 46.58it/s]"
     ]
    },
    {
     "name": "stdout",
     "output_type": "stream",
     "text": [
      "\n",
      "prediction time:0.008002042770385742\n",
      "sort time:0.003000974655151367\n",
      "prediction time:0.009001970291137695\n",
      "sort time:0.00400090217590332\n",
      "prediction time:0.007001161575317383\n",
      "sort time:0.004001140594482422\n",
      "prediction time:0.008002042770385742\n",
      "sort time:0.0030012130737304688\n",
      "prediction time:0.008001565933227539\n",
      "sort time:0.004001140594482422\n",
      "prediction time:0.00600123405456543\n",
      "sort time:0.003000497817993164\n",
      "prediction time:0.00800180435180664\n",
      "sort time:0.003000497817993164\n",
      "prediction time:0.006001472473144531\n",
      "sort time:0.004000663757324219\n",
      "prediction time:0.00800180435180664\n",
      "sort time:0.003000974655151367"
     ]
    },
    {
     "name": "stderr",
     "output_type": "stream",
     "text": [
      "  3%|█▊                                                         | 6059/199549 [01:36<1:04:27, 50.03it/s]"
     ]
    },
    {
     "name": "stdout",
     "output_type": "stream",
     "text": [
      "\n",
      "prediction time:0.008002281188964844\n",
      "sort time:0.004000425338745117\n",
      "prediction time:0.007001399993896484\n",
      "sort time:0.004000663757324219\n",
      "prediction time:0.008002042770385742\n",
      "sort time:0.00400090217590332\n",
      "prediction time:0.00800180435180664\n",
      "sort time:0.0030007362365722656\n",
      "prediction time:0.006001472473144531\n",
      "sort time:0.003000497817993164\n",
      "prediction time:0.007001638412475586\n",
      "sort time:0.0030007362365722656\n",
      "prediction time:0.009002208709716797\n",
      "sort time:0.004000663757324219\n",
      "prediction time:0.007001399993896484\n",
      "sort time:0.003000497817993164\n",
      "prediction time:0.007001399993896484\n",
      "sort time:0.0030007362365722656\n",
      "prediction time:0.00600123405456543\n",
      "sort time:0.0030007362365722656\n"
     ]
    },
    {
     "name": "stderr",
     "output_type": "stream",
     "text": [
      "  3%|█▊                                                         | 6071/199549 [01:36<1:02:39, 51.46it/s]"
     ]
    },
    {
     "name": "stdout",
     "output_type": "stream",
     "text": [
      "prediction time:0.008002042770385742\n",
      "sort time:0.0030007362365722656\n",
      "prediction time:0.00800180435180664\n",
      "sort time:0.003000974655151367\n",
      "prediction time:0.007001638412475586\n",
      "sort time:0.00400090217590332\n",
      "prediction time:0.008002281188964844\n",
      "sort time:0.003000497817993164\n",
      "prediction time:0.007001638412475586\n",
      "sort time:0.003000497817993164\n",
      "prediction time:0.008002519607543945\n",
      "sort time:0.003000020980834961\n",
      "prediction time:0.007001638412475586\n",
      "sort time:0.003000497817993164\n",
      "prediction time:0.008002042770385742\n",
      "sort time:0.003000497817993164\n",
      "prediction time:0.007001638412475586\n",
      "sort time:0.004000663757324219\n",
      "prediction time:0.010002374649047852\n",
      "sort time:0.004000663757324219\n",
      "prediction time:0.007001399993896484\n"
     ]
    },
    {
     "name": "stderr",
     "output_type": "stream",
     "text": [
      "\r",
      "  3%|█▊                                                         | 6077/199549 [01:36<1:04:42, 49.83it/s]"
     ]
    },
    {
     "name": "stdout",
     "output_type": "stream",
     "text": [
      "sort time:0.004000663757324219\n",
      "prediction time:0.008002758026123047\n",
      "sort time:0.004000663757324219\n",
      "prediction time:0.008001565933227539\n",
      "sort time:0.0030007362365722656\n",
      "prediction time:0.00800180435180664\n",
      "sort time:0.00400090217590332\n",
      "prediction time:0.008001565933227539\n",
      "sort time:0.004001617431640625\n",
      "prediction time:0.008001327514648438\n",
      "sort time:0.005001544952392578\n",
      "prediction time:0.008002042770385742\n",
      "sort time:0.003000497817993164\n",
      "prediction time:0.00800180435180664\n",
      "sort time:0.005001068115234375\n",
      "prediction time:0.00800180435180664\n",
      "sort time:0.00400090217590332"
     ]
    },
    {
     "name": "stderr",
     "output_type": "stream",
     "text": [
      "  3%|█▊                                                         | 6088/199549 [01:36<1:05:39, 49.11it/s]"
     ]
    },
    {
     "name": "stdout",
     "output_type": "stream",
     "text": [
      "\n",
      "prediction time:0.0070018768310546875\n",
      "sort time:0.004001140594482422\n",
      "prediction time:0.009001731872558594\n",
      "sort time:0.004001140594482422\n",
      "prediction time:0.007001399993896484\n",
      "sort time:0.003000497817993164\n",
      "prediction time:0.006001472473144531\n",
      "sort time:0.004001140594482422\n",
      "prediction time:0.00800180435180664\n",
      "sort time:0.003000974655151367\n",
      "prediction time:0.008001565933227539\n",
      "sort time:0.0030007362365722656\n",
      "prediction time:0.0070018768310546875\n",
      "sort time:0.003000497817993164\n",
      "prediction time:0.008002042770385742\n",
      "sort time:0.004001140594482422\n",
      "prediction time:0.007001161575317383\n",
      "sort time:0.0030007362365722656\n",
      "prediction time:0.00800180435180664\n",
      "sort time:0.003000974655151367"
     ]
    },
    {
     "name": "stderr",
     "output_type": "stream",
     "text": [
      "  3%|█▊                                                         | 6100/199549 [01:36<1:04:08, 50.27it/s]"
     ]
    },
    {
     "name": "stdout",
     "output_type": "stream",
     "text": [
      "\n",
      "prediction time:0.00800180435180664\n",
      "sort time:0.003000497817993164\n",
      "prediction time:0.00800180435180664\n",
      "sort time:0.003000497817993164\n",
      "prediction time:0.009001731872558594\n",
      "sort time:0.0030007362365722656\n",
      "prediction time:0.007001399993896484\n",
      "sort time:0.004000425338745117\n",
      "prediction time:0.007001399993896484\n",
      "sort time:0.00400090217590332\n",
      "prediction time:0.007001399993896484\n",
      "sort time:0.0030007362365722656\n",
      "prediction time:0.00800180435180664\n",
      "sort time:0.00400090217590332\n",
      "prediction time:0.00600123405456543\n",
      "sort time:0.0030012130737304688\n",
      "prediction time:0.009001970291137695\n",
      "sort time:0.00400090217590332"
     ]
    },
    {
     "name": "stderr",
     "output_type": "stream",
     "text": [
      "\r",
      "  3%|█▊                                                         | 6106/199549 [01:37<1:03:35, 50.70it/s]"
     ]
    },
    {
     "name": "stdout",
     "output_type": "stream",
     "text": [
      "\n",
      "prediction time:0.0070018768310546875\n",
      "sort time:0.004001140594482422\n",
      "prediction time:0.007001399993896484\n",
      "sort time:0.0030007362365722656\n",
      "prediction time:0.009001970291137695\n",
      "sort time:0.0030007362365722656\n",
      "prediction time:0.007001638412475586\n",
      "sort time:0.003000497817993164\n",
      "prediction time:0.006001472473144531\n",
      "sort time:0.004000425338745117\n",
      "prediction time:0.008001327514648438\n",
      "sort time:0.00400090217590332\n",
      "prediction time:0.007001161575317383\n",
      "sort time:0.00400090217590332\n",
      "prediction time:0.007001638412475586\n",
      "sort time:0.003001689910888672\n",
      "prediction time:0.009001970291137695\n",
      "sort time:0.003000974655151367\n",
      "prediction time:0.007001638412475586\n"
     ]
    },
    {
     "name": "stderr",
     "output_type": "stream",
     "text": [
      "  3%|█▊                                                         | 6118/199549 [01:37<1:03:36, 50.68it/s]"
     ]
    },
    {
     "name": "stdout",
     "output_type": "stream",
     "text": [
      "sort time:0.004000663757324219\n",
      "prediction time:0.008002281188964844\n",
      "sort time:0.0030002593994140625\n",
      "prediction time:0.008002042770385742\n",
      "sort time:0.0030007362365722656\n",
      "prediction time:0.009002208709716797\n",
      "sort time:0.003000497817993164\n",
      "prediction time:0.0060007572174072266\n",
      "sort time:0.004001140594482422\n",
      "prediction time:0.00800180435180664\n",
      "sort time:0.00400090217590332\n",
      "prediction time:0.0070018768310546875\n",
      "sort time:0.0030002593994140625\n",
      "prediction time:0.007001399993896484\n",
      "sort time:0.004001140594482422\n",
      "prediction time:0.008002042770385742\n",
      "sort time:0.004000663757324219\n",
      "prediction time:0.007000923156738281\n",
      "sort time:0.0040013790130615234\n",
      "prediction time:0.008002519607543945\n",
      "sort time:0.003000020980834961"
     ]
    },
    {
     "name": "stderr",
     "output_type": "stream",
     "text": [
      "\r",
      "  3%|█▊                                                         | 6124/199549 [01:37<1:04:21, 50.09it/s]"
     ]
    },
    {
     "name": "stdout",
     "output_type": "stream",
     "text": [
      "\n",
      "prediction time:0.008001565933227539\n",
      "sort time:0.0030007362365722656\n",
      "prediction time:0.0070018768310546875\n",
      "sort time:0.0030002593994140625\n",
      "prediction time:0.00800180435180664\n",
      "sort time:0.0030007362365722656\n",
      "prediction time:0.009002447128295898\n",
      "sort time:0.0030002593994140625\n",
      "prediction time:0.009002447128295898\n",
      "sort time:0.00400090217590332\n",
      "prediction time:0.0070018768310546875\n",
      "sort time:0.004001140594482422\n",
      "prediction time:0.009001970291137695\n",
      "sort time:0.00400090217590332\n",
      "prediction time:0.008001565933227539\n",
      "sort time:0.004000663757324219\n",
      "prediction time:0.008002042770385742\n"
     ]
    },
    {
     "name": "stderr",
     "output_type": "stream",
     "text": [
      "  3%|█▊                                                         | 6135/199549 [01:37<1:10:44, 45.57it/s]"
     ]
    },
    {
     "name": "stdout",
     "output_type": "stream",
     "text": [
      "sort time:0.004000663757324219\n",
      "prediction time:0.00800180435180664\n",
      "sort time:0.004000663757324219\n",
      "prediction time:0.00800180435180664\n",
      "sort time:0.004000663757324219\n",
      "prediction time:0.008002042770385742\n",
      "sort time:0.00400090217590332\n",
      "prediction time:0.007001638412475586\n",
      "sort time:0.0040013790130615234\n",
      "prediction time:0.008002281188964844\n",
      "sort time:0.0050013065338134766\n",
      "prediction time:0.00800180435180664\n",
      "sort time:0.004000425338745117\n",
      "prediction time:0.0070018768310546875\n",
      "sort time:0.00400090217590332\n",
      "prediction time:0.007002115249633789\n",
      "sort time:0.0030002593994140625\n",
      "prediction time:0.00600123405456543\n",
      "sort time:0.004000663757324219"
     ]
    },
    {
     "name": "stderr",
     "output_type": "stream",
     "text": [
      "  3%|█▊                                                         | 6147/199549 [01:37<1:06:50, 48.22it/s]"
     ]
    },
    {
     "name": "stdout",
     "output_type": "stream",
     "text": [
      "\n",
      "prediction time:0.007001638412475586\n",
      "sort time:0.0030012130737304688\n",
      "prediction time:0.008001565933227539\n",
      "sort time:0.0030012130737304688\n",
      "prediction time:0.00800180435180664\n",
      "sort time:0.004001140594482422\n",
      "prediction time:0.008000850677490234\n",
      "sort time:0.0040013790130615234\n",
      "prediction time:0.008002042770385742\n",
      "sort time:0.004000663757324219\n",
      "prediction time:0.006001472473144531\n",
      "sort time:0.004001140594482422\n",
      "prediction time:0.008001565933227539\n",
      "sort time:0.003000974655151367\n",
      "prediction time:0.007001399993896484\n",
      "sort time:0.0030007362365722656\n",
      "prediction time:0.009001970291137695\n",
      "sort time:0.003000497817993164\n",
      "prediction time:0.0070018768310546875\n",
      "sort time:0.003000497817993164"
     ]
    },
    {
     "name": "stderr",
     "output_type": "stream",
     "text": [
      "\r",
      "  3%|█▊                                                         | 6153/199549 [01:38<1:04:28, 49.99it/s]"
     ]
    },
    {
     "name": "stdout",
     "output_type": "stream",
     "text": [
      "\n",
      "prediction time:0.007001399993896484\n",
      "sort time:0.00400090217590332\n",
      "prediction time:0.00800180435180664\n",
      "sort time:0.004000663757324219\n",
      "prediction time:0.006001472473144531\n",
      "sort time:0.003000497817993164\n",
      "prediction time:0.00800180435180664\n",
      "sort time:0.003000497817993164\n",
      "prediction time:0.00800180435180664\n",
      "sort time:0.00400090217590332\n",
      "prediction time:0.00800180435180664\n",
      "sort time:0.00400090217590332\n",
      "prediction time:0.0070018768310546875\n",
      "sort time:0.003000497817993164\n",
      "prediction time:0.00800180435180664\n",
      "sort time:0.0030007362365722656\n",
      "prediction time:0.007001638412475586\n",
      "sort time:0.003000497817993164\n",
      "prediction time:0.007001638412475586\n"
     ]
    },
    {
     "name": "stderr",
     "output_type": "stream",
     "text": [
      "  3%|█▊                                                         | 6165/199549 [01:38<1:03:14, 50.97it/s]"
     ]
    },
    {
     "name": "stdout",
     "output_type": "stream",
     "text": [
      "sort time:0.004000663757324219\n",
      "prediction time:0.007001161575317383\n",
      "sort time:0.00400090217590332\n",
      "prediction time:0.00800180435180664\n",
      "sort time:0.003000497817993164\n",
      "prediction time:0.00800180435180664\n",
      "sort time:0.0030007362365722656\n",
      "prediction time:0.006001472473144531\n",
      "sort time:0.004001140594482422\n",
      "prediction time:0.008001565933227539\n",
      "sort time:0.0030007362365722656\n",
      "prediction time:0.00800180435180664\n",
      "sort time:0.0030007362365722656\n",
      "prediction time:0.008000850677490234\n",
      "sort time:0.004001140594482422\n",
      "prediction time:0.00800180435180664\n",
      "sort time:0.00400090217590332\n",
      "prediction time:0.00600123405456543\n",
      "sort time:0.0030007362365722656\n",
      "prediction time:0.007001399993896484\n",
      "sort time:0.0030012130737304688"
     ]
    },
    {
     "name": "stderr",
     "output_type": "stream",
     "text": [
      "  3%|█▊                                                         | 6177/199549 [01:38<1:04:04, 50.29it/s]"
     ]
    },
    {
     "name": "stdout",
     "output_type": "stream",
     "text": [
      "\n",
      "prediction time:0.007001638412475586\n",
      "sort time:0.004001617431640625\n",
      "prediction time:0.008002042770385742\n",
      "sort time:0.0040013790130615234\n",
      "prediction time:0.00800180435180664\n",
      "sort time:0.004001140594482422\n",
      "prediction time:0.008002042770385742\n",
      "sort time:0.004000663757324219\n",
      "prediction time:0.008002042770385742\n",
      "sort time:0.003000497817993164\n",
      "prediction time:0.007001638412475586\n",
      "sort time:0.003000974655151367\n",
      "prediction time:0.008001327514648438\n",
      "sort time:0.0030012130737304688\n",
      "prediction time:0.0070018768310546875\n",
      "sort time:0.00400090217590332\n",
      "prediction time:0.00800180435180664\n",
      "sort time:0.0030007362365722656"
     ]
    },
    {
     "name": "stderr",
     "output_type": "stream",
     "text": [
      "\r",
      "  3%|█▊                                                         | 6183/199549 [01:38<1:04:40, 49.83it/s]"
     ]
    },
    {
     "name": "stdout",
     "output_type": "stream",
     "text": [
      "\n",
      "prediction time:0.007001638412475586\n",
      "sort time:0.003000497817993164\n",
      "prediction time:0.007001638412475586\n",
      "sort time:0.00400090217590332\n",
      "prediction time:0.00800180435180664\n",
      "sort time:0.003000974655151367\n",
      "prediction time:0.007001399993896484\n",
      "sort time:0.004000663757324219\n",
      "prediction time:0.007001399993896484\n",
      "sort time:0.00400090217590332\n",
      "prediction time:0.009002208709716797\n",
      "sort time:0.0050013065338134766\n",
      "prediction time:0.00800180435180664\n",
      "sort time:0.003000974655151367\n",
      "prediction time:0.00800180435180664\n",
      "sort time:0.00400090217590332\n",
      "prediction time:0.008001565933227539\n"
     ]
    },
    {
     "name": "stderr",
     "output_type": "stream",
     "text": [
      "  3%|█▊                                                         | 6193/199549 [01:38<1:06:59, 48.10it/s]"
     ]
    },
    {
     "name": "stdout",
     "output_type": "stream",
     "text": [
      "sort time:0.004001140594482422\n",
      "prediction time:0.008001327514648438\n",
      "sort time:0.004001140594482422\n",
      "prediction time:0.008002042770385742\n",
      "sort time:0.004000663757324219\n",
      "prediction time:0.008001565933227539\n",
      "sort time:0.004001140594482422\n",
      "prediction time:0.009001970291137695\n",
      "sort time:0.004000663757324219\n",
      "prediction time:0.007001638412475586\n",
      "sort time:0.004000425338745117\n",
      "prediction time:0.008001565933227539\n",
      "sort time:0.003000974655151367\n",
      "prediction time:0.00800180435180664\n",
      "sort time:0.00400090217590332\n",
      "prediction time:0.00800180435180664\n",
      "sort time:0.004001140594482422\n",
      "prediction time:0.00600123405456543\n",
      "sort time:0.0030007362365722656"
     ]
    },
    {
     "name": "stderr",
     "output_type": "stream",
     "text": [
      "  3%|█▊                                                         | 6204/199549 [01:39<1:04:38, 49.85it/s]"
     ]
    },
    {
     "name": "stdout",
     "output_type": "stream",
     "text": [
      "\n",
      "prediction time:0.009002208709716797\n",
      "sort time:0.004000663757324219\n",
      "prediction time:0.008002042770385742\n",
      "sort time:0.0030007362365722656\n",
      "prediction time:0.007001638412475586\n",
      "sort time:0.004001140594482422\n",
      "prediction time:0.00800180435180664\n",
      "sort time:0.004001140594482422\n",
      "prediction time:0.007001399993896484\n",
      "sort time:0.00400090217590332\n",
      "prediction time:0.00800180435180664\n",
      "sort time:0.0030007362365722656\n",
      "prediction time:0.006001472473144531\n",
      "sort time:0.004000663757324219\n",
      "prediction time:0.007001638412475586\n",
      "sort time:0.003000497817993164\n",
      "prediction time:0.007001399993896484\n",
      "sort time:0.0030007362365722656\n"
     ]
    },
    {
     "name": "stderr",
     "output_type": "stream",
     "text": [
      "\r",
      "  3%|█▊                                                         | 6209/199549 [01:39<1:05:18, 49.34it/s]"
     ]
    },
    {
     "name": "stdout",
     "output_type": "stream",
     "text": [
      "prediction time:0.007001638412475586\n",
      "sort time:0.004003763198852539\n",
      "prediction time:0.007001399993896484\n",
      "sort time:0.0030007362365722656\n",
      "prediction time:0.010002851486206055\n",
      "sort time:0.003000020980834961\n",
      "prediction time:0.009001731872558594\n",
      "sort time:0.0040013790130615234\n",
      "prediction time:0.007001638412475586\n",
      "sort time:0.0030002593994140625\n",
      "prediction time:0.009001970291137695\n",
      "sort time:0.003000497817993164\n",
      "prediction time:0.00800180435180664\n",
      "sort time:0.0030007362365722656\n",
      "prediction time:0.007001638412475586\n",
      "sort time:0.0030007362365722656\n",
      "prediction time:0.008002042770385742\n",
      "sort time:0.003000497817993164\n",
      "prediction time:0.006001472473144531\n",
      "sort time:0.003000497817993164"
     ]
    },
    {
     "name": "stderr",
     "output_type": "stream",
     "text": [
      "  3%|█▊                                                         | 6221/199549 [01:39<1:03:41, 50.59it/s]"
     ]
    },
    {
     "name": "stdout",
     "output_type": "stream",
     "text": [
      "\n",
      "prediction time:0.007001638412475586\n",
      "sort time:0.0030007362365722656\n",
      "prediction time:0.007001638412475586\n",
      "sort time:0.00400090217590332\n",
      "prediction time:0.00800180435180664\n",
      "sort time:0.0030007362365722656\n",
      "prediction time:0.00800180435180664\n",
      "sort time:0.003000974655151367\n",
      "prediction time:0.007001399993896484\n",
      "sort time:0.0030007362365722656\n",
      "prediction time:0.007001161575317383\n",
      "sort time:0.004000425338745117\n",
      "prediction time:0.009001970291137695\n",
      "sort time:0.004001140594482422\n",
      "prediction time:0.008002042770385742\n",
      "sort time:0.003000497817993164\n",
      "prediction time:0.007001399993896484\n",
      "sort time:0.0030007362365722656\n"
     ]
    },
    {
     "name": "stderr",
     "output_type": "stream",
     "text": [
      "  3%|█▊                                                         | 6233/199549 [01:39<1:04:56, 49.61it/s]"
     ]
    },
    {
     "name": "stdout",
     "output_type": "stream",
     "text": [
      "prediction time:0.009001731872558594\n",
      "sort time:0.004001140594482422\n",
      "prediction time:0.009001970291137695\n",
      "sort time:0.0030007362365722656\n",
      "prediction time:0.0070018768310546875\n",
      "sort time:0.003000497817993164\n",
      "prediction time:0.007001638412475586\n",
      "sort time:0.00400090217590332\n",
      "prediction time:0.008001565933227539\n",
      "sort time:0.003000497817993164\n",
      "prediction time:0.009002208709716797\n",
      "sort time:0.00400090217590332\n",
      "prediction time:0.00800180435180664\n",
      "sort time:0.0030007362365722656\n",
      "prediction time:0.009001731872558594\n",
      "sort time:0.004001617431640625\n",
      "prediction time:0.00800180435180664\n",
      "sort time:0.0030002593994140625\n",
      "prediction time:0.009001970291137695\n",
      "sort time:0.003000497817993164"
     ]
    },
    {
     "name": "stderr",
     "output_type": "stream",
     "text": [
      "\r",
      "  3%|█▊                                                         | 6238/199549 [01:39<1:06:53, 48.17it/s]"
     ]
    },
    {
     "name": "stdout",
     "output_type": "stream",
     "text": [
      "\n",
      "prediction time:0.00800180435180664\n",
      "sort time:0.0030007362365722656\n",
      "prediction time:0.009001731872558594\n",
      "sort time:0.004000663757324219\n",
      "prediction time:0.00800180435180664\n",
      "sort time:0.004001140594482422\n",
      "prediction time:0.009001970291137695\n",
      "sort time:0.0040013790130615234\n",
      "prediction time:0.00800180435180664\n",
      "sort time:0.004000663757324219\n",
      "prediction time:0.009002685546875\n",
      "sort time:0.0030002593994140625\n",
      "prediction time:0.009001731872558594\n",
      "sort time:0.004001140594482422\n",
      "prediction time:0.007001399993896484\n",
      "sort time:0.004001617431640625\n",
      "prediction time:0.009001970291137695\n"
     ]
    },
    {
     "name": "stderr",
     "output_type": "stream",
     "text": [
      "  3%|█▊                                                         | 6249/199549 [01:39<1:06:35, 48.38it/s]"
     ]
    },
    {
     "name": "stdout",
     "output_type": "stream",
     "text": [
      "sort time:0.005001068115234375\n",
      "prediction time:0.007001399993896484\n",
      "sort time:0.0030007362365722656\n",
      "prediction time:0.007000923156738281\n",
      "sort time:0.00400090217590332\n",
      "prediction time:0.007001638412475586\n",
      "sort time:0.0040013790130615234\n",
      "prediction time:0.008002042770385742\n",
      "sort time:0.0030002593994140625\n",
      "prediction time:0.006001472473144531\n",
      "sort time:0.0030007362365722656\n",
      "prediction time:0.00800180435180664\n",
      "sort time:0.003000497817993164\n",
      "prediction time:0.008002042770385742\n",
      "sort time:0.004000663757324219\n",
      "prediction time:0.008002042770385742\n",
      "sort time:0.0030002593994140625\n",
      "prediction time:0.006001710891723633\n",
      "sort time:0.00400090217590332\n",
      "prediction time:0.008002042770385742\n",
      "sort time:0.0030012130737304688"
     ]
    },
    {
     "name": "stderr",
     "output_type": "stream",
     "text": [
      "  3%|█▊                                                         | 6259/199549 [01:40<1:06:57, 48.11it/s]"
     ]
    },
    {
     "name": "stdout",
     "output_type": "stream",
     "text": [
      "\n",
      "prediction time:0.008002042770385742\n",
      "sort time:0.0030002593994140625\n",
      "prediction time:0.009002208709716797\n",
      "sort time:0.004001140594482422\n",
      "prediction time:0.007001638412475586\n",
      "sort time:0.004000663757324219\n",
      "prediction time:0.008001565933227539\n",
      "sort time:0.00400090217590332\n",
      "prediction time:0.009001970291137695\n",
      "sort time:0.004000663757324219\n",
      "prediction time:0.008002042770385742\n",
      "sort time:0.004000425338745117\n",
      "prediction time:0.008002042770385742\n",
      "sort time:0.00400090217590332\n",
      "prediction time:0.007001638412475586\n",
      "sort time:0.004000663757324219\n",
      "prediction time:0.007001638412475586\n"
     ]
    },
    {
     "name": "stderr",
     "output_type": "stream",
     "text": [
      "  3%|█▊                                                         | 6269/199549 [01:40<1:08:31, 47.01it/s]"
     ]
    },
    {
     "name": "stdout",
     "output_type": "stream",
     "text": [
      "sort time:0.00400090217590332\n",
      "prediction time:0.009002208709716797\n",
      "sort time:0.004000425338745117\n",
      "prediction time:0.01000213623046875\n",
      "sort time:0.00400090217590332\n",
      "prediction time:0.008002042770385742\n",
      "sort time:0.004000425338745117\n",
      "prediction time:0.007001161575317383\n",
      "sort time:0.0030002593994140625\n",
      "prediction time:0.009002685546875\n",
      "sort time:0.004000425338745117\n",
      "prediction time:0.007002353668212891\n",
      "sort time:0.003999948501586914\n",
      "prediction time:0.009001970291137695\n",
      "sort time:0.0040018558502197266\n",
      "prediction time:0.00800180435180664\n",
      "sort time:0.00400090217590332\n",
      "prediction time:0.01000213623046875\n"
     ]
    },
    {
     "name": "stderr",
     "output_type": "stream",
     "text": [
      "\r",
      "  3%|█▊                                                         | 6274/199549 [01:40<1:09:24, 46.41it/s]"
     ]
    },
    {
     "name": "stdout",
     "output_type": "stream",
     "text": [
      "sort time:0.00400090217590332\n",
      "prediction time:0.007001399993896484\n",
      "sort time:0.004001140594482422\n",
      "prediction time:0.008002281188964844\n",
      "sort time:0.004000186920166016\n",
      "prediction time:0.009001970291137695\n",
      "sort time:0.0030007362365722656\n",
      "prediction time:0.007002353668212891\n",
      "sort time:0.003000497817993164\n",
      "prediction time:0.00800180435180664\n",
      "sort time:0.003001689910888672\n",
      "prediction time:0.009001731872558594\n",
      "sort time:0.003000497817993164\n",
      "prediction time:0.007000923156738281\n",
      "sort time:0.0030007362365722656\n",
      "prediction time:0.008002042770385742\n",
      "sort time:0.004000663757324219"
     ]
    },
    {
     "name": "stderr",
     "output_type": "stream",
     "text": [
      "  3%|█▊                                                         | 6284/199549 [01:40<1:09:19, 46.46it/s]"
     ]
    },
    {
     "name": "stdout",
     "output_type": "stream",
     "text": [
      "\n",
      "prediction time:0.007001638412475586\n",
      "sort time:0.003000497817993164\n",
      "prediction time:0.008002996444702148\n",
      "sort time:0.0039997100830078125\n",
      "prediction time:0.008001565933227539\n",
      "sort time:0.004001140594482422\n",
      "prediction time:0.007001638412475586\n",
      "sort time:0.004000663757324219\n",
      "prediction time:0.008001327514648438\n",
      "sort time:0.00400090217590332\n",
      "prediction time:0.00800180435180664\n",
      "sort time:0.004001140594482422\n",
      "prediction time:0.00800180435180664\n",
      "sort time:0.00400090217590332\n",
      "prediction time:0.00800180435180664\n",
      "sort time:0.005001068115234375\n",
      "prediction time:0.009001731872558594\n"
     ]
    },
    {
     "name": "stderr",
     "output_type": "stream",
     "text": [
      "  3%|█▊                                                         | 6294/199549 [01:40<1:13:14, 43.97it/s]"
     ]
    },
    {
     "name": "stdout",
     "output_type": "stream",
     "text": [
      "sort time:0.0050013065338134766\n",
      "prediction time:0.00800180435180664\n",
      "sort time:0.0040013790130615234\n",
      "prediction time:0.009001731872558594\n",
      "sort time:0.0030014514923095703\n",
      "prediction time:0.0070018768310546875\n",
      "sort time:0.004001140594482422\n",
      "prediction time:0.008001565933227539\n",
      "sort time:0.0050008296966552734\n",
      "prediction time:0.01000213623046875\n",
      "sort time:0.005001544952392578\n",
      "prediction time:0.008001565933227539\n",
      "sort time:0.004001140594482422\n",
      "prediction time:0.008001565933227539\n",
      "sort time:0.005001544952392578\n",
      "prediction time:0.00800180435180664\n"
     ]
    },
    {
     "name": "stderr",
     "output_type": "stream",
     "text": [
      "  3%|█▊                                                         | 6305/199549 [01:41<1:08:55, 46.72it/s]"
     ]
    },
    {
     "name": "stdout",
     "output_type": "stream",
     "text": [
      "sort time:0.004001140594482422\n",
      "prediction time:0.007001399993896484\n",
      "sort time:0.003000497817993164\n",
      "prediction time:0.007001161575317383\n",
      "sort time:0.0040013790130615234\n",
      "prediction time:0.00800180435180664\n",
      "sort time:0.00400090217590332\n",
      "prediction time:0.00800180435180664\n",
      "sort time:0.0030007362365722656\n",
      "prediction time:0.009001970291137695\n",
      "sort time:0.00400090217590332\n",
      "prediction time:0.007001638412475586\n",
      "sort time:0.0030007362365722656\n",
      "prediction time:0.00800180435180664\n",
      "sort time:0.003000497817993164\n",
      "prediction time:0.0070018768310546875\n",
      "sort time:0.0030002593994140625\n",
      "prediction time:0.0070018768310546875\n",
      "sort time:0.004001140594482422\n"
     ]
    },
    {
     "name": "stderr",
     "output_type": "stream",
     "text": [
      "\r",
      "  3%|█▊                                                         | 6311/199549 [01:41<1:06:24, 48.50it/s]"
     ]
    },
    {
     "name": "stdout",
     "output_type": "stream",
     "text": [
      "prediction time:0.010002613067626953\n",
      "sort time:0.0030007362365722656\n",
      "prediction time:0.008002042770385742\n",
      "sort time:0.0040013790130615234\n",
      "prediction time:0.008001565933227539\n",
      "sort time:0.003000974655151367\n",
      "prediction time:0.007001399993896484\n",
      "sort time:0.003000497817993164\n",
      "prediction time:0.007001638412475586\n",
      "sort time:0.00400090217590332\n",
      "prediction time:0.00600123405456543\n",
      "sort time:0.00400090217590332\n",
      "prediction time:0.009001970291137695\n",
      "sort time:0.004001140594482422\n",
      "prediction time:0.008002042770385742\n",
      "sort time:0.003000974655151367\n",
      "prediction time:0.0070018768310546875\n",
      "sort time:0.003000497817993164\n",
      "prediction time:0.009001970291137695\n",
      "sort time:0.004001140594482422\n",
      "prediction time:0.008001565933227539\n"
     ]
    },
    {
     "name": "stderr",
     "output_type": "stream",
     "text": [
      "  3%|█▊                                                         | 6321/199549 [01:41<1:07:19, 47.84it/s]"
     ]
    },
    {
     "name": "stdout",
     "output_type": "stream",
     "text": [
      "sort time:0.00400090217590332\n",
      "prediction time:0.008002519607543945\n",
      "sort time:0.0030002593994140625\n",
      "prediction time:0.00900125503540039\n",
      "sort time:0.0030007362365722656\n",
      "prediction time:0.007001638412475586\n",
      "sort time:0.004000663757324219\n",
      "prediction time:0.007000923156738281\n",
      "sort time:0.00400090217590332\n",
      "prediction time:0.007001399993896484\n",
      "sort time:0.004000425338745117\n",
      "prediction time:0.009001016616821289\n",
      "sort time:0.0040013790130615234\n",
      "prediction time:0.007001399993896484\n",
      "sort time:0.0030007362365722656\n",
      "prediction time:0.007001161575317383\n",
      "sort time:0.003000974655151367\n",
      "prediction time:0.009001731872558594\n"
     ]
    },
    {
     "name": "stderr",
     "output_type": "stream",
     "text": [
      "  3%|█▊                                                         | 6331/199549 [01:41<1:08:26, 47.05it/s]"
     ]
    },
    {
     "name": "stdout",
     "output_type": "stream",
     "text": [
      "sort time:0.0040013790130615234\n",
      "prediction time:0.00800180435180664\n",
      "sort time:0.0030007362365722656\n",
      "prediction time:0.009001970291137695\n",
      "sort time:0.00400090217590332\n",
      "prediction time:0.008001327514648438\n",
      "sort time:0.004000663757324219\n",
      "prediction time:0.008000850677490234\n",
      "sort time:0.0030007362365722656\n",
      "prediction time:0.009001970291137695\n",
      "sort time:0.004000425338745117\n",
      "prediction time:0.007001399993896484\n",
      "sort time:0.00400090217590332\n",
      "prediction time:0.008001565933227539\n",
      "sort time:0.003000497817993164\n",
      "prediction time:0.007001161575317383\n",
      "sort time:0.004001140594482422\n",
      "prediction time:0.007001638412475586\n",
      "sort time:0.003000497817993164"
     ]
    },
    {
     "name": "stderr",
     "output_type": "stream",
     "text": [
      "  3%|█▊                                                         | 6341/199549 [01:41<1:10:28, 45.69it/s]"
     ]
    },
    {
     "name": "stdout",
     "output_type": "stream",
     "text": [
      "\n",
      "prediction time:0.00800180435180664\n",
      "sort time:0.003000974655151367\n",
      "prediction time:0.008002042770385742\n",
      "sort time:0.004001140594482422\n",
      "prediction time:0.008002042770385742\n",
      "sort time:0.003000974655151367\n",
      "prediction time:0.00800180435180664\n",
      "sort time:0.004000663757324219\n",
      "prediction time:0.008001565933227539\n",
      "sort time:0.00400090217590332\n",
      "prediction time:0.008002519607543945\n",
      "sort time:0.004000425338745117\n",
      "prediction time:0.008001327514648438\n",
      "sort time:0.0030007362365722656\n",
      "prediction time:0.008002281188964844\n",
      "sort time:0.00400090217590332"
     ]
    },
    {
     "name": "stderr",
     "output_type": "stream",
     "text": [
      "\r",
      "  3%|█▉                                                         | 6346/199549 [01:42<1:12:41, 44.29it/s]"
     ]
    },
    {
     "name": "stdout",
     "output_type": "stream",
     "text": [
      "\n",
      "prediction time:0.00800180435180664\n",
      "sort time:0.004000663757324219\n",
      "prediction time:0.008002042770385742\n",
      "sort time:0.005000591278076172\n",
      "prediction time:0.008002281188964844\n",
      "sort time:0.00500178337097168\n",
      "prediction time:0.009001731872558594\n",
      "sort time:0.00400090217590332\n",
      "prediction time:0.010002374649047852\n",
      "sort time:0.00400090217590332\n",
      "prediction time:0.007002115249633789\n",
      "sort time:0.004001140594482422\n",
      "prediction time:0.009002447128295898\n",
      "sort time:0.004000425338745117\n",
      "prediction time:0.0070018768310546875\n"
     ]
    },
    {
     "name": "stderr",
     "output_type": "stream",
     "text": [
      "  3%|█▉                                                         | 6356/199549 [01:42<1:11:35, 44.98it/s]"
     ]
    },
    {
     "name": "stdout",
     "output_type": "stream",
     "text": [
      "sort time:0.004000425338745117\n",
      "prediction time:0.007001638412475586\n",
      "sort time:0.004000663757324219\n",
      "prediction time:0.008001565933227539\n",
      "sort time:0.004000663757324219\n",
      "prediction time:0.007001638412475586\n",
      "sort time:0.0030007362365722656\n",
      "prediction time:0.00800180435180664\n",
      "sort time:0.0030007362365722656\n",
      "prediction time:0.007001399993896484\n",
      "sort time:0.0040013790130615234\n",
      "prediction time:0.007001638412475586\n",
      "sort time:0.0030007362365722656\n",
      "prediction time:0.009002447128295898\n",
      "sort time:0.004000663757324219\n",
      "prediction time:0.007001399993896484\n",
      "sort time:0.004001140594482422\n",
      "prediction time:0.009002447128295898\n"
     ]
    },
    {
     "name": "stderr",
     "output_type": "stream",
     "text": [
      "  3%|█▉                                                         | 6367/199549 [01:42<1:08:46, 46.82it/s]"
     ]
    },
    {
     "name": "stdout",
     "output_type": "stream",
     "text": [
      "sort time:0.003000497817993164\n",
      "prediction time:0.009001731872558594\n",
      "sort time:0.0040013790130615234\n",
      "prediction time:0.008001565933227539\n",
      "sort time:0.003000497817993164\n",
      "prediction time:0.007001399993896484\n",
      "sort time:0.0030007362365722656\n",
      "prediction time:0.0070018768310546875\n",
      "sort time:0.00400090217590332\n",
      "prediction time:0.007001399993896484\n",
      "sort time:0.0040013790130615234\n",
      "prediction time:0.00800180435180664\n",
      "sort time:0.003000497817993164\n",
      "prediction time:0.00600123405456543\n",
      "sort time:0.004000663757324219\n",
      "prediction time:0.007001399993896484\n",
      "sort time:0.0040013790130615234\n",
      "prediction time:0.007001638412475586\n"
     ]
    },
    {
     "name": "stderr",
     "output_type": "stream",
     "text": [
      "\r",
      "  3%|█▉                                                         | 6372/199549 [01:42<1:08:59, 46.66it/s]"
     ]
    },
    {
     "name": "stdout",
     "output_type": "stream",
     "text": [
      "sort time:0.004001140594482422\n",
      "prediction time:0.00800180435180664\n",
      "sort time:0.00400090217590332\n",
      "prediction time:0.009001970291137695\n",
      "sort time:0.004000663757324219\n",
      "prediction time:0.007001638412475586\n",
      "sort time:0.0030007362365722656\n",
      "prediction time:0.008002042770385742\n",
      "sort time:0.0030002593994140625\n",
      "prediction time:0.00800180435180664\n",
      "sort time:0.003000497817993164\n",
      "prediction time:0.007000923156738281\n",
      "sort time:0.004000663757324219\n",
      "prediction time:0.00800180435180664\n",
      "sort time:0.0030007362365722656\n",
      "prediction time:0.007001638412475586\n",
      "sort time:0.0030007362365722656\n",
      "prediction time:0.00800180435180664\n"
     ]
    },
    {
     "name": "stderr",
     "output_type": "stream",
     "text": [
      "  3%|█▉                                                         | 6384/199549 [01:42<1:05:37, 49.05it/s]"
     ]
    },
    {
     "name": "stdout",
     "output_type": "stream",
     "text": [
      "sort time:0.003000497817993164\n",
      "prediction time:0.007001638412475586\n",
      "sort time:0.00400090217590332\n",
      "prediction time:0.009001970291137695\n",
      "sort time:0.004001140594482422\n",
      "prediction time:0.00600123405456543\n",
      "sort time:0.004001140594482422\n",
      "prediction time:0.007001638412475586\n",
      "sort time:0.003000497817993164\n",
      "prediction time:0.007001638412475586\n",
      "sort time:0.00400090217590332\n",
      "prediction time:0.00800180435180664\n",
      "sort time:0.003000497817993164\n",
      "prediction time:0.00800180435180664\n",
      "sort time:0.003000974655151367\n",
      "prediction time:0.0070018768310546875\n",
      "sort time:0.004001140594482422\n",
      "prediction time:0.006001472473144531\n",
      "sort time:0.003000974655151367\n",
      "prediction time:0.008002042770385742\n"
     ]
    },
    {
     "name": "stderr",
     "output_type": "stream",
     "text": [
      "  3%|█▉                                                         | 6394/199549 [01:43<1:08:49, 46.77it/s]"
     ]
    },
    {
     "name": "stdout",
     "output_type": "stream",
     "text": [
      "sort time:0.00400090217590332\n",
      "prediction time:0.007001638412475586\n",
      "sort time:0.004000663757324219\n",
      "prediction time:0.009002208709716797\n",
      "sort time:0.0030007362365722656\n",
      "prediction time:0.008002042770385742\n",
      "sort time:0.00500035285949707\n",
      "prediction time:0.009002447128295898\n",
      "sort time:0.0050008296966552734\n",
      "prediction time:0.008001327514648438\n",
      "sort time:0.0040013790130615234\n",
      "prediction time:0.00800180435180664\n",
      "sort time:0.00400090217590332\n",
      "prediction time:0.00800180435180664\n",
      "sort time:0.0030012130737304688\n",
      "prediction time:0.00800180435180664\n",
      "sort time:0.004001140594482422\n",
      "prediction time:0.00800180435180664\n"
     ]
    },
    {
     "name": "stderr",
     "output_type": "stream",
     "text": [
      "\r",
      "  3%|█▉                                                         | 6399/199549 [01:43<1:12:11, 44.60it/s]"
     ]
    },
    {
     "name": "stdout",
     "output_type": "stream",
     "text": [
      "sort time:0.0050013065338134766\n",
      "prediction time:0.009002208709716797\n",
      "sort time:0.00500035285949707\n",
      "prediction time:0.009001493453979492\n",
      "sort time:0.004000663757324219\n",
      "prediction time:0.009001970291137695\n",
      "sort time:0.004001140594482422\n",
      "prediction time:0.009001731872558594\n",
      "sort time:0.004001140594482422\n",
      "prediction time:0.007001638412475586\n",
      "sort time:0.003000497817993164\n",
      "prediction time:0.007001638412475586\n",
      "sort time:0.00400090217590332\n",
      "prediction time:0.007002115249633789\n",
      "sort time:0.004000425338745117\n",
      "prediction time:0.009001731872558594\n"
     ]
    },
    {
     "name": "stderr",
     "output_type": "stream",
     "text": [
      "  3%|█▉                                                         | 6409/199549 [01:43<1:11:11, 45.22it/s]"
     ]
    },
    {
     "name": "stdout",
     "output_type": "stream",
     "text": [
      "sort time:0.004001617431640625\n",
      "prediction time:0.008002281188964844\n",
      "sort time:0.004001140594482422\n",
      "prediction time:0.008002281188964844\n",
      "sort time:0.004000663757324219\n",
      "prediction time:0.009001970291137695\n",
      "sort time:0.00400090217590332\n",
      "prediction time:0.007001638412475586\n",
      "sort time:0.00400090217590332\n",
      "prediction time:0.008001565933227539\n",
      "sort time:0.004001140594482422\n",
      "prediction time:0.009002208709716797\n",
      "sort time:0.003000974655151367\n",
      "prediction time:0.009002208709716797\n",
      "sort time:0.004000663757324219\n",
      "prediction time:0.007001638412475586\n",
      "sort time:0.0029997825622558594\n",
      "prediction time:0.007001638412475586\n",
      "sort time:0.003000497817993164"
     ]
    },
    {
     "name": "stderr",
     "output_type": "stream",
     "text": [
      "  3%|█▉                                                         | 6419/199549 [01:43<1:09:35, 46.25it/s]"
     ]
    },
    {
     "name": "stdout",
     "output_type": "stream",
     "text": [
      "\n",
      "prediction time:0.008001565933227539\n",
      "sort time:0.0030012130737304688\n",
      "prediction time:0.0070018768310546875\n",
      "sort time:0.004000663757324219\n",
      "prediction time:0.00600123405456543\n",
      "sort time:0.00400090217590332\n",
      "prediction time:0.008002042770385742\n",
      "sort time:0.004001140594482422\n",
      "prediction time:0.00800180435180664\n",
      "sort time:0.003000497817993164\n",
      "prediction time:0.007001399993896484\n",
      "sort time:0.003000497817993164\n",
      "prediction time:0.009002208709716797\n",
      "sort time:0.003000497817993164\n",
      "prediction time:0.0070018768310546875\n",
      "sort time:0.003000020980834961\n",
      "prediction time:0.007001399993896484\n"
     ]
    },
    {
     "name": "stderr",
     "output_type": "stream",
     "text": [
      "  3%|█▉                                                         | 6429/199549 [01:43<1:08:53, 46.72it/s]"
     ]
    },
    {
     "name": "stdout",
     "output_type": "stream",
     "text": [
      "sort time:0.004001140594482422\n",
      "prediction time:0.007001161575317383\n",
      "sort time:0.004001140594482422\n",
      "prediction time:0.007001638412475586\n",
      "sort time:0.0030007362365722656\n",
      "prediction time:0.009002208709716797\n",
      "sort time:0.004000663757324219\n",
      "prediction time:0.00900125503540039\n",
      "sort time:0.004001140594482422\n",
      "prediction time:0.008001327514648438\n",
      "sort time:0.0030007362365722656\n",
      "prediction time:0.007001399993896484\n",
      "sort time:0.00400090217590332\n",
      "prediction time:0.007001638412475586\n",
      "sort time:0.00400090217590332\n",
      "prediction time:0.008002042770385742\n",
      "sort time:0.003000497817993164\n",
      "prediction time:0.00800180435180664\n"
     ]
    },
    {
     "name": "stderr",
     "output_type": "stream",
     "text": [
      "  3%|█▉                                                         | 6439/199549 [01:44<1:07:42, 47.53it/s]"
     ]
    },
    {
     "name": "stdout",
     "output_type": "stream",
     "text": [
      "sort time:0.004001140594482422\n",
      "prediction time:0.007001399993896484\n",
      "sort time:0.0030012130737304688\n",
      "prediction time:0.009001731872558594\n",
      "sort time:0.0030014514923095703\n",
      "prediction time:0.007001638412475586\n",
      "sort time:0.0030012130737304688\n",
      "prediction time:0.007001638412475586\n",
      "sort time:0.00400090217590332\n",
      "prediction time:0.009001970291137695\n",
      "sort time:0.0030007362365722656\n",
      "prediction time:0.007001399993896484\n",
      "sort time:0.003000497817993164\n",
      "prediction time:0.00800180435180664\n",
      "sort time:0.003000497817993164\n",
      "prediction time:0.007001638412475586\n",
      "sort time:0.004001140594482422\n",
      "prediction time:0.00800180435180664\n",
      "sort time:0.0030012130737304688\n",
      "prediction time:0.007001161575317383\n"
     ]
    },
    {
     "name": "stderr",
     "output_type": "stream",
     "text": [
      "  3%|█▉                                                         | 6449/199549 [01:44<1:09:04, 46.59it/s]"
     ]
    },
    {
     "name": "stdout",
     "output_type": "stream",
     "text": [
      "sort time:0.004001140594482422\n",
      "prediction time:0.008002042770385742\n",
      "sort time:0.00400090217590332\n",
      "prediction time:0.008001565933227539\n",
      "sort time:0.003000497817993164\n",
      "prediction time:0.00800180435180664\n",
      "sort time:0.0030012130737304688\n",
      "prediction time:0.009002208709716797\n",
      "sort time:0.004001140594482422\n",
      "prediction time:0.0070018768310546875\n",
      "sort time:0.004000425338745117\n",
      "prediction time:0.008002042770385742\n",
      "sort time:0.00400090217590332\n",
      "prediction time:0.008002281188964844\n",
      "sort time:0.004001140594482422\n",
      "prediction time:0.008000850677490234\n",
      "sort time:0.00400090217590332\n"
     ]
    },
    {
     "name": "stderr",
     "output_type": "stream",
     "text": [
      "\r",
      "  3%|█▉                                                         | 6455/199549 [01:44<1:06:45, 48.21it/s]"
     ]
    },
    {
     "name": "stdout",
     "output_type": "stream",
     "text": [
      "prediction time:0.007001399993896484\n",
      "sort time:0.005001544952392578\n",
      "prediction time:0.0070018768310546875\n",
      "sort time:0.004000663757324219\n",
      "prediction time:0.006001710891723633\n",
      "sort time:0.003000974655151367\n",
      "prediction time:0.007001399993896484\n",
      "sort time:0.003000497817993164\n",
      "prediction time:0.00600123405456543\n",
      "sort time:0.0030007362365722656\n",
      "prediction time:0.00600123405456543\n",
      "sort time:0.00400090217590332\n",
      "prediction time:0.009001493453979492\n",
      "sort time:0.00400090217590332\n",
      "prediction time:0.007001399993896484\n",
      "sort time:0.00400090217590332\n",
      "prediction time:0.008001327514648438\n",
      "sort time:0.00400090217590332\n",
      "prediction time:0.007001638412475586\n",
      "sort time:0.0030007362365722656\n"
     ]
    },
    {
     "name": "stderr",
     "output_type": "stream",
     "text": [
      "  3%|█▉                                                         | 6466/199549 [01:44<1:06:53, 48.10it/s]"
     ]
    },
    {
     "name": "stdout",
     "output_type": "stream",
     "text": [
      "prediction time:0.009001970291137695\n",
      "sort time:0.004001140594482422\n",
      "prediction time:0.00800180435180664\n",
      "sort time:0.003000497817993164\n",
      "prediction time:0.0070018768310546875\n",
      "sort time:0.00400090217590332\n",
      "prediction time:0.010001897811889648\n",
      "sort time:0.00400090217590332\n",
      "prediction time:0.007001638412475586\n",
      "sort time:0.0030012130737304688\n",
      "prediction time:0.00800180435180664\n",
      "sort time:0.004000425338745117\n",
      "prediction time:0.007001161575317383\n",
      "sort time:0.004001140594482422\n",
      "prediction time:0.00800180435180664\n",
      "sort time:0.004000663757324219\n",
      "prediction time:0.007000923156738281\n",
      "sort time:0.0030002593994140625\n",
      "prediction time:0.007001638412475586\n"
     ]
    },
    {
     "name": "stderr",
     "output_type": "stream",
     "text": [
      "  3%|█▉                                                         | 6476/199549 [01:44<1:08:22, 47.06it/s]"
     ]
    },
    {
     "name": "stdout",
     "output_type": "stream",
     "text": [
      "sort time:0.004000663757324219\n",
      "prediction time:0.01000213623046875\n",
      "sort time:0.00400090217590332\n",
      "prediction time:0.008001565933227539\n",
      "sort time:0.0030007362365722656\n",
      "prediction time:0.009002208709716797\n",
      "sort time:0.004000663757324219\n",
      "prediction time:0.0070018768310546875\n",
      "sort time:0.003000497817993164\n",
      "prediction time:0.00800180435180664\n",
      "sort time:0.004001140594482422\n",
      "prediction time:0.009001970291137695\n",
      "sort time:0.00400090217590332\n",
      "prediction time:0.007001399993896484\n",
      "sort time:0.00400090217590332\n",
      "prediction time:0.008001565933227539\n",
      "sort time:0.00400090217590332\n",
      "prediction time:0.007001399993896484\n"
     ]
    },
    {
     "name": "stderr",
     "output_type": "stream",
     "text": [
      "  3%|█▉                                                         | 6486/199549 [01:45<1:08:45, 46.80it/s]"
     ]
    },
    {
     "name": "stdout",
     "output_type": "stream",
     "text": [
      "sort time:0.004001140594482422\n",
      "prediction time:0.00800180435180664\n",
      "sort time:0.0030007362365722656\n",
      "prediction time:0.00800180435180664\n",
      "sort time:0.00400090217590332\n",
      "prediction time:0.009002447128295898\n",
      "sort time:0.00400090217590332\n",
      "prediction time:0.007001638412475586\n",
      "sort time:0.0030007362365722656\n",
      "prediction time:0.007001638412475586\n",
      "sort time:0.003000974655151367\n",
      "prediction time:0.009001970291137695\n",
      "sort time:0.004000663757324219\n",
      "prediction time:0.007001638412475586\n",
      "sort time:0.00400090217590332\n",
      "prediction time:0.008002042770385742\n",
      "sort time:0.0030002593994140625\n",
      "prediction time:0.008001565933227539\n"
     ]
    },
    {
     "name": "stderr",
     "output_type": "stream",
     "text": [
      "\r",
      "  3%|█▉                                                         | 6491/199549 [01:45<1:11:16, 45.15it/s]"
     ]
    },
    {
     "name": "stdout",
     "output_type": "stream",
     "text": [
      "sort time:0.00400090217590332\n",
      "prediction time:0.00800180435180664\n",
      "sort time:0.003000974655151367\n",
      "prediction time:0.007001638412475586\n",
      "sort time:0.003000497817993164\n",
      "prediction time:0.008001565933227539\n",
      "sort time:0.00400090217590332\n",
      "prediction time:0.010002851486206055\n",
      "sort time:0.00400090217590332\n",
      "prediction time:0.009002208709716797\n",
      "sort time:0.004001140594482422\n",
      "prediction time:0.009001731872558594\n",
      "sort time:0.004000425338745117\n",
      "prediction time:0.007001161575317383\n",
      "sort time:0.003000974655151367\n",
      "prediction time:0.008001089096069336\n",
      "sort time:0.0030012130737304688"
     ]
    },
    {
     "name": "stderr",
     "output_type": "stream",
     "text": [
      "  3%|█▉                                                         | 6501/199549 [01:45<1:14:33, 43.15it/s]"
     ]
    },
    {
     "name": "stdout",
     "output_type": "stream",
     "text": [
      "\n",
      "prediction time:0.008002758026123047\n",
      "sort time:0.004001617431640625\n",
      "prediction time:0.010001897811889648\n",
      "sort time:0.004001140594482422\n",
      "prediction time:0.010002374649047852\n",
      "sort time:0.005002021789550781\n",
      "prediction time:0.009002208709716797\n",
      "sort time:0.005002260208129883\n",
      "prediction time:0.007001399993896484\n",
      "sort time:0.003000974655151367\n",
      "prediction time:0.007001638412475586\n",
      "sort time:0.0030002593994140625\n",
      "prediction time:0.009001970291137695\n",
      "sort time:0.003000974655151367\n",
      "prediction time:0.008002042770385742\n",
      "sort time:0.003000974655151367"
     ]
    },
    {
     "name": "stderr",
     "output_type": "stream",
     "text": [
      "  3%|█▉                                                         | 6511/199549 [01:45<1:11:19, 45.11it/s]"
     ]
    },
    {
     "name": "stdout",
     "output_type": "stream",
     "text": [
      "\n",
      "prediction time:0.007001399993896484\n",
      "sort time:0.004001140594482422\n",
      "prediction time:0.007001399993896484\n",
      "sort time:0.003000974655151367\n",
      "prediction time:0.007001638412475586\n",
      "sort time:0.00400090217590332\n",
      "prediction time:0.007001638412475586\n",
      "sort time:0.003000497817993164\n",
      "prediction time:0.009001970291137695\n",
      "sort time:0.00400090217590332\n",
      "prediction time:0.007001638412475586\n",
      "sort time:0.0030012130737304688\n",
      "prediction time:0.00800180435180664\n",
      "sort time:0.00400090217590332\n",
      "prediction time:0.00800180435180664\n",
      "sort time:0.004001140594482422\n",
      "prediction time:0.009002208709716797\n",
      "sort time:0.004000663757324219"
     ]
    },
    {
     "name": "stderr",
     "output_type": "stream",
     "text": [
      "\r",
      "  3%|█▉                                                         | 6516/199549 [01:45<1:11:21, 45.09it/s]"
     ]
    },
    {
     "name": "stdout",
     "output_type": "stream",
     "text": [
      "\n",
      "prediction time:0.008001565933227539\n",
      "sort time:0.003000497817993164\n",
      "prediction time:0.007001638412475586\n",
      "sort time:0.00400090217590332\n",
      "prediction time:0.009001731872558594\n",
      "sort time:0.0040013790130615234\n",
      "prediction time:0.007000923156738281\n",
      "sort time:0.004001140594482422\n",
      "prediction time:0.009002208709716797\n",
      "sort time:0.00400090217590332\n",
      "prediction time:0.009001970291137695\n",
      "sort time:0.003000497817993164\n",
      "prediction time:0.007001638412475586\n",
      "sort time:0.00400090217590332\n",
      "prediction time:0.007001638412475586\n",
      "sort time:0.0030007362365722656\n",
      "prediction time:0.009001970291137695\n",
      "sort time:0.00400090217590332"
     ]
    },
    {
     "name": "stderr",
     "output_type": "stream",
     "text": [
      "  3%|█▉                                                         | 6527/199549 [01:45<1:08:45, 46.79it/s]"
     ]
    },
    {
     "name": "stdout",
     "output_type": "stream",
     "text": [
      "\n",
      "prediction time:0.008002519607543945\n",
      "sort time:0.0030002593994140625\n",
      "prediction time:0.007001399993896484\n",
      "sort time:0.003000974655151367\n",
      "prediction time:0.008002042770385742\n",
      "sort time:0.00400090217590332\n",
      "prediction time:0.0070018768310546875\n",
      "sort time:0.0030007362365722656\n",
      "prediction time:0.00800180435180664\n",
      "sort time:0.003000497817993164\n",
      "prediction time:0.00800180435180664\n",
      "sort time:0.004000663757324219\n",
      "prediction time:0.009002208709716797\n",
      "sort time:0.003000497817993164\n",
      "prediction time:0.010002374649047852\n",
      "sort time:0.0030007362365722656\n",
      "prediction time:0.00800180435180664\n",
      "sort time:0.0030014514923095703\n",
      "prediction time:0.00800180435180664\n"
     ]
    },
    {
     "name": "stderr",
     "output_type": "stream",
     "text": [
      "  3%|█▉                                                         | 6538/199549 [01:46<1:05:38, 49.01it/s]"
     ]
    },
    {
     "name": "stdout",
     "output_type": "stream",
     "text": [
      "sort time:0.00400090217590332\n",
      "prediction time:0.008002281188964844\n",
      "sort time:0.0030007362365722656\n",
      "prediction time:0.00800180435180664\n",
      "sort time:0.004001140594482422\n",
      "prediction time:0.00800180435180664\n",
      "sort time:0.0030007362365722656\n",
      "prediction time:0.007001161575317383\n",
      "sort time:0.0030012130737304688\n",
      "prediction time:0.008002042770385742\n",
      "sort time:0.0030002593994140625\n",
      "prediction time:0.007001638412475586\n",
      "sort time:0.0030007362365722656\n",
      "prediction time:0.007001638412475586\n",
      "sort time:0.003000497817993164\n",
      "prediction time:0.007002115249633789\n",
      "sort time:0.003000497817993164\n",
      "prediction time:0.007001638412475586\n"
     ]
    },
    {
     "name": "stderr",
     "output_type": "stream",
     "text": [
      "  3%|█▉                                                         | 6548/199549 [01:46<1:07:04, 47.96it/s]"
     ]
    },
    {
     "name": "stdout",
     "output_type": "stream",
     "text": [
      "sort time:0.00400090217590332\n",
      "prediction time:0.00800180435180664\n",
      "sort time:0.004001617431640625\n",
      "prediction time:0.007001638412475586\n",
      "sort time:0.003000497817993164\n",
      "prediction time:0.007001399993896484\n",
      "sort time:0.004001140594482422\n",
      "prediction time:0.00800180435180664\n",
      "sort time:0.004000663757324219\n",
      "prediction time:0.00800180435180664\n",
      "sort time:0.00400090217590332\n",
      "prediction time:0.00800180435180664\n",
      "sort time:0.00400090217590332\n",
      "prediction time:0.00800180435180664\n",
      "sort time:0.0040013790130615234\n",
      "prediction time:0.00800180435180664\n",
      "sort time:0.004001140594482422\n",
      "prediction time:0.008002281188964844\n"
     ]
    },
    {
     "name": "stderr",
     "output_type": "stream",
     "text": [
      "\r",
      "  3%|█▉                                                         | 6553/199549 [01:46<1:08:31, 46.94it/s]"
     ]
    },
    {
     "name": "stdout",
     "output_type": "stream",
     "text": [
      "sort time:0.0040013790130615234\n",
      "prediction time:0.008002758026123047\n",
      "sort time:0.004000425338745117\n",
      "prediction time:0.008001089096069336\n",
      "sort time:0.004000663757324219\n",
      "prediction time:0.009001970291137695\n",
      "sort time:0.00400090217590332\n",
      "prediction time:0.007001638412475586\n",
      "sort time:0.004000663757324219\n",
      "prediction time:0.009001970291137695\n",
      "sort time:0.0040013790130615234\n",
      "prediction time:0.008001089096069336\n",
      "sort time:0.004000663757324219\n",
      "prediction time:0.0070018768310546875\n",
      "sort time:0.0030002593994140625\n",
      "prediction time:0.009001970291137695\n",
      "sort time:0.00400090217590332\n",
      "prediction time:0.008002281188964844\n"
     ]
    },
    {
     "name": "stderr",
     "output_type": "stream",
     "text": [
      "  3%|█▉                                                         | 6563/199549 [01:46<1:07:28, 47.67it/s]"
     ]
    },
    {
     "name": "stdout",
     "output_type": "stream",
     "text": [
      "sort time:0.004000663757324219\n",
      "prediction time:0.007001161575317383\n",
      "sort time:0.0040013790130615234\n",
      "prediction time:0.008002042770385742\n",
      "sort time:0.0030002593994140625\n",
      "prediction time:0.007001399993896484\n",
      "sort time:0.00400090217590332\n",
      "prediction time:0.01000213623046875\n",
      "sort time:0.00400090217590332\n",
      "prediction time:0.00800180435180664\n",
      "sort time:0.0030007362365722656\n",
      "prediction time:0.010002374649047852\n",
      "sort time:0.004000663757324219\n",
      "prediction time:0.009001970291137695\n",
      "sort time:0.003000497817993164\n",
      "prediction time:0.007001638412475586\n",
      "sort time:0.00400090217590332\n",
      "prediction time:0.009001970291137695\n",
      "sort time:0.0030007362365722656\n"
     ]
    },
    {
     "name": "stderr",
     "output_type": "stream",
     "text": [
      "  3%|█▉                                                         | 6574/199549 [01:46<1:04:58, 49.49it/s]"
     ]
    },
    {
     "name": "stdout",
     "output_type": "stream",
     "text": [
      "prediction time:0.007001399993896484\n",
      "sort time:0.003000497817993164\n",
      "prediction time:0.007001638412475586\n",
      "sort time:0.004001140594482422\n",
      "prediction time:0.007001638412475586\n",
      "sort time:0.004001140594482422\n",
      "prediction time:0.00800180435180664\n",
      "sort time:0.003000497817993164\n",
      "prediction time:0.006001472473144531\n",
      "sort time:0.004001617431640625\n",
      "prediction time:0.00800180435180664\n",
      "sort time:0.0030007362365722656\n",
      "prediction time:0.00600123405456543\n",
      "sort time:0.0030007362365722656\n",
      "prediction time:0.008002042770385742\n",
      "sort time:0.004000663757324219\n",
      "prediction time:0.006001472473144531\n",
      "sort time:0.00400090217590332\n",
      "prediction time:0.008002281188964844\n",
      "sort time:0.004000663757324219\n",
      "prediction time:0.008002042770385742\n",
      "sort time:0.004000663757324219"
     ]
    },
    {
     "name": "stderr",
     "output_type": "stream",
     "text": [
      "  3%|█▉                                                         | 6585/199549 [01:47<1:05:14, 49.30it/s]"
     ]
    },
    {
     "name": "stdout",
     "output_type": "stream",
     "text": [
      "\n",
      "prediction time:0.007001399993896484\n",
      "sort time:0.00400090217590332\n",
      "prediction time:0.00800180435180664\n",
      "sort time:0.0030007362365722656\n",
      "prediction time:0.007001161575317383\n",
      "sort time:0.00400090217590332\n",
      "prediction time:0.008002281188964844\n",
      "sort time:0.003000497817993164\n",
      "prediction time:0.007001638412475586\n",
      "sort time:0.0030007362365722656\n",
      "prediction time:0.009002447128295898\n",
      "sort time:0.003000020980834961\n",
      "prediction time:0.007001399993896484\n",
      "sort time:0.0030007362365722656\n",
      "prediction time:0.009001970291137695\n",
      "sort time:0.004001140594482422\n",
      "prediction time:0.00800180435180664\n",
      "sort time:0.0030007362365722656"
     ]
    },
    {
     "name": "stderr",
     "output_type": "stream",
     "text": [
      "  3%|█▉                                                         | 6595/199549 [01:47<1:06:55, 48.05it/s]"
     ]
    },
    {
     "name": "stdout",
     "output_type": "stream",
     "text": [
      "\n",
      "prediction time:0.007001399993896484\n",
      "sort time:0.0030007362365722656\n",
      "prediction time:0.009001970291137695\n",
      "sort time:0.003000974655151367\n",
      "prediction time:0.007001638412475586\n",
      "sort time:0.004000663757324219\n",
      "prediction time:0.007001638412475586\n",
      "sort time:0.003000497817993164\n",
      "prediction time:0.007001399993896484\n",
      "sort time:0.0030002593994140625\n",
      "prediction time:0.007001638412475586\n",
      "sort time:0.004000663757324219\n",
      "prediction time:0.007001399993896484\n",
      "sort time:0.00400090217590332\n",
      "prediction time:0.008001565933227539\n",
      "sort time:0.004000663757324219\n"
     ]
    },
    {
     "name": "stderr",
     "output_type": "stream",
     "text": [
      "\r",
      "  3%|█▉                                                         | 6600/199549 [01:47<1:07:51, 47.39it/s]"
     ]
    },
    {
     "name": "stdout",
     "output_type": "stream",
     "text": [
      "prediction time:0.009001731872558594\n",
      "sort time:0.00400090217590332\n",
      "prediction time:0.007001399993896484\n",
      "sort time:0.004001617431640625\n",
      "prediction time:0.0070018768310546875\n",
      "sort time:0.0030002593994140625\n",
      "prediction time:0.009002447128295898\n",
      "sort time:0.003000497817993164\n",
      "prediction time:0.0070018768310546875\n",
      "sort time:0.00400090217590332\n",
      "prediction time:0.00800180435180664\n",
      "sort time:0.0040013790130615234\n",
      "prediction time:0.008002042770385742\n",
      "sort time:0.00400090217590332\n",
      "prediction time:0.0070018768310546875\n",
      "sort time:0.005001068115234375\n",
      "prediction time:0.007002115249633789\n"
     ]
    },
    {
     "name": "stderr",
     "output_type": "stream",
     "text": [
      "  3%|█▉                                                         | 6610/199549 [01:47<1:07:56, 47.32it/s]"
     ]
    },
    {
     "name": "stdout",
     "output_type": "stream",
     "text": [
      "sort time:0.004000425338745117\n",
      "prediction time:0.0070018768310546875\n",
      "sort time:0.0050008296966552734\n",
      "prediction time:0.009001731872558594\n",
      "sort time:0.004000663757324219\n",
      "prediction time:0.007001399993896484\n",
      "sort time:0.003000497817993164\n",
      "prediction time:0.007001638412475586\n",
      "sort time:0.004001140594482422\n",
      "prediction time:0.00800180435180664\n",
      "sort time:0.003000497817993164\n",
      "prediction time:0.006001472473144531\n",
      "sort time:0.00400090217590332\n",
      "prediction time:0.009002208709716797\n",
      "sort time:0.004001140594482422\n",
      "prediction time:0.007001638412475586\n",
      "sort time:0.003000497817993164\n",
      "prediction time:0.00800180435180664\n",
      "sort time:0.0030007362365722656\n",
      "prediction time:0.006001472473144531\n"
     ]
    },
    {
     "name": "stderr",
     "output_type": "stream",
     "text": [
      "  3%|█▉                                                         | 6621/199549 [01:47<1:05:13, 49.29it/s]"
     ]
    },
    {
     "name": "stdout",
     "output_type": "stream",
     "text": [
      "sort time:0.00400090217590332\n",
      "prediction time:0.009002208709716797\n",
      "sort time:0.0030002593994140625\n",
      "prediction time:0.00800180435180664\n",
      "sort time:0.00400090217590332\n",
      "prediction time:0.0070018768310546875\n",
      "sort time:0.003000497817993164\n",
      "prediction time:0.00800180435180664\n",
      "sort time:0.00400090217590332\n",
      "prediction time:0.0070018768310546875\n",
      "sort time:0.003000974655151367\n",
      "prediction time:0.007001161575317383\n",
      "sort time:0.0030007362365722656\n",
      "prediction time:0.0070018768310546875\n",
      "sort time:0.0030002593994140625\n",
      "prediction time:0.009002685546875\n",
      "sort time:0.004000186920166016\n",
      "prediction time:0.008001327514648438\n",
      "sort time:0.0030007362365722656\n",
      "prediction time:0.007001638412475586\n",
      "sort time:0.004001140594482422"
     ]
    },
    {
     "name": "stderr",
     "output_type": "stream",
     "text": [
      "  3%|█▉                                                         | 6631/199549 [01:48<1:05:09, 49.35it/s]"
     ]
    },
    {
     "name": "stdout",
     "output_type": "stream",
     "text": [
      "\n",
      "prediction time:0.007002115249633789\n",
      "sort time:0.004000186920166016\n",
      "prediction time:0.007002115249633789\n",
      "sort time:0.0030007362365722656\n",
      "prediction time:0.007001638412475586\n",
      "sort time:0.0030007362365722656\n",
      "prediction time:0.008002042770385742\n",
      "sort time:0.004001140594482422\n",
      "prediction time:0.00800180435180664\n",
      "sort time:0.0040013790130615234\n",
      "prediction time:0.0070018768310546875\n",
      "sort time:0.0030007362365722656\n",
      "prediction time:0.007001638412475586\n",
      "sort time:0.00400090217590332\n",
      "prediction time:0.0070018768310546875\n",
      "sort time:0.0030007362365722656\n",
      "prediction time:0.009001731872558594\n"
     ]
    },
    {
     "name": "stderr",
     "output_type": "stream",
     "text": [
      "\r",
      "  3%|█▉                                                         | 6636/199549 [01:48<1:06:25, 48.41it/s]"
     ]
    },
    {
     "name": "stdout",
     "output_type": "stream",
     "text": [
      "sort time:0.0040013790130615234\n",
      "prediction time:0.007001638412475586\n",
      "sort time:0.004001140594482422\n",
      "prediction time:0.008002042770385742\n",
      "sort time:0.0040013790130615234\n",
      "prediction time:0.006000995635986328\n",
      "sort time:0.003000974655151367\n",
      "prediction time:0.009001970291137695\n",
      "sort time:0.00400090217590332\n",
      "prediction time:0.007001399993896484\n",
      "sort time:0.003000497817993164\n",
      "prediction time:0.00800180435180664\n",
      "sort time:0.003000497817993164\n",
      "prediction time:0.007001638412475586\n",
      "sort time:0.0030007362365722656\n",
      "prediction time:0.009001970291137695\n",
      "sort time:0.0030007362365722656\n",
      "prediction time:0.00800180435180664\n",
      "sort time:0.0030002593994140625"
     ]
    },
    {
     "name": "stderr",
     "output_type": "stream",
     "text": [
      "  3%|█▉                                                         | 6647/199549 [01:48<1:06:57, 48.01it/s]"
     ]
    },
    {
     "name": "stdout",
     "output_type": "stream",
     "text": [
      "\n",
      "prediction time:0.008002042770385742\n",
      "sort time:0.004000663757324219\n",
      "prediction time:0.009001970291137695\n",
      "sort time:0.004000663757324219\n",
      "prediction time:0.00800180435180664\n",
      "sort time:0.0030007362365722656\n",
      "prediction time:0.007001399993896484\n",
      "sort time:0.00400090217590332\n",
      "prediction time:0.00700068473815918\n",
      "sort time:0.00400090217590332\n",
      "prediction time:0.007001638412475586\n",
      "sort time:0.00400090217590332\n",
      "prediction time:0.007001399993896484\n",
      "sort time:0.004000663757324219\n",
      "prediction time:0.00800180435180664\n",
      "sort time:0.003000497817993164\n",
      "prediction time:0.009002447128295898\n"
     ]
    },
    {
     "name": "stderr",
     "output_type": "stream",
     "text": [
      "  3%|█▉                                                         | 6657/199549 [01:48<1:08:52, 46.68it/s]"
     ]
    },
    {
     "name": "stdout",
     "output_type": "stream",
     "text": [
      "sort time:0.004000663757324219\n",
      "prediction time:0.008002042770385742\n",
      "sort time:0.004000663757324219\n",
      "prediction time:0.0070018768310546875\n",
      "sort time:0.00400090217590332\n",
      "prediction time:0.008001565933227539\n",
      "sort time:0.004001617431640625\n",
      "prediction time:0.00800180435180664\n",
      "sort time:0.004001140594482422\n",
      "prediction time:0.008002042770385742\n",
      "sort time:0.0050013065338134766\n",
      "prediction time:0.0070018768310546875\n",
      "sort time:0.004000663757324219\n",
      "prediction time:0.009002208709716797\n",
      "sort time:0.003000497817993164\n",
      "prediction time:0.007001638412475586\n",
      "sort time:0.003000974655151367"
     ]
    },
    {
     "name": "stderr",
     "output_type": "stream",
     "text": [
      "  3%|█▉                                                         | 6668/199549 [01:48<1:04:49, 49.59it/s]"
     ]
    },
    {
     "name": "stdout",
     "output_type": "stream",
     "text": [
      "\n",
      "prediction time:0.009002208709716797\n",
      "sort time:0.00400090217590332\n",
      "prediction time:0.00800180435180664\n",
      "sort time:0.00400090217590332\n",
      "prediction time:0.006001472473144531\n",
      "sort time:0.004000663757324219\n",
      "prediction time:0.008002042770385742\n",
      "sort time:0.00400090217590332\n",
      "prediction time:0.007001399993896484\n",
      "sort time:0.004001140594482422\n",
      "prediction time:0.00800180435180664\n",
      "sort time:0.003000497817993164\n",
      "prediction time:0.00600123405456543\n",
      "sort time:0.0030007362365722656\n",
      "prediction time:0.007001638412475586\n",
      "sort time:0.004000663757324219\n",
      "prediction time:0.007001638412475586\n",
      "sort time:0.003000974655151367\n",
      "prediction time:0.007001399993896484\n"
     ]
    },
    {
     "name": "stderr",
     "output_type": "stream",
     "text": [
      "\r",
      "  3%|█▉                                                         | 6674/199549 [01:48<1:03:47, 50.39it/s]"
     ]
    },
    {
     "name": "stdout",
     "output_type": "stream",
     "text": [
      "sort time:0.00400090217590332\n",
      "prediction time:0.007001638412475586\n",
      "sort time:0.0030007362365722656\n",
      "prediction time:0.007001399993896484\n",
      "sort time:0.0030007362365722656\n",
      "prediction time:0.007001399993896484\n",
      "sort time:0.004001140594482422\n",
      "prediction time:0.008002042770385742\n",
      "sort time:0.003000497817993164\n",
      "prediction time:0.00800180435180664\n",
      "sort time:0.003000497817993164\n",
      "prediction time:0.009001493453979492\n",
      "sort time:0.004001140594482422\n",
      "prediction time:0.007001638412475586\n",
      "sort time:0.00400090217590332\n",
      "prediction time:0.008002519607543945\n",
      "sort time:0.004000663757324219\n",
      "prediction time:0.006000041961669922\n",
      "sort time:0.004001140594482422\n",
      "prediction time:0.008001565933227539\n",
      "sort time:0.0030007362365722656"
     ]
    },
    {
     "name": "stderr",
     "output_type": "stream",
     "text": [
      "  3%|█▉                                                         | 6686/199549 [01:49<1:03:09, 50.89it/s]"
     ]
    },
    {
     "name": "stdout",
     "output_type": "stream",
     "text": [
      "\n",
      "prediction time:0.007001638412475586\n",
      "sort time:0.003000974655151367\n",
      "prediction time:0.007001399993896484\n",
      "sort time:0.004001140594482422\n",
      "prediction time:0.008002042770385742\n",
      "sort time:0.00400090217590332\n",
      "prediction time:0.007001638412475586\n",
      "sort time:0.003000497817993164\n",
      "prediction time:0.00800180435180664\n",
      "sort time:0.004001140594482422\n",
      "prediction time:0.007001638412475586\n",
      "sort time:0.003000497817993164\n",
      "prediction time:0.007001638412475586\n",
      "sort time:0.0030007362365722656\n",
      "prediction time:0.008002042770385742\n",
      "sort time:0.004000663757324219\n",
      "prediction time:0.00800180435180664\n",
      "sort time:0.004000663757324219\n",
      "prediction time:0.008002042770385742\n",
      "sort time:0.003000497817993164"
     ]
    },
    {
     "name": "stderr",
     "output_type": "stream",
     "text": [
      "  3%|█▉                                                         | 6698/199549 [01:49<1:04:09, 50.10it/s]"
     ]
    },
    {
     "name": "stdout",
     "output_type": "stream",
     "text": [
      "\n",
      "prediction time:0.007001161575317383\n",
      "sort time:0.004000663757324219\n",
      "prediction time:0.006001472473144531\n",
      "sort time:0.004000663757324219\n",
      "prediction time:0.008001565933227539\n",
      "sort time:0.0030007362365722656\n",
      "prediction time:0.008002281188964844\n",
      "sort time:0.003000020980834961\n",
      "prediction time:0.008001565933227539\n",
      "sort time:0.00400090217590332\n",
      "prediction time:0.007001638412475586\n",
      "sort time:0.004000663757324219\n",
      "prediction time:0.00800180435180664\n",
      "sort time:0.003000497817993164\n",
      "prediction time:0.007001638412475586\n",
      "sort time:0.00400090217590332\n",
      "prediction time:0.00800180435180664\n",
      "sort time:0.003000497817993164\n"
     ]
    },
    {
     "name": "stderr",
     "output_type": "stream",
     "text": [
      "\r",
      "  3%|█▉                                                         | 6704/199549 [01:49<1:04:50, 49.56it/s]"
     ]
    },
    {
     "name": "stdout",
     "output_type": "stream",
     "text": [
      "prediction time:0.009003162384033203\n",
      "sort time:0.004000425338745117\n",
      "prediction time:0.00800180435180664\n",
      "sort time:0.004001617431640625\n",
      "prediction time:0.007001161575317383\n",
      "sort time:0.004001140594482422\n",
      "prediction time:0.0070018768310546875\n",
      "sort time:0.003000497817993164\n",
      "prediction time:0.008002042770385742\n",
      "sort time:0.00400090217590332\n",
      "prediction time:0.007001399993896484\n",
      "sort time:0.0030007362365722656\n",
      "prediction time:0.008000373840332031\n",
      "sort time:0.00400090217590332\n",
      "prediction time:0.00700068473815918\n",
      "sort time:0.0030002593994140625\n",
      "prediction time:0.007001399993896484\n",
      "sort time:0.00400090217590332\n",
      "prediction time:0.008002042770385742\n"
     ]
    },
    {
     "name": "stderr",
     "output_type": "stream",
     "text": [
      "  3%|█▉                                                         | 6714/199549 [01:49<1:07:11, 47.84it/s]"
     ]
    },
    {
     "name": "stdout",
     "output_type": "stream",
     "text": [
      "sort time:0.0050008296966552734\n",
      "prediction time:0.007001399993896484\n",
      "sort time:0.004001140594482422\n",
      "prediction time:0.009001970291137695\n",
      "sort time:0.005002021789550781\n",
      "prediction time:0.009001731872558594\n",
      "sort time:0.003000974655151367\n",
      "prediction time:0.007001638412475586\n",
      "sort time:0.004000663757324219\n",
      "prediction time:0.009001970291137695\n",
      "sort time:0.0030007362365722656\n",
      "prediction time:0.00800180435180664\n",
      "sort time:0.0030007362365722656\n",
      "prediction time:0.009001970291137695\n",
      "sort time:0.003000497817993164\n",
      "prediction time:0.008001565933227539\n",
      "sort time:0.003000497817993164\n",
      "prediction time:0.00800180435180664\n",
      "sort time:0.003000497817993164"
     ]
    },
    {
     "name": "stderr",
     "output_type": "stream",
     "text": [
      "  3%|█▉                                                         | 6725/199549 [01:50<1:05:03, 49.40it/s]"
     ]
    },
    {
     "name": "stdout",
     "output_type": "stream",
     "text": [
      "\n",
      "prediction time:0.00800180435180664\n",
      "sort time:0.004000663757324219\n",
      "prediction time:0.0070018768310546875\n",
      "sort time:0.003000497817993164\n",
      "prediction time:0.00800180435180664\n",
      "sort time:0.003000974655151367\n",
      "prediction time:0.00800180435180664\n",
      "sort time:0.003000497817993164\n",
      "prediction time:0.00600123405456543\n",
      "sort time:0.003000974655151367\n",
      "prediction time:0.007001638412475586\n",
      "sort time:0.0030007362365722656\n",
      "prediction time:0.007001399993896484\n",
      "sort time:0.003000974655151367\n",
      "prediction time:0.00800180435180664\n",
      "sort time:0.003000497817993164\n",
      "prediction time:0.008002042770385742\n",
      "sort time:0.004000663757324219"
     ]
    },
    {
     "name": "stderr",
     "output_type": "stream",
     "text": [
      "\r",
      "  3%|█▉                                                         | 6731/199549 [01:50<1:04:07, 50.11it/s]"
     ]
    },
    {
     "name": "stdout",
     "output_type": "stream",
     "text": [
      "\n",
      "prediction time:0.007002115249633789\n",
      "sort time:0.004000663757324219\n",
      "prediction time:0.007001161575317383\n",
      "sort time:0.0030007362365722656\n",
      "prediction time:0.006000995635986328\n",
      "sort time:0.0030007362365722656\n",
      "prediction time:0.008002281188964844\n",
      "sort time:0.003000497817993164\n",
      "prediction time:0.0070018768310546875\n",
      "sort time:0.0030002593994140625\n",
      "prediction time:0.009001970291137695\n",
      "sort time:0.003000497817993164\n",
      "prediction time:0.007001638412475586\n",
      "sort time:0.003000497817993164\n",
      "prediction time:0.0070018768310546875\n",
      "sort time:0.004001140594482422\n",
      "prediction time:0.007001399993896484\n",
      "sort time:0.0030002593994140625\n",
      "prediction time:0.006001472473144531\n",
      "sort time:0.0030007362365722656"
     ]
    },
    {
     "name": "stderr",
     "output_type": "stream",
     "text": [
      "  3%|█▉                                                         | 6743/199549 [01:50<1:03:13, 50.83it/s]"
     ]
    },
    {
     "name": "stdout",
     "output_type": "stream",
     "text": [
      "\n",
      "prediction time:0.008002042770385742\n",
      "sort time:0.003000497817993164\n",
      "prediction time:0.009001970291137695\n",
      "sort time:0.00400090217590332\n",
      "prediction time:0.00600123405456543\n",
      "sort time:0.004001140594482422\n",
      "prediction time:0.00800180435180664\n",
      "sort time:0.004000663757324219\n",
      "prediction time:0.007001161575317383\n",
      "sort time:0.0030007362365722656\n",
      "prediction time:0.007001638412475586\n",
      "sort time:0.00400090217590332\n",
      "prediction time:0.006001472473144531\n",
      "sort time:0.0030007362365722656\n",
      "prediction time:0.009002208709716797\n",
      "sort time:0.003000497817993164\n",
      "prediction time:0.00800180435180664\n",
      "sort time:0.004001140594482422\n",
      "prediction time:0.007001161575317383\n",
      "sort time:0.0030012130737304688"
     ]
    },
    {
     "name": "stderr",
     "output_type": "stream",
     "text": [
      "  3%|█▉                                                         | 6755/199549 [01:50<1:04:51, 49.54it/s]"
     ]
    },
    {
     "name": "stdout",
     "output_type": "stream",
     "text": [
      "\n",
      "prediction time:0.008001565933227539\n",
      "sort time:0.004000425338745117\n",
      "prediction time:0.0060007572174072266\n",
      "sort time:0.003000974655151367\n",
      "prediction time:0.009001970291137695\n",
      "sort time:0.0030007362365722656\n",
      "prediction time:0.009001970291137695\n",
      "sort time:0.004001140594482422\n",
      "prediction time:0.007001638412475586\n",
      "sort time:0.003000497817993164\n",
      "prediction time:0.008001327514648438\n",
      "sort time:0.0030007362365722656\n",
      "prediction time:0.008001089096069336\n",
      "sort time:0.004001140594482422\n",
      "prediction time:0.007001161575317383\n",
      "sort time:0.004001140594482422\n",
      "prediction time:0.00800180435180664\n",
      "sort time:0.004000663757324219\n"
     ]
    },
    {
     "name": "stderr",
     "output_type": "stream",
     "text": [
      "\r",
      "  3%|█▉                                                         | 6760/199549 [01:50<1:05:23, 49.14it/s]"
     ]
    },
    {
     "name": "stdout",
     "output_type": "stream",
     "text": [
      "prediction time:0.009002208709716797\n",
      "sort time:0.00400090217590332\n",
      "prediction time:0.007000923156738281\n",
      "sort time:0.004000663757324219\n",
      "prediction time:0.007001399993896484\n",
      "sort time:0.0040013790130615234\n",
      "prediction time:0.009002208709716797\n",
      "sort time:0.003000497817993164\n",
      "prediction time:0.007001638412475586\n",
      "sort time:0.00400090217590332\n",
      "prediction time:0.008002519607543945\n",
      "sort time:0.00400090217590332\n",
      "prediction time:0.008002042770385742\n",
      "sort time:0.004001140594482422\n",
      "prediction time:0.008001565933227539\n",
      "sort time:0.0050013065338134766\n",
      "prediction time:0.009002208709716797\n",
      "sort time:0.004000425338745117\n",
      "prediction time:0.007002115249633789\n",
      "sort time:0.0030007362365722656"
     ]
    },
    {
     "name": "stderr",
     "output_type": "stream",
     "text": [
      "  3%|██                                                         | 6771/199549 [01:50<1:05:53, 48.77it/s]"
     ]
    },
    {
     "name": "stdout",
     "output_type": "stream",
     "text": [
      "\n",
      "prediction time:0.0070018768310546875\n",
      "sort time:0.004000663757324219\n",
      "prediction time:0.007001638412475586\n",
      "sort time:0.003000497817993164\n",
      "prediction time:0.007001399993896484\n",
      "sort time:0.0030007362365722656\n",
      "prediction time:0.007001638412475586\n",
      "sort time:0.003000974655151367\n",
      "prediction time:0.007001399993896484\n",
      "sort time:0.0030007362365722656\n",
      "prediction time:0.0070018768310546875\n",
      "sort time:0.003000497817993164\n",
      "prediction time:0.009002208709716797\n",
      "sort time:0.004000663757324219\n",
      "prediction time:0.008002042770385742\n",
      "sort time:0.004000425338745117\n",
      "prediction time:0.007001638412475586\n",
      "sort time:0.003000497817993164"
     ]
    },
    {
     "name": "stderr",
     "output_type": "stream",
     "text": [
      "  3%|██                                                         | 6782/199549 [01:51<1:04:32, 49.78it/s]"
     ]
    },
    {
     "name": "stdout",
     "output_type": "stream",
     "text": [
      "\n",
      "prediction time:0.008002281188964844\n",
      "sort time:0.0040013790130615234\n",
      "prediction time:0.007001638412475586\n",
      "sort time:0.003000497817993164\n",
      "prediction time:0.01000213623046875\n",
      "sort time:0.004001617431640625\n",
      "prediction time:0.008001565933227539\n",
      "sort time:0.003000497817993164\n",
      "prediction time:0.009001970291137695\n",
      "sort time:0.0030007362365722656\n",
      "prediction time:0.006001472473144531\n",
      "sort time:0.0030007362365722656\n",
      "prediction time:0.007001399993896484\n",
      "sort time:0.00400090217590332\n",
      "prediction time:0.007001161575317383\n",
      "sort time:0.003000497817993164\n",
      "prediction time:0.007000923156738281\n",
      "sort time:0.003000497817993164\n",
      "prediction time:0.00800180435180664\n"
     ]
    },
    {
     "name": "stderr",
     "output_type": "stream",
     "text": [
      "\r",
      "  3%|██                                                         | 6787/199549 [01:51<1:04:28, 49.83it/s]"
     ]
    },
    {
     "name": "stdout",
     "output_type": "stream",
     "text": [
      "sort time:0.004001140594482422\n",
      "prediction time:0.007001638412475586\n",
      "sort time:0.004000663757324219\n",
      "prediction time:0.008002042770385742\n",
      "sort time:0.003000497817993164\n",
      "prediction time:0.0070018768310546875\n",
      "sort time:0.003000974655151367\n",
      "prediction time:0.007001638412475586\n",
      "sort time:0.004000663757324219\n",
      "prediction time:0.007001399993896484\n",
      "sort time:0.0040013790130615234\n",
      "prediction time:0.00600123405456543\n",
      "sort time:0.00400090217590332\n",
      "prediction time:0.007001399993896484\n",
      "sort time:0.00400090217590332\n",
      "prediction time:0.007001638412475586\n",
      "sort time:0.0030007362365722656\n",
      "prediction time:0.008002519607543945\n"
     ]
    },
    {
     "name": "stderr",
     "output_type": "stream",
     "text": [
      "  3%|██                                                         | 6799/199549 [01:51<1:03:16, 50.77it/s]"
     ]
    },
    {
     "name": "stdout",
     "output_type": "stream",
     "text": [
      "sort time:0.004000186920166016\n",
      "prediction time:0.007001161575317383\n",
      "sort time:0.0030002593994140625\n",
      "prediction time:0.0070018768310546875\n",
      "sort time:0.0030007362365722656\n",
      "prediction time:0.007001638412475586\n",
      "sort time:0.003000497817993164\n",
      "prediction time:0.0070018768310546875\n",
      "sort time:0.003000497817993164\n",
      "prediction time:0.00800180435180664\n",
      "sort time:0.003000497817993164\n",
      "prediction time:0.007001638412475586\n",
      "sort time:0.004001140594482422\n",
      "prediction time:0.0070018768310546875\n",
      "sort time:0.00400090217590332\n",
      "prediction time:0.00800180435180664\n",
      "sort time:0.003000497817993164\n",
      "prediction time:0.006001710891723633\n",
      "sort time:0.003000497817993164\n",
      "prediction time:0.007001638412475586\n",
      "sort time:0.0030007362365722656"
     ]
    },
    {
     "name": "stderr",
     "output_type": "stream",
     "text": [
      "  3%|██                                                         | 6811/199549 [01:51<1:04:32, 49.77it/s]"
     ]
    },
    {
     "name": "stdout",
     "output_type": "stream",
     "text": [
      "\n",
      "prediction time:0.007001638412475586\n",
      "sort time:0.003000497817993164\n",
      "prediction time:0.00800180435180664\n",
      "sort time:0.0030007362365722656\n",
      "prediction time:0.009002208709716797\n",
      "sort time:0.004000663757324219\n",
      "prediction time:0.007002115249633789\n",
      "sort time:0.004000663757324219\n",
      "prediction time:0.008001565933227539\n",
      "sort time:0.0030007362365722656\n",
      "prediction time:0.00700068473815918\n",
      "sort time:0.00400090217590332\n",
      "prediction time:0.008002042770385742\n",
      "sort time:0.003000497817993164\n",
      "prediction time:0.008001327514648438\n",
      "sort time:0.003000974655151367\n",
      "prediction time:0.007001638412475586\n"
     ]
    },
    {
     "name": "stderr",
     "output_type": "stream",
     "text": [
      "\r",
      "  3%|██                                                         | 6816/199549 [01:51<1:05:19, 49.17it/s]"
     ]
    },
    {
     "name": "stdout",
     "output_type": "stream",
     "text": [
      "sort time:0.0030007362365722656\n",
      "prediction time:0.00800180435180664\n",
      "sort time:0.003000497817993164\n",
      "prediction time:0.007001399993896484\n",
      "sort time:0.003000497817993164\n",
      "prediction time:0.0070018768310546875\n",
      "sort time:0.00400090217590332\n",
      "prediction time:0.007001638412475586\n",
      "sort time:0.00400090217590332\n",
      "prediction time:0.008002281188964844\n",
      "sort time:0.004000663757324219\n",
      "prediction time:0.009001731872558594\n",
      "sort time:0.0050013065338134766\n",
      "prediction time:0.0070018768310546875\n",
      "sort time:0.004000663757324219\n",
      "prediction time:0.007001638412475586\n",
      "sort time:0.00400090217590332\n",
      "prediction time:0.008002281188964844\n"
     ]
    },
    {
     "name": "stderr",
     "output_type": "stream",
     "text": [
      "  3%|██                                                         | 6826/199549 [01:52<1:06:08, 48.57it/s]"
     ]
    },
    {
     "name": "stdout",
     "output_type": "stream",
     "text": [
      "sort time:0.004000425338745117\n",
      "prediction time:0.0070018768310546875\n",
      "sort time:0.00400090217590332\n",
      "prediction time:0.008002042770385742\n",
      "sort time:0.0030007362365722656\n",
      "prediction time:0.009002208709716797\n",
      "sort time:0.003000497817993164\n",
      "prediction time:0.007001638412475586\n",
      "sort time:0.003000974655151367\n",
      "prediction time:0.00800180435180664\n",
      "sort time:0.0030007362365722656\n",
      "prediction time:0.008002042770385742\n",
      "sort time:0.00400090217590332\n",
      "prediction time:0.007001638412475586\n",
      "sort time:0.004000425338745117\n",
      "prediction time:0.00800180435180664\n",
      "sort time:0.0030002593994140625\n",
      "prediction time:0.00800180435180664\n",
      "sort time:0.0030007362365722656"
     ]
    },
    {
     "name": "stderr",
     "output_type": "stream",
     "text": [
      "  3%|██                                                         | 6837/199549 [01:52<1:05:02, 49.38it/s]"
     ]
    },
    {
     "name": "stdout",
     "output_type": "stream",
     "text": [
      "\n",
      "prediction time:0.009002208709716797\n",
      "sort time:0.0040013790130615234\n",
      "prediction time:0.00800180435180664\n",
      "sort time:0.004001140594482422\n",
      "prediction time:0.0070018768310546875\n",
      "sort time:0.0030007362365722656\n",
      "prediction time:0.00800180435180664\n",
      "sort time:0.003000974655151367\n",
      "prediction time:0.007001399993896484\n",
      "sort time:0.00400090217590332\n",
      "prediction time:0.007001638412475586\n",
      "sort time:0.00400090217590332\n",
      "prediction time:0.00800180435180664\n",
      "sort time:0.003000497817993164\n",
      "prediction time:0.008002281188964844\n",
      "sort time:0.004000663757324219\n",
      "prediction time:0.009001970291137695\n"
     ]
    },
    {
     "name": "stderr",
     "output_type": "stream",
     "text": [
      "  3%|██                                                         | 6847/199549 [01:52<1:05:05, 49.34it/s]"
     ]
    },
    {
     "name": "stdout",
     "output_type": "stream",
     "text": [
      "sort time:0.00400090217590332\n",
      "prediction time:0.0070018768310546875\n",
      "sort time:0.0030002593994140625\n",
      "prediction time:0.008002281188964844\n",
      "sort time:0.0030002593994140625\n",
      "prediction time:0.007001638412475586\n",
      "sort time:0.0030007362365722656\n",
      "prediction time:0.009001970291137695\n",
      "sort time:0.0030007362365722656\n",
      "prediction time:0.007001638412475586\n",
      "sort time:0.003000974655151367\n",
      "prediction time:0.009001970291137695\n",
      "sort time:0.003000497817993164\n",
      "prediction time:0.00800180435180664\n",
      "sort time:0.0030007362365722656\n",
      "prediction time:0.007001638412475586\n",
      "sort time:0.00400090217590332\n",
      "prediction time:0.00800180435180664\n",
      "sort time:0.0030007362365722656\n",
      "prediction time:0.007001638412475586\n"
     ]
    },
    {
     "name": "stderr",
     "output_type": "stream",
     "text": [
      "\r",
      "  3%|██                                                         | 6852/199549 [01:52<1:05:24, 49.10it/s]"
     ]
    },
    {
     "name": "stdout",
     "output_type": "stream",
     "text": [
      "sort time:0.004000663757324219\n",
      "prediction time:0.009001731872558594\n",
      "sort time:0.00400090217590332\n",
      "prediction time:0.007001399993896484\n",
      "sort time:0.00400090217590332\n",
      "prediction time:0.007001638412475586\n",
      "sort time:0.004000663757324219\n",
      "prediction time:0.00800180435180664\n",
      "sort time:0.004000663757324219\n",
      "prediction time:0.007001161575317383\n",
      "sort time:0.0030007362365722656\n",
      "prediction time:0.00800180435180664\n",
      "sort time:0.0030007362365722656\n",
      "prediction time:0.007001399993896484\n",
      "sort time:0.0030007362365722656\n",
      "prediction time:0.007001638412475586\n",
      "sort time:0.004001140594482422\n",
      "prediction time:0.008002042770385742\n",
      "sort time:0.0030007362365722656"
     ]
    },
    {
     "name": "stderr",
     "output_type": "stream",
     "text": [
      "  3%|██                                                         | 6863/199549 [01:52<1:06:18, 48.43it/s]"
     ]
    },
    {
     "name": "stdout",
     "output_type": "stream",
     "text": [
      "\n",
      "prediction time:0.0070018768310546875\n",
      "sort time:0.004000663757324219\n",
      "prediction time:0.00800180435180664\n",
      "sort time:0.003000974655151367\n",
      "prediction time:0.00800180435180664\n",
      "sort time:0.00400090217590332\n",
      "prediction time:0.008002042770385742\n",
      "sort time:0.00400090217590332\n",
      "prediction time:0.0070018768310546875\n",
      "sort time:0.003000497817993164\n",
      "prediction time:0.009002208709716797\n",
      "sort time:0.004001140594482422\n",
      "prediction time:0.00800180435180664\n",
      "sort time:0.0030007362365722656\n",
      "prediction time:0.00800180435180664\n",
      "sort time:0.003000974655151367\n",
      "prediction time:0.009001970291137695\n"
     ]
    },
    {
     "name": "stderr",
     "output_type": "stream",
     "text": [
      "  3%|██                                                         | 6873/199549 [01:53<1:09:21, 46.30it/s]"
     ]
    },
    {
     "name": "stdout",
     "output_type": "stream",
     "text": [
      "sort time:0.004001140594482422\n",
      "prediction time:0.008001565933227539\n",
      "sort time:0.00400090217590332\n",
      "prediction time:0.008002042770385742\n",
      "sort time:0.003000497817993164\n",
      "prediction time:0.007001399993896484\n",
      "sort time:0.003000974655151367\n",
      "prediction time:0.010001897811889648\n",
      "sort time:0.005001068115234375\n",
      "prediction time:0.0070018768310546875\n",
      "sort time:0.004001617431640625\n",
      "prediction time:0.008001327514648438\n",
      "sort time:0.00400090217590332\n",
      "prediction time:0.009002208709716797\n",
      "sort time:0.00400090217590332\n",
      "prediction time:0.00800180435180664\n",
      "sort time:0.003000497817993164\n",
      "prediction time:0.00800180435180664\n"
     ]
    },
    {
     "name": "stderr",
     "output_type": "stream",
     "text": [
      "  3%|██                                                         | 6883/199549 [01:53<1:08:18, 47.00it/s]"
     ]
    },
    {
     "name": "stdout",
     "output_type": "stream",
     "text": [
      "sort time:0.00400090217590332\n",
      "prediction time:0.007001638412475586\n",
      "sort time:0.0030007362365722656\n",
      "prediction time:0.008001565933227539\n",
      "sort time:0.00400090217590332\n",
      "prediction time:0.007001399993896484\n",
      "sort time:0.004001140594482422\n",
      "prediction time:0.00800180435180664\n",
      "sort time:0.004000663757324219\n",
      "prediction time:0.007001399993896484\n",
      "sort time:0.003000974655151367\n",
      "prediction time:0.00800180435180664\n",
      "sort time:0.003000497817993164\n",
      "prediction time:0.008002042770385742\n",
      "sort time:0.003000497817993164\n",
      "prediction time:0.008001565933227539\n",
      "sort time:0.0030007362365722656\n",
      "prediction time:0.007001638412475586\n"
     ]
    },
    {
     "name": "stderr",
     "output_type": "stream",
     "text": [
      "  3%|██                                                         | 6893/199549 [01:53<1:07:23, 47.64it/s]"
     ]
    },
    {
     "name": "stdout",
     "output_type": "stream",
     "text": [
      "sort time:0.00400090217590332\n",
      "prediction time:0.007001638412475586\n",
      "sort time:0.0030012130737304688\n",
      "prediction time:0.00800180435180664\n",
      "sort time:0.003000974655151367\n",
      "prediction time:0.007001399993896484\n",
      "sort time:0.0030007362365722656\n",
      "prediction time:0.007001638412475586\n",
      "sort time:0.0030007362365722656\n",
      "prediction time:0.008002281188964844\n",
      "sort time:0.003000497817993164\n",
      "prediction time:0.00600123405456543\n",
      "sort time:0.003000497817993164\n",
      "prediction time:0.008002042770385742\n",
      "sort time:0.004000663757324219\n",
      "prediction time:0.006001472473144531\n",
      "sort time:0.0030007362365722656\n",
      "prediction time:0.008001565933227539\n",
      "sort time:0.0030007362365722656\n",
      "prediction time:0.007001638412475586\n",
      "sort time:0.00400090217590332"
     ]
    },
    {
     "name": "stderr",
     "output_type": "stream",
     "text": [
      "  3%|██                                                         | 6903/199549 [01:53<1:05:47, 48.81it/s]"
     ]
    },
    {
     "name": "stdout",
     "output_type": "stream",
     "text": [
      "\n",
      "prediction time:0.0070018768310546875\n",
      "sort time:0.00400090217590332\n",
      "prediction time:0.007001638412475586\n",
      "sort time:0.003000497817993164\n",
      "prediction time:0.007001638412475586\n",
      "sort time:0.004000663757324219\n",
      "prediction time:0.007001638412475586\n",
      "sort time:0.00400090217590332\n",
      "prediction time:0.009001970291137695\n",
      "sort time:0.0030007362365722656\n",
      "prediction time:0.006001710891723633\n",
      "sort time:0.003000497817993164\n",
      "prediction time:0.008002042770385742\n",
      "sort time:0.0030012130737304688\n",
      "prediction time:0.007001638412475586\n",
      "sort time:0.004001140594482422\n",
      "prediction time:0.00800180435180664\n",
      "sort time:0.0030007362365722656\n",
      "prediction time:0.007001399993896484\n",
      "sort time:0.003000497817993164"
     ]
    },
    {
     "name": "stderr",
     "output_type": "stream",
     "text": [
      "  3%|██                                                         | 6913/199549 [01:53<1:06:28, 48.30it/s]"
     ]
    },
    {
     "name": "stdout",
     "output_type": "stream",
     "text": [
      "\n",
      "prediction time:0.007002115249633789\n",
      "sort time:0.004000663757324219\n",
      "prediction time:0.008001565933227539\n",
      "sort time:0.004001140594482422\n",
      "prediction time:0.00600123405456543\n",
      "sort time:0.004000663757324219\n",
      "prediction time:0.007001638412475586\n",
      "sort time:0.004001140594482422\n",
      "prediction time:0.008002281188964844\n",
      "sort time:0.004000186920166016\n",
      "prediction time:0.008002042770385742\n",
      "sort time:0.003000497817993164\n",
      "prediction time:0.0070018768310546875\n",
      "sort time:0.004000663757324219\n",
      "prediction time:0.010003089904785156\n",
      "sort time:0.004000425338745117\n"
     ]
    },
    {
     "name": "stderr",
     "output_type": "stream",
     "text": [
      "\r",
      "  3%|██                                                         | 6918/199549 [01:53<1:06:45, 48.09it/s]"
     ]
    },
    {
     "name": "stdout",
     "output_type": "stream",
     "text": [
      "prediction time:0.008001565933227539\n",
      "sort time:0.0030007362365722656\n",
      "prediction time:0.00800180435180664\n",
      "sort time:0.004000663757324219\n",
      "prediction time:0.007000923156738281\n",
      "sort time:0.0040013790130615234\n",
      "prediction time:0.00800180435180664\n",
      "sort time:0.003000497817993164\n",
      "prediction time:0.007001638412475586\n",
      "sort time:0.004001140594482422\n",
      "prediction time:0.008002042770385742\n",
      "sort time:0.0030007362365722656\n",
      "prediction time:0.009001016616821289\n",
      "sort time:0.0030007362365722656\n",
      "prediction time:0.0070018768310546875\n",
      "sort time:0.00400090217590332\n",
      "prediction time:0.0070018768310546875\n",
      "sort time:0.00400090217590332\n",
      "prediction time:0.00800180435180664\n"
     ]
    },
    {
     "name": "stderr",
     "output_type": "stream",
     "text": [
      "  3%|██                                                         | 6928/199549 [01:54<1:07:39, 47.45it/s]"
     ]
    },
    {
     "name": "stdout",
     "output_type": "stream",
     "text": [
      "sort time:0.005001544952392578\n",
      "prediction time:0.011002063751220703\n",
      "sort time:0.005001068115234375\n",
      "prediction time:0.0070018768310546875\n",
      "sort time:0.004000663757324219\n",
      "prediction time:0.00600123405456543\n",
      "sort time:0.004001140594482422\n",
      "prediction time:0.00800180435180664\n",
      "sort time:0.003000497817993164\n",
      "prediction time:0.007001399993896484\n",
      "sort time:0.00400090217590332\n",
      "prediction time:0.007001638412475586\n",
      "sort time:0.004001140594482422\n",
      "prediction time:0.007001161575317383\n",
      "sort time:0.0030007362365722656\n",
      "prediction time:0.00800180435180664\n",
      "sort time:0.00400090217590332\n",
      "prediction time:0.006001472473144531\n",
      "sort time:0.0030007362365722656"
     ]
    },
    {
     "name": "stderr",
     "output_type": "stream",
     "text": [
      "  3%|██                                                         | 6939/199549 [01:54<1:05:04, 49.33it/s]"
     ]
    },
    {
     "name": "stdout",
     "output_type": "stream",
     "text": [
      "\n",
      "prediction time:0.0070018768310546875\n",
      "sort time:0.004000663757324219\n",
      "prediction time:0.009002208709716797\n",
      "sort time:0.00400090217590332\n",
      "prediction time:0.007001638412475586\n",
      "sort time:0.00400090217590332\n",
      "prediction time:0.00800180435180664\n",
      "sort time:0.003000497817993164\n",
      "prediction time:0.007001161575317383\n",
      "sort time:0.0030007362365722656\n",
      "prediction time:0.006000995635986328\n",
      "sort time:0.004001140594482422\n",
      "prediction time:0.008002042770385742\n",
      "sort time:0.003000497817993164\n",
      "prediction time:0.006001472473144531\n",
      "sort time:0.00400090217590332\n",
      "prediction time:0.009002208709716797\n",
      "sort time:0.0030007362365722656\n",
      "prediction time:0.007001399993896484\n",
      "sort time:0.00400090217590332"
     ]
    },
    {
     "name": "stderr",
     "output_type": "stream",
     "text": [
      "  3%|██                                                         | 6949/199549 [01:54<1:04:54, 49.45it/s]"
     ]
    },
    {
     "name": "stdout",
     "output_type": "stream",
     "text": [
      "\n",
      "prediction time:0.008001565933227539\n",
      "sort time:0.003000974655151367\n",
      "prediction time:0.008001565933227539\n",
      "sort time:0.00400090217590332\n",
      "prediction time:0.009001970291137695\n",
      "sort time:0.0030007362365722656\n",
      "prediction time:0.007001638412475586\n",
      "sort time:0.0030007362365722656\n",
      "prediction time:0.00800180435180664\n",
      "sort time:0.0040013790130615234\n",
      "prediction time:0.008001089096069336\n",
      "sort time:0.0030007362365722656\n",
      "prediction time:0.00800180435180664\n",
      "sort time:0.003000497817993164\n",
      "prediction time:0.006001710891723633\n",
      "sort time:0.004000663757324219\n",
      "prediction time:0.00800180435180664\n"
     ]
    },
    {
     "name": "stderr",
     "output_type": "stream",
     "text": [
      "  3%|██                                                         | 6959/199549 [01:54<1:05:04, 49.33it/s]"
     ]
    },
    {
     "name": "stdout",
     "output_type": "stream",
     "text": [
      "sort time:0.004001140594482422\n",
      "prediction time:0.0070018768310546875\n",
      "sort time:0.003000497817993164\n",
      "prediction time:0.008001565933227539\n",
      "sort time:0.004001140594482422\n",
      "prediction time:0.009001731872558594\n",
      "sort time:0.003000497817993164\n",
      "prediction time:0.007001638412475586\n",
      "sort time:0.004001617431640625\n",
      "prediction time:0.008001565933227539\n",
      "sort time:0.003000497817993164\n",
      "prediction time:0.007001638412475586\n",
      "sort time:0.0030007362365722656\n",
      "prediction time:0.00800180435180664\n",
      "sort time:0.003000497817993164\n",
      "prediction time:0.00800180435180664\n",
      "sort time:0.0030007362365722656\n",
      "prediction time:0.007001638412475586\n"
     ]
    },
    {
     "name": "stderr",
     "output_type": "stream",
     "text": [
      "\r",
      "  3%|██                                                         | 6964/199549 [01:54<1:06:54, 47.97it/s]"
     ]
    },
    {
     "name": "stdout",
     "output_type": "stream",
     "text": [
      "sort time:0.004001140594482422\n",
      "prediction time:0.00800180435180664\n",
      "sort time:0.003000497817993164\n",
      "prediction time:0.009001493453979492\n",
      "sort time:0.00400090217590332\n",
      "prediction time:0.007001399993896484\n",
      "sort time:0.003000974655151367\n",
      "prediction time:0.0070018768310546875\n",
      "sort time:0.004000663757324219\n",
      "prediction time:0.00800180435180664\n",
      "sort time:0.00400090217590332\n",
      "prediction time:0.007001399993896484\n",
      "sort time:0.003000497817993164\n",
      "prediction time:0.00800180435180664\n",
      "sort time:0.003000974655151367\n",
      "prediction time:0.007001638412475586\n",
      "sort time:0.0030007362365722656\n",
      "prediction time:0.007001638412475586\n"
     ]
    },
    {
     "name": "stderr",
     "output_type": "stream",
     "text": [
      "  3%|██                                                         | 6974/199549 [01:55<1:08:31, 46.84it/s]"
     ]
    },
    {
     "name": "stdout",
     "output_type": "stream",
     "text": [
      "sort time:0.00400090217590332\n",
      "prediction time:0.008002042770385742\n",
      "sort time:0.004000663757324219\n",
      "prediction time:0.009001970291137695\n",
      "sort time:0.00400090217590332\n",
      "prediction time:0.007001638412475586\n",
      "sort time:0.004000663757324219\n",
      "prediction time:0.00800180435180664\n",
      "sort time:0.0030007362365722656\n",
      "prediction time:0.008001565933227539\n",
      "sort time:0.004001140594482422\n",
      "prediction time:0.008001565933227539\n",
      "sort time:0.0040013790130615234\n",
      "prediction time:0.009002208709716797\n",
      "sort time:0.004000663757324219\n",
      "prediction time:0.007001638412475586\n"
     ]
    },
    {
     "name": "stderr",
     "output_type": "stream",
     "text": [
      "  3%|██                                                         | 6984/199549 [01:55<1:08:22, 46.93it/s]"
     ]
    },
    {
     "name": "stdout",
     "output_type": "stream",
     "text": [
      "sort time:0.0030007362365722656\n",
      "prediction time:0.007002115249633789\n",
      "sort time:0.004000663757324219\n",
      "prediction time:0.007000923156738281\n",
      "sort time:0.0030007362365722656\n",
      "prediction time:0.008002281188964844\n",
      "sort time:0.004000425338745117\n",
      "prediction time:0.008002042770385742\n",
      "sort time:0.003000497817993164\n",
      "prediction time:0.007001638412475586\n",
      "sort time:0.00400090217590332\n",
      "prediction time:0.00600123405456543\n",
      "sort time:0.0030007362365722656\n",
      "prediction time:0.00800180435180664\n",
      "sort time:0.003000497817993164\n",
      "prediction time:0.008002042770385742\n",
      "sort time:0.0030002593994140625\n",
      "prediction time:0.00800180435180664\n"
     ]
    },
    {
     "name": "stderr",
     "output_type": "stream",
     "text": [
      "  4%|██                                                         | 6994/199549 [01:55<1:07:41, 47.41it/s]"
     ]
    },
    {
     "name": "stdout",
     "output_type": "stream",
     "text": [
      "sort time:0.00400090217590332\n",
      "prediction time:0.009001731872558594\n",
      "sort time:0.004001140594482422\n",
      "prediction time:0.007001638412475586\n",
      "sort time:0.003000497817993164\n",
      "prediction time:0.008001565933227539\n",
      "sort time:0.0030007362365722656\n",
      "prediction time:0.009001970291137695\n",
      "sort time:0.004000663757324219\n",
      "prediction time:0.0070018768310546875\n",
      "sort time:0.0030007362365722656\n",
      "prediction time:0.0070018768310546875\n",
      "sort time:0.004000425338745117\n",
      "prediction time:0.00800180435180664\n",
      "sort time:0.00400090217590332\n",
      "prediction time:0.007001638412475586\n",
      "sort time:0.003000497817993164\n",
      "prediction time:0.007001638412475586\n"
     ]
    },
    {
     "name": "stderr",
     "output_type": "stream",
     "text": [
      "\r",
      "  4%|██                                                         | 6999/199549 [01:55<1:07:36, 47.47it/s]"
     ]
    },
    {
     "name": "stdout",
     "output_type": "stream",
     "text": [
      "sort time:0.004001140594482422\n",
      "prediction time:0.007002115249633789\n",
      "sort time:0.003000497817993164\n",
      "prediction time:0.007001638412475586\n",
      "sort time:0.004000663757324219\n",
      "prediction time:0.00800180435180664\n",
      "sort time:0.003000497817993164\n",
      "prediction time:0.007002115249633789\n",
      "sort time:0.004000425338745117\n",
      "prediction time:0.007001638412475586\n",
      "sort time:0.004001140594482422\n",
      "prediction time:0.008001089096069336\n",
      "sort time:0.004001140594482422\n",
      "prediction time:0.0070018768310546875\n",
      "sort time:0.003000497817993164\n",
      "prediction time:0.007001161575317383\n",
      "sort time:0.0030012130737304688\n",
      "prediction time:0.008000612258911133\n"
     ]
    },
    {
     "name": "stderr",
     "output_type": "stream",
     "text": [
      "  4%|██                                                         | 7009/199549 [01:55<1:07:38, 47.45it/s]"
     ]
    },
    {
     "name": "stdout",
     "output_type": "stream",
     "text": [
      "sort time:0.00400090217590332\n",
      "prediction time:0.009001970291137695\n",
      "sort time:0.004001140594482422\n",
      "prediction time:0.007001399993896484\n",
      "sort time:0.00400090217590332\n",
      "prediction time:0.009002208709716797\n",
      "sort time:0.0040013790130615234\n",
      "prediction time:0.007001638412475586\n",
      "sort time:0.0030014514923095703\n",
      "prediction time:0.008001327514648438\n",
      "sort time:0.003000974655151367\n",
      "prediction time:0.00800180435180664\n",
      "sort time:0.0030007362365722656\n",
      "prediction time:0.009001970291137695\n",
      "sort time:0.004001140594482422\n",
      "prediction time:0.0070018768310546875\n",
      "sort time:0.00400090217590332\n",
      "prediction time:0.007001638412475586\n",
      "sort time:0.00400090217590332"
     ]
    },
    {
     "name": "stderr",
     "output_type": "stream",
     "text": [
      "  4%|██                                                         | 7019/199549 [01:56<1:07:11, 47.76it/s]"
     ]
    },
    {
     "name": "stdout",
     "output_type": "stream",
     "text": [
      "\n",
      "prediction time:0.0070018768310546875\n",
      "sort time:0.004000663757324219\n",
      "prediction time:0.009002208709716797\n",
      "sort time:0.00400090217590332\n",
      "prediction time:0.00800180435180664\n",
      "sort time:0.00400090217590332\n",
      "prediction time:0.007000923156738281\n",
      "sort time:0.004001140594482422\n",
      "prediction time:0.006001472473144531\n",
      "sort time:0.004000663757324219\n",
      "prediction time:0.00600123405456543\n",
      "sort time:0.004001140594482422\n",
      "prediction time:0.007001638412475586\n",
      "sort time:0.004001140594482422\n",
      "prediction time:0.00800180435180664\n",
      "sort time:0.003000974655151367\n",
      "prediction time:0.008002042770385742\n"
     ]
    },
    {
     "name": "stderr",
     "output_type": "stream",
     "text": [
      "  4%|██                                                         | 7029/199549 [01:56<1:12:27, 44.29it/s]"
     ]
    },
    {
     "name": "stdout",
     "output_type": "stream",
     "text": [
      "sort time:0.00400090217590332\n",
      "prediction time:0.009002208709716797\n",
      "sort time:0.004000425338745117\n",
      "prediction time:0.007001638412475586\n",
      "sort time:0.004000663757324219\n",
      "prediction time:0.009002447128295898\n",
      "sort time:0.004000425338745117\n",
      "prediction time:0.009002208709716797\n",
      "sort time:0.0050008296966552734\n",
      "prediction time:0.008001565933227539\n",
      "sort time:0.007001638412475586\n",
      "prediction time:0.010001659393310547\n",
      "sort time:0.0050013065338134766\n",
      "prediction time:0.008002042770385742\n",
      "sort time:0.004001140594482422\n"
     ]
    },
    {
     "name": "stderr",
     "output_type": "stream",
     "text": [
      "\r",
      "  4%|██                                                         | 7034/199549 [01:56<1:13:14, 43.81it/s]"
     ]
    },
    {
     "name": "stdout",
     "output_type": "stream",
     "text": [
      "prediction time:0.008002281188964844\n",
      "sort time:0.00400090217590332\n",
      "prediction time:0.007001638412475586\n",
      "sort time:0.0040013790130615234\n",
      "prediction time:0.007000446319580078\n",
      "sort time:0.0040013790130615234\n",
      "prediction time:0.008002042770385742\n",
      "sort time:0.004001140594482422\n",
      "prediction time:0.009001970291137695\n",
      "sort time:0.0030007362365722656\n",
      "prediction time:0.009001970291137695\n",
      "sort time:0.004001140594482422\n",
      "prediction time:0.008001565933227539\n",
      "sort time:0.003000974655151367\n",
      "prediction time:0.00800180435180664\n",
      "sort time:0.00400090217590332\n",
      "prediction time:0.00800180435180664\n"
     ]
    },
    {
     "name": "stderr",
     "output_type": "stream",
     "text": [
      "  4%|██                                                         | 7044/199549 [01:56<1:13:24, 43.70it/s]"
     ]
    },
    {
     "name": "stdout",
     "output_type": "stream",
     "text": [
      "sort time:0.004001140594482422\n",
      "prediction time:0.010001897811889648\n",
      "sort time:0.0040013790130615234\n",
      "prediction time:0.009002208709716797\n",
      "sort time:0.00400090217590332\n",
      "prediction time:0.009001970291137695\n",
      "sort time:0.003000497817993164\n",
      "prediction time:0.007001399993896484\n",
      "sort time:0.004001140594482422\n",
      "prediction time:0.00800180435180664\n",
      "sort time:0.003000974655151367\n",
      "prediction time:0.007001638412475586\n",
      "sort time:0.00400090217590332\n",
      "prediction time:0.007001638412475586\n",
      "sort time:0.004001140594482422\n",
      "prediction time:0.007001638412475586\n",
      "sort time:0.004001140594482422\n",
      "prediction time:0.007001399993896484\n",
      "sort time:0.003000020980834961"
     ]
    },
    {
     "name": "stderr",
     "output_type": "stream",
     "text": [
      "  4%|██                                                         | 7054/199549 [01:56<1:11:32, 44.85it/s]"
     ]
    },
    {
     "name": "stdout",
     "output_type": "stream",
     "text": [
      "\n",
      "prediction time:0.009001970291137695\n",
      "sort time:0.004001140594482422\n",
      "prediction time:0.00800180435180664\n",
      "sort time:0.004001140594482422\n",
      "prediction time:0.007001638412475586\n",
      "sort time:0.004001617431640625\n",
      "prediction time:0.007001638412475586\n",
      "sort time:0.004000663757324219\n",
      "prediction time:0.008001327514648438\n",
      "sort time:0.0030007362365722656\n",
      "prediction time:0.009001493453979492\n",
      "sort time:0.0030007362365722656\n",
      "prediction time:0.007001638412475586\n",
      "sort time:0.003000497817993164\n",
      "prediction time:0.009001970291137695\n",
      "sort time:0.004000663757324219\n",
      "prediction time:0.007001638412475586\n"
     ]
    },
    {
     "name": "stderr",
     "output_type": "stream",
     "text": [
      "\r",
      "  4%|██                                                         | 7059/199549 [01:56<1:10:51, 45.27it/s]"
     ]
    },
    {
     "name": "stdout",
     "output_type": "stream",
     "text": [
      "sort time:0.00400090217590332\n",
      "prediction time:0.007001399993896484\n",
      "sort time:0.0030002593994140625\n",
      "prediction time:0.00800180435180664\n",
      "sort time:0.003000974655151367\n",
      "prediction time:0.006001710891723633\n",
      "sort time:0.004000663757324219\n",
      "prediction time:0.008002042770385742\n",
      "sort time:0.00400090217590332\n",
      "prediction time:0.008002042770385742\n",
      "sort time:0.0030007362365722656\n",
      "prediction time:0.0070018768310546875\n",
      "sort time:0.00400090217590332\n",
      "prediction time:0.007001638412475586\n",
      "sort time:0.004001140594482422\n",
      "prediction time:0.007002115249633789\n",
      "sort time:0.0039997100830078125\n"
     ]
    },
    {
     "name": "stderr",
     "output_type": "stream",
     "text": [
      "  4%|██                                                         | 7069/199549 [01:57<1:10:24, 45.56it/s]"
     ]
    },
    {
     "name": "stdout",
     "output_type": "stream",
     "text": [
      "prediction time:0.009001970291137695\n",
      "sort time:0.004000663757324219\n",
      "prediction time:0.00800180435180664\n",
      "sort time:0.00400090217590332\n",
      "prediction time:0.007001638412475586\n",
      "sort time:0.00400090217590332\n",
      "prediction time:0.00800180435180664\n",
      "sort time:0.0030007362365722656\n",
      "prediction time:0.00800180435180664\n",
      "sort time:0.00400090217590332\n",
      "prediction time:0.009002208709716797\n",
      "sort time:0.004000663757324219\n",
      "prediction time:0.009001493453979492\n",
      "sort time:0.00400090217590332\n",
      "prediction time:0.008002042770385742\n",
      "sort time:0.004000663757324219\n",
      "prediction time:0.009002208709716797\n",
      "sort time:0.0030002593994140625\n",
      "prediction time:0.00800180435180664\n",
      "sort time:0.003000974655151367"
     ]
    },
    {
     "name": "stderr",
     "output_type": "stream",
     "text": [
      "  4%|██                                                         | 7079/199549 [01:57<1:11:33, 44.83it/s]"
     ]
    },
    {
     "name": "stdout",
     "output_type": "stream",
     "text": [
      "\n",
      "prediction time:0.009001970291137695\n",
      "sort time:0.005001544952392578\n",
      "prediction time:0.011002302169799805\n",
      "sort time:0.003000974655151367\n",
      "prediction time:0.008001089096069336\n",
      "sort time:0.00400090217590332\n",
      "prediction time:0.007001638412475586\n",
      "sort time:0.003000497817993164\n",
      "prediction time:0.008002042770385742\n",
      "sort time:0.003000497817993164\n",
      "prediction time:0.009002447128295898\n",
      "sort time:0.0030002593994140625\n",
      "prediction time:0.006001472473144531\n",
      "sort time:0.00400090217590332\n",
      "prediction time:0.007001399993896484\n",
      "sort time:0.00400090217590332\n",
      "prediction time:0.0070018768310546875\n"
     ]
    },
    {
     "name": "stderr",
     "output_type": "stream",
     "text": [
      "  4%|██                                                         | 7089/199549 [01:57<1:08:11, 47.04it/s]"
     ]
    },
    {
     "name": "stdout",
     "output_type": "stream",
     "text": [
      "sort time:0.00400090217590332\n",
      "prediction time:0.008002042770385742\n",
      "sort time:0.0030002593994140625\n",
      "prediction time:0.009001970291137695\n",
      "sort time:0.003000497817993164\n",
      "prediction time:0.007001638412475586\n",
      "sort time:0.004001140594482422\n",
      "prediction time:0.00800180435180664\n",
      "sort time:0.003000497817993164\n",
      "prediction time:0.008002042770385742\n",
      "sort time:0.0030002593994140625\n",
      "prediction time:0.007001638412475586\n",
      "sort time:0.0030012130737304688\n",
      "prediction time:0.00800180435180664\n",
      "sort time:0.003000497817993164\n",
      "prediction time:0.006001472473144531\n",
      "sort time:0.003000974655151367\n",
      "prediction time:0.00800180435180664\n"
     ]
    },
    {
     "name": "stderr",
     "output_type": "stream",
     "text": [
      "  4%|██                                                         | 7100/199549 [01:57<1:06:06, 48.51it/s]"
     ]
    },
    {
     "name": "stdout",
     "output_type": "stream",
     "text": [
      "sort time:0.003000497817993164\n",
      "prediction time:0.007001638412475586\n",
      "sort time:0.004000663757324219\n",
      "prediction time:0.007001638412475586\n",
      "sort time:0.003000497817993164\n",
      "prediction time:0.009001970291137695\n",
      "sort time:0.0030007362365722656\n",
      "prediction time:0.006001472473144531\n",
      "sort time:0.004000663757324219\n",
      "prediction time:0.007001399993896484\n",
      "sort time:0.0030007362365722656\n",
      "prediction time:0.008001327514648438\n",
      "sort time:0.003000497817993164\n",
      "prediction time:0.00600123405456543\n",
      "sort time:0.003000020980834961\n",
      "prediction time:0.00800180435180664\n",
      "sort time:0.003000497817993164\n",
      "prediction time:0.007001161575317383\n",
      "sort time:0.004001140594482422"
     ]
    },
    {
     "name": "stderr",
     "output_type": "stream",
     "text": [
      "\r",
      "  4%|██                                                         | 7106/199549 [01:57<1:04:57, 49.38it/s]"
     ]
    },
    {
     "name": "stdout",
     "output_type": "stream",
     "text": [
      "\n",
      "prediction time:0.007001638412475586\n",
      "sort time:0.0030007362365722656\n",
      "prediction time:0.007001399993896484\n",
      "sort time:0.003000497817993164\n",
      "prediction time:0.00600123405456543\n",
      "sort time:0.00400090217590332\n",
      "prediction time:0.00800180435180664\n",
      "sort time:0.0030007362365722656\n",
      "prediction time:0.006001472473144531\n",
      "sort time:0.003000497817993164\n",
      "prediction time:0.008002281188964844\n",
      "sort time:0.0029997825622558594\n",
      "prediction time:0.008001565933227539\n",
      "sort time:0.003000974655151367\n",
      "prediction time:0.00600123405456543\n",
      "sort time:0.00400090217590332\n",
      "prediction time:0.008002042770385742\n",
      "sort time:0.0030007362365722656\n",
      "prediction time:0.006000041961669922\n"
     ]
    },
    {
     "name": "stderr",
     "output_type": "stream",
     "text": [
      "  4%|██                                                         | 7117/199549 [01:58<1:06:18, 48.37it/s]"
     ]
    },
    {
     "name": "stdout",
     "output_type": "stream",
     "text": [
      "sort time:0.00400090217590332\n",
      "prediction time:0.008002042770385742\n",
      "sort time:0.004000663757324219\n",
      "prediction time:0.009002447128295898\n",
      "sort time:0.004000663757324219\n",
      "prediction time:0.007001638412475586\n",
      "sort time:0.0030007362365722656\n",
      "prediction time:0.00800180435180664\n",
      "sort time:0.004000663757324219\n",
      "prediction time:0.00800180435180664\n",
      "sort time:0.004000663757324219\n",
      "prediction time:0.007001638412475586\n",
      "sort time:0.00400090217590332\n",
      "prediction time:0.009001731872558594\n",
      "sort time:0.00400090217590332\n",
      "prediction time:0.008002042770385742\n",
      "sort time:0.0030007362365722656\n",
      "prediction time:0.008001327514648438\n",
      "sort time:0.003000974655151367"
     ]
    },
    {
     "name": "stderr",
     "output_type": "stream",
     "text": [
      "  4%|██                                                         | 7127/199549 [01:58<1:08:07, 47.07it/s]"
     ]
    },
    {
     "name": "stdout",
     "output_type": "stream",
     "text": [
      "\n",
      "prediction time:0.008002042770385742\n",
      "sort time:0.004000663757324219\n",
      "prediction time:0.007001161575317383\n",
      "sort time:0.004000663757324219\n",
      "prediction time:0.009001493453979492\n",
      "sort time:0.0040013790130615234\n",
      "prediction time:0.007001638412475586\n",
      "sort time:0.00400090217590332\n",
      "prediction time:0.007001638412475586\n",
      "sort time:0.003000497817993164\n",
      "prediction time:0.00800180435180664\n",
      "sort time:0.0040013790130615234\n",
      "prediction time:0.007001638412475586\n",
      "sort time:0.004000663757324219\n",
      "prediction time:0.00800180435180664\n",
      "sort time:0.00400090217590332\n",
      "prediction time:0.010001897811889648\n",
      "sort time:0.004001140594482422"
     ]
    },
    {
     "name": "stderr",
     "output_type": "stream",
     "text": [
      "  4%|██                                                         | 7137/199549 [01:58<1:07:35, 47.44it/s]"
     ]
    },
    {
     "name": "stdout",
     "output_type": "stream",
     "text": [
      "\n",
      "prediction time:0.007001399993896484\n",
      "sort time:0.004000663757324219\n",
      "prediction time:0.007001399993896484\n",
      "sort time:0.003000497817993164\n",
      "prediction time:0.00800180435180664\n",
      "sort time:0.0030007362365722656\n",
      "prediction time:0.009001970291137695\n",
      "sort time:0.0030007362365722656\n",
      "prediction time:0.00600123405456543\n",
      "sort time:0.003000974655151367\n",
      "prediction time:0.0070018768310546875\n",
      "sort time:0.0030002593994140625\n",
      "prediction time:0.007001638412475586\n",
      "sort time:0.004001140594482422\n",
      "prediction time:0.007001399993896484\n",
      "sort time:0.0030007362365722656\n",
      "prediction time:0.009001970291137695\n",
      "sort time:0.0030007362365722656\n",
      "prediction time:0.006001710891723633\n"
     ]
    },
    {
     "name": "stderr",
     "output_type": "stream",
     "text": [
      "\r",
      "  4%|██                                                         | 7142/199549 [01:58<1:08:28, 46.83it/s]"
     ]
    },
    {
     "name": "stdout",
     "output_type": "stream",
     "text": [
      "sort time:0.004000425338745117\n",
      "prediction time:0.009001970291137695\n",
      "sort time:0.004000663757324219\n",
      "prediction time:0.00800180435180664\n",
      "sort time:0.00400090217590332\n",
      "prediction time:0.007001161575317383\n",
      "sort time:0.003000974655151367\n",
      "prediction time:0.007001638412475586\n",
      "sort time:0.004000663757324219\n",
      "prediction time:0.00800180435180664\n",
      "sort time:0.0030007362365722656\n",
      "prediction time:0.006001472473144531\n",
      "sort time:0.004000663757324219\n",
      "prediction time:0.00800180435180664\n",
      "sort time:0.0030007362365722656\n",
      "prediction time:0.007001161575317383\n",
      "sort time:0.003000497817993164\n",
      "prediction time:0.008002042770385742\n"
     ]
    },
    {
     "name": "stderr",
     "output_type": "stream",
     "text": [
      "  4%|██                                                         | 7153/199549 [01:58<1:06:22, 48.31it/s]"
     ]
    },
    {
     "name": "stdout",
     "output_type": "stream",
     "text": [
      "sort time:0.00400090217590332\n",
      "prediction time:0.008001565933227539\n",
      "sort time:0.00400090217590332\n",
      "prediction time:0.008001565933227539\n",
      "sort time:0.0030007362365722656\n",
      "prediction time:0.00800180435180664\n",
      "sort time:0.0040013790130615234\n",
      "prediction time:0.007001638412475586\n",
      "sort time:0.003000497817993164\n",
      "prediction time:0.006001472473144531\n",
      "sort time:0.004000663757324219\n",
      "prediction time:0.009002208709716797\n",
      "sort time:0.0030007362365722656\n",
      "prediction time:0.006001710891723633\n",
      "sort time:0.0030002593994140625\n",
      "prediction time:0.009002208709716797\n",
      "sort time:0.003000497817993164\n",
      "prediction time:0.009002447128295898\n",
      "sort time:0.003000497817993164\n",
      "prediction time:0.007001638412475586\n"
     ]
    },
    {
     "name": "stderr",
     "output_type": "stream",
     "text": [
      "  4%|██                                                         | 7163/199549 [01:59<1:05:47, 48.74it/s]"
     ]
    },
    {
     "name": "stdout",
     "output_type": "stream",
     "text": [
      "sort time:0.00400090217590332\n",
      "prediction time:0.010002374649047852\n",
      "sort time:0.004000663757324219\n",
      "prediction time:0.007000923156738281\n",
      "sort time:0.003000974655151367\n",
      "prediction time:0.007001638412475586\n",
      "sort time:0.003000497817993164\n",
      "prediction time:0.007001399993896484\n",
      "sort time:0.004000663757324219\n",
      "prediction time:0.006001710891723633\n",
      "sort time:0.0030002593994140625\n",
      "prediction time:0.007001638412475586\n",
      "sort time:0.003000974655151367\n",
      "prediction time:0.008002042770385742\n",
      "sort time:0.00400090217590332\n",
      "prediction time:0.00800180435180664\n",
      "sort time:0.003000497817993164\n",
      "prediction time:0.007001638412475586\n"
     ]
    },
    {
     "name": "stderr",
     "output_type": "stream",
     "text": [
      "  4%|██                                                         | 7173/199549 [01:59<1:06:48, 48.00it/s]"
     ]
    },
    {
     "name": "stdout",
     "output_type": "stream",
     "text": [
      "sort time:0.004001140594482422\n",
      "prediction time:0.007001638412475586\n",
      "sort time:0.00400090217590332\n",
      "prediction time:0.009001970291137695\n",
      "sort time:0.00400090217590332\n",
      "prediction time:0.007001161575317383\n",
      "sort time:0.003000974655151367\n",
      "prediction time:0.007001399993896484\n",
      "sort time:0.0030007362365722656\n",
      "prediction time:0.00800180435180664\n",
      "sort time:0.003000497817993164\n",
      "prediction time:0.007001638412475586\n",
      "sort time:0.0030012130737304688\n",
      "prediction time:0.008001565933227539\n",
      "sort time:0.003000497817993164\n",
      "prediction time:0.00800180435180664\n",
      "sort time:0.0030007362365722656\n",
      "prediction time:0.008002281188964844\n",
      "sort time:0.004000425338745117"
     ]
    },
    {
     "name": "stderr",
     "output_type": "stream",
     "text": [
      "  4%|██                                                         | 7183/199549 [01:59<1:09:00, 46.46it/s]"
     ]
    },
    {
     "name": "stdout",
     "output_type": "stream",
     "text": [
      "\n",
      "prediction time:0.008001565933227539\n",
      "sort time:0.003000497817993164\n",
      "prediction time:0.007001638412475586\n",
      "sort time:0.00400090217590332\n",
      "prediction time:0.008001565933227539\n",
      "sort time:0.00400090217590332\n",
      "prediction time:0.00800180435180664\n",
      "sort time:0.00400090217590332\n",
      "prediction time:0.008002042770385742\n",
      "sort time:0.004001140594482422\n",
      "prediction time:0.008002042770385742\n",
      "sort time:0.00400090217590332\n",
      "prediction time:0.007001638412475586\n",
      "sort time:0.0030007362365722656\n",
      "prediction time:0.007001399993896484\n",
      "sort time:0.00400090217590332\n",
      "prediction time:0.009001731872558594\n",
      "sort time:0.003000497817993164"
     ]
    },
    {
     "name": "stderr",
     "output_type": "stream",
     "text": [
      "\r",
      "  4%|██▏                                                        | 7188/199549 [01:59<1:09:39, 46.03it/s]"
     ]
    },
    {
     "name": "stdout",
     "output_type": "stream",
     "text": [
      "\n",
      "prediction time:0.007001638412475586\n",
      "sort time:0.00400090217590332\n",
      "prediction time:0.007001638412475586\n",
      "sort time:0.0030007362365722656\n",
      "prediction time:0.00800180435180664\n",
      "sort time:0.0030007362365722656\n",
      "prediction time:0.009002208709716797\n",
      "sort time:0.0030007362365722656\n",
      "prediction time:0.007001638412475586\n",
      "sort time:0.003000974655151367\n",
      "prediction time:0.007002115249633789\n",
      "sort time:0.004000186920166016\n",
      "prediction time:0.0070018768310546875\n",
      "sort time:0.0030002593994140625\n",
      "prediction time:0.008002042770385742\n",
      "sort time:0.003000497817993164\n",
      "prediction time:0.006001472473144531\n",
      "sort time:0.004000663757324219\n"
     ]
    },
    {
     "name": "stderr",
     "output_type": "stream",
     "text": [
      "  4%|██▏                                                        | 7199/199549 [01:59<1:07:09, 47.74it/s]"
     ]
    },
    {
     "name": "stdout",
     "output_type": "stream",
     "text": [
      "prediction time:0.0070018768310546875\n",
      "sort time:0.0030002593994140625\n",
      "prediction time:0.009001970291137695\n",
      "sort time:0.00400090217590332\n",
      "prediction time:0.007001399993896484\n",
      "sort time:0.003000497817993164\n",
      "prediction time:0.008001327514648438\n",
      "sort time:0.0030007362365722656\n",
      "prediction time:0.008001565933227539\n",
      "sort time:0.003000974655151367\n",
      "prediction time:0.007001638412475586\n",
      "sort time:0.003000974655151367\n",
      "prediction time:0.008001565933227539\n",
      "sort time:0.0030007362365722656\n",
      "prediction time:0.007001399993896484\n",
      "sort time:0.00400090217590332\n",
      "prediction time:0.00800180435180664\n",
      "sort time:0.003000974655151367\n",
      "prediction time:0.007001638412475586\n"
     ]
    },
    {
     "name": "stderr",
     "output_type": "stream",
     "text": [
      "  4%|██▏                                                        | 7209/199549 [02:00<1:06:29, 48.21it/s]"
     ]
    },
    {
     "name": "stdout",
     "output_type": "stream",
     "text": [
      "sort time:0.00400090217590332\n",
      "prediction time:0.007001161575317383\n",
      "sort time:0.00400090217590332\n",
      "prediction time:0.007001399993896484\n",
      "sort time:0.004001140594482422\n",
      "prediction time:0.008002281188964844\n",
      "sort time:0.003000497817993164\n",
      "prediction time:0.007001638412475586\n",
      "sort time:0.003000497817993164\n",
      "prediction time:0.00800180435180664\n",
      "sort time:0.003000497817993164\n",
      "prediction time:0.009002447128295898\n",
      "sort time:0.003000020980834961\n",
      "prediction time:0.00800180435180664\n",
      "sort time:0.00400090217590332\n",
      "prediction time:0.007001638412475586\n",
      "sort time:0.004000663757324219\n",
      "prediction time:0.00800180435180664\n",
      "sort time:0.0030012130737304688"
     ]
    },
    {
     "name": "stderr",
     "output_type": "stream",
     "text": [
      "  4%|██▏                                                        | 7219/199549 [02:00<1:08:19, 46.92it/s]"
     ]
    },
    {
     "name": "stdout",
     "output_type": "stream",
     "text": [
      "\n",
      "prediction time:0.009001970291137695\n",
      "sort time:0.004000663757324219\n",
      "prediction time:0.00800180435180664\n",
      "sort time:0.0030007362365722656\n",
      "prediction time:0.008002042770385742\n",
      "sort time:0.003000497817993164\n",
      "prediction time:0.009002208709716797\n",
      "sort time:0.004000663757324219\n",
      "prediction time:0.007001638412475586\n",
      "sort time:0.005001068115234375\n",
      "prediction time:0.007001161575317383\n",
      "sort time:0.005001068115234375\n",
      "prediction time:0.007001161575317383\n",
      "sort time:0.003000974655151367\n",
      "prediction time:0.00800180435180664\n",
      "sort time:0.003000974655151367\n",
      "prediction time:0.0070018768310546875\n",
      "sort time:0.0029993057250976562"
     ]
    },
    {
     "name": "stderr",
     "output_type": "stream",
     "text": [
      "  4%|██▏                                                        | 7229/199549 [02:00<1:08:34, 46.74it/s]"
     ]
    },
    {
     "name": "stdout",
     "output_type": "stream",
     "text": [
      "\n",
      "prediction time:0.009002208709716797\n",
      "sort time:0.004000425338745117\n",
      "prediction time:0.008002042770385742\n",
      "sort time:0.0040013790130615234\n",
      "prediction time:0.007001399993896484\n",
      "sort time:0.003000497817993164\n",
      "prediction time:0.008001565933227539\n",
      "sort time:0.00400090217590332\n",
      "prediction time:0.007001638412475586\n",
      "sort time:0.00400090217590332\n",
      "prediction time:0.0070018768310546875\n",
      "sort time:0.004000663757324219\n",
      "prediction time:0.00800180435180664\n",
      "sort time:0.0030007362365722656\n",
      "prediction time:0.008002281188964844\n",
      "sort time:0.00400090217590332\n",
      "prediction time:0.007001638412475586\n"
     ]
    },
    {
     "name": "stderr",
     "output_type": "stream",
     "text": [
      "  4%|██▏                                                        | 7239/199549 [02:00<1:09:11, 46.33it/s]"
     ]
    },
    {
     "name": "stdout",
     "output_type": "stream",
     "text": [
      "sort time:0.00400090217590332\n",
      "prediction time:0.008001327514648438\n",
      "sort time:0.004001140594482422\n",
      "prediction time:0.008001327514648438\n",
      "sort time:0.0040013790130615234\n",
      "prediction time:0.0070018768310546875\n",
      "sort time:0.003000497817993164\n",
      "prediction time:0.009002208709716797\n",
      "sort time:0.004001140594482422\n",
      "prediction time:0.00800180435180664\n",
      "sort time:0.004000425338745117\n",
      "prediction time:0.00800180435180664\n",
      "sort time:0.003000497817993164\n",
      "prediction time:0.007001399993896484\n",
      "sort time:0.0030007362365722656\n",
      "prediction time:0.00800180435180664\n",
      "sort time:0.003000497817993164\n"
     ]
    },
    {
     "name": "stderr",
     "output_type": "stream",
     "text": [
      "  4%|██▏                                                        | 7249/199549 [02:01<1:07:31, 47.47it/s]"
     ]
    },
    {
     "name": "stdout",
     "output_type": "stream",
     "text": [
      "prediction time:0.008001089096069336\n",
      "sort time:0.0030012130737304688\n",
      "prediction time:0.007001399993896484\n",
      "sort time:0.00400090217590332\n",
      "prediction time:0.009001970291137695\n",
      "sort time:0.0030012130737304688\n",
      "prediction time:0.007001638412475586\n",
      "sort time:0.003000497817993164\n",
      "prediction time:0.008002042770385742\n",
      "sort time:0.004000663757324219\n",
      "prediction time:0.007001638412475586\n",
      "sort time:0.004000663757324219\n",
      "prediction time:0.009002447128295898\n",
      "sort time:0.004000425338745117\n",
      "prediction time:0.007001399993896484\n",
      "sort time:0.003000497817993164\n",
      "prediction time:0.007001638412475586\n",
      "sort time:0.003000497817993164\n",
      "prediction time:0.008001565933227539\n",
      "sort time:0.00400090217590332\n"
     ]
    },
    {
     "name": "stderr",
     "output_type": "stream",
     "text": [
      "\r",
      "  4%|██▏                                                        | 7254/199549 [02:01<1:07:27, 47.51it/s]"
     ]
    },
    {
     "name": "stdout",
     "output_type": "stream",
     "text": [
      "prediction time:0.008002042770385742\n",
      "sort time:0.004000663757324219\n",
      "prediction time:0.007001399993896484\n",
      "sort time:0.003000974655151367\n",
      "prediction time:0.007001399993896484\n",
      "sort time:0.0030012130737304688\n",
      "prediction time:0.007001638412475586\n",
      "sort time:0.003000497817993164\n",
      "prediction time:0.00800180435180664\n",
      "sort time:0.003000974655151367\n",
      "prediction time:0.00800180435180664\n",
      "sort time:0.004000663757324219\n",
      "prediction time:0.006001472473144531\n",
      "sort time:0.004000663757324219\n",
      "prediction time:0.007001638412475586\n",
      "sort time:0.00400090217590332\n",
      "prediction time:0.006001472473144531\n",
      "sort time:0.004000663757324219\n",
      "prediction time:0.008002042770385742\n"
     ]
    },
    {
     "name": "stderr",
     "output_type": "stream",
     "text": [
      "  4%|██▏                                                        | 7264/199549 [02:01<1:06:55, 47.89it/s]"
     ]
    },
    {
     "name": "stdout",
     "output_type": "stream",
     "text": [
      "sort time:0.004000663757324219\n",
      "prediction time:0.008002042770385742\n",
      "sort time:0.004000186920166016\n",
      "prediction time:0.007001638412475586\n",
      "sort time:0.00400090217590332\n",
      "prediction time:0.008002042770385742\n",
      "sort time:0.003000497817993164\n",
      "prediction time:0.007000923156738281\n",
      "sort time:0.003000974655151367\n",
      "prediction time:0.009001970291137695\n",
      "sort time:0.003000497817993164\n",
      "prediction time:0.007001638412475586\n",
      "sort time:0.003000497817993164\n",
      "prediction time:0.00800180435180664\n",
      "sort time:0.003000497817993164\n",
      "prediction time:0.008002519607543945\n",
      "sort time:0.003000497817993164\n",
      "prediction time:0.00800180435180664\n",
      "sort time:0.0030007362365722656"
     ]
    },
    {
     "name": "stderr",
     "output_type": "stream",
     "text": [
      "  4%|██▏                                                        | 7274/199549 [02:01<1:07:12, 47.68it/s]"
     ]
    },
    {
     "name": "stdout",
     "output_type": "stream",
     "text": [
      "\n",
      "prediction time:0.008002042770385742\n",
      "sort time:0.0050013065338134766\n",
      "prediction time:0.009001016616821289\n",
      "sort time:0.00400090217590332\n",
      "prediction time:0.0070018768310546875\n",
      "sort time:0.003000497817993164\n",
      "prediction time:0.007001638412475586\n",
      "sort time:0.004001140594482422\n",
      "prediction time:0.007001638412475586\n",
      "sort time:0.003000497817993164\n",
      "prediction time:0.007001399993896484\n",
      "sort time:0.003000497817993164\n",
      "prediction time:0.008002042770385742\n",
      "sort time:0.004000663757324219\n",
      "prediction time:0.007001399993896484\n",
      "sort time:0.0030007362365722656\n",
      "prediction time:0.00800180435180664\n",
      "sort time:0.004000663757324219"
     ]
    },
    {
     "name": "stderr",
     "output_type": "stream",
     "text": [
      "  4%|██▏                                                        | 7284/199549 [02:01<1:10:14, 45.62it/s]"
     ]
    },
    {
     "name": "stdout",
     "output_type": "stream",
     "text": [
      "\n",
      "prediction time:0.009001970291137695\n",
      "sort time:0.00400090217590332\n",
      "prediction time:0.00800180435180664\n",
      "sort time:0.003000497817993164\n",
      "prediction time:0.008002281188964844\n",
      "sort time:0.004000663757324219\n",
      "prediction time:0.008002042770385742\n",
      "sort time:0.00400090217590332\n",
      "prediction time:0.007001399993896484\n",
      "sort time:0.004001140594482422\n",
      "prediction time:0.008002042770385742\n",
      "sort time:0.004000663757324219\n",
      "prediction time:0.009001731872558594\n",
      "sort time:0.0030007362365722656\n",
      "prediction time:0.008001565933227539\n"
     ]
    },
    {
     "name": "stderr",
     "output_type": "stream",
     "text": [
      "\r",
      "  4%|██▏                                                        | 7289/199549 [02:01<1:09:10, 46.33it/s]"
     ]
    },
    {
     "name": "stdout",
     "output_type": "stream",
     "text": [
      "sort time:0.004000425338745117\n",
      "prediction time:0.0070018768310546875\n",
      "sort time:0.003000497817993164\n",
      "prediction time:0.007001638412475586\n",
      "sort time:0.0030007362365722656\n",
      "prediction time:0.008002042770385742\n",
      "sort time:0.00400090217590332\n",
      "prediction time:0.00800180435180664\n",
      "sort time:0.0030007362365722656\n",
      "prediction time:0.007001638412475586\n",
      "sort time:0.004001140594482422\n",
      "prediction time:0.0070018768310546875\n",
      "sort time:0.0030002593994140625\n",
      "prediction time:0.008002042770385742\n",
      "sort time:0.003000497817993164\n",
      "prediction time:0.006001710891723633\n",
      "sort time:0.0030002593994140625\n",
      "prediction time:0.007001638412475586\n",
      "sort time:0.004001140594482422\n",
      "prediction time:0.007001399993896484\n",
      "sort time:0.003000974655151367"
     ]
    },
    {
     "name": "stderr",
     "output_type": "stream",
     "text": [
      "  4%|██▏                                                        | 7300/199549 [02:02<1:06:13, 48.39it/s]"
     ]
    },
    {
     "name": "stdout",
     "output_type": "stream",
     "text": [
      "\n",
      "prediction time:0.0070018768310546875\n",
      "sort time:0.0029997825622558594\n",
      "prediction time:0.008001089096069336\n",
      "sort time:0.00400090217590332\n",
      "prediction time:0.007001638412475586\n",
      "sort time:0.003000974655151367\n",
      "prediction time:0.007001399993896484\n",
      "sort time:0.004001140594482422\n",
      "prediction time:0.007001399993896484\n",
      "sort time:0.003000497817993164\n",
      "prediction time:0.008002042770385742\n",
      "sort time:0.003000497817993164\n",
      "prediction time:0.007001638412475586\n",
      "sort time:0.0030002593994140625\n",
      "prediction time:0.007001638412475586\n",
      "sort time:0.003000497817993164\n",
      "prediction time:0.008002042770385742\n",
      "sort time:0.0030007362365722656\n",
      "prediction time:0.007001399993896484\n",
      "sort time:0.003000974655151367"
     ]
    },
    {
     "name": "stderr",
     "output_type": "stream",
     "text": [
      "  4%|██▏                                                        | 7311/199549 [02:02<1:05:10, 49.16it/s]"
     ]
    },
    {
     "name": "stdout",
     "output_type": "stream",
     "text": [
      "\n",
      "prediction time:0.007002830505371094\n",
      "sort time:0.003999948501586914\n",
      "prediction time:0.007001638412475586\n",
      "sort time:0.003000497817993164\n",
      "prediction time:0.0070018768310546875\n",
      "sort time:0.0030002593994140625\n",
      "prediction time:0.00800180435180664\n",
      "sort time:0.003000974655151367\n",
      "prediction time:0.00600123405456543\n",
      "sort time:0.00400090217590332\n",
      "prediction time:0.007001638412475586\n",
      "sort time:0.003000497817993164\n",
      "prediction time:0.009001970291137695\n",
      "sort time:0.0030007362365722656\n",
      "prediction time:0.0070018768310546875\n",
      "sort time:0.0030002593994140625\n",
      "prediction time:0.009001970291137695\n",
      "sort time:0.003000974655151367\n",
      "prediction time:0.007001638412475586\n"
     ]
    },
    {
     "name": "stderr",
     "output_type": "stream",
     "text": [
      "  4%|██▏                                                        | 7321/199549 [02:02<1:07:22, 47.55it/s]"
     ]
    },
    {
     "name": "stdout",
     "output_type": "stream",
     "text": [
      "sort time:0.00400090217590332\n",
      "prediction time:0.008002042770385742\n",
      "sort time:0.003000497817993164\n",
      "prediction time:0.007001161575317383\n",
      "sort time:0.00400090217590332\n",
      "prediction time:0.009001970291137695\n",
      "sort time:0.003000974655151367\n",
      "prediction time:0.007001638412475586\n",
      "sort time:0.0030007362365722656\n",
      "prediction time:0.008002042770385742\n",
      "sort time:0.004001140594482422\n",
      "prediction time:0.008002042770385742\n",
      "sort time:0.0030007362365722656\n",
      "prediction time:0.009002208709716797\n",
      "sort time:0.00400090217590332\n",
      "prediction time:0.006001472473144531\n",
      "sort time:0.004000663757324219\n",
      "prediction time:0.00800180435180664\n"
     ]
    },
    {
     "name": "stderr",
     "output_type": "stream",
     "text": [
      "  4%|██▏                                                        | 7331/199549 [02:02<1:11:11, 45.00it/s]"
     ]
    },
    {
     "name": "stdout",
     "output_type": "stream",
     "text": [
      "sort time:0.003000974655151367\n",
      "prediction time:0.007001638412475586\n",
      "sort time:0.004001140594482422\n",
      "prediction time:0.007001638412475586\n",
      "sort time:0.004000663757324219\n",
      "prediction time:0.007001161575317383\n",
      "sort time:0.0030007362365722656\n",
      "prediction time:0.01000213623046875\n",
      "sort time:0.0040013790130615234\n",
      "prediction time:0.007001638412475586\n",
      "sort time:0.0030007362365722656\n",
      "prediction time:0.008002042770385742\n",
      "sort time:0.00400090217590332\n",
      "prediction time:0.00800180435180664\n",
      "sort time:0.004001140594482422\n"
     ]
    },
    {
     "name": "stderr",
     "output_type": "stream",
     "text": [
      "\r",
      "  4%|██▏                                                        | 7336/199549 [02:02<1:14:35, 42.95it/s]"
     ]
    },
    {
     "name": "stdout",
     "output_type": "stream",
     "text": [
      "prediction time:0.008002042770385742\n",
      "sort time:0.00400090217590332\n",
      "prediction time:0.008002042770385742\n",
      "sort time:0.0060007572174072266\n",
      "prediction time:0.00800180435180664\n",
      "sort time:0.005001544952392578\n",
      "prediction time:0.00800180435180664\n",
      "sort time:0.005002021789550781\n",
      "prediction time:0.009001731872558594\n",
      "sort time:0.0050013065338134766\n",
      "prediction time:0.009002208709716797\n",
      "sort time:0.00400090217590332\n",
      "prediction time:0.008002281188964844\n",
      "sort time:0.0030002593994140625\n",
      "prediction time:0.0070018768310546875\n",
      "sort time:0.003000497817993164\n",
      "prediction time:0.008002042770385742\n",
      "sort time:0.003000497817993164"
     ]
    },
    {
     "name": "stderr",
     "output_type": "stream",
     "text": [
      "  4%|██▏                                                        | 7346/199549 [02:03<1:10:46, 45.26it/s]"
     ]
    },
    {
     "name": "stdout",
     "output_type": "stream",
     "text": [
      "\n",
      "prediction time:0.008002519607543945\n",
      "sort time:0.004000663757324219\n",
      "prediction time:0.009001970291137695\n",
      "sort time:0.003000497817993164\n",
      "prediction time:0.008002042770385742\n",
      "sort time:0.003000497817993164\n",
      "prediction time:0.008002042770385742\n",
      "sort time:0.0030002593994140625\n",
      "prediction time:0.008001327514648438\n",
      "sort time:0.0030007362365722656\n",
      "prediction time:0.007001399993896484\n",
      "sort time:0.003000497817993164\n",
      "prediction time:0.009001731872558594\n",
      "sort time:0.00400090217590332\n",
      "prediction time:0.008002042770385742\n",
      "sort time:0.003000497817993164\n",
      "prediction time:0.006001472473144531\n",
      "sort time:0.004001140594482422"
     ]
    },
    {
     "name": "stderr",
     "output_type": "stream",
     "text": [
      "  4%|██▏                                                        | 7356/199549 [02:03<1:08:41, 46.63it/s]"
     ]
    },
    {
     "name": "stdout",
     "output_type": "stream",
     "text": [
      "\n",
      "prediction time:0.008002042770385742\n",
      "sort time:0.003000497817993164\n",
      "prediction time:0.008001565933227539\n",
      "sort time:0.00400090217590332\n",
      "prediction time:0.00800180435180664\n",
      "sort time:0.004000663757324219\n",
      "prediction time:0.007001638412475586\n",
      "sort time:0.004000663757324219\n",
      "prediction time:0.008002042770385742\n",
      "sort time:0.00400090217590332\n",
      "prediction time:0.007001638412475586\n",
      "sort time:0.0030007362365722656\n",
      "prediction time:0.007001638412475586\n",
      "sort time:0.004000663757324219\n",
      "prediction time:0.007001638412475586\n",
      "sort time:0.004001617431640625\n",
      "prediction time:0.00800180435180664\n",
      "sort time:0.003000497817993164"
     ]
    },
    {
     "name": "stderr",
     "output_type": "stream",
     "text": [
      "  4%|██▏                                                        | 7366/199549 [02:03<1:07:19, 47.58it/s]"
     ]
    },
    {
     "name": "stdout",
     "output_type": "stream",
     "text": [
      "\n",
      "prediction time:0.007001399993896484\n",
      "sort time:0.00400090217590332\n",
      "prediction time:0.00800180435180664\n",
      "sort time:0.0030014514923095703\n",
      "prediction time:0.007001638412475586\n",
      "sort time:0.003000497817993164\n",
      "prediction time:0.007002830505371094\n",
      "sort time:0.002999544143676758\n",
      "prediction time:0.007001638412475586\n",
      "sort time:0.0030002593994140625\n",
      "prediction time:0.008002042770385742\n",
      "sort time:0.0030002593994140625\n",
      "prediction time:0.00800180435180664\n",
      "sort time:0.003000497817993164\n",
      "prediction time:0.008002042770385742\n",
      "sort time:0.0030007362365722656\n",
      "prediction time:0.00800180435180664\n",
      "sort time:0.00400090217590332"
     ]
    },
    {
     "name": "stderr",
     "output_type": "stream",
     "text": [
      "\r",
      "  4%|██▏                                                        | 7371/199549 [02:03<1:08:50, 46.53it/s]"
     ]
    },
    {
     "name": "stdout",
     "output_type": "stream",
     "text": [
      "\n",
      "prediction time:0.007001638412475586\n",
      "sort time:0.0030012130737304688\n",
      "prediction time:0.008002042770385742\n",
      "sort time:0.00400090217590332\n",
      "prediction time:0.007001638412475586\n",
      "sort time:0.00400090217590332\n",
      "prediction time:0.00800180435180664\n",
      "sort time:0.00400090217590332\n",
      "prediction time:0.009002208709716797\n",
      "sort time:0.004000663757324219\n",
      "prediction time:0.007001161575317383\n",
      "sort time:0.0030007362365722656\n",
      "prediction time:0.008002042770385742\n",
      "sort time:0.003000497817993164\n",
      "prediction time:0.008002281188964844\n",
      "sort time:0.004000663757324219\n",
      "prediction time:0.0070018768310546875\n"
     ]
    },
    {
     "name": "stderr",
     "output_type": "stream",
     "text": [
      "  4%|██▏                                                        | 7381/199549 [02:03<1:09:55, 45.80it/s]"
     ]
    },
    {
     "name": "stdout",
     "output_type": "stream",
     "text": [
      "sort time:0.0030002593994140625\n",
      "prediction time:0.007001638412475586\n",
      "sort time:0.004001140594482422\n",
      "prediction time:0.008002042770385742\n",
      "sort time:0.004000425338745117\n",
      "prediction time:0.00800180435180664\n",
      "sort time:0.003000497817993164\n",
      "prediction time:0.008002042770385742\n",
      "sort time:0.00400090217590332\n",
      "prediction time:0.0070018768310546875\n",
      "sort time:0.003000497817993164\n",
      "prediction time:0.00800180435180664\n",
      "sort time:0.004000663757324219\n",
      "prediction time:0.0070018768310546875\n",
      "sort time:0.004000663757324219\n",
      "prediction time:0.00800180435180664\n",
      "sort time:0.0040013790130615234"
     ]
    },
    {
     "name": "stderr",
     "output_type": "stream",
     "text": [
      "  4%|██▏                                                        | 7391/199549 [02:04<1:11:16, 44.93it/s]"
     ]
    },
    {
     "name": "stdout",
     "output_type": "stream",
     "text": [
      "\n",
      "prediction time:0.015003681182861328\n",
      "sort time:0.004001140594482422\n",
      "prediction time:0.009002208709716797\n",
      "sort time:0.005001068115234375\n",
      "prediction time:0.00900125503540039\n",
      "sort time:0.003000497817993164\n",
      "prediction time:0.007001399993896484\n",
      "sort time:0.004001140594482422\n",
      "prediction time:0.008001565933227539\n",
      "sort time:0.004001140594482422\n",
      "prediction time:0.00800180435180664\n",
      "sort time:0.003000974655151367\n",
      "prediction time:0.007001638412475586\n",
      "sort time:0.004000663757324219\n",
      "prediction time:0.009001970291137695\n"
     ]
    },
    {
     "name": "stderr",
     "output_type": "stream",
     "text": [
      "\r",
      "  4%|██▏                                                        | 7396/199549 [02:04<1:09:52, 45.83it/s]"
     ]
    },
    {
     "name": "stdout",
     "output_type": "stream",
     "text": [
      "sort time:0.00400090217590332\n",
      "prediction time:0.0070018768310546875\n",
      "sort time:0.003000497817993164\n",
      "prediction time:0.006001472473144531\n",
      "sort time:0.0030007362365722656\n",
      "prediction time:0.008001565933227539\n",
      "sort time:0.00400090217590332\n",
      "prediction time:0.007001399993896484\n",
      "sort time:0.004000663757324219\n",
      "prediction time:0.007001399993896484\n",
      "sort time:0.0030007362365722656\n",
      "prediction time:0.007001399993896484\n",
      "sort time:0.004000663757324219\n",
      "prediction time:0.006001472473144531\n",
      "sort time:0.00400090217590332\n",
      "prediction time:0.007000923156738281\n",
      "sort time:0.00400090217590332\n",
      "prediction time:0.00800180435180664\n",
      "sort time:0.004000663757324219\n"
     ]
    },
    {
     "name": "stderr",
     "output_type": "stream",
     "text": [
      "  4%|██▏                                                        | 7406/199549 [02:04<1:09:02, 46.38it/s]"
     ]
    },
    {
     "name": "stdout",
     "output_type": "stream",
     "text": [
      "prediction time:0.008002042770385742\n",
      "sort time:0.00400090217590332\n",
      "prediction time:0.007001399993896484\n",
      "sort time:0.003000497817993164\n",
      "prediction time:0.0070018768310546875\n",
      "sort time:0.004000663757324219\n",
      "prediction time:0.007001399993896484\n",
      "sort time:0.004001140594482422\n",
      "prediction time:0.00800180435180664\n",
      "sort time:0.004000663757324219\n",
      "prediction time:0.00800180435180664\n",
      "sort time:0.003000497817993164\n",
      "prediction time:0.007001638412475586\n",
      "sort time:0.004001140594482422\n",
      "prediction time:0.007001638412475586\n",
      "sort time:0.004001140594482422\n",
      "prediction time:0.00800180435180664\n",
      "sort time:0.00400090217590332\n",
      "prediction time:0.008001565933227539\n",
      "sort time:0.003000974655151367"
     ]
    },
    {
     "name": "stderr",
     "output_type": "stream",
     "text": [
      "  4%|██▏                                                        | 7416/199549 [02:04<1:07:13, 47.63it/s]"
     ]
    },
    {
     "name": "stdout",
     "output_type": "stream",
     "text": [
      "\n",
      "prediction time:0.008002042770385742\n",
      "sort time:0.00400090217590332\n",
      "prediction time:0.007001638412475586\n",
      "sort time:0.00400090217590332\n",
      "prediction time:0.007001638412475586\n",
      "sort time:0.003000974655151367\n",
      "prediction time:0.007001638412475586\n",
      "sort time:0.0030007362365722656\n",
      "prediction time:0.008001565933227539\n",
      "sort time:0.004000663757324219\n",
      "prediction time:0.007001638412475586\n",
      "sort time:0.003000497817993164\n",
      "prediction time:0.007001399993896484\n",
      "sort time:0.003000974655151367\n",
      "prediction time:0.008002042770385742\n",
      "sort time:0.00400090217590332\n",
      "prediction time:0.006001472473144531\n"
     ]
    },
    {
     "name": "stderr",
     "output_type": "stream",
     "text": [
      "  4%|██▏                                                        | 7426/199549 [02:04<1:11:42, 44.66it/s]"
     ]
    },
    {
     "name": "stdout",
     "output_type": "stream",
     "text": [
      "sort time:0.004000663757324219\n",
      "prediction time:0.008002042770385742\n",
      "sort time:0.004000663757324219\n",
      "prediction time:0.0070018768310546875\n",
      "sort time:0.00400090217590332\n",
      "prediction time:0.014003276824951172\n",
      "sort time:0.004000663757324219\n",
      "prediction time:0.0070018768310546875\n",
      "sort time:0.004000663757324219\n",
      "prediction time:0.009002208709716797\n",
      "sort time:0.003000497817993164\n",
      "prediction time:0.008001565933227539\n",
      "sort time:0.003000497817993164\n",
      "prediction time:0.008002281188964844\n",
      "sort time:0.004000663757324219\n",
      "prediction time:0.007001161575317383\n"
     ]
    },
    {
     "name": "stderr",
     "output_type": "stream",
     "text": [
      "\r",
      "  4%|██▏                                                        | 7431/199549 [02:04<1:12:17, 44.29it/s]"
     ]
    },
    {
     "name": "stdout",
     "output_type": "stream",
     "text": [
      "sort time:0.004000425338745117\n",
      "prediction time:0.007001161575317383\n",
      "sort time:0.004000663757324219\n",
      "prediction time:0.00800180435180664\n",
      "sort time:0.004001140594482422\n",
      "prediction time:0.00800180435180664\n",
      "sort time:0.004000663757324219\n",
      "prediction time:0.00800180435180664\n",
      "sort time:0.004001140594482422\n",
      "prediction time:0.008002042770385742\n",
      "sort time:0.003000497817993164\n",
      "prediction time:0.012002706527709961\n",
      "sort time:0.00400090217590332\n",
      "prediction time:0.012002706527709961\n",
      "sort time:0.005001068115234375\n",
      "prediction time:0.008001565933227539\n",
      "sort time:0.0040013790130615234"
     ]
    },
    {
     "name": "stderr",
     "output_type": "stream",
     "text": [
      "  4%|██▏                                                        | 7441/199549 [02:05<1:16:40, 41.76it/s]"
     ]
    },
    {
     "name": "stdout",
     "output_type": "stream",
     "text": [
      "\n",
      "prediction time:0.008001327514648438\n",
      "sort time:0.00400090217590332\n",
      "prediction time:0.007001638412475586\n",
      "sort time:0.004001140594482422\n",
      "prediction time:0.007001399993896484\n",
      "sort time:0.0040013790130615234\n",
      "prediction time:0.0070018768310546875\n",
      "sort time:0.004000663757324219\n",
      "prediction time:0.009002208709716797\n",
      "sort time:0.004001140594482422\n",
      "prediction time:0.009001970291137695\n",
      "sort time:0.004001140594482422\n",
      "prediction time:0.00800180435180664\n",
      "sort time:0.003000497817993164\n",
      "prediction time:0.008002042770385742\n"
     ]
    },
    {
     "name": "stderr",
     "output_type": "stream",
     "text": [
      "  4%|██▏                                                        | 7451/199549 [02:05<1:15:50, 42.21it/s]"
     ]
    },
    {
     "name": "stdout",
     "output_type": "stream",
     "text": [
      "sort time:0.0050008296966552734\n",
      "prediction time:0.009001493453979492\n",
      "sort time:0.00400090217590332\n",
      "prediction time:0.007002115249633789\n",
      "sort time:0.005000591278076172\n",
      "prediction time:0.009001970291137695\n",
      "sort time:0.00400090217590332\n",
      "prediction time:0.0070018768310546875\n",
      "sort time:0.004000663757324219\n",
      "prediction time:0.008001565933227539\n",
      "sort time:0.0030007362365722656\n",
      "prediction time:0.007001638412475586\n",
      "sort time:0.0040013790130615234\n",
      "prediction time:0.009002208709716797\n",
      "sort time:0.00400090217590332\n",
      "prediction time:0.008001565933227539\n",
      "sort time:0.003000497817993164"
     ]
    },
    {
     "name": "stderr",
     "output_type": "stream",
     "text": [
      "\r",
      "  4%|██▏                                                        | 7456/199549 [02:05<1:16:20, 41.94it/s]"
     ]
    },
    {
     "name": "stdout",
     "output_type": "stream",
     "text": [
      "\n",
      "prediction time:0.0070018768310546875\n",
      "sort time:0.004001617431640625\n",
      "prediction time:0.007002115249633789\n",
      "sort time:0.003999948501586914\n",
      "prediction time:0.010002374649047852\n",
      "sort time:0.004000663757324219\n",
      "prediction time:0.00800180435180664\n",
      "sort time:0.00400090217590332\n",
      "prediction time:0.007001638412475586\n",
      "sort time:0.00400090217590332\n",
      "prediction time:0.01000213623046875\n",
      "sort time:0.00400090217590332\n",
      "prediction time:0.008001565933227539\n",
      "sort time:0.0030007362365722656\n",
      "prediction time:0.008002042770385742\n"
     ]
    },
    {
     "name": "stderr",
     "output_type": "stream",
     "text": [
      "  4%|██▏                                                        | 7466/199549 [02:05<1:17:48, 41.14it/s]"
     ]
    },
    {
     "name": "stdout",
     "output_type": "stream",
     "text": [
      "sort time:0.00400090217590332\n",
      "prediction time:0.009001970291137695\n",
      "sort time:0.00400090217590332\n",
      "prediction time:0.009001493453979492\n",
      "sort time:0.00400090217590332\n",
      "prediction time:0.008002042770385742\n",
      "sort time:0.004001140594482422\n",
      "prediction time:0.009001970291137695\n",
      "sort time:0.00400090217590332\n",
      "prediction time:0.00800180435180664\n",
      "sort time:0.004000663757324219\n",
      "prediction time:0.00800180435180664\n",
      "sort time:0.00400090217590332\n",
      "prediction time:0.00800180435180664\n",
      "sort time:0.00400090217590332\n",
      "prediction time:0.008001565933227539\n",
      "sort time:0.004001140594482422"
     ]
    },
    {
     "name": "stderr",
     "output_type": "stream",
     "text": [
      "  4%|██▏                                                        | 7476/199549 [02:06<1:15:02, 42.66it/s]"
     ]
    },
    {
     "name": "stdout",
     "output_type": "stream",
     "text": [
      "\n",
      "prediction time:0.00800180435180664\n",
      "sort time:0.00400090217590332\n",
      "prediction time:0.00800180435180664\n",
      "sort time:0.003000497817993164\n",
      "prediction time:0.0070018768310546875\n",
      "sort time:0.004000425338745117\n",
      "prediction time:0.009001731872558594\n",
      "sort time:0.003000974655151367\n",
      "prediction time:0.0070018768310546875\n",
      "sort time:0.004000663757324219\n",
      "prediction time:0.008001565933227539\n",
      "sort time:0.003000497817993164\n",
      "prediction time:0.006001472473144531\n",
      "sort time:0.00400090217590332\n",
      "prediction time:0.007001399993896484\n",
      "sort time:0.0040013790130615234\n"
     ]
    },
    {
     "name": "stderr",
     "output_type": "stream",
     "text": [
      "\r",
      "  4%|██▏                                                        | 7481/199549 [02:06<1:16:21, 41.92it/s]"
     ]
    },
    {
     "name": "stdout",
     "output_type": "stream",
     "text": [
      "prediction time:0.010002613067626953\n",
      "sort time:0.0050008296966552734\n",
      "prediction time:0.00800180435180664\n",
      "sort time:0.004000663757324219\n",
      "prediction time:0.0070018768310546875\n",
      "sort time:0.00400090217590332\n",
      "prediction time:0.009002447128295898\n",
      "sort time:0.004001140594482422\n",
      "prediction time:0.007001638412475586\n",
      "sort time:0.004001140594482422\n",
      "prediction time:0.010001897811889648\n",
      "sort time:0.004000663757324219\n",
      "prediction time:0.008001565933227539\n",
      "sort time:0.00400090217590332\n",
      "prediction time:0.007001638412475586\n",
      "sort time:0.0030007362365722656\n",
      "prediction time:0.008001565933227539\n",
      "sort time:0.0030007362365722656"
     ]
    },
    {
     "name": "stderr",
     "output_type": "stream",
     "text": [
      "  4%|██▏                                                        | 7491/199549 [02:06<1:11:16, 44.91it/s]"
     ]
    },
    {
     "name": "stdout",
     "output_type": "stream",
     "text": [
      "\n",
      "prediction time:0.0070018768310546875\n",
      "sort time:0.004000663757324219\n",
      "prediction time:0.00800180435180664\n",
      "sort time:0.003000974655151367\n",
      "prediction time:0.007001399993896484\n",
      "sort time:0.0030007362365722656\n",
      "prediction time:0.008002042770385742\n",
      "sort time:0.003000497817993164\n",
      "prediction time:0.007001399993896484\n",
      "sort time:0.003000497817993164\n",
      "prediction time:0.008002281188964844\n",
      "sort time:0.003000974655151367\n",
      "prediction time:0.008002042770385742\n",
      "sort time:0.004000663757324219\n",
      "prediction time:0.00800180435180664\n",
      "sort time:0.004001140594482422\n",
      "prediction time:0.007001399993896484\n",
      "sort time:0.004001140594482422"
     ]
    },
    {
     "name": "stderr",
     "output_type": "stream",
     "text": [
      "  4%|██▏                                                        | 7501/199549 [02:06<1:12:44, 44.00it/s]"
     ]
    },
    {
     "name": "stdout",
     "output_type": "stream",
     "text": [
      "\n",
      "prediction time:0.00800180435180664\n",
      "sort time:0.0040013790130615234\n",
      "prediction time:0.009001970291137695\n",
      "sort time:0.0030007362365722656\n",
      "prediction time:0.007001638412475586\n",
      "sort time:0.004001140594482422\n",
      "prediction time:0.008002758026123047\n",
      "sort time:0.003999948501586914\n",
      "prediction time:0.007001638412475586\n",
      "sort time:0.004000663757324219\n",
      "prediction time:0.00800180435180664\n",
      "sort time:0.004001140594482422\n",
      "prediction time:0.008001327514648438\n",
      "sort time:0.003000497817993164\n"
     ]
    },
    {
     "name": "stderr",
     "output_type": "stream",
     "text": [
      "\r",
      "  4%|██▏                                                        | 7506/199549 [02:06<1:13:00, 43.84it/s]"
     ]
    },
    {
     "name": "stdout",
     "output_type": "stream",
     "text": [
      "prediction time:0.007001638412475586\n",
      "sort time:0.004000425338745117\n",
      "prediction time:0.008001327514648438\n",
      "sort time:0.0030012130737304688\n",
      "prediction time:0.007001638412475586\n",
      "sort time:0.0030007362365722656\n",
      "prediction time:0.008001565933227539\n",
      "sort time:0.00400090217590332\n",
      "prediction time:0.007001399993896484\n",
      "sort time:0.004001140594482422\n",
      "prediction time:0.0070018768310546875\n",
      "sort time:0.00400090217590332\n",
      "prediction time:0.007001399993896484\n",
      "sort time:0.003000497817993164\n",
      "prediction time:0.0070018768310546875\n",
      "sort time:0.004000663757324219\n",
      "prediction time:0.009001970291137695\n"
     ]
    },
    {
     "name": "stderr",
     "output_type": "stream",
     "text": [
      "  4%|██▏                                                        | 7516/199549 [02:06<1:15:20, 42.48it/s]"
     ]
    },
    {
     "name": "stdout",
     "output_type": "stream",
     "text": [
      "sort time:0.004000663757324219\n",
      "prediction time:0.011002063751220703\n",
      "sort time:0.004001140594482422\n",
      "prediction time:0.00800180435180664\n",
      "sort time:0.003000497817993164\n",
      "prediction time:0.008001089096069336\n",
      "sort time:0.00400090217590332\n",
      "prediction time:0.009001970291137695\n",
      "sort time:0.0030007362365722656\n",
      "prediction time:0.007001638412475586\n",
      "sort time:0.00400090217590332\n",
      "prediction time:0.008001565933227539\n",
      "sort time:0.0030007362365722656\n",
      "prediction time:0.008002519607543945\n",
      "sort time:0.0030002593994140625\n",
      "prediction time:0.008001565933227539\n",
      "sort time:0.003000497817993164"
     ]
    },
    {
     "name": "stderr",
     "output_type": "stream",
     "text": [
      "\r",
      "  4%|██▏                                                        | 7521/199549 [02:07<1:14:26, 42.99it/s]"
     ]
    },
    {
     "name": "stdout",
     "output_type": "stream",
     "text": [
      "\n",
      "prediction time:0.00800180435180664\n",
      "sort time:0.004000663757324219\n",
      "prediction time:0.00800180435180664\n",
      "sort time:0.0030007362365722656\n",
      "prediction time:0.0070018768310546875\n",
      "sort time:0.004001140594482422\n",
      "prediction time:0.008002281188964844\n",
      "sort time:0.004000663757324219\n",
      "prediction time:0.007001638412475586\n",
      "sort time:0.004001140594482422\n",
      "prediction time:0.00800180435180664\n",
      "sort time:0.004000663757324219\n",
      "prediction time:0.010002613067626953\n",
      "sort time:0.004001140594482422\n",
      "prediction time:0.00800180435180664\n"
     ]
    },
    {
     "name": "stderr",
     "output_type": "stream",
     "text": [
      "  4%|██▏                                                        | 7531/199549 [02:07<1:21:54, 39.07it/s]"
     ]
    },
    {
     "name": "stdout",
     "output_type": "stream",
     "text": [
      "sort time:0.004001140594482422\n",
      "prediction time:0.009001970291137695\n",
      "sort time:0.0040013790130615234\n",
      "prediction time:0.008001565933227539\n",
      "sort time:0.004000663757324219\n",
      "prediction time:0.009002208709716797\n",
      "sort time:0.0050013065338134766\n",
      "prediction time:0.010002851486206055\n",
      "sort time:0.0050008296966552734\n",
      "prediction time:0.008000850677490234\n",
      "sort time:0.005001068115234375\n",
      "prediction time:0.008002042770385742\n",
      "sort time:0.00400090217590332\n",
      "prediction time:0.008001565933227539\n",
      "sort time:0.00400090217590332"
     ]
    },
    {
     "name": "stderr",
     "output_type": "stream",
     "text": [
      "  4%|██▏                                                        | 7539/199549 [02:07<1:21:25, 39.31it/s]"
     ]
    },
    {
     "name": "stdout",
     "output_type": "stream",
     "text": [
      "\n",
      "prediction time:0.007001638412475586\n",
      "sort time:0.003000497817993164\n",
      "prediction time:0.008001327514648438\n",
      "sort time:0.004001140594482422\n",
      "prediction time:0.00800180435180664\n",
      "sort time:0.0050008296966552734\n",
      "prediction time:0.008001327514648438\n",
      "sort time:0.005001544952392578\n",
      "prediction time:0.010001897811889648\n",
      "sort time:0.005001068115234375\n",
      "prediction time:0.008001565933227539\n",
      "sort time:0.0050008296966552734\n",
      "prediction time:0.00800180435180664\n",
      "sort time:0.00400090217590332\n",
      "prediction time:0.007001638412475586\n",
      "sort time:0.0030002593994140625"
     ]
    },
    {
     "name": "stderr",
     "output_type": "stream",
     "text": [
      "  4%|██▏                                                        | 7549/199549 [02:07<1:14:38, 42.87it/s]"
     ]
    },
    {
     "name": "stdout",
     "output_type": "stream",
     "text": [
      "\n",
      "prediction time:0.00800180435180664\n",
      "sort time:0.005001068115234375\n",
      "prediction time:0.009001970291137695\n",
      "sort time:0.0030007362365722656\n",
      "prediction time:0.00600123405456543\n",
      "sort time:0.0030007362365722656\n",
      "prediction time:0.008002281188964844\n",
      "sort time:0.004000186920166016\n",
      "prediction time:0.00800180435180664\n",
      "sort time:0.003000497817993164\n",
      "prediction time:0.0070018768310546875\n",
      "sort time:0.0030002593994140625\n",
      "prediction time:0.008002042770385742\n",
      "sort time:0.003000497817993164\n",
      "prediction time:0.00800180435180664\n",
      "sort time:0.003000497817993164\n"
     ]
    },
    {
     "name": "stderr",
     "output_type": "stream",
     "text": [
      "\r",
      "  4%|██▏                                                        | 7554/199549 [02:07<1:12:31, 44.12it/s]"
     ]
    },
    {
     "name": "stdout",
     "output_type": "stream",
     "text": [
      "prediction time:0.007001399993896484\n",
      "sort time:0.00400090217590332\n",
      "prediction time:0.007001638412475586\n",
      "sort time:0.004000663757324219\n",
      "prediction time:0.007001399993896484\n",
      "sort time:0.003000974655151367\n",
      "prediction time:0.00800180435180664\n",
      "sort time:0.0030007362365722656\n",
      "prediction time:0.00800180435180664\n",
      "sort time:0.004001140594482422\n",
      "prediction time:0.00800180435180664\n",
      "sort time:0.003000497817993164\n",
      "prediction time:0.007001638412475586\n",
      "sort time:0.003000974655151367\n",
      "prediction time:0.008002042770385742\n",
      "sort time:0.00400090217590332\n",
      "prediction time:0.00800180435180664\n",
      "sort time:0.004000663757324219\n",
      "prediction time:0.007001399993896484\n",
      "sort time:0.0040013790130615234"
     ]
    },
    {
     "name": "stderr",
     "output_type": "stream",
     "text": [
      "  4%|██▏                                                        | 7564/199549 [02:08<1:14:49, 42.76it/s]"
     ]
    },
    {
     "name": "stdout",
     "output_type": "stream",
     "text": [
      "\n",
      "prediction time:0.009001731872558594\n",
      "sort time:0.004000663757324219\n",
      "prediction time:0.007001161575317383\n",
      "sort time:0.004001140594482422\n",
      "prediction time:0.009001731872558594\n",
      "sort time:0.004001140594482422\n",
      "prediction time:0.007001161575317383\n",
      "sort time:0.00400090217590332\n",
      "prediction time:0.00800180435180664\n",
      "sort time:0.004000663757324219\n",
      "prediction time:0.00800180435180664\n",
      "sort time:0.00400090217590332\n",
      "prediction time:0.00800180435180664\n",
      "sort time:0.003000497817993164\n",
      "prediction time:0.008002281188964844\n"
     ]
    },
    {
     "name": "stderr",
     "output_type": "stream",
     "text": [
      "  4%|██▏                                                        | 7574/199549 [02:08<1:17:22, 41.35it/s]"
     ]
    },
    {
     "name": "stdout",
     "output_type": "stream",
     "text": [
      "sort time:0.004000663757324219\n",
      "prediction time:0.00800180435180664\n",
      "sort time:0.00400090217590332\n",
      "prediction time:0.00800180435180664\n",
      "sort time:0.004000663757324219\n",
      "prediction time:0.008001565933227539\n",
      "sort time:0.0040018558502197266\n",
      "prediction time:0.009001731872558594\n",
      "sort time:0.00500178337097168\n",
      "prediction time:0.008001327514648438\n",
      "sort time:0.004001617431640625\n",
      "prediction time:0.00800180435180664\n",
      "sort time:0.004001140594482422\n",
      "prediction time:0.009002447128295898\n",
      "sort time:0.0050013065338134766\n"
     ]
    },
    {
     "name": "stderr",
     "output_type": "stream",
     "text": [
      "\r",
      "  4%|██▏                                                        | 7579/199549 [02:08<1:18:44, 40.63it/s]"
     ]
    },
    {
     "name": "stdout",
     "output_type": "stream",
     "text": [
      "prediction time:0.009001970291137695\n",
      "sort time:0.00500178337097168\n",
      "prediction time:0.008001327514648438\n",
      "sort time:0.00400090217590332\n",
      "prediction time:0.009001731872558594\n",
      "sort time:0.004001140594482422\n",
      "prediction time:0.007000923156738281\n",
      "sort time:0.0040013790130615234\n",
      "prediction time:0.009001970291137695\n",
      "sort time:0.004000425338745117\n",
      "prediction time:0.009002685546875\n",
      "sort time:0.004000186920166016\n",
      "prediction time:0.008001327514648438\n",
      "sort time:0.003000497817993164\n",
      "prediction time:0.00800180435180664\n",
      "sort time:0.004001617431640625\n",
      "prediction time:0.007001638412475586\n",
      "sort time:0.00400090217590332"
     ]
    },
    {
     "name": "stderr",
     "output_type": "stream",
     "text": [
      "  4%|██▏                                                        | 7589/199549 [02:08<1:16:03, 42.07it/s]"
     ]
    },
    {
     "name": "stdout",
     "output_type": "stream",
     "text": [
      "\n",
      "prediction time:0.0070018768310546875\n",
      "sort time:0.0030002593994140625\n",
      "prediction time:0.007001161575317383\n",
      "sort time:0.00400090217590332\n",
      "prediction time:0.00800180435180664\n",
      "sort time:0.004000663757324219\n",
      "prediction time:0.008002042770385742\n",
      "sort time:0.0030002593994140625\n",
      "prediction time:0.009001493453979492\n",
      "sort time:0.00400090217590332\n",
      "prediction time:0.007001638412475586\n",
      "sort time:0.003000974655151367\n",
      "prediction time:0.008001565933227539\n",
      "sort time:0.004001617431640625\n",
      "prediction time:0.007001399993896484\n",
      "sort time:0.003000497817993164"
     ]
    },
    {
     "name": "stderr",
     "output_type": "stream",
     "text": [
      "\r",
      "  4%|██▏                                                        | 7594/199549 [02:08<1:15:53, 42.16it/s]"
     ]
    },
    {
     "name": "stdout",
     "output_type": "stream",
     "text": [
      "\n",
      "prediction time:0.00600123405456543\n",
      "sort time:0.0030007362365722656\n",
      "prediction time:0.008001565933227539\n",
      "sort time:0.003000497817993164\n",
      "prediction time:0.00800180435180664\n",
      "sort time:0.004001140594482422\n",
      "prediction time:0.009002447128295898\n",
      "sort time:0.004000663757324219\n",
      "prediction time:0.007001638412475586\n",
      "sort time:0.004001140594482422\n",
      "prediction time:0.00800180435180664\n",
      "sort time:0.003000974655151367\n",
      "prediction time:0.0070018768310546875\n",
      "sort time:0.003000974655151367\n",
      "prediction time:0.008002042770385742\n"
     ]
    },
    {
     "name": "stderr",
     "output_type": "stream",
     "text": [
      "  4%|██▏                                                        | 7604/199549 [02:09<1:15:48, 42.20it/s]"
     ]
    },
    {
     "name": "stdout",
     "output_type": "stream",
     "text": [
      "sort time:0.004000663757324219\n",
      "prediction time:0.007001638412475586\n",
      "sort time:0.0030007362365722656\n",
      "prediction time:0.007001638412475586\n",
      "sort time:0.004000663757324219\n",
      "prediction time:0.008001089096069336\n",
      "sort time:0.0030007362365722656\n",
      "prediction time:0.00800180435180664\n",
      "sort time:0.005001068115234375\n",
      "prediction time:0.00900125503540039\n",
      "sort time:0.00400090217590332\n",
      "prediction time:0.008001327514648438\n",
      "sort time:0.00400090217590332\n",
      "prediction time:0.008001327514648438\n",
      "sort time:0.004001140594482422\n",
      "prediction time:0.009002447128295898\n"
     ]
    },
    {
     "name": "stderr",
     "output_type": "stream",
     "text": [
      "  4%|██▎                                                        | 7614/199549 [02:09<1:15:44, 42.24it/s]"
     ]
    },
    {
     "name": "stdout",
     "output_type": "stream",
     "text": [
      "sort time:0.004000663757324219\n",
      "prediction time:0.007001638412475586\n",
      "sort time:0.0040013790130615234\n",
      "prediction time:0.007001638412475586\n",
      "sort time:0.00400090217590332\n",
      "prediction time:0.010001897811889648\n",
      "sort time:0.004001140594482422\n",
      "prediction time:0.00800180435180664\n",
      "sort time:0.0030007362365722656\n",
      "prediction time:0.009001731872558594\n",
      "sort time:0.003000497817993164\n",
      "prediction time:0.0070018768310546875\n",
      "sort time:0.0040013790130615234\n",
      "prediction time:0.007001638412475586\n",
      "sort time:0.004001140594482422\n",
      "prediction time:0.01000213623046875\n",
      "sort time:0.004000425338745117\n"
     ]
    },
    {
     "name": "stderr",
     "output_type": "stream",
     "text": [
      "\r",
      "  4%|██▎                                                        | 7619/199549 [02:09<1:17:58, 41.03it/s]"
     ]
    },
    {
     "name": "stdout",
     "output_type": "stream",
     "text": [
      "prediction time:0.007002115249633789\n",
      "sort time:0.004000663757324219\n",
      "prediction time:0.00800180435180664\n",
      "sort time:0.003000974655151367\n",
      "prediction time:0.00800180435180664\n",
      "sort time:0.004001140594482422\n",
      "prediction time:0.00800180435180664\n",
      "sort time:0.0040013790130615234\n",
      "prediction time:0.010002374649047852\n",
      "sort time:0.008002281188964844\n",
      "prediction time:0.009001731872558594\n",
      "sort time:0.006000995635986328\n",
      "prediction time:0.008001565933227539\n",
      "sort time:0.005001068115234375\n",
      "prediction time:0.008001565933227539\n"
     ]
    },
    {
     "name": "stderr",
     "output_type": "stream",
     "text": [
      "  4%|██▎                                                        | 7629/199549 [02:09<1:19:28, 40.25it/s]"
     ]
    },
    {
     "name": "stdout",
     "output_type": "stream",
     "text": [
      "sort time:0.00400090217590332\n",
      "prediction time:0.010002613067626953\n",
      "sort time:0.00400090217590332\n",
      "prediction time:0.007001638412475586\n",
      "sort time:0.0030007362365722656\n",
      "prediction time:0.007001399993896484\n",
      "sort time:0.004000663757324219\n",
      "prediction time:0.00800180435180664\n",
      "sort time:0.0050013065338134766\n",
      "prediction time:0.009002208709716797\n",
      "sort time:0.0030007362365722656\n",
      "prediction time:0.0070018768310546875\n",
      "sort time:0.004000663757324219\n",
      "prediction time:0.008001565933227539\n",
      "sort time:0.0030007362365722656\n",
      "prediction time:0.007001638412475586\n"
     ]
    },
    {
     "name": "stderr",
     "output_type": "stream",
     "text": [
      "  4%|██▎                                                        | 7639/199549 [02:09<1:14:40, 42.83it/s]"
     ]
    },
    {
     "name": "stdout",
     "output_type": "stream",
     "text": [
      "sort time:0.004000663757324219\n",
      "prediction time:0.007001638412475586\n",
      "sort time:0.004001140594482422\n",
      "prediction time:0.009001970291137695\n",
      "sort time:0.004001140594482422\n",
      "prediction time:0.00800180435180664\n",
      "sort time:0.0030002593994140625\n",
      "prediction time:0.009001731872558594\n",
      "sort time:0.003000974655151367\n",
      "prediction time:0.0070018768310546875\n",
      "sort time:0.0030007362365722656\n",
      "prediction time:0.007001638412475586\n",
      "sort time:0.003000974655151367\n",
      "prediction time:0.006001472473144531\n",
      "sort time:0.003000497817993164\n",
      "prediction time:0.00600123405456543\n",
      "sort time:0.0040013790130615234\n"
     ]
    },
    {
     "name": "stderr",
     "output_type": "stream",
     "text": [
      "\r",
      "  4%|██▎                                                        | 7644/199549 [02:10<1:12:37, 44.04it/s]"
     ]
    },
    {
     "name": "stdout",
     "output_type": "stream",
     "text": [
      "prediction time:0.009001731872558594\n",
      "sort time:0.004001140594482422\n",
      "prediction time:0.009001970291137695\n",
      "sort time:0.004001140594482422\n",
      "prediction time:0.0070018768310546875\n",
      "sort time:0.003000497817993164\n",
      "prediction time:0.007001638412475586\n",
      "sort time:0.004000663757324219\n",
      "prediction time:0.0070018768310546875\n",
      "sort time:0.0030007362365722656\n",
      "prediction time:0.007001638412475586\n",
      "sort time:0.00400090217590332\n",
      "prediction time:0.007001638412475586\n",
      "sort time:0.003000974655151367\n",
      "prediction time:0.007001638412475586\n",
      "sort time:0.004001140594482422\n",
      "prediction time:0.006001472473144531\n",
      "sort time:0.004000663757324219\n",
      "prediction time:0.0070018768310546875\n"
     ]
    },
    {
     "name": "stderr",
     "output_type": "stream",
     "text": [
      "  4%|██▎                                                        | 7654/199549 [02:10<1:11:03, 45.01it/s]"
     ]
    },
    {
     "name": "stdout",
     "output_type": "stream",
     "text": [
      "sort time:0.0030012130737304688\n",
      "prediction time:0.00800180435180664\n",
      "sort time:0.00400090217590332\n",
      "prediction time:0.008001327514648438\n",
      "sort time:0.003000974655151367\n",
      "prediction time:0.00800180435180664\n",
      "sort time:0.00400090217590332\n",
      "prediction time:0.007001638412475586\n",
      "sort time:0.0030007362365722656\n",
      "prediction time:0.006001472473144531\n",
      "sort time:0.003000497817993164\n",
      "prediction time:0.0070018768310546875\n",
      "sort time:0.00400090217590332\n",
      "prediction time:0.00800180435180664\n",
      "sort time:0.004000663757324219\n",
      "prediction time:0.007001399993896484\n",
      "sort time:0.003000497817993164"
     ]
    },
    {
     "name": "stderr",
     "output_type": "stream",
     "text": [
      "  4%|██▎                                                        | 7664/199549 [02:10<1:10:54, 45.10it/s]"
     ]
    },
    {
     "name": "stdout",
     "output_type": "stream",
     "text": [
      "\n",
      "prediction time:0.008002042770385742\n",
      "sort time:0.004000663757324219\n",
      "prediction time:0.007001638412475586\n",
      "sort time:0.00400090217590332\n",
      "prediction time:0.008002042770385742\n",
      "sort time:0.004000425338745117\n",
      "prediction time:0.008002042770385742\n",
      "sort time:0.003000497817993164\n",
      "prediction time:0.008002042770385742\n",
      "sort time:0.004001140594482422\n",
      "prediction time:0.006001472473144531\n",
      "sort time:0.004000663757324219\n",
      "prediction time:0.00800180435180664\n",
      "sort time:0.003000497817993164\n",
      "prediction time:0.007001638412475586\n",
      "sort time:0.004001140594482422\n",
      "prediction time:0.008001565933227539\n",
      "sort time:0.003000974655151367"
     ]
    },
    {
     "name": "stderr",
     "output_type": "stream",
     "text": [
      "\r",
      "  4%|██▎                                                        | 7669/199549 [02:10<1:14:12, 43.10it/s]"
     ]
    },
    {
     "name": "stdout",
     "output_type": "stream",
     "text": [
      "\n",
      "prediction time:0.008002042770385742\n",
      "sort time:0.004001140594482422\n",
      "prediction time:0.009001970291137695\n",
      "sort time:0.004000663757324219\n",
      "prediction time:0.008002042770385742\n",
      "sort time:0.005001068115234375\n",
      "prediction time:0.008002042770385742\n",
      "sort time:0.0050013065338134766\n",
      "prediction time:0.009001731872558594\n",
      "sort time:0.00400090217590332\n",
      "prediction time:0.007001161575317383\n",
      "sort time:0.004000663757324219\n",
      "prediction time:0.007001638412475586\n",
      "sort time:0.004001140594482422\n",
      "prediction time:0.008002042770385742\n"
     ]
    },
    {
     "name": "stderr",
     "output_type": "stream",
     "text": [
      "  4%|██▎                                                        | 7679/199549 [02:10<1:12:50, 43.90it/s]"
     ]
    },
    {
     "name": "stdout",
     "output_type": "stream",
     "text": [
      "sort time:0.004000663757324219\n",
      "prediction time:0.00800180435180664\n",
      "sort time:0.004001140594482422\n",
      "prediction time:0.007001161575317383\n",
      "sort time:0.00400090217590332\n",
      "prediction time:0.008002042770385742\n",
      "sort time:0.003000497817993164\n",
      "prediction time:0.007001638412475586\n",
      "sort time:0.00400090217590332\n",
      "prediction time:0.00800180435180664\n",
      "sort time:0.004001140594482422\n",
      "prediction time:0.00800180435180664\n",
      "sort time:0.00400090217590332\n",
      "prediction time:0.007001638412475586\n",
      "sort time:0.004000663757324219\n",
      "prediction time:0.006000995635986328\n"
     ]
    },
    {
     "name": "stderr",
     "output_type": "stream",
     "text": [
      "  4%|██▎                                                        | 7689/199549 [02:11<1:12:06, 44.34it/s]"
     ]
    },
    {
     "name": "stdout",
     "output_type": "stream",
     "text": [
      "sort time:0.0040013790130615234\n",
      "prediction time:0.008002281188964844\n",
      "sort time:0.0030007362365722656\n",
      "prediction time:0.00800180435180664\n",
      "sort time:0.004001140594482422\n",
      "prediction time:0.00800180435180664\n",
      "sort time:0.004000663757324219\n",
      "prediction time:0.00800180435180664\n",
      "sort time:0.0040013790130615234\n",
      "prediction time:0.008002042770385742\n",
      "sort time:0.003000497817993164\n",
      "prediction time:0.008002042770385742\n",
      "sort time:0.00400090217590332\n",
      "prediction time:0.008001565933227539\n",
      "sort time:0.00400090217590332\n",
      "prediction time:0.008002281188964844\n",
      "sort time:0.004000186920166016\n",
      "prediction time:0.008001327514648438\n"
     ]
    },
    {
     "name": "stderr",
     "output_type": "stream",
     "text": [
      "  4%|██▎                                                        | 7699/199549 [02:11<1:12:18, 44.22it/s]"
     ]
    },
    {
     "name": "stdout",
     "output_type": "stream",
     "text": [
      "sort time:0.0030012130737304688\n",
      "prediction time:0.0070018768310546875\n",
      "sort time:0.004001140594482422\n",
      "prediction time:0.007001399993896484\n",
      "sort time:0.004001140594482422\n",
      "prediction time:0.00800180435180664\n",
      "sort time:0.0040013790130615234\n",
      "prediction time:0.009001970291137695\n",
      "sort time:0.0030002593994140625\n",
      "prediction time:0.007001399993896484\n",
      "sort time:0.004001140594482422\n",
      "prediction time:0.00800180435180664\n",
      "sort time:0.0040013790130615234\n",
      "prediction time:0.007001161575317383\n",
      "sort time:0.003000974655151367\n",
      "prediction time:0.008002042770385742\n",
      "sort time:0.004000663757324219\n"
     ]
    },
    {
     "name": "stderr",
     "output_type": "stream",
     "text": [
      "\r",
      "  4%|██▎                                                        | 7704/199549 [02:11<1:11:43, 44.58it/s]"
     ]
    },
    {
     "name": "stdout",
     "output_type": "stream",
     "text": [
      "prediction time:0.0070018768310546875\n",
      "sort time:0.004001140594482422\n",
      "prediction time:0.00800180435180664\n",
      "sort time:0.003000974655151367\n",
      "prediction time:0.0070018768310546875\n",
      "sort time:0.0030002593994140625\n",
      "prediction time:0.009001970291137695\n",
      "sort time:0.003000497817993164\n",
      "prediction time:0.007001638412475586\n",
      "sort time:0.003000497817993164\n",
      "prediction time:0.0070018768310546875\n",
      "sort time:0.004000663757324219\n",
      "prediction time:0.00800180435180664\n",
      "sort time:0.003000974655151367\n",
      "prediction time:0.007001638412475586\n",
      "sort time:0.00400090217590332\n",
      "prediction time:0.008002042770385742\n",
      "sort time:0.0030007362365722656\n",
      "prediction time:0.00800180435180664\n"
     ]
    },
    {
     "name": "stderr",
     "output_type": "stream",
     "text": [
      "  4%|██▎                                                        | 7714/199549 [02:11<1:12:41, 43.98it/s]"
     ]
    },
    {
     "name": "stdout",
     "output_type": "stream",
     "text": [
      "sort time:0.00400090217590332\n",
      "prediction time:0.007001399993896484\n",
      "sort time:0.00400090217590332\n",
      "prediction time:0.007001161575317383\n",
      "sort time:0.004001140594482422\n",
      "prediction time:0.007001638412475586\n",
      "sort time:0.00400090217590332\n",
      "prediction time:0.008002042770385742\n",
      "sort time:0.004000663757324219\n",
      "prediction time:0.0070002079010009766\n",
      "sort time:0.004001140594482422\n",
      "prediction time:0.00800180435180664\n",
      "sort time:0.0030007362365722656\n",
      "prediction time:0.007001638412475586\n",
      "sort time:0.00400090217590332\n",
      "prediction time:0.00800180435180664\n",
      "sort time:0.005001068115234375"
     ]
    },
    {
     "name": "stderr",
     "output_type": "stream",
     "text": [
      "  4%|██▎                                                        | 7724/199549 [02:11<1:12:25, 44.15it/s]"
     ]
    },
    {
     "name": "stdout",
     "output_type": "stream",
     "text": [
      "\n",
      "prediction time:0.009001731872558594\n",
      "sort time:0.004001617431640625\n",
      "prediction time:0.008001327514648438\n",
      "sort time:0.0050013065338134766\n",
      "prediction time:0.008001327514648438\n",
      "sort time:0.003000497817993164\n",
      "prediction time:0.00600123405456543\n",
      "sort time:0.004001140594482422\n",
      "prediction time:0.00800180435180664\n",
      "sort time:0.004000663757324219\n",
      "prediction time:0.007001638412475586\n",
      "sort time:0.0030007362365722656\n",
      "prediction time:0.009002447128295898\n",
      "sort time:0.0030002593994140625\n",
      "prediction time:0.0070018768310546875\n",
      "sort time:0.00400090217590332"
     ]
    },
    {
     "name": "stderr",
     "output_type": "stream",
     "text": [
      "\r",
      "  4%|██▎                                                        | 7729/199549 [02:11<1:11:36, 44.65it/s]"
     ]
    },
    {
     "name": "stdout",
     "output_type": "stream",
     "text": [
      "\n",
      "prediction time:0.007001638412475586\n",
      "sort time:0.0040013790130615234\n",
      "prediction time:0.007001638412475586\n",
      "sort time:0.004001140594482422\n",
      "prediction time:0.007001638412475586\n",
      "sort time:0.004000663757324219\n",
      "prediction time:0.007001638412475586\n",
      "sort time:0.004001617431640625\n",
      "prediction time:0.007001638412475586\n",
      "sort time:0.00400090217590332\n",
      "prediction time:0.007001399993896484\n",
      "sort time:0.00400090217590332\n",
      "prediction time:0.008001327514648438\n",
      "sort time:0.004001140594482422\n",
      "prediction time:0.00800180435180664\n",
      "sort time:0.003000497817993164\n",
      "prediction time:0.00600123405456543\n"
     ]
    },
    {
     "name": "stderr",
     "output_type": "stream",
     "text": [
      "  4%|██▎                                                        | 7739/199549 [02:12<1:11:18, 44.83it/s]"
     ]
    },
    {
     "name": "stdout",
     "output_type": "stream",
     "text": [
      "sort time:0.004000663757324219\n",
      "prediction time:0.008001565933227539\n",
      "sort time:0.003000497817993164\n",
      "prediction time:0.00800180435180664\n",
      "sort time:0.004001140594482422\n",
      "prediction time:0.007001399993896484\n",
      "sort time:0.0030007362365722656\n",
      "prediction time:0.007001638412475586\n",
      "sort time:0.003000974655151367\n",
      "prediction time:0.00800180435180664\n",
      "sort time:0.004001140594482422\n",
      "prediction time:0.008001565933227539\n",
      "sort time:0.003000497817993164\n",
      "prediction time:0.009001731872558594\n",
      "sort time:0.0030007362365722656\n",
      "prediction time:0.007001638412475586\n",
      "sort time:0.003000497817993164\n",
      "prediction time:0.008001327514648438\n"
     ]
    },
    {
     "name": "stderr",
     "output_type": "stream",
     "text": [
      "  4%|██▎                                                        | 7749/199549 [02:12<1:11:49, 44.50it/s]"
     ]
    },
    {
     "name": "stdout",
     "output_type": "stream",
     "text": [
      "sort time:0.00400090217590332\n",
      "prediction time:0.009001970291137695\n",
      "sort time:0.0040013790130615234\n",
      "prediction time:0.008001565933227539\n",
      "sort time:0.003000497817993164\n",
      "prediction time:0.009001731872558594\n",
      "sort time:0.003000497817993164\n",
      "prediction time:0.007001399993896484\n",
      "sort time:0.0030007362365722656\n",
      "prediction time:0.007001638412475586\n",
      "sort time:0.003000974655151367\n",
      "prediction time:0.00800180435180664\n",
      "sort time:0.004000425338745117\n",
      "prediction time:0.00800180435180664\n",
      "sort time:0.003000020980834961\n",
      "prediction time:0.007001161575317383\n"
     ]
    },
    {
     "name": "stderr",
     "output_type": "stream",
     "text": [
      "  4%|██▎                                                        | 7759/199549 [02:12<1:11:36, 44.64it/s]"
     ]
    },
    {
     "name": "stdout",
     "output_type": "stream",
     "text": [
      "sort time:0.004001140594482422\n",
      "prediction time:0.0070018768310546875\n",
      "sort time:0.00400090217590332\n",
      "prediction time:0.009001970291137695\n",
      "sort time:0.003000497817993164\n",
      "prediction time:0.008002042770385742\n",
      "sort time:0.0030007362365722656\n",
      "prediction time:0.010002613067626953\n",
      "sort time:0.00400090217590332\n",
      "prediction time:0.007001399993896484\n",
      "sort time:0.0040013790130615234\n",
      "prediction time:0.00800180435180664\n",
      "sort time:0.0030007362365722656\n",
      "prediction time:0.007001638412475586\n",
      "sort time:0.003000497817993164\n",
      "prediction time:0.007000923156738281\n",
      "sort time:0.004001617431640625\n"
     ]
    },
    {
     "name": "stderr",
     "output_type": "stream",
     "text": [
      "\r",
      "  4%|██▎                                                        | 7764/199549 [02:12<1:11:24, 44.76it/s]"
     ]
    },
    {
     "name": "stdout",
     "output_type": "stream",
     "text": [
      "prediction time:0.0070018768310546875\n",
      "sort time:0.00400090217590332\n",
      "prediction time:0.009003162384033203\n",
      "sort time:0.002999544143676758\n",
      "prediction time:0.007001161575317383\n",
      "sort time:0.004001617431640625\n",
      "prediction time:0.007001638412475586\n",
      "sort time:0.0030007362365722656\n",
      "prediction time:0.007001638412475586\n",
      "sort time:0.0050008296966552734\n",
      "prediction time:0.009001970291137695\n",
      "sort time:0.00400090217590332\n",
      "prediction time:0.008001565933227539\n",
      "sort time:0.004001617431640625\n",
      "prediction time:0.008001089096069336\n",
      "sort time:0.0040013790130615234\n",
      "prediction time:0.009002208709716797\n"
     ]
    },
    {
     "name": "stderr",
     "output_type": "stream",
     "text": [
      "  4%|██▎                                                        | 7774/199549 [02:12<1:11:28, 44.72it/s]"
     ]
    },
    {
     "name": "stdout",
     "output_type": "stream",
     "text": [
      "sort time:0.004000663757324219\n",
      "prediction time:0.007001638412475586\n",
      "sort time:0.004000663757324219\n",
      "prediction time:0.008002042770385742\n",
      "sort time:0.003000497817993164\n",
      "prediction time:0.007001638412475586\n",
      "sort time:0.00400090217590332\n",
      "prediction time:0.007001638412475586\n",
      "sort time:0.0030007362365722656\n",
      "prediction time:0.00800180435180664\n",
      "sort time:0.0030007362365722656\n",
      "prediction time:0.0070018768310546875\n",
      "sort time:0.004001140594482422\n",
      "prediction time:0.00800180435180664\n",
      "sort time:0.0030007362365722656\n",
      "prediction time:0.00800180435180664\n",
      "sort time:0.004001140594482422\n",
      "prediction time:0.007002115249633789\n",
      "sort time:0.0030002593994140625"
     ]
    },
    {
     "name": "stderr",
     "output_type": "stream",
     "text": [
      "  4%|██▎                                                        | 7784/199549 [02:13<1:09:23, 46.06it/s]"
     ]
    },
    {
     "name": "stdout",
     "output_type": "stream",
     "text": [
      "\n",
      "prediction time:0.009002208709716797\n",
      "sort time:0.004000663757324219\n",
      "prediction time:0.007001638412475586\n",
      "sort time:0.003000497817993164\n",
      "prediction time:0.009001970291137695\n",
      "sort time:0.0030007362365722656\n",
      "prediction time:0.008001565933227539\n",
      "sort time:0.004001140594482422\n",
      "prediction time:0.007001638412475586\n",
      "sort time:0.003000497817993164\n",
      "prediction time:0.00800180435180664\n",
      "sort time:0.003000497817993164\n",
      "prediction time:0.008001565933227539\n",
      "sort time:0.0030007362365722656\n",
      "prediction time:0.007001638412475586\n",
      "sort time:0.004000663757324219\n",
      "prediction time:0.007001638412475586\n"
     ]
    },
    {
     "name": "stderr",
     "output_type": "stream",
     "text": [
      "\r",
      "  4%|██▎                                                        | 7789/199549 [02:13<1:09:40, 45.87it/s]"
     ]
    },
    {
     "name": "stdout",
     "output_type": "stream",
     "text": [
      "sort time:0.004000663757324219\n",
      "prediction time:0.00800180435180664\n",
      "sort time:0.0030002593994140625\n",
      "prediction time:0.009001731872558594\n",
      "sort time:0.003000497817993164\n",
      "prediction time:0.007001399993896484\n",
      "sort time:0.0030012130737304688\n",
      "prediction time:0.007001399993896484\n",
      "sort time:0.004000663757324219\n",
      "prediction time:0.00800180435180664\n",
      "sort time:0.004000663757324219\n",
      "prediction time:0.007001399993896484\n",
      "sort time:0.0030007362365722656\n",
      "prediction time:0.00800180435180664\n",
      "sort time:0.004000663757324219\n",
      "prediction time:0.007001161575317383\n",
      "sort time:0.003000974655151367"
     ]
    },
    {
     "name": "stderr",
     "output_type": "stream",
     "text": [
      "  4%|██▎                                                        | 7799/199549 [02:13<1:10:19, 45.44it/s]"
     ]
    },
    {
     "name": "stdout",
     "output_type": "stream",
     "text": [
      "\n",
      "prediction time:0.008002519607543945\n",
      "sort time:0.004000186920166016\n",
      "prediction time:0.008001565933227539\n",
      "sort time:0.0030007362365722656\n",
      "prediction time:0.007001638412475586\n",
      "sort time:0.003000497817993164\n",
      "prediction time:0.00600123405456543\n",
      "sort time:0.0030007362365722656\n",
      "prediction time:0.00800180435180664\n",
      "sort time:0.003000497817993164\n",
      "prediction time:0.009001970291137695\n",
      "sort time:0.003000497817993164\n",
      "prediction time:0.00600123405456543\n",
      "sort time:0.004001140594482422\n",
      "prediction time:0.00800180435180664\n",
      "sort time:0.003000497817993164\n",
      "prediction time:0.0070018768310546875\n"
     ]
    },
    {
     "name": "stderr",
     "output_type": "stream",
     "text": [
      "  4%|██▎                                                        | 7809/199549 [02:13<1:11:10, 44.90it/s]"
     ]
    },
    {
     "name": "stdout",
     "output_type": "stream",
     "text": [
      "sort time:0.00400090217590332\n",
      "prediction time:0.009002447128295898\n",
      "sort time:0.0040013790130615234\n",
      "prediction time:0.00800180435180664\n",
      "sort time:0.003000497817993164\n",
      "prediction time:0.00800180435180664\n",
      "sort time:0.003000497817993164\n",
      "prediction time:0.00800180435180664\n",
      "sort time:0.0030007362365722656\n",
      "prediction time:0.008001565933227539\n",
      "sort time:0.004001617431640625\n",
      "prediction time:0.007001638412475586\n",
      "sort time:0.004000663757324219\n",
      "prediction time:0.007001638412475586\n",
      "sort time:0.004001140594482422\n",
      "prediction time:0.0070018768310546875\n"
     ]
    },
    {
     "name": "stderr",
     "output_type": "stream",
     "text": [
      "\r",
      "  4%|██▎                                                        | 7814/199549 [02:13<1:13:12, 43.65it/s]"
     ]
    },
    {
     "name": "stdout",
     "output_type": "stream",
     "text": [
      "sort time:0.004001140594482422\n",
      "prediction time:0.009002923965454102\n",
      "sort time:0.004000186920166016\n",
      "prediction time:0.007001399993896484\n",
      "sort time:0.005001544952392578\n",
      "prediction time:0.007001399993896484\n",
      "sort time:0.004001140594482422\n",
      "prediction time:0.01400303840637207\n",
      "sort time:0.004000663757324219\n",
      "prediction time:0.010002374649047852\n",
      "sort time:0.00400090217590332\n",
      "prediction time:0.008001089096069336\n",
      "sort time:0.0030007362365722656\n",
      "prediction time:0.00800180435180664\n"
     ]
    },
    {
     "name": "stderr",
     "output_type": "stream",
     "text": [
      "  4%|██▎                                                        | 7824/199549 [02:14<1:13:34, 43.43it/s]"
     ]
    },
    {
     "name": "stdout",
     "output_type": "stream",
     "text": [
      "sort time:0.004000663757324219\n",
      "prediction time:0.007001638412475586\n",
      "sort time:0.003000497817993164\n",
      "prediction time:0.00800180435180664\n",
      "sort time:0.0030007362365722656\n",
      "prediction time:0.0070018768310546875\n",
      "sort time:0.004000663757324219\n",
      "prediction time:0.006000995635986328\n",
      "sort time:0.004001140594482422\n",
      "prediction time:0.00800180435180664\n",
      "sort time:0.003000497817993164\n",
      "prediction time:0.008002042770385742\n",
      "sort time:0.0040013790130615234\n",
      "prediction time:0.009001970291137695\n",
      "sort time:0.0040013790130615234\n",
      "prediction time:0.00800180435180664\n",
      "sort time:0.003000497817993164\n",
      "prediction time:0.00600123405456543\n"
     ]
    },
    {
     "name": "stderr",
     "output_type": "stream",
     "text": [
      "  4%|██▎                                                        | 7834/199549 [02:14<1:11:16, 44.83it/s]"
     ]
    },
    {
     "name": "stdout",
     "output_type": "stream",
     "text": [
      "sort time:0.003000497817993164\n",
      "prediction time:0.007001399993896484\n",
      "sort time:0.004001140594482422\n",
      "prediction time:0.007001638412475586\n",
      "sort time:0.004000663757324219\n",
      "prediction time:0.009002447128295898\n",
      "sort time:0.004001140594482422\n",
      "prediction time:0.006001472473144531\n",
      "sort time:0.003000497817993164\n",
      "prediction time:0.00800180435180664\n",
      "sort time:0.003000497817993164\n",
      "prediction time:0.007001638412475586\n",
      "sort time:0.003000497817993164\n",
      "prediction time:0.00800180435180664\n",
      "sort time:0.0040013790130615234\n",
      "prediction time:0.009001731872558594\n",
      "sort time:0.00400090217590332\n",
      "prediction time:0.007001638412475586\n",
      "sort time:0.003000497817993164"
     ]
    },
    {
     "name": "stderr",
     "output_type": "stream",
     "text": [
      "  4%|██▎                                                        | 7844/199549 [02:14<1:11:30, 44.68it/s]"
     ]
    },
    {
     "name": "stdout",
     "output_type": "stream",
     "text": [
      "\n",
      "prediction time:0.007001399993896484\n",
      "sort time:0.00400090217590332\n",
      "prediction time:0.008002042770385742\n",
      "sort time:0.00400090217590332\n",
      "prediction time:0.007001399993896484\n",
      "sort time:0.00400090217590332\n",
      "prediction time:0.009002208709716797\n",
      "sort time:0.004000663757324219\n",
      "prediction time:0.007001638412475586\n",
      "sort time:0.004001140594482422\n",
      "prediction time:0.00800180435180664\n",
      "sort time:0.004001140594482422\n",
      "prediction time:0.007001161575317383\n",
      "sort time:0.003000974655151367\n",
      "prediction time:0.006001472473144531\n",
      "sort time:0.004001140594482422\n"
     ]
    },
    {
     "name": "stderr",
     "output_type": "stream",
     "text": [
      "\r",
      "  4%|██▎                                                        | 7849/199549 [02:14<1:10:34, 45.27it/s]"
     ]
    },
    {
     "name": "stdout",
     "output_type": "stream",
     "text": [
      "prediction time:0.008001565933227539\n",
      "sort time:0.0040013790130615234\n",
      "prediction time:0.007000923156738281\n",
      "sort time:0.00400090217590332\n",
      "prediction time:0.009001970291137695\n",
      "sort time:0.00400090217590332\n",
      "prediction time:0.007001638412475586\n",
      "sort time:0.0030002593994140625\n",
      "prediction time:0.007001638412475586\n",
      "sort time:0.003000497817993164\n",
      "prediction time:0.00800180435180664\n",
      "sort time:0.004000663757324219\n",
      "prediction time:0.007001638412475586\n",
      "sort time:0.003000974655151367\n",
      "prediction time:0.008001565933227539\n",
      "sort time:0.0030007362365722656\n",
      "prediction time:0.00800180435180664\n",
      "sort time:0.003000497817993164\n",
      "prediction time:0.007001638412475586\n"
     ]
    },
    {
     "name": "stderr",
     "output_type": "stream",
     "text": [
      "  4%|██▎                                                        | 7859/199549 [02:14<1:11:07, 44.92it/s]"
     ]
    },
    {
     "name": "stdout",
     "output_type": "stream",
     "text": [
      "sort time:0.004001140594482422\n",
      "prediction time:0.007001399993896484\n",
      "sort time:0.00400090217590332\n",
      "prediction time:0.0070018768310546875\n",
      "sort time:0.00400090217590332\n",
      "prediction time:0.00800180435180664\n",
      "sort time:0.00400090217590332\n",
      "prediction time:0.008002281188964844\n",
      "sort time:0.004000425338745117\n",
      "prediction time:0.008002042770385742\n",
      "sort time:0.0030007362365722656\n",
      "prediction time:0.008002042770385742\n",
      "sort time:0.004001140594482422\n",
      "prediction time:0.0070018768310546875\n",
      "sort time:0.004000425338745117\n",
      "prediction time:0.00800180435180664\n"
     ]
    },
    {
     "name": "stderr",
     "output_type": "stream",
     "text": [
      "  4%|██▎                                                        | 7869/199549 [02:15<1:14:01, 43.16it/s]"
     ]
    },
    {
     "name": "stdout",
     "output_type": "stream",
     "text": [
      "sort time:0.005001544952392578\n",
      "prediction time:0.008001327514648438\n",
      "sort time:0.005001544952392578\n",
      "prediction time:0.007001161575317383\n",
      "sort time:0.006001710891723633\n",
      "prediction time:0.008001565933227539\n",
      "sort time:0.00400090217590332\n",
      "prediction time:0.007001161575317383\n",
      "sort time:0.0040013790130615234\n",
      "prediction time:0.007001638412475586\n",
      "sort time:0.0030007362365722656\n",
      "prediction time:0.006001472473144531\n",
      "sort time:0.004000663757324219\n",
      "prediction time:0.008001565933227539\n",
      "sort time:0.00400090217590332\n"
     ]
    },
    {
     "name": "stderr",
     "output_type": "stream",
     "text": [
      "\r",
      "  4%|██▎                                                        | 7874/199549 [02:15<1:13:05, 43.71it/s]"
     ]
    },
    {
     "name": "stdout",
     "output_type": "stream",
     "text": [
      "prediction time:0.007001638412475586\n",
      "sort time:0.004001140594482422\n",
      "prediction time:0.007001638412475586\n",
      "sort time:0.004000663757324219\n",
      "prediction time:0.00800180435180664\n",
      "sort time:0.0030007362365722656\n",
      "prediction time:0.0070018768310546875\n",
      "sort time:0.0030007362365722656\n",
      "prediction time:0.00800180435180664\n",
      "sort time:0.00400090217590332\n",
      "prediction time:0.007001638412475586\n",
      "sort time:0.004001140594482422\n",
      "prediction time:0.00800180435180664\n",
      "sort time:0.004001140594482422\n",
      "prediction time:0.007001399993896484\n",
      "sort time:0.004000663757324219\n",
      "prediction time:0.007001638412475586\n",
      "sort time:0.004000663757324219\n",
      "prediction time:0.008002042770385742\n",
      "sort time:0.00400090217590332"
     ]
    },
    {
     "name": "stderr",
     "output_type": "stream",
     "text": [
      "  4%|██▎                                                        | 7884/199549 [02:15<1:12:34, 44.01it/s]"
     ]
    },
    {
     "name": "stdout",
     "output_type": "stream",
     "text": [
      "\n",
      "prediction time:0.008002042770385742\n",
      "sort time:0.004001140594482422\n",
      "prediction time:0.007001638412475586\n",
      "sort time:0.00400090217590332\n",
      "prediction time:0.007001399993896484\n",
      "sort time:0.003000497817993164\n",
      "prediction time:0.006001472473144531\n",
      "sort time:0.0030007362365722656\n",
      "prediction time:0.008002042770385742\n",
      "sort time:0.003000497817993164\n",
      "prediction time:0.00800180435180664\n",
      "sort time:0.003000974655151367\n",
      "prediction time:0.009002208709716797\n",
      "sort time:0.003000497817993164\n",
      "prediction time:0.007001638412475586\n",
      "sort time:0.00400090217590332"
     ]
    },
    {
     "name": "stderr",
     "output_type": "stream",
     "text": [
      "  4%|██▎                                                        | 7894/199549 [02:15<1:13:04, 43.71it/s]"
     ]
    },
    {
     "name": "stdout",
     "output_type": "stream",
     "text": [
      "\n",
      "prediction time:0.008002042770385742\n",
      "sort time:0.00400090217590332\n",
      "prediction time:0.00800180435180664\n",
      "sort time:0.003000497817993164\n",
      "prediction time:0.0070018768310546875\n",
      "sort time:0.003000974655151367\n",
      "prediction time:0.008001565933227539\n",
      "sort time:0.003000497817993164\n",
      "prediction time:0.00800180435180664\n",
      "sort time:0.004000663757324219\n",
      "prediction time:0.007001638412475586\n",
      "sort time:0.004000663757324219\n",
      "prediction time:0.007001638412475586\n",
      "sort time:0.004000663757324219\n",
      "prediction time:0.0070018768310546875\n"
     ]
    },
    {
     "name": "stderr",
     "output_type": "stream",
     "text": [
      "\r",
      "  4%|██▎                                                        | 7899/199549 [02:15<1:11:16, 44.81it/s]"
     ]
    },
    {
     "name": "stdout",
     "output_type": "stream",
     "text": [
      "sort time:0.004000663757324219\n",
      "prediction time:0.008002042770385742\n",
      "sort time:0.0030012130737304688\n",
      "prediction time:0.009002208709716797\n",
      "sort time:0.003000974655151367\n",
      "prediction time:0.0070018768310546875\n",
      "sort time:0.0030012130737304688\n",
      "prediction time:0.00800180435180664\n",
      "sort time:0.004000663757324219\n",
      "prediction time:0.009001970291137695\n",
      "sort time:0.0030007362365722656\n",
      "prediction time:0.007001638412475586\n",
      "sort time:0.003000497817993164\n",
      "prediction time:0.009002447128295898\n",
      "sort time:0.004001140594482422\n",
      "prediction time:0.00900125503540039\n",
      "sort time:0.003000974655151367\n",
      "prediction time:0.0070018768310546875\n"
     ]
    },
    {
     "name": "stderr",
     "output_type": "stream",
     "text": [
      "  4%|██▍                                                          | 7910/199549 [02:16<54:55, 58.15it/s]"
     ]
    },
    {
     "name": "stdout",
     "output_type": "stream",
     "text": [
      "sort time:0.004000663757324219\n",
      "prediction time:0.008002042770385742\n",
      "sort time:0.004000663757324219\n",
      "prediction time:0.008001565933227539\n",
      "sort time:0.003000974655151367\n",
      "prediction time:0.008002042770385742\n",
      "sort time:0.0030012130737304688\n",
      "prediction time:0.00800180435180664\n",
      "sort time:0.0030007362365722656\n",
      "prediction time:0.0070018768310546875\n",
      "sort time:0.00400090217590332\n",
      "prediction time:0.008002042770385742\n",
      "sort time:0.004000663757324219\n"
     ]
    },
    {
     "name": "stderr",
     "output_type": "stream",
     "text": [
      "\n"
     ]
    },
    {
     "ename": "KeyboardInterrupt",
     "evalue": "",
     "output_type": "error",
     "traceback": [
      "\u001b[1;31m---------------------------------------------------------------------------\u001b[0m",
      "\u001b[1;31mKeyboardInterrupt\u001b[0m                         Traceback (most recent call last)",
      "\u001b[1;32m<ipython-input-42-4218b203efff>\u001b[0m in \u001b[0;36m<module>\u001b[1;34m\u001b[0m\n\u001b[0;32m      1\u001b[0m \u001b[0mstart\u001b[0m \u001b[1;33m=\u001b[0m \u001b[0mtime\u001b[0m\u001b[1;33m.\u001b[0m\u001b[0mtime\u001b[0m\u001b[1;33m(\u001b[0m\u001b[1;33m)\u001b[0m\u001b[1;33m\u001b[0m\u001b[1;33m\u001b[0m\u001b[0m\n\u001b[1;32m----> 2\u001b[1;33m \u001b[0mrecommendations\u001b[0m \u001b[1;33m=\u001b[0m \u001b[0mrecommend_properties\u001b[0m\u001b[1;33m(\u001b[0m\u001b[0mmodel\u001b[0m\u001b[1;33m,\u001b[0m \u001b[0mpreprocessed_test\u001b[0m\u001b[1;33m)\u001b[0m\u001b[1;33m\u001b[0m\u001b[1;33m\u001b[0m\u001b[0m\n\u001b[0m\u001b[0;32m      3\u001b[0m \u001b[0mend\u001b[0m \u001b[1;33m=\u001b[0m \u001b[0mtime\u001b[0m\u001b[1;33m.\u001b[0m\u001b[0mtime\u001b[0m\u001b[1;33m(\u001b[0m\u001b[1;33m)\u001b[0m\u001b[1;33m\u001b[0m\u001b[1;33m\u001b[0m\u001b[0m\n\u001b[0;32m      4\u001b[0m \u001b[0mprint\u001b[0m\u001b[1;33m(\u001b[0m\u001b[1;34mf'Total Time for validation prediction:{end - start}'\u001b[0m\u001b[1;33m)\u001b[0m\u001b[1;33m\u001b[0m\u001b[1;33m\u001b[0m\u001b[0m\n",
      "\u001b[1;32m<ipython-input-40-96d0e873db7d>\u001b[0m in \u001b[0;36mrecommend_properties\u001b[1;34m(model, data)\u001b[0m\n\u001b[0;32m      4\u001b[0m     \u001b[1;32mfor\u001b[0m \u001b[0mgroup_name\u001b[0m\u001b[1;33m,\u001b[0m \u001b[0mgroup\u001b[0m \u001b[1;32min\u001b[0m \u001b[0mtqdm\u001b[0m\u001b[1;33m(\u001b[0m\u001b[0mgrouped_data\u001b[0m\u001b[1;33m)\u001b[0m\u001b[1;33m:\u001b[0m\u001b[1;33m\u001b[0m\u001b[1;33m\u001b[0m\u001b[0m\n\u001b[0;32m      5\u001b[0m         \u001b[0ms\u001b[0m \u001b[1;33m=\u001b[0m \u001b[0mtime\u001b[0m\u001b[1;33m.\u001b[0m\u001b[0mtime\u001b[0m\u001b[1;33m(\u001b[0m\u001b[1;33m)\u001b[0m\u001b[1;33m\u001b[0m\u001b[1;33m\u001b[0m\u001b[0m\n\u001b[1;32m----> 6\u001b[1;33m         \u001b[0mscores\u001b[0m \u001b[1;33m=\u001b[0m \u001b[0mmodel\u001b[0m\u001b[1;33m.\u001b[0m\u001b[0mpredict\u001b[0m\u001b[1;33m(\u001b[0m\u001b[0mgroup\u001b[0m\u001b[1;33m.\u001b[0m\u001b[0mloc\u001b[0m\u001b[1;33m[\u001b[0m\u001b[1;33m:\u001b[0m\u001b[1;33m,\u001b[0m \u001b[1;33m~\u001b[0m\u001b[0mgroup\u001b[0m\u001b[1;33m.\u001b[0m\u001b[0mcolumns\u001b[0m\u001b[1;33m.\u001b[0m\u001b[0misin\u001b[0m\u001b[1;33m(\u001b[0m\u001b[1;33m[\u001b[0m\u001b[1;34m'srch_id'\u001b[0m\u001b[1;33m]\u001b[0m\u001b[1;33m)\u001b[0m\u001b[1;33m]\u001b[0m\u001b[1;33m)\u001b[0m\u001b[1;33m\u001b[0m\u001b[1;33m\u001b[0m\u001b[0m\n\u001b[0m\u001b[0;32m      7\u001b[0m         \u001b[0me\u001b[0m \u001b[1;33m=\u001b[0m \u001b[0mtime\u001b[0m\u001b[1;33m.\u001b[0m\u001b[0mtime\u001b[0m\u001b[1;33m(\u001b[0m\u001b[1;33m)\u001b[0m\u001b[1;33m\u001b[0m\u001b[1;33m\u001b[0m\u001b[0m\n\u001b[0;32m      8\u001b[0m         \u001b[0mprint\u001b[0m\u001b[1;33m(\u001b[0m\u001b[1;34mf'prediction time:{e-s}'\u001b[0m\u001b[1;33m)\u001b[0m\u001b[1;33m\u001b[0m\u001b[1;33m\u001b[0m\u001b[0m\n",
      "\u001b[1;32m~\\miniconda3\\envs\\DMT\\lib\\site-packages\\xgboost\\sklearn.py\u001b[0m in \u001b[0;36mpredict\u001b[1;34m(self, X, output_margin, ntree_limit, validate_features, base_margin, iteration_range)\u001b[0m\n\u001b[0;32m    877\u001b[0m         )\n\u001b[0;32m    878\u001b[0m         \u001b[0miteration_range\u001b[0m \u001b[1;33m=\u001b[0m \u001b[0mself\u001b[0m\u001b[1;33m.\u001b[0m\u001b[0m_get_iteration_range\u001b[0m\u001b[1;33m(\u001b[0m\u001b[0miteration_range\u001b[0m\u001b[1;33m)\u001b[0m\u001b[1;33m\u001b[0m\u001b[1;33m\u001b[0m\u001b[0m\n\u001b[1;32m--> 879\u001b[1;33m         \u001b[1;32mif\u001b[0m \u001b[0mself\u001b[0m\u001b[1;33m.\u001b[0m\u001b[0m_can_use_inplace_predict\u001b[0m\u001b[1;33m(\u001b[0m\u001b[1;33m)\u001b[0m\u001b[1;33m:\u001b[0m\u001b[1;33m\u001b[0m\u001b[1;33m\u001b[0m\u001b[0m\n\u001b[0m\u001b[0;32m    880\u001b[0m             \u001b[1;32mtry\u001b[0m\u001b[1;33m:\u001b[0m\u001b[1;33m\u001b[0m\u001b[1;33m\u001b[0m\u001b[0m\n\u001b[0;32m    881\u001b[0m                 predts = self.get_booster().inplace_predict(\n",
      "\u001b[1;32m~\\miniconda3\\envs\\DMT\\lib\\site-packages\\xgboost\\sklearn.py\u001b[0m in \u001b[0;36m_can_use_inplace_predict\u001b[1;34m(self)\u001b[0m\n\u001b[0;32m    809\u001b[0m         \u001b[1;31m# Inplace predict doesn't handle as many data types as DMatrix, but it's\u001b[0m\u001b[1;33m\u001b[0m\u001b[1;33m\u001b[0m\u001b[1;33m\u001b[0m\u001b[0m\n\u001b[0;32m    810\u001b[0m         \u001b[1;31m# sufficient for dask interface where input is simpiler.\u001b[0m\u001b[1;33m\u001b[0m\u001b[1;33m\u001b[0m\u001b[1;33m\u001b[0m\u001b[0m\n\u001b[1;32m--> 811\u001b[1;33m         \u001b[0mpredictor\u001b[0m \u001b[1;33m=\u001b[0m \u001b[0mself\u001b[0m\u001b[1;33m.\u001b[0m\u001b[0mget_params\u001b[0m\u001b[1;33m(\u001b[0m\u001b[1;33m)\u001b[0m\u001b[1;33m.\u001b[0m\u001b[0mget\u001b[0m\u001b[1;33m(\u001b[0m\u001b[1;34m\"predictor\"\u001b[0m\u001b[1;33m,\u001b[0m \u001b[1;32mNone\u001b[0m\u001b[1;33m)\u001b[0m\u001b[1;33m\u001b[0m\u001b[1;33m\u001b[0m\u001b[0m\n\u001b[0m\u001b[0;32m    812\u001b[0m         if (\n\u001b[0;32m    813\u001b[0m             \u001b[1;32mnot\u001b[0m \u001b[0mself\u001b[0m\u001b[1;33m.\u001b[0m\u001b[0menable_categorical\u001b[0m\u001b[1;33m\u001b[0m\u001b[1;33m\u001b[0m\u001b[0m\n",
      "\u001b[1;32m~\\miniconda3\\envs\\DMT\\lib\\site-packages\\xgboost\\sklearn.py\u001b[0m in \u001b[0;36mget_params\u001b[1;34m(self, deep)\u001b[0m\n\u001b[0;32m    503\u001b[0m         \u001b[0mcp\u001b[0m \u001b[1;33m=\u001b[0m \u001b[0mcopy\u001b[0m\u001b[1;33m.\u001b[0m\u001b[0mcopy\u001b[0m\u001b[1;33m(\u001b[0m\u001b[0mself\u001b[0m\u001b[1;33m)\u001b[0m\u001b[1;33m\u001b[0m\u001b[1;33m\u001b[0m\u001b[0m\n\u001b[0;32m    504\u001b[0m         \u001b[0mcp\u001b[0m\u001b[1;33m.\u001b[0m\u001b[0m__class__\u001b[0m \u001b[1;33m=\u001b[0m \u001b[0mcp\u001b[0m\u001b[1;33m.\u001b[0m\u001b[0m__class__\u001b[0m\u001b[1;33m.\u001b[0m\u001b[0m__bases__\u001b[0m\u001b[1;33m[\u001b[0m\u001b[1;36m0\u001b[0m\u001b[1;33m]\u001b[0m\u001b[1;33m\u001b[0m\u001b[1;33m\u001b[0m\u001b[0m\n\u001b[1;32m--> 505\u001b[1;33m         \u001b[0mparams\u001b[0m\u001b[1;33m.\u001b[0m\u001b[0mupdate\u001b[0m\u001b[1;33m(\u001b[0m\u001b[0mcp\u001b[0m\u001b[1;33m.\u001b[0m\u001b[0m__class__\u001b[0m\u001b[1;33m.\u001b[0m\u001b[0mget_params\u001b[0m\u001b[1;33m(\u001b[0m\u001b[0mcp\u001b[0m\u001b[1;33m,\u001b[0m \u001b[0mdeep\u001b[0m\u001b[1;33m)\u001b[0m\u001b[1;33m)\u001b[0m\u001b[1;33m\u001b[0m\u001b[1;33m\u001b[0m\u001b[0m\n\u001b[0m\u001b[0;32m    506\u001b[0m         \u001b[1;31m# if kwargs is a dict, update params accordingly\u001b[0m\u001b[1;33m\u001b[0m\u001b[1;33m\u001b[0m\u001b[1;33m\u001b[0m\u001b[0m\n\u001b[0;32m    507\u001b[0m         \u001b[1;32mif\u001b[0m \u001b[0mhasattr\u001b[0m\u001b[1;33m(\u001b[0m\u001b[0mself\u001b[0m\u001b[1;33m,\u001b[0m \u001b[1;34m\"kwargs\"\u001b[0m\u001b[1;33m)\u001b[0m \u001b[1;32mand\u001b[0m \u001b[0misinstance\u001b[0m\u001b[1;33m(\u001b[0m\u001b[0mself\u001b[0m\u001b[1;33m.\u001b[0m\u001b[0mkwargs\u001b[0m\u001b[1;33m,\u001b[0m \u001b[0mdict\u001b[0m\u001b[1;33m)\u001b[0m\u001b[1;33m:\u001b[0m\u001b[1;33m\u001b[0m\u001b[1;33m\u001b[0m\u001b[0m\n",
      "\u001b[1;32m~\\miniconda3\\envs\\DMT\\lib\\site-packages\\xgboost\\sklearn.py\u001b[0m in \u001b[0;36mget_params\u001b[1;34m(self, deep)\u001b[0m\n\u001b[0;32m    522\u001b[0m         \u001b[1;31m# Get internal parameter values\u001b[0m\u001b[1;33m\u001b[0m\u001b[1;33m\u001b[0m\u001b[1;33m\u001b[0m\u001b[0m\n\u001b[0;32m    523\u001b[0m         \u001b[1;32mtry\u001b[0m\u001b[1;33m:\u001b[0m\u001b[1;33m\u001b[0m\u001b[1;33m\u001b[0m\u001b[0m\n\u001b[1;32m--> 524\u001b[1;33m             \u001b[0mconfig\u001b[0m \u001b[1;33m=\u001b[0m \u001b[0mjson\u001b[0m\u001b[1;33m.\u001b[0m\u001b[0mloads\u001b[0m\u001b[1;33m(\u001b[0m\u001b[0mself\u001b[0m\u001b[1;33m.\u001b[0m\u001b[0mget_booster\u001b[0m\u001b[1;33m(\u001b[0m\u001b[1;33m)\u001b[0m\u001b[1;33m.\u001b[0m\u001b[0msave_config\u001b[0m\u001b[1;33m(\u001b[0m\u001b[1;33m)\u001b[0m\u001b[1;33m)\u001b[0m\u001b[1;33m\u001b[0m\u001b[1;33m\u001b[0m\u001b[0m\n\u001b[0m\u001b[0;32m    525\u001b[0m             \u001b[0mstack\u001b[0m \u001b[1;33m=\u001b[0m \u001b[1;33m[\u001b[0m\u001b[0mconfig\u001b[0m\u001b[1;33m]\u001b[0m\u001b[1;33m\u001b[0m\u001b[1;33m\u001b[0m\u001b[0m\n\u001b[0;32m    526\u001b[0m             \u001b[0minternal\u001b[0m \u001b[1;33m=\u001b[0m \u001b[1;33m{\u001b[0m\u001b[1;33m}\u001b[0m\u001b[1;33m\u001b[0m\u001b[1;33m\u001b[0m\u001b[0m\n",
      "\u001b[1;32m~\\miniconda3\\envs\\DMT\\lib\\site-packages\\xgboost\\core.py\u001b[0m in \u001b[0;36msave_config\u001b[1;34m(self)\u001b[0m\n\u001b[0;32m   1502\u001b[0m             \u001b[0mself\u001b[0m\u001b[1;33m.\u001b[0m\u001b[0mhandle\u001b[0m\u001b[1;33m,\u001b[0m\u001b[1;33m\u001b[0m\u001b[1;33m\u001b[0m\u001b[0m\n\u001b[0;32m   1503\u001b[0m             \u001b[0mctypes\u001b[0m\u001b[1;33m.\u001b[0m\u001b[0mbyref\u001b[0m\u001b[1;33m(\u001b[0m\u001b[0mlength\u001b[0m\u001b[1;33m)\u001b[0m\u001b[1;33m,\u001b[0m\u001b[1;33m\u001b[0m\u001b[1;33m\u001b[0m\u001b[0m\n\u001b[1;32m-> 1504\u001b[1;33m             ctypes.byref(json_string)))\n\u001b[0m\u001b[0;32m   1505\u001b[0m         \u001b[0mjson_string\u001b[0m \u001b[1;33m=\u001b[0m \u001b[0mjson_string\u001b[0m\u001b[1;33m.\u001b[0m\u001b[0mvalue\u001b[0m\u001b[1;33m.\u001b[0m\u001b[0mdecode\u001b[0m\u001b[1;33m(\u001b[0m\u001b[1;33m)\u001b[0m  \u001b[1;31m# pylint: disable=no-member\u001b[0m\u001b[1;33m\u001b[0m\u001b[1;33m\u001b[0m\u001b[0m\n\u001b[0;32m   1506\u001b[0m         \u001b[1;32mreturn\u001b[0m \u001b[0mjson_string\u001b[0m\u001b[1;33m\u001b[0m\u001b[1;33m\u001b[0m\u001b[0m\n",
      "\u001b[1;31mKeyboardInterrupt\u001b[0m: "
     ]
    }
   ],
   "source": [
    "start = time.time()\n",
    "recommendations = recommend_properties(model, preprocessed_test)\n",
    "end = time.time()\n",
    "print(f'Total Time for validation prediction:{end - start}')"
   ]
  },
  {
   "cell_type": "code",
   "execution_count": null,
   "id": "9a7b31af",
   "metadata": {},
   "outputs": [],
   "source": []
  },
  {
   "cell_type": "code",
   "execution_count": null,
   "id": "90b6a9d0",
   "metadata": {},
   "outputs": [],
   "source": [
    "X_test"
   ]
  },
  {
   "cell_type": "code",
   "execution_count": null,
   "id": "d59ed1b4",
   "metadata": {},
   "outputs": [],
   "source": []
  }
 ],
 "metadata": {
  "kernelspec": {
   "display_name": "Python 3",
   "language": "python",
   "name": "python3"
  },
  "language_info": {
   "codemirror_mode": {
    "name": "ipython",
    "version": 3
   },
   "file_extension": ".py",
   "mimetype": "text/x-python",
   "name": "python",
   "nbconvert_exporter": "python",
   "pygments_lexer": "ipython3",
   "version": "3.6.13"
  }
 },
 "nbformat": 4,
 "nbformat_minor": 5
}
