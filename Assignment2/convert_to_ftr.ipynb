{
 "cells": [
  {
   "cell_type": "code",
   "execution_count": 2,
   "id": "8205966c",
   "metadata": {},
   "outputs": [],
   "source": [
    "import pandas as pd"
   ]
  },
  {
   "cell_type": "code",
   "execution_count": 3,
   "id": "269b82de",
   "metadata": {},
   "outputs": [],
   "source": [
    "import feather "
   ]
  },
  {
   "cell_type": "code",
   "execution_count": 8,
   "id": "9051dc73",
   "metadata": {},
   "outputs": [],
   "source": [
    "df = pd.read_csv(\"train.csv\")"
   ]
  },
  {
   "cell_type": "code",
   "execution_count": 10,
   "id": "baf5eba7",
   "metadata": {},
   "outputs": [],
   "source": [
    "df.to_feather(\"train.ftr\")"
   ]
  },
  {
   "cell_type": "code",
   "execution_count": 4,
   "id": "1b5825b8",
   "metadata": {},
   "outputs": [],
   "source": [
    "fd = pd.read_csv(\"test.csv\")"
   ]
  },
  {
   "cell_type": "code",
   "execution_count": 5,
   "id": "b32c7232",
   "metadata": {},
   "outputs": [],
   "source": [
    "fd.to_feather(\"test.csv\")"
   ]
  },
  {
   "cell_type": "code",
   "execution_count": null,
   "id": "b8a0f355",
   "metadata": {},
   "outputs": [],
   "source": []
  }
 ],
 "metadata": {
  "kernelspec": {
   "display_name": "Python 3 (ipykernel)",
   "language": "python",
   "name": "python3"
  },
  "language_info": {
   "codemirror_mode": {
    "name": "ipython",
    "version": 3
   },
   "file_extension": ".py",
   "mimetype": "text/x-python",
   "name": "python",
   "nbconvert_exporter": "python",
   "pygments_lexer": "ipython3",
   "version": "3.9.7"
  }
 },
 "nbformat": 4,
 "nbformat_minor": 5
}
